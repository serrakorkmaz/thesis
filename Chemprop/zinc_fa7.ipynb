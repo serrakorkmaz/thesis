{
 "cells": [
  {
   "cell_type": "code",
   "execution_count": 1,
   "id": "6192b6bb-dd6f-43c8-9752-05f9de1700b4",
   "metadata": {},
   "outputs": [
    {
     "name": "stderr",
     "output_type": "stream",
     "text": [
      "/home/aih/serra.korkmaz/miniconda3/envs/saturn/lib/python3.11/site-packages/tqdm/auto.py:21: TqdmWarning: IProgress not found. Please update jupyter and ipywidgets. See https://ipywidgets.readthedocs.io/en/stable/user_install.html\n",
      "  from .autonotebook import tqdm as notebook_tqdm\n",
      "2025-03-12 00:31:21,644\tINFO util.py:154 -- Missing packages: ['ipywidgets']. Run `pip install -U ipywidgets`, then restart the notebook server for rich notebook output.\n",
      "2025-03-12 00:31:21,944\tINFO util.py:154 -- Missing packages: ['ipywidgets']. Run `pip install -U ipywidgets`, then restart the notebook server for rich notebook output.\n",
      "2025-03-12 00:31:22,362\tINFO util.py:154 -- Missing packages: ['ipywidgets']. Run `pip install -U ipywidgets`, then restart the notebook server for rich notebook output.\n"
     ]
    }
   ],
   "source": [
    "from pathlib import Path\n",
    "\n",
    "import pandas as pd\n",
    "from lightning import pytorch as pl\n",
    "import ray\n",
    "from ray import tune\n",
    "from ray.train import CheckpointConfig, RunConfig, ScalingConfig\n",
    "from ray.train.lightning import (RayDDPStrategy, RayLightningEnvironment,\n",
    "                                 RayTrainReportCallback, prepare_trainer)\n",
    "from ray.train.torch import TorchTrainer\n",
    "from ray.tune.search.hyperopt import HyperOptSearch\n",
    "from ray.tune.search.optuna import OptunaSearch\n",
    "from ray.tune.schedulers import FIFOScheduler\n",
    "\n",
    "from chemprop import data, featurizers, models, nn"
   ]
  },
  {
   "cell_type": "code",
   "execution_count": 2,
   "id": "afed6433-23c1-499c-9c56-03c725f26577",
   "metadata": {},
   "outputs": [],
   "source": [
    "chemprop_dir = Path.cwd().parent\n",
    "train_path = \"/home/aih/serra.korkmaz/projects/saturn/SurogateModel/training_data_4sm_zinc/train_data_fa7.csv\"\n",
    "test_path = \"/home/aih/serra.korkmaz/projects/saturn/SurogateModel/training_data_4sm_zinc/test_data_fa7.csv\"\n",
    "num_workers = 0 # number of workers for dataloader. 0 means using main process for data loading\n",
    "smiles_column = 'smiles' # name of the column containing SMILES strings\n",
    "target_columns = ['value'] # list of names of the columns containing targets\n",
    "\n",
    "hpopt_save_dir = Path.cwd() / \"hpopt_fa7_zinc\" # directory to save hyperopt results\n",
    "hpopt_save_dir.mkdir(exist_ok=True)"
   ]
  },
  {
   "cell_type": "code",
   "execution_count": 3,
   "id": "79b9963b-a4e2-4cd8-b122-d379814088b9",
   "metadata": {},
   "outputs": [],
   "source": [
    "df_train = pd.read_csv(train_path)\n",
    "df_test = pd.read_csv(test_path)"
   ]
  },
  {
   "cell_type": "code",
   "execution_count": 4,
   "id": "2c1c3921-b3da-4341-8140-74cf0ecafad7",
   "metadata": {},
   "outputs": [],
   "source": [
    "# Extract SMILES and target values\n",
    "train_smis = df_train[smiles_column].values\n",
    "train_ys = df_train[target_columns].values\n",
    "\n",
    "test_smis = df_test[smiles_column].values\n",
    "test_ys = df_test[target_columns].values\n",
    "\n",
    "# Convert data to MoleculeDatapoint format\n",
    "train_data = [data.MoleculeDatapoint.from_smi(smi, y) for smi, y in zip(train_smis, train_ys)]\n",
    "test_data = [data.MoleculeDatapoint.from_smi(smi, y) for smi, y in zip(test_smis, test_ys)]\n"
   ]
  },
  {
   "cell_type": "code",
   "execution_count": 5,
   "id": "bbc5e27a-cfbc-4181-89d3-83b27785fcf8",
   "metadata": {},
   "outputs": [],
   "source": [
    "# Initialize featurizer\n",
    "featurizer = featurizers.SimpleMoleculeMolGraphFeaturizer()\n",
    "\n",
    "# Create training dataset\n",
    "train_dset = data.MoleculeDataset(train_data, featurizer)\n",
    "scaler = train_dset.normalize_targets()\n",
    "\n",
    "# Split validation set from training data (80% train, 20% validation)\n",
    "split_idx = int(len(train_data) * 0.8)\n",
    "val_data = train_data[split_idx:]\n",
    "train_data = train_data[:split_idx]\n",
    "\n",
    "# Create validation and test datasets\n",
    "val_dset = data.MoleculeDataset(val_data, featurizer)\n",
    "val_dset.normalize_targets(scaler)\n",
    "\n",
    "test_dset = data.MoleculeDataset(test_data, featurizer)"
   ]
  },
  {
   "cell_type": "code",
   "execution_count": 6,
   "id": "c0571af4-13e8-4c32-add1-bc9dd10df31e",
   "metadata": {},
   "outputs": [],
   "source": [
    "def train_model(config, train_dset, val_dset, num_workers, scaler):\n",
    "\n",
    "    # config is a dictionary containing hyperparameters used for the trial\n",
    "    depth = int(config[\"depth\"])\n",
    "    ffn_hidden_dim = int(config[\"ffn_hidden_dim\"])\n",
    "    ffn_num_layers = int(config[\"ffn_num_layers\"])\n",
    "    message_hidden_dim = int(config[\"message_hidden_dim\"])\n",
    "\n",
    "    train_loader = data.build_dataloader(train_dset, num_workers=num_workers, shuffle=True)\n",
    "    val_loader = data.build_dataloader(val_dset, num_workers=num_workers, shuffle=False)\n",
    "\n",
    "    mp = nn.BondMessagePassing(d_h=message_hidden_dim, depth=depth)\n",
    "    agg = nn.MeanAggregation()\n",
    "    output_transform = nn.UnscaleTransform.from_standard_scaler(scaler)\n",
    "    ffn = nn.RegressionFFN(output_transform=output_transform, input_dim=message_hidden_dim, hidden_dim=ffn_hidden_dim, n_layers=ffn_num_layers)\n",
    "    batch_norm = True\n",
    "    metric_list = [nn.metrics.RMSE(), nn.metrics.MAE()]\n",
    "    model = models.MPNN(mp, agg, ffn, batch_norm, metric_list)\n",
    "\n",
    "    trainer = pl.Trainer(\n",
    "        accelerator=\"auto\",\n",
    "        devices=1,\n",
    "        max_epochs=20, # number of epochs to train for\n",
    "        # below are needed for Ray and Lightning integration\n",
    "        strategy=RayDDPStrategy(),\n",
    "        callbacks=[RayTrainReportCallback()],\n",
    "        plugins=[RayLightningEnvironment()],\n",
    "    )\n",
    "\n",
    "    trainer = prepare_trainer(trainer)\n",
    "    trainer.fit(model, train_loader, val_loader)"
   ]
  },
  {
   "cell_type": "code",
   "execution_count": 7,
   "id": "00dc82d6-6d1d-489c-802a-ae0a223867dc",
   "metadata": {},
   "outputs": [],
   "source": [
    "search_space = {\n",
    "    \"depth\": tune.qrandint(lower=2, upper=6, q=1),\n",
    "    \"ffn_hidden_dim\": tune.qrandint(lower=300, upper=2400, q=100),\n",
    "    \"ffn_num_layers\": tune.qrandint(lower=1, upper=3, q=1),\n",
    "    \"message_hidden_dim\": tune.qrandint(lower=300, upper=2400, q=100),\n",
    "}"
   ]
  },
  {
   "cell_type": "code",
   "execution_count": 8,
   "id": "c406b1c1-394a-43f0-be69-3fe9b9d593a4",
   "metadata": {},
   "outputs": [
    {
     "data": {
      "text/html": [
       "<div class=\"tuneStatus\">\n",
       "  <div style=\"display: flex;flex-direction: row\">\n",
       "    <div style=\"display: flex;flex-direction: column;\">\n",
       "      <h3>Tune Status</h3>\n",
       "      <table>\n",
       "<tbody>\n",
       "<tr><td>Current time:</td><td>2025-03-12 00:37:23</td></tr>\n",
       "<tr><td>Running for: </td><td>00:05:03.62        </td></tr>\n",
       "<tr><td>Memory:      </td><td>65.0/755.0 GiB     </td></tr>\n",
       "</tbody>\n",
       "</table>\n",
       "    </div>\n",
       "    <div class=\"vDivider\"></div>\n",
       "    <div class=\"systemInfo\">\n",
       "      <h3>System Info</h3>\n",
       "      Using FIFO scheduling algorithm.<br>Logical resource usage: 2.0/96 CPUs, 0/0 GPUs\n",
       "    </div>\n",
       "    \n",
       "  </div>\n",
       "  <div class=\"hDivider\"></div>\n",
       "  <div class=\"trialStatus\">\n",
       "    <h3>Trial Status</h3>\n",
       "    <table>\n",
       "<thead>\n",
       "<tr><th>Trial name           </th><th>status    </th><th>loc                </th><th style=\"text-align: right;\">  train_loop_config/de\n",
       "pth</th><th style=\"text-align: right;\">     train_loop_config/ff\n",
       "n_hidden_dim</th><th style=\"text-align: right;\">  train_loop_config/ff\n",
       "n_num_layers</th><th style=\"text-align: right;\">    train_loop_config/me\n",
       "ssage_hidden_dim</th><th style=\"text-align: right;\">  iter</th><th style=\"text-align: right;\">  total time (s)</th><th style=\"text-align: right;\">  train_loss</th><th style=\"text-align: right;\">  train_loss_step</th><th style=\"text-align: right;\">  val/rmse</th></tr>\n",
       "</thead>\n",
       "<tbody>\n",
       "<tr><td>TorchTrainer_9c3b6b9f</td><td>TERMINATED</td><td>10.233.0.55:2734610</td><td style=\"text-align: right;\">2</td><td style=\"text-align: right;\">2000</td><td style=\"text-align: right;\">2</td><td style=\"text-align: right;\">500</td><td style=\"text-align: right;\">    20</td><td style=\"text-align: right;\">         291.301</td><td style=\"text-align: right;\">    0.178102</td><td style=\"text-align: right;\">         0.197077</td><td style=\"text-align: right;\">  0.382774</td></tr>\n",
       "<tr><td>TorchTrainer_5a7e0717</td><td>TERMINATED</td><td>10.233.0.55:2734850</td><td style=\"text-align: right;\">2</td><td style=\"text-align: right;\">2200</td><td style=\"text-align: right;\">2</td><td style=\"text-align: right;\">400</td><td style=\"text-align: right;\">    20</td><td style=\"text-align: right;\">         260.441</td><td style=\"text-align: right;\">    0.195678</td><td style=\"text-align: right;\">         0.203205</td><td style=\"text-align: right;\">  0.406492</td></tr>\n",
       "</tbody>\n",
       "</table>\n",
       "  </div>\n",
       "</div>\n",
       "<style>\n",
       ".tuneStatus {\n",
       "  color: var(--jp-ui-font-color1);\n",
       "}\n",
       ".tuneStatus .systemInfo {\n",
       "  display: flex;\n",
       "  flex-direction: column;\n",
       "}\n",
       ".tuneStatus td {\n",
       "  white-space: nowrap;\n",
       "}\n",
       ".tuneStatus .trialStatus {\n",
       "  display: flex;\n",
       "  flex-direction: column;\n",
       "}\n",
       ".tuneStatus h3 {\n",
       "  font-weight: bold;\n",
       "}\n",
       ".tuneStatus .hDivider {\n",
       "  border-bottom-width: var(--jp-border-width);\n",
       "  border-bottom-color: var(--jp-border-color0);\n",
       "  border-bottom-style: solid;\n",
       "}\n",
       ".tuneStatus .vDivider {\n",
       "  border-left-width: var(--jp-border-width);\n",
       "  border-left-color: var(--jp-border-color0);\n",
       "  border-left-style: solid;\n",
       "  margin: 0.5em 1em 0.5em 1em;\n",
       "}\n",
       "</style>\n"
      ],
      "text/plain": [
       "<IPython.core.display.HTML object>"
      ]
     },
     "metadata": {},
     "output_type": "display_data"
    },
    {
     "name": "stderr",
     "output_type": "stream",
     "text": [
      "\u001b[36m(TorchTrainer pid=2734610)\u001b[0m Started distributed worker processes: \n",
      "\u001b[36m(TorchTrainer pid=2734610)\u001b[0m - (node_id=8ef1e3bc9f521069ce86078c551759efba54d44695801db33cd4ef07, ip=10.233.0.55, pid=2734849) world_rank=0, local_rank=0, node_rank=0\n",
      "\u001b[36m(RayTrainWorker pid=2734849)\u001b[0m Setting up process group for: env:// [rank=0, world_size=1]\n",
      "\u001b[36m(RayTrainWorker pid=2734849)\u001b[0m /home/aih/serra.korkmaz/miniconda3/envs/saturn/lib/python3.11/site-packages/ray/train/lightning/_lightning_utils.py:262: This API is deprecated and may be removed in future Ray releases. You could suppress this warning by setting env variable PYTHONWARNINGS=\"ignore::DeprecationWarning\"\n",
      "\u001b[36m(RayTrainWorker pid=2734849)\u001b[0m `get_trial_name` is deprecated because the concept of a `Trial` will soon be removed in Ray Train.Ray Train will no longer assume that it's running within a Ray Tune `Trial` in the future. See this issue for more context and migration options: https://github.com/ray-project/ray/issues/49454. Disable these warnings by setting the environment variable: RAY_TRAIN_ENABLE_V2_MIGRATION_WARNINGS=0\n",
      "\u001b[36m(RayTrainWorker pid=2734849)\u001b[0m GPU available: False, used: False\n",
      "\u001b[36m(RayTrainWorker pid=2734849)\u001b[0m TPU available: False, using: 0 TPU cores\n",
      "\u001b[36m(RayTrainWorker pid=2734849)\u001b[0m HPU available: False, using: 0 HPUs\n",
      "\u001b[36m(RayTrainWorker pid=2734849)\u001b[0m Loading `train_dataloader` to estimate number of stepping batches.\n",
      "\u001b[36m(RayTrainWorker pid=2734849)\u001b[0m /home/aih/serra.korkmaz/miniconda3/envs/saturn/lib/python3.11/site-packages/lightning/pytorch/trainer/connectors/data_connector.py:425: The 'train_dataloader' does not have many workers which may be a bottleneck. Consider increasing the value of the `num_workers` argument` to `num_workers=3` in the `DataLoader` to improve performance.\n",
      "\u001b[36m(RayTrainWorker pid=2734849)\u001b[0m /home/aih/serra.korkmaz/miniconda3/envs/saturn/lib/python3.11/site-packages/lightning/pytorch/loops/fit_loop.py:310: The number of training batches (28) is smaller than the logging interval Trainer(log_every_n_steps=50). Set a lower value for log_every_n_steps if you want to see logs for the training epoch.\n",
      "\u001b[36m(RayTrainWorker pid=2734849)\u001b[0m \n",
      "\u001b[36m(RayTrainWorker pid=2734849)\u001b[0m   | Name            | Type               | Params | Mode \n",
      "\u001b[36m(RayTrainWorker pid=2734849)\u001b[0m ---------------------------------------------------------------\n",
      "\u001b[36m(RayTrainWorker pid=2734849)\u001b[0m 0 | message_passing | BondMessagePassing | 579 K  | train\n",
      "\u001b[36m(RayTrainWorker pid=2734849)\u001b[0m 1 | agg             | MeanAggregation    | 0      | train\n",
      "\u001b[36m(RayTrainWorker pid=2734849)\u001b[0m 2 | bn              | BatchNorm1d        | 1.0 K  | train\n",
      "\u001b[36m(RayTrainWorker pid=2734849)\u001b[0m 3 | predictor       | RegressionFFN      | 5.0 M  | train\n",
      "\u001b[36m(RayTrainWorker pid=2734849)\u001b[0m 4 | X_d_transform   | Identity           | 0      | train\n",
      "\u001b[36m(RayTrainWorker pid=2734849)\u001b[0m 5 | metrics         | ModuleList         | 0      | train\n",
      "\u001b[36m(RayTrainWorker pid=2734849)\u001b[0m ---------------------------------------------------------------\n",
      "\u001b[36m(RayTrainWorker pid=2734849)\u001b[0m 5.6 M     Trainable params\n",
      "\u001b[36m(RayTrainWorker pid=2734849)\u001b[0m 0         Non-trainable params\n",
      "\u001b[36m(RayTrainWorker pid=2734849)\u001b[0m 5.6 M     Total params\n",
      "\u001b[36m(RayTrainWorker pid=2734849)\u001b[0m 22.346    Total estimated model params size (MB)\n",
      "\u001b[36m(RayTrainWorker pid=2734849)\u001b[0m 27        Modules in train mode\n",
      "\u001b[36m(RayTrainWorker pid=2734849)\u001b[0m 0         Modules in eval mode\n"
     ]
    },
    {
     "name": "stdout",
     "output_type": "stream",
     "text": [
      "Sanity Checking DataLoader 0:   0%|          | 0/2 [00:00<?, ?it/s]\n"
     ]
    },
    {
     "name": "stderr",
     "output_type": "stream",
     "text": [
      "\u001b[36m(RayTrainWorker pid=2734849)\u001b[0m /home/aih/serra.korkmaz/miniconda3/envs/saturn/lib/python3.11/site-packages/lightning/pytorch/core/saving.py:363: Skipping 'metrics' parameter because it is not possible to safely dump to YAML.\n",
      "\u001b[36m(RayTrainWorker pid=2734849)\u001b[0m /home/aih/serra.korkmaz/miniconda3/envs/saturn/lib/python3.11/site-packages/lightning/pytorch/trainer/connectors/data_connector.py:425: The 'val_dataloader' does not have many workers which may be a bottleneck. Consider increasing the value of the `num_workers` argument` to `num_workers=3` in the `DataLoader` to improve performance.\n"
     ]
    },
    {
     "name": "stdout",
     "output_type": "stream",
     "text": [
      "Sanity Checking DataLoader 0:  50%|█████     | 1/2 [00:00<00:00,  3.11it/s]\n",
      "Epoch 0:   0%|          | 0/28 [00:00<?, ?it/s]                            \n",
      "Epoch 0:   4%|▎         | 1/28 [00:00<00:12,  2.23it/s, v_num=3.41e+7, train_loss_step=1.050]\n",
      "Epoch 0:   7%|▋         | 2/28 [00:00<00:11,  2.33it/s, v_num=3.41e+7, train_loss_step=0.534]\n",
      "Epoch 0:  11%|█         | 3/28 [00:01<00:10,  2.41it/s, v_num=3.41e+7, train_loss_step=0.819]\n",
      "Epoch 0:  14%|█▍        | 4/28 [00:01<00:09,  2.46it/s, v_num=3.41e+7, train_loss_step=0.819]\n",
      "Epoch 0:  14%|█▍        | 4/28 [00:01<00:09,  2.46it/s, v_num=3.41e+7, train_loss_step=0.449]\n",
      "Epoch 0:  18%|█▊        | 5/28 [00:02<00:09,  2.49it/s, v_num=3.41e+7, train_loss_step=0.521]\n",
      "Epoch 0:  21%|██▏       | 6/28 [00:02<00:08,  2.51it/s, v_num=3.41e+7, train_loss_step=0.668]\n",
      "Epoch 0:  25%|██▌       | 7/28 [00:02<00:08,  2.52it/s, v_num=3.41e+7, train_loss_step=0.442]\n",
      "Epoch 0:  29%|██▊       | 8/28 [00:03<00:07,  2.51it/s, v_num=3.41e+7, train_loss_step=0.692]\n",
      "Epoch 0:  32%|███▏      | 9/28 [00:03<00:07,  2.52it/s, v_num=3.41e+7, train_loss_step=0.570]\n",
      "Epoch 0:  36%|███▌      | 10/28 [00:03<00:07,  2.52it/s, v_num=3.41e+7, train_loss_step=0.540]\n",
      "Epoch 0:  39%|███▉      | 11/28 [00:04<00:06,  2.53it/s, v_num=3.41e+7, train_loss_step=0.529]\n",
      "Epoch 0:  43%|████▎     | 12/28 [00:04<00:06,  2.55it/s, v_num=3.41e+7, train_loss_step=0.550]\n",
      "Epoch 0:  46%|████▋     | 13/28 [00:05<00:05,  2.56it/s, v_num=3.41e+7, train_loss_step=0.943]\n",
      "Epoch 0:  50%|█████     | 14/28 [00:05<00:05,  2.57it/s, v_num=3.41e+7, train_loss_step=0.407]\n",
      "Epoch 0:  54%|█████▎    | 15/28 [00:05<00:05,  2.57it/s, v_num=3.41e+7, train_loss_step=0.531]\n",
      "Epoch 0:  57%|█████▋    | 16/28 [00:06<00:04,  2.56it/s, v_num=3.41e+7, train_loss_step=0.364]\n",
      "Epoch 0:  61%|██████    | 17/28 [00:06<00:04,  2.56it/s, v_num=3.41e+7, train_loss_step=0.527]\n",
      "Epoch 0:  64%|██████▍   | 18/28 [00:07<00:03,  2.56it/s, v_num=3.41e+7, train_loss_step=0.741]\n",
      "Epoch 0:  68%|██████▊   | 19/28 [00:07<00:03,  2.57it/s, v_num=3.41e+7, train_loss_step=0.469]\n"
     ]
    },
    {
     "name": "stderr",
     "output_type": "stream",
     "text": [
      "\u001b[36m(TorchTrainer pid=2734850)\u001b[0m Started distributed worker processes: \n",
      "\u001b[36m(TorchTrainer pid=2734850)\u001b[0m - (node_id=8ef1e3bc9f521069ce86078c551759efba54d44695801db33cd4ef07, ip=10.233.0.55, pid=2735082) world_rank=0, local_rank=0, node_rank=0\n",
      "\u001b[36m(RayTrainWorker pid=2735082)\u001b[0m Setting up process group for: env:// [rank=0, world_size=1]\n"
     ]
    },
    {
     "name": "stdout",
     "output_type": "stream",
     "text": [
      "Epoch 0:  71%|███████▏  | 20/28 [00:07<00:03,  2.57it/s, v_num=3.41e+7, train_loss_step=0.635]\n",
      "Epoch 0:  75%|███████▌  | 21/28 [00:08<00:02,  2.57it/s, v_num=3.41e+7, train_loss_step=0.537]\n",
      "Epoch 0:  79%|███████▊  | 22/28 [00:08<00:02,  2.57it/s, v_num=3.41e+7, train_loss_step=0.592]\n",
      "Epoch 0:  82%|████████▏ | 23/28 [00:08<00:01,  2.58it/s, v_num=3.41e+7, train_loss_step=0.649]\n",
      "Epoch 0:  86%|████████▌ | 24/28 [00:09<00:01,  2.58it/s, v_num=3.41e+7, train_loss_step=0.707]\n",
      "Epoch 0:  89%|████████▉ | 25/28 [00:09<00:01,  2.57it/s, v_num=3.41e+7, train_loss_step=0.560]\n",
      "Epoch 0:  93%|█████████▎| 26/28 [00:10<00:00,  2.58it/s, v_num=3.41e+7, train_loss_step=0.560]\n",
      "Epoch 0:  96%|█████████▋| 27/28 [00:10<00:00,  2.58it/s, v_num=3.41e+7, train_loss_step=0.504]\n",
      "Epoch 0: 100%|██████████| 28/28 [00:10<00:00,  2.60it/s, v_num=3.41e+7, train_loss_step=0.601]\n",
      "Validation: |          | 0/? [00:00<?, ?it/s]\u001b[A\n",
      "Validation:   0%|          | 0/6 [00:00<?, ?it/s]\u001b[A\n",
      "Validation DataLoader 0:   0%|          | 0/6 [00:00<?, ?it/s]\u001b[A\n",
      "\u001b[36m(RayTrainWorker pid=2734849)\u001b[0m \n",
      "Validation DataLoader 0:  17%|█▋        | 1/6 [00:00<00:01,  4.01it/s]\u001b[A\n",
      "\u001b[36m(RayTrainWorker pid=2734849)\u001b[0m \n",
      "Validation DataLoader 0:  33%|███▎      | 2/6 [00:00<00:01,  3.71it/s]\u001b[A\n",
      "\u001b[36m(RayTrainWorker pid=2734849)\u001b[0m \n",
      "Validation DataLoader 0:  50%|█████     | 3/6 [00:00<00:00,  3.53it/s]\u001b[A\n",
      "\u001b[36m(RayTrainWorker pid=2734849)\u001b[0m \n",
      "Validation DataLoader 0:  67%|██████▋   | 4/6 [00:01<00:00,  3.50it/s]\u001b[A\n",
      "\u001b[36m(RayTrainWorker pid=2734849)\u001b[0m \n",
      "Validation DataLoader 0:  83%|████████▎ | 5/6 [00:01<00:00,  3.52it/s]\u001b[A\n",
      "\u001b[36m(RayTrainWorker pid=2734849)\u001b[0m \n",
      "Validation DataLoader 0: 100%|██████████| 6/6 [00:01<00:00,  3.78it/s]\u001b[A\n",
      "Epoch 0: 100%|██████████| 28/28 [00:12<00:00,  2.26it/s, v_num=3.41e+7, train_loss_step=0.601, val_loss=0.830]\n",
      "Epoch 0: 100%|██████████| 28/28 [00:12<00:00,  2.21it/s, v_num=3.41e+7, train_loss_step=0.601, val_loss=0.830, train_loss_epoch=0.596]\n",
      "Epoch 1:   0%|          | 0/28 [00:00<?, ?it/s, v_num=3.41e+7, train_loss_step=0.601, val_loss=0.830, train_loss_epoch=0.596]         \n"
     ]
    },
    {
     "name": "stderr",
     "output_type": "stream",
     "text": [
      "\u001b[36m(RayTrainWorker pid=2734849)\u001b[0m Checkpoint successfully created at: Checkpoint(filesystem=local, path=/ictstr01/home/aih/serra.korkmaz/projects/saturn/hopt/hpopt_fa7_zinc/ray_results/TorchTrainer_2025-03-12_00-32-19/9c3b6b9f/checkpoint_000000)\n",
      "\u001b[36m(RayTrainWorker pid=2735082)\u001b[0m /home/aih/serra.korkmaz/miniconda3/envs/saturn/lib/python3.11/site-packages/ray/train/lightning/_lightning_utils.py:262: This API is deprecated and may be removed in future Ray releases. You could suppress this warning by setting env variable PYTHONWARNINGS=\"ignore::DeprecationWarning\"\n",
      "\u001b[36m(RayTrainWorker pid=2735082)\u001b[0m `get_trial_name` is deprecated because the concept of a `Trial` will soon be removed in Ray Train.Ray Train will no longer assume that it's running within a Ray Tune `Trial` in the future. See this issue for more context and migration options: https://github.com/ray-project/ray/issues/49454. Disable these warnings by setting the environment variable: RAY_TRAIN_ENABLE_V2_MIGRATION_WARNINGS=0\n",
      "\u001b[36m(RayTrainWorker pid=2735082)\u001b[0m GPU available: False, used: False\n",
      "\u001b[36m(RayTrainWorker pid=2735082)\u001b[0m TPU available: False, using: 0 TPU cores\n",
      "\u001b[36m(RayTrainWorker pid=2735082)\u001b[0m HPU available: False, using: 0 HPUs\n",
      "\u001b[36m(RayTrainWorker pid=2735082)\u001b[0m Loading `train_dataloader` to estimate number of stepping batches.\n",
      "\u001b[36m(RayTrainWorker pid=2735082)\u001b[0m /home/aih/serra.korkmaz/miniconda3/envs/saturn/lib/python3.11/site-packages/lightning/pytorch/trainer/connectors/data_connector.py:425: The 'train_dataloader' does not have many workers which may be a bottleneck. Consider increasing the value of the `num_workers` argument` to `num_workers=3` in the `DataLoader` to improve performance.\n",
      "\u001b[36m(RayTrainWorker pid=2735082)\u001b[0m /home/aih/serra.korkmaz/miniconda3/envs/saturn/lib/python3.11/site-packages/lightning/pytorch/loops/fit_loop.py:310: The number of training batches (28) is smaller than the logging interval Trainer(log_every_n_steps=50). Set a lower value for log_every_n_steps if you want to see logs for the training epoch.\n",
      "\u001b[36m(RayTrainWorker pid=2735082)\u001b[0m \n",
      "\u001b[36m(RayTrainWorker pid=2735082)\u001b[0m   | Name            | Type               | Params | Mode \n",
      "\u001b[36m(RayTrainWorker pid=2735082)\u001b[0m ---------------------------------------------------------------\n",
      "\u001b[36m(RayTrainWorker pid=2735082)\u001b[0m 0 | message_passing | BondMessagePassing | 383 K  | train\n",
      "\u001b[36m(RayTrainWorker pid=2735082)\u001b[0m 1 | agg             | MeanAggregation    | 0      | train\n",
      "\u001b[36m(RayTrainWorker pid=2735082)\u001b[0m 2 | bn              | BatchNorm1d        | 800    | train\n",
      "\u001b[36m(RayTrainWorker pid=2735082)\u001b[0m 3 | predictor       | RegressionFFN      | 5.7 M  | train\n",
      "\u001b[36m(RayTrainWorker pid=2735082)\u001b[0m 4 | X_d_transform   | Identity           | 0      | train\n",
      "\u001b[36m(RayTrainWorker pid=2735082)\u001b[0m 5 | metrics         | ModuleList         | 0      | train\n",
      "\u001b[36m(RayTrainWorker pid=2735082)\u001b[0m ---------------------------------------------------------------\n",
      "\u001b[36m(RayTrainWorker pid=2735082)\u001b[0m 6.1 M     Trainable params\n",
      "\u001b[36m(RayTrainWorker pid=2735082)\u001b[0m 0         Non-trainable params\n",
      "\u001b[36m(RayTrainWorker pid=2735082)\u001b[0m 6.1 M     Total params\n",
      "\u001b[36m(RayTrainWorker pid=2735082)\u001b[0m 24.444    Total estimated model params size (MB)\n",
      "\u001b[36m(RayTrainWorker pid=2735082)\u001b[0m 27        Modules in train mode\n",
      "\u001b[36m(RayTrainWorker pid=2735082)\u001b[0m 0         Modules in eval mode\n",
      "\u001b[36m(RayTrainWorker pid=2735082)\u001b[0m /home/aih/serra.korkmaz/miniconda3/envs/saturn/lib/python3.11/site-packages/lightning/pytorch/core/saving.py:363: Skipping 'metrics' parameter because it is not possible to safely dump to YAML.\n",
      "\u001b[36m(RayTrainWorker pid=2735082)\u001b[0m /home/aih/serra.korkmaz/miniconda3/envs/saturn/lib/python3.11/site-packages/lightning/pytorch/trainer/connectors/data_connector.py:425: The 'val_dataloader' does not have many workers which may be a bottleneck. Consider increasing the value of the `num_workers` argument` to `num_workers=3` in the `DataLoader` to improve performance.\n"
     ]
    },
    {
     "name": "stdout",
     "output_type": "stream",
     "text": [
      "Epoch 1:   4%|▎         | 1/28 [00:00<00:11,  2.45it/s, v_num=3.41e+7, train_loss_step=0.549, val_loss=0.830, train_loss_epoch=0.596]\n",
      "Sanity Checking: |          | 0/? [00:00<?, ?it/s]\n",
      "Sanity Checking DataLoader 0:   0%|          | 0/2 [00:00<?, ?it/s]\n",
      "Sanity Checking DataLoader 0:  50%|█████     | 1/2 [00:00<00:00,  3.82it/s]\n",
      "Epoch 1:   7%|▋         | 2/28 [00:00<00:10,  2.44it/s, v_num=3.41e+7, train_loss_step=0.486, val_loss=0.830, train_loss_epoch=0.596]\n",
      "Epoch 0:   0%|          | 0/28 [00:00<?, ?it/s]                            \n",
      "Epoch 1:  11%|█         | 3/28 [00:01<00:10,  2.41it/s, v_num=3.41e+7, train_loss_step=0.359, val_loss=0.830, train_loss_epoch=0.596]\n",
      "Epoch 1:  46%|████▋     | 13/28 [00:05<00:06,  2.34it/s, v_num=3.41e+7, train_loss_step=0.481, val_loss=0.830, train_loss_epoch=0.596]\u001b[32m [repeated 21x across cluster] (Ray deduplicates logs by default. Set RAY_DEDUP_LOGS=0 to disable log deduplication, or see https://docs.ray.io/en/master/ray-observability/user-guides/configure-logging.html#log-deduplication for more options.)\u001b[0m\n",
      "Epoch 0:  86%|████████▌ | 24/28 [00:08<00:01,  2.75it/s, v_num=3.41e+7, train_loss_step=0.611]\n",
      "Epoch 0:  86%|████████▌ | 24/28 [00:08<00:01,  2.75it/s, v_num=3.41e+7, train_loss_step=0.694]\n",
      "Epoch 1:  89%|████████▉ | 25/28 [00:10<00:01,  2.36it/s, v_num=3.41e+7, train_loss_step=0.498, val_loss=0.830, train_loss_epoch=0.596]\u001b[32m [repeated 25x across cluster]\u001b[0m\n",
      "Epoch 0:  93%|█████████▎| 26/28 [00:09<00:00,  2.74it/s, v_num=3.41e+7, train_loss_step=0.555]\n",
      "Epoch 0:  96%|█████████▋| 27/28 [00:09<00:00,  2.74it/s, v_num=3.41e+7, train_loss_step=0.500]\n",
      "Validation: |          | 0/? [00:00<?, ?it/s]\u001b[A\n",
      "Validation:   0%|          | 0/6 [00:00<?, ?it/s]\u001b[A\n",
      "Validation DataLoader 0:   0%|          | 0/6 [00:00<?, ?it/s]\u001b[A\n",
      "\u001b[36m(RayTrainWorker pid=2735082)\u001b[0m \n",
      "Validation DataLoader 0:  17%|█▋        | 1/6 [00:00<00:00,  5.12it/s]\u001b[A\n",
      "\u001b[36m(RayTrainWorker pid=2735082)\u001b[0m \n",
      "Validation DataLoader 0:  33%|███▎      | 2/6 [00:00<00:00,  4.41it/s]\u001b[A\n",
      "\u001b[36m(RayTrainWorker pid=2735082)\u001b[0m \n",
      "Validation DataLoader 0:  50%|█████     | 3/6 [00:00<00:00,  4.17it/s]\u001b[A\n",
      "\u001b[36m(RayTrainWorker pid=2734849)\u001b[0m \n",
      "\u001b[36m(RayTrainWorker pid=2735082)\u001b[0m \n",
      "\u001b[36m(RayTrainWorker pid=2734849)\u001b[0m \n",
      "\u001b[36m(RayTrainWorker pid=2735082)\u001b[0m \n",
      "\u001b[36m(RayTrainWorker pid=2734849)\u001b[0m \n",
      "\u001b[36m(RayTrainWorker pid=2735082)\u001b[0m \n",
      "Validation DataLoader 0: 100%|██████████| 6/6 [00:01<00:00,  4.43it/s]\u001b[A\n",
      "Epoch 0: 100%|██████████| 28/28 [00:11<00:00,  2.42it/s, v_num=3.41e+7, train_loss_step=0.612, val_loss=0.792]\n"
     ]
    },
    {
     "name": "stderr",
     "output_type": "stream",
     "text": [
      "\u001b[36m(RayTrainWorker pid=2735082)\u001b[0m Checkpoint successfully created at: Checkpoint(filesystem=local, path=/ictstr01/home/aih/serra.korkmaz/projects/saturn/hopt/hpopt_fa7_zinc/ray_results/TorchTrainer_2025-03-12_00-32-19/5a7e0717/checkpoint_000000)\n",
      "2025-03-12 00:33:08,490\tWARNING experiment_state.py:206 -- Experiment state snapshotting has been triggered multiple times in the last 5.0 seconds and may become a bottleneck. A snapshot is forced if `CheckpointConfig(num_to_keep)` is set, and a trial has checkpointed >= `num_to_keep` times since the last snapshot.\n",
      "You may want to consider increasing the `CheckpointConfig(num_to_keep)` or decreasing the frequency of saving checkpoints.\n",
      "You can suppress this warning by setting the environment variable TUNE_WARN_EXCESSIVE_EXPERIMENT_CHECKPOINT_SYNC_THRESHOLD_S to a smaller value than the current threshold (5.0). Set it to 0 to completely suppress this warning.\n"
     ]
    },
    {
     "name": "stdout",
     "output_type": "stream",
     "text": [
      "\u001b[36m(RayTrainWorker pid=2734849)\u001b[0m \n",
      "Epoch 0: 100%|██████████| 28/28 [00:11<00:00,  2.36it/s, v_num=3.41e+7, train_loss_step=0.612, val_loss=0.792, train_loss_epoch=0.585]\n",
      "Epoch 1:   0%|          | 0/28 [00:00<?, ?it/s, v_num=3.41e+7, train_loss_step=0.612, val_loss=0.792, train_loss_epoch=0.585]         \n",
      "\u001b[36m(RayTrainWorker pid=2734849)\u001b[0m \n",
      "\u001b[36m(RayTrainWorker pid=2734849)\u001b[0m \n"
     ]
    },
    {
     "name": "stderr",
     "output_type": "stream",
     "text": [
      "2025-03-12 00:33:09,438\tWARNING experiment_state.py:206 -- Experiment state snapshotting has been triggered multiple times in the last 5.0 seconds and may become a bottleneck. A snapshot is forced if `CheckpointConfig(num_to_keep)` is set, and a trial has checkpointed >= `num_to_keep` times since the last snapshot.\n",
      "You may want to consider increasing the `CheckpointConfig(num_to_keep)` or decreasing the frequency of saving checkpoints.\n",
      "You can suppress this warning by setting the environment variable TUNE_WARN_EXCESSIVE_EXPERIMENT_CHECKPOINT_SYNC_THRESHOLD_S to a smaller value than the current threshold (5.0). Set it to 0 to completely suppress this warning.\n",
      "\u001b[36m(RayTrainWorker pid=2734849)\u001b[0m Checkpoint successfully created at: Checkpoint(filesystem=local, path=/ictstr01/home/aih/serra.korkmaz/projects/saturn/hopt/hpopt_fa7_zinc/ray_results/TorchTrainer_2025-03-12_00-32-19/9c3b6b9f/checkpoint_000001)\n"
     ]
    },
    {
     "name": "stdout",
     "output_type": "stream",
     "text": [
      "Epoch 1:  25%|██▌       | 7/28 [00:02<00:07,  2.76it/s, v_num=3.41e+7, train_loss_step=0.410, val_loss=0.792, train_loss_epoch=0.585]\u001b[32m [repeated 10x across cluster]\u001b[0m\n",
      "Epoch 1: 100%|██████████| 28/28 [00:11<00:00,  2.39it/s, v_num=3.41e+7, train_loss_step=0.357, val_loss=0.830, train_loss_epoch=0.596]\u001b[32m [repeated 4x across cluster]\u001b[0m\n",
      "Validation: |          | 0/? [00:00<?, ?it/s]\u001b[A\n",
      "Validation:   0%|          | 0/6 [00:00<?, ?it/s]\u001b[A\n",
      "Validation DataLoader 0:   0%|          | 0/6 [00:00<?, ?it/s]\u001b[A\n",
      "Validation DataLoader 0:  83%|████████▎ | 5/6 [00:01<00:00,  3.25it/s]\u001b[A\u001b[32m [repeated 7x across cluster]\u001b[0m\n",
      "Validation DataLoader 0: 100%|██████████| 6/6 [00:01<00:00,  3.45it/s]\u001b[A\n",
      "Epoch 1: 100%|██████████| 28/28 [00:13<00:00,  2.07it/s, v_num=3.41e+7, train_loss_step=0.357, val_loss=0.557, train_loss_epoch=0.596]\n",
      "Epoch 1: 100%|██████████| 28/28 [00:13<00:00,  2.02it/s, v_num=3.41e+7, train_loss_step=0.357, val_loss=0.557, train_loss_epoch=0.482]\n",
      "Epoch 2:   0%|          | 0/28 [00:00<?, ?it/s, v_num=3.41e+7, train_loss_step=0.357, val_loss=0.557, train_loss_epoch=0.482]         \n",
      "Epoch 1:  54%|█████▎    | 15/28 [00:05<00:04,  2.80it/s, v_num=3.41e+7, train_loss_step=0.522, val_loss=0.792, train_loss_epoch=0.585]\n",
      "Epoch 1:  54%|█████▎    | 15/28 [00:05<00:04,  2.80it/s, v_num=3.41e+7, train_loss_step=0.387, val_loss=0.792, train_loss_epoch=0.585]\n",
      "Epoch 1:  79%|███████▊  | 22/28 [00:07<00:02,  2.76it/s, v_num=3.41e+7, train_loss_step=0.647, val_loss=0.792, train_loss_epoch=0.585]\u001b[32m [repeated 27x across cluster]\u001b[0m\n",
      "Epoch 1:  93%|█████████▎| 26/28 [00:09<00:00,  2.78it/s, v_num=3.41e+7, train_loss_step=0.477, val_loss=0.792, train_loss_epoch=0.585]\n",
      "Epoch 1:  96%|█████████▋| 27/28 [00:09<00:00,  2.76it/s, v_num=3.41e+7, train_loss_step=0.398, val_loss=0.792, train_loss_epoch=0.585]\n",
      "Epoch 1: 100%|██████████| 28/28 [00:10<00:00,  2.77it/s, v_num=3.41e+7, train_loss_step=0.324, val_loss=0.792, train_loss_epoch=0.585]\n",
      "Validation: |          | 0/? [00:00<?, ?it/s]\u001b[A\n",
      "Validation:   0%|          | 0/6 [00:00<?, ?it/s]\u001b[A\n",
      "Validation DataLoader 0:   0%|          | 0/6 [00:00<?, ?it/s]\u001b[A\n",
      "\u001b[36m(RayTrainWorker pid=2735082)\u001b[0m \n",
      "Validation DataLoader 0:  17%|█▋        | 1/6 [00:00<00:01,  4.96it/s]\u001b[A\n",
      "Epoch 2:  68%|██████▊   | 19/28 [00:07<00:03,  2.38it/s, v_num=3.41e+7, train_loss_step=0.431, val_loss=0.557, train_loss_epoch=0.482]\u001b[32m [repeated 2x across cluster]\u001b[0m\n",
      "\u001b[36m(RayTrainWorker pid=2735082)\u001b[0m \n",
      "Validation DataLoader 0:  33%|███▎      | 2/6 [00:00<00:00,  4.38it/s]\u001b[A\n",
      "\u001b[36m(RayTrainWorker pid=2735082)\u001b[0m \n",
      "Validation DataLoader 0:  50%|█████     | 3/6 [00:00<00:00,  3.77it/s]\u001b[A\n",
      "\u001b[36m(RayTrainWorker pid=2735082)\u001b[0m \n",
      "Validation DataLoader 0:  67%|██████▋   | 4/6 [00:01<00:00,  3.67it/s]\u001b[A\n",
      "\u001b[36m(RayTrainWorker pid=2735082)\u001b[0m \n",
      "Validation DataLoader 0:  83%|████████▎ | 5/6 [00:01<00:00,  3.75it/s]\u001b[A\n",
      "\u001b[36m(RayTrainWorker pid=2735082)\u001b[0m \n",
      "Validation DataLoader 0: 100%|██████████| 6/6 [00:01<00:00,  4.01it/s]\u001b[A\n",
      "Epoch 1: 100%|██████████| 28/28 [00:11<00:00,  2.40it/s, v_num=3.41e+7, train_loss_step=0.324, val_loss=0.582, train_loss_epoch=0.585]\n"
     ]
    },
    {
     "name": "stderr",
     "output_type": "stream",
     "text": [
      "2025-03-12 00:33:20,606\tWARNING experiment_state.py:206 -- Experiment state snapshotting has been triggered multiple times in the last 5.0 seconds and may become a bottleneck. A snapshot is forced if `CheckpointConfig(num_to_keep)` is set, and a trial has checkpointed >= `num_to_keep` times since the last snapshot.\n",
      "You may want to consider increasing the `CheckpointConfig(num_to_keep)` or decreasing the frequency of saving checkpoints.\n",
      "You can suppress this warning by setting the environment variable TUNE_WARN_EXCESSIVE_EXPERIMENT_CHECKPOINT_SYNC_THRESHOLD_S to a smaller value than the current threshold (5.0). Set it to 0 to completely suppress this warning.\n",
      "\u001b[36m(RayTrainWorker pid=2735082)\u001b[0m Checkpoint successfully created at: Checkpoint(filesystem=local, path=/ictstr01/home/aih/serra.korkmaz/projects/saturn/hopt/hpopt_fa7_zinc/ray_results/TorchTrainer_2025-03-12_00-32-19/5a7e0717/checkpoint_000001)\n"
     ]
    },
    {
     "name": "stdout",
     "output_type": "stream",
     "text": [
      "Epoch 1: 100%|██████████| 28/28 [00:11<00:00,  2.34it/s, v_num=3.41e+7, train_loss_step=0.324, val_loss=0.582, train_loss_epoch=0.478]\n",
      "Epoch 2:   0%|          | 0/28 [00:00<?, ?it/s, v_num=3.41e+7, train_loss_step=0.324, val_loss=0.582, train_loss_epoch=0.478]         \n",
      "\u001b[36m(RayTrainWorker pid=2734849)\u001b[0m \n",
      "\u001b[36m(RayTrainWorker pid=2734849)\u001b[0m \n",
      "Epoch 2:   7%|▋         | 2/28 [00:00<00:10,  2.55it/s, v_num=3.41e+7, train_loss_step=0.553, val_loss=0.582, train_loss_epoch=0.478]\u001b[32m [repeated 13x across cluster]\u001b[0m\n",
      "\u001b[36m(RayTrainWorker pid=2734849)\u001b[0m \n",
      "\u001b[36m(RayTrainWorker pid=2734849)\u001b[0m \n",
      "\u001b[36m(RayTrainWorker pid=2734849)\u001b[0m \n",
      "\u001b[36m(RayTrainWorker pid=2734849)\u001b[0m \n",
      "Epoch 2: 100%|██████████| 28/28 [00:11<00:00,  2.35it/s, v_num=3.41e+7, train_loss_step=0.535, val_loss=0.557, train_loss_epoch=0.482]\u001b[32m [repeated 3x across cluster]\u001b[0m\n",
      "\u001b[36m(RayTrainWorker pid=2734849)\u001b[0m \n"
     ]
    },
    {
     "name": "stderr",
     "output_type": "stream",
     "text": [
      "2025-03-12 00:33:23,622\tWARNING experiment_state.py:206 -- Experiment state snapshotting has been triggered multiple times in the last 5.0 seconds and may become a bottleneck. A snapshot is forced if `CheckpointConfig(num_to_keep)` is set, and a trial has checkpointed >= `num_to_keep` times since the last snapshot.\n",
      "You may want to consider increasing the `CheckpointConfig(num_to_keep)` or decreasing the frequency of saving checkpoints.\n",
      "You can suppress this warning by setting the environment variable TUNE_WARN_EXCESSIVE_EXPERIMENT_CHECKPOINT_SYNC_THRESHOLD_S to a smaller value than the current threshold (5.0). Set it to 0 to completely suppress this warning.\n",
      "\u001b[36m(RayTrainWorker pid=2734849)\u001b[0m Checkpoint successfully created at: Checkpoint(filesystem=local, path=/ictstr01/home/aih/serra.korkmaz/projects/saturn/hopt/hpopt_fa7_zinc/ray_results/TorchTrainer_2025-03-12_00-32-19/9c3b6b9f/checkpoint_000002)\n"
     ]
    },
    {
     "name": "stdout",
     "output_type": "stream",
     "text": [
      "Validation: |          | 0/? [00:00<?, ?it/s]\u001b[A\n",
      "Validation:   0%|          | 0/6 [00:00<?, ?it/s]\u001b[A\n",
      "Validation DataLoader 0:   0%|          | 0/6 [00:00<?, ?it/s]\u001b[A\n",
      "Validation DataLoader 0:  83%|████████▎ | 5/6 [00:01<00:00,  3.23it/s]\u001b[A\u001b[32m [repeated 5x across cluster]\u001b[0m\n",
      "Validation DataLoader 0: 100%|██████████| 6/6 [00:01<00:00,  3.41it/s]\u001b[A\n",
      "Epoch 2: 100%|██████████| 28/28 [00:13<00:00,  2.04it/s, v_num=3.41e+7, train_loss_step=0.535, val_loss=0.406, train_loss_epoch=0.482]\n",
      "Epoch 2: 100%|██████████| 28/28 [00:14<00:00,  2.00it/s, v_num=3.41e+7, train_loss_step=0.535, val_loss=0.406, train_loss_epoch=0.455]\n",
      "Epoch 3:   0%|          | 0/28 [00:00<?, ?it/s, v_num=3.41e+7, train_loss_step=0.535, val_loss=0.406, train_loss_epoch=0.455]         \n",
      "Epoch 2:  61%|██████    | 17/28 [00:06<00:04,  2.69it/s, v_num=3.41e+7, train_loss_step=0.298, val_loss=0.582, train_loss_epoch=0.478]\u001b[32m [repeated 22x across cluster]\u001b[0m\n",
      "Epoch 2:  93%|█████████▎| 26/28 [00:09<00:00,  2.69it/s, v_num=3.41e+7, train_loss_step=0.722, val_loss=0.582, train_loss_epoch=0.478]\n",
      "Epoch 2:  96%|█████████▋| 27/28 [00:10<00:00,  2.69it/s, v_num=3.41e+7, train_loss_step=0.523, val_loss=0.582, train_loss_epoch=0.478]\n",
      "Epoch 2: 100%|██████████| 28/28 [00:10<00:00,  2.71it/s, v_num=3.41e+7, train_loss_step=0.485, val_loss=0.582, train_loss_epoch=0.478]\n",
      "\u001b[36m(RayTrainWorker pid=2735082)\u001b[0m \n",
      "Validation: |          | 0/? [00:00<?, ?it/s]\u001b[A\n",
      "\u001b[36m(RayTrainWorker pid=2735082)\u001b[0m \n",
      "Validation:   0%|          | 0/6 [00:00<?, ?it/s]\u001b[A\n",
      "Validation DataLoader 0:   0%|          | 0/6 [00:00<?, ?it/s]\u001b[A\n",
      "\u001b[36m(RayTrainWorker pid=2735082)\u001b[0m \n",
      "Validation DataLoader 0:  17%|█▋        | 1/6 [00:00<00:01,  4.60it/s]\u001b[A\n",
      "\u001b[36m(RayTrainWorker pid=2735082)\u001b[0m \n",
      "Validation DataLoader 0:  33%|███▎      | 2/6 [00:00<00:00,  4.01it/s]\u001b[A\n",
      "\u001b[36m(RayTrainWorker pid=2735082)\u001b[0m \n",
      "Validation DataLoader 0:  50%|█████     | 3/6 [00:00<00:00,  3.86it/s]\u001b[A\n",
      "\u001b[36m(RayTrainWorker pid=2735082)\u001b[0m \n",
      "Validation DataLoader 0:  67%|██████▋   | 4/6 [00:01<00:00,  3.91it/s]\n",
      "\u001b[36m(RayTrainWorker pid=2735082)\u001b[0m \u001b[A\n",
      "Epoch 3:  68%|██████▊   | 19/28 [00:08<00:03,  2.35it/s, v_num=3.41e+7, train_loss_step=0.387, val_loss=0.406, train_loss_epoch=0.455]\u001b[32m [repeated 20x across cluster]\u001b[0m\n",
      "\u001b[36m(RayTrainWorker pid=2735082)\u001b[0m \n",
      "Validation DataLoader 0:  83%|████████▎ | 5/6 [00:01<00:00,  3.91it/s]\u001b[A\n",
      "\u001b[36m(RayTrainWorker pid=2735082)\u001b[0m \n",
      "Validation DataLoader 0: 100%|██████████| 6/6 [00:01<00:00,  4.16it/s]\u001b[A\n",
      "Epoch 2: 100%|██████████| 28/28 [00:11<00:00,  2.36it/s, v_num=3.41e+7, train_loss_step=0.485, val_loss=0.377, train_loss_epoch=0.478]\n",
      "Epoch 2: 100%|██████████| 28/28 [00:12<00:00,  2.30it/s, v_num=3.41e+7, train_loss_step=0.485, val_loss=0.377, train_loss_epoch=0.447]\n"
     ]
    },
    {
     "name": "stderr",
     "output_type": "stream",
     "text": [
      "\u001b[36m(RayTrainWorker pid=2735082)\u001b[0m Checkpoint successfully created at: Checkpoint(filesystem=local, path=/ictstr01/home/aih/serra.korkmaz/projects/saturn/hopt/hpopt_fa7_zinc/ray_results/TorchTrainer_2025-03-12_00-32-19/5a7e0717/checkpoint_000002)\n"
     ]
    },
    {
     "name": "stdout",
     "output_type": "stream",
     "text": [
      "Epoch 3:   0%|          | 0/28 [00:00<?, ?it/s, v_num=3.41e+7, train_loss_step=0.485, val_loss=0.377, train_loss_epoch=0.447]         \n",
      "Epoch 3:  96%|█████████▋| 27/28 [00:11<00:00,  2.33it/s, v_num=3.41e+7, train_loss_step=0.576, val_loss=0.406, train_loss_epoch=0.455]\u001b[32m [repeated 2x across cluster]\u001b[0m\n",
      "\u001b[36m(RayTrainWorker pid=2734849)\u001b[0m \n",
      "\u001b[36m(RayTrainWorker pid=2734849)\u001b[0m \n",
      "Validation: |          | 0/? [00:00<?, ?it/s]\u001b[A\n",
      "Validation:   0%|          | 0/6 [00:00<?, ?it/s]\u001b[A\n",
      "Validation DataLoader 0:   0%|          | 0/6 [00:00<?, ?it/s]\u001b[A\n",
      "Validation DataLoader 0:  33%|███▎      | 2/6 [00:00<00:01,  3.59it/s]\u001b[A\u001b[32m [repeated 2x across cluster]\u001b[0m\n",
      "\u001b[36m(RayTrainWorker pid=2734849)\u001b[0m \n",
      "\u001b[36m(RayTrainWorker pid=2734849)\u001b[0m \n",
      "\u001b[36m(RayTrainWorker pid=2734849)\u001b[0m \n",
      "Epoch 3:  39%|███▉      | 11/28 [00:03<00:06,  2.77it/s, v_num=3.41e+7, train_loss_step=0.350, val_loss=0.377, train_loss_epoch=0.447]\u001b[32m [repeated 17x across cluster]\u001b[0m\n",
      "\u001b[36m(RayTrainWorker pid=2734849)\u001b[0m \n"
     ]
    },
    {
     "name": "stderr",
     "output_type": "stream",
     "text": [
      "2025-03-12 00:33:37,707\tWARNING experiment_state.py:206 -- Experiment state snapshotting has been triggered multiple times in the last 5.0 seconds and may become a bottleneck. A snapshot is forced if `CheckpointConfig(num_to_keep)` is set, and a trial has checkpointed >= `num_to_keep` times since the last snapshot.\n",
      "You may want to consider increasing the `CheckpointConfig(num_to_keep)` or decreasing the frequency of saving checkpoints.\n",
      "You can suppress this warning by setting the environment variable TUNE_WARN_EXCESSIVE_EXPERIMENT_CHECKPOINT_SYNC_THRESHOLD_S to a smaller value than the current threshold (5.0). Set it to 0 to completely suppress this warning.\n",
      "\u001b[36m(RayTrainWorker pid=2734849)\u001b[0m Checkpoint successfully created at: Checkpoint(filesystem=local, path=/ictstr01/home/aih/serra.korkmaz/projects/saturn/hopt/hpopt_fa7_zinc/ray_results/TorchTrainer_2025-03-12_00-32-19/9c3b6b9f/checkpoint_000003)\n"
     ]
    },
    {
     "name": "stdout",
     "output_type": "stream",
     "text": [
      "Validation DataLoader 0: 100%|██████████| 6/6 [00:01<00:00,  3.64it/s]\u001b[A\n",
      "Epoch 3: 100%|██████████| 28/28 [00:13<00:00,  2.05it/s, v_num=3.41e+7, train_loss_step=0.318, val_loss=0.334, train_loss_epoch=0.455]\n",
      "Epoch 3: 100%|██████████| 28/28 [00:13<00:00,  2.01it/s, v_num=3.41e+7, train_loss_step=0.318, val_loss=0.334, train_loss_epoch=0.387]\n",
      "Epoch 4:   0%|          | 0/28 [00:00<?, ?it/s, v_num=3.41e+7, train_loss_step=0.318, val_loss=0.334, train_loss_epoch=0.387]         \n",
      "Epoch 3: 100%|██████████| 28/28 [00:11<00:00,  2.35it/s, v_num=3.41e+7, train_loss_step=0.318, val_loss=0.406, train_loss_epoch=0.455]\n",
      "Validation DataLoader 0:  83%|████████▎ | 5/6 [00:01<00:00,  3.40it/s]\u001b[A\u001b[32m [repeated 3x across cluster]\u001b[0m\n",
      "Epoch 4:  39%|███▉      | 11/28 [00:04<00:07,  2.36it/s, v_num=3.41e+7, train_loss_step=0.436, val_loss=0.334, train_loss_epoch=0.387]\u001b[32m [repeated 25x across cluster]\u001b[0m\n",
      "Epoch 3:  93%|█████████▎| 26/28 [00:09<00:00,  2.77it/s, v_num=3.41e+7, train_loss_step=0.360, val_loss=0.377, train_loss_epoch=0.447]\n",
      "Epoch 3:  96%|█████████▋| 27/28 [00:09<00:00,  2.77it/s, v_num=3.41e+7, train_loss_step=0.603, val_loss=0.377, train_loss_epoch=0.447]\n",
      "Epoch 3: 100%|██████████| 28/28 [00:10<00:00,  2.78it/s, v_num=3.41e+7, train_loss_step=0.315, val_loss=0.377, train_loss_epoch=0.447]\n",
      "Validation: |          | 0/? [00:00<?, ?it/s]\u001b[A\n",
      "\u001b[36m(RayTrainWorker pid=2735082)\u001b[0m \n",
      "Validation:   0%|          | 0/6 [00:00<?, ?it/s]\u001b[A\n",
      "Validation DataLoader 0:   0%|          | 0/6 [00:00<?, ?it/s]\u001b[A\n",
      "\u001b[36m(RayTrainWorker pid=2735082)\u001b[0m \n",
      "\u001b[36m(RayTrainWorker pid=2735082)\u001b[0m \n",
      "\u001b[36m(RayTrainWorker pid=2735082)\u001b[0m \n",
      "\u001b[36m(RayTrainWorker pid=2735082)\u001b[0m \n",
      "\u001b[36m(RayTrainWorker pid=2735082)\u001b[0m \n",
      "\u001b[36m(RayTrainWorker pid=2735082)\u001b[0m \n",
      "Validation DataLoader 0: 100%|██████████| 6/6 [00:01<00:00,  4.12it/s]\u001b[A\n",
      "Epoch 3: 100%|██████████| 28/28 [00:11<00:00,  2.41it/s, v_num=3.41e+7, train_loss_step=0.315, val_loss=0.783, train_loss_epoch=0.447]\n",
      "Epoch 3: 100%|██████████| 28/28 [00:11<00:00,  2.35it/s, v_num=3.41e+7, train_loss_step=0.315, val_loss=0.783, train_loss_epoch=0.382]\n"
     ]
    },
    {
     "name": "stderr",
     "output_type": "stream",
     "text": [
      "\u001b[36m(RayTrainWorker pid=2735082)\u001b[0m Checkpoint successfully created at: Checkpoint(filesystem=local, path=/ictstr01/home/aih/serra.korkmaz/projects/saturn/hopt/hpopt_fa7_zinc/ray_results/TorchTrainer_2025-03-12_00-32-19/5a7e0717/checkpoint_000003)\n"
     ]
    },
    {
     "name": "stdout",
     "output_type": "stream",
     "text": [
      "Epoch 4:   0%|          | 0/28 [00:00<?, ?it/s, v_num=3.41e+7, train_loss_step=0.315, val_loss=0.783, train_loss_epoch=0.382]         \n",
      "Epoch 4:  71%|███████▏  | 20/28 [00:08<00:03,  2.34it/s, v_num=3.41e+7, train_loss_step=0.418, val_loss=0.334, train_loss_epoch=0.387]\n",
      "Epoch 4:  71%|███████▏  | 20/28 [00:08<00:03,  2.34it/s, v_num=3.41e+7, train_loss_step=0.583, val_loss=0.334, train_loss_epoch=0.387]\n",
      "Validation DataLoader 0:  83%|████████▎ | 5/6 [00:01<00:00,  3.80it/s]\u001b[A\u001b[32m [repeated 5x across cluster]\u001b[0m\n",
      "Epoch 4:  82%|████████▏ | 23/28 [00:09<00:02,  2.34it/s, v_num=3.41e+7, train_loss_step=0.575, val_loss=0.334, train_loss_epoch=0.387]\u001b[32m [repeated 17x across cluster]\u001b[0m\n",
      "Epoch 4:  93%|█████████▎| 26/28 [00:11<00:00,  2.34it/s, v_num=3.41e+7, train_loss_step=0.331, val_loss=0.334, train_loss_epoch=0.387]\n",
      "Epoch 4:  96%|█████████▋| 27/28 [00:11<00:00,  2.34it/s, v_num=3.41e+7, train_loss_step=0.392, val_loss=0.334, train_loss_epoch=0.387]\n",
      "Epoch 4: 100%|██████████| 28/28 [00:11<00:00,  2.36it/s, v_num=3.41e+7, train_loss_step=0.403, val_loss=0.334, train_loss_epoch=0.387]\n",
      "Validation: |          | 0/? [00:00<?, ?it/s]\u001b[A\n",
      "Validation:   0%|          | 0/6 [00:00<?, ?it/s]\u001b[A\n",
      "Validation DataLoader 0:   0%|          | 0/6 [00:00<?, ?it/s]\u001b[A\n",
      "\u001b[36m(RayTrainWorker pid=2734849)\u001b[0m \n",
      "\u001b[36m(RayTrainWorker pid=2734849)\u001b[0m \n",
      "\u001b[36m(RayTrainWorker pid=2734849)\u001b[0m \n",
      "\u001b[36m(RayTrainWorker pid=2734849)\u001b[0m \n",
      "\u001b[36m(RayTrainWorker pid=2734849)\u001b[0m \n",
      "\u001b[36m(RayTrainWorker pid=2734849)\u001b[0m \n",
      "Validation DataLoader 0: 100%|██████████| 6/6 [00:01<00:00,  3.56it/s]\u001b[A\n",
      "Epoch 4: 100%|██████████| 28/28 [00:13<00:00,  2.05it/s, v_num=3.41e+7, train_loss_step=0.403, val_loss=0.917, train_loss_epoch=0.387]\n",
      "Epoch 4: 100%|██████████| 28/28 [00:13<00:00,  2.01it/s, v_num=3.41e+7, train_loss_step=0.403, val_loss=0.917, train_loss_epoch=0.396]\n"
     ]
    },
    {
     "name": "stderr",
     "output_type": "stream",
     "text": [
      "\u001b[36m(RayTrainWorker pid=2734849)\u001b[0m Checkpoint successfully created at: Checkpoint(filesystem=local, path=/ictstr01/home/aih/serra.korkmaz/projects/saturn/hopt/hpopt_fa7_zinc/ray_results/TorchTrainer_2025-03-12_00-32-19/9c3b6b9f/checkpoint_000004)\n"
     ]
    },
    {
     "name": "stdout",
     "output_type": "stream",
     "text": [
      "Epoch 5:   0%|          | 0/28 [00:00<?, ?it/s, v_num=3.41e+7, train_loss_step=0.403, val_loss=0.917, train_loss_epoch=0.396]         \n",
      "Validation DataLoader 0:  83%|████████▎ | 5/6 [00:01<00:00,  3.35it/s]\u001b[A\u001b[32m [repeated 5x across cluster]\u001b[0m\n",
      "Epoch 5:   7%|▋         | 2/28 [00:00<00:11,  2.29it/s, v_num=3.41e+7, train_loss_step=0.259, val_loss=0.917, train_loss_epoch=0.396]\u001b[32m [repeated 18x across cluster]\u001b[0m\n",
      "Epoch 4:  93%|█████████▎| 26/28 [00:09<00:00,  2.67it/s, v_num=3.41e+7, train_loss_step=0.334, val_loss=0.783, train_loss_epoch=0.382]\n",
      "Epoch 4:  96%|█████████▋| 27/28 [00:10<00:00,  2.66it/s, v_num=3.41e+7, train_loss_step=0.417, val_loss=0.783, train_loss_epoch=0.382]\n",
      "Epoch 4: 100%|██████████| 28/28 [00:10<00:00,  2.69it/s, v_num=3.41e+7, train_loss_step=0.369, val_loss=0.783, train_loss_epoch=0.382]\n",
      "Validation: |          | 0/? [00:00<?, ?it/s]\u001b[A\n",
      "Validation:   0%|          | 0/6 [00:00<?, ?it/s]\u001b[A\n",
      "Validation DataLoader 0:   0%|          | 0/6 [00:00<?, ?it/s]\u001b[A\n",
      "\u001b[36m(RayTrainWorker pid=2735082)\u001b[0m \n",
      "\u001b[36m(RayTrainWorker pid=2735082)\u001b[0m \n",
      "\u001b[36m(RayTrainWorker pid=2735082)\u001b[0m \n",
      "\u001b[36m(RayTrainWorker pid=2735082)\u001b[0m \n",
      "\u001b[36m(RayTrainWorker pid=2735082)\u001b[0m \n",
      "Validation DataLoader 0:  83%|████████▎ | 5/6 [00:01<00:00,  3.76it/s]\u001b[A\u001b[32m [repeated 5x across cluster]\u001b[0m\n",
      "\u001b[36m(RayTrainWorker pid=2735082)\u001b[0m \n",
      "Validation DataLoader 0: 100%|██████████| 6/6 [00:01<00:00,  4.04it/s]\u001b[A\n",
      "Epoch 4: 100%|██████████| 28/28 [00:11<00:00,  2.34it/s, v_num=3.41e+7, train_loss_step=0.369, val_loss=0.321, train_loss_epoch=0.382]\n",
      "Epoch 4: 100%|██████████| 28/28 [00:12<00:00,  2.29it/s, v_num=3.41e+7, train_loss_step=0.369, val_loss=0.321, train_loss_epoch=0.398]\n"
     ]
    },
    {
     "name": "stderr",
     "output_type": "stream",
     "text": [
      "\u001b[36m(RayTrainWorker pid=2735082)\u001b[0m Checkpoint successfully created at: Checkpoint(filesystem=local, path=/ictstr01/home/aih/serra.korkmaz/projects/saturn/hopt/hpopt_fa7_zinc/ray_results/TorchTrainer_2025-03-12_00-32-19/5a7e0717/checkpoint_000004)\n"
     ]
    },
    {
     "name": "stdout",
     "output_type": "stream",
     "text": [
      "Epoch 5:   0%|          | 0/28 [00:00<?, ?it/s, v_num=3.41e+7, train_loss_step=0.369, val_loss=0.321, train_loss_epoch=0.398]         \n",
      "Epoch 5:  50%|█████     | 14/28 [00:06<00:06,  2.32it/s, v_num=3.41e+7, train_loss_step=0.332, val_loss=0.917, train_loss_epoch=0.396]\u001b[32m [repeated 17x across cluster]\u001b[0m\n",
      "Epoch 5:  93%|█████████▎| 26/28 [00:11<00:00,  2.34it/s, v_num=3.41e+7, train_loss_step=0.285, val_loss=0.917, train_loss_epoch=0.396]\n",
      "Epoch 5:  50%|█████     | 14/28 [00:05<00:05,  2.74it/s, v_num=3.41e+7, train_loss_step=0.349, val_loss=0.321, train_loss_epoch=0.398]\u001b[32m [repeated 25x across cluster]\u001b[0m\n",
      "Epoch 5:  96%|█████████▋| 27/28 [00:11<00:00,  2.33it/s, v_num=3.41e+7, train_loss_step=0.444, val_loss=0.917, train_loss_epoch=0.396]\n",
      "Epoch 5: 100%|██████████| 28/28 [00:11<00:00,  2.34it/s, v_num=3.41e+7, train_loss_step=0.434, val_loss=0.917, train_loss_epoch=0.396]\n",
      "Validation: |          | 0/? [00:00<?, ?it/s]\u001b[A\n",
      "\u001b[36m(RayTrainWorker pid=2734849)\u001b[0m \n",
      "Validation:   0%|          | 0/6 [00:00<?, ?it/s]\u001b[A\n",
      "Validation DataLoader 0:   0%|          | 0/6 [00:00<?, ?it/s]\u001b[A\n",
      "\u001b[36m(RayTrainWorker pid=2734849)\u001b[0m \n",
      "Validation DataLoader 0:  17%|█▋        | 1/6 [00:00<00:01,  3.62it/s]\u001b[A\n",
      "\u001b[36m(RayTrainWorker pid=2734849)\u001b[0m \n",
      "Validation DataLoader 0:  33%|███▎      | 2/6 [00:00<00:01,  3.29it/s]\u001b[A\n",
      "\u001b[36m(RayTrainWorker pid=2734849)\u001b[0m \n",
      "Validation DataLoader 0:  50%|█████     | 3/6 [00:00<00:00,  3.23it/s]\u001b[A\n",
      "\u001b[36m(RayTrainWorker pid=2734849)\u001b[0m \n",
      "Validation DataLoader 0:  67%|██████▋   | 4/6 [00:01<00:00,  3.16it/s]\u001b[A\n",
      "\u001b[36m(RayTrainWorker pid=2734849)\u001b[0m \n",
      "Validation DataLoader 0:  83%|████████▎ | 5/6 [00:01<00:00,  3.10it/s]\u001b[A\n",
      "\u001b[36m(RayTrainWorker pid=2734849)\u001b[0m \n",
      "Validation DataLoader 0: 100%|██████████| 6/6 [00:01<00:00,  3.30it/s]\u001b[A\n",
      "Epoch 5: 100%|██████████| 28/28 [00:13<00:00,  2.02it/s, v_num=3.41e+7, train_loss_step=0.434, val_loss=0.323, train_loss_epoch=0.396]\n",
      "Epoch 5: 100%|██████████| 28/28 [00:14<00:00,  1.98it/s, v_num=3.41e+7, train_loss_step=0.434, val_loss=0.323, train_loss_epoch=0.371]\n"
     ]
    },
    {
     "name": "stderr",
     "output_type": "stream",
     "text": [
      "\u001b[36m(RayTrainWorker pid=2734849)\u001b[0m Checkpoint successfully created at: Checkpoint(filesystem=local, path=/ictstr01/home/aih/serra.korkmaz/projects/saturn/hopt/hpopt_fa7_zinc/ray_results/TorchTrainer_2025-03-12_00-32-19/9c3b6b9f/checkpoint_000005)\n"
     ]
    },
    {
     "name": "stdout",
     "output_type": "stream",
     "text": [
      "Epoch 6:   0%|          | 0/28 [00:00<?, ?it/s, v_num=3.41e+7, train_loss_step=0.434, val_loss=0.323, train_loss_epoch=0.371]         \n",
      "\u001b[36m(RayTrainWorker pid=2735082)\u001b[0m \n",
      "\u001b[36m(RayTrainWorker pid=2735082)\u001b[0m \n",
      "Epoch 5: 100%|██████████| 28/28 [00:10<00:00,  2.75it/s, v_num=3.41e+7, train_loss_step=0.431, val_loss=0.321, train_loss_epoch=0.398]\u001b[32m [repeated 3x across cluster]\u001b[0m\n",
      "Epoch 6:  18%|█▊        | 5/28 [00:02<00:09,  2.38it/s, v_num=3.41e+7, train_loss_step=0.265, val_loss=0.323, train_loss_epoch=0.371]\u001b[32m [repeated 16x across cluster]\u001b[0m\n",
      "\u001b[36m(RayTrainWorker pid=2735082)\u001b[0m \n",
      "\u001b[36m(RayTrainWorker pid=2735082)\u001b[0m \n",
      "\u001b[36m(RayTrainWorker pid=2735082)\u001b[0m \n",
      "\u001b[36m(RayTrainWorker pid=2735082)\u001b[0m \n",
      "Validation: |          | 0/? [00:00<?, ?it/s]\u001b[A\n",
      "Validation:   0%|          | 0/6 [00:00<?, ?it/s]\u001b[A\n",
      "Validation DataLoader 0:   0%|          | 0/6 [00:00<?, ?it/s]\u001b[A\n",
      "\u001b[36m(RayTrainWorker pid=2735082)\u001b[0m \n",
      "Validation DataLoader 0:  83%|████████▎ | 5/6 [00:01<00:00,  3.93it/s]\u001b[A\u001b[32m [repeated 5x across cluster]\u001b[0m\n"
     ]
    },
    {
     "name": "stderr",
     "output_type": "stream",
     "text": [
      "2025-03-12 00:34:09,639\tWARNING experiment_state.py:206 -- Experiment state snapshotting has been triggered multiple times in the last 5.0 seconds and may become a bottleneck. A snapshot is forced if `CheckpointConfig(num_to_keep)` is set, and a trial has checkpointed >= `num_to_keep` times since the last snapshot.\n",
      "You may want to consider increasing the `CheckpointConfig(num_to_keep)` or decreasing the frequency of saving checkpoints.\n",
      "You can suppress this warning by setting the environment variable TUNE_WARN_EXCESSIVE_EXPERIMENT_CHECKPOINT_SYNC_THRESHOLD_S to a smaller value than the current threshold (5.0). Set it to 0 to completely suppress this warning.\n"
     ]
    },
    {
     "name": "stdout",
     "output_type": "stream",
     "text": [
      "Epoch 5:   0%|          | 0/28 [00:00<?, ?it/s, v_num=3.41e+7, train_loss_step=0.431, val_loss=0.305, train_loss_epoch=0.385]         \n",
      "Epoch 6:   0%|          | 0/28 [00:00<?, ?it/s, v_num=3.41e+7, train_loss_step=0.431, val_loss=0.305, train_loss_epoch=0.385]\n",
      "Validation DataLoader 0: 100%|██████████| 6/6 [00:01<00:00,  4.15it/s]\u001b[A\n",
      "Epoch 5: 100%|██████████| 28/28 [00:11<00:00,  2.40it/s, v_num=3.41e+7, train_loss_step=0.431, val_loss=0.305, train_loss_epoch=0.398]\n",
      "Epoch 6:  39%|███▉      | 11/28 [00:04<00:07,  2.28it/s, v_num=3.41e+7, train_loss_step=0.335, val_loss=0.323, train_loss_epoch=0.371]\n",
      "Epoch 6:  39%|███▉      | 11/28 [00:04<00:07,  2.28it/s, v_num=3.41e+7, train_loss_step=0.263, val_loss=0.323, train_loss_epoch=0.371]\n",
      "Epoch 5: 100%|██████████| 28/28 [00:11<00:00,  2.34it/s, v_num=3.41e+7, train_loss_step=0.431, val_loss=0.305, train_loss_epoch=0.385]\n",
      "Epoch 6:  36%|███▌      | 10/28 [00:03<00:06,  2.70it/s, v_num=3.41e+7, train_loss_step=0.337, val_loss=0.305, train_loss_epoch=0.385]\u001b[32m [repeated 20x across cluster]\u001b[0m\n",
      "Epoch 6:  93%|█████████▎| 26/28 [00:11<00:00,  2.33it/s, v_num=3.41e+7, train_loss_step=0.392, val_loss=0.323, train_loss_epoch=0.371]\n",
      "Epoch 6:  96%|█████████▋| 27/28 [00:11<00:00,  2.33it/s, v_num=3.41e+7, train_loss_step=0.327, val_loss=0.323, train_loss_epoch=0.371]\n",
      "Epoch 6: 100%|██████████| 28/28 [00:11<00:00,  2.33it/s, v_num=3.41e+7, train_loss_step=0.457, val_loss=0.323, train_loss_epoch=0.371]\n",
      "Validation: |          | 0/? [00:00<?, ?it/s]\u001b[A\n",
      "Validation:   0%|          | 0/6 [00:00<?, ?it/s]\u001b[A\n",
      "Validation DataLoader 0:   0%|          | 0/6 [00:00<?, ?it/s]\u001b[A\n",
      "\u001b[36m(RayTrainWorker pid=2734849)\u001b[0m \n",
      "Validation DataLoader 0:  17%|█▋        | 1/6 [00:00<00:01,  3.56it/s]\u001b[A\n",
      "Epoch 6:  82%|████████▏ | 23/28 [00:08<00:01,  2.67it/s, v_num=3.41e+7, train_loss_step=0.360, val_loss=0.305, train_loss_epoch=0.385]\u001b[32m [repeated 22x across cluster]\u001b[0m\n",
      "\u001b[36m(RayTrainWorker pid=2734849)\u001b[0m \n",
      "Validation DataLoader 0:  33%|███▎      | 2/6 [00:00<00:01,  3.09it/s]\u001b[A\n",
      "\u001b[36m(RayTrainWorker pid=2734849)\u001b[0m \n",
      "Validation DataLoader 0:  50%|█████     | 3/6 [00:01<00:01,  2.94it/s]\u001b[A\n",
      "\u001b[36m(RayTrainWorker pid=2734849)\u001b[0m \n",
      "Validation DataLoader 0:  67%|██████▋   | 4/6 [00:01<00:00,  2.96it/s]\u001b[A\n",
      "\u001b[36m(RayTrainWorker pid=2734849)\u001b[0m \n",
      "Validation DataLoader 0:  83%|████████▎ | 5/6 [00:01<00:00,  2.97it/s]\u001b[A\n",
      "\u001b[36m(RayTrainWorker pid=2734849)\u001b[0m \n",
      "Validation DataLoader 0: 100%|██████████| 6/6 [00:01<00:00,  3.24it/s]\u001b[A\n",
      "\u001b[36m(RayTrainWorker pid=2734849)\u001b[0m \n",
      "Epoch 6: 100%|██████████| 28/28 [00:13<00:00,  2.01it/s, v_num=3.41e+7, train_loss_step=0.457, val_loss=0.319, train_loss_epoch=0.371]\n"
     ]
    },
    {
     "name": "stderr",
     "output_type": "stream",
     "text": [
      "\u001b[36m(RayTrainWorker pid=2734849)\u001b[0m Checkpoint successfully created at: Checkpoint(filesystem=local, path=/ictstr01/home/aih/serra.korkmaz/projects/saturn/hopt/hpopt_fa7_zinc/ray_results/TorchTrainer_2025-03-12_00-32-19/9c3b6b9f/checkpoint_000006)\u001b[32m [repeated 2x across cluster]\u001b[0m\n",
      "2025-03-12 00:34:20,448\tWARNING experiment_state.py:206 -- Experiment state snapshotting has been triggered multiple times in the last 5.0 seconds and may become a bottleneck. A snapshot is forced if `CheckpointConfig(num_to_keep)` is set, and a trial has checkpointed >= `num_to_keep` times since the last snapshot.\n",
      "You may want to consider increasing the `CheckpointConfig(num_to_keep)` or decreasing the frequency of saving checkpoints.\n",
      "You can suppress this warning by setting the environment variable TUNE_WARN_EXCESSIVE_EXPERIMENT_CHECKPOINT_SYNC_THRESHOLD_S to a smaller value than the current threshold (5.0). Set it to 0 to completely suppress this warning.\n"
     ]
    },
    {
     "name": "stdout",
     "output_type": "stream",
     "text": [
      "\u001b[36m(RayTrainWorker pid=2735082)\u001b[0m \n",
      "\u001b[36m(RayTrainWorker pid=2735082)\u001b[0m \n",
      "Epoch 6: 100%|██████████| 28/28 [00:14<00:00,  1.97it/s, v_num=3.41e+7, train_loss_step=0.457, val_loss=0.319, train_loss_epoch=0.341]\n",
      "Epoch 7:   0%|          | 0/28 [00:00<?, ?it/s, v_num=3.41e+7, train_loss_step=0.457, val_loss=0.319, train_loss_epoch=0.341]         \n",
      "\u001b[36m(RayTrainWorker pid=2735082)\u001b[0m \n",
      "\u001b[36m(RayTrainWorker pid=2735082)\u001b[0m \n",
      "\u001b[36m(RayTrainWorker pid=2735082)\u001b[0m \n",
      "\u001b[36m(RayTrainWorker pid=2735082)\u001b[0m \n",
      "\u001b[36m(RayTrainWorker pid=2735082)\u001b[0m \n"
     ]
    },
    {
     "name": "stderr",
     "output_type": "stream",
     "text": [
      "2025-03-12 00:34:22,121\tWARNING experiment_state.py:206 -- Experiment state snapshotting has been triggered multiple times in the last 5.0 seconds and may become a bottleneck. A snapshot is forced if `CheckpointConfig(num_to_keep)` is set, and a trial has checkpointed >= `num_to_keep` times since the last snapshot.\n",
      "You may want to consider increasing the `CheckpointConfig(num_to_keep)` or decreasing the frequency of saving checkpoints.\n",
      "You can suppress this warning by setting the environment variable TUNE_WARN_EXCESSIVE_EXPERIMENT_CHECKPOINT_SYNC_THRESHOLD_S to a smaller value than the current threshold (5.0). Set it to 0 to completely suppress this warning.\n"
     ]
    },
    {
     "name": "stdout",
     "output_type": "stream",
     "text": [
      "\u001b[36m(RayTrainWorker pid=2735082)\u001b[0m \n",
      "Epoch 6: 100%|██████████| 28/28 [00:10<00:00,  2.67it/s, v_num=3.41e+7, train_loss_step=0.481, val_loss=0.305, train_loss_epoch=0.385]\u001b[32m [repeated 3x across cluster]\u001b[0m\n",
      "Validation: |          | 0/? [00:00<?, ?it/s]\u001b[A\n",
      "Validation:   0%|          | 0/6 [00:00<?, ?it/s]\u001b[A\n",
      "Validation DataLoader 0:   0%|          | 0/6 [00:00<?, ?it/s]\u001b[A\n",
      "Validation DataLoader 0:  83%|████████▎ | 5/6 [00:01<00:00,  3.72it/s]\u001b[A\u001b[32m [repeated 5x across cluster]\u001b[0m\n",
      "Epoch 7:  14%|█▍        | 4/28 [00:01<00:08,  2.79it/s, v_num=3.41e+7, train_loss_step=0.346, val_loss=0.350, train_loss_epoch=0.347]\u001b[32m [repeated 13x across cluster]\u001b[0m\n",
      "Validation DataLoader 0: 100%|██████████| 6/6 [00:01<00:00,  3.97it/s]\u001b[A\n",
      "Epoch 6: 100%|██████████| 28/28 [00:12<00:00,  2.32it/s, v_num=3.41e+7, train_loss_step=0.481, val_loss=0.350, train_loss_epoch=0.385]\n",
      "Epoch 6: 100%|██████████| 28/28 [00:12<00:00,  2.27it/s, v_num=3.41e+7, train_loss_step=0.481, val_loss=0.350, train_loss_epoch=0.347]\n",
      "Epoch 7:   0%|          | 0/28 [00:00<?, ?it/s, v_num=3.41e+7, train_loss_step=0.481, val_loss=0.350, train_loss_epoch=0.347]         \n",
      "Epoch 7:  68%|██████▊   | 19/28 [00:08<00:03,  2.32it/s, v_num=3.41e+7, train_loss_step=0.386, val_loss=0.319, train_loss_epoch=0.341]\u001b[32m [repeated 25x across cluster]\u001b[0m\n",
      "Epoch 7:  93%|█████████▎| 26/28 [00:11<00:00,  2.34it/s, v_num=3.41e+7, train_loss_step=0.387, val_loss=0.319, train_loss_epoch=0.341]\n",
      "Validation: |          | 0/? [00:00<?, ?it/s]\u001b[A\n",
      "Validation:   0%|          | 0/6 [00:00<?, ?it/s]\u001b[A\n",
      "Validation DataLoader 0:   0%|          | 0/6 [00:00<?, ?it/s]\u001b[A\n",
      "\u001b[36m(RayTrainWorker pid=2735082)\u001b[0m \n",
      "\u001b[36m(RayTrainWorker pid=2734849)\u001b[0m \n",
      "Validation DataLoader 0:  17%|█▋        | 1/6 [00:00<00:01,  3.88it/s]\u001b[A\n",
      "\u001b[36m(RayTrainWorker pid=2735082)\u001b[0m \n",
      "\u001b[36m(RayTrainWorker pid=2734849)\u001b[0m \n",
      "\u001b[36m(RayTrainWorker pid=2735082)\u001b[0m \n",
      "\u001b[36m(RayTrainWorker pid=2734849)\u001b[0m \n",
      "\u001b[36m(RayTrainWorker pid=2735082)\u001b[0m \n",
      "\u001b[36m(RayTrainWorker pid=2734849)\u001b[0m \n",
      "\u001b[36m(RayTrainWorker pid=2735082)\u001b[0m \n",
      "\u001b[36m(RayTrainWorker pid=2734849)\u001b[0m \n",
      "Epoch 7:  89%|████████▉ | 25/28 [00:09<00:01,  2.70it/s, v_num=3.41e+7, train_loss_step=0.304, val_loss=0.350, train_loss_epoch=0.347]\u001b[32m [repeated 14x across cluster]\u001b[0m\n",
      "\u001b[36m(RayTrainWorker pid=2735082)\u001b[0m \n",
      "\u001b[36m(RayTrainWorker pid=2735082)\u001b[0m \n",
      "Validation DataLoader 0: 100%|██████████| 6/6 [00:01<00:00,  3.96it/s]\u001b[A\n",
      "Epoch 7: 100%|██████████| 28/28 [00:11<00:00,  2.35it/s, v_num=3.41e+7, train_loss_step=0.283, val_loss=0.344, train_loss_epoch=0.347]\n"
     ]
    },
    {
     "name": "stderr",
     "output_type": "stream",
     "text": [
      "2025-03-12 00:34:34,513\tWARNING experiment_state.py:206 -- Experiment state snapshotting has been triggered multiple times in the last 5.0 seconds and may become a bottleneck. A snapshot is forced if `CheckpointConfig(num_to_keep)` is set, and a trial has checkpointed >= `num_to_keep` times since the last snapshot.\n",
      "You may want to consider increasing the `CheckpointConfig(num_to_keep)` or decreasing the frequency of saving checkpoints.\n",
      "You can suppress this warning by setting the environment variable TUNE_WARN_EXCESSIVE_EXPERIMENT_CHECKPOINT_SYNC_THRESHOLD_S to a smaller value than the current threshold (5.0). Set it to 0 to completely suppress this warning.\n"
     ]
    },
    {
     "name": "stdout",
     "output_type": "stream",
     "text": [
      "\u001b[36m(RayTrainWorker pid=2734849)\u001b[0m \n"
     ]
    },
    {
     "name": "stderr",
     "output_type": "stream",
     "text": [
      "\u001b[36m(RayTrainWorker pid=2734849)\u001b[0m Checkpoint successfully created at: Checkpoint(filesystem=local, path=/ictstr01/home/aih/serra.korkmaz/projects/saturn/hopt/hpopt_fa7_zinc/ray_results/TorchTrainer_2025-03-12_00-32-19/9c3b6b9f/checkpoint_000007)\u001b[32m [repeated 2x across cluster]\u001b[0m\n",
      "2025-03-12 00:34:34,593\tWARNING experiment_state.py:206 -- Experiment state snapshotting has been triggered multiple times in the last 5.0 seconds and may become a bottleneck. A snapshot is forced if `CheckpointConfig(num_to_keep)` is set, and a trial has checkpointed >= `num_to_keep` times since the last snapshot.\n",
      "You may want to consider increasing the `CheckpointConfig(num_to_keep)` or decreasing the frequency of saving checkpoints.\n",
      "You can suppress this warning by setting the environment variable TUNE_WARN_EXCESSIVE_EXPERIMENT_CHECKPOINT_SYNC_THRESHOLD_S to a smaller value than the current threshold (5.0). Set it to 0 to completely suppress this warning.\n"
     ]
    },
    {
     "name": "stdout",
     "output_type": "stream",
     "text": [
      "Epoch 7: 100%|██████████| 28/28 [00:12<00:00,  2.30it/s, v_num=3.41e+7, train_loss_step=0.283, val_loss=0.344, train_loss_epoch=0.347]\n",
      "Epoch 8:   0%|          | 0/28 [00:00<?, ?it/s, v_num=3.41e+7, train_loss_step=0.283, val_loss=0.344, train_loss_epoch=0.347]         \n",
      "Epoch 7: 100%|██████████| 28/28 [00:10<00:00,  2.71it/s, v_num=3.41e+7, train_loss_step=0.283, val_loss=0.350, train_loss_epoch=0.347]\u001b[32m [repeated 5x across cluster]\u001b[0m\n",
      "Validation: |          | 0/? [00:00<?, ?it/s]\u001b[A\n",
      "Validation:   0%|          | 0/6 [00:00<?, ?it/s]\u001b[A\n",
      "Validation DataLoader 0:   0%|          | 0/6 [00:00<?, ?it/s]\u001b[A\n",
      "Validation DataLoader 0:  83%|████████▎ | 5/6 [00:01<00:00,  3.71it/s]\u001b[A\u001b[32m [repeated 9x across cluster]\u001b[0m\n",
      "Epoch 8:  36%|███▌      | 10/28 [00:04<00:07,  2.28it/s, v_num=3.41e+7, train_loss_step=0.392, val_loss=0.315, train_loss_epoch=0.347]\u001b[32m [repeated 21x across cluster]\u001b[0m\n",
      "Validation DataLoader 0: 100%|██████████| 6/6 [00:01<00:00,  3.39it/s]\u001b[A\n",
      "Epoch 7: 100%|██████████| 28/28 [00:13<00:00,  2.05it/s, v_num=3.41e+7, train_loss_step=0.250, val_loss=0.315, train_loss_epoch=0.341]\n",
      "Epoch 7: 100%|██████████| 28/28 [00:13<00:00,  2.00it/s, v_num=3.41e+7, train_loss_step=0.250, val_loss=0.315, train_loss_epoch=0.347]\n",
      "Epoch 8:   0%|          | 0/28 [00:00<?, ?it/s, v_num=3.41e+7, train_loss_step=0.250, val_loss=0.315, train_loss_epoch=0.347]         \n",
      "Epoch 8:  79%|███████▊  | 22/28 [00:09<00:02,  2.27it/s, v_num=3.41e+7, train_loss_step=0.245, val_loss=0.315, train_loss_epoch=0.347]\u001b[32m [repeated 26x across cluster]\u001b[0m\n",
      "Epoch 8:  93%|█████████▎| 26/28 [00:09<00:00,  2.66it/s, v_num=3.41e+7, train_loss_step=0.245, val_loss=0.344, train_loss_epoch=0.347]\n",
      "Epoch 8:  96%|█████████▋| 27/28 [00:10<00:00,  2.66it/s, v_num=3.41e+7, train_loss_step=0.398, val_loss=0.344, train_loss_epoch=0.347]\n",
      "Epoch 8: 100%|██████████| 28/28 [00:10<00:00,  2.68it/s, v_num=3.41e+7, train_loss_step=0.432, val_loss=0.344, train_loss_epoch=0.347]\n",
      "Validation: |          | 0/? [00:00<?, ?it/s]\u001b[A\n",
      "\u001b[36m(RayTrainWorker pid=2735082)\u001b[0m \n",
      "Validation:   0%|          | 0/6 [00:00<?, ?it/s]\u001b[A\n",
      "Validation DataLoader 0:   0%|          | 0/6 [00:00<?, ?it/s]\u001b[A\n",
      "\u001b[36m(RayTrainWorker pid=2735082)\u001b[0m \n",
      "Validation DataLoader 0:  17%|█▋        | 1/6 [00:00<00:01,  4.99it/s]\u001b[A\n",
      "\u001b[36m(RayTrainWorker pid=2735082)\u001b[0m \n",
      "Validation DataLoader 0:  33%|███▎      | 2/6 [00:00<00:01,  3.88it/s]\u001b[A\n",
      "\u001b[36m(RayTrainWorker pid=2735082)\u001b[0m \n",
      "Validation DataLoader 0:  50%|█████     | 3/6 [00:00<00:00,  3.67it/s]\u001b[A\n",
      "\u001b[36m(RayTrainWorker pid=2735082)\u001b[0m \n",
      "Validation DataLoader 0:  67%|██████▋   | 4/6 [00:01<00:00,  3.70it/s]\u001b[A\n",
      "\u001b[36m(RayTrainWorker pid=2735082)\u001b[0m \n",
      "Validation DataLoader 0:  83%|████████▎ | 5/6 [00:01<00:00,  3.65it/s]\u001b[A\n",
      "\u001b[36m(RayTrainWorker pid=2735082)\u001b[0m \n",
      "Validation DataLoader 0: 100%|██████████| 6/6 [00:01<00:00,  3.90it/s]\u001b[A\n",
      "Epoch 8: 100%|██████████| 28/28 [00:12<00:00,  2.32it/s, v_num=3.41e+7, train_loss_step=0.432, val_loss=0.343, train_loss_epoch=0.347]\n"
     ]
    },
    {
     "name": "stderr",
     "output_type": "stream",
     "text": [
      "\u001b[36m(RayTrainWorker pid=2735082)\u001b[0m Checkpoint successfully created at: Checkpoint(filesystem=local, path=/ictstr01/home/aih/serra.korkmaz/projects/saturn/hopt/hpopt_fa7_zinc/ray_results/TorchTrainer_2025-03-12_00-32-19/5a7e0717/checkpoint_000008)\u001b[32m [repeated 2x across cluster]\u001b[0m\n",
      "2025-03-12 00:34:47,031\tWARNING experiment_state.py:206 -- Experiment state snapshotting has been triggered multiple times in the last 5.0 seconds and may become a bottleneck. A snapshot is forced if `CheckpointConfig(num_to_keep)` is set, and a trial has checkpointed >= `num_to_keep` times since the last snapshot.\n",
      "You may want to consider increasing the `CheckpointConfig(num_to_keep)` or decreasing the frequency of saving checkpoints.\n",
      "You can suppress this warning by setting the environment variable TUNE_WARN_EXCESSIVE_EXPERIMENT_CHECKPOINT_SYNC_THRESHOLD_S to a smaller value than the current threshold (5.0). Set it to 0 to completely suppress this warning.\n"
     ]
    },
    {
     "name": "stdout",
     "output_type": "stream",
     "text": [
      "Epoch 8: 100%|██████████| 28/28 [00:12<00:00,  2.27it/s, v_num=3.41e+7, train_loss_step=0.432, val_loss=0.343, train_loss_epoch=0.364]\n",
      "\u001b[36m(RayTrainWorker pid=2734849)\u001b[0m \n",
      "Epoch 9:   0%|          | 0/28 [00:00<?, ?it/s, v_num=3.41e+7, train_loss_step=0.432, val_loss=0.343, train_loss_epoch=0.364]         \n",
      "\u001b[36m(RayTrainWorker pid=2734849)\u001b[0m \n",
      "\u001b[36m(RayTrainWorker pid=2734849)\u001b[0m \n",
      "\u001b[36m(RayTrainWorker pid=2734849)\u001b[0m \n",
      "\u001b[36m(RayTrainWorker pid=2734849)\u001b[0m \n",
      "\u001b[36m(RayTrainWorker pid=2734849)\u001b[0m \n",
      "\u001b[36m(RayTrainWorker pid=2734849)\u001b[0m \n"
     ]
    },
    {
     "name": "stderr",
     "output_type": "stream",
     "text": [
      "2025-03-12 00:34:49,170\tWARNING experiment_state.py:206 -- Experiment state snapshotting has been triggered multiple times in the last 5.0 seconds and may become a bottleneck. A snapshot is forced if `CheckpointConfig(num_to_keep)` is set, and a trial has checkpointed >= `num_to_keep` times since the last snapshot.\n",
      "You may want to consider increasing the `CheckpointConfig(num_to_keep)` or decreasing the frequency of saving checkpoints.\n",
      "You can suppress this warning by setting the environment variable TUNE_WARN_EXCESSIVE_EXPERIMENT_CHECKPOINT_SYNC_THRESHOLD_S to a smaller value than the current threshold (5.0). Set it to 0 to completely suppress this warning.\n"
     ]
    },
    {
     "name": "stdout",
     "output_type": "stream",
     "text": [
      "Epoch 9:  21%|██▏       | 6/28 [00:02<00:08,  2.57it/s, v_num=3.41e+7, train_loss_step=0.358, val_loss=0.343, train_loss_epoch=0.364]\u001b[32m [repeated 9x across cluster]\u001b[0m\n",
      "Epoch 8: 100%|██████████| 28/28 [00:12<00:00,  2.29it/s, v_num=3.41e+7, train_loss_step=0.441, val_loss=0.315, train_loss_epoch=0.347]\u001b[32m [repeated 3x across cluster]\u001b[0m\n",
      "Validation: |          | 0/? [00:00<?, ?it/s]\u001b[A\n",
      "Validation:   0%|          | 0/6 [00:00<?, ?it/s]\u001b[A\n",
      "Validation DataLoader 0:   0%|          | 0/6 [00:00<?, ?it/s]\u001b[A\n",
      "Validation DataLoader 0:  83%|████████▎ | 5/6 [00:01<00:00,  3.02it/s]\u001b[A\u001b[32m [repeated 5x across cluster]\u001b[0m\n",
      "Validation DataLoader 0: 100%|██████████| 6/6 [00:01<00:00,  3.22it/s]\u001b[A\n",
      "Epoch 8: 100%|██████████| 28/28 [00:14<00:00,  1.97it/s, v_num=3.41e+7, train_loss_step=0.441, val_loss=0.353, train_loss_epoch=0.347]\n",
      "Epoch 8: 100%|██████████| 28/28 [00:14<00:00,  1.94it/s, v_num=3.41e+7, train_loss_step=0.441, val_loss=0.353, train_loss_epoch=0.353]\n",
      "Epoch 9:   0%|          | 0/28 [00:00<?, ?it/s, v_num=3.41e+7, train_loss_step=0.441, val_loss=0.353, train_loss_epoch=0.353]         \n",
      "Epoch 9:  43%|████▎     | 12/28 [00:05<00:07,  2.26it/s, v_num=3.41e+7, train_loss_step=0.271, val_loss=0.353, train_loss_epoch=0.353]\u001b[32m [repeated 25x across cluster]\u001b[0m\n",
      "Epoch 9:  93%|█████████▎| 26/28 [00:09<00:00,  2.62it/s, v_num=3.41e+7, train_loss_step=0.308, val_loss=0.343, train_loss_epoch=0.364]\n",
      "Epoch 9:  96%|█████████▋| 27/28 [00:10<00:00,  2.63it/s, v_num=3.41e+7, train_loss_step=0.289, val_loss=0.343, train_loss_epoch=0.364]\n",
      "Epoch 9: 100%|██████████| 28/28 [00:10<00:00,  2.65it/s, v_num=3.41e+7, train_loss_step=0.384, val_loss=0.343, train_loss_epoch=0.364]\n",
      "Validation: |          | 0/? [00:00<?, ?it/s]\u001b[A\n",
      "Validation:   0%|          | 0/6 [00:00<?, ?it/s]\u001b[A\n",
      "Validation DataLoader 0:   0%|          | 0/6 [00:00<?, ?it/s]\u001b[A\n",
      "\u001b[36m(RayTrainWorker pid=2735082)\u001b[0m \n",
      "Validation DataLoader 0:  17%|█▋        | 1/6 [00:00<00:01,  4.82it/s]\u001b[A\n",
      "\u001b[36m(RayTrainWorker pid=2735082)\u001b[0m \n",
      "Validation DataLoader 0:  33%|███▎      | 2/6 [00:00<00:00,  4.29it/s]\u001b[A\n",
      "\u001b[36m(RayTrainWorker pid=2735082)\u001b[0m \n",
      "Validation DataLoader 0:  50%|█████     | 3/6 [00:00<00:00,  4.07it/s]\u001b[A\n",
      "\u001b[36m(RayTrainWorker pid=2735082)\u001b[0m \n",
      "Validation DataLoader 0:  67%|██████▋   | 4/6 [00:01<00:00,  3.94it/s]\u001b[A\n",
      "\u001b[36m(RayTrainWorker pid=2735082)\u001b[0m \n",
      "Validation DataLoader 0:  83%|████████▎ | 5/6 [00:01<00:00,  3.90it/s]\u001b[A\n",
      "\u001b[36m(RayTrainWorker pid=2735082)\u001b[0m \n",
      "Validation DataLoader 0: 100%|██████████| 6/6 [00:01<00:00,  4.17it/s]\u001b[A\n",
      "Epoch 9: 100%|██████████| 28/28 [00:12<00:00,  2.32it/s, v_num=3.41e+7, train_loss_step=0.384, val_loss=0.261, train_loss_epoch=0.364]\n"
     ]
    },
    {
     "name": "stderr",
     "output_type": "stream",
     "text": [
      "\u001b[36m(RayTrainWorker pid=2735082)\u001b[0m Checkpoint successfully created at: Checkpoint(filesystem=local, path=/ictstr01/home/aih/serra.korkmaz/projects/saturn/hopt/hpopt_fa7_zinc/ray_results/TorchTrainer_2025-03-12_00-32-19/5a7e0717/checkpoint_000009)\u001b[32m [repeated 2x across cluster]\u001b[0m\n",
      "2025-03-12 00:34:59,636\tWARNING experiment_state.py:206 -- Experiment state snapshotting has been triggered multiple times in the last 5.0 seconds and may become a bottleneck. A snapshot is forced if `CheckpointConfig(num_to_keep)` is set, and a trial has checkpointed >= `num_to_keep` times since the last snapshot.\n",
      "You may want to consider increasing the `CheckpointConfig(num_to_keep)` or decreasing the frequency of saving checkpoints.\n",
      "You can suppress this warning by setting the environment variable TUNE_WARN_EXCESSIVE_EXPERIMENT_CHECKPOINT_SYNC_THRESHOLD_S to a smaller value than the current threshold (5.0). Set it to 0 to completely suppress this warning.\n"
     ]
    },
    {
     "name": "stdout",
     "output_type": "stream",
     "text": [
      "Epoch 9: 100%|██████████| 28/28 [00:12<00:00,  2.26it/s, v_num=3.41e+7, train_loss_step=0.384, val_loss=0.261, train_loss_epoch=0.330]\n",
      "Epoch 10:   0%|          | 0/28 [00:00<?, ?it/s, v_num=3.41e+7, train_loss_step=0.384, val_loss=0.261, train_loss_epoch=0.330]        \n",
      "Epoch 9:  82%|████████▏ | 23/28 [00:10<00:02,  2.28it/s, v_num=3.41e+7, train_loss_step=0.308, val_loss=0.353, train_loss_epoch=0.353]\u001b[32m [repeated 17x across cluster]\u001b[0m\n",
      "\u001b[36m(RayTrainWorker pid=2734849)\u001b[0m \n",
      "\u001b[36m(RayTrainWorker pid=2734849)\u001b[0m \n",
      "Epoch 9: 100%|██████████| 28/28 [00:12<00:00,  2.29it/s, v_num=3.41e+7, train_loss_step=0.360, val_loss=0.353, train_loss_epoch=0.353]\u001b[32m [repeated 3x across cluster]\u001b[0m\n",
      "\u001b[36m(RayTrainWorker pid=2734849)\u001b[0m \n",
      "\u001b[36m(RayTrainWorker pid=2734849)\u001b[0m \n",
      "Validation: |          | 0/? [00:00<?, ?it/s]\u001b[A\n",
      "Validation:   0%|          | 0/6 [00:00<?, ?it/s]\u001b[A\n",
      "Validation DataLoader 0:   0%|          | 0/6 [00:00<?, ?it/s]\u001b[A\n",
      "Validation DataLoader 0:  67%|██████▋   | 4/6 [00:01<00:00,  3.14it/s]\u001b[A\u001b[32m [repeated 4x across cluster]\u001b[0m\n",
      "\u001b[36m(RayTrainWorker pid=2734849)\u001b[0m \n",
      "\u001b[36m(RayTrainWorker pid=2734849)\u001b[0m \n"
     ]
    },
    {
     "name": "stderr",
     "output_type": "stream",
     "text": [
      "2025-03-12 00:35:03,769\tWARNING experiment_state.py:206 -- Experiment state snapshotting has been triggered multiple times in the last 5.0 seconds and may become a bottleneck. A snapshot is forced if `CheckpointConfig(num_to_keep)` is set, and a trial has checkpointed >= `num_to_keep` times since the last snapshot.\n",
      "You may want to consider increasing the `CheckpointConfig(num_to_keep)` or decreasing the frequency of saving checkpoints.\n",
      "You can suppress this warning by setting the environment variable TUNE_WARN_EXCESSIVE_EXPERIMENT_CHECKPOINT_SYNC_THRESHOLD_S to a smaller value than the current threshold (5.0). Set it to 0 to completely suppress this warning.\n"
     ]
    },
    {
     "name": "stdout",
     "output_type": "stream",
     "text": [
      "Validation DataLoader 0: 100%|██████████| 6/6 [00:01<00:00,  3.36it/s]\u001b[A\n",
      "Epoch 9: 100%|██████████| 28/28 [00:14<00:00,  1.99it/s, v_num=3.41e+7, train_loss_step=0.360, val_loss=0.286, train_loss_epoch=0.353]\n",
      "Epoch 9: 100%|██████████| 28/28 [00:14<00:00,  1.95it/s, v_num=3.41e+7, train_loss_step=0.360, val_loss=0.286, train_loss_epoch=0.326]\n",
      "Epoch 10:   0%|          | 0/28 [00:00<?, ?it/s, v_num=3.41e+7, train_loss_step=0.360, val_loss=0.286, train_loss_epoch=0.326]        \n",
      "Epoch 10:  50%|█████     | 14/28 [00:05<00:05,  2.66it/s, v_num=3.41e+7, train_loss_step=0.299, val_loss=0.261, train_loss_epoch=0.330]\u001b[32m [repeated 18x across cluster]\u001b[0m\n",
      "Validation DataLoader 0:  83%|████████▎ | 5/6 [00:01<00:00,  3.13it/s]\u001b[A\n",
      "Epoch 10:  93%|█████████▎| 26/28 [00:09<00:00,  2.69it/s, v_num=3.41e+7, train_loss_step=0.343, val_loss=0.261, train_loss_epoch=0.330]\n",
      "Epoch 10:  96%|█████████▋| 27/28 [00:10<00:00,  2.69it/s, v_num=3.41e+7, train_loss_step=0.256, val_loss=0.261, train_loss_epoch=0.330]\n",
      "Epoch 10:  50%|█████     | 14/28 [00:06<00:06,  2.26it/s, v_num=3.41e+7, train_loss_step=0.310, val_loss=0.286, train_loss_epoch=0.326]\u001b[32m [repeated 23x across cluster]\u001b[0m\n",
      "Epoch 10: 100%|██████████| 28/28 [00:10<00:00,  2.72it/s, v_num=3.41e+7, train_loss_step=0.278, val_loss=0.261, train_loss_epoch=0.330]\n",
      "Validation: |          | 0/? [00:00<?, ?it/s]\u001b[A\n",
      "\u001b[36m(RayTrainWorker pid=2735082)\u001b[0m \n",
      "Validation:   0%|          | 0/6 [00:00<?, ?it/s]\u001b[A\n",
      "Validation DataLoader 0:   0%|          | 0/6 [00:00<?, ?it/s]\u001b[A\n",
      "\u001b[36m(RayTrainWorker pid=2735082)\u001b[0m \n",
      "Validation DataLoader 0:  17%|█▋        | 1/6 [00:00<00:01,  4.65it/s]\u001b[A\n",
      "\u001b[36m(RayTrainWorker pid=2735082)\u001b[0m \n",
      "Validation DataLoader 0:  33%|███▎      | 2/6 [00:00<00:00,  4.12it/s]\u001b[A\n",
      "\u001b[36m(RayTrainWorker pid=2735082)\u001b[0m \n",
      "Validation DataLoader 0:  50%|█████     | 3/6 [00:00<00:00,  3.81it/s]\u001b[A\n",
      "\u001b[36m(RayTrainWorker pid=2735082)\u001b[0m \n",
      "Validation DataLoader 0:  67%|██████▋   | 4/6 [00:01<00:00,  3.83it/s]\u001b[A\n",
      "\u001b[36m(RayTrainWorker pid=2735082)\u001b[0m \n",
      "Validation DataLoader 0:  83%|████████▎ | 5/6 [00:01<00:00,  3.82it/s]\u001b[A\n",
      "\u001b[36m(RayTrainWorker pid=2735082)\u001b[0m \n",
      "Validation DataLoader 0: 100%|██████████| 6/6 [00:01<00:00,  4.09it/s]\u001b[A\n",
      "Epoch 10: 100%|██████████| 28/28 [00:11<00:00,  2.36it/s, v_num=3.41e+7, train_loss_step=0.278, val_loss=0.271, train_loss_epoch=0.330]\n",
      "Epoch 10: 100%|██████████| 28/28 [00:12<00:00,  2.30it/s, v_num=3.41e+7, train_loss_step=0.278, val_loss=0.271, train_loss_epoch=0.294]\n"
     ]
    },
    {
     "name": "stderr",
     "output_type": "stream",
     "text": [
      "\u001b[36m(RayTrainWorker pid=2735082)\u001b[0m Checkpoint successfully created at: Checkpoint(filesystem=local, path=/ictstr01/home/aih/serra.korkmaz/projects/saturn/hopt/hpopt_fa7_zinc/ray_results/TorchTrainer_2025-03-12_00-32-19/5a7e0717/checkpoint_000010)\u001b[32m [repeated 2x across cluster]\u001b[0m\n"
     ]
    },
    {
     "name": "stdout",
     "output_type": "stream",
     "text": [
      "Epoch 11:   0%|          | 0/28 [00:00<?, ?it/s, v_num=3.41e+7, train_loss_step=0.278, val_loss=0.271, train_loss_epoch=0.294]         \n",
      "Epoch 11:  29%|██▊       | 8/28 [00:03<00:07,  2.64it/s, v_num=3.41e+7, train_loss_step=0.203, val_loss=0.271, train_loss_epoch=0.294]\u001b[32m [repeated 19x across cluster]\u001b[0m\n",
      "Epoch 10:  93%|█████████▎| 26/28 [00:11<00:00,  2.26it/s, v_num=3.41e+7, train_loss_step=0.328, val_loss=0.286, train_loss_epoch=0.326]\n",
      "Epoch 10:  96%|█████████▋| 27/28 [00:11<00:00,  2.26it/s, v_num=3.41e+7, train_loss_step=0.254, val_loss=0.286, train_loss_epoch=0.326]\n",
      "Epoch 10: 100%|██████████| 28/28 [00:12<00:00,  2.28it/s, v_num=3.41e+7, train_loss_step=0.282, val_loss=0.286, train_loss_epoch=0.326]\n",
      "Validation: |          | 0/? [00:00<?, ?it/s]\u001b[A\n",
      "Validation:   0%|          | 0/6 [00:00<?, ?it/s]\u001b[A\n",
      "Validation DataLoader 0:   0%|          | 0/6 [00:00<?, ?it/s]\u001b[A\n",
      "\u001b[36m(RayTrainWorker pid=2734849)\u001b[0m \n",
      "Validation DataLoader 0:  17%|█▋        | 1/6 [00:00<00:01,  3.34it/s]\u001b[A\n",
      "\u001b[36m(RayTrainWorker pid=2734849)\u001b[0m \n",
      "Validation DataLoader 0:  33%|███▎      | 2/6 [00:00<00:01,  3.04it/s]\u001b[A\n",
      "\u001b[36m(RayTrainWorker pid=2734849)\u001b[0m \n",
      "Validation DataLoader 0:  50%|█████     | 3/6 [00:00<00:00,  3.07it/s]\u001b[A\n",
      "\u001b[36m(RayTrainWorker pid=2734849)\u001b[0m \n",
      "Validation DataLoader 0:  67%|██████▋   | 4/6 [00:01<00:00,  3.05it/s]\u001b[A\n",
      "\u001b[36m(RayTrainWorker pid=2734849)\u001b[0m \n",
      "Validation DataLoader 0:  83%|████████▎ | 5/6 [00:01<00:00,  3.04it/s]\u001b[A\n",
      "\u001b[36m(RayTrainWorker pid=2734849)\u001b[0m \n",
      "Validation DataLoader 0: 100%|██████████| 6/6 [00:01<00:00,  3.26it/s]\u001b[A\n",
      "Epoch 10: 100%|██████████| 28/28 [00:14<00:00,  1.97it/s, v_num=3.41e+7, train_loss_step=0.282, val_loss=0.276, train_loss_epoch=0.326]\n",
      "Epoch 10: 100%|██████████| 28/28 [00:14<00:00,  1.94it/s, v_num=3.41e+7, train_loss_step=0.282, val_loss=0.276, train_loss_epoch=0.287]\n",
      "Epoch 11:   0%|          | 0/28 [00:00<?, ?it/s, v_num=3.41e+7, train_loss_step=0.282, val_loss=0.276, train_loss_epoch=0.287]         \n"
     ]
    },
    {
     "name": "stderr",
     "output_type": "stream",
     "text": [
      "\u001b[36m(RayTrainWorker pid=2734849)\u001b[0m Checkpoint successfully created at: Checkpoint(filesystem=local, path=/ictstr01/home/aih/serra.korkmaz/projects/saturn/hopt/hpopt_fa7_zinc/ray_results/TorchTrainer_2025-03-12_00-32-19/9c3b6b9f/checkpoint_000010)\n"
     ]
    },
    {
     "name": "stdout",
     "output_type": "stream",
     "text": [
      "Epoch 11:  14%|█▍        | 4/28 [00:01<00:10,  2.29it/s, v_num=3.41e+7, train_loss_step=0.313, val_loss=0.276, train_loss_epoch=0.287]\u001b[32m [repeated 17x across cluster]\u001b[0m\n",
      "Epoch 11:  93%|█████████▎| 26/28 [00:09<00:00,  2.65it/s, v_num=3.41e+7, train_loss_step=0.414, val_loss=0.271, train_loss_epoch=0.294]\n",
      "Epoch 11:  96%|█████████▋| 27/28 [00:10<00:00,  2.65it/s, v_num=3.41e+7, train_loss_step=0.252, val_loss=0.271, train_loss_epoch=0.294]\n",
      "Epoch 11: 100%|██████████| 28/28 [00:10<00:00,  2.67it/s, v_num=3.41e+7, train_loss_step=0.229, val_loss=0.271, train_loss_epoch=0.294]\n",
      "Validation: |          | 0/? [00:00<?, ?it/s]\u001b[A\n",
      "\u001b[36m(RayTrainWorker pid=2735082)\u001b[0m \n",
      "Validation:   0%|          | 0/6 [00:00<?, ?it/s]\u001b[A\n",
      "Validation DataLoader 0:   0%|          | 0/6 [00:00<?, ?it/s]\u001b[A\n",
      "\u001b[36m(RayTrainWorker pid=2735082)\u001b[0m \n",
      "Validation DataLoader 0:  17%|█▋        | 1/6 [00:00<00:01,  4.54it/s]\u001b[A\n",
      "\u001b[36m(RayTrainWorker pid=2735082)\u001b[0m \n",
      "Validation DataLoader 0:  33%|███▎      | 2/6 [00:00<00:01,  3.82it/s]\u001b[A\n",
      "\u001b[36m(RayTrainWorker pid=2735082)\u001b[0m \n",
      "Validation DataLoader 0:  50%|█████     | 3/6 [00:00<00:00,  3.72it/s]\u001b[A\n",
      "\u001b[36m(RayTrainWorker pid=2735082)\u001b[0m \n",
      "Validation DataLoader 0:  67%|██████▋   | 4/6 [00:01<00:00,  3.67it/s]\u001b[A\n",
      "\u001b[36m(RayTrainWorker pid=2735082)\u001b[0m \n",
      "Validation DataLoader 0:  83%|████████▎ | 5/6 [00:01<00:00,  3.69it/s]\u001b[A\n",
      "\u001b[36m(RayTrainWorker pid=2735082)\u001b[0m \n",
      "Validation DataLoader 0: 100%|██████████| 6/6 [00:01<00:00,  3.93it/s]\u001b[A\n",
      "Epoch 11: 100%|██████████| 28/28 [00:12<00:00,  2.32it/s, v_num=3.41e+7, train_loss_step=0.229, val_loss=0.550, train_loss_epoch=0.294]\n",
      "Epoch 11: 100%|██████████| 28/28 [00:12<00:00,  2.26it/s, v_num=3.41e+7, train_loss_step=0.229, val_loss=0.550, train_loss_epoch=0.291]\n",
      "Epoch 11:  50%|█████     | 14/28 [00:06<00:06,  2.31it/s, v_num=3.41e+7, train_loss_step=0.277, val_loss=0.276, train_loss_epoch=0.287]\n",
      "Epoch 11:  50%|█████     | 14/28 [00:06<00:06,  2.31it/s, v_num=3.41e+7, train_loss_step=0.308, val_loss=0.276, train_loss_epoch=0.287]\n"
     ]
    },
    {
     "name": "stderr",
     "output_type": "stream",
     "text": [
      "\u001b[36m(RayTrainWorker pid=2735082)\u001b[0m Checkpoint successfully created at: Checkpoint(filesystem=local, path=/ictstr01/home/aih/serra.korkmaz/projects/saturn/hopt/hpopt_fa7_zinc/ray_results/TorchTrainer_2025-03-12_00-32-19/5a7e0717/checkpoint_000011)\n"
     ]
    },
    {
     "name": "stdout",
     "output_type": "stream",
     "text": [
      "Epoch 12:   0%|          | 0/28 [00:00<?, ?it/s, v_num=3.41e+7, train_loss_step=0.229, val_loss=0.550, train_loss_epoch=0.291]         \n",
      "Epoch 11:  57%|█████▋    | 16/28 [00:06<00:05,  2.32it/s, v_num=3.41e+7, train_loss_step=0.275, val_loss=0.276, train_loss_epoch=0.287]\u001b[32m [repeated 16x across cluster]\u001b[0m\n",
      "Epoch 11:  93%|█████████▎| 26/28 [00:11<00:00,  2.29it/s, v_num=3.41e+7, train_loss_step=0.395, val_loss=0.276, train_loss_epoch=0.287]\n",
      "Epoch 11:  96%|█████████▋| 27/28 [00:11<00:00,  2.29it/s, v_num=3.41e+7, train_loss_step=0.263, val_loss=0.276, train_loss_epoch=0.287]\n",
      "Epoch 11: 100%|██████████| 28/28 [00:12<00:00,  2.31it/s, v_num=3.41e+7, train_loss_step=0.267, val_loss=0.276, train_loss_epoch=0.287]\n",
      "Validation: |          | 0/? [00:00<?, ?it/s]\u001b[A\n",
      "Epoch 12:  54%|█████▎    | 15/28 [00:05<00:04,  2.67it/s, v_num=3.41e+7, train_loss_step=0.422, val_loss=0.550, train_loss_epoch=0.291]\u001b[32m [repeated 23x across cluster]\u001b[0m\n",
      "\u001b[36m(RayTrainWorker pid=2734849)\u001b[0m \n",
      "Validation:   0%|          | 0/6 [00:00<?, ?it/s]\u001b[A\n",
      "Validation DataLoader 0:   0%|          | 0/6 [00:00<?, ?it/s]\u001b[A\n",
      "\u001b[36m(RayTrainWorker pid=2734849)\u001b[0m \n",
      "Validation DataLoader 0:  17%|█▋        | 1/6 [00:00<00:01,  3.78it/s]\u001b[A\n",
      "\u001b[36m(RayTrainWorker pid=2734849)\u001b[0m \n",
      "Validation DataLoader 0:  33%|███▎      | 2/6 [00:00<00:01,  3.46it/s]\u001b[A\n",
      "\u001b[36m(RayTrainWorker pid=2734849)\u001b[0m \n",
      "Validation DataLoader 0:  50%|█████     | 3/6 [00:00<00:00,  3.36it/s]\u001b[A\n",
      "\u001b[36m(RayTrainWorker pid=2734849)\u001b[0m \n",
      "Validation DataLoader 0:  67%|██████▋   | 4/6 [00:01<00:00,  3.35it/s]\u001b[A\n",
      "\u001b[36m(RayTrainWorker pid=2734849)\u001b[0m \n",
      "Validation DataLoader 0:  83%|████████▎ | 5/6 [00:01<00:00,  3.26it/s]\u001b[A\n",
      "\u001b[36m(RayTrainWorker pid=2734849)\u001b[0m \n",
      "Validation DataLoader 0: 100%|██████████| 6/6 [00:01<00:00,  3.49it/s]\u001b[A\n",
      "Epoch 11: 100%|██████████| 28/28 [00:13<00:00,  2.01it/s, v_num=3.41e+7, train_loss_step=0.267, val_loss=0.333, train_loss_epoch=0.287]\n",
      "Epoch 11: 100%|██████████| 28/28 [00:14<00:00,  1.98it/s, v_num=3.41e+7, train_loss_step=0.267, val_loss=0.333, train_loss_epoch=0.279]\n",
      "Epoch 12:   0%|          | 0/28 [00:00<?, ?it/s, v_num=3.41e+7, train_loss_step=0.267, val_loss=0.333, train_loss_epoch=0.279]         \n"
     ]
    },
    {
     "name": "stderr",
     "output_type": "stream",
     "text": [
      "\u001b[36m(RayTrainWorker pid=2734849)\u001b[0m Checkpoint successfully created at: Checkpoint(filesystem=local, path=/ictstr01/home/aih/serra.korkmaz/projects/saturn/hopt/hpopt_fa7_zinc/ray_results/TorchTrainer_2025-03-12_00-32-19/9c3b6b9f/checkpoint_000011)\n"
     ]
    },
    {
     "name": "stdout",
     "output_type": "stream",
     "text": [
      "Epoch 12:  96%|█████████▋| 27/28 [00:10<00:00,  2.69it/s, v_num=3.41e+7, train_loss_step=0.272, val_loss=0.550, train_loss_epoch=0.291]\u001b[32m [repeated 2x across cluster]\u001b[0m\n",
      "\u001b[36m(RayTrainWorker pid=2735082)\u001b[0m \n",
      "\u001b[36m(RayTrainWorker pid=2735082)\u001b[0m \n",
      "\u001b[36m(RayTrainWorker pid=2735082)\u001b[0m \n",
      "Validation: |          | 0/? [00:00<?, ?it/s]\u001b[A\n",
      "Epoch 12:  25%|██▌       | 7/28 [00:03<00:09,  2.33it/s, v_num=3.41e+7, train_loss_step=0.246, val_loss=0.333, train_loss_epoch=0.279]\u001b[32m [repeated 17x across cluster]\u001b[0m\n",
      "Validation:   0%|          | 0/6 [00:00<?, ?it/s]\u001b[A\n",
      "Validation DataLoader 0:   0%|          | 0/6 [00:00<?, ?it/s]\u001b[A\n",
      "\u001b[36m(RayTrainWorker pid=2735082)\u001b[0m \n",
      "\u001b[36m(RayTrainWorker pid=2735082)\u001b[0m \n",
      "Validation DataLoader 0:  67%|██████▋   | 4/6 [00:00<00:00,  4.01it/s]\u001b[A\u001b[32m [repeated 4x across cluster]\u001b[0m\n",
      "\u001b[36m(RayTrainWorker pid=2735082)\u001b[0m \n",
      "\u001b[36m(RayTrainWorker pid=2735082)\u001b[0m \n",
      "\u001b[36m(RayTrainWorker pid=2735082)\u001b[0m \n"
     ]
    },
    {
     "name": "stderr",
     "output_type": "stream",
     "text": [
      "2025-03-12 00:35:36,920\tWARNING experiment_state.py:206 -- Experiment state snapshotting has been triggered multiple times in the last 5.0 seconds and may become a bottleneck. A snapshot is forced if `CheckpointConfig(num_to_keep)` is set, and a trial has checkpointed >= `num_to_keep` times since the last snapshot.\n",
      "You may want to consider increasing the `CheckpointConfig(num_to_keep)` or decreasing the frequency of saving checkpoints.\n",
      "You can suppress this warning by setting the environment variable TUNE_WARN_EXCESSIVE_EXPERIMENT_CHECKPOINT_SYNC_THRESHOLD_S to a smaller value than the current threshold (5.0). Set it to 0 to completely suppress this warning.\n",
      "\u001b[36m(RayTrainWorker pid=2735082)\u001b[0m Checkpoint successfully created at: Checkpoint(filesystem=local, path=/ictstr01/home/aih/serra.korkmaz/projects/saturn/hopt/hpopt_fa7_zinc/ray_results/TorchTrainer_2025-03-12_00-32-19/5a7e0717/checkpoint_000012)\n"
     ]
    },
    {
     "name": "stdout",
     "output_type": "stream",
     "text": [
      "Validation DataLoader 0: 100%|██████████| 6/6 [00:01<00:00,  4.09it/s]\u001b[A\n",
      "Epoch 12: 100%|██████████| 28/28 [00:11<00:00,  2.36it/s, v_num=3.41e+7, train_loss_step=0.227, val_loss=0.332, train_loss_epoch=0.291]\n",
      "Epoch 12: 100%|██████████| 28/28 [00:12<00:00,  2.29it/s, v_num=3.41e+7, train_loss_step=0.227, val_loss=0.332, train_loss_epoch=0.295]\n",
      "Epoch 13:   0%|          | 0/28 [00:00<?, ?it/s, v_num=3.41e+7, train_loss_step=0.227, val_loss=0.332, train_loss_epoch=0.295]         \n",
      "Epoch 13:  21%|██▏       | 6/28 [00:02<00:08,  2.64it/s, v_num=3.41e+7, train_loss_step=0.314, val_loss=0.332, train_loss_epoch=0.295]\n",
      "Epoch 13:  21%|██▏       | 6/28 [00:02<00:08,  2.64it/s, v_num=3.41e+7, train_loss_step=0.231, val_loss=0.332, train_loss_epoch=0.295]\n",
      "Epoch 12: 100%|██████████| 28/28 [00:10<00:00,  2.71it/s, v_num=3.41e+7, train_loss_step=0.227, val_loss=0.550, train_loss_epoch=0.291]\n",
      "Epoch 13:  36%|███▌      | 10/28 [00:03<00:06,  2.59it/s, v_num=3.41e+7, train_loss_step=0.282, val_loss=0.332, train_loss_epoch=0.295]\u001b[32m [repeated 20x across cluster]\u001b[0m\n",
      "Validation DataLoader 0:  83%|████████▎ | 5/6 [00:01<00:00,  3.85it/s]\u001b[A\n",
      "Epoch 12:  93%|█████████▎| 26/28 [00:11<00:00,  2.28it/s, v_num=3.41e+7, train_loss_step=0.297, val_loss=0.333, train_loss_epoch=0.279]\n",
      "Epoch 12:  96%|█████████▋| 27/28 [00:11<00:00,  2.29it/s, v_num=3.41e+7, train_loss_step=0.291, val_loss=0.333, train_loss_epoch=0.279]\n",
      "Epoch 12: 100%|██████████| 28/28 [00:12<00:00,  2.31it/s, v_num=3.41e+7, train_loss_step=0.253, val_loss=0.333, train_loss_epoch=0.279]\n",
      "Validation: |          | 0/? [00:00<?, ?it/s]\u001b[A\n",
      "\u001b[36m(RayTrainWorker pid=2734849)\u001b[0m \n",
      "Validation:   0%|          | 0/6 [00:00<?, ?it/s]\u001b[A\n",
      "Validation DataLoader 0:   0%|          | 0/6 [00:00<?, ?it/s]\u001b[A\n",
      "\u001b[36m(RayTrainWorker pid=2734849)\u001b[0m \n",
      "Validation DataLoader 0:  17%|█▋        | 1/6 [00:00<00:01,  3.33it/s]\u001b[A\n",
      "\u001b[36m(RayTrainWorker pid=2734849)\u001b[0m \n",
      "Validation DataLoader 0:  33%|███▎      | 2/6 [00:00<00:01,  3.15it/s]\u001b[A\n",
      "\u001b[36m(RayTrainWorker pid=2734849)\u001b[0m \n",
      "Validation DataLoader 0:  50%|█████     | 3/6 [00:00<00:00,  3.17it/s]\u001b[A\n",
      "Epoch 13:  82%|████████▏ | 23/28 [00:08<00:01,  2.64it/s, v_num=3.41e+7, train_loss_step=0.258, val_loss=0.332, train_loss_epoch=0.295]\u001b[32m [repeated 20x across cluster]\u001b[0m\n",
      "\u001b[36m(RayTrainWorker pid=2734849)\u001b[0m \n",
      "Validation DataLoader 0:  67%|██████▋   | 4/6 [00:01<00:00,  3.17it/s]\u001b[A\n",
      "\u001b[36m(RayTrainWorker pid=2734849)\u001b[0m \n",
      "Validation DataLoader 0:  83%|████████▎ | 5/6 [00:01<00:00,  3.14it/s]\u001b[A\n",
      "\u001b[36m(RayTrainWorker pid=2734849)\u001b[0m \n",
      "Validation DataLoader 0: 100%|██████████| 6/6 [00:01<00:00,  3.39it/s]\u001b[A\n",
      "Epoch 12: 100%|██████████| 28/28 [00:13<00:00,  2.01it/s, v_num=3.41e+7, train_loss_step=0.253, val_loss=0.348, train_loss_epoch=0.279]\n"
     ]
    },
    {
     "name": "stderr",
     "output_type": "stream",
     "text": [
      "2025-03-12 00:35:47,112\tWARNING experiment_state.py:206 -- Experiment state snapshotting has been triggered multiple times in the last 5.0 seconds and may become a bottleneck. A snapshot is forced if `CheckpointConfig(num_to_keep)` is set, and a trial has checkpointed >= `num_to_keep` times since the last snapshot.\n",
      "You may want to consider increasing the `CheckpointConfig(num_to_keep)` or decreasing the frequency of saving checkpoints.\n",
      "You can suppress this warning by setting the environment variable TUNE_WARN_EXCESSIVE_EXPERIMENT_CHECKPOINT_SYNC_THRESHOLD_S to a smaller value than the current threshold (5.0). Set it to 0 to completely suppress this warning.\n",
      "\u001b[36m(RayTrainWorker pid=2734849)\u001b[0m Checkpoint successfully created at: Checkpoint(filesystem=local, path=/ictstr01/home/aih/serra.korkmaz/projects/saturn/hopt/hpopt_fa7_zinc/ray_results/TorchTrainer_2025-03-12_00-32-19/9c3b6b9f/checkpoint_000012)\n"
     ]
    },
    {
     "name": "stdout",
     "output_type": "stream",
     "text": [
      "Epoch 12: 100%|██████████| 28/28 [00:14<00:00,  1.97it/s, v_num=3.41e+7, train_loss_step=0.253, val_loss=0.348, train_loss_epoch=0.282]\n",
      "Epoch 13:   0%|          | 0/28 [00:00<?, ?it/s, v_num=3.41e+7, train_loss_step=0.253, val_loss=0.348, train_loss_epoch=0.282]         \n",
      "\u001b[36m(RayTrainWorker pid=2735082)\u001b[0m \n",
      "\u001b[36m(RayTrainWorker pid=2735082)\u001b[0m \n",
      "\u001b[36m(RayTrainWorker pid=2735082)\u001b[0m \n",
      "\u001b[36m(RayTrainWorker pid=2735082)\u001b[0m \n",
      "\u001b[36m(RayTrainWorker pid=2735082)\u001b[0m \n",
      "\u001b[36m(RayTrainWorker pid=2735082)\u001b[0m \n"
     ]
    },
    {
     "name": "stderr",
     "output_type": "stream",
     "text": [
      "2025-03-12 00:35:49,411\tWARNING experiment_state.py:206 -- Experiment state snapshotting has been triggered multiple times in the last 5.0 seconds and may become a bottleneck. A snapshot is forced if `CheckpointConfig(num_to_keep)` is set, and a trial has checkpointed >= `num_to_keep` times since the last snapshot.\n",
      "You may want to consider increasing the `CheckpointConfig(num_to_keep)` or decreasing the frequency of saving checkpoints.\n",
      "You can suppress this warning by setting the environment variable TUNE_WARN_EXCESSIVE_EXPERIMENT_CHECKPOINT_SYNC_THRESHOLD_S to a smaller value than the current threshold (5.0). Set it to 0 to completely suppress this warning.\n",
      "\u001b[36m(RayTrainWorker pid=2735082)\u001b[0m Checkpoint successfully created at: Checkpoint(filesystem=local, path=/ictstr01/home/aih/serra.korkmaz/projects/saturn/hopt/hpopt_fa7_zinc/ray_results/TorchTrainer_2025-03-12_00-32-19/5a7e0717/checkpoint_000013)\n"
     ]
    },
    {
     "name": "stdout",
     "output_type": "stream",
     "text": [
      "Epoch 13: 100%|██████████| 28/28 [00:10<00:00,  2.66it/s, v_num=3.41e+7, train_loss_step=0.290, val_loss=0.332, train_loss_epoch=0.295]\u001b[32m [repeated 3x across cluster]\u001b[0m\n",
      "Validation: |          | 0/? [00:00<?, ?it/s]\u001b[A\n",
      "Validation:   0%|          | 0/6 [00:00<?, ?it/s]\u001b[A\n",
      "Validation DataLoader 0:   0%|          | 0/6 [00:00<?, ?it/s]\u001b[A\n",
      "Validation DataLoader 0:  83%|████████▎ | 5/6 [00:01<00:00,  4.07it/s]\u001b[A\u001b[32m [repeated 5x across cluster]\u001b[0m\n",
      "Epoch 14:  14%|█▍        | 4/28 [00:01<00:08,  2.68it/s, v_num=3.41e+7, train_loss_step=0.280, val_loss=0.254, train_loss_epoch=0.273]\u001b[32m [repeated 15x across cluster]\u001b[0m\n",
      "Validation DataLoader 0: 100%|██████████| 6/6 [00:01<00:00,  4.33it/s]\u001b[A\n",
      "Epoch 13: 100%|██████████| 28/28 [00:11<00:00,  2.33it/s, v_num=3.41e+7, train_loss_step=0.290, val_loss=0.254, train_loss_epoch=0.295]\n",
      "Epoch 13: 100%|██████████| 28/28 [00:12<00:00,  2.28it/s, v_num=3.41e+7, train_loss_step=0.290, val_loss=0.254, train_loss_epoch=0.273]\n",
      "Epoch 14:   0%|          | 0/28 [00:00<?, ?it/s, v_num=3.41e+7, train_loss_step=0.290, val_loss=0.254, train_loss_epoch=0.273]         \n",
      "Epoch 13:  75%|███████▌  | 21/28 [00:09<00:03,  2.31it/s, v_num=3.41e+7, train_loss_step=0.207, val_loss=0.348, train_loss_epoch=0.282]\u001b[32m [repeated 25x across cluster]\u001b[0m\n",
      "Epoch 13:  93%|█████████▎| 26/28 [00:11<00:00,  2.29it/s, v_num=3.41e+7, train_loss_step=0.303, val_loss=0.348, train_loss_epoch=0.282]\n",
      "Epoch 13:  96%|█████████▋| 27/28 [00:11<00:00,  2.30it/s, v_num=3.41e+7, train_loss_step=0.235, val_loss=0.348, train_loss_epoch=0.282]\n",
      "Epoch 13: 100%|██████████| 28/28 [00:12<00:00,  2.32it/s, v_num=3.41e+7, train_loss_step=0.266, val_loss=0.348, train_loss_epoch=0.282]\n",
      "Validation: |          | 0/? [00:00<?, ?it/s]\u001b[A\n",
      "\u001b[36m(RayTrainWorker pid=2734849)\u001b[0m \n",
      "Validation:   0%|          | 0/6 [00:00<?, ?it/s]\u001b[A\n",
      "Validation DataLoader 0:   0%|          | 0/6 [00:00<?, ?it/s]\u001b[A\n",
      "\u001b[36m(RayTrainWorker pid=2734849)\u001b[0m \n",
      "Validation DataLoader 0:  17%|█▋        | 1/6 [00:00<00:01,  3.16it/s]\u001b[A\n",
      "\u001b[36m(RayTrainWorker pid=2734849)\u001b[0m \n",
      "Validation DataLoader 0:  33%|███▎      | 2/6 [00:00<00:01,  2.89it/s]\u001b[A\n",
      "\u001b[36m(RayTrainWorker pid=2735082)\u001b[0m \n",
      "\u001b[36m(RayTrainWorker pid=2734849)\u001b[0m \n",
      "\u001b[36m(RayTrainWorker pid=2735082)\u001b[0m \n",
      "\u001b[36m(RayTrainWorker pid=2734849)\u001b[0m \n",
      "\u001b[36m(RayTrainWorker pid=2734849)\u001b[0m \n",
      "\u001b[36m(RayTrainWorker pid=2735082)\u001b[0m \n",
      "\u001b[36m(RayTrainWorker pid=2734849)\u001b[0m \n",
      "Validation DataLoader 0: 100%|██████████| 6/6 [00:01<00:00,  3.19it/s]\u001b[A\n",
      "Epoch 13: 100%|██████████| 28/28 [00:14<00:00,  1.99it/s, v_num=3.41e+7, train_loss_step=0.266, val_loss=0.292, train_loss_epoch=0.282]\n",
      "\u001b[36m(RayTrainWorker pid=2735082)\u001b[0m \n"
     ]
    },
    {
     "name": "stderr",
     "output_type": "stream",
     "text": [
      "\u001b[36m(RayTrainWorker pid=2734849)\u001b[0m Checkpoint successfully created at: Checkpoint(filesystem=local, path=/ictstr01/home/aih/serra.korkmaz/projects/saturn/hopt/hpopt_fa7_zinc/ray_results/TorchTrainer_2025-03-12_00-32-19/9c3b6b9f/checkpoint_000013)\n",
      "2025-03-12 00:36:01,595\tWARNING experiment_state.py:206 -- Experiment state snapshotting has been triggered multiple times in the last 5.0 seconds and may become a bottleneck. A snapshot is forced if `CheckpointConfig(num_to_keep)` is set, and a trial has checkpointed >= `num_to_keep` times since the last snapshot.\n",
      "You may want to consider increasing the `CheckpointConfig(num_to_keep)` or decreasing the frequency of saving checkpoints.\n",
      "You can suppress this warning by setting the environment variable TUNE_WARN_EXCESSIVE_EXPERIMENT_CHECKPOINT_SYNC_THRESHOLD_S to a smaller value than the current threshold (5.0). Set it to 0 to completely suppress this warning.\n"
     ]
    },
    {
     "name": "stdout",
     "output_type": "stream",
     "text": [
      "Epoch 13: 100%|██████████| 28/28 [00:14<00:00,  1.96it/s, v_num=3.41e+7, train_loss_step=0.266, val_loss=0.292, train_loss_epoch=0.259]\n",
      "Epoch 14:  89%|████████▉ | 25/28 [00:09<00:01,  2.62it/s, v_num=3.41e+7, train_loss_step=0.202, val_loss=0.254, train_loss_epoch=0.273]\u001b[32m [repeated 12x across cluster]\u001b[0m\n",
      "\u001b[36m(RayTrainWorker pid=2735082)\u001b[0m \n",
      "Epoch 14:   0%|          | 0/28 [00:00<?, ?it/s, v_num=3.41e+7, train_loss_step=0.266, val_loss=0.292, train_loss_epoch=0.259]         \n",
      "\u001b[36m(RayTrainWorker pid=2735082)\u001b[0m \n"
     ]
    },
    {
     "name": "stderr",
     "output_type": "stream",
     "text": [
      "2025-03-12 00:36:02,015\tWARNING experiment_state.py:206 -- Experiment state snapshotting has been triggered multiple times in the last 5.0 seconds and may become a bottleneck. A snapshot is forced if `CheckpointConfig(num_to_keep)` is set, and a trial has checkpointed >= `num_to_keep` times since the last snapshot.\n",
      "You may want to consider increasing the `CheckpointConfig(num_to_keep)` or decreasing the frequency of saving checkpoints.\n",
      "You can suppress this warning by setting the environment variable TUNE_WARN_EXCESSIVE_EXPERIMENT_CHECKPOINT_SYNC_THRESHOLD_S to a smaller value than the current threshold (5.0). Set it to 0 to completely suppress this warning.\n",
      "\u001b[36m(RayTrainWorker pid=2735082)\u001b[0m Checkpoint successfully created at: Checkpoint(filesystem=local, path=/ictstr01/home/aih/serra.korkmaz/projects/saturn/hopt/hpopt_fa7_zinc/ray_results/TorchTrainer_2025-03-12_00-32-19/5a7e0717/checkpoint_000014)\n"
     ]
    },
    {
     "name": "stdout",
     "output_type": "stream",
     "text": [
      "Epoch 14: 100%|██████████| 28/28 [00:10<00:00,  2.63it/s, v_num=3.41e+7, train_loss_step=0.233, val_loss=0.254, train_loss_epoch=0.273]\u001b[32m [repeated 3x across cluster]\u001b[0m\n",
      "Validation: |          | 0/? [00:00<?, ?it/s]\u001b[A\n",
      "Validation:   0%|          | 0/6 [00:00<?, ?it/s]\u001b[A\n",
      "Validation DataLoader 0:   0%|          | 0/6 [00:00<?, ?it/s]\u001b[A\n",
      "Validation DataLoader 0:  83%|████████▎ | 5/6 [00:01<00:00,  3.86it/s]\u001b[A\u001b[32m [repeated 8x across cluster]\u001b[0m\n",
      "Validation DataLoader 0: 100%|██████████| 6/6 [00:01<00:00,  4.06it/s]\u001b[A\n",
      "Epoch 14: 100%|██████████| 28/28 [00:12<00:00,  2.30it/s, v_num=3.41e+7, train_loss_step=0.233, val_loss=0.270, train_loss_epoch=0.273]\n",
      "Epoch 14: 100%|██████████| 28/28 [00:12<00:00,  2.25it/s, v_num=3.41e+7, train_loss_step=0.233, val_loss=0.270, train_loss_epoch=0.255]\n",
      "Epoch 14:  39%|███▉      | 11/28 [00:04<00:07,  2.22it/s, v_num=3.41e+7, train_loss_step=0.185, val_loss=0.292, train_loss_epoch=0.259]\u001b[32m [repeated 22x across cluster]\u001b[0m\n",
      "Epoch 15:   0%|          | 0/28 [00:00<?, ?it/s, v_num=3.41e+7, train_loss_step=0.233, val_loss=0.270, train_loss_epoch=0.255]         \n",
      "Epoch 14:  82%|████████▏ | 23/28 [00:10<00:02,  2.26it/s, v_num=3.41e+7, train_loss_step=0.378, val_loss=0.292, train_loss_epoch=0.259]\u001b[32m [repeated 26x across cluster]\u001b[0m\n",
      "Epoch 15:  93%|█████████▎| 26/28 [00:09<00:00,  2.66it/s, v_num=3.41e+7, train_loss_step=0.252, val_loss=0.270, train_loss_epoch=0.255]\n",
      "Epoch 15:  96%|█████████▋| 27/28 [00:10<00:00,  2.68it/s, v_num=3.41e+7, train_loss_step=0.279, val_loss=0.270, train_loss_epoch=0.255]\n",
      "Epoch 15: 100%|██████████| 28/28 [00:10<00:00,  2.69it/s, v_num=3.41e+7, train_loss_step=0.291, val_loss=0.270, train_loss_epoch=0.255]\n",
      "Validation: |          | 0/? [00:00<?, ?it/s]\u001b[A\n",
      "\u001b[36m(RayTrainWorker pid=2735082)\u001b[0m \n",
      "Validation:   0%|          | 0/6 [00:00<?, ?it/s]\u001b[A\n",
      "Validation DataLoader 0:   0%|          | 0/6 [00:00<?, ?it/s]\u001b[A\n",
      "\u001b[36m(RayTrainWorker pid=2735082)\u001b[0m \n",
      "Validation DataLoader 0:  17%|█▋        | 1/6 [00:00<00:01,  4.87it/s]\u001b[A\n",
      "\u001b[36m(RayTrainWorker pid=2735082)\u001b[0m \n",
      "Validation DataLoader 0:  33%|███▎      | 2/6 [00:00<00:00,  4.30it/s]\u001b[A\n",
      "\u001b[36m(RayTrainWorker pid=2735082)\u001b[0m \n",
      "Validation DataLoader 0:  50%|█████     | 3/6 [00:00<00:00,  4.16it/s]\u001b[A\n",
      "\u001b[36m(RayTrainWorker pid=2735082)\u001b[0m \n",
      "Validation DataLoader 0:  67%|██████▋   | 4/6 [00:00<00:00,  4.12it/s]\u001b[A\n",
      "\u001b[36m(RayTrainWorker pid=2735082)\u001b[0m \n",
      "Validation DataLoader 0:  83%|████████▎ | 5/6 [00:01<00:00,  4.04it/s]\u001b[A\n",
      "\u001b[36m(RayTrainWorker pid=2734849)\u001b[0m \n",
      "\u001b[36m(RayTrainWorker pid=2735082)\u001b[0m \n",
      "Validation DataLoader 0: 100%|██████████| 6/6 [00:01<00:00,  4.32it/s]\u001b[A\n",
      "Epoch 15: 100%|██████████| 28/28 [00:11<00:00,  2.36it/s, v_num=3.41e+7, train_loss_step=0.291, val_loss=0.235, train_loss_epoch=0.255]\n"
     ]
    },
    {
     "name": "stderr",
     "output_type": "stream",
     "text": [
      "\u001b[36m(RayTrainWorker pid=2735082)\u001b[0m Checkpoint successfully created at: Checkpoint(filesystem=local, path=/ictstr01/home/aih/serra.korkmaz/projects/saturn/hopt/hpopt_fa7_zinc/ray_results/TorchTrainer_2025-03-12_00-32-19/5a7e0717/checkpoint_000015)\n",
      "2025-03-12 00:36:14,363\tWARNING experiment_state.py:206 -- Experiment state snapshotting has been triggered multiple times in the last 5.0 seconds and may become a bottleneck. A snapshot is forced if `CheckpointConfig(num_to_keep)` is set, and a trial has checkpointed >= `num_to_keep` times since the last snapshot.\n",
      "You may want to consider increasing the `CheckpointConfig(num_to_keep)` or decreasing the frequency of saving checkpoints.\n",
      "You can suppress this warning by setting the environment variable TUNE_WARN_EXCESSIVE_EXPERIMENT_CHECKPOINT_SYNC_THRESHOLD_S to a smaller value than the current threshold (5.0). Set it to 0 to completely suppress this warning.\n"
     ]
    },
    {
     "name": "stdout",
     "output_type": "stream",
     "text": [
      "\u001b[36m(RayTrainWorker pid=2734849)\u001b[0m \n",
      "Epoch 15: 100%|██████████| 28/28 [00:12<00:00,  2.31it/s, v_num=3.41e+7, train_loss_step=0.291, val_loss=0.235, train_loss_epoch=0.246]\n",
      "Epoch 16:   0%|          | 0/28 [00:00<?, ?it/s, v_num=3.41e+7, train_loss_step=0.291, val_loss=0.235, train_loss_epoch=0.246]         \n",
      "\u001b[36m(RayTrainWorker pid=2734849)\u001b[0m \n",
      "\u001b[36m(RayTrainWorker pid=2734849)\u001b[0m \n",
      "\u001b[36m(RayTrainWorker pid=2734849)\u001b[0m \n",
      "\u001b[36m(RayTrainWorker pid=2734849)\u001b[0m \n",
      "\u001b[36m(RayTrainWorker pid=2734849)\u001b[0m \n"
     ]
    },
    {
     "name": "stderr",
     "output_type": "stream",
     "text": [
      "\u001b[36m(RayTrainWorker pid=2734849)\u001b[0m Checkpoint successfully created at: Checkpoint(filesystem=local, path=/ictstr01/home/aih/serra.korkmaz/projects/saturn/hopt/hpopt_fa7_zinc/ray_results/TorchTrainer_2025-03-12_00-32-19/9c3b6b9f/checkpoint_000014)\n",
      "2025-03-12 00:36:16,193\tWARNING experiment_state.py:206 -- Experiment state snapshotting has been triggered multiple times in the last 5.0 seconds and may become a bottleneck. A snapshot is forced if `CheckpointConfig(num_to_keep)` is set, and a trial has checkpointed >= `num_to_keep` times since the last snapshot.\n",
      "You may want to consider increasing the `CheckpointConfig(num_to_keep)` or decreasing the frequency of saving checkpoints.\n",
      "You can suppress this warning by setting the environment variable TUNE_WARN_EXCESSIVE_EXPERIMENT_CHECKPOINT_SYNC_THRESHOLD_S to a smaller value than the current threshold (5.0). Set it to 0 to completely suppress this warning.\n"
     ]
    },
    {
     "name": "stdout",
     "output_type": "stream",
     "text": [
      "Epoch 15:   7%|▋         | 2/28 [00:00<00:10,  2.39it/s, v_num=3.41e+7, train_loss_step=0.306, val_loss=0.255, train_loss_epoch=0.244]\u001b[32m [repeated 10x across cluster]\u001b[0m\n",
      "Epoch 14: 100%|██████████| 28/28 [00:12<00:00,  2.29it/s, v_num=3.41e+7, train_loss_step=0.244, val_loss=0.292, train_loss_epoch=0.259]\u001b[32m [repeated 3x across cluster]\u001b[0m\n",
      "Validation: |          | 0/? [00:00<?, ?it/s]\u001b[A\n",
      "Validation:   0%|          | 0/6 [00:00<?, ?it/s]\u001b[A\n",
      "Validation DataLoader 0:   0%|          | 0/6 [00:00<?, ?it/s]\u001b[A\n",
      "Validation DataLoader 0:  83%|████████▎ | 5/6 [00:01<00:00,  3.07it/s]\u001b[A\u001b[32m [repeated 5x across cluster]\u001b[0m\n",
      "Validation DataLoader 0: 100%|██████████| 6/6 [00:01<00:00,  3.30it/s]\u001b[A\n",
      "Epoch 14: 100%|██████████| 28/28 [00:14<00:00,  1.99it/s, v_num=3.41e+7, train_loss_step=0.244, val_loss=0.255, train_loss_epoch=0.259]\n",
      "Epoch 14: 100%|██████████| 28/28 [00:14<00:00,  1.95it/s, v_num=3.41e+7, train_loss_step=0.244, val_loss=0.255, train_loss_epoch=0.244]\n",
      "Epoch 15:   0%|          | 0/28 [00:00<?, ?it/s, v_num=3.41e+7, train_loss_step=0.244, val_loss=0.255, train_loss_epoch=0.244]         \n",
      "Epoch 16:  71%|███████▏  | 20/28 [00:07<00:03,  2.60it/s, v_num=3.41e+7, train_loss_step=0.214, val_loss=0.235, train_loss_epoch=0.246]\u001b[32m [repeated 25x across cluster]\u001b[0m\n",
      "Epoch 16:  82%|████████▏ | 23/28 [00:08<00:01,  2.63it/s, v_num=3.41e+7, train_loss_step=0.217, val_loss=0.235, train_loss_epoch=0.246]\n",
      "Epoch 16:  82%|████████▏ | 23/28 [00:08<00:01,  2.63it/s, v_num=3.41e+7, train_loss_step=0.303, val_loss=0.235, train_loss_epoch=0.246]\n",
      "Epoch 16:  93%|█████████▎| 26/28 [00:09<00:00,  2.63it/s, v_num=3.41e+7, train_loss_step=0.258, val_loss=0.235, train_loss_epoch=0.246]\n",
      "Epoch 16:  96%|█████████▋| 27/28 [00:10<00:00,  2.63it/s, v_num=3.41e+7, train_loss_step=0.324, val_loss=0.235, train_loss_epoch=0.246]\n",
      "Epoch 16: 100%|██████████| 28/28 [00:10<00:00,  2.64it/s, v_num=3.41e+7, train_loss_step=0.231, val_loss=0.235, train_loss_epoch=0.246]\n",
      "Validation: |          | 0/? [00:00<?, ?it/s]\u001b[A\n",
      "Validation:   0%|          | 0/6 [00:00<?, ?it/s]\u001b[A\n",
      "Validation DataLoader 0:   0%|          | 0/6 [00:00<?, ?it/s]\u001b[A\n",
      "\u001b[36m(RayTrainWorker pid=2735082)\u001b[0m \n",
      "Validation DataLoader 0:  17%|█▋        | 1/6 [00:00<00:01,  4.01it/s]\u001b[A\n",
      "\u001b[36m(RayTrainWorker pid=2735082)\u001b[0m \n",
      "Validation DataLoader 0:  33%|███▎      | 2/6 [00:00<00:01,  3.75it/s]\u001b[A\n",
      "\u001b[36m(RayTrainWorker pid=2735082)\u001b[0m \n",
      "Validation DataLoader 0:  50%|█████     | 3/6 [00:00<00:00,  3.71it/s]\u001b[A\n",
      "\u001b[36m(RayTrainWorker pid=2735082)\u001b[0m \n",
      "Validation DataLoader 0:  67%|██████▋   | 4/6 [00:01<00:00,  3.69it/s]\u001b[A\n",
      "\u001b[36m(RayTrainWorker pid=2735082)\u001b[0m \n",
      "Validation DataLoader 0:  83%|████████▎ | 5/6 [00:01<00:00,  3.65it/s]\u001b[A\n",
      "\u001b[36m(RayTrainWorker pid=2735082)\u001b[0m \n",
      "Validation DataLoader 0: 100%|██████████| 6/6 [00:01<00:00,  3.89it/s]\u001b[A\n",
      "Epoch 16: 100%|██████████| 28/28 [00:12<00:00,  2.29it/s, v_num=3.41e+7, train_loss_step=0.231, val_loss=0.198, train_loss_epoch=0.246]\n"
     ]
    },
    {
     "name": "stderr",
     "output_type": "stream",
     "text": [
      "\u001b[36m(RayTrainWorker pid=2735082)\u001b[0m Checkpoint successfully created at: Checkpoint(filesystem=local, path=/ictstr01/home/aih/serra.korkmaz/projects/saturn/hopt/hpopt_fa7_zinc/ray_results/TorchTrainer_2025-03-12_00-32-19/5a7e0717/checkpoint_000016)\n",
      "2025-03-12 00:36:27,032\tWARNING experiment_state.py:206 -- Experiment state snapshotting has been triggered multiple times in the last 5.0 seconds and may become a bottleneck. A snapshot is forced if `CheckpointConfig(num_to_keep)` is set, and a trial has checkpointed >= `num_to_keep` times since the last snapshot.\n",
      "You may want to consider increasing the `CheckpointConfig(num_to_keep)` or decreasing the frequency of saving checkpoints.\n",
      "You can suppress this warning by setting the environment variable TUNE_WARN_EXCESSIVE_EXPERIMENT_CHECKPOINT_SYNC_THRESHOLD_S to a smaller value than the current threshold (5.0). Set it to 0 to completely suppress this warning.\n"
     ]
    },
    {
     "name": "stdout",
     "output_type": "stream",
     "text": [
      "Epoch 16: 100%|██████████| 28/28 [00:12<00:00,  2.24it/s, v_num=3.41e+7, train_loss_step=0.231, val_loss=0.198, train_loss_epoch=0.239]\n",
      "Epoch 17:   0%|          | 0/28 [00:00<?, ?it/s, v_num=3.41e+7, train_loss_step=0.231, val_loss=0.198, train_loss_epoch=0.239]         \n",
      "Epoch 15:  89%|████████▉ | 25/28 [00:10<00:01,  2.29it/s, v_num=3.41e+7, train_loss_step=0.297, val_loss=0.255, train_loss_epoch=0.244]\u001b[32m [repeated 16x across cluster]\u001b[0m\n",
      "\u001b[36m(RayTrainWorker pid=2734849)\u001b[0m \n",
      "\u001b[36m(RayTrainWorker pid=2734849)\u001b[0m \n",
      "\u001b[36m(RayTrainWorker pid=2734849)\u001b[0m \n",
      "\u001b[36m(RayTrainWorker pid=2734849)\u001b[0m \n",
      "Epoch 15: 100%|██████████| 28/28 [00:12<00:00,  2.33it/s, v_num=3.41e+7, train_loss_step=0.251, val_loss=0.255, train_loss_epoch=0.244]\u001b[32m [repeated 3x across cluster]\u001b[0m\n",
      "\u001b[36m(RayTrainWorker pid=2734849)\u001b[0m \n",
      "\u001b[36m(RayTrainWorker pid=2734849)\u001b[0m \n"
     ]
    },
    {
     "name": "stderr",
     "output_type": "stream",
     "text": [
      "2025-03-12 00:36:30,331\tWARNING experiment_state.py:206 -- Experiment state snapshotting has been triggered multiple times in the last 5.0 seconds and may become a bottleneck. A snapshot is forced if `CheckpointConfig(num_to_keep)` is set, and a trial has checkpointed >= `num_to_keep` times since the last snapshot.\n",
      "You may want to consider increasing the `CheckpointConfig(num_to_keep)` or decreasing the frequency of saving checkpoints.\n",
      "You can suppress this warning by setting the environment variable TUNE_WARN_EXCESSIVE_EXPERIMENT_CHECKPOINT_SYNC_THRESHOLD_S to a smaller value than the current threshold (5.0). Set it to 0 to completely suppress this warning.\n",
      "\u001b[36m(RayTrainWorker pid=2734849)\u001b[0m Checkpoint successfully created at: Checkpoint(filesystem=local, path=/ictstr01/home/aih/serra.korkmaz/projects/saturn/hopt/hpopt_fa7_zinc/ray_results/TorchTrainer_2025-03-12_00-32-19/9c3b6b9f/checkpoint_000015)\n"
     ]
    },
    {
     "name": "stdout",
     "output_type": "stream",
     "text": [
      "Validation: |          | 0/? [00:00<?, ?it/s]\u001b[A\n",
      "Validation:   0%|          | 0/6 [00:00<?, ?it/s]\u001b[A\n",
      "Validation DataLoader 0:   0%|          | 0/6 [00:00<?, ?it/s]\u001b[A\n",
      "Validation DataLoader 0:  83%|████████▎ | 5/6 [00:01<00:00,  3.38it/s]\u001b[A\u001b[32m [repeated 5x across cluster]\u001b[0m\n",
      "Validation DataLoader 0: 100%|██████████| 6/6 [00:01<00:00,  3.64it/s]\u001b[A\n",
      "Epoch 15: 100%|██████████| 28/28 [00:13<00:00,  2.04it/s, v_num=3.41e+7, train_loss_step=0.251, val_loss=0.289, train_loss_epoch=0.244]\n",
      "Epoch 15: 100%|██████████| 28/28 [00:13<00:00,  2.00it/s, v_num=3.41e+7, train_loss_step=0.251, val_loss=0.289, train_loss_epoch=0.231]\n",
      "Epoch 16:   0%|          | 0/28 [00:00<?, ?it/s, v_num=3.41e+7, train_loss_step=0.251, val_loss=0.289, train_loss_epoch=0.231]         \n",
      "Epoch 17:  57%|█████▋    | 16/28 [00:05<00:04,  2.86it/s, v_num=3.41e+7, train_loss_step=0.139, val_loss=0.198, train_loss_epoch=0.239]\u001b[32m [repeated 21x across cluster]\u001b[0m\n",
      "Epoch 16:  43%|████▎     | 12/28 [00:04<00:06,  2.44it/s, v_num=3.41e+7, train_loss_step=0.130, val_loss=0.289, train_loss_epoch=0.231]\n",
      "Epoch 16:  43%|████▎     | 12/28 [00:04<00:06,  2.44it/s, v_num=3.41e+7, train_loss_step=0.200, val_loss=0.289, train_loss_epoch=0.231]\n",
      "Epoch 17:  93%|█████████▎| 26/28 [00:09<00:00,  2.83it/s, v_num=3.41e+7, train_loss_step=0.185, val_loss=0.198, train_loss_epoch=0.239]\n",
      "Epoch 17:  96%|█████████▋| 27/28 [00:09<00:00,  2.84it/s, v_num=3.41e+7, train_loss_step=0.320, val_loss=0.198, train_loss_epoch=0.239]\n",
      "Epoch 17: 100%|██████████| 28/28 [00:09<00:00,  2.84it/s, v_num=3.41e+7, train_loss_step=0.245, val_loss=0.198, train_loss_epoch=0.239]\n",
      "Validation: |          | 0/? [00:00<?, ?it/s]\u001b[A\n",
      "\u001b[36m(RayTrainWorker pid=2735082)\u001b[0m \n",
      "Validation:   0%|          | 0/6 [00:00<?, ?it/s]\u001b[A\n",
      "Validation DataLoader 0:   0%|          | 0/6 [00:00<?, ?it/s]\u001b[A\n",
      "\u001b[36m(RayTrainWorker pid=2735082)\u001b[0m \n",
      "Validation DataLoader 0:  17%|█▋        | 1/6 [00:00<00:01,  4.38it/s]\u001b[A\n",
      "\u001b[36m(RayTrainWorker pid=2735082)\u001b[0m \n",
      "Validation DataLoader 0:  33%|███▎      | 2/6 [00:00<00:01,  3.77it/s]\u001b[A\n",
      "Epoch 16:  64%|██████▍   | 18/28 [00:07<00:04,  2.42it/s, v_num=3.41e+7, train_loss_step=0.244, val_loss=0.289, train_loss_epoch=0.231]\u001b[32m [repeated 21x across cluster]\u001b[0m\n",
      "\u001b[36m(RayTrainWorker pid=2735082)\u001b[0m \n",
      "Validation DataLoader 0:  50%|█████     | 3/6 [00:00<00:00,  3.57it/s]\u001b[A\n",
      "\u001b[36m(RayTrainWorker pid=2735082)\u001b[0m \n",
      "Validation DataLoader 0:  67%|██████▋   | 4/6 [00:01<00:00,  3.52it/s]\u001b[A\n",
      "\u001b[36m(RayTrainWorker pid=2735082)\u001b[0m \n",
      "Validation DataLoader 0:  83%|████████▎ | 5/6 [00:01<00:00,  3.58it/s]\u001b[A\n",
      "\u001b[36m(RayTrainWorker pid=2735082)\u001b[0m \n",
      "Validation DataLoader 0: 100%|██████████| 6/6 [00:01<00:00,  3.80it/s]\u001b[A\n",
      "Epoch 17: 100%|██████████| 28/28 [00:11<00:00,  2.43it/s, v_num=3.41e+7, train_loss_step=0.245, val_loss=0.214, train_loss_epoch=0.239]\n",
      "Epoch 17: 100%|██████████| 28/28 [00:11<00:00,  2.37it/s, v_num=3.41e+7, train_loss_step=0.245, val_loss=0.214, train_loss_epoch=0.222]\n",
      "Epoch 18:   0%|          | 0/28 [00:00<?, ?it/s, v_num=3.41e+7, train_loss_step=0.245, val_loss=0.214, train_loss_epoch=0.222]         \n"
     ]
    },
    {
     "name": "stderr",
     "output_type": "stream",
     "text": [
      "\u001b[36m(RayTrainWorker pid=2735082)\u001b[0m Checkpoint successfully created at: Checkpoint(filesystem=local, path=/ictstr01/home/aih/serra.korkmaz/projects/saturn/hopt/hpopt_fa7_zinc/ray_results/TorchTrainer_2025-03-12_00-32-19/5a7e0717/checkpoint_000017)\n"
     ]
    },
    {
     "name": "stdout",
     "output_type": "stream",
     "text": [
      "Epoch 16:  93%|█████████▎| 26/28 [00:10<00:00,  2.38it/s, v_num=3.41e+7, train_loss_step=0.226, val_loss=0.289, train_loss_epoch=0.231]\n",
      "Epoch 16:  96%|█████████▋| 27/28 [00:11<00:00,  2.38it/s, v_num=3.41e+7, train_loss_step=0.286, val_loss=0.289, train_loss_epoch=0.231]\n",
      "Epoch 16: 100%|██████████| 28/28 [00:11<00:00,  2.39it/s, v_num=3.41e+7, train_loss_step=0.200, val_loss=0.289, train_loss_epoch=0.231]\n",
      "Validation: |          | 0/? [00:00<?, ?it/s]\u001b[A\n",
      "Validation:   0%|          | 0/6 [00:00<?, ?it/s]\u001b[A\n",
      "Validation DataLoader 0:   0%|          | 0/6 [00:00<?, ?it/s]\u001b[A\n",
      "\u001b[36m(RayTrainWorker pid=2734849)\u001b[0m \n",
      "Validation DataLoader 0:  17%|█▋        | 1/6 [00:00<00:01,  3.25it/s]\u001b[A\n",
      "\u001b[36m(RayTrainWorker pid=2734849)\u001b[0m \n",
      "Validation DataLoader 0:  33%|███▎      | 2/6 [00:00<00:01,  3.07it/s]\u001b[A\n",
      "Epoch 18:  32%|███▏      | 9/28 [00:03<00:07,  2.57it/s, v_num=3.41e+7, train_loss_step=0.234, val_loss=0.214, train_loss_epoch=0.222]\u001b[32m [repeated 16x across cluster]\u001b[0m\n",
      "\u001b[36m(RayTrainWorker pid=2734849)\u001b[0m \n",
      "Validation DataLoader 0:  50%|█████     | 3/6 [00:00<00:00,  3.11it/s]\u001b[A\n",
      "\u001b[36m(RayTrainWorker pid=2734849)\u001b[0m \n",
      "Validation DataLoader 0:  67%|██████▋   | 4/6 [00:01<00:00,  3.15it/s]\u001b[A\n",
      "\u001b[36m(RayTrainWorker pid=2734849)\u001b[0m \n",
      "Validation DataLoader 0:  83%|████████▎ | 5/6 [00:01<00:00,  3.14it/s]\u001b[A\n",
      "\u001b[36m(RayTrainWorker pid=2734849)\u001b[0m \n",
      "Validation DataLoader 0: 100%|██████████| 6/6 [00:01<00:00,  3.40it/s]\u001b[A\n",
      "Epoch 16: 100%|██████████| 28/28 [00:13<00:00,  2.07it/s, v_num=3.41e+7, train_loss_step=0.200, val_loss=0.185, train_loss_epoch=0.231]\n",
      "Epoch 16: 100%|██████████| 28/28 [00:13<00:00,  2.03it/s, v_num=3.41e+7, train_loss_step=0.200, val_loss=0.185, train_loss_epoch=0.225]\n"
     ]
    },
    {
     "name": "stderr",
     "output_type": "stream",
     "text": [
      "\u001b[36m(RayTrainWorker pid=2734849)\u001b[0m Checkpoint successfully created at: Checkpoint(filesystem=local, path=/ictstr01/home/aih/serra.korkmaz/projects/saturn/hopt/hpopt_fa7_zinc/ray_results/TorchTrainer_2025-03-12_00-32-19/9c3b6b9f/checkpoint_000016)\n"
     ]
    },
    {
     "name": "stdout",
     "output_type": "stream",
     "text": [
      "Epoch 17:   0%|          | 0/28 [00:00<?, ?it/s, v_num=3.41e+7, train_loss_step=0.200, val_loss=0.185, train_loss_epoch=0.225]         \n",
      "Epoch 18:  86%|████████▌ | 24/28 [00:08<00:01,  2.71it/s, v_num=3.41e+7, train_loss_step=0.156, val_loss=0.214, train_loss_epoch=0.222]\u001b[32m [repeated 23x across cluster]\u001b[0m\n",
      "Epoch 18:  93%|█████████▎| 26/28 [00:09<00:00,  2.71it/s, v_num=3.41e+7, train_loss_step=0.216, val_loss=0.214, train_loss_epoch=0.222]\n",
      "Epoch 18:  96%|█████████▋| 27/28 [00:09<00:00,  2.70it/s, v_num=3.41e+7, train_loss_step=0.233, val_loss=0.214, train_loss_epoch=0.222]\n",
      "Epoch 18: 100%|██████████| 28/28 [00:10<00:00,  2.72it/s, v_num=3.41e+7, train_loss_step=0.216, val_loss=0.214, train_loss_epoch=0.222]\n",
      "Validation: |          | 0/? [00:00<?, ?it/s]\u001b[A\n",
      "Validation:   0%|          | 0/6 [00:00<?, ?it/s]\u001b[A\n",
      "Validation DataLoader 0:   0%|          | 0/6 [00:00<?, ?it/s]\u001b[A\n",
      "\u001b[36m(RayTrainWorker pid=2735082)\u001b[0m \n",
      "Validation DataLoader 0:  17%|█▋        | 1/6 [00:00<00:01,  4.33it/s]\u001b[A\n",
      "\u001b[36m(RayTrainWorker pid=2735082)\u001b[0m \n",
      "Validation DataLoader 0:  33%|███▎      | 2/6 [00:00<00:00,  4.05it/s]\u001b[A\n",
      "\u001b[36m(RayTrainWorker pid=2735082)\u001b[0m \n",
      "Validation DataLoader 0:  50%|█████     | 3/6 [00:00<00:00,  3.97it/s]\u001b[A\n",
      "\u001b[36m(RayTrainWorker pid=2735082)\u001b[0m \n",
      "Validation DataLoader 0:  67%|██████▋   | 4/6 [00:01<00:00,  3.90it/s]\u001b[A\n",
      "\u001b[36m(RayTrainWorker pid=2735082)\u001b[0m \n",
      "Validation DataLoader 0:  83%|████████▎ | 5/6 [00:01<00:00,  3.89it/s]\u001b[A\n",
      "\u001b[36m(RayTrainWorker pid=2735082)\u001b[0m \n",
      "Validation DataLoader 0: 100%|██████████| 6/6 [00:01<00:00,  4.19it/s]\u001b[A\n",
      "\u001b[36m(RayTrainWorker pid=2735082)\u001b[0m \n",
      "Epoch 18: 100%|██████████| 28/28 [00:11<00:00,  2.37it/s, v_num=3.41e+7, train_loss_step=0.216, val_loss=0.181, train_loss_epoch=0.222]\n",
      "Epoch 18: 100%|██████████| 28/28 [00:12<00:00,  2.31it/s, v_num=3.41e+7, train_loss_step=0.216, val_loss=0.181, train_loss_epoch=0.208]\n"
     ]
    },
    {
     "name": "stderr",
     "output_type": "stream",
     "text": [
      "\u001b[36m(RayTrainWorker pid=2735082)\u001b[0m Checkpoint successfully created at: Checkpoint(filesystem=local, path=/ictstr01/home/aih/serra.korkmaz/projects/saturn/hopt/hpopt_fa7_zinc/ray_results/TorchTrainer_2025-03-12_00-32-19/5a7e0717/checkpoint_000018)\n"
     ]
    },
    {
     "name": "stdout",
     "output_type": "stream",
     "text": [
      "Epoch 19:   0%|          | 0/28 [00:00<?, ?it/s, v_num=3.41e+7, train_loss_step=0.216, val_loss=0.181, train_loss_epoch=0.208]         \n",
      "Epoch 19:  18%|█▊        | 5/28 [00:01<00:08,  2.68it/s, v_num=3.41e+7, train_loss_step=0.201, val_loss=0.181, train_loss_epoch=0.208]\u001b[32m [repeated 18x across cluster]\u001b[0m\n",
      "Epoch 17:  93%|█████████▎| 26/28 [00:11<00:00,  2.34it/s, v_num=3.41e+7, train_loss_step=0.174, val_loss=0.185, train_loss_epoch=0.225]\n",
      "Epoch 17:  96%|█████████▋| 27/28 [00:11<00:00,  2.34it/s, v_num=3.41e+7, train_loss_step=0.294, val_loss=0.185, train_loss_epoch=0.225]\u001b[32m [repeated 2x across cluster]\u001b[0m\n",
      "Epoch 17: 100%|██████████| 28/28 [00:11<00:00,  2.35it/s, v_num=3.41e+7, train_loss_step=0.207, val_loss=0.185, train_loss_epoch=0.225]\n",
      "Validation: |          | 0/? [00:00<?, ?it/s]\u001b[A\n",
      "\u001b[36m(RayTrainWorker pid=2734849)\u001b[0m \n",
      "Validation:   0%|          | 0/6 [00:00<?, ?it/s]\u001b[A\n",
      "Validation DataLoader 0:   0%|          | 0/6 [00:00<?, ?it/s]\u001b[A\n",
      "\u001b[36m(RayTrainWorker pid=2734849)\u001b[0m \n",
      "Validation DataLoader 0:  17%|█▋        | 1/6 [00:00<00:01,  3.20it/s]\u001b[A\n",
      "\u001b[36m(RayTrainWorker pid=2734849)\u001b[0m \n",
      "Validation DataLoader 0:  33%|███▎      | 2/6 [00:00<00:01,  3.09it/s]\u001b[A\n",
      "\u001b[36m(RayTrainWorker pid=2734849)\u001b[0m \n",
      "Validation DataLoader 0:  50%|█████     | 3/6 [00:01<00:01,  2.94it/s]\u001b[A\n",
      "\u001b[36m(RayTrainWorker pid=2734849)\u001b[0m \n",
      "Validation DataLoader 0:  67%|██████▋   | 4/6 [00:01<00:00,  2.91it/s]\u001b[A\n",
      "\u001b[36m(RayTrainWorker pid=2734849)\u001b[0m \n",
      "Validation DataLoader 0:  83%|████████▎ | 5/6 [00:01<00:00,  2.91it/s]\u001b[A\n",
      "Epoch 19:  64%|██████▍   | 18/28 [00:06<00:03,  2.63it/s, v_num=3.41e+7, train_loss_step=0.228, val_loss=0.181, train_loss_epoch=0.208]\u001b[32m [repeated 18x across cluster]\u001b[0m\n",
      "\u001b[36m(RayTrainWorker pid=2734849)\u001b[0m \n",
      "Validation DataLoader 0: 100%|██████████| 6/6 [00:01<00:00,  3.13it/s]\u001b[A\n",
      "Epoch 17: 100%|██████████| 28/28 [00:13<00:00,  2.01it/s, v_num=3.41e+7, train_loss_step=0.207, val_loss=0.194, train_loss_epoch=0.225]\n"
     ]
    },
    {
     "name": "stderr",
     "output_type": "stream",
     "text": [
      "\u001b[36m(RayTrainWorker pid=2734849)\u001b[0m Checkpoint successfully created at: Checkpoint(filesystem=local, path=/ictstr01/home/aih/serra.korkmaz/projects/saturn/hopt/hpopt_fa7_zinc/ray_results/TorchTrainer_2025-03-12_00-32-19/9c3b6b9f/checkpoint_000017)\n"
     ]
    },
    {
     "name": "stdout",
     "output_type": "stream",
     "text": [
      "Epoch 18:   0%|          | 0/28 [00:00<?, ?it/s, v_num=3.41e+7, train_loss_step=0.207, val_loss=0.194, train_loss_epoch=0.205]         \n",
      "Epoch 19:  93%|█████████▎| 26/28 [00:09<00:00,  2.65it/s, v_num=3.41e+7, train_loss_step=0.187, val_loss=0.181, train_loss_epoch=0.208]\n",
      "Epoch 17: 100%|██████████| 28/28 [00:14<00:00,  1.97it/s, v_num=3.41e+7, train_loss_step=0.207, val_loss=0.194, train_loss_epoch=0.205]\n",
      "Epoch 19:  96%|█████████▋| 27/28 [00:10<00:00,  2.65it/s, v_num=3.41e+7, train_loss_step=0.190, val_loss=0.181, train_loss_epoch=0.208]\n",
      "Epoch 19: 100%|██████████| 28/28 [00:10<00:00,  2.66it/s, v_num=3.41e+7, train_loss_step=0.203, val_loss=0.181, train_loss_epoch=0.208]\n",
      "Validation: |          | 0/? [00:00<?, ?it/s]\u001b[A\n",
      "\u001b[36m(RayTrainWorker pid=2735082)\u001b[0m \n",
      "Validation:   0%|          | 0/6 [00:00<?, ?it/s]\u001b[A\n",
      "Validation DataLoader 0:   0%|          | 0/6 [00:00<?, ?it/s]\u001b[A\n",
      "\u001b[36m(RayTrainWorker pid=2735082)\u001b[0m \n",
      "Validation DataLoader 0:  17%|█▋        | 1/6 [00:00<00:01,  4.68it/s]\u001b[A\n",
      "\u001b[36m(RayTrainWorker pid=2735082)\u001b[0m \n",
      "Validation DataLoader 0:  33%|███▎      | 2/6 [00:00<00:00,  4.13it/s]\u001b[A\n",
      "\u001b[36m(RayTrainWorker pid=2735082)\u001b[0m \n",
      "Validation DataLoader 0:  50%|█████     | 3/6 [00:00<00:00,  4.03it/s]\u001b[A\n",
      "\u001b[36m(RayTrainWorker pid=2735082)\u001b[0m \n",
      "Validation DataLoader 0:  67%|██████▋   | 4/6 [00:00<00:00,  4.09it/s]\u001b[A\n",
      "\u001b[36m(RayTrainWorker pid=2735082)\u001b[0m \n",
      "Validation DataLoader 0:  83%|████████▎ | 5/6 [00:01<00:00,  4.10it/s]\u001b[A\n",
      "\u001b[36m(RayTrainWorker pid=2735082)\u001b[0m \n",
      "Epoch 18:  36%|███▌      | 10/28 [00:04<00:07,  2.36it/s, v_num=3.41e+7, train_loss_step=0.223, val_loss=0.194, train_loss_epoch=0.205]\u001b[32m [repeated 17x across cluster]\u001b[0m\n",
      "Validation DataLoader 0: 100%|██████████| 6/6 [00:01<00:00,  4.39it/s]\u001b[A\n",
      "Epoch 19: 100%|██████████| 28/28 [00:11<00:00,  2.34it/s, v_num=3.41e+7, train_loss_step=0.203, val_loss=0.165, train_loss_epoch=0.208]\n",
      "Epoch 19: 100%|██████████| 28/28 [00:12<00:00,  2.29it/s, v_num=3.41e+7, train_loss_step=0.203, val_loss=0.165, train_loss_epoch=0.196]\n",
      "Epoch 19: 100%|██████████| 28/28 [00:12<00:00,  2.26it/s, v_num=3.41e+7, train_loss_step=0.203, val_loss=0.165, train_loss_epoch=0.196]\n"
     ]
    },
    {
     "name": "stderr",
     "output_type": "stream",
     "text": [
      "\u001b[36m(RayTrainWorker pid=2735082)\u001b[0m `Trainer.fit` stopped: `max_epochs=20` reached.\n",
      "\u001b[36m(RayTrainWorker pid=2735082)\u001b[0m Checkpoint successfully created at: Checkpoint(filesystem=local, path=/ictstr01/home/aih/serra.korkmaz/projects/saturn/hopt/hpopt_fa7_zinc/ray_results/TorchTrainer_2025-03-12_00-32-19/5a7e0717/checkpoint_000019)\n"
     ]
    },
    {
     "name": "stdout",
     "output_type": "stream",
     "text": [
      "Epoch 18:  86%|████████▌ | 24/28 [00:09<00:01,  2.44it/s, v_num=3.41e+7, train_loss_step=0.158, val_loss=0.194, train_loss_epoch=0.205]\u001b[32m [repeated 14x across cluster]\u001b[0m\n",
      "Epoch 18:  93%|█████████▎| 26/28 [00:10<00:00,  2.49it/s, v_num=3.41e+7, train_loss_step=0.212, val_loss=0.194, train_loss_epoch=0.205]\n",
      "Epoch 18:  96%|█████████▋| 27/28 [00:10<00:00,  2.50it/s, v_num=3.41e+7, train_loss_step=0.227, val_loss=0.194, train_loss_epoch=0.205]\n",
      "Epoch 18: 100%|██████████| 28/28 [00:11<00:00,  2.53it/s, v_num=3.41e+7, train_loss_step=0.176, val_loss=0.194, train_loss_epoch=0.205]\n",
      "Validation: |          | 0/? [00:00<?, ?it/s]\u001b[A\n",
      "Validation:   0%|          | 0/6 [00:00<?, ?it/s]\u001b[A\n",
      "Validation DataLoader 0:   0%|          | 0/6 [00:00<?, ?it/s]\u001b[A\n",
      "\u001b[36m(RayTrainWorker pid=2734849)\u001b[0m \n",
      "Validation DataLoader 0:  17%|█▋        | 1/6 [00:00<00:01,  4.74it/s]\u001b[A\n",
      "\u001b[36m(RayTrainWorker pid=2734849)\u001b[0m \n",
      "Validation DataLoader 0:  33%|███▎      | 2/6 [00:00<00:00,  4.28it/s]\u001b[A\n",
      "\u001b[36m(RayTrainWorker pid=2734849)\u001b[0m \n",
      "Validation DataLoader 0:  50%|█████     | 3/6 [00:00<00:00,  4.18it/s]\u001b[A\n",
      "\u001b[36m(RayTrainWorker pid=2734849)\u001b[0m \n",
      "Validation DataLoader 0:  67%|██████▋   | 4/6 [00:00<00:00,  4.23it/s]\u001b[A\n",
      "\u001b[36m(RayTrainWorker pid=2734849)\u001b[0m \n",
      "Validation DataLoader 0:  83%|████████▎ | 5/6 [00:01<00:00,  4.22it/s]\u001b[A\n",
      "\u001b[36m(RayTrainWorker pid=2734849)\u001b[0m \n",
      "Validation DataLoader 0: 100%|██████████| 6/6 [00:01<00:00,  4.53it/s]\u001b[A\n",
      "Epoch 18: 100%|██████████| 28/28 [00:12<00:00,  2.25it/s, v_num=3.41e+7, train_loss_step=0.176, val_loss=0.168, train_loss_epoch=0.205]\n",
      "Epoch 18: 100%|██████████| 28/28 [00:12<00:00,  2.22it/s, v_num=3.41e+7, train_loss_step=0.176, val_loss=0.168, train_loss_epoch=0.193]\n"
     ]
    },
    {
     "name": "stderr",
     "output_type": "stream",
     "text": [
      "\u001b[36m(RayTrainWorker pid=2734849)\u001b[0m Checkpoint successfully created at: Checkpoint(filesystem=local, path=/ictstr01/home/aih/serra.korkmaz/projects/saturn/hopt/hpopt_fa7_zinc/ray_results/TorchTrainer_2025-03-12_00-32-19/9c3b6b9f/checkpoint_000018)\n"
     ]
    },
    {
     "name": "stdout",
     "output_type": "stream",
     "text": [
      "Epoch 19:   0%|          | 0/28 [00:00<?, ?it/s, v_num=3.41e+7, train_loss_step=0.176, val_loss=0.168, train_loss_epoch=0.193]         \n",
      "Epoch 19:  25%|██▌       | 7/28 [00:02<00:06,  3.16it/s, v_num=3.41e+7, train_loss_step=0.178, val_loss=0.168, train_loss_epoch=0.193]\u001b[32m [repeated 8x across cluster]\u001b[0m\n",
      "Epoch 19:  82%|████████▏ | 23/28 [00:07<00:01,  3.11it/s, v_num=3.41e+7, train_loss_step=0.170, val_loss=0.168, train_loss_epoch=0.193]\u001b[32m [repeated 16x across cluster]\u001b[0m\n",
      "Epoch 19:  93%|█████████▎| 26/28 [00:08<00:00,  3.09it/s, v_num=3.41e+7, train_loss_step=0.158, val_loss=0.168, train_loss_epoch=0.193]\n",
      "Epoch 19:  96%|█████████▋| 27/28 [00:08<00:00,  3.09it/s, v_num=3.41e+7, train_loss_step=0.166, val_loss=0.168, train_loss_epoch=0.193]\n",
      "Epoch 19: 100%|██████████| 28/28 [00:09<00:00,  3.10it/s, v_num=3.41e+7, train_loss_step=0.197, val_loss=0.168, train_loss_epoch=0.193]\n",
      "Validation: |          | 0/? [00:00<?, ?it/s]\u001b[A\n",
      "\u001b[36m(RayTrainWorker pid=2734849)\u001b[0m \n",
      "Validation:   0%|          | 0/6 [00:00<?, ?it/s]\u001b[A\n",
      "Validation DataLoader 0:   0%|          | 0/6 [00:00<?, ?it/s]\u001b[A\n",
      "\u001b[36m(RayTrainWorker pid=2734849)\u001b[0m \n",
      "Validation DataLoader 0:  17%|█▋        | 1/6 [00:00<00:01,  4.90it/s]\u001b[A\n",
      "\u001b[36m(RayTrainWorker pid=2734849)\u001b[0m \n",
      "Validation DataLoader 0:  33%|███▎      | 2/6 [00:00<00:00,  4.37it/s]\u001b[A\n",
      "\u001b[36m(RayTrainWorker pid=2734849)\u001b[0m \n",
      "Validation DataLoader 0:  50%|█████     | 3/6 [00:00<00:00,  4.20it/s]\u001b[A\n",
      "\u001b[36m(RayTrainWorker pid=2734849)\u001b[0m \n",
      "Validation DataLoader 0:  67%|██████▋   | 4/6 [00:00<00:00,  4.16it/s]\u001b[A\n",
      "\u001b[36m(RayTrainWorker pid=2734849)\u001b[0m \n",
      "Validation DataLoader 0:  83%|████████▎ | 5/6 [00:01<00:00,  4.16it/s]\u001b[A\n",
      "\u001b[36m(RayTrainWorker pid=2734849)\u001b[0m \n",
      "Validation DataLoader 0: 100%|██████████| 6/6 [00:01<00:00,  4.46it/s]\u001b[A\n",
      "Epoch 19: 100%|██████████| 28/28 [00:10<00:00,  2.69it/s, v_num=3.41e+7, train_loss_step=0.197, val_loss=0.147, train_loss_epoch=0.193]\n"
     ]
    },
    {
     "name": "stderr",
     "output_type": "stream",
     "text": [
      "2025-03-12 00:37:22,230\tWARNING experiment_state.py:206 -- Experiment state snapshotting has been triggered multiple times in the last 5.0 seconds and may become a bottleneck. A snapshot is forced if `CheckpointConfig(num_to_keep)` is set, and a trial has checkpointed >= `num_to_keep` times since the last snapshot.\n",
      "You may want to consider increasing the `CheckpointConfig(num_to_keep)` or decreasing the frequency of saving checkpoints.\n",
      "You can suppress this warning by setting the environment variable TUNE_WARN_EXCESSIVE_EXPERIMENT_CHECKPOINT_SYNC_THRESHOLD_S to a smaller value than the current threshold (5.0). Set it to 0 to completely suppress this warning.\n",
      "\u001b[36m(RayTrainWorker pid=2734849)\u001b[0m Checkpoint successfully created at: Checkpoint(filesystem=local, path=/ictstr01/home/aih/serra.korkmaz/projects/saturn/hopt/hpopt_fa7_zinc/ray_results/TorchTrainer_2025-03-12_00-32-19/9c3b6b9f/checkpoint_000019)\n",
      "\u001b[36m(RayTrainWorker pid=2734849)\u001b[0m `Trainer.fit` stopped: `max_epochs=20` reached.\n"
     ]
    },
    {
     "name": "stdout",
     "output_type": "stream",
     "text": [
      "Epoch 19: 100%|██████████| 28/28 [00:10<00:00,  2.64it/s, v_num=3.41e+7, train_loss_step=0.197, val_loss=0.147, train_loss_epoch=0.178]\n",
      "Epoch 19: 100%|██████████| 28/28 [00:10<00:00,  2.60it/s, v_num=3.41e+7, train_loss_step=0.197, val_loss=0.147, train_loss_epoch=0.178]\n"
     ]
    },
    {
     "name": "stderr",
     "output_type": "stream",
     "text": [
      "2025-03-12 00:37:23,496\tINFO tune.py:1009 -- Wrote the latest version of all result files and experiment state to '/ictstr01/home/aih/serra.korkmaz/projects/saturn/hopt/hpopt_fa7_zinc/ray_results/TorchTrainer_2025-03-12_00-32-19' in 0.0091s.\n",
      "2025-03-12 00:37:23,502\tINFO tune.py:1041 -- Total run time: 303.68 seconds (303.61 seconds for the tuning loop).\n"
     ]
    }
   ],
   "source": [
    "ray.init()\n",
    "\n",
    "scheduler = FIFOScheduler()\n",
    "\n",
    "# Scaling config controls the resources used by Ray\n",
    "scaling_config = ScalingConfig(\n",
    "    num_workers=1,\n",
    "    use_gpu=False, # change to True if you want to use GPU\n",
    ")\n",
    "\n",
    "# Checkpoint config controls the checkpointing behavior of Ray\n",
    "checkpoint_config = CheckpointConfig(\n",
    "    num_to_keep=1, # number of checkpoints to keep\n",
    "    checkpoint_score_attribute=\"val_loss\", # Save the checkpoint based on this metric\n",
    "    checkpoint_score_order=\"min\", # Save the checkpoint with the lowest metric value\n",
    ")\n",
    "\n",
    "run_config = RunConfig(\n",
    "    checkpoint_config=checkpoint_config,\n",
    "    storage_path=hpopt_save_dir / \"ray_results\", # directory to save the results\n",
    ")\n",
    "\n",
    "ray_trainer = TorchTrainer(\n",
    "    lambda config: train_model(\n",
    "        config, train_dset, val_dset, num_workers, scaler\n",
    "    ),\n",
    "    scaling_config=scaling_config,\n",
    "    run_config=run_config,\n",
    ")\n",
    "\n",
    "search_alg = HyperOptSearch(\n",
    "    n_initial_points=1, # number of random evaluations before tree parzen estimators\n",
    "    random_state_seed=42,\n",
    ")\n",
    "\n",
    "# OptunaSearch is another search algorithm that can be used\n",
    "# search_alg = OptunaSearch()\n",
    "\n",
    "tune_config = tune.TuneConfig(\n",
    "    metric=\"val_loss\",\n",
    "    mode=\"min\",\n",
    "    num_samples=2, # number of trials to run\n",
    "    scheduler=scheduler,\n",
    "    search_alg=search_alg,\n",
    "    trial_dirname_creator=lambda trial: str(trial.trial_id), # shorten filepaths\n",
    "\n",
    ")\n",
    "\n",
    "tuner = tune.Tuner(\n",
    "    ray_trainer,\n",
    "    param_space={\n",
    "        \"train_loop_config\": search_space,\n",
    "    },\n",
    "    tune_config=tune_config,\n",
    ")\n",
    "\n",
    "# Start the hyperparameter search\n",
    "results = tuner.fit()"
   ]
  },
  {
   "cell_type": "code",
   "execution_count": 9,
   "id": "58abd66a-7791-41d5-b392-53fce5167960",
   "metadata": {},
   "outputs": [
    {
     "data": {
      "text/plain": [
       "ResultGrid<[\n",
       "  Result(\n",
       "    metrics={'train_loss': 0.17810241878032684, 'train_loss_step': 0.19707699120044708, 'val/rmse': 0.3827739953994751, 'val/mae': 0.2959623336791992, 'val_loss': 0.14651592075824738, 'train_loss_epoch': 0.17810241878032684, 'epoch': 19, 'step': 560},\n",
       "    path='/ictstr01/home/aih/serra.korkmaz/projects/saturn/hopt/hpopt_fa7_zinc/ray_results/TorchTrainer_2025-03-12_00-32-19/9c3b6b9f',\n",
       "    filesystem='local',\n",
       "    checkpoint=Checkpoint(filesystem=local, path=/ictstr01/home/aih/serra.korkmaz/projects/saturn/hopt/hpopt_fa7_zinc/ray_results/TorchTrainer_2025-03-12_00-32-19/9c3b6b9f/checkpoint_000019)\n",
       "  ),\n",
       "  Result(\n",
       "    metrics={'train_loss': 0.19567809998989105, 'train_loss_step': 0.20320464670658112, 'val/rmse': 0.4064917266368866, 'val/mae': 0.3187048137187958, 'val_loss': 0.16523553431034088, 'train_loss_epoch': 0.19567809998989105, 'epoch': 19, 'step': 560},\n",
       "    path='/ictstr01/home/aih/serra.korkmaz/projects/saturn/hopt/hpopt_fa7_zinc/ray_results/TorchTrainer_2025-03-12_00-32-19/5a7e0717',\n",
       "    filesystem='local',\n",
       "    checkpoint=Checkpoint(filesystem=local, path=/ictstr01/home/aih/serra.korkmaz/projects/saturn/hopt/hpopt_fa7_zinc/ray_results/TorchTrainer_2025-03-12_00-32-19/5a7e0717/checkpoint_000019)\n",
       "  )\n",
       "]>"
      ]
     },
     "execution_count": 9,
     "metadata": {},
     "output_type": "execute_result"
    }
   ],
   "source": [
    "results"
   ]
  },
  {
   "cell_type": "code",
   "execution_count": 10,
   "id": "d3936aab-2566-49a1-88a7-0f0425665d3e",
   "metadata": {},
   "outputs": [
    {
     "data": {
      "text/html": [
       "<div>\n",
       "<style scoped>\n",
       "    .dataframe tbody tr th:only-of-type {\n",
       "        vertical-align: middle;\n",
       "    }\n",
       "\n",
       "    .dataframe tbody tr th {\n",
       "        vertical-align: top;\n",
       "    }\n",
       "\n",
       "    .dataframe thead th {\n",
       "        text-align: right;\n",
       "    }\n",
       "</style>\n",
       "<table border=\"1\" class=\"dataframe\">\n",
       "  <thead>\n",
       "    <tr style=\"text-align: right;\">\n",
       "      <th></th>\n",
       "      <th>train_loss</th>\n",
       "      <th>train_loss_step</th>\n",
       "      <th>val/rmse</th>\n",
       "      <th>val/mae</th>\n",
       "      <th>val_loss</th>\n",
       "      <th>train_loss_epoch</th>\n",
       "      <th>epoch</th>\n",
       "      <th>step</th>\n",
       "      <th>timestamp</th>\n",
       "      <th>checkpoint_dir_name</th>\n",
       "      <th>...</th>\n",
       "      <th>pid</th>\n",
       "      <th>hostname</th>\n",
       "      <th>node_ip</th>\n",
       "      <th>time_since_restore</th>\n",
       "      <th>iterations_since_restore</th>\n",
       "      <th>config/train_loop_config/depth</th>\n",
       "      <th>config/train_loop_config/ffn_hidden_dim</th>\n",
       "      <th>config/train_loop_config/ffn_num_layers</th>\n",
       "      <th>config/train_loop_config/message_hidden_dim</th>\n",
       "      <th>logdir</th>\n",
       "    </tr>\n",
       "  </thead>\n",
       "  <tbody>\n",
       "    <tr>\n",
       "      <th>0</th>\n",
       "      <td>0.178102</td>\n",
       "      <td>0.197077</td>\n",
       "      <td>0.382774</td>\n",
       "      <td>0.295962</td>\n",
       "      <td>0.146516</td>\n",
       "      <td>0.178102</td>\n",
       "      <td>19</td>\n",
       "      <td>560</td>\n",
       "      <td>1741736242</td>\n",
       "      <td>checkpoint_000019</td>\n",
       "      <td>...</td>\n",
       "      <td>2734610</td>\n",
       "      <td>cpusrv45.scidom.de</td>\n",
       "      <td>10.233.0.55</td>\n",
       "      <td>291.300657</td>\n",
       "      <td>20</td>\n",
       "      <td>2</td>\n",
       "      <td>2000</td>\n",
       "      <td>2</td>\n",
       "      <td>500</td>\n",
       "      <td>9c3b6b9f</td>\n",
       "    </tr>\n",
       "    <tr>\n",
       "      <th>1</th>\n",
       "      <td>0.195678</td>\n",
       "      <td>0.203205</td>\n",
       "      <td>0.406492</td>\n",
       "      <td>0.318705</td>\n",
       "      <td>0.165236</td>\n",
       "      <td>0.195678</td>\n",
       "      <td>19</td>\n",
       "      <td>560</td>\n",
       "      <td>1741736223</td>\n",
       "      <td>checkpoint_000019</td>\n",
       "      <td>...</td>\n",
       "      <td>2734850</td>\n",
       "      <td>cpusrv45.scidom.de</td>\n",
       "      <td>10.233.0.55</td>\n",
       "      <td>260.440540</td>\n",
       "      <td>20</td>\n",
       "      <td>2</td>\n",
       "      <td>2200</td>\n",
       "      <td>2</td>\n",
       "      <td>400</td>\n",
       "      <td>5a7e0717</td>\n",
       "    </tr>\n",
       "  </tbody>\n",
       "</table>\n",
       "<p>2 rows × 27 columns</p>\n",
       "</div>"
      ],
      "text/plain": [
       "   train_loss  train_loss_step  val/rmse   val/mae  val_loss  \\\n",
       "0    0.178102         0.197077  0.382774  0.295962  0.146516   \n",
       "1    0.195678         0.203205  0.406492  0.318705  0.165236   \n",
       "\n",
       "   train_loss_epoch  epoch  step   timestamp checkpoint_dir_name  ...  \\\n",
       "0          0.178102     19   560  1741736242   checkpoint_000019  ...   \n",
       "1          0.195678     19   560  1741736223   checkpoint_000019  ...   \n",
       "\n",
       "       pid            hostname      node_ip time_since_restore  \\\n",
       "0  2734610  cpusrv45.scidom.de  10.233.0.55         291.300657   \n",
       "1  2734850  cpusrv45.scidom.de  10.233.0.55         260.440540   \n",
       "\n",
       "  iterations_since_restore  config/train_loop_config/depth  \\\n",
       "0                       20                               2   \n",
       "1                       20                               2   \n",
       "\n",
       "   config/train_loop_config/ffn_hidden_dim  \\\n",
       "0                                     2000   \n",
       "1                                     2200   \n",
       "\n",
       "   config/train_loop_config/ffn_num_layers  \\\n",
       "0                                        2   \n",
       "1                                        2   \n",
       "\n",
       "  config/train_loop_config/message_hidden_dim    logdir  \n",
       "0                                         500  9c3b6b9f  \n",
       "1                                         400  5a7e0717  \n",
       "\n",
       "[2 rows x 27 columns]"
      ]
     },
     "execution_count": 10,
     "metadata": {},
     "output_type": "execute_result"
    }
   ],
   "source": [
    "result_df = results.get_dataframe()\n",
    "result_df"
   ]
  },
  {
   "cell_type": "code",
   "execution_count": 11,
   "id": "2e8dd786-358c-46cd-b69c-9e6b1f2343aa",
   "metadata": {},
   "outputs": [
    {
     "data": {
      "text/plain": [
       "{'depth': 2,\n",
       " 'ffn_hidden_dim': 2000,\n",
       " 'ffn_num_layers': 2,\n",
       " 'message_hidden_dim': 500}"
      ]
     },
     "execution_count": 11,
     "metadata": {},
     "output_type": "execute_result"
    }
   ],
   "source": [
    "# best configuration\n",
    "best_result = results.get_best_result()\n",
    "best_config = best_result.config\n",
    "best_config['train_loop_config']"
   ]
  },
  {
   "cell_type": "code",
   "execution_count": 12,
   "id": "ce9c0344-f3d8-463f-ab5e-6612385cf99e",
   "metadata": {},
   "outputs": [
    {
     "name": "stdout",
     "output_type": "stream",
     "text": [
      "Best model checkpoint path: /ictstr01/home/aih/serra.korkmaz/projects/saturn/hopt/hpopt_fa7_zinc/ray_results/TorchTrainer_2025-03-12_00-32-19/9c3b6b9f/checkpoint_000019/checkpoint.ckpt\n"
     ]
    }
   ],
   "source": [
    "# best model checkpoint path\n",
    "best_result = results.get_best_result()\n",
    "best_checkpoint_path = Path(best_result.checkpoint.path) / \"checkpoint.ckpt\"\n",
    "print(f\"Best model checkpoint path: {best_checkpoint_path}\")"
   ]
  },
  {
   "cell_type": "code",
   "execution_count": 13,
   "id": "8c8d7370-2604-4965-93ad-ea8bdeb1eca4",
   "metadata": {},
   "outputs": [
    {
     "data": {
      "text/plain": [
       "MPNN(\n",
       "  (message_passing): BondMessagePassing(\n",
       "    (W_i): Linear(in_features=86, out_features=500, bias=False)\n",
       "    (W_h): Linear(in_features=500, out_features=500, bias=False)\n",
       "    (W_o): Linear(in_features=572, out_features=500, bias=True)\n",
       "    (dropout): Dropout(p=0.0, inplace=False)\n",
       "    (tau): ReLU()\n",
       "    (V_d_transform): Identity()\n",
       "    (graph_transform): Identity()\n",
       "  )\n",
       "  (agg): MeanAggregation()\n",
       "  (bn): BatchNorm1d(500, eps=1e-05, momentum=0.1, affine=True, track_running_stats=True)\n",
       "  (predictor): RegressionFFN(\n",
       "    (ffn): MLP(\n",
       "      (0): Sequential(\n",
       "        (0): Linear(in_features=500, out_features=2000, bias=True)\n",
       "      )\n",
       "      (1): Sequential(\n",
       "        (0): ReLU()\n",
       "        (1): Dropout(p=0.0, inplace=False)\n",
       "        (2): Linear(in_features=2000, out_features=2000, bias=True)\n",
       "      )\n",
       "      (2): Sequential(\n",
       "        (0): ReLU()\n",
       "        (1): Dropout(p=0.0, inplace=False)\n",
       "        (2): Linear(in_features=2000, out_features=1, bias=True)\n",
       "      )\n",
       "    )\n",
       "    (criterion): MSE(task_weights=[[1.0]])\n",
       "    (output_transform): UnscaleTransform()\n",
       "  )\n",
       "  (X_d_transform): Identity()\n",
       "  (metrics): ModuleList(\n",
       "    (0): RMSE(task_weights=[[1.0]])\n",
       "    (1): MAE(task_weights=[[1.0]])\n",
       "    (2): MSE(task_weights=[[1.0]])\n",
       "  )\n",
       ")"
      ]
     },
     "execution_count": 13,
     "metadata": {},
     "output_type": "execute_result"
    }
   ],
   "source": [
    "mpnn = models.MPNN.load_from_checkpoint(best_checkpoint_path)\n",
    "mpnn"
   ]
  },
  {
   "cell_type": "code",
   "execution_count": 14,
   "id": "4a8a34e4-ca47-44b9-8cf3-7f6ac5b152ea",
   "metadata": {},
   "outputs": [
    {
     "name": "stderr",
     "output_type": "stream",
     "text": [
      "GPU available: False, used: False\n",
      "TPU available: False, using: 0 TPU cores\n",
      "HPU available: False, using: 0 HPUs\n",
      "SLURM auto-requeueing enabled. Setting signal handlers.\n",
      "/home/aih/serra.korkmaz/miniconda3/envs/saturn/lib/python3.11/site-packages/lightning/pytorch/trainer/connectors/data_connector.py:425: The 'predict_dataloader' does not have many workers which may be a bottleneck. Consider increasing the value of the `num_workers` argument` to `num_workers=3` in the `DataLoader` to improve performance.\n"
     ]
    },
    {
     "name": "stdout",
     "output_type": "stream",
     "text": [
      "Predicting DataLoader 0: 100%|██████████| 4/4 [00:00<00:00,  9.20it/s]\n"
     ]
    }
   ],
   "source": [
    "import torch\n",
    "test_loader = data.build_dataloader(test_dset, shuffle=False)\n",
    "with torch.inference_mode():\n",
    "    trainer = pl.Trainer(\n",
    "        logger=None,\n",
    "        enable_progress_bar=True,\n",
    "        accelerator=\"cpu\",\n",
    "        devices=1\n",
    "    )\n",
    "    test_preds = trainer.predict(mpnn, test_loader)"
   ]
  },
  {
   "cell_type": "code",
   "execution_count": 15,
   "id": "69b84a2f-36df-415a-af1c-f7595b59b7d5",
   "metadata": {},
   "outputs": [
    {
     "data": {
      "text/html": [
       "<div>\n",
       "<style scoped>\n",
       "    .dataframe tbody tr th:only-of-type {\n",
       "        vertical-align: middle;\n",
       "    }\n",
       "\n",
       "    .dataframe tbody tr th {\n",
       "        vertical-align: top;\n",
       "    }\n",
       "\n",
       "    .dataframe thead th {\n",
       "        text-align: right;\n",
       "    }\n",
       "</style>\n",
       "<table border=\"1\" class=\"dataframe\">\n",
       "  <thead>\n",
       "    <tr style=\"text-align: right;\">\n",
       "      <th></th>\n",
       "      <th>smiles</th>\n",
       "      <th>value</th>\n",
       "      <th>preds</th>\n",
       "    </tr>\n",
       "  </thead>\n",
       "  <tbody>\n",
       "    <tr>\n",
       "      <th>0</th>\n",
       "      <td>O=C1N[C@@]2(CCOc3ccccc32)C(=O)N1Cc1cccc(C(F)(F...</td>\n",
       "      <td>7.9</td>\n",
       "      <td>7.480560</td>\n",
       "    </tr>\n",
       "    <tr>\n",
       "      <th>1</th>\n",
       "      <td>Cc1nnc(-c2cc(CC(C)C)n(-c3cccc(C(=O)N[C@@H]4C[C...</td>\n",
       "      <td>7.7</td>\n",
       "      <td>7.195705</td>\n",
       "    </tr>\n",
       "    <tr>\n",
       "      <th>2</th>\n",
       "      <td>O=[N+]([O-])c1ccc(N(C[C@@H]2CCCO2)C[C@@H]2CCCO...</td>\n",
       "      <td>6.4</td>\n",
       "      <td>6.632491</td>\n",
       "    </tr>\n",
       "    <tr>\n",
       "      <th>3</th>\n",
       "      <td>CCOC(=O)CN1C(=O)S/C(=C\\c2ccc(-c3ccc(Br)cc3)o2)...</td>\n",
       "      <td>5.9</td>\n",
       "      <td>6.426285</td>\n",
       "    </tr>\n",
       "    <tr>\n",
       "      <th>4</th>\n",
       "      <td>O=C(NC[C@@H]1CN(Cc2ccccc2)CCO1)C1=NN(c2ccccc2)...</td>\n",
       "      <td>7.9</td>\n",
       "      <td>7.288399</td>\n",
       "    </tr>\n",
       "    <tr>\n",
       "      <th>...</th>\n",
       "      <td>...</td>\n",
       "      <td>...</td>\n",
       "      <td>...</td>\n",
       "    </tr>\n",
       "    <tr>\n",
       "      <th>193</th>\n",
       "      <td>CC[C@@H](O)C[NH+]1CCC(NC(=O)[C@H](c2ccccc2)C(C...</td>\n",
       "      <td>6.2</td>\n",
       "      <td>5.890581</td>\n",
       "    </tr>\n",
       "    <tr>\n",
       "      <th>194</th>\n",
       "      <td>Cc1ccc([C@@H](CNc2nc3ccccn3c(=O)c2[N+](=O)[O-]...</td>\n",
       "      <td>8.3</td>\n",
       "      <td>7.432421</td>\n",
       "    </tr>\n",
       "    <tr>\n",
       "      <th>195</th>\n",
       "      <td>[NH-]C1=NC2=NC=N[C@H]2C(N2CCC(n3cc(-c4cccnc4)n...</td>\n",
       "      <td>8.3</td>\n",
       "      <td>8.579091</td>\n",
       "    </tr>\n",
       "    <tr>\n",
       "      <th>196</th>\n",
       "      <td>O=C([O-])C1CCN(C(=O)CCN2C(=O)[C@H]3Cc4ccccc4CN...</td>\n",
       "      <td>7.6</td>\n",
       "      <td>7.362548</td>\n",
       "    </tr>\n",
       "    <tr>\n",
       "      <th>197</th>\n",
       "      <td>O=C([C@H]1CCCC[NH+]1Cc1sccc1Br)N1CCOCC1</td>\n",
       "      <td>5.6</td>\n",
       "      <td>6.015182</td>\n",
       "    </tr>\n",
       "  </tbody>\n",
       "</table>\n",
       "<p>198 rows × 3 columns</p>\n",
       "</div>"
      ],
      "text/plain": [
       "                                                smiles  value     preds\n",
       "0    O=C1N[C@@]2(CCOc3ccccc32)C(=O)N1Cc1cccc(C(F)(F...    7.9  7.480560\n",
       "1    Cc1nnc(-c2cc(CC(C)C)n(-c3cccc(C(=O)N[C@@H]4C[C...    7.7  7.195705\n",
       "2    O=[N+]([O-])c1ccc(N(C[C@@H]2CCCO2)C[C@@H]2CCCO...    6.4  6.632491\n",
       "3    CCOC(=O)CN1C(=O)S/C(=C\\c2ccc(-c3ccc(Br)cc3)o2)...    5.9  6.426285\n",
       "4    O=C(NC[C@@H]1CN(Cc2ccccc2)CCO1)C1=NN(c2ccccc2)...    7.9  7.288399\n",
       "..                                                 ...    ...       ...\n",
       "193  CC[C@@H](O)C[NH+]1CCC(NC(=O)[C@H](c2ccccc2)C(C...    6.2  5.890581\n",
       "194  Cc1ccc([C@@H](CNc2nc3ccccn3c(=O)c2[N+](=O)[O-]...    8.3  7.432421\n",
       "195  [NH-]C1=NC2=NC=N[C@H]2C(N2CCC(n3cc(-c4cccnc4)n...    8.3  8.579091\n",
       "196  O=C([O-])C1CCN(C(=O)CCN2C(=O)[C@H]3Cc4ccccc4CN...    7.6  7.362548\n",
       "197            O=C([C@H]1CCCC[NH+]1Cc1sccc1Br)N1CCOCC1    5.6  6.015182\n",
       "\n",
       "[198 rows x 3 columns]"
      ]
     },
     "execution_count": 15,
     "metadata": {},
     "output_type": "execute_result"
    }
   ],
   "source": [
    "import numpy as np\n",
    "test_preds = np.concatenate(test_preds, axis=0)\n",
    "df_test['preds'] = test_preds\n",
    "df_test"
   ]
  },
  {
   "cell_type": "code",
   "execution_count": 16,
   "id": "b0169d21-4390-4812-ad6d-8e489c3bfddf",
   "metadata": {},
   "outputs": [
    {
     "name": "stdout",
     "output_type": "stream",
     "text": [
      "R² Score: 0.5821\n",
      "MSE: 0.2693\n"
     ]
    }
   ],
   "source": [
    "from sklearn.metrics import r2_score, mean_squared_error\n",
    "\n",
    "# Get true values (ground truth) and predictions\n",
    "y_true = df_test['value'].values  # True target values\n",
    "y_pred = df_test['preds'].values  # Predicted values\n",
    "\n",
    "# Calculate metrics\n",
    "r2 = r2_score(y_true, y_pred)\n",
    "mse = mean_squared_error(y_true, y_pred)\n",
    "\n",
    "print(f\"R² Score: {r2:.4f}\")\n",
    "print(f\"MSE: {mse:.4f}\")"
   ]
  },
  {
   "cell_type": "code",
   "execution_count": null,
   "id": "3de73bcf-ab98-4b62-a767-33f347950575",
   "metadata": {},
   "outputs": [],
   "source": []
  },
  {
   "cell_type": "code",
   "execution_count": null,
   "id": "02182757-35e6-4af4-95cb-5dfc58ce8afc",
   "metadata": {},
   "outputs": [],
   "source": []
  }
 ],
 "metadata": {
  "kernelspec": {
   "display_name": "Python 3 (ipykernel)",
   "language": "python",
   "name": "python3"
  },
  "language_info": {
   "codemirror_mode": {
    "name": "ipython",
    "version": 3
   },
   "file_extension": ".py",
   "mimetype": "text/x-python",
   "name": "python",
   "nbconvert_exporter": "python",
   "pygments_lexer": "ipython3",
   "version": "3.11.8"
  }
 },
 "nbformat": 4,
 "nbformat_minor": 5
}
