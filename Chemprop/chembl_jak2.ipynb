{
 "cells": [
  {
   "cell_type": "code",
   "execution_count": 1,
   "id": "6192b6bb-dd6f-43c8-9752-05f9de1700b4",
   "metadata": {},
   "outputs": [
    {
     "name": "stderr",
     "output_type": "stream",
     "text": [
      "/home/aih/serra.korkmaz/miniconda3/envs/saturn/lib/python3.11/site-packages/tqdm/auto.py:21: TqdmWarning: IProgress not found. Please update jupyter and ipywidgets. See https://ipywidgets.readthedocs.io/en/stable/user_install.html\n",
      "  from .autonotebook import tqdm as notebook_tqdm\n",
      "2025-03-11 21:32:12,192\tINFO util.py:154 -- Missing packages: ['ipywidgets']. Run `pip install -U ipywidgets`, then restart the notebook server for rich notebook output.\n",
      "2025-03-11 21:32:17,854\tINFO util.py:154 -- Missing packages: ['ipywidgets']. Run `pip install -U ipywidgets`, then restart the notebook server for rich notebook output.\n",
      "2025-03-11 21:32:24,275\tINFO util.py:154 -- Missing packages: ['ipywidgets']. Run `pip install -U ipywidgets`, then restart the notebook server for rich notebook output.\n"
     ]
    }
   ],
   "source": [
    "from pathlib import Path\n",
    "\n",
    "import pandas as pd\n",
    "from lightning import pytorch as pl\n",
    "import ray\n",
    "from ray import tune\n",
    "from ray.train import CheckpointConfig, RunConfig, ScalingConfig\n",
    "from ray.train.lightning import (RayDDPStrategy, RayLightningEnvironment,\n",
    "                                 RayTrainReportCallback, prepare_trainer)\n",
    "from ray.train.torch import TorchTrainer\n",
    "from ray.tune.search.hyperopt import HyperOptSearch\n",
    "from ray.tune.search.optuna import OptunaSearch\n",
    "from ray.tune.schedulers import FIFOScheduler\n",
    "\n",
    "from chemprop import data, featurizers, models, nn"
   ]
  },
  {
   "cell_type": "code",
   "execution_count": 4,
   "id": "afed6433-23c1-499c-9c56-03c725f26577",
   "metadata": {},
   "outputs": [],
   "source": [
    "chemprop_dir = Path.cwd().parent\n",
    "train_path = \"/home/aih/serra.korkmaz/projects/saturn/SurogateModel/training_data_4sm_chembl/train_data_jak2.csv\"\n",
    "test_path = \"/home/aih/serra.korkmaz/projects/saturn/SurogateModel/training_data_4sm_chembl/test_data_jak2.csv\"\n",
    "num_workers = 0 # number of workers for dataloader. 0 means using main process for data loading\n",
    "smiles_column = 'smiles' # name of the column containing SMILES strings\n",
    "target_columns = ['value'] # list of names of the columns containing targets\n",
    "\n",
    "hpopt_save_dir = Path.cwd() / \"hpopt_jak2_zinc\" # directory to save hyperopt results\n",
    "hpopt_save_dir.mkdir(exist_ok=True)"
   ]
  },
  {
   "cell_type": "code",
   "execution_count": 5,
   "id": "79b9963b-a4e2-4cd8-b122-d379814088b9",
   "metadata": {},
   "outputs": [],
   "source": [
    "df_train = pd.read_csv(train_path)\n",
    "df_test = pd.read_csv(test_path)"
   ]
  },
  {
   "cell_type": "code",
   "execution_count": 6,
   "id": "2c1c3921-b3da-4341-8140-74cf0ecafad7",
   "metadata": {},
   "outputs": [],
   "source": [
    "# Extract SMILES and target values\n",
    "train_smis = df_train[smiles_column].values\n",
    "train_ys = df_train[target_columns].values\n",
    "\n",
    "test_smis = df_test[smiles_column].values\n",
    "test_ys = df_test[target_columns].values\n",
    "\n",
    "# Convert data to MoleculeDatapoint format\n",
    "train_data = [data.MoleculeDatapoint.from_smi(smi, y) for smi, y in zip(train_smis, train_ys)]\n",
    "test_data = [data.MoleculeDatapoint.from_smi(smi, y) for smi, y in zip(test_smis, test_ys)]\n"
   ]
  },
  {
   "cell_type": "code",
   "execution_count": 7,
   "id": "bbc5e27a-cfbc-4181-89d3-83b27785fcf8",
   "metadata": {},
   "outputs": [],
   "source": [
    "# Initialize featurizer\n",
    "featurizer = featurizers.SimpleMoleculeMolGraphFeaturizer()\n",
    "\n",
    "# Create training dataset\n",
    "train_dset = data.MoleculeDataset(train_data, featurizer)\n",
    "scaler = train_dset.normalize_targets()\n",
    "\n",
    "# Split validation set from training data (80% train, 20% validation)\n",
    "split_idx = int(len(train_data) * 0.8)\n",
    "val_data = train_data[split_idx:]\n",
    "train_data = train_data[:split_idx]\n",
    "\n",
    "# Create validation and test datasets\n",
    "val_dset = data.MoleculeDataset(val_data, featurizer)\n",
    "val_dset.normalize_targets(scaler)\n",
    "\n",
    "test_dset = data.MoleculeDataset(test_data, featurizer)"
   ]
  },
  {
   "cell_type": "code",
   "execution_count": 8,
   "id": "c0571af4-13e8-4c32-add1-bc9dd10df31e",
   "metadata": {},
   "outputs": [],
   "source": [
    "def train_model(config, train_dset, val_dset, num_workers, scaler):\n",
    "\n",
    "    # config is a dictionary containing hyperparameters used for the trial\n",
    "    depth = int(config[\"depth\"])\n",
    "    ffn_hidden_dim = int(config[\"ffn_hidden_dim\"])\n",
    "    ffn_num_layers = int(config[\"ffn_num_layers\"])\n",
    "    message_hidden_dim = int(config[\"message_hidden_dim\"])\n",
    "\n",
    "    train_loader = data.build_dataloader(train_dset, num_workers=num_workers, shuffle=True)\n",
    "    val_loader = data.build_dataloader(val_dset, num_workers=num_workers, shuffle=False)\n",
    "\n",
    "    mp = nn.BondMessagePassing(d_h=message_hidden_dim, depth=depth)\n",
    "    agg = nn.MeanAggregation()\n",
    "    output_transform = nn.UnscaleTransform.from_standard_scaler(scaler)\n",
    "    ffn = nn.RegressionFFN(output_transform=output_transform, input_dim=message_hidden_dim, hidden_dim=ffn_hidden_dim, n_layers=ffn_num_layers)\n",
    "    batch_norm = True\n",
    "    metric_list = [nn.metrics.RMSE(), nn.metrics.MAE()]\n",
    "    model = models.MPNN(mp, agg, ffn, batch_norm, metric_list)\n",
    "\n",
    "    trainer = pl.Trainer(\n",
    "        accelerator=\"auto\",\n",
    "        devices=1,\n",
    "        max_epochs=20, # number of epochs to train for\n",
    "        # below are needed for Ray and Lightning integration\n",
    "        strategy=RayDDPStrategy(),\n",
    "        callbacks=[RayTrainReportCallback()],\n",
    "        plugins=[RayLightningEnvironment()],\n",
    "    )\n",
    "\n",
    "    trainer = prepare_trainer(trainer)\n",
    "    trainer.fit(model, train_loader, val_loader)"
   ]
  },
  {
   "cell_type": "code",
   "execution_count": 9,
   "id": "00dc82d6-6d1d-489c-802a-ae0a223867dc",
   "metadata": {},
   "outputs": [],
   "source": [
    "search_space = {\n",
    "    \"depth\": tune.qrandint(lower=2, upper=6, q=1),\n",
    "    \"ffn_hidden_dim\": tune.qrandint(lower=300, upper=2400, q=100),\n",
    "    \"ffn_num_layers\": tune.qrandint(lower=1, upper=3, q=1),\n",
    "    \"message_hidden_dim\": tune.qrandint(lower=300, upper=2400, q=100),\n",
    "}"
   ]
  },
  {
   "cell_type": "code",
   "execution_count": 10,
   "id": "c406b1c1-394a-43f0-be69-3fe9b9d593a4",
   "metadata": {},
   "outputs": [
    {
     "data": {
      "text/html": [
       "<div class=\"tuneStatus\">\n",
       "  <div style=\"display: flex;flex-direction: row\">\n",
       "    <div style=\"display: flex;flex-direction: column;\">\n",
       "      <h3>Tune Status</h3>\n",
       "      <table>\n",
       "<tbody>\n",
       "<tr><td>Current time:</td><td>2025-03-11 21:44:30</td></tr>\n",
       "<tr><td>Running for: </td><td>00:04:58.60        </td></tr>\n",
       "<tr><td>Memory:      </td><td>30.3/753.9 GiB     </td></tr>\n",
       "</tbody>\n",
       "</table>\n",
       "    </div>\n",
       "    <div class=\"vDivider\"></div>\n",
       "    <div class=\"systemInfo\">\n",
       "      <h3>System Info</h3>\n",
       "      Using FIFO scheduling algorithm.<br>Logical resource usage: 2.0/96 CPUs, 0/0 GPUs\n",
       "    </div>\n",
       "    \n",
       "  </div>\n",
       "  <div class=\"hDivider\"></div>\n",
       "  <div class=\"trialStatus\">\n",
       "    <h3>Trial Status</h3>\n",
       "    <table>\n",
       "<thead>\n",
       "<tr><th>Trial name           </th><th>status    </th><th>loc              </th><th style=\"text-align: right;\">  train_loop_config/de\n",
       "pth</th><th style=\"text-align: right;\">     train_loop_config/ff\n",
       "n_hidden_dim</th><th style=\"text-align: right;\">  train_loop_config/ff\n",
       "n_num_layers</th><th style=\"text-align: right;\">    train_loop_config/me\n",
       "ssage_hidden_dim</th><th style=\"text-align: right;\">  iter</th><th style=\"text-align: right;\">  total time (s)</th><th style=\"text-align: right;\">  train_loss</th><th style=\"text-align: right;\">  train_loss_step</th><th style=\"text-align: right;\">  val/rmse</th></tr>\n",
       "</thead>\n",
       "<tbody>\n",
       "<tr><td>TorchTrainer_2a5d7132</td><td>TERMINATED</td><td>10.233.0.37:13970</td><td style=\"text-align: right;\">2</td><td style=\"text-align: right;\">2000</td><td style=\"text-align: right;\">2</td><td style=\"text-align: right;\">500</td><td style=\"text-align: right;\">    20</td><td style=\"text-align: right;\">         268.867</td><td style=\"text-align: right;\">    0.172786</td><td style=\"text-align: right;\">         0.178867</td><td style=\"text-align: right;\">  0.455987</td></tr>\n",
       "<tr><td>TorchTrainer_37f3fa18</td><td>TERMINATED</td><td>10.233.0.37:14396</td><td style=\"text-align: right;\">2</td><td style=\"text-align: right;\">2200</td><td style=\"text-align: right;\">2</td><td style=\"text-align: right;\">400</td><td style=\"text-align: right;\">    20</td><td style=\"text-align: right;\">         236.358</td><td style=\"text-align: right;\">    0.155991</td><td style=\"text-align: right;\">         0.18868 </td><td style=\"text-align: right;\">  0.404194</td></tr>\n",
       "</tbody>\n",
       "</table>\n",
       "  </div>\n",
       "</div>\n",
       "<style>\n",
       ".tuneStatus {\n",
       "  color: var(--jp-ui-font-color1);\n",
       "}\n",
       ".tuneStatus .systemInfo {\n",
       "  display: flex;\n",
       "  flex-direction: column;\n",
       "}\n",
       ".tuneStatus td {\n",
       "  white-space: nowrap;\n",
       "}\n",
       ".tuneStatus .trialStatus {\n",
       "  display: flex;\n",
       "  flex-direction: column;\n",
       "}\n",
       ".tuneStatus h3 {\n",
       "  font-weight: bold;\n",
       "}\n",
       ".tuneStatus .hDivider {\n",
       "  border-bottom-width: var(--jp-border-width);\n",
       "  border-bottom-color: var(--jp-border-color0);\n",
       "  border-bottom-style: solid;\n",
       "}\n",
       ".tuneStatus .vDivider {\n",
       "  border-left-width: var(--jp-border-width);\n",
       "  border-left-color: var(--jp-border-color0);\n",
       "  border-left-style: solid;\n",
       "  margin: 0.5em 1em 0.5em 1em;\n",
       "}\n",
       "</style>\n"
      ],
      "text/plain": [
       "<IPython.core.display.HTML object>"
      ]
     },
     "metadata": {},
     "output_type": "display_data"
    },
    {
     "name": "stderr",
     "output_type": "stream",
     "text": [
      "\u001b[36m(RayTrainWorker pid=14395)\u001b[0m Setting up process group for: env:// [rank=0, world_size=1]\n",
      "\u001b[36m(TorchTrainer pid=13970)\u001b[0m Started distributed worker processes: \n",
      "\u001b[36m(TorchTrainer pid=13970)\u001b[0m - (node_id=377dce8b0beb96cdf157a20eceedbfc94eaf21499fcce15fd99cf15f, ip=10.233.0.37, pid=14395) world_rank=0, local_rank=0, node_rank=0\n",
      "\u001b[36m(RayTrainWorker pid=14395)\u001b[0m /home/aih/serra.korkmaz/miniconda3/envs/saturn/lib/python3.11/site-packages/ray/train/lightning/_lightning_utils.py:262: This API is deprecated and may be removed in future Ray releases. You could suppress this warning by setting env variable PYTHONWARNINGS=\"ignore::DeprecationWarning\"\n",
      "\u001b[36m(RayTrainWorker pid=14395)\u001b[0m `get_trial_name` is deprecated because the concept of a `Trial` will soon be removed in Ray Train.Ray Train will no longer assume that it's running within a Ray Tune `Trial` in the future. See this issue for more context and migration options: https://github.com/ray-project/ray/issues/49454. Disable these warnings by setting the environment variable: RAY_TRAIN_ENABLE_V2_MIGRATION_WARNINGS=0\n",
      "\u001b[36m(RayTrainWorker pid=14395)\u001b[0m GPU available: False, used: False\n",
      "\u001b[36m(RayTrainWorker pid=14395)\u001b[0m TPU available: False, using: 0 TPU cores\n",
      "\u001b[36m(RayTrainWorker pid=14395)\u001b[0m HPU available: False, using: 0 HPUs\n",
      "\u001b[36m(RayTrainWorker pid=14395)\u001b[0m Loading `train_dataloader` to estimate number of stepping batches.\n",
      "\u001b[36m(RayTrainWorker pid=14395)\u001b[0m /home/aih/serra.korkmaz/miniconda3/envs/saturn/lib/python3.11/site-packages/lightning/pytorch/trainer/connectors/data_connector.py:425: The 'train_dataloader' does not have many workers which may be a bottleneck. Consider increasing the value of the `num_workers` argument` to `num_workers=3` in the `DataLoader` to improve performance.\n",
      "\u001b[36m(RayTrainWorker pid=14395)\u001b[0m /home/aih/serra.korkmaz/miniconda3/envs/saturn/lib/python3.11/site-packages/lightning/pytorch/loops/fit_loop.py:310: The number of training batches (29) is smaller than the logging interval Trainer(log_every_n_steps=50). Set a lower value for log_every_n_steps if you want to see logs for the training epoch.\n",
      "\u001b[36m(RayTrainWorker pid=14395)\u001b[0m \n",
      "\u001b[36m(RayTrainWorker pid=14395)\u001b[0m   | Name            | Type               | Params | Mode \n",
      "\u001b[36m(RayTrainWorker pid=14395)\u001b[0m ---------------------------------------------------------------\n",
      "\u001b[36m(RayTrainWorker pid=14395)\u001b[0m 0 | message_passing | BondMessagePassing | 579 K  | train\n",
      "\u001b[36m(RayTrainWorker pid=14395)\u001b[0m 1 | agg             | MeanAggregation    | 0      | train\n",
      "\u001b[36m(RayTrainWorker pid=14395)\u001b[0m 2 | bn              | BatchNorm1d        | 1.0 K  | train\n",
      "\u001b[36m(RayTrainWorker pid=14395)\u001b[0m 3 | predictor       | RegressionFFN      | 5.0 M  | train\n",
      "\u001b[36m(RayTrainWorker pid=14395)\u001b[0m 4 | X_d_transform   | Identity           | 0      | train\n",
      "\u001b[36m(RayTrainWorker pid=14395)\u001b[0m 5 | metrics         | ModuleList         | 0      | train\n",
      "\u001b[36m(RayTrainWorker pid=14395)\u001b[0m ---------------------------------------------------------------\n",
      "\u001b[36m(RayTrainWorker pid=14395)\u001b[0m 5.6 M     Trainable params\n",
      "\u001b[36m(RayTrainWorker pid=14395)\u001b[0m 0         Non-trainable params\n",
      "\u001b[36m(RayTrainWorker pid=14395)\u001b[0m 5.6 M     Total params\n",
      "\u001b[36m(RayTrainWorker pid=14395)\u001b[0m 22.346    Total estimated model params size (MB)\n",
      "\u001b[36m(RayTrainWorker pid=14395)\u001b[0m 27        Modules in train mode\n",
      "\u001b[36m(RayTrainWorker pid=14395)\u001b[0m 0         Modules in eval mode\n",
      "\u001b[36m(RayTrainWorker pid=14395)\u001b[0m /home/aih/serra.korkmaz/miniconda3/envs/saturn/lib/python3.11/site-packages/lightning/pytorch/core/saving.py:363: Skipping 'metrics' parameter because it is not possible to safely dump to YAML.\n",
      "\u001b[36m(RayTrainWorker pid=14395)\u001b[0m /home/aih/serra.korkmaz/miniconda3/envs/saturn/lib/python3.11/site-packages/lightning/pytorch/trainer/connectors/data_connector.py:425: The 'val_dataloader' does not have many workers which may be a bottleneck. Consider increasing the value of the `num_workers` argument` to `num_workers=3` in the `DataLoader` to improve performance.\n"
     ]
    },
    {
     "name": "stdout",
     "output_type": "stream",
     "text": [
      "Sanity Checking: |          | 0/? [00:00<?, ?it/s]\n",
      "Sanity Checking DataLoader 0:   0%|          | 0/2 [00:00<?, ?it/s]\n",
      "Sanity Checking DataLoader 0:  50%|█████     | 1/2 [00:00<00:00,  1.09it/s]\n",
      "Sanity Checking DataLoader 0: 100%|██████████| 2/2 [00:01<00:00,  1.65it/s]\n",
      "Epoch 0:   0%|          | 0/29 [00:00<?, ?it/s]                            \n",
      "Epoch 0:   3%|▎         | 1/29 [00:00<00:27,  1.03it/s, v_num=3.41e+7, train_loss_step=0.946]\n"
     ]
    },
    {
     "name": "stderr",
     "output_type": "stream",
     "text": [
      "\u001b[36m(TorchTrainer pid=14396)\u001b[0m Started distributed worker processes: \n",
      "\u001b[36m(TorchTrainer pid=14396)\u001b[0m - (node_id=377dce8b0beb96cdf157a20eceedbfc94eaf21499fcce15fd99cf15f, ip=10.233.0.37, pid=14629) world_rank=0, local_rank=0, node_rank=0\n",
      "\u001b[36m(RayTrainWorker pid=14629)\u001b[0m Setting up process group for: env:// [rank=0, world_size=1]\n"
     ]
    },
    {
     "name": "stdout",
     "output_type": "stream",
     "text": [
      "Epoch 0:   7%|▋         | 2/29 [00:01<00:20,  1.29it/s, v_num=3.41e+7, train_loss_step=0.638]\n",
      "Epoch 0:  10%|█         | 3/29 [00:01<00:16,  1.57it/s, v_num=3.41e+7, train_loss_step=0.479]\n",
      "Epoch 0:  14%|█▍        | 4/29 [00:02<00:14,  1.77it/s, v_num=3.41e+7, train_loss_step=0.510]\n",
      "Epoch 0:  17%|█▋        | 5/29 [00:02<00:12,  1.89it/s, v_num=3.41e+7, train_loss_step=0.807]\n",
      "Epoch 0:  21%|██        | 6/29 [00:02<00:11,  2.02it/s, v_num=3.41e+7, train_loss_step=0.751]\n",
      "Epoch 0:  24%|██▍       | 7/29 [00:03<00:10,  2.10it/s, v_num=3.41e+7, train_loss_step=0.450]\n",
      "Epoch 0:  28%|██▊       | 8/29 [00:03<00:09,  2.15it/s, v_num=3.41e+7, train_loss_step=0.568]\n",
      "Epoch 0:  31%|███       | 9/29 [00:04<00:09,  2.21it/s, v_num=3.41e+7, train_loss_step=0.611]\n",
      "Epoch 0:  34%|███▍      | 10/29 [00:04<00:08,  2.28it/s, v_num=3.41e+7, train_loss_step=0.531]\n",
      "Epoch 0:  38%|███▊      | 11/29 [00:04<00:07,  2.30it/s, v_num=3.41e+7, train_loss_step=0.587]\n",
      "Epoch 0:  41%|████▏     | 12/29 [00:05<00:07,  2.33it/s, v_num=3.41e+7, train_loss_step=0.442]\n",
      "Epoch 0:  45%|████▍     | 13/29 [00:05<00:06,  2.36it/s, v_num=3.41e+7, train_loss_step=0.774]\n"
     ]
    },
    {
     "name": "stderr",
     "output_type": "stream",
     "text": [
      "\u001b[36m(RayTrainWorker pid=14629)\u001b[0m /home/aih/serra.korkmaz/miniconda3/envs/saturn/lib/python3.11/site-packages/ray/train/lightning/_lightning_utils.py:262: This API is deprecated and may be removed in future Ray releases. You could suppress this warning by setting env variable PYTHONWARNINGS=\"ignore::DeprecationWarning\"\n",
      "\u001b[36m(RayTrainWorker pid=14629)\u001b[0m `get_trial_name` is deprecated because the concept of a `Trial` will soon be removed in Ray Train.Ray Train will no longer assume that it's running within a Ray Tune `Trial` in the future. See this issue for more context and migration options: https://github.com/ray-project/ray/issues/49454. Disable these warnings by setting the environment variable: RAY_TRAIN_ENABLE_V2_MIGRATION_WARNINGS=0\n",
      "\u001b[36m(RayTrainWorker pid=14629)\u001b[0m GPU available: False, used: False\n",
      "\u001b[36m(RayTrainWorker pid=14629)\u001b[0m TPU available: False, using: 0 TPU cores\n",
      "\u001b[36m(RayTrainWorker pid=14629)\u001b[0m HPU available: False, using: 0 HPUs\n",
      "\u001b[36m(RayTrainWorker pid=14629)\u001b[0m Loading `train_dataloader` to estimate number of stepping batches.\n",
      "\u001b[36m(RayTrainWorker pid=14629)\u001b[0m /home/aih/serra.korkmaz/miniconda3/envs/saturn/lib/python3.11/site-packages/lightning/pytorch/trainer/connectors/data_connector.py:425: The 'train_dataloader' does not have many workers which may be a bottleneck. Consider increasing the value of the `num_workers` argument` to `num_workers=3` in the `DataLoader` to improve performance.\n",
      "\u001b[36m(RayTrainWorker pid=14629)\u001b[0m /home/aih/serra.korkmaz/miniconda3/envs/saturn/lib/python3.11/site-packages/lightning/pytorch/loops/fit_loop.py:310: The number of training batches (29) is smaller than the logging interval Trainer(log_every_n_steps=50). Set a lower value for log_every_n_steps if you want to see logs for the training epoch.\n",
      "\u001b[36m(RayTrainWorker pid=14629)\u001b[0m \n",
      "\u001b[36m(RayTrainWorker pid=14629)\u001b[0m   | Name            | Type               | Params | Mode \n",
      "\u001b[36m(RayTrainWorker pid=14629)\u001b[0m ---------------------------------------------------------------\n",
      "\u001b[36m(RayTrainWorker pid=14629)\u001b[0m 0 | message_passing | BondMessagePassing | 383 K  | train\n",
      "\u001b[36m(RayTrainWorker pid=14629)\u001b[0m 1 | agg             | MeanAggregation    | 0      | train\n",
      "\u001b[36m(RayTrainWorker pid=14629)\u001b[0m 2 | bn              | BatchNorm1d        | 800    | train\n",
      "\u001b[36m(RayTrainWorker pid=14629)\u001b[0m 3 | predictor       | RegressionFFN      | 5.7 M  | train\n",
      "\u001b[36m(RayTrainWorker pid=14629)\u001b[0m 4 | X_d_transform   | Identity           | 0      | train\n",
      "\u001b[36m(RayTrainWorker pid=14629)\u001b[0m 5 | metrics         | ModuleList         | 0      | train\n",
      "\u001b[36m(RayTrainWorker pid=14629)\u001b[0m ---------------------------------------------------------------\n",
      "\u001b[36m(RayTrainWorker pid=14629)\u001b[0m 6.1 M     Trainable params\n",
      "\u001b[36m(RayTrainWorker pid=14629)\u001b[0m 0         Non-trainable params\n",
      "\u001b[36m(RayTrainWorker pid=14629)\u001b[0m 6.1 M     Total params\n",
      "\u001b[36m(RayTrainWorker pid=14629)\u001b[0m 24.444    Total estimated model params size (MB)\n",
      "\u001b[36m(RayTrainWorker pid=14629)\u001b[0m 27        Modules in train mode\n",
      "\u001b[36m(RayTrainWorker pid=14629)\u001b[0m 0         Modules in eval mode\n",
      "\u001b[36m(RayTrainWorker pid=14629)\u001b[0m /home/aih/serra.korkmaz/miniconda3/envs/saturn/lib/python3.11/site-packages/lightning/pytorch/core/saving.py:363: Skipping 'metrics' parameter because it is not possible to safely dump to YAML.\n",
      "\u001b[36m(RayTrainWorker pid=14629)\u001b[0m /home/aih/serra.korkmaz/miniconda3/envs/saturn/lib/python3.11/site-packages/lightning/pytorch/trainer/connectors/data_connector.py:425: The 'val_dataloader' does not have many workers which may be a bottleneck. Consider increasing the value of the `num_workers` argument` to `num_workers=3` in the `DataLoader` to improve performance.\n"
     ]
    },
    {
     "name": "stdout",
     "output_type": "stream",
     "text": [
      "Sanity Checking: |          | 0/? [00:00<?, ?it/s]\n",
      "Epoch 0:  48%|████▊     | 14/29 [00:05<00:06,  2.37it/s, v_num=3.41e+7, train_loss_step=0.361]\n",
      "Sanity Checking DataLoader 0:   0%|          | 0/2 [00:00<?, ?it/s]\n",
      "Sanity Checking DataLoader 0:  50%|█████     | 1/2 [00:00<00:00,  3.60it/s]\n",
      "Epoch 0:  52%|█████▏    | 15/29 [00:06<00:05,  2.36it/s, v_num=3.41e+7, train_loss_step=0.374]\n",
      "Epoch 0:   0%|          | 0/29 [00:00<?, ?it/s]                            \n",
      "Epoch 0:  55%|█████▌    | 16/29 [00:06<00:05,  2.34it/s, v_num=3.41e+7, train_loss_step=0.499]\n",
      "Epoch 0:  90%|████████▉ | 26/29 [00:11<00:01,  2.28it/s, v_num=3.41e+7, train_loss_step=0.647]\u001b[32m [repeated 22x across cluster] (Ray deduplicates logs by default. Set RAY_DEDUP_LOGS=0 to disable log deduplication, or see https://docs.ray.io/en/master/ray-observability/user-guides/configure-logging.html#log-deduplication for more options.)\u001b[0m\n",
      "Epoch 0:  93%|█████████▎| 27/29 [00:11<00:00,  2.27it/s, v_num=3.41e+7, train_loss_step=0.547]\n",
      "Epoch 0:  97%|█████████▋| 28/29 [00:12<00:00,  2.26it/s, v_num=3.41e+7, train_loss_step=0.290]\n",
      "Epoch 0: 100%|██████████| 29/29 [00:12<00:00,  2.32it/s, v_num=3.41e+7, train_loss_step=0.508]\n",
      "Validation: |          | 0/? [00:00<?, ?it/s]\u001b[A\n",
      "\u001b[36m(RayTrainWorker pid=14395)\u001b[0m \n",
      "Validation:   0%|          | 0/6 [00:00<?, ?it/s]\u001b[A\n",
      "Validation DataLoader 0:   0%|          | 0/6 [00:00<?, ?it/s]\u001b[A\n",
      "\u001b[36m(RayTrainWorker pid=14395)\u001b[0m \n",
      "Validation DataLoader 0:  17%|█▋        | 1/6 [00:00<00:01,  3.41it/s]\u001b[A\n",
      "\u001b[36m(RayTrainWorker pid=14395)\u001b[0m \n",
      "Validation DataLoader 0:  33%|███▎      | 2/6 [00:00<00:01,  3.02it/s]\u001b[A\n",
      "\u001b[36m(RayTrainWorker pid=14395)\u001b[0m \n",
      "Validation DataLoader 0:  50%|█████     | 3/6 [00:01<00:01,  2.99it/s]\u001b[A\n",
      "\u001b[36m(RayTrainWorker pid=14395)\u001b[0m \n",
      "Validation DataLoader 0:  67%|██████▋   | 4/6 [00:01<00:00,  2.94it/s]\u001b[A\n",
      "\u001b[36m(RayTrainWorker pid=14395)\u001b[0m \n",
      "Validation DataLoader 0:  83%|████████▎ | 5/6 [00:01<00:00,  2.88it/s]\u001b[A\n",
      "\u001b[36m(RayTrainWorker pid=14395)\u001b[0m \n",
      "Validation DataLoader 0: 100%|██████████| 6/6 [00:01<00:00,  3.04it/s]\u001b[A\n",
      "Epoch 0: 100%|██████████| 29/29 [00:14<00:00,  2.00it/s, v_num=3.41e+7, train_loss_step=0.508, val_loss=0.849]\n",
      "Epoch 0: 100%|██████████| 29/29 [00:14<00:00,  1.97it/s, v_num=3.41e+7, train_loss_step=0.508, val_loss=0.849, train_loss_epoch=0.520]\n",
      "Epoch 1:   0%|          | 0/29 [00:00<?, ?it/s, v_num=3.41e+7, train_loss_step=0.508, val_loss=0.849, train_loss_epoch=0.520]         \n"
     ]
    },
    {
     "name": "stderr",
     "output_type": "stream",
     "text": [
      "\u001b[36m(RayTrainWorker pid=14395)\u001b[0m Checkpoint successfully created at: Checkpoint(filesystem=local, path=/ictstr01/home/aih/serra.korkmaz/projects/saturn/hopt/hpopt_jak2_zinc/ray_results/TorchTrainer_2025-03-11_21-39-30/2a5d7132/checkpoint_000000)\n"
     ]
    },
    {
     "name": "stdout",
     "output_type": "stream",
     "text": [
      "Epoch 1:  14%|█▍        | 4/29 [00:01<00:11,  2.17it/s, v_num=3.41e+7, train_loss_step=0.563, val_loss=0.849, train_loss_epoch=0.520]\u001b[32m [repeated 18x across cluster]\u001b[0m\n",
      "Epoch 0:  97%|█████████▋| 28/29 [00:10<00:00,  2.64it/s, v_num=3.41e+7, train_loss_step=0.288]\u001b[32m [repeated 2x across cluster]\u001b[0m\n",
      "\u001b[36m(RayTrainWorker pid=14629)\u001b[0m \n",
      "\u001b[36m(RayTrainWorker pid=14629)\u001b[0m \n",
      "Validation: |          | 0/? [00:00<?, ?it/s]\u001b[A\n",
      "Validation:   0%|          | 0/6 [00:00<?, ?it/s]\u001b[A\n",
      "Validation DataLoader 0:   0%|          | 0/6 [00:00<?, ?it/s]\u001b[A\n",
      "\u001b[36m(RayTrainWorker pid=14629)\u001b[0m \n",
      "Validation DataLoader 0:  33%|███▎      | 2/6 [00:00<00:01,  3.85it/s]\u001b[A\u001b[32m [repeated 2x across cluster]\u001b[0m\n",
      "\u001b[36m(RayTrainWorker pid=14629)\u001b[0m \n",
      "\u001b[36m(RayTrainWorker pid=14629)\u001b[0m \n",
      "\u001b[36m(RayTrainWorker pid=14629)\u001b[0m \n",
      "\u001b[36m(RayTrainWorker pid=14629)\u001b[0m \n"
     ]
    },
    {
     "name": "stderr",
     "output_type": "stream",
     "text": [
      "2025-03-11 21:40:31,584\tWARNING experiment_state.py:206 -- Experiment state snapshotting has been triggered multiple times in the last 5.0 seconds and may become a bottleneck. A snapshot is forced if `CheckpointConfig(num_to_keep)` is set, and a trial has checkpointed >= `num_to_keep` times since the last snapshot.\n",
      "You may want to consider increasing the `CheckpointConfig(num_to_keep)` or decreasing the frequency of saving checkpoints.\n",
      "You can suppress this warning by setting the environment variable TUNE_WARN_EXCESSIVE_EXPERIMENT_CHECKPOINT_SYNC_THRESHOLD_S to a smaller value than the current threshold (5.0). Set it to 0 to completely suppress this warning.\n"
     ]
    },
    {
     "name": "stdout",
     "output_type": "stream",
     "text": [
      "Validation DataLoader 0: 100%|██████████| 6/6 [00:01<00:00,  4.81it/s]\u001b[A\n",
      "Epoch 0: 100%|██████████| 29/29 [00:12<00:00,  2.41it/s, v_num=3.41e+7, train_loss_step=0.514, val_loss=0.831]\n",
      "Epoch 0: 100%|██████████| 29/29 [00:12<00:00,  2.37it/s, v_num=3.41e+7, train_loss_step=0.514, val_loss=0.831, train_loss_epoch=0.518]\n",
      "Epoch 1:   0%|          | 0/29 [00:00<?, ?it/s, v_num=3.41e+7, train_loss_step=0.514, val_loss=0.831, train_loss_epoch=0.518]         \n",
      "Epoch 1:  38%|███▊      | 11/29 [00:02<00:04,  3.73it/s, v_num=3.41e+7, train_loss_step=0.476, val_loss=0.831, train_loss_epoch=0.518]\u001b[32m [repeated 25x across cluster]\u001b[0m\n",
      "Epoch 0: 100%|██████████| 29/29 [00:10<00:00,  2.70it/s, v_num=3.41e+7, train_loss_step=0.514]\n",
      "Validation DataLoader 0:  83%|████████▎ | 5/6 [00:01<00:00,  4.48it/s]\u001b[A\u001b[32m [repeated 3x across cluster]\u001b[0m\n",
      "Epoch 1:  93%|█████████▎| 27/29 [00:09<00:00,  2.82it/s, v_num=3.41e+7, train_loss_step=0.457, val_loss=0.849, train_loss_epoch=0.520]\n",
      "Epoch 1:  97%|█████████▋| 28/29 [00:09<00:00,  2.83it/s, v_num=3.41e+7, train_loss_step=0.539, val_loss=0.849, train_loss_epoch=0.520]\n",
      "Epoch 1: 100%|██████████| 29/29 [00:09<00:00,  2.90it/s, v_num=3.41e+7, train_loss_step=0.556, val_loss=0.849, train_loss_epoch=0.520]\n",
      "Validation: |          | 0/? [00:00<?, ?it/s]\u001b[A\n",
      "\u001b[36m(RayTrainWorker pid=14395)\u001b[0m \n",
      "Validation:   0%|          | 0/6 [00:00<?, ?it/s]\u001b[A\n",
      "Validation DataLoader 0:   0%|          | 0/6 [00:00<?, ?it/s]\u001b[A\n",
      "\u001b[36m(RayTrainWorker pid=14395)\u001b[0m \n",
      "\u001b[36m(RayTrainWorker pid=14395)\u001b[0m \n",
      "\u001b[36m(RayTrainWorker pid=14395)\u001b[0m \n",
      "\u001b[36m(RayTrainWorker pid=14395)\u001b[0m \n",
      "\u001b[36m(RayTrainWorker pid=14395)\u001b[0m \n",
      "\u001b[36m(RayTrainWorker pid=14395)\u001b[0m \n",
      "Validation DataLoader 0: 100%|██████████| 6/6 [00:01<00:00,  4.74it/s]\u001b[A\n",
      "Epoch 1: 100%|██████████| 29/29 [00:11<00:00,  2.57it/s, v_num=3.41e+7, train_loss_step=0.556, val_loss=0.608, train_loss_epoch=0.520]\n",
      "Epoch 2:   0%|          | 0/29 [00:00<?, ?it/s, v_num=3.41e+7, train_loss_step=0.556, val_loss=0.608, train_loss_epoch=0.427]         \n",
      "\u001b[36m(RayTrainWorker pid=14629)\u001b[0m \n"
     ]
    },
    {
     "name": "stderr",
     "output_type": "stream",
     "text": [
      "\u001b[36m(RayTrainWorker pid=14395)\u001b[0m Checkpoint successfully created at: Checkpoint(filesystem=local, path=/ictstr01/home/aih/serra.korkmaz/projects/saturn/hopt/hpopt_jak2_zinc/ray_results/TorchTrainer_2025-03-11_21-39-30/2a5d7132/checkpoint_000001)\u001b[32m [repeated 2x across cluster]\u001b[0m\n"
     ]
    },
    {
     "name": "stdout",
     "output_type": "stream",
     "text": [
      "\u001b[36m(RayTrainWorker pid=14629)\u001b[0m \n",
      "Epoch 2:   3%|▎         | 1/29 [00:00<00:12,  2.18it/s, v_num=3.41e+7, train_loss_step=0.387, val_loss=0.608, train_loss_epoch=0.427]\u001b[32m [repeated 24x across cluster]\u001b[0m\n",
      "\u001b[36m(RayTrainWorker pid=14629)\u001b[0m \n",
      "\u001b[36m(RayTrainWorker pid=14629)\u001b[0m \n",
      "\u001b[36m(RayTrainWorker pid=14629)\u001b[0m \n",
      "\u001b[36m(RayTrainWorker pid=14629)\u001b[0m \n"
     ]
    },
    {
     "name": "stderr",
     "output_type": "stream",
     "text": [
      "2025-03-11 21:40:41,070\tWARNING experiment_state.py:206 -- Experiment state snapshotting has been triggered multiple times in the last 5.0 seconds and may become a bottleneck. A snapshot is forced if `CheckpointConfig(num_to_keep)` is set, and a trial has checkpointed >= `num_to_keep` times since the last snapshot.\n",
      "You may want to consider increasing the `CheckpointConfig(num_to_keep)` or decreasing the frequency of saving checkpoints.\n",
      "You can suppress this warning by setting the environment variable TUNE_WARN_EXCESSIVE_EXPERIMENT_CHECKPOINT_SYNC_THRESHOLD_S to a smaller value than the current threshold (5.0). Set it to 0 to completely suppress this warning.\n"
     ]
    },
    {
     "name": "stdout",
     "output_type": "stream",
     "text": [
      "\u001b[36m(RayTrainWorker pid=14629)\u001b[0m \n",
      "Validation DataLoader 0:  83%|████████▎ | 5/6 [00:01<00:00,  3.71it/s]\u001b[A\u001b[32m [repeated 10x across cluster]\u001b[0m\n",
      "Epoch 1: 100%|██████████| 29/29 [00:09<00:00,  3.10it/s, v_num=3.41e+7, train_loss_step=0.647, val_loss=0.642, train_loss_epoch=0.416]\n",
      "Epoch 2:   0%|          | 0/29 [00:00<?, ?it/s, v_num=3.41e+7, train_loss_step=0.647, val_loss=0.642, train_loss_epoch=0.416]         \n",
      "Epoch 1: 100%|██████████| 29/29 [00:07<00:00,  3.84it/s, v_num=3.41e+7, train_loss_step=0.647, val_loss=0.831, train_loss_epoch=0.518]\u001b[32m [repeated 3x across cluster]\u001b[0m\n",
      "Validation: |          | 0/? [00:00<?, ?it/s]\u001b[A\n",
      "Validation:   0%|          | 0/6 [00:00<?, ?it/s]\u001b[A\n",
      "Validation DataLoader 0:   0%|          | 0/6 [00:00<?, ?it/s]\u001b[A\n",
      "Validation DataLoader 0: 100%|██████████| 6/6 [00:01<00:00,  3.91it/s]\u001b[A\n",
      "Epoch 1: 100%|██████████| 29/29 [00:09<00:00,  3.17it/s, v_num=3.41e+7, train_loss_step=0.647, val_loss=0.642, train_loss_epoch=0.518]\n",
      "Epoch 2:  38%|███▊      | 11/29 [00:03<00:06,  3.00it/s, v_num=3.41e+7, train_loss_step=0.331, val_loss=0.642, train_loss_epoch=0.416]\u001b[32m [repeated 23x across cluster]\u001b[0m\n",
      "Epoch 2:  59%|█████▊    | 17/29 [00:05<00:03,  3.15it/s, v_num=3.41e+7, train_loss_step=0.409, val_loss=0.642, train_loss_epoch=0.416]\n",
      "Epoch 2:  59%|█████▊    | 17/29 [00:05<00:03,  3.15it/s, v_num=3.41e+7, train_loss_step=0.238, val_loss=0.642, train_loss_epoch=0.416]\n",
      "Epoch 2:  93%|█████████▎| 27/29 [00:10<00:00,  2.68it/s, v_num=3.41e+7, train_loss_step=0.544, val_loss=0.608, train_loss_epoch=0.427]\n",
      "Validation: |          | 0/? [00:00<?, ?it/s]\u001b[A\n",
      "Epoch 2:  90%|████████▉ | 26/29 [00:07<00:00,  3.31it/s, v_num=3.41e+7, train_loss_step=0.323, val_loss=0.642, train_loss_epoch=0.416]\u001b[32m [repeated 27x across cluster]\u001b[0m\n",
      "\u001b[36m(RayTrainWorker pid=14395)\u001b[0m \n",
      "Validation:   0%|          | 0/6 [00:00<?, ?it/s]\u001b[A\n",
      "Validation DataLoader 0:   0%|          | 0/6 [00:00<?, ?it/s]\u001b[A\n",
      "\u001b[36m(RayTrainWorker pid=14629)\u001b[0m \n",
      "\u001b[36m(RayTrainWorker pid=14395)\u001b[0m \n",
      "Validation DataLoader 0:  17%|█▋        | 1/6 [00:00<00:01,  3.70it/s]\u001b[A\n",
      "\u001b[36m(RayTrainWorker pid=14629)\u001b[0m \n",
      "\u001b[36m(RayTrainWorker pid=14629)\u001b[0m \n",
      "\u001b[36m(RayTrainWorker pid=14395)\u001b[0m \n",
      "\u001b[36m(RayTrainWorker pid=14629)\u001b[0m \n",
      "\u001b[36m(RayTrainWorker pid=14395)\u001b[0m \n",
      "\u001b[36m(RayTrainWorker pid=14629)\u001b[0m \n",
      "\u001b[36m(RayTrainWorker pid=14395)\u001b[0m \n",
      "\u001b[36m(RayTrainWorker pid=14629)\u001b[0m \n",
      "\u001b[36m(RayTrainWorker pid=14629)\u001b[0m \n",
      "Validation DataLoader 0: 100%|██████████| 6/6 [00:01<00:00,  4.03it/s]\u001b[A\n",
      "\u001b[36m(RayTrainWorker pid=14629)\u001b[0m \n",
      "Epoch 2: 100%|██████████| 29/29 [00:10<00:00,  2.83it/s, v_num=3.41e+7, train_loss_step=0.129, val_loss=2.640, train_loss_epoch=0.416]\n",
      "\u001b[36m(RayTrainWorker pid=14395)\u001b[0m \n"
     ]
    },
    {
     "name": "stderr",
     "output_type": "stream",
     "text": [
      "2025-03-11 21:40:51,631\tWARNING experiment_state.py:206 -- Experiment state snapshotting has been triggered multiple times in the last 5.0 seconds and may become a bottleneck. A snapshot is forced if `CheckpointConfig(num_to_keep)` is set, and a trial has checkpointed >= `num_to_keep` times since the last snapshot.\n",
      "You may want to consider increasing the `CheckpointConfig(num_to_keep)` or decreasing the frequency of saving checkpoints.\n",
      "You can suppress this warning by setting the environment variable TUNE_WARN_EXCESSIVE_EXPERIMENT_CHECKPOINT_SYNC_THRESHOLD_S to a smaller value than the current threshold (5.0). Set it to 0 to completely suppress this warning.\n",
      "\u001b[36m(RayTrainWorker pid=14629)\u001b[0m Checkpoint successfully created at: Checkpoint(filesystem=local, path=/ictstr01/home/aih/serra.korkmaz/projects/saturn/hopt/hpopt_jak2_zinc/ray_results/TorchTrainer_2025-03-11_21-39-30/37f3fa18/checkpoint_000002)\u001b[32m [repeated 2x across cluster]\u001b[0m\n"
     ]
    },
    {
     "name": "stdout",
     "output_type": "stream",
     "text": [
      "Epoch 2: 100%|██████████| 29/29 [00:10<00:00,  2.77it/s, v_num=3.41e+7, train_loss_step=0.129, val_loss=2.640, train_loss_epoch=0.377]\n",
      "\u001b[36m(RayTrainWorker pid=14395)\u001b[0m \n",
      "\u001b[36m(RayTrainWorker pid=14395)\u001b[0m \n"
     ]
    },
    {
     "name": "stderr",
     "output_type": "stream",
     "text": [
      "2025-03-11 21:40:51,928\tWARNING experiment_state.py:206 -- Experiment state snapshotting has been triggered multiple times in the last 5.0 seconds and may become a bottleneck. A snapshot is forced if `CheckpointConfig(num_to_keep)` is set, and a trial has checkpointed >= `num_to_keep` times since the last snapshot.\n",
      "You may want to consider increasing the `CheckpointConfig(num_to_keep)` or decreasing the frequency of saving checkpoints.\n",
      "You can suppress this warning by setting the environment variable TUNE_WARN_EXCESSIVE_EXPERIMENT_CHECKPOINT_SYNC_THRESHOLD_S to a smaller value than the current threshold (5.0). Set it to 0 to completely suppress this warning.\n"
     ]
    },
    {
     "name": "stdout",
     "output_type": "stream",
     "text": [
      "Epoch 3:   0%|          | 0/29 [00:00<?, ?it/s, v_num=3.41e+7, train_loss_step=0.129, val_loss=2.640, train_loss_epoch=0.377]         \n",
      "Epoch 2: 100%|██████████| 29/29 [00:08<00:00,  3.34it/s, v_num=3.41e+7, train_loss_step=0.129, val_loss=0.642, train_loss_epoch=0.416]\u001b[32m [repeated 5x across cluster]\u001b[0m\n",
      "Validation: |          | 0/? [00:00<?, ?it/s]\u001b[A\n",
      "Epoch 3:  24%|██▍       | 7/29 [00:03<00:09,  2.31it/s, v_num=3.41e+7, train_loss_step=0.349, val_loss=2.320, train_loss_epoch=0.389]\u001b[32m [repeated 15x across cluster]\u001b[0m\n",
      "Validation:   0%|          | 0/6 [00:00<?, ?it/s]\u001b[A\n",
      "Validation DataLoader 0:   0%|          | 0/6 [00:00<?, ?it/s]\u001b[A\n",
      "Validation DataLoader 0:  83%|████████▎ | 5/6 [00:01<00:00,  3.15it/s]\u001b[A\u001b[32m [repeated 9x across cluster]\u001b[0m\n",
      "Validation DataLoader 0: 100%|██████████| 6/6 [00:01<00:00,  3.30it/s]\u001b[A\n",
      "Epoch 2: 100%|██████████| 29/29 [00:12<00:00,  2.32it/s, v_num=3.41e+7, train_loss_step=0.101, val_loss=2.320, train_loss_epoch=0.427]\n",
      "Epoch 2: 100%|██████████| 29/29 [00:12<00:00,  2.29it/s, v_num=3.41e+7, train_loss_step=0.101, val_loss=2.320, train_loss_epoch=0.389]\n",
      "Epoch 3:   0%|          | 0/29 [00:00<?, ?it/s, v_num=3.41e+7, train_loss_step=0.101, val_loss=2.320, train_loss_epoch=0.389]         \n",
      "Epoch 3:  86%|████████▌ | 25/29 [00:08<00:01,  3.00it/s, v_num=3.41e+7, train_loss_step=0.473, val_loss=2.640, train_loss_epoch=0.377]\u001b[32m [repeated 30x across cluster]\u001b[0m\n",
      "Epoch 3:  93%|█████████▎| 27/29 [00:08<00:00,  3.04it/s, v_num=3.41e+7, train_loss_step=0.391, val_loss=2.640, train_loss_epoch=0.377]\n",
      "Epoch 3:  97%|█████████▋| 28/29 [00:09<00:00,  3.03it/s, v_num=3.41e+7, train_loss_step=0.253, val_loss=2.640, train_loss_epoch=0.377]\n",
      "Epoch 3: 100%|██████████| 29/29 [00:09<00:00,  3.10it/s, v_num=3.41e+7, train_loss_step=0.407, val_loss=2.640, train_loss_epoch=0.377]\n",
      "Validation: |          | 0/? [00:00<?, ?it/s]\u001b[A\n",
      "Validation:   0%|          | 0/6 [00:00<?, ?it/s]\u001b[A\n",
      "Validation DataLoader 0:   0%|          | 0/6 [00:00<?, ?it/s]\u001b[A\n",
      "\u001b[36m(RayTrainWorker pid=14629)\u001b[0m \n",
      "Validation DataLoader 0:  17%|█▋        | 1/6 [00:00<00:01,  4.22it/s]\u001b[A\n",
      "\u001b[36m(RayTrainWorker pid=14629)\u001b[0m \n",
      "Validation DataLoader 0:  33%|███▎      | 2/6 [00:00<00:01,  3.77it/s]\u001b[A\n",
      "\u001b[36m(RayTrainWorker pid=14629)\u001b[0m \n",
      "Validation DataLoader 0:  50%|█████     | 3/6 [00:00<00:00,  3.71it/s]\u001b[A\n",
      "\u001b[36m(RayTrainWorker pid=14629)\u001b[0m \n",
      "Validation DataLoader 0:  67%|██████▋   | 4/6 [00:01<00:00,  3.90it/s]\u001b[A\n",
      "\u001b[36m(RayTrainWorker pid=14629)\u001b[0m \n",
      "Validation DataLoader 0:  83%|████████▎ | 5/6 [00:01<00:00,  4.05it/s]\u001b[A\n",
      "\u001b[36m(RayTrainWorker pid=14629)\u001b[0m \n",
      "Validation DataLoader 0: 100%|██████████| 6/6 [00:01<00:00,  4.39it/s]\u001b[A\n",
      "Epoch 3: 100%|██████████| 29/29 [00:10<00:00,  2.69it/s, v_num=3.41e+7, train_loss_step=0.407, val_loss=0.442, train_loss_epoch=0.377]\n"
     ]
    },
    {
     "name": "stderr",
     "output_type": "stream",
     "text": [
      "\u001b[36m(RayTrainWorker pid=14629)\u001b[0m Checkpoint successfully created at: Checkpoint(filesystem=local, path=/ictstr01/home/aih/serra.korkmaz/projects/saturn/hopt/hpopt_jak2_zinc/ray_results/TorchTrainer_2025-03-11_21-39-30/37f3fa18/checkpoint_000003)\u001b[32m [repeated 2x across cluster]\u001b[0m\n",
      "2025-03-11 21:41:02,837\tWARNING experiment_state.py:206 -- Experiment state snapshotting has been triggered multiple times in the last 5.0 seconds and may become a bottleneck. A snapshot is forced if `CheckpointConfig(num_to_keep)` is set, and a trial has checkpointed >= `num_to_keep` times since the last snapshot.\n",
      "You may want to consider increasing the `CheckpointConfig(num_to_keep)` or decreasing the frequency of saving checkpoints.\n",
      "You can suppress this warning by setting the environment variable TUNE_WARN_EXCESSIVE_EXPERIMENT_CHECKPOINT_SYNC_THRESHOLD_S to a smaller value than the current threshold (5.0). Set it to 0 to completely suppress this warning.\n"
     ]
    },
    {
     "name": "stdout",
     "output_type": "stream",
     "text": [
      "Epoch 3: 100%|██████████| 29/29 [00:11<00:00,  2.63it/s, v_num=3.41e+7, train_loss_step=0.407, val_loss=0.442, train_loss_epoch=0.348]\n",
      "Epoch 4:   0%|          | 0/29 [00:00<?, ?it/s, v_num=3.41e+7, train_loss_step=0.407, val_loss=0.442, train_loss_epoch=0.348]         \n",
      "\u001b[36m(RayTrainWorker pid=14395)\u001b[0m \n",
      "\u001b[36m(RayTrainWorker pid=14395)\u001b[0m \n",
      "\u001b[36m(RayTrainWorker pid=14395)\u001b[0m \n",
      "\u001b[36m(RayTrainWorker pid=14395)\u001b[0m \n",
      "\u001b[36m(RayTrainWorker pid=14395)\u001b[0m \n",
      "\u001b[36m(RayTrainWorker pid=14395)\u001b[0m \n"
     ]
    },
    {
     "name": "stderr",
     "output_type": "stream",
     "text": [
      "2025-03-11 21:41:04,671\tWARNING experiment_state.py:206 -- Experiment state snapshotting has been triggered multiple times in the last 5.0 seconds and may become a bottleneck. A snapshot is forced if `CheckpointConfig(num_to_keep)` is set, and a trial has checkpointed >= `num_to_keep` times since the last snapshot.\n",
      "You may want to consider increasing the `CheckpointConfig(num_to_keep)` or decreasing the frequency of saving checkpoints.\n",
      "You can suppress this warning by setting the environment variable TUNE_WARN_EXCESSIVE_EXPERIMENT_CHECKPOINT_SYNC_THRESHOLD_S to a smaller value than the current threshold (5.0). Set it to 0 to completely suppress this warning.\n"
     ]
    },
    {
     "name": "stdout",
     "output_type": "stream",
     "text": [
      "Epoch 4:   3%|▎         | 1/29 [00:00<00:12,  2.24it/s, v_num=3.41e+7, train_loss_step=0.367, val_loss=0.469, train_loss_epoch=0.359]\u001b[32m [repeated 15x across cluster]\u001b[0m\n",
      "Epoch 3: 100%|██████████| 29/29 [00:10<00:00,  2.65it/s, v_num=3.41e+7, train_loss_step=0.423, val_loss=2.320, train_loss_epoch=0.389]\u001b[32m [repeated 3x across cluster]\u001b[0m\n",
      "Validation: |          | 0/? [00:00<?, ?it/s]\u001b[A\n",
      "Validation:   0%|          | 0/6 [00:00<?, ?it/s]\u001b[A\n",
      "Validation DataLoader 0:   0%|          | 0/6 [00:00<?, ?it/s]\u001b[A\n",
      "Validation DataLoader 0:  83%|████████▎ | 5/6 [00:01<00:00,  4.40it/s]\u001b[A\u001b[32m [repeated 5x across cluster]\u001b[0m\n",
      "Validation DataLoader 0: 100%|██████████| 6/6 [00:01<00:00,  4.61it/s]\u001b[A\n",
      "Epoch 3: 100%|██████████| 29/29 [00:12<00:00,  2.36it/s, v_num=3.41e+7, train_loss_step=0.423, val_loss=0.469, train_loss_epoch=0.389]\n",
      "Epoch 3: 100%|██████████| 29/29 [00:12<00:00,  2.30it/s, v_num=3.41e+7, train_loss_step=0.423, val_loss=0.469, train_loss_epoch=0.359]\n",
      "Epoch 4:   0%|          | 0/29 [00:00<?, ?it/s, v_num=3.41e+7, train_loss_step=0.423, val_loss=0.469, train_loss_epoch=0.359]         \n",
      "Epoch 4:  72%|███████▏  | 21/29 [00:07<00:02,  2.85it/s, v_num=3.41e+7, train_loss_step=0.277, val_loss=0.442, train_loss_epoch=0.348]\u001b[32m [repeated 25x across cluster]\u001b[0m\n",
      "Epoch 4:  93%|█████████▎| 27/29 [00:09<00:00,  2.80it/s, v_num=3.41e+7, train_loss_step=0.455, val_loss=0.442, train_loss_epoch=0.348]\n",
      "Epoch 4:  97%|█████████▋| 28/29 [00:10<00:00,  2.80it/s, v_num=3.41e+7, train_loss_step=0.278, val_loss=0.442, train_loss_epoch=0.348]\n",
      "Epoch 4: 100%|██████████| 29/29 [00:10<00:00,  2.86it/s, v_num=3.41e+7, train_loss_step=0.155, val_loss=0.442, train_loss_epoch=0.348]\n",
      "Validation: |          | 0/? [00:00<?, ?it/s]\u001b[A\n",
      "\u001b[36m(RayTrainWorker pid=14629)\u001b[0m \n",
      "Validation:   0%|          | 0/6 [00:00<?, ?it/s]\u001b[A\n",
      "Validation DataLoader 0:   0%|          | 0/6 [00:00<?, ?it/s]\u001b[A\n",
      "\u001b[36m(RayTrainWorker pid=14629)\u001b[0m \n",
      "Validation DataLoader 0:  17%|█▋        | 1/6 [00:00<00:01,  4.55it/s]\u001b[A\n",
      "\u001b[36m(RayTrainWorker pid=14629)\u001b[0m \n",
      "Validation DataLoader 0:  33%|███▎      | 2/6 [00:00<00:01,  3.96it/s]\u001b[A\n",
      "\u001b[36m(RayTrainWorker pid=14629)\u001b[0m \n",
      "Validation DataLoader 0:  50%|█████     | 3/6 [00:00<00:00,  3.81it/s]\u001b[A\n",
      "\u001b[36m(RayTrainWorker pid=14629)\u001b[0m \n",
      "Validation DataLoader 0:  67%|██████▋   | 4/6 [00:01<00:00,  3.76it/s]\u001b[A\n",
      "\u001b[36m(RayTrainWorker pid=14629)\u001b[0m \n",
      "Validation DataLoader 0:  83%|████████▎ | 5/6 [00:01<00:00,  3.67it/s]\u001b[A\n"
     ]
    },
    {
     "name": "stderr",
     "output_type": "stream",
     "text": [
      "2025-03-11 21:41:14,875\tWARNING experiment_state.py:206 -- Experiment state snapshotting has been triggered multiple times in the last 5.0 seconds and may become a bottleneck. A snapshot is forced if `CheckpointConfig(num_to_keep)` is set, and a trial has checkpointed >= `num_to_keep` times since the last snapshot.\n",
      "You may want to consider increasing the `CheckpointConfig(num_to_keep)` or decreasing the frequency of saving checkpoints.\n",
      "You can suppress this warning by setting the environment variable TUNE_WARN_EXCESSIVE_EXPERIMENT_CHECKPOINT_SYNC_THRESHOLD_S to a smaller value than the current threshold (5.0). Set it to 0 to completely suppress this warning.\n"
     ]
    },
    {
     "name": "stdout",
     "output_type": "stream",
     "text": [
      "\u001b[36m(RayTrainWorker pid=14629)\u001b[0m \n",
      "Validation DataLoader 0: 100%|██████████| 6/6 [00:01<00:00,  3.87it/s]\u001b[A\n",
      "Epoch 4: 100%|██████████| 29/29 [00:11<00:00,  2.47it/s, v_num=3.41e+7, train_loss_step=0.155, val_loss=0.276, train_loss_epoch=0.348]\n"
     ]
    },
    {
     "name": "stderr",
     "output_type": "stream",
     "text": [
      "\u001b[36m(RayTrainWorker pid=14629)\u001b[0m Checkpoint successfully created at: Checkpoint(filesystem=local, path=/ictstr01/home/aih/serra.korkmaz/projects/saturn/hopt/hpopt_jak2_zinc/ray_results/TorchTrainer_2025-03-11_21-39-30/37f3fa18/checkpoint_000004)\u001b[32m [repeated 2x across cluster]\u001b[0m\n"
     ]
    },
    {
     "name": "stdout",
     "output_type": "stream",
     "text": [
      "Epoch 4: 100%|██████████| 29/29 [00:11<00:00,  2.43it/s, v_num=3.41e+7, train_loss_step=0.155, val_loss=0.276, train_loss_epoch=0.337]\n",
      "Epoch 5:   0%|          | 0/29 [00:00<?, ?it/s, v_num=3.41e+7, train_loss_step=0.155, val_loss=0.276, train_loss_epoch=0.337]         \n",
      "Epoch 5:   3%|▎         | 1/29 [00:00<00:10,  2.72it/s, v_num=3.41e+7, train_loss_step=0.173, val_loss=0.276, train_loss_epoch=0.337]\u001b[32m [repeated 18x across cluster]\u001b[0m\n",
      "\u001b[36m(RayTrainWorker pid=14395)\u001b[0m \n",
      "\u001b[36m(RayTrainWorker pid=14395)\u001b[0m \n",
      "Epoch 4: 100%|██████████| 29/29 [00:12<00:00,  2.37it/s, v_num=3.41e+7, train_loss_step=0.154, val_loss=0.469, train_loss_epoch=0.359]\u001b[32m [repeated 3x across cluster]\u001b[0m\n",
      "\u001b[36m(RayTrainWorker pid=14395)\u001b[0m \n",
      "\u001b[36m(RayTrainWorker pid=14395)\u001b[0m \n",
      "Validation: |          | 0/? [00:00<?, ?it/s]\u001b[A\n",
      "Validation:   0%|          | 0/6 [00:00<?, ?it/s]\u001b[A\n",
      "Validation DataLoader 0:   0%|          | 0/6 [00:00<?, ?it/s]\u001b[A\n",
      "\u001b[36m(RayTrainWorker pid=14395)\u001b[0m \n",
      "Validation DataLoader 0:  83%|████████▎ | 5/6 [00:01<00:00,  3.11it/s]\u001b[A\u001b[32m [repeated 5x across cluster]\u001b[0m\n",
      "\u001b[36m(RayTrainWorker pid=14395)\u001b[0m \n"
     ]
    },
    {
     "name": "stderr",
     "output_type": "stream",
     "text": [
      "2025-03-11 21:41:19,118\tWARNING experiment_state.py:206 -- Experiment state snapshotting has been triggered multiple times in the last 5.0 seconds and may become a bottleneck. A snapshot is forced if `CheckpointConfig(num_to_keep)` is set, and a trial has checkpointed >= `num_to_keep` times since the last snapshot.\n",
      "You may want to consider increasing the `CheckpointConfig(num_to_keep)` or decreasing the frequency of saving checkpoints.\n",
      "You can suppress this warning by setting the environment variable TUNE_WARN_EXCESSIVE_EXPERIMENT_CHECKPOINT_SYNC_THRESHOLD_S to a smaller value than the current threshold (5.0). Set it to 0 to completely suppress this warning.\n"
     ]
    },
    {
     "name": "stdout",
     "output_type": "stream",
     "text": [
      "Validation DataLoader 0: 100%|██████████| 6/6 [00:01<00:00,  3.28it/s]\u001b[A\n",
      "Epoch 4: 100%|██████████| 29/29 [00:14<00:00,  2.05it/s, v_num=3.41e+7, train_loss_step=0.154, val_loss=0.358, train_loss_epoch=0.359]\n",
      "Epoch 4: 100%|██████████| 29/29 [00:14<00:00,  2.02it/s, v_num=3.41e+7, train_loss_step=0.154, val_loss=0.358, train_loss_epoch=0.346]\n",
      "Epoch 5:   0%|          | 0/29 [00:00<?, ?it/s, v_num=3.41e+7, train_loss_step=0.154, val_loss=0.358, train_loss_epoch=0.346]         \n",
      "Epoch 5:  14%|█▍        | 4/29 [00:01<00:07,  3.29it/s, v_num=3.41e+7, train_loss_step=0.290, val_loss=0.358, train_loss_epoch=0.346]\u001b[32m [repeated 21x across cluster]\u001b[0m\n",
      "Epoch 5:  93%|█████████▎| 27/29 [00:08<00:00,  3.30it/s, v_num=3.41e+7, train_loss_step=0.299, val_loss=0.276, train_loss_epoch=0.337]\n",
      "Epoch 5: 100%|██████████| 29/29 [00:08<00:00,  3.40it/s, v_num=3.41e+7, train_loss_step=0.0959, val_loss=0.276, train_loss_epoch=0.337]\n",
      "Validation: |          | 0/? [00:00<?, ?it/s]\u001b[A\n",
      "\u001b[36m(RayTrainWorker pid=14629)\u001b[0m \n",
      "Validation:   0%|          | 0/6 [00:00<?, ?it/s]\u001b[A\n",
      "Validation DataLoader 0:   0%|          | 0/6 [00:00<?, ?it/s]\u001b[A\n",
      "\u001b[36m(RayTrainWorker pid=14629)\u001b[0m \n",
      "Validation DataLoader 0:  17%|█▋        | 1/6 [00:00<00:00,  6.84it/s]\u001b[A\n",
      "\u001b[36m(RayTrainWorker pid=14629)\u001b[0m \n",
      "Validation DataLoader 0:  33%|███▎      | 2/6 [00:00<00:00,  5.83it/s]\u001b[A\n",
      "\u001b[36m(RayTrainWorker pid=14629)\u001b[0m \n",
      "Validation DataLoader 0:  50%|█████     | 3/6 [00:00<00:00,  5.58it/s]\u001b[A\n",
      "\u001b[36m(RayTrainWorker pid=14629)\u001b[0m \n",
      "Validation DataLoader 0:  67%|██████▋   | 4/6 [00:00<00:00,  4.80it/s]\u001b[A\n",
      "\u001b[36m(RayTrainWorker pid=14629)\u001b[0m \n",
      "Validation DataLoader 0:  83%|████████▎ | 5/6 [00:01<00:00,  4.39it/s]\u001b[A\n",
      "\u001b[36m(RayTrainWorker pid=14629)\u001b[0m \n",
      "Validation DataLoader 0: 100%|██████████| 6/6 [00:01<00:00,  4.49it/s]\u001b[A\n",
      "Epoch 5: 100%|██████████| 29/29 [00:09<00:00,  2.93it/s, v_num=3.41e+7, train_loss_step=0.0959, val_loss=0.359, train_loss_epoch=0.337]\n",
      "Epoch 5: 100%|██████████| 29/29 [00:10<00:00,  2.87it/s, v_num=3.41e+7, train_loss_step=0.0959, val_loss=0.359, train_loss_epoch=0.322]\n",
      "Epoch 6:   0%|          | 0/29 [00:00<?, ?it/s, v_num=3.41e+7, train_loss_step=0.0959, val_loss=0.359, train_loss_epoch=0.322]         \n"
     ]
    },
    {
     "name": "stderr",
     "output_type": "stream",
     "text": [
      "\u001b[36m(RayTrainWorker pid=14629)\u001b[0m Checkpoint successfully created at: Checkpoint(filesystem=local, path=/ictstr01/home/aih/serra.korkmaz/projects/saturn/hopt/hpopt_jak2_zinc/ray_results/TorchTrainer_2025-03-11_21-39-30/37f3fa18/checkpoint_000005)\u001b[32m [repeated 2x across cluster]\u001b[0m\n"
     ]
    },
    {
     "name": "stdout",
     "output_type": "stream",
     "text": [
      "Epoch 5:  69%|██████▉   | 20/29 [00:06<00:02,  3.18it/s, v_num=3.41e+7, train_loss_step=0.291, val_loss=0.358, train_loss_epoch=0.346]\u001b[32m [repeated 26x across cluster]\u001b[0m\n",
      "Epoch 5:  93%|█████████▎| 27/29 [00:09<00:00,  2.95it/s, v_num=3.41e+7, train_loss_step=0.302, val_loss=0.358, train_loss_epoch=0.346]\n",
      "Epoch 5:  97%|█████████▋| 28/29 [00:09<00:00,  2.93it/s, v_num=3.41e+7, train_loss_step=0.310, val_loss=0.358, train_loss_epoch=0.346]\n",
      "Epoch 5: 100%|██████████| 29/29 [00:09<00:00,  3.00it/s, v_num=3.41e+7, train_loss_step=0.163, val_loss=0.358, train_loss_epoch=0.346]\n",
      "\u001b[36m(RayTrainWorker pid=14395)\u001b[0m \n",
      "Validation: |          | 0/? [00:00<?, ?it/s]\u001b[A\n",
      "\u001b[36m(RayTrainWorker pid=14395)\u001b[0m \n",
      "Validation:   0%|          | 0/6 [00:00<?, ?it/s]\u001b[A\n",
      "Validation DataLoader 0:   0%|          | 0/6 [00:00<?, ?it/s]\u001b[A\n",
      "\u001b[36m(RayTrainWorker pid=14395)\u001b[0m \n",
      "Validation DataLoader 0:  17%|█▋        | 1/6 [00:00<00:01,  3.53it/s]\u001b[A\n",
      "\u001b[36m(RayTrainWorker pid=14395)\u001b[0m \n",
      "Validation DataLoader 0:  33%|███▎      | 2/6 [00:00<00:01,  3.21it/s]\u001b[A\n",
      "\u001b[36m(RayTrainWorker pid=14395)\u001b[0m \n",
      "Validation DataLoader 0:  50%|█████     | 3/6 [00:00<00:00,  3.16it/s]\u001b[A\n",
      "\u001b[36m(RayTrainWorker pid=14395)\u001b[0m \n",
      "Validation DataLoader 0:  67%|██████▋   | 4/6 [00:01<00:00,  3.12it/s]\u001b[A\n",
      "\u001b[36m(RayTrainWorker pid=14395)\u001b[0m \n",
      "Validation DataLoader 0:  83%|████████▎ | 5/6 [00:01<00:00,  3.06it/s]\u001b[A\n",
      "Epoch 6:  52%|█████▏    | 15/29 [00:05<00:04,  2.86it/s, v_num=3.41e+7, train_loss_step=0.223, val_loss=0.359, train_loss_epoch=0.322]\u001b[32m [repeated 21x across cluster]\u001b[0m\n",
      "\u001b[36m(RayTrainWorker pid=14395)\u001b[0m \n",
      "Validation DataLoader 0: 100%|██████████| 6/6 [00:01<00:00,  3.23it/s]\u001b[A\n",
      "Epoch 5: 100%|██████████| 29/29 [00:11<00:00,  2.50it/s, v_num=3.41e+7, train_loss_step=0.163, val_loss=0.307, train_loss_epoch=0.346]\n",
      "Epoch 5: 100%|██████████| 29/29 [00:11<00:00,  2.46it/s, v_num=3.41e+7, train_loss_step=0.163, val_loss=0.307, train_loss_epoch=0.342]\n"
     ]
    },
    {
     "name": "stderr",
     "output_type": "stream",
     "text": [
      "\u001b[36m(RayTrainWorker pid=14395)\u001b[0m Checkpoint successfully created at: Checkpoint(filesystem=local, path=/ictstr01/home/aih/serra.korkmaz/projects/saturn/hopt/hpopt_jak2_zinc/ray_results/TorchTrainer_2025-03-11_21-39-30/2a5d7132/checkpoint_000005)\n"
     ]
    },
    {
     "name": "stdout",
     "output_type": "stream",
     "text": [
      "Epoch 6:   0%|          | 0/29 [00:00<?, ?it/s, v_num=3.41e+7, train_loss_step=0.163, val_loss=0.307, train_loss_epoch=0.342]         \n",
      "Epoch 6:  93%|█████████▎| 27/29 [00:09<00:00,  2.74it/s, v_num=3.41e+7, train_loss_step=0.255, val_loss=0.359, train_loss_epoch=0.322]\n",
      "Epoch 6:  97%|█████████▋| 28/29 [00:10<00:00,  2.73it/s, v_num=3.41e+7, train_loss_step=0.323, val_loss=0.359, train_loss_epoch=0.322]\n",
      "Epoch 6:  34%|███▍      | 10/29 [00:04<00:08,  2.25it/s, v_num=3.41e+7, train_loss_step=0.355, val_loss=0.307, train_loss_epoch=0.342]\u001b[32m [repeated 21x across cluster]\u001b[0m\n",
      "Epoch 6: 100%|██████████| 29/29 [00:10<00:00,  2.80it/s, v_num=3.41e+7, train_loss_step=0.272, val_loss=0.359, train_loss_epoch=0.322]\n",
      "Validation: |          | 0/? [00:00<?, ?it/s]\u001b[A\n",
      "Validation:   0%|          | 0/6 [00:00<?, ?it/s]\u001b[A\n",
      "Validation DataLoader 0:   0%|          | 0/6 [00:00<?, ?it/s]\u001b[A\n",
      "\u001b[36m(RayTrainWorker pid=14629)\u001b[0m \n",
      "Validation DataLoader 0:  17%|█▋        | 1/6 [00:00<00:01,  4.59it/s]\u001b[A\n",
      "\u001b[36m(RayTrainWorker pid=14629)\u001b[0m \n",
      "Validation DataLoader 0:  33%|███▎      | 2/6 [00:00<00:00,  4.02it/s]\u001b[A\n",
      "\u001b[36m(RayTrainWorker pid=14629)\u001b[0m \n",
      "Validation DataLoader 0:  50%|█████     | 3/6 [00:00<00:00,  3.88it/s]\u001b[A\n",
      "\u001b[36m(RayTrainWorker pid=14629)\u001b[0m \n",
      "Validation DataLoader 0:  67%|██████▋   | 4/6 [00:01<00:00,  3.76it/s]\u001b[A\n",
      "\u001b[36m(RayTrainWorker pid=14629)\u001b[0m \n",
      "Validation DataLoader 0:  83%|████████▎ | 5/6 [00:01<00:00,  3.88it/s]\u001b[A\n",
      "\u001b[36m(RayTrainWorker pid=14629)\u001b[0m \n",
      "Validation DataLoader 0: 100%|██████████| 6/6 [00:01<00:00,  4.21it/s]\u001b[A\n",
      "                                                                      \u001b[A\n",
      "Epoch 6: 100%|██████████| 29/29 [00:11<00:00,  2.45it/s, v_num=3.41e+7, train_loss_step=0.272, val_loss=0.402, train_loss_epoch=0.322]\n",
      "Epoch 6: 100%|██████████| 29/29 [00:12<00:00,  2.40it/s, v_num=3.41e+7, train_loss_step=0.272, val_loss=0.402, train_loss_epoch=0.306]\n",
      "Epoch 7:   0%|          | 0/29 [00:00<?, ?it/s, v_num=3.41e+7, train_loss_step=0.272, val_loss=0.402, train_loss_epoch=0.306]         \n"
     ]
    },
    {
     "name": "stderr",
     "output_type": "stream",
     "text": [
      "\u001b[36m(RayTrainWorker pid=14629)\u001b[0m Checkpoint successfully created at: Checkpoint(filesystem=local, path=/ictstr01/home/aih/serra.korkmaz/projects/saturn/hopt/hpopt_jak2_zinc/ray_results/TorchTrainer_2025-03-11_21-39-30/37f3fa18/checkpoint_000006)\n"
     ]
    },
    {
     "name": "stdout",
     "output_type": "stream",
     "text": [
      "Epoch 7:  34%|███▍      | 10/29 [00:03<00:06,  3.15it/s, v_num=3.41e+7, train_loss_step=0.321, val_loss=0.402, train_loss_epoch=0.306]\u001b[32m [repeated 23x across cluster]\u001b[0m\n",
      "Epoch 6:  93%|█████████▎| 27/29 [00:10<00:00,  2.48it/s, v_num=3.41e+7, train_loss_step=0.271, val_loss=0.307, train_loss_epoch=0.342]\n",
      "Epoch 6:  97%|█████████▋| 28/29 [00:11<00:00,  2.50it/s, v_num=3.41e+7, train_loss_step=0.312, val_loss=0.307, train_loss_epoch=0.342]\n",
      "Epoch 6: 100%|██████████| 29/29 [00:11<00:00,  2.56it/s, v_num=3.41e+7, train_loss_step=0.220, val_loss=0.307, train_loss_epoch=0.342]\n",
      "Validation: |          | 0/? [00:00<?, ?it/s]\u001b[A\n",
      "\u001b[36m(RayTrainWorker pid=14395)\u001b[0m \n",
      "Validation:   0%|          | 0/6 [00:00<?, ?it/s]\u001b[A\n",
      "Validation DataLoader 0:   0%|          | 0/6 [00:00<?, ?it/s]\u001b[A\n",
      "\u001b[36m(RayTrainWorker pid=14395)\u001b[0m \n",
      "Validation DataLoader 0:  17%|█▋        | 1/6 [00:00<00:01,  3.88it/s]\u001b[A\n",
      "\u001b[36m(RayTrainWorker pid=14395)\u001b[0m \n",
      "Validation DataLoader 0:  33%|███▎      | 2/6 [00:00<00:01,  3.29it/s]\u001b[A\n",
      "\u001b[36m(RayTrainWorker pid=14395)\u001b[0m \n",
      "Validation DataLoader 0:  50%|█████     | 3/6 [00:00<00:00,  3.18it/s]\u001b[A\n",
      "\u001b[36m(RayTrainWorker pid=14395)\u001b[0m \n",
      "Validation DataLoader 0:  67%|██████▋   | 4/6 [00:01<00:00,  3.14it/s]\u001b[A\n",
      "\u001b[36m(RayTrainWorker pid=14395)\u001b[0m \n",
      "Validation DataLoader 0:  83%|████████▎ | 5/6 [00:01<00:00,  3.08it/s]\u001b[A\n",
      "\u001b[36m(RayTrainWorker pid=14395)\u001b[0m \n",
      "Validation DataLoader 0: 100%|██████████| 6/6 [00:01<00:00,  3.24it/s]\u001b[A\n",
      "Epoch 6: 100%|██████████| 29/29 [00:13<00:00,  2.19it/s, v_num=3.41e+7, train_loss_step=0.220, val_loss=0.320, train_loss_epoch=0.342]\n",
      "Epoch 6: 100%|██████████| 29/29 [00:13<00:00,  2.16it/s, v_num=3.41e+7, train_loss_step=0.220, val_loss=0.320, train_loss_epoch=0.314]\n",
      "Epoch 7:   0%|          | 0/29 [00:00<?, ?it/s, v_num=3.41e+7, train_loss_step=0.220, val_loss=0.320, train_loss_epoch=0.314]         \n"
     ]
    },
    {
     "name": "stderr",
     "output_type": "stream",
     "text": [
      "\u001b[36m(RayTrainWorker pid=14395)\u001b[0m Checkpoint successfully created at: Checkpoint(filesystem=local, path=/ictstr01/home/aih/serra.korkmaz/projects/saturn/hopt/hpopt_jak2_zinc/ray_results/TorchTrainer_2025-03-11_21-39-30/2a5d7132/checkpoint_000006)\n"
     ]
    },
    {
     "name": "stdout",
     "output_type": "stream",
     "text": [
      "Epoch 7:  86%|████████▌ | 25/29 [00:08<00:01,  3.05it/s, v_num=3.41e+7, train_loss_step=0.349, val_loss=0.402, train_loss_epoch=0.306]\u001b[32m [repeated 20x across cluster]\u001b[0m\n",
      "Epoch 7: 100%|██████████| 29/29 [00:09<00:00,  3.06it/s, v_num=3.41e+7, train_loss_step=0.589, val_loss=0.402, train_loss_epoch=0.306]\u001b[32m [repeated 3x across cluster]\u001b[0m\n",
      "\u001b[36m(RayTrainWorker pid=14629)\u001b[0m \n",
      "\u001b[36m(RayTrainWorker pid=14629)\u001b[0m \n",
      "Validation: |          | 0/? [00:00<?, ?it/s]\u001b[A\n",
      "Validation:   0%|          | 0/6 [00:00<?, ?it/s]\u001b[A\n",
      "Validation DataLoader 0:   0%|          | 0/6 [00:00<?, ?it/s]\u001b[A\n",
      "\u001b[36m(RayTrainWorker pid=14629)\u001b[0m \n",
      "Validation DataLoader 0:  50%|█████     | 3/6 [00:00<00:00,  3.74it/s]\u001b[A\u001b[32m [repeated 3x across cluster]\u001b[0m\n",
      "\u001b[36m(RayTrainWorker pid=14629)\u001b[0m \n",
      "\u001b[36m(RayTrainWorker pid=14629)\u001b[0m \n"
     ]
    },
    {
     "name": "stderr",
     "output_type": "stream",
     "text": [
      "2025-03-11 21:41:48,776\tWARNING experiment_state.py:206 -- Experiment state snapshotting has been triggered multiple times in the last 5.0 seconds and may become a bottleneck. A snapshot is forced if `CheckpointConfig(num_to_keep)` is set, and a trial has checkpointed >= `num_to_keep` times since the last snapshot.\n",
      "You may want to consider increasing the `CheckpointConfig(num_to_keep)` or decreasing the frequency of saving checkpoints.\n",
      "You can suppress this warning by setting the environment variable TUNE_WARN_EXCESSIVE_EXPERIMENT_CHECKPOINT_SYNC_THRESHOLD_S to a smaller value than the current threshold (5.0). Set it to 0 to completely suppress this warning.\n"
     ]
    },
    {
     "name": "stdout",
     "output_type": "stream",
     "text": [
      "\u001b[36m(RayTrainWorker pid=14629)\u001b[0m \n"
     ]
    },
    {
     "name": "stderr",
     "output_type": "stream",
     "text": [
      "\u001b[36m(RayTrainWorker pid=14629)\u001b[0m Checkpoint successfully created at: Checkpoint(filesystem=local, path=/ictstr01/home/aih/serra.korkmaz/projects/saturn/hopt/hpopt_jak2_zinc/ray_results/TorchTrainer_2025-03-11_21-39-30/37f3fa18/checkpoint_000007)\n"
     ]
    },
    {
     "name": "stdout",
     "output_type": "stream",
     "text": [
      "Validation DataLoader 0: 100%|██████████| 6/6 [00:01<00:00,  3.82it/s]\u001b[A\n",
      "Epoch 7: 100%|██████████| 29/29 [00:11<00:00,  2.61it/s, v_num=3.41e+7, train_loss_step=0.589, val_loss=0.753, train_loss_epoch=0.306]\n",
      "Epoch 7: 100%|██████████| 29/29 [00:11<00:00,  2.57it/s, v_num=3.41e+7, train_loss_step=0.589, val_loss=0.753, train_loss_epoch=0.287]\n",
      "Epoch 8:   0%|          | 0/29 [00:00<?, ?it/s, v_num=3.41e+7, train_loss_step=0.589, val_loss=0.753, train_loss_epoch=0.287]         \n",
      "Epoch 7:  52%|█████▏    | 15/29 [00:06<00:05,  2.44it/s, v_num=3.41e+7, train_loss_step=0.277, val_loss=0.320, train_loss_epoch=0.314]\u001b[32m [repeated 19x across cluster]\u001b[0m\n",
      "Validation DataLoader 0:  83%|████████▎ | 5/6 [00:01<00:00,  3.63it/s]\u001b[A\u001b[32m [repeated 2x across cluster]\u001b[0m\n",
      "Epoch 7:  86%|████████▌ | 25/29 [00:10<00:01,  2.36it/s, v_num=3.41e+7, train_loss_step=0.283, val_loss=0.320, train_loss_epoch=0.314]\n",
      "Epoch 7:  86%|████████▌ | 25/29 [00:10<00:01,  2.36it/s, v_num=3.41e+7, train_loss_step=0.361, val_loss=0.320, train_loss_epoch=0.314]\n",
      "Epoch 7:  93%|█████████▎| 27/29 [00:11<00:00,  2.36it/s, v_num=3.41e+7, train_loss_step=0.359, val_loss=0.320, train_loss_epoch=0.314]\n",
      "Epoch 8:  66%|██████▌   | 19/29 [00:06<00:03,  2.73it/s, v_num=3.41e+7, train_loss_step=0.274, val_loss=0.753, train_loss_epoch=0.287]\u001b[32m [repeated 24x across cluster]\u001b[0m\n",
      "Epoch 7:  97%|█████████▋| 28/29 [00:11<00:00,  2.36it/s, v_num=3.41e+7, train_loss_step=0.268, val_loss=0.320, train_loss_epoch=0.314]\n",
      "Epoch 7: 100%|██████████| 29/29 [00:11<00:00,  2.42it/s, v_num=3.41e+7, train_loss_step=0.633, val_loss=0.320, train_loss_epoch=0.314]\n",
      "Validation: |          | 0/? [00:00<?, ?it/s]\u001b[A\n",
      "\u001b[36m(RayTrainWorker pid=14395)\u001b[0m \n",
      "Validation:   0%|          | 0/6 [00:00<?, ?it/s]\u001b[A\n",
      "Validation DataLoader 0:   0%|          | 0/6 [00:00<?, ?it/s]\u001b[A\n",
      "\u001b[36m(RayTrainWorker pid=14395)\u001b[0m \n",
      "\u001b[36m(RayTrainWorker pid=14395)\u001b[0m \n",
      "\u001b[36m(RayTrainWorker pid=14395)\u001b[0m \n",
      "\u001b[36m(RayTrainWorker pid=14395)\u001b[0m \n",
      "Validation DataLoader 0:  67%|██████▋   | 4/6 [00:01<00:00,  3.28it/s]\u001b[A\u001b[32m [repeated 4x across cluster]\u001b[0m\n",
      "\u001b[36m(RayTrainWorker pid=14395)\u001b[0m \n",
      "\u001b[36m(RayTrainWorker pid=14395)\u001b[0m \n",
      "Validation DataLoader 0: 100%|██████████| 6/6 [00:01<00:00,  3.69it/s]\u001b[A\n",
      "Epoch 7: 100%|██████████| 29/29 [00:13<00:00,  2.12it/s, v_num=3.41e+7, train_loss_step=0.633, val_loss=0.444, train_loss_epoch=0.314]\n",
      "Epoch 7: 100%|██████████| 29/29 [00:13<00:00,  2.09it/s, v_num=3.41e+7, train_loss_step=0.633, val_loss=0.444, train_loss_epoch=0.298]\n",
      "Epoch 8:   0%|          | 0/29 [00:00<?, ?it/s, v_num=3.41e+7, train_loss_step=0.633, val_loss=0.444, train_loss_epoch=0.298]         \n"
     ]
    },
    {
     "name": "stderr",
     "output_type": "stream",
     "text": [
      "\u001b[36m(RayTrainWorker pid=14395)\u001b[0m Checkpoint successfully created at: Checkpoint(filesystem=local, path=/ictstr01/home/aih/serra.korkmaz/projects/saturn/hopt/hpopt_jak2_zinc/ray_results/TorchTrainer_2025-03-11_21-39-30/2a5d7132/checkpoint_000007)\n"
     ]
    },
    {
     "name": "stdout",
     "output_type": "stream",
     "text": [
      "\u001b[36m(RayTrainWorker pid=14629)\u001b[0m \n",
      "\u001b[36m(RayTrainWorker pid=14629)\u001b[0m \n",
      "\u001b[36m(RayTrainWorker pid=14629)\u001b[0m \n",
      "\u001b[36m(RayTrainWorker pid=14629)\u001b[0m \n",
      "Epoch 8:  79%|███████▉  | 23/29 [00:08<00:02,  2.71it/s, v_num=3.41e+7, train_loss_step=0.503, val_loss=0.753, train_loss_epoch=0.287]\u001b[32m [repeated 2x across cluster]\u001b[0m\n",
      "\u001b[36m(RayTrainWorker pid=14629)\u001b[0m \n"
     ]
    },
    {
     "name": "stderr",
     "output_type": "stream",
     "text": [
      "2025-03-11 21:42:01,057\tWARNING experiment_state.py:206 -- Experiment state snapshotting has been triggered multiple times in the last 5.0 seconds and may become a bottleneck. A snapshot is forced if `CheckpointConfig(num_to_keep)` is set, and a trial has checkpointed >= `num_to_keep` times since the last snapshot.\n",
      "You may want to consider increasing the `CheckpointConfig(num_to_keep)` or decreasing the frequency of saving checkpoints.\n",
      "You can suppress this warning by setting the environment variable TUNE_WARN_EXCESSIVE_EXPERIMENT_CHECKPOINT_SYNC_THRESHOLD_S to a smaller value than the current threshold (5.0). Set it to 0 to completely suppress this warning.\n"
     ]
    },
    {
     "name": "stdout",
     "output_type": "stream",
     "text": [
      "\u001b[36m(RayTrainWorker pid=14629)\u001b[0m \n"
     ]
    },
    {
     "name": "stderr",
     "output_type": "stream",
     "text": [
      "\u001b[36m(RayTrainWorker pid=14629)\u001b[0m Checkpoint successfully created at: Checkpoint(filesystem=local, path=/ictstr01/home/aih/serra.korkmaz/projects/saturn/hopt/hpopt_jak2_zinc/ray_results/TorchTrainer_2025-03-11_21-39-30/37f3fa18/checkpoint_000008)\n"
     ]
    },
    {
     "name": "stdout",
     "output_type": "stream",
     "text": [
      "Epoch 8: 100%|██████████| 29/29 [00:10<00:00,  2.83it/s, v_num=3.41e+7, train_loss_step=0.277, val_loss=0.753, train_loss_epoch=0.287]\u001b[32m [repeated 2x across cluster]\u001b[0m\n",
      "Epoch 8:  17%|█▋        | 5/29 [00:02<00:10,  2.27it/s, v_num=3.41e+7, train_loss_step=0.199, val_loss=0.444, train_loss_epoch=0.298]\u001b[32m [repeated 11x across cluster]\u001b[0m\n",
      "Validation: |          | 0/? [00:00<?, ?it/s]\u001b[A\n",
      "Validation:   0%|          | 0/6 [00:00<?, ?it/s]\u001b[A\n",
      "Validation DataLoader 0:   0%|          | 0/6 [00:00<?, ?it/s]\u001b[A\n",
      "Validation DataLoader 0:  83%|████████▎ | 5/6 [00:01<00:00,  3.54it/s]\u001b[A\u001b[32m [repeated 6x across cluster]\u001b[0m\n",
      "Validation DataLoader 0: 100%|██████████| 6/6 [00:01<00:00,  3.72it/s]\u001b[A\n",
      "Epoch 8: 100%|██████████| 29/29 [00:11<00:00,  2.43it/s, v_num=3.41e+7, train_loss_step=0.277, val_loss=0.412, train_loss_epoch=0.287]\n",
      "Epoch 8: 100%|██████████| 29/29 [00:12<00:00,  2.38it/s, v_num=3.41e+7, train_loss_step=0.277, val_loss=0.412, train_loss_epoch=0.283]\u001b[32m [repeated 3x across cluster]\u001b[0m\n",
      "Epoch 9:   0%|          | 0/29 [00:00<?, ?it/s, v_num=3.41e+7, train_loss_step=0.277, val_loss=0.412, train_loss_epoch=0.283]         \n",
      "Epoch 9:  55%|█████▌    | 16/29 [00:05<00:04,  3.12it/s, v_num=3.41e+7, train_loss_step=0.289, val_loss=0.412, train_loss_epoch=0.283]\u001b[32m [repeated 30x across cluster]\u001b[0m\n",
      "Epoch 8:  93%|█████████▎| 27/29 [00:10<00:00,  2.53it/s, v_num=3.41e+7, train_loss_step=0.281, val_loss=0.444, train_loss_epoch=0.298]\n",
      "Epoch 8:  97%|█████████▋| 28/29 [00:11<00:00,  2.54it/s, v_num=3.41e+7, train_loss_step=0.358, val_loss=0.444, train_loss_epoch=0.298]\n",
      "Epoch 8: 100%|██████████| 29/29 [00:11<00:00,  2.61it/s, v_num=3.41e+7, train_loss_step=0.274, val_loss=0.444, train_loss_epoch=0.298]\n",
      "Validation: |          | 0/? [00:00<?, ?it/s]\u001b[A\n",
      "Validation:   0%|          | 0/6 [00:00<?, ?it/s]\u001b[A\n",
      "Validation DataLoader 0:   0%|          | 0/6 [00:00<?, ?it/s]\u001b[A\n",
      "\u001b[36m(RayTrainWorker pid=14395)\u001b[0m \n",
      "Validation DataLoader 0:  17%|█▋        | 1/6 [00:00<00:00,  5.17it/s]\u001b[A\n",
      "\u001b[36m(RayTrainWorker pid=14395)\u001b[0m \n",
      "Validation DataLoader 0:  33%|███▎      | 2/6 [00:00<00:00,  4.54it/s]\u001b[A\n",
      "\u001b[36m(RayTrainWorker pid=14395)\u001b[0m \n",
      "Validation DataLoader 0:  50%|█████     | 3/6 [00:00<00:00,  4.47it/s]\u001b[A\n",
      "\u001b[36m(RayTrainWorker pid=14629)\u001b[0m \n",
      "\u001b[36m(RayTrainWorker pid=14395)\u001b[0m \n",
      "\u001b[36m(RayTrainWorker pid=14629)\u001b[0m \n",
      "\u001b[36m(RayTrainWorker pid=14629)\u001b[0m \n",
      "\u001b[36m(RayTrainWorker pid=14395)\u001b[0m \n"
     ]
    },
    {
     "name": "stderr",
     "output_type": "stream",
     "text": [
      "2025-03-11 21:42:11,322\tWARNING experiment_state.py:206 -- Experiment state snapshotting has been triggered multiple times in the last 5.0 seconds and may become a bottleneck. A snapshot is forced if `CheckpointConfig(num_to_keep)` is set, and a trial has checkpointed >= `num_to_keep` times since the last snapshot.\n",
      "You may want to consider increasing the `CheckpointConfig(num_to_keep)` or decreasing the frequency of saving checkpoints.\n",
      "You can suppress this warning by setting the environment variable TUNE_WARN_EXCESSIVE_EXPERIMENT_CHECKPOINT_SYNC_THRESHOLD_S to a smaller value than the current threshold (5.0). Set it to 0 to completely suppress this warning.\n"
     ]
    },
    {
     "name": "stdout",
     "output_type": "stream",
     "text": [
      "\u001b[36m(RayTrainWorker pid=14395)\u001b[0m \n",
      "Validation DataLoader 0: 100%|██████████| 6/6 [00:01<00:00,  4.69it/s]\u001b[A\n",
      "Epoch 8: 100%|██████████| 29/29 [00:12<00:00,  2.33it/s, v_num=3.41e+7, train_loss_step=0.274, val_loss=0.382, train_loss_epoch=0.298]\n",
      "\u001b[36m(RayTrainWorker pid=14629)\u001b[0m \n"
     ]
    },
    {
     "name": "stderr",
     "output_type": "stream",
     "text": [
      "\u001b[36m(RayTrainWorker pid=14395)\u001b[0m Checkpoint successfully created at: Checkpoint(filesystem=local, path=/ictstr01/home/aih/serra.korkmaz/projects/saturn/hopt/hpopt_jak2_zinc/ray_results/TorchTrainer_2025-03-11_21-39-30/2a5d7132/checkpoint_000008)\n"
     ]
    },
    {
     "name": "stdout",
     "output_type": "stream",
     "text": [
      "Epoch 8: 100%|██████████| 29/29 [00:12<00:00,  2.30it/s, v_num=3.41e+7, train_loss_step=0.274, val_loss=0.382, train_loss_epoch=0.296]\n",
      "Epoch 9:  90%|████████▉ | 26/29 [00:08<00:00,  3.05it/s, v_num=3.41e+7, train_loss_step=0.395, val_loss=0.412, train_loss_epoch=0.283]\u001b[32m [repeated 17x across cluster]\u001b[0m\n",
      "\u001b[36m(RayTrainWorker pid=14629)\u001b[0m \n",
      "Epoch 9:   0%|          | 0/29 [00:00<?, ?it/s, v_num=3.41e+7, train_loss_step=0.274, val_loss=0.382, train_loss_epoch=0.296]         \n",
      "\u001b[36m(RayTrainWorker pid=14629)\u001b[0m \n"
     ]
    },
    {
     "name": "stderr",
     "output_type": "stream",
     "text": [
      "\u001b[36m(RayTrainWorker pid=14629)\u001b[0m Checkpoint successfully created at: Checkpoint(filesystem=local, path=/ictstr01/home/aih/serra.korkmaz/projects/saturn/hopt/hpopt_jak2_zinc/ray_results/TorchTrainer_2025-03-11_21-39-30/37f3fa18/checkpoint_000009)\n",
      "2025-03-11 21:42:11,708\tWARNING experiment_state.py:206 -- Experiment state snapshotting has been triggered multiple times in the last 5.0 seconds and may become a bottleneck. A snapshot is forced if `CheckpointConfig(num_to_keep)` is set, and a trial has checkpointed >= `num_to_keep` times since the last snapshot.\n",
      "You may want to consider increasing the `CheckpointConfig(num_to_keep)` or decreasing the frequency of saving checkpoints.\n",
      "You can suppress this warning by setting the environment variable TUNE_WARN_EXCESSIVE_EXPERIMENT_CHECKPOINT_SYNC_THRESHOLD_S to a smaller value than the current threshold (5.0). Set it to 0 to completely suppress this warning.\n"
     ]
    },
    {
     "name": "stdout",
     "output_type": "stream",
     "text": [
      "Epoch 9: 100%|██████████| 29/29 [00:09<00:00,  3.16it/s, v_num=3.41e+7, train_loss_step=0.389, val_loss=0.412, train_loss_epoch=0.283]\u001b[32m [repeated 3x across cluster]\u001b[0m\n",
      "Validation: |          | 0/? [00:00<?, ?it/s]\u001b[A\n",
      "Validation:   0%|          | 0/6 [00:00<?, ?it/s]\u001b[A\n",
      "Validation DataLoader 0:   0%|          | 0/6 [00:00<?, ?it/s]\u001b[A\n",
      "Validation DataLoader 0:  83%|████████▎ | 5/6 [00:00<00:00,  5.28it/s]\u001b[A\u001b[32m [repeated 7x across cluster]\u001b[0m\n",
      "Validation DataLoader 0: 100%|██████████| 6/6 [00:01<00:00,  5.57it/s]\u001b[A\n",
      "Epoch 9: 100%|██████████| 29/29 [00:10<00:00,  2.81it/s, v_num=3.41e+7, train_loss_step=0.389, val_loss=0.312, train_loss_epoch=0.283]\n",
      "Epoch 9: 100%|██████████| 29/29 [00:10<00:00,  2.76it/s, v_num=3.41e+7, train_loss_step=0.389, val_loss=0.312, train_loss_epoch=0.258]\n",
      "Epoch 10:  48%|████▊     | 14/29 [00:04<00:04,  3.11it/s, v_num=3.41e+7, train_loss_step=0.274, val_loss=0.312, train_loss_epoch=0.258]\u001b[32m [repeated 27x across cluster]\u001b[0m\n",
      "Epoch 10:   0%|          | 0/29 [00:00<?, ?it/s, v_num=3.41e+7, train_loss_step=0.389, val_loss=0.312, train_loss_epoch=0.258]        \n",
      "Epoch 10:  93%|█████████▎| 27/29 [00:09<00:00,  2.89it/s, v_num=3.41e+7, train_loss_step=0.275, val_loss=0.312, train_loss_epoch=0.258]\n",
      "Epoch 9:  86%|████████▌ | 25/29 [00:09<00:01,  2.50it/s, v_num=3.41e+7, train_loss_step=0.193, val_loss=0.382, train_loss_epoch=0.296]\u001b[32m [repeated 24x across cluster]\u001b[0m\n",
      "Epoch 10:  97%|█████████▋| 28/29 [00:09<00:00,  2.89it/s, v_num=3.41e+7, train_loss_step=0.275, val_loss=0.312, train_loss_epoch=0.258]\n",
      "Epoch 10:  97%|█████████▋| 28/29 [00:09<00:00,  2.89it/s, v_num=3.41e+7, train_loss_step=0.334, val_loss=0.312, train_loss_epoch=0.258]\n",
      "Epoch 10: 100%|██████████| 29/29 [00:09<00:00,  2.96it/s, v_num=3.41e+7, train_loss_step=0.179, val_loss=0.312, train_loss_epoch=0.258]\n",
      "Validation: |          | 0/? [00:00<?, ?it/s]\u001b[A\n",
      "\u001b[36m(RayTrainWorker pid=14629)\u001b[0m \n",
      "Validation:   0%|          | 0/6 [00:00<?, ?it/s]\u001b[A\n",
      "Validation DataLoader 0:   0%|          | 0/6 [00:00<?, ?it/s]\u001b[A\n",
      "\u001b[36m(RayTrainWorker pid=14629)\u001b[0m \n",
      "Validation DataLoader 0:  17%|█▋        | 1/6 [00:00<00:01,  4.53it/s]\u001b[A\n",
      "\u001b[36m(RayTrainWorker pid=14629)\u001b[0m \n",
      "Validation DataLoader 0:  33%|███▎      | 2/6 [00:00<00:01,  3.95it/s]\u001b[A\n",
      "\u001b[36m(RayTrainWorker pid=14629)\u001b[0m \n",
      "Validation DataLoader 0:  50%|█████     | 3/6 [00:00<00:00,  3.86it/s]\u001b[A\n",
      "\u001b[36m(RayTrainWorker pid=14629)\u001b[0m \n",
      "Validation DataLoader 0:  67%|██████▋   | 4/6 [00:01<00:00,  3.78it/s]\u001b[A\n",
      "\u001b[36m(RayTrainWorker pid=14395)\u001b[0m \n",
      "\u001b[36m(RayTrainWorker pid=14629)\u001b[0m \n",
      "Validation DataLoader 0:  83%|████████▎ | 5/6 [00:01<00:00,  3.72it/s]\u001b[A\n",
      "\u001b[36m(RayTrainWorker pid=14395)\u001b[0m \n",
      "\u001b[36m(RayTrainWorker pid=14629)\u001b[0m \n",
      "Validation DataLoader 0: 100%|██████████| 6/6 [00:01<00:00,  3.93it/s]\u001b[A\n",
      "Epoch 10: 100%|██████████| 29/29 [00:11<00:00,  2.55it/s, v_num=3.41e+7, train_loss_step=0.179, val_loss=0.259, train_loss_epoch=0.258]\n"
     ]
    },
    {
     "name": "stderr",
     "output_type": "stream",
     "text": [
      "2025-03-11 21:42:23,466\tWARNING experiment_state.py:206 -- Experiment state snapshotting has been triggered multiple times in the last 5.0 seconds and may become a bottleneck. A snapshot is forced if `CheckpointConfig(num_to_keep)` is set, and a trial has checkpointed >= `num_to_keep` times since the last snapshot.\n",
      "You may want to consider increasing the `CheckpointConfig(num_to_keep)` or decreasing the frequency of saving checkpoints.\n",
      "You can suppress this warning by setting the environment variable TUNE_WARN_EXCESSIVE_EXPERIMENT_CHECKPOINT_SYNC_THRESHOLD_S to a smaller value than the current threshold (5.0). Set it to 0 to completely suppress this warning.\n",
      "\u001b[36m(RayTrainWorker pid=14629)\u001b[0m Checkpoint successfully created at: Checkpoint(filesystem=local, path=/ictstr01/home/aih/serra.korkmaz/projects/saturn/hopt/hpopt_jak2_zinc/ray_results/TorchTrainer_2025-03-11_21-39-30/37f3fa18/checkpoint_000010)\n"
     ]
    },
    {
     "name": "stdout",
     "output_type": "stream",
     "text": [
      "\u001b[36m(RayTrainWorker pid=14395)\u001b[0m \n",
      "Epoch 10: 100%|██████████| 29/29 [00:11<00:00,  2.50it/s, v_num=3.41e+7, train_loss_step=0.179, val_loss=0.259, train_loss_epoch=0.262]\n",
      "Epoch 11:   0%|          | 0/29 [00:00<?, ?it/s, v_num=3.41e+7, train_loss_step=0.179, val_loss=0.259, train_loss_epoch=0.262]         \n",
      "\u001b[36m(RayTrainWorker pid=14395)\u001b[0m \n",
      "\u001b[36m(RayTrainWorker pid=14395)\u001b[0m \n",
      "\u001b[36m(RayTrainWorker pid=14395)\u001b[0m \n"
     ]
    },
    {
     "name": "stderr",
     "output_type": "stream",
     "text": [
      "\u001b[36m(RayTrainWorker pid=14395)\u001b[0m Checkpoint successfully created at: Checkpoint(filesystem=local, path=/ictstr01/home/aih/serra.korkmaz/projects/saturn/hopt/hpopt_jak2_zinc/ray_results/TorchTrainer_2025-03-11_21-39-30/2a5d7132/checkpoint_000009)\n",
      "2025-03-11 21:42:24,596\tWARNING experiment_state.py:206 -- Experiment state snapshotting has been triggered multiple times in the last 5.0 seconds and may become a bottleneck. A snapshot is forced if `CheckpointConfig(num_to_keep)` is set, and a trial has checkpointed >= `num_to_keep` times since the last snapshot.\n",
      "You may want to consider increasing the `CheckpointConfig(num_to_keep)` or decreasing the frequency of saving checkpoints.\n",
      "You can suppress this warning by setting the environment variable TUNE_WARN_EXCESSIVE_EXPERIMENT_CHECKPOINT_SYNC_THRESHOLD_S to a smaller value than the current threshold (5.0). Set it to 0 to completely suppress this warning.\n"
     ]
    },
    {
     "name": "stdout",
     "output_type": "stream",
     "text": [
      "\u001b[36m(RayTrainWorker pid=14395)\u001b[0m \n",
      "Epoch 10:   7%|▋         | 2/29 [00:00<00:08,  3.24it/s, v_num=3.41e+7, train_loss_step=0.164, val_loss=0.267, train_loss_epoch=0.264]\n",
      "Epoch 10:   7%|▋         | 2/29 [00:00<00:08,  3.24it/s, v_num=3.41e+7, train_loss_step=0.231, val_loss=0.267, train_loss_epoch=0.264]\n",
      "Epoch 9: 100%|██████████| 29/29 [00:11<00:00,  2.54it/s, v_num=3.41e+7, train_loss_step=0.504, val_loss=0.382, train_loss_epoch=0.296]\u001b[32m [repeated 3x across cluster]\u001b[0m\n",
      "Epoch 11:  34%|███▍      | 10/29 [00:02<00:05,  3.53it/s, v_num=3.41e+7, train_loss_step=0.302, val_loss=0.259, train_loss_epoch=0.262]\u001b[32m [repeated 15x across cluster]\u001b[0m\n",
      "Epoch 9: 100%|██████████| 29/29 [00:13<00:00,  2.21it/s, v_num=3.41e+7, train_loss_step=0.504, val_loss=0.267, train_loss_epoch=0.264]\n",
      "Validation: |          | 0/? [00:00<?, ?it/s]\u001b[A\n",
      "Validation:   0%|          | 0/6 [00:00<?, ?it/s]\u001b[A\n",
      "Validation DataLoader 0:   0%|          | 0/6 [00:00<?, ?it/s]\u001b[A\n",
      "Validation DataLoader 0:  83%|████████▎ | 5/6 [00:01<00:00,  3.91it/s]\u001b[A\u001b[32m [repeated 5x across cluster]\u001b[0m\n",
      "Validation DataLoader 0: 100%|██████████| 6/6 [00:01<00:00,  3.99it/s]\u001b[A\n",
      "Epoch 9: 100%|██████████| 29/29 [00:12<00:00,  2.24it/s, v_num=3.41e+7, train_loss_step=0.504, val_loss=0.267, train_loss_epoch=0.296]\n",
      "Epoch 10:   0%|          | 0/29 [00:00<?, ?it/s, v_num=3.41e+7, train_loss_step=0.504, val_loss=0.267, train_loss_epoch=0.264]        \n",
      "Epoch 10:  69%|██████▉   | 20/29 [00:06<00:03,  2.97it/s, v_num=3.41e+7, train_loss_step=0.312, val_loss=0.267, train_loss_epoch=0.264]\u001b[32m [repeated 31x across cluster]\u001b[0m\n",
      "Epoch 11:  93%|█████████▎| 27/29 [00:08<00:00,  3.37it/s, v_num=3.41e+7, train_loss_step=0.247, val_loss=0.259, train_loss_epoch=0.262]\n",
      "Epoch 11:  97%|█████████▋| 28/29 [00:08<00:00,  3.39it/s, v_num=3.41e+7, train_loss_step=0.344, val_loss=0.259, train_loss_epoch=0.262]\n",
      "Epoch 11: 100%|██████████| 29/29 [00:08<00:00,  3.47it/s, v_num=3.41e+7, train_loss_step=0.149, val_loss=0.259, train_loss_epoch=0.262]\n",
      "Validation: |          | 0/? [00:00<?, ?it/s]\u001b[A\n",
      "\u001b[36m(RayTrainWorker pid=14629)\u001b[0m \n",
      "Validation:   0%|          | 0/6 [00:00<?, ?it/s]\u001b[A\n",
      "Validation DataLoader 0:   0%|          | 0/6 [00:00<?, ?it/s]\u001b[A\n",
      "\u001b[36m(RayTrainWorker pid=14629)\u001b[0m \n",
      "Validation DataLoader 0:  17%|█▋        | 1/6 [00:00<00:01,  4.30it/s]\u001b[A\n",
      "\u001b[36m(RayTrainWorker pid=14629)\u001b[0m \n",
      "Validation DataLoader 0:  33%|███▎      | 2/6 [00:00<00:01,  3.83it/s]\u001b[A\n",
      "\u001b[36m(RayTrainWorker pid=14629)\u001b[0m \n",
      "Validation DataLoader 0:  50%|█████     | 3/6 [00:00<00:00,  3.74it/s]\u001b[A\n",
      "\u001b[36m(RayTrainWorker pid=14629)\u001b[0m \n",
      "Validation DataLoader 0:  67%|██████▋   | 4/6 [00:01<00:00,  3.70it/s]\u001b[A\n",
      "\u001b[36m(RayTrainWorker pid=14629)\u001b[0m \n",
      "Validation DataLoader 0:  83%|████████▎ | 5/6 [00:01<00:00,  3.62it/s]\u001b[A\n",
      "\u001b[36m(RayTrainWorker pid=14629)\u001b[0m \n",
      "Validation DataLoader 0: 100%|██████████| 6/6 [00:01<00:00,  3.81it/s]\u001b[A\n",
      "Epoch 11: 100%|██████████| 29/29 [00:09<00:00,  2.91it/s, v_num=3.41e+7, train_loss_step=0.149, val_loss=0.257, train_loss_epoch=0.262]\n",
      "Epoch 11: 100%|██████████| 29/29 [00:10<00:00,  2.85it/s, v_num=3.41e+7, train_loss_step=0.149, val_loss=0.257, train_loss_epoch=0.233]\n"
     ]
    },
    {
     "name": "stderr",
     "output_type": "stream",
     "text": [
      "\u001b[36m(RayTrainWorker pid=14629)\u001b[0m Checkpoint successfully created at: Checkpoint(filesystem=local, path=/ictstr01/home/aih/serra.korkmaz/projects/saturn/hopt/hpopt_jak2_zinc/ray_results/TorchTrainer_2025-03-11_21-39-30/37f3fa18/checkpoint_000011)\n"
     ]
    },
    {
     "name": "stdout",
     "output_type": "stream",
     "text": [
      "Epoch 12:   0%|          | 0/29 [00:00<?, ?it/s, v_num=3.41e+7, train_loss_step=0.149, val_loss=0.257, train_loss_epoch=0.233]         \n",
      "\u001b[36m(RayTrainWorker pid=14395)\u001b[0m \n",
      "\u001b[36m(RayTrainWorker pid=14395)\u001b[0m \n",
      "\u001b[36m(RayTrainWorker pid=14395)\u001b[0m \n",
      "\u001b[36m(RayTrainWorker pid=14395)\u001b[0m \n",
      "\u001b[36m(RayTrainWorker pid=14395)\u001b[0m \n"
     ]
    },
    {
     "name": "stderr",
     "output_type": "stream",
     "text": [
      "2025-03-11 21:42:36,656\tWARNING experiment_state.py:206 -- Experiment state snapshotting has been triggered multiple times in the last 5.0 seconds and may become a bottleneck. A snapshot is forced if `CheckpointConfig(num_to_keep)` is set, and a trial has checkpointed >= `num_to_keep` times since the last snapshot.\n",
      "You may want to consider increasing the `CheckpointConfig(num_to_keep)` or decreasing the frequency of saving checkpoints.\n",
      "You can suppress this warning by setting the environment variable TUNE_WARN_EXCESSIVE_EXPERIMENT_CHECKPOINT_SYNC_THRESHOLD_S to a smaller value than the current threshold (5.0). Set it to 0 to completely suppress this warning.\n"
     ]
    },
    {
     "name": "stdout",
     "output_type": "stream",
     "text": [
      "\u001b[36m(RayTrainWorker pid=14395)\u001b[0m \n",
      "Epoch 12:  24%|██▍       | 7/29 [00:02<00:07,  2.89it/s, v_num=3.41e+7, train_loss_step=0.252, val_loss=0.257, train_loss_epoch=0.233]\u001b[32m [repeated 13x across cluster]\u001b[0m\n"
     ]
    },
    {
     "name": "stderr",
     "output_type": "stream",
     "text": [
      "\u001b[36m(RayTrainWorker pid=14395)\u001b[0m Checkpoint successfully created at: Checkpoint(filesystem=local, path=/ictstr01/home/aih/serra.korkmaz/projects/saturn/hopt/hpopt_jak2_zinc/ray_results/TorchTrainer_2025-03-11_21-39-30/2a5d7132/checkpoint_000010)\n"
     ]
    },
    {
     "name": "stdout",
     "output_type": "stream",
     "text": [
      "Epoch 10: 100%|██████████| 29/29 [00:09<00:00,  2.95it/s, v_num=3.41e+7, train_loss_step=0.228, val_loss=0.267, train_loss_epoch=0.264]\u001b[32m [repeated 3x across cluster]\u001b[0m\n",
      "Validation: |          | 0/? [00:00<?, ?it/s]\u001b[A\n",
      "Validation:   0%|          | 0/6 [00:00<?, ?it/s]\u001b[A\n",
      "Validation DataLoader 0:   0%|          | 0/6 [00:00<?, ?it/s]\u001b[A\n",
      "Validation DataLoader 0:  83%|████████▎ | 5/6 [00:01<00:00,  3.04it/s]\u001b[A\u001b[32m [repeated 5x across cluster]\u001b[0m\n",
      "Validation DataLoader 0: 100%|██████████| 6/6 [00:01<00:00,  3.22it/s]\u001b[A\n",
      "Epoch 10: 100%|██████████| 29/29 [00:11<00:00,  2.47it/s, v_num=3.41e+7, train_loss_step=0.228, val_loss=0.310, train_loss_epoch=0.264]\n",
      "Epoch 10: 100%|██████████| 29/29 [00:11<00:00,  2.42it/s, v_num=3.41e+7, train_loss_step=0.228, val_loss=0.310, train_loss_epoch=0.269]\n",
      "Epoch 11:   0%|          | 0/29 [00:00<?, ?it/s, v_num=3.41e+7, train_loss_step=0.228, val_loss=0.310, train_loss_epoch=0.269]         \n",
      "Epoch 11:  38%|███▊      | 11/29 [00:04<00:07,  2.35it/s, v_num=3.41e+7, train_loss_step=0.185, val_loss=0.310, train_loss_epoch=0.269]\u001b[32m [repeated 24x across cluster]\u001b[0m\n",
      "Epoch 12:  93%|█████████▎| 27/29 [00:09<00:00,  2.92it/s, v_num=3.41e+7, train_loss_step=0.248, val_loss=0.257, train_loss_epoch=0.233]\n",
      "Epoch 12:  97%|█████████▋| 28/29 [00:09<00:00,  2.94it/s, v_num=3.41e+7, train_loss_step=0.269, val_loss=0.257, train_loss_epoch=0.233]\n",
      "Epoch 12: 100%|██████████| 29/29 [00:09<00:00,  3.01it/s, v_num=3.41e+7, train_loss_step=0.371, val_loss=0.257, train_loss_epoch=0.233]\n",
      "\u001b[36m(RayTrainWorker pid=14629)\u001b[0m \n",
      "Validation: |          | 0/? [00:00<?, ?it/s]\u001b[A\n",
      "\u001b[36m(RayTrainWorker pid=14629)\u001b[0m \n",
      "Validation:   0%|          | 0/6 [00:00<?, ?it/s]\u001b[A\n",
      "Validation DataLoader 0:   0%|          | 0/6 [00:00<?, ?it/s]\u001b[A\n",
      "\u001b[36m(RayTrainWorker pid=14629)\u001b[0m \n",
      "Validation DataLoader 0:  17%|█▋        | 1/6 [00:00<00:00,  6.51it/s]\u001b[A\n",
      "\u001b[36m(RayTrainWorker pid=14629)\u001b[0m \n",
      "Validation DataLoader 0:  33%|███▎      | 2/6 [00:00<00:00,  5.62it/s]\u001b[A\n",
      "\u001b[36m(RayTrainWorker pid=14629)\u001b[0m \n",
      "Validation DataLoader 0:  50%|█████     | 3/6 [00:00<00:00,  5.41it/s]\u001b[A\n",
      "\u001b[36m(RayTrainWorker pid=14629)\u001b[0m \n",
      "Validation DataLoader 0:  67%|██████▋   | 4/6 [00:00<00:00,  5.31it/s]\u001b[A\n",
      "\u001b[36m(RayTrainWorker pid=14629)\u001b[0m \n",
      "Validation DataLoader 0:  83%|████████▎ | 5/6 [00:00<00:00,  5.20it/s]\u001b[A\n",
      "\u001b[36m(RayTrainWorker pid=14629)\u001b[0m \n",
      "Validation DataLoader 0: 100%|██████████| 6/6 [00:01<00:00,  5.49it/s]\u001b[A\n",
      "Epoch 12: 100%|██████████| 29/29 [00:10<00:00,  2.69it/s, v_num=3.41e+7, train_loss_step=0.371, val_loss=0.215, train_loss_epoch=0.233]\n",
      "Epoch 12: 100%|██████████| 29/29 [00:10<00:00,  2.65it/s, v_num=3.41e+7, train_loss_step=0.371, val_loss=0.215, train_loss_epoch=0.222]\n",
      "Epoch 13:   0%|          | 0/29 [00:00<?, ?it/s, v_num=3.41e+7, train_loss_step=0.371, val_loss=0.215, train_loss_epoch=0.222]         \n"
     ]
    },
    {
     "name": "stderr",
     "output_type": "stream",
     "text": [
      "\u001b[36m(RayTrainWorker pid=14629)\u001b[0m Checkpoint successfully created at: Checkpoint(filesystem=local, path=/ictstr01/home/aih/serra.korkmaz/projects/saturn/hopt/hpopt_jak2_zinc/ray_results/TorchTrainer_2025-03-11_21-39-30/37f3fa18/checkpoint_000012)\n"
     ]
    },
    {
     "name": "stdout",
     "output_type": "stream",
     "text": [
      "Epoch 13:  21%|██        | 6/29 [00:01<00:06,  3.67it/s, v_num=3.41e+7, train_loss_step=0.173, val_loss=0.215, train_loss_epoch=0.222]\u001b[32m [repeated 27x across cluster]\u001b[0m\n",
      "\u001b[36m(RayTrainWorker pid=14395)\u001b[0m \n",
      "\u001b[36m(RayTrainWorker pid=14395)\u001b[0m \n",
      "\u001b[36m(RayTrainWorker pid=14395)\u001b[0m \n",
      "\u001b[36m(RayTrainWorker pid=14395)\u001b[0m \n",
      "\u001b[36m(RayTrainWorker pid=14395)\u001b[0m \n",
      "Epoch 11: 100%|██████████| 29/29 [00:10<00:00,  2.89it/s, v_num=3.41e+7, train_loss_step=0.161, val_loss=0.310, train_loss_epoch=0.269]\u001b[32m [repeated 3x across cluster]\u001b[0m\n",
      "\u001b[36m(RayTrainWorker pid=14395)\u001b[0m \n",
      "\u001b[36m(RayTrainWorker pid=14395)\u001b[0m \n",
      "Validation: |          | 0/? [00:00<?, ?it/s]\u001b[A\n",
      "Validation:   0%|          | 0/6 [00:00<?, ?it/s]\u001b[A\n",
      "Validation DataLoader 0:   0%|          | 0/6 [00:00<?, ?it/s]\u001b[A\n",
      "\u001b[36m(RayTrainWorker pid=14395)\u001b[0m \n"
     ]
    },
    {
     "name": "stderr",
     "output_type": "stream",
     "text": [
      "\u001b[36m(RayTrainWorker pid=14395)\u001b[0m Checkpoint successfully created at: Checkpoint(filesystem=local, path=/ictstr01/home/aih/serra.korkmaz/projects/saturn/hopt/hpopt_jak2_zinc/ray_results/TorchTrainer_2025-03-11_21-39-30/2a5d7132/checkpoint_000011)\n",
      "2025-03-11 21:42:48,934\tWARNING experiment_state.py:206 -- Experiment state snapshotting has been triggered multiple times in the last 5.0 seconds and may become a bottleneck. A snapshot is forced if `CheckpointConfig(num_to_keep)` is set, and a trial has checkpointed >= `num_to_keep` times since the last snapshot.\n",
      "You may want to consider increasing the `CheckpointConfig(num_to_keep)` or decreasing the frequency of saving checkpoints.\n",
      "You can suppress this warning by setting the environment variable TUNE_WARN_EXCESSIVE_EXPERIMENT_CHECKPOINT_SYNC_THRESHOLD_S to a smaller value than the current threshold (5.0). Set it to 0 to completely suppress this warning.\n"
     ]
    },
    {
     "name": "stdout",
     "output_type": "stream",
     "text": [
      "Validation DataLoader 0:  83%|████████▎ | 5/6 [00:01<00:00,  3.16it/s]\u001b[A\u001b[32m [repeated 5x across cluster]\u001b[0m\n",
      "Validation DataLoader 0: 100%|██████████| 6/6 [00:01<00:00,  3.32it/s]\u001b[A\n",
      "Epoch 11: 100%|██████████| 29/29 [00:11<00:00,  2.44it/s, v_num=3.41e+7, train_loss_step=0.161, val_loss=0.246, train_loss_epoch=0.269]\n",
      "Epoch 11: 100%|██████████| 29/29 [00:12<00:00,  2.40it/s, v_num=3.41e+7, train_loss_step=0.161, val_loss=0.246, train_loss_epoch=0.252]\n",
      "Epoch 12:   0%|          | 0/29 [00:00<?, ?it/s, v_num=3.41e+7, train_loss_step=0.161, val_loss=0.246, train_loss_epoch=0.252]         \n",
      "Epoch 13:  69%|██████▉   | 20/29 [00:06<00:02,  3.01it/s, v_num=3.41e+7, train_loss_step=0.176, val_loss=0.215, train_loss_epoch=0.222]\u001b[32m [repeated 19x across cluster]\u001b[0m\n",
      "Epoch 13:  93%|█████████▎| 27/29 [00:09<00:00,  2.90it/s, v_num=3.41e+7, train_loss_step=0.229, val_loss=0.215, train_loss_epoch=0.222]\n",
      "Epoch 13:  97%|█████████▋| 28/29 [00:09<00:00,  2.90it/s, v_num=3.41e+7, train_loss_step=0.114, val_loss=0.215, train_loss_epoch=0.222]\n",
      "Epoch 13: 100%|██████████| 29/29 [00:09<00:00,  2.97it/s, v_num=3.41e+7, train_loss_step=0.135, val_loss=0.215, train_loss_epoch=0.222]\n",
      "Validation: |          | 0/? [00:00<?, ?it/s]\u001b[A\n",
      "\u001b[36m(RayTrainWorker pid=14629)\u001b[0m \n",
      "Validation:   0%|          | 0/6 [00:00<?, ?it/s]\u001b[A\n",
      "Validation DataLoader 0:   0%|          | 0/6 [00:00<?, ?it/s]\u001b[A\n",
      "\u001b[36m(RayTrainWorker pid=14629)\u001b[0m \n",
      "Validation DataLoader 0:  17%|█▋        | 1/6 [00:00<00:01,  4.53it/s]\u001b[A\n",
      "\u001b[36m(RayTrainWorker pid=14629)\u001b[0m \n",
      "Validation DataLoader 0:  33%|███▎      | 2/6 [00:00<00:01,  3.93it/s]\u001b[A\n",
      "\u001b[36m(RayTrainWorker pid=14629)\u001b[0m \n",
      "Validation DataLoader 0:  50%|█████     | 3/6 [00:00<00:00,  3.81it/s]\u001b[A\n",
      "\u001b[36m(RayTrainWorker pid=14629)\u001b[0m \n",
      "Validation DataLoader 0:  67%|██████▋   | 4/6 [00:01<00:00,  3.77it/s]\u001b[A\n",
      "\u001b[36m(RayTrainWorker pid=14629)\u001b[0m \n",
      "Validation DataLoader 0:  83%|████████▎ | 5/6 [00:01<00:00,  3.68it/s]\u001b[A\n",
      "\u001b[36m(RayTrainWorker pid=14629)\u001b[0m \n",
      "Validation DataLoader 0: 100%|██████████| 6/6 [00:01<00:00,  3.86it/s]\u001b[A\n",
      "Epoch 13: 100%|██████████| 29/29 [00:11<00:00,  2.55it/s, v_num=3.41e+7, train_loss_step=0.135, val_loss=0.232, train_loss_epoch=0.222]\n",
      "Epoch 13: 100%|██████████| 29/29 [00:11<00:00,  2.50it/s, v_num=3.41e+7, train_loss_step=0.135, val_loss=0.232, train_loss_epoch=0.206]\n",
      "Epoch 14:   0%|          | 0/29 [00:00<?, ?it/s, v_num=3.41e+7, train_loss_step=0.135, val_loss=0.232, train_loss_epoch=0.206]         \n",
      "Epoch 12:  59%|█████▊    | 17/29 [00:07<00:05,  2.27it/s, v_num=3.41e+7, train_loss_step=0.226, val_loss=0.246, train_loss_epoch=0.252]\u001b[32m [repeated 18x across cluster]\u001b[0m\n"
     ]
    },
    {
     "name": "stderr",
     "output_type": "stream",
     "text": [
      "\u001b[36m(RayTrainWorker pid=14629)\u001b[0m Checkpoint successfully created at: Checkpoint(filesystem=local, path=/ictstr01/home/aih/serra.korkmaz/projects/saturn/hopt/hpopt_jak2_zinc/ray_results/TorchTrainer_2025-03-11_21-39-30/37f3fa18/checkpoint_000013)\n"
     ]
    },
    {
     "name": "stdout",
     "output_type": "stream",
     "text": [
      "Epoch 12:  93%|█████████▎| 27/29 [00:11<00:00,  2.40it/s, v_num=3.41e+7, train_loss_step=0.264, val_loss=0.246, train_loss_epoch=0.252]\n",
      "Epoch 12:  97%|█████████▋| 28/29 [00:11<00:00,  2.40it/s, v_num=3.41e+7, train_loss_step=0.304, val_loss=0.246, train_loss_epoch=0.252]\n",
      "Epoch 12: 100%|██████████| 29/29 [00:11<00:00,  2.47it/s, v_num=3.41e+7, train_loss_step=0.405, val_loss=0.246, train_loss_epoch=0.252]\n",
      "Validation: |          | 0/? [00:00<?, ?it/s]\u001b[A\n",
      "Validation:   0%|          | 0/6 [00:00<?, ?it/s]\u001b[A\n",
      "Validation DataLoader 0:   0%|          | 0/6 [00:00<?, ?it/s]\u001b[A\n",
      "\u001b[36m(RayTrainWorker pid=14395)\u001b[0m \n",
      "Validation DataLoader 0:  17%|█▋        | 1/6 [00:00<00:01,  3.47it/s]\u001b[A\n",
      "\u001b[36m(RayTrainWorker pid=14395)\u001b[0m \n",
      "Validation DataLoader 0:  33%|███▎      | 2/6 [00:00<00:01,  3.13it/s]\u001b[A\n",
      "Epoch 14:  52%|█████▏    | 15/29 [00:05<00:04,  2.93it/s, v_num=3.41e+7, train_loss_step=0.246, val_loss=0.232, train_loss_epoch=0.206]\u001b[32m [repeated 24x across cluster]\u001b[0m\n",
      "\u001b[36m(RayTrainWorker pid=14395)\u001b[0m \n",
      "Validation DataLoader 0:  50%|█████     | 3/6 [00:00<00:00,  3.10it/s]\u001b[A\n",
      "\u001b[36m(RayTrainWorker pid=14395)\u001b[0m \n",
      "Validation DataLoader 0:  67%|██████▋   | 4/6 [00:01<00:00,  3.09it/s]\u001b[A\n",
      "\u001b[36m(RayTrainWorker pid=14395)\u001b[0m \n",
      "Validation DataLoader 0:  83%|████████▎ | 5/6 [00:01<00:00,  3.04it/s]\u001b[A\n",
      "\u001b[36m(RayTrainWorker pid=14395)\u001b[0m \n",
      "Validation DataLoader 0: 100%|██████████| 6/6 [00:01<00:00,  3.22it/s]\u001b[A\n",
      "Epoch 12: 100%|██████████| 29/29 [00:13<00:00,  2.12it/s, v_num=3.41e+7, train_loss_step=0.405, val_loss=0.229, train_loss_epoch=0.252]\n",
      "Epoch 12: 100%|██████████| 29/29 [00:13<00:00,  2.09it/s, v_num=3.41e+7, train_loss_step=0.405, val_loss=0.229, train_loss_epoch=0.235]\n",
      "Epoch 13:   0%|          | 0/29 [00:00<?, ?it/s, v_num=3.41e+7, train_loss_step=0.405, val_loss=0.229, train_loss_epoch=0.235]         \n"
     ]
    },
    {
     "name": "stderr",
     "output_type": "stream",
     "text": [
      "\u001b[36m(RayTrainWorker pid=14395)\u001b[0m Checkpoint successfully created at: Checkpoint(filesystem=local, path=/ictstr01/home/aih/serra.korkmaz/projects/saturn/hopt/hpopt_jak2_zinc/ray_results/TorchTrainer_2025-03-11_21-39-30/2a5d7132/checkpoint_000012)\n"
     ]
    },
    {
     "name": "stdout",
     "output_type": "stream",
     "text": [
      "Epoch 14:  93%|█████████▎| 27/29 [00:08<00:00,  3.12it/s, v_num=3.41e+7, train_loss_step=0.109, val_loss=0.232, train_loss_epoch=0.206]\n",
      "Epoch 14:  97%|█████████▋| 28/29 [00:08<00:00,  3.14it/s, v_num=3.41e+7, train_loss_step=0.174, val_loss=0.232, train_loss_epoch=0.206]\n",
      "Epoch 14: 100%|██████████| 29/29 [00:09<00:00,  3.22it/s, v_num=3.41e+7, train_loss_step=0.196, val_loss=0.232, train_loss_epoch=0.206]\n",
      "Validation: |          | 0/? [00:00<?, ?it/s]\u001b[A\n",
      "Validation:   0%|          | 0/6 [00:00<?, ?it/s]\u001b[A\n",
      "Validation DataLoader 0:   0%|          | 0/6 [00:00<?, ?it/s]\u001b[A\n",
      "\u001b[36m(RayTrainWorker pid=14629)\u001b[0m \n",
      "\u001b[36m(RayTrainWorker pid=14629)\u001b[0m \n",
      "Validation DataLoader 0:  33%|███▎      | 2/6 [00:00<00:01,  3.75it/s]\u001b[A\u001b[32m [repeated 2x across cluster]\u001b[0m\n",
      "\u001b[36m(RayTrainWorker pid=14629)\u001b[0m \n",
      "Epoch 13:  38%|███▊      | 11/29 [00:03<00:06,  2.92it/s, v_num=3.41e+7, train_loss_step=0.288, val_loss=0.229, train_loss_epoch=0.235]\u001b[32m [repeated 22x across cluster]\u001b[0m\n",
      "\u001b[36m(RayTrainWorker pid=14629)\u001b[0m \n",
      "\u001b[36m(RayTrainWorker pid=14629)\u001b[0m \n"
     ]
    },
    {
     "name": "stderr",
     "output_type": "stream",
     "text": [
      "2025-03-11 21:43:07,513\tWARNING experiment_state.py:206 -- Experiment state snapshotting has been triggered multiple times in the last 5.0 seconds and may become a bottleneck. A snapshot is forced if `CheckpointConfig(num_to_keep)` is set, and a trial has checkpointed >= `num_to_keep` times since the last snapshot.\n",
      "You may want to consider increasing the `CheckpointConfig(num_to_keep)` or decreasing the frequency of saving checkpoints.\n",
      "You can suppress this warning by setting the environment variable TUNE_WARN_EXCESSIVE_EXPERIMENT_CHECKPOINT_SYNC_THRESHOLD_S to a smaller value than the current threshold (5.0). Set it to 0 to completely suppress this warning.\n"
     ]
    },
    {
     "name": "stdout",
     "output_type": "stream",
     "text": [
      "\u001b[36m(RayTrainWorker pid=14629)\u001b[0m \n",
      "Validation DataLoader 0: 100%|██████████| 6/6 [00:01<00:00,  3.81it/s]\u001b[A\n",
      "Epoch 14: 100%|██████████| 29/29 [00:10<00:00,  2.73it/s, v_num=3.41e+7, train_loss_step=0.196, val_loss=0.188, train_loss_epoch=0.206]\n",
      "Epoch 14: 100%|██████████| 29/29 [00:10<00:00,  2.68it/s, v_num=3.41e+7, train_loss_step=0.196, val_loss=0.188, train_loss_epoch=0.204]\n",
      "Epoch 15:   0%|          | 0/29 [00:00<?, ?it/s, v_num=3.41e+7, train_loss_step=0.196, val_loss=0.188, train_loss_epoch=0.204]         \n",
      "Validation DataLoader 0:  83%|████████▎ | 5/6 [00:01<00:00,  3.58it/s]\u001b[A\u001b[32m [repeated 3x across cluster]\u001b[0m\n",
      "Epoch 15:  38%|███▊      | 11/29 [00:04<00:06,  2.58it/s, v_num=3.41e+7, train_loss_step=0.204, val_loss=0.188, train_loss_epoch=0.204]\u001b[32m [repeated 22x across cluster]\u001b[0m\n",
      "Epoch 13:  93%|█████████▎| 27/29 [00:10<00:00,  2.53it/s, v_num=3.41e+7, train_loss_step=0.262, val_loss=0.229, train_loss_epoch=0.235]\n",
      "Epoch 13:  97%|█████████▋| 28/29 [00:11<00:00,  2.52it/s, v_num=3.41e+7, train_loss_step=0.138, val_loss=0.229, train_loss_epoch=0.235]\n",
      "Epoch 13: 100%|██████████| 29/29 [00:11<00:00,  2.59it/s, v_num=3.41e+7, train_loss_step=0.109, val_loss=0.229, train_loss_epoch=0.235]\n",
      "Validation: |          | 0/? [00:00<?, ?it/s]\u001b[A\n",
      "\u001b[36m(RayTrainWorker pid=14395)\u001b[0m \n",
      "Validation:   0%|          | 0/6 [00:00<?, ?it/s]\u001b[A\n",
      "Validation DataLoader 0:   0%|          | 0/6 [00:00<?, ?it/s]\u001b[A\n",
      "\u001b[36m(RayTrainWorker pid=14395)\u001b[0m \n",
      "\u001b[36m(RayTrainWorker pid=14395)\u001b[0m \n",
      "\u001b[36m(RayTrainWorker pid=14395)\u001b[0m \n",
      "\u001b[36m(RayTrainWorker pid=14395)\u001b[0m \n",
      "\u001b[36m(RayTrainWorker pid=14395)\u001b[0m \n",
      "\u001b[36m(RayTrainWorker pid=14395)\u001b[0m \n",
      "Validation DataLoader 0: 100%|██████████| 6/6 [00:01<00:00,  3.21it/s]\u001b[A\n",
      "Epoch 13: 100%|██████████| 29/29 [00:13<00:00,  2.21it/s, v_num=3.41e+7, train_loss_step=0.109, val_loss=0.243, train_loss_epoch=0.235]\n",
      "Epoch 13: 100%|██████████| 29/29 [00:13<00:00,  2.17it/s, v_num=3.41e+7, train_loss_step=0.109, val_loss=0.243, train_loss_epoch=0.224]\n",
      "Epoch 14:   0%|          | 0/29 [00:00<?, ?it/s, v_num=3.41e+7, train_loss_step=0.109, val_loss=0.243, train_loss_epoch=0.224]         \n"
     ]
    },
    {
     "name": "stderr",
     "output_type": "stream",
     "text": [
      "\u001b[36m(RayTrainWorker pid=14395)\u001b[0m Checkpoint successfully created at: Checkpoint(filesystem=local, path=/ictstr01/home/aih/serra.korkmaz/projects/saturn/hopt/hpopt_jak2_zinc/ray_results/TorchTrainer_2025-03-11_21-39-30/2a5d7132/checkpoint_000013)\u001b[32m [repeated 2x across cluster]\u001b[0m\n"
     ]
    },
    {
     "name": "stdout",
     "output_type": "stream",
     "text": [
      "Validation DataLoader 0:  83%|████████▎ | 5/6 [00:01<00:00,  3.05it/s]\u001b[A\u001b[32m [repeated 5x across cluster]\u001b[0m\n",
      "Epoch 14:   7%|▋         | 2/29 [00:00<00:08,  3.12it/s, v_num=3.41e+7, train_loss_step=0.240, val_loss=0.243, train_loss_epoch=0.224]\u001b[32m [repeated 20x across cluster]\u001b[0m\n",
      "\u001b[36m(RayTrainWorker pid=14629)\u001b[0m \n",
      "\u001b[36m(RayTrainWorker pid=14629)\u001b[0m \n",
      "\u001b[36m(RayTrainWorker pid=14629)\u001b[0m \n",
      "\u001b[36m(RayTrainWorker pid=14629)\u001b[0m \n",
      "Epoch 15: 100%|██████████| 29/29 [00:10<00:00,  2.83it/s, v_num=3.41e+7, train_loss_step=0.110, val_loss=0.188, train_loss_epoch=0.204]\u001b[32m [repeated 3x across cluster]\u001b[0m\n",
      "\u001b[36m(RayTrainWorker pid=14629)\u001b[0m \n",
      "Validation: |          | 0/? [00:00<?, ?it/s]\u001b[A\n",
      "Validation:   0%|          | 0/6 [00:00<?, ?it/s]\u001b[A\n",
      "Validation DataLoader 0:   0%|          | 0/6 [00:00<?, ?it/s]\u001b[A\n",
      "\u001b[36m(RayTrainWorker pid=14629)\u001b[0m \n",
      "\u001b[36m(RayTrainWorker pid=14629)\u001b[0m \n"
     ]
    },
    {
     "name": "stderr",
     "output_type": "stream",
     "text": [
      "2025-03-11 21:43:19,646\tWARNING experiment_state.py:206 -- Experiment state snapshotting has been triggered multiple times in the last 5.0 seconds and may become a bottleneck. A snapshot is forced if `CheckpointConfig(num_to_keep)` is set, and a trial has checkpointed >= `num_to_keep` times since the last snapshot.\n",
      "You may want to consider increasing the `CheckpointConfig(num_to_keep)` or decreasing the frequency of saving checkpoints.\n",
      "You can suppress this warning by setting the environment variable TUNE_WARN_EXCESSIVE_EXPERIMENT_CHECKPOINT_SYNC_THRESHOLD_S to a smaller value than the current threshold (5.0). Set it to 0 to completely suppress this warning.\n"
     ]
    },
    {
     "name": "stdout",
     "output_type": "stream",
     "text": [
      "Validation DataLoader 0: 100%|██████████| 6/6 [00:01<00:00,  3.97it/s]\u001b[A\n",
      "Epoch 15: 100%|██████████| 29/29 [00:11<00:00,  2.45it/s, v_num=3.41e+7, train_loss_step=0.110, val_loss=0.164, train_loss_epoch=0.204]\n",
      "Epoch 15: 100%|██████████| 29/29 [00:12<00:00,  2.41it/s, v_num=3.41e+7, train_loss_step=0.110, val_loss=0.164, train_loss_epoch=0.195]\n",
      "Epoch 16:   0%|          | 0/29 [00:00<?, ?it/s, v_num=3.41e+7, train_loss_step=0.110, val_loss=0.164, train_loss_epoch=0.195]         \n",
      "Validation DataLoader 0:  83%|████████▎ | 5/6 [00:01<00:00,  3.65it/s]\u001b[A\u001b[32m [repeated 5x across cluster]\u001b[0m\n",
      "Epoch 14:  55%|█████▌    | 16/29 [00:05<00:04,  2.80it/s, v_num=3.41e+7, train_loss_step=0.232, val_loss=0.243, train_loss_epoch=0.224]\u001b[32m [repeated 23x across cluster]\u001b[0m\n",
      "Epoch 14:  93%|█████████▎| 27/29 [00:09<00:00,  2.77it/s, v_num=3.41e+7, train_loss_step=0.109, val_loss=0.243, train_loss_epoch=0.224]\n",
      "Epoch 14:  97%|█████████▋| 28/29 [00:10<00:00,  2.75it/s, v_num=3.41e+7, train_loss_step=0.173, val_loss=0.243, train_loss_epoch=0.224]\n",
      "Epoch 14: 100%|██████████| 29/29 [00:10<00:00,  2.81it/s, v_num=3.41e+7, train_loss_step=0.243, val_loss=0.243, train_loss_epoch=0.224]\n",
      "Validation: |          | 0/? [00:00<?, ?it/s]\u001b[A\n",
      "Validation:   0%|          | 0/6 [00:00<?, ?it/s]\u001b[A\n",
      "Validation DataLoader 0:   0%|          | 0/6 [00:00<?, ?it/s]\u001b[A\n",
      "\u001b[36m(RayTrainWorker pid=14395)\u001b[0m \n",
      "Validation DataLoader 0:  17%|█▋        | 1/6 [00:00<00:01,  3.55it/s]\u001b[A\n",
      "Epoch 16:  83%|████████▎ | 24/29 [00:07<00:01,  3.18it/s, v_num=3.41e+7, train_loss_step=0.118, val_loss=0.164, train_loss_epoch=0.195]\u001b[32m [repeated 26x across cluster]\u001b[0m\n",
      "\u001b[36m(RayTrainWorker pid=14395)\u001b[0m \n",
      "Validation DataLoader 0:  33%|███▎      | 2/6 [00:00<00:01,  3.20it/s]\u001b[A\n",
      "\u001b[36m(RayTrainWorker pid=14395)\u001b[0m \n",
      "Validation DataLoader 0:  50%|█████     | 3/6 [00:00<00:00,  3.13it/s]\u001b[A\n",
      "\u001b[36m(RayTrainWorker pid=14395)\u001b[0m \n",
      "Validation DataLoader 0:  67%|██████▋   | 4/6 [00:01<00:00,  3.09it/s]\u001b[A\n",
      "\u001b[36m(RayTrainWorker pid=14395)\u001b[0m \n",
      "Validation DataLoader 0:  83%|████████▎ | 5/6 [00:01<00:00,  3.03it/s]\u001b[A\n",
      "\u001b[36m(RayTrainWorker pid=14395)\u001b[0m \n",
      "Validation DataLoader 0: 100%|██████████| 6/6 [00:01<00:00,  3.20it/s]\u001b[A\n",
      "Epoch 14: 100%|██████████| 29/29 [00:12<00:00,  2.37it/s, v_num=3.41e+7, train_loss_step=0.243, val_loss=0.192, train_loss_epoch=0.224]\n",
      "Epoch 14: 100%|██████████| 29/29 [00:12<00:00,  2.33it/s, v_num=3.41e+7, train_loss_step=0.243, val_loss=0.192, train_loss_epoch=0.220]\n",
      "Epoch 15:   0%|          | 0/29 [00:00<?, ?it/s, v_num=3.41e+7, train_loss_step=0.243, val_loss=0.192, train_loss_epoch=0.220]         \n"
     ]
    },
    {
     "name": "stderr",
     "output_type": "stream",
     "text": [
      "\u001b[36m(RayTrainWorker pid=14395)\u001b[0m Checkpoint successfully created at: Checkpoint(filesystem=local, path=/ictstr01/home/aih/serra.korkmaz/projects/saturn/hopt/hpopt_jak2_zinc/ray_results/TorchTrainer_2025-03-11_21-39-30/2a5d7132/checkpoint_000014)\u001b[32m [repeated 2x across cluster]\u001b[0m\n"
     ]
    },
    {
     "name": "stdout",
     "output_type": "stream",
     "text": [
      "\u001b[36m(RayTrainWorker pid=14629)\u001b[0m \n",
      "\u001b[36m(RayTrainWorker pid=14629)\u001b[0m \n",
      "\u001b[36m(RayTrainWorker pid=14629)\u001b[0m \n",
      "\u001b[36m(RayTrainWorker pid=14629)\u001b[0m \n",
      "\u001b[36m(RayTrainWorker pid=14629)\u001b[0m \n",
      "\u001b[36m(RayTrainWorker pid=14629)\u001b[0m \n"
     ]
    },
    {
     "name": "stderr",
     "output_type": "stream",
     "text": [
      "2025-03-11 21:43:30,263\tWARNING experiment_state.py:206 -- Experiment state snapshotting has been triggered multiple times in the last 5.0 seconds and may become a bottleneck. A snapshot is forced if `CheckpointConfig(num_to_keep)` is set, and a trial has checkpointed >= `num_to_keep` times since the last snapshot.\n",
      "You may want to consider increasing the `CheckpointConfig(num_to_keep)` or decreasing the frequency of saving checkpoints.\n",
      "You can suppress this warning by setting the environment variable TUNE_WARN_EXCESSIVE_EXPERIMENT_CHECKPOINT_SYNC_THRESHOLD_S to a smaller value than the current threshold (5.0). Set it to 0 to completely suppress this warning.\n"
     ]
    },
    {
     "name": "stdout",
     "output_type": "stream",
     "text": [
      "Epoch 16: 100%|██████████| 29/29 [00:09<00:00,  3.16it/s, v_num=3.41e+7, train_loss_step=0.445, val_loss=0.164, train_loss_epoch=0.195]\u001b[32m [repeated 3x across cluster]\u001b[0m\n",
      "Validation: |          | 0/? [00:00<?, ?it/s]\u001b[A\n",
      "Validation:   0%|          | 0/6 [00:00<?, ?it/s]\u001b[A\n",
      "Validation DataLoader 0:   0%|          | 0/6 [00:00<?, ?it/s]\u001b[A\n",
      "Validation DataLoader 0:  83%|████████▎ | 5/6 [00:00<00:00,  5.21it/s]\u001b[A\u001b[32m [repeated 5x across cluster]\u001b[0m\n",
      "Epoch 15:  31%|███       | 9/29 [00:03<00:07,  2.60it/s, v_num=3.41e+7, train_loss_step=0.154, val_loss=0.192, train_loss_epoch=0.220]\u001b[32m [repeated 16x across cluster]\u001b[0m\n",
      "Validation DataLoader 0: 100%|██████████| 6/6 [00:01<00:00,  5.47it/s]\u001b[A\n",
      "Epoch 16: 100%|██████████| 29/29 [00:10<00:00,  2.81it/s, v_num=3.41e+7, train_loss_step=0.445, val_loss=0.215, train_loss_epoch=0.195]\n",
      "Epoch 16: 100%|██████████| 29/29 [00:10<00:00,  2.76it/s, v_num=3.41e+7, train_loss_step=0.445, val_loss=0.215, train_loss_epoch=0.180]\n",
      "Epoch 17:   0%|          | 0/29 [00:00<?, ?it/s, v_num=3.41e+7, train_loss_step=0.445, val_loss=0.215, train_loss_epoch=0.180]         \n",
      "Epoch 17:  72%|███████▏  | 21/29 [00:07<00:02,  2.90it/s, v_num=3.41e+7, train_loss_step=0.227, val_loss=0.215, train_loss_epoch=0.180]\u001b[32m [repeated 28x across cluster]\u001b[0m\n",
      "Epoch 15:  93%|█████████▎| 27/29 [00:10<00:00,  2.50it/s, v_num=3.41e+7, train_loss_step=0.161, val_loss=0.192, train_loss_epoch=0.220]\n",
      "Epoch 17: 100%|██████████| 29/29 [00:10<00:00,  2.89it/s, v_num=3.41e+7, train_loss_step=0.106, val_loss=0.215, train_loss_epoch=0.180]\n",
      "Validation: |          | 0/? [00:00<?, ?it/s]\u001b[A\n",
      "Validation:   0%|          | 0/6 [00:00<?, ?it/s]\u001b[A\n",
      "Validation DataLoader 0:   0%|          | 0/6 [00:00<?, ?it/s]\u001b[A\n",
      "Validation DataLoader 0:  17%|█▋        | 1/6 [00:00<00:01,  4.55it/s]\u001b[A\n",
      "Validation DataLoader 0:  33%|███▎      | 2/6 [00:00<00:01,  3.95it/s]\u001b[A\n",
      "\u001b[36m(RayTrainWorker pid=14629)\u001b[0m \n",
      "\u001b[36m(RayTrainWorker pid=14395)\u001b[0m \n",
      "\u001b[36m(RayTrainWorker pid=14629)\u001b[0m \n",
      "\u001b[36m(RayTrainWorker pid=14395)\u001b[0m \n",
      "\u001b[36m(RayTrainWorker pid=14629)\u001b[0m \n",
      "\u001b[36m(RayTrainWorker pid=14629)\u001b[0m \n",
      "Validation DataLoader 0: 100%|██████████| 6/6 [00:01<00:00,  3.92it/s]\u001b[A\n",
      "Epoch 17: 100%|██████████| 29/29 [00:11<00:00,  2.49it/s, v_num=3.41e+7, train_loss_step=0.106, val_loss=0.208, train_loss_epoch=0.180]\n",
      "\u001b[36m(RayTrainWorker pid=14395)\u001b[0m \n"
     ]
    },
    {
     "name": "stderr",
     "output_type": "stream",
     "text": [
      "2025-03-11 21:43:42,245\tWARNING experiment_state.py:206 -- Experiment state snapshotting has been triggered multiple times in the last 5.0 seconds and may become a bottleneck. A snapshot is forced if `CheckpointConfig(num_to_keep)` is set, and a trial has checkpointed >= `num_to_keep` times since the last snapshot.\n",
      "You may want to consider increasing the `CheckpointConfig(num_to_keep)` or decreasing the frequency of saving checkpoints.\n",
      "You can suppress this warning by setting the environment variable TUNE_WARN_EXCESSIVE_EXPERIMENT_CHECKPOINT_SYNC_THRESHOLD_S to a smaller value than the current threshold (5.0). Set it to 0 to completely suppress this warning.\n",
      "\u001b[36m(RayTrainWorker pid=14629)\u001b[0m Checkpoint successfully created at: Checkpoint(filesystem=local, path=/ictstr01/home/aih/serra.korkmaz/projects/saturn/hopt/hpopt_jak2_zinc/ray_results/TorchTrainer_2025-03-11_21-39-30/37f3fa18/checkpoint_000017)\u001b[32m [repeated 2x across cluster]\u001b[0m\n"
     ]
    },
    {
     "name": "stdout",
     "output_type": "stream",
     "text": [
      "Epoch 17: 100%|██████████| 29/29 [00:11<00:00,  2.45it/s, v_num=3.41e+7, train_loss_step=0.106, val_loss=0.208, train_loss_epoch=0.174]\n",
      "\u001b[36m(RayTrainWorker pid=14395)\u001b[0m \n",
      "\u001b[36m(RayTrainWorker pid=14395)\u001b[0m \n",
      "Epoch 18:   0%|          | 0/29 [00:00<?, ?it/s, v_num=3.41e+7, train_loss_step=0.106, val_loss=0.208, train_loss_epoch=0.174]         \n"
     ]
    },
    {
     "name": "stderr",
     "output_type": "stream",
     "text": [
      "2025-03-11 21:43:42,487\tWARNING experiment_state.py:206 -- Experiment state snapshotting has been triggered multiple times in the last 5.0 seconds and may become a bottleneck. A snapshot is forced if `CheckpointConfig(num_to_keep)` is set, and a trial has checkpointed >= `num_to_keep` times since the last snapshot.\n",
      "You may want to consider increasing the `CheckpointConfig(num_to_keep)` or decreasing the frequency of saving checkpoints.\n",
      "You can suppress this warning by setting the environment variable TUNE_WARN_EXCESSIVE_EXPERIMENT_CHECKPOINT_SYNC_THRESHOLD_S to a smaller value than the current threshold (5.0). Set it to 0 to completely suppress this warning.\n"
     ]
    },
    {
     "name": "stdout",
     "output_type": "stream",
     "text": [
      "Epoch 17:  90%|████████▉ | 26/29 [00:09<00:01,  2.84it/s, v_num=3.41e+7, train_loss_step=0.179, val_loss=0.215, train_loss_epoch=0.180]\u001b[32m [repeated 10x across cluster]\u001b[0m\n",
      "Epoch 15: 100%|██████████| 29/29 [00:11<00:00,  2.55it/s, v_num=3.41e+7, train_loss_step=0.117, val_loss=0.192, train_loss_epoch=0.220]\u001b[32m [repeated 3x across cluster]\u001b[0m\n",
      "Validation: |          | 0/? [00:00<?, ?it/s]\u001b[A\n",
      "Validation:   0%|          | 0/6 [00:00<?, ?it/s]\u001b[A\n",
      "Validation DataLoader 0:   0%|          | 0/6 [00:00<?, ?it/s]\u001b[A\n",
      "Validation DataLoader 0:  83%|████████▎ | 5/6 [00:01<00:00,  3.17it/s]\u001b[A\u001b[32m [repeated 8x across cluster]\u001b[0m\n",
      "Validation DataLoader 0: 100%|██████████| 6/6 [00:01<00:00,  3.43it/s]\u001b[A\n",
      "Epoch 15: 100%|██████████| 29/29 [00:13<00:00,  2.20it/s, v_num=3.41e+7, train_loss_step=0.117, val_loss=0.207, train_loss_epoch=0.220]\n",
      "Epoch 15: 100%|██████████| 29/29 [00:13<00:00,  2.16it/s, v_num=3.41e+7, train_loss_step=0.117, val_loss=0.207, train_loss_epoch=0.205]\n",
      "Epoch 16:   0%|          | 0/29 [00:00<?, ?it/s, v_num=3.41e+7, train_loss_step=0.117, val_loss=0.207, train_loss_epoch=0.205]         \n",
      "Epoch 16:  41%|████▏     | 12/29 [00:05<00:07,  2.25it/s, v_num=3.41e+7, train_loss_step=0.221, val_loss=0.207, train_loss_epoch=0.205]\u001b[32m [repeated 26x across cluster]\u001b[0m\n",
      "Epoch 18:  83%|████████▎ | 24/29 [00:09<00:01,  2.66it/s, v_num=3.41e+7, train_loss_step=0.178, val_loss=0.208, train_loss_epoch=0.174]\n",
      "Epoch 18:  83%|████████▎ | 24/29 [00:09<00:01,  2.66it/s, v_num=3.41e+7, train_loss_step=0.126, val_loss=0.208, train_loss_epoch=0.174]\n",
      "Epoch 18:  93%|█████████▎| 27/29 [00:10<00:00,  2.66it/s, v_num=3.41e+7, train_loss_step=0.154, val_loss=0.208, train_loss_epoch=0.174]\n",
      "Epoch 18:  97%|█████████▋| 28/29 [00:10<00:00,  2.66it/s, v_num=3.41e+7, train_loss_step=0.118, val_loss=0.208, train_loss_epoch=0.174]\n",
      "Epoch 18: 100%|██████████| 29/29 [00:10<00:00,  2.73it/s, v_num=3.41e+7, train_loss_step=0.395, val_loss=0.208, train_loss_epoch=0.174]\n",
      "Validation: |          | 0/? [00:00<?, ?it/s]\u001b[A\n",
      "Validation:   0%|          | 0/6 [00:00<?, ?it/s]\u001b[A\n",
      "Validation DataLoader 0:   0%|          | 0/6 [00:00<?, ?it/s]\u001b[A\n",
      "Epoch 16:  79%|███████▉  | 23/29 [00:10<00:02,  2.27it/s, v_num=3.41e+7, train_loss_step=0.123, val_loss=0.207, train_loss_epoch=0.205]\u001b[32m [repeated 22x across cluster]\u001b[0m\n",
      "\u001b[36m(RayTrainWorker pid=14629)\u001b[0m \n",
      "Validation DataLoader 0:  17%|█▋        | 1/6 [00:00<00:01,  4.51it/s]\u001b[A\n",
      "\u001b[36m(RayTrainWorker pid=14629)\u001b[0m \n",
      "Validation DataLoader 0:  33%|███▎      | 2/6 [00:00<00:01,  3.87it/s]\u001b[A\n",
      "\u001b[36m(RayTrainWorker pid=14629)\u001b[0m \n",
      "Validation DataLoader 0:  50%|█████     | 3/6 [00:00<00:00,  3.78it/s]\u001b[A\n",
      "\u001b[36m(RayTrainWorker pid=14629)\u001b[0m \n",
      "Validation DataLoader 0:  67%|██████▋   | 4/6 [00:01<00:00,  3.72it/s]\u001b[A\n",
      "\u001b[36m(RayTrainWorker pid=14629)\u001b[0m \n",
      "Validation DataLoader 0:  83%|████████▎ | 5/6 [00:01<00:00,  3.62it/s]\u001b[A\n"
     ]
    },
    {
     "name": "stderr",
     "output_type": "stream",
     "text": [
      "2025-03-11 21:43:54,844\tWARNING experiment_state.py:206 -- Experiment state snapshotting has been triggered multiple times in the last 5.0 seconds and may become a bottleneck. A snapshot is forced if `CheckpointConfig(num_to_keep)` is set, and a trial has checkpointed >= `num_to_keep` times since the last snapshot.\n",
      "You may want to consider increasing the `CheckpointConfig(num_to_keep)` or decreasing the frequency of saving checkpoints.\n",
      "You can suppress this warning by setting the environment variable TUNE_WARN_EXCESSIVE_EXPERIMENT_CHECKPOINT_SYNC_THRESHOLD_S to a smaller value than the current threshold (5.0). Set it to 0 to completely suppress this warning.\n"
     ]
    },
    {
     "name": "stdout",
     "output_type": "stream",
     "text": [
      "\u001b[36m(RayTrainWorker pid=14629)\u001b[0m \n",
      "Validation DataLoader 0: 100%|██████████| 6/6 [00:01<00:00,  3.83it/s]\u001b[A\n",
      "Epoch 18: 100%|██████████| 29/29 [00:12<00:00,  2.37it/s, v_num=3.41e+7, train_loss_step=0.395, val_loss=0.226, train_loss_epoch=0.174]\n"
     ]
    },
    {
     "name": "stderr",
     "output_type": "stream",
     "text": [
      "\u001b[36m(RayTrainWorker pid=14629)\u001b[0m Checkpoint successfully created at: Checkpoint(filesystem=local, path=/ictstr01/home/aih/serra.korkmaz/projects/saturn/hopt/hpopt_jak2_zinc/ray_results/TorchTrainer_2025-03-11_21-39-30/37f3fa18/checkpoint_000018)\u001b[32m [repeated 2x across cluster]\u001b[0m\n"
     ]
    },
    {
     "name": "stdout",
     "output_type": "stream",
     "text": [
      "Epoch 18: 100%|██████████| 29/29 [00:12<00:00,  2.33it/s, v_num=3.41e+7, train_loss_step=0.395, val_loss=0.226, train_loss_epoch=0.162]\n",
      "Epoch 19:   0%|          | 0/29 [00:00<?, ?it/s, v_num=3.41e+7, train_loss_step=0.395, val_loss=0.226, train_loss_epoch=0.162]         \n",
      "\u001b[36m(RayTrainWorker pid=14395)\u001b[0m \n",
      "\u001b[36m(RayTrainWorker pid=14395)\u001b[0m \n",
      "\u001b[36m(RayTrainWorker pid=14395)\u001b[0m \n",
      "\u001b[36m(RayTrainWorker pid=14395)\u001b[0m \n",
      "\u001b[36m(RayTrainWorker pid=14395)\u001b[0m \n",
      "\u001b[36m(RayTrainWorker pid=14395)\u001b[0m \n"
     ]
    },
    {
     "name": "stderr",
     "output_type": "stream",
     "text": [
      "2025-03-11 21:43:57,199\tWARNING experiment_state.py:206 -- Experiment state snapshotting has been triggered multiple times in the last 5.0 seconds and may become a bottleneck. A snapshot is forced if `CheckpointConfig(num_to_keep)` is set, and a trial has checkpointed >= `num_to_keep` times since the last snapshot.\n",
      "You may want to consider increasing the `CheckpointConfig(num_to_keep)` or decreasing the frequency of saving checkpoints.\n",
      "You can suppress this warning by setting the environment variable TUNE_WARN_EXCESSIVE_EXPERIMENT_CHECKPOINT_SYNC_THRESHOLD_S to a smaller value than the current threshold (5.0). Set it to 0 to completely suppress this warning.\n"
     ]
    },
    {
     "name": "stdout",
     "output_type": "stream",
     "text": [
      "\u001b[36m(RayTrainWorker pid=14395)\u001b[0m \n",
      "Epoch 16: 100%|██████████| 29/29 [00:12<00:00,  2.34it/s, v_num=3.41e+7, train_loss_step=0.439, val_loss=0.207, train_loss_epoch=0.205]\u001b[32m [repeated 3x across cluster]\u001b[0m\n",
      "Validation: |          | 0/? [00:00<?, ?it/s]\u001b[A\n",
      "Validation:   0%|          | 0/6 [00:00<?, ?it/s]\u001b[A\n",
      "Validation DataLoader 0:   0%|          | 0/6 [00:00<?, ?it/s]\u001b[A\n",
      "Epoch 19:  31%|███       | 9/29 [00:03<00:06,  2.93it/s, v_num=3.41e+7, train_loss_step=0.139, val_loss=0.226, train_loss_epoch=0.162]\u001b[32m [repeated 14x across cluster]\u001b[0m\n",
      "Validation DataLoader 0:  83%|████████▎ | 5/6 [00:01<00:00,  2.99it/s]\u001b[A\u001b[32m [repeated 5x across cluster]\u001b[0m\n",
      "Validation DataLoader 0: 100%|██████████| 6/6 [00:01<00:00,  3.17it/s]\u001b[A\n",
      "Epoch 16: 100%|██████████| 29/29 [00:14<00:00,  2.02it/s, v_num=3.41e+7, train_loss_step=0.439, val_loss=0.196, train_loss_epoch=0.205]\n",
      "Epoch 16: 100%|██████████| 29/29 [00:14<00:00,  1.99it/s, v_num=3.41e+7, train_loss_step=0.439, val_loss=0.196, train_loss_epoch=0.198]\n",
      "Epoch 17:   0%|          | 0/29 [00:00<?, ?it/s, v_num=3.41e+7, train_loss_step=0.439, val_loss=0.196, train_loss_epoch=0.198]         \n",
      "Epoch 19:  86%|████████▌ | 25/29 [00:08<00:01,  3.10it/s, v_num=3.41e+7, train_loss_step=0.169, val_loss=0.226, train_loss_epoch=0.162]\u001b[32m [repeated 30x across cluster]\u001b[0m\n",
      "Epoch 19:  93%|█████████▎| 27/29 [00:08<00:00,  3.11it/s, v_num=3.41e+7, train_loss_step=0.0963, val_loss=0.226, train_loss_epoch=0.162]\n",
      "Epoch 19:  97%|█████████▋| 28/29 [00:09<00:00,  3.09it/s, v_num=3.41e+7, train_loss_step=0.218, val_loss=0.226, train_loss_epoch=0.162] \n",
      "Epoch 19: 100%|██████████| 29/29 [00:09<00:00,  3.17it/s, v_num=3.41e+7, train_loss_step=0.189, val_loss=0.226, train_loss_epoch=0.162]\n",
      "Validation: |          | 0/? [00:00<?, ?it/s]\u001b[A\n",
      "Validation:   0%|          | 0/6 [00:00<?, ?it/s]\u001b[A\n",
      "Validation DataLoader 0:   0%|          | 0/6 [00:00<?, ?it/s]\u001b[A\n",
      "\u001b[36m(RayTrainWorker pid=14629)\u001b[0m \n",
      "Validation DataLoader 0:  17%|█▋        | 1/6 [00:00<00:01,  4.23it/s]\u001b[A\n",
      "\u001b[36m(RayTrainWorker pid=14629)\u001b[0m \n",
      "Validation DataLoader 0:  33%|███▎      | 2/6 [00:00<00:01,  3.79it/s]\u001b[A\n",
      "\u001b[36m(RayTrainWorker pid=14629)\u001b[0m \n",
      "Validation DataLoader 0:  50%|█████     | 3/6 [00:00<00:00,  3.72it/s]\u001b[A\n",
      "\u001b[36m(RayTrainWorker pid=14629)\u001b[0m \n",
      "Validation DataLoader 0:  67%|██████▋   | 4/6 [00:01<00:00,  3.66it/s]\u001b[A\n",
      "\u001b[36m(RayTrainWorker pid=14629)\u001b[0m \n",
      "Validation DataLoader 0:  83%|████████▎ | 5/6 [00:01<00:00,  3.58it/s]\u001b[A\n",
      "\u001b[36m(RayTrainWorker pid=14629)\u001b[0m \n",
      "Validation DataLoader 0: 100%|██████████| 6/6 [00:01<00:00,  3.77it/s]\u001b[A\n",
      "Epoch 19: 100%|██████████| 29/29 [00:10<00:00,  2.68it/s, v_num=3.41e+7, train_loss_step=0.189, val_loss=0.163, train_loss_epoch=0.162]\n",
      "Epoch 19: 100%|██████████| 29/29 [00:11<00:00,  2.62it/s, v_num=3.41e+7, train_loss_step=0.189, val_loss=0.163, train_loss_epoch=0.156]\n",
      "Epoch 19: 100%|██████████| 29/29 [00:11<00:00,  2.59it/s, v_num=3.41e+7, train_loss_step=0.189, val_loss=0.163, train_loss_epoch=0.156]\n"
     ]
    },
    {
     "name": "stderr",
     "output_type": "stream",
     "text": [
      "\u001b[36m(RayTrainWorker pid=14629)\u001b[0m Checkpoint successfully created at: Checkpoint(filesystem=local, path=/ictstr01/home/aih/serra.korkmaz/projects/saturn/hopt/hpopt_jak2_zinc/ray_results/TorchTrainer_2025-03-11_21-39-30/37f3fa18/checkpoint_000019)\u001b[32m [repeated 2x across cluster]\u001b[0m\n",
      "\u001b[36m(RayTrainWorker pid=14629)\u001b[0m `Trainer.fit` stopped: `max_epochs=20` reached.\n"
     ]
    },
    {
     "name": "stdout",
     "output_type": "stream",
     "text": [
      "Epoch 17: 100%|██████████| 29/29 [00:10<00:00,  2.86it/s, v_num=3.41e+7, train_loss_step=0.0807, val_loss=0.196, train_loss_epoch=0.198]\n",
      "\u001b[36m(RayTrainWorker pid=14395)\u001b[0m \n",
      "\u001b[36m(RayTrainWorker pid=14395)\u001b[0m \n",
      "\u001b[36m(RayTrainWorker pid=14395)\u001b[0m \n",
      "\u001b[36m(RayTrainWorker pid=14395)\u001b[0m \n",
      "Epoch 17:  90%|████████▉ | 26/29 [00:09<00:01,  2.75it/s, v_num=3.41e+7, train_loss_step=0.209, val_loss=0.196, train_loss_epoch=0.198]\u001b[32m [repeated 11x across cluster]\u001b[0m\n",
      "\u001b[36m(RayTrainWorker pid=14395)\u001b[0m \n",
      "\u001b[36m(RayTrainWorker pid=14395)\u001b[0m \n",
      "Epoch 17:  93%|█████████▎| 27/29 [00:09<00:00,  2.77it/s, v_num=3.41e+7, train_loss_step=0.154, val_loss=0.196, train_loss_epoch=0.198]\n"
     ]
    },
    {
     "name": "stderr",
     "output_type": "stream",
     "text": [
      "2025-03-11 21:44:09,126\tWARNING experiment_state.py:206 -- Experiment state snapshotting has been triggered multiple times in the last 5.0 seconds and may become a bottleneck. A snapshot is forced if `CheckpointConfig(num_to_keep)` is set, and a trial has checkpointed >= `num_to_keep` times since the last snapshot.\n",
      "You may want to consider increasing the `CheckpointConfig(num_to_keep)` or decreasing the frequency of saving checkpoints.\n",
      "You can suppress this warning by setting the environment variable TUNE_WARN_EXCESSIVE_EXPERIMENT_CHECKPOINT_SYNC_THRESHOLD_S to a smaller value than the current threshold (5.0). Set it to 0 to completely suppress this warning.\n"
     ]
    },
    {
     "name": "stdout",
     "output_type": "stream",
     "text": [
      "\u001b[36m(RayTrainWorker pid=14395)\u001b[0m \n",
      "Epoch 18:   0%|          | 0/29 [00:00<?, ?it/s, v_num=3.41e+7, train_loss_step=0.0807, val_loss=0.298, train_loss_epoch=0.183]         \n",
      "Validation: |          | 0/? [00:00<?, ?it/s]\u001b[A\n",
      "Validation:   0%|          | 0/6 [00:00<?, ?it/s]\u001b[A\n",
      "Validation DataLoader 0:   0%|          | 0/6 [00:00<?, ?it/s]\u001b[A\n",
      "Validation DataLoader 0:  83%|████████▎ | 5/6 [00:01<00:00,  4.10it/s]\u001b[A\u001b[32m [repeated 5x across cluster]\u001b[0m\n",
      "Validation DataLoader 0: 100%|██████████| 6/6 [00:01<00:00,  4.15it/s]\u001b[A\n",
      "Epoch 17: 100%|██████████| 29/29 [00:11<00:00,  2.49it/s, v_num=3.41e+7, train_loss_step=0.0807, val_loss=0.298, train_loss_epoch=0.198]\n",
      "Epoch 17: 100%|██████████| 29/29 [00:11<00:00,  2.45it/s, v_num=3.41e+7, train_loss_step=0.0807, val_loss=0.298, train_loss_epoch=0.183]\n",
      "Epoch 18:  48%|████▊     | 14/29 [00:04<00:04,  3.33it/s, v_num=3.41e+7, train_loss_step=0.187, val_loss=0.298, train_loss_epoch=0.183]\u001b[32m [repeated 14x across cluster]\u001b[0m\n",
      "Epoch 18:  93%|█████████▎| 27/29 [00:08<00:00,  3.35it/s, v_num=3.41e+7, train_loss_step=0.175, val_loss=0.298, train_loss_epoch=0.183]\n",
      "Epoch 18: 100%|██████████| 29/29 [00:08<00:00,  3.43it/s, v_num=3.41e+7, train_loss_step=0.399, val_loss=0.298, train_loss_epoch=0.183]\n",
      "Validation: |          | 0/? [00:00<?, ?it/s]\u001b[A\n",
      "\u001b[36m(RayTrainWorker pid=14395)\u001b[0m \n",
      "Validation:   0%|          | 0/6 [00:00<?, ?it/s]\u001b[A\n",
      "Validation DataLoader 0:   0%|          | 0/6 [00:00<?, ?it/s]\u001b[A\n",
      "\u001b[36m(RayTrainWorker pid=14395)\u001b[0m \n",
      "Validation DataLoader 0:  17%|█▋        | 1/6 [00:00<00:00,  5.37it/s]\u001b[A\n",
      "\u001b[36m(RayTrainWorker pid=14395)\u001b[0m \n",
      "Validation DataLoader 0:  33%|███▎      | 2/6 [00:00<00:00,  4.83it/s]\u001b[A\n",
      "\u001b[36m(RayTrainWorker pid=14395)\u001b[0m \n",
      "Validation DataLoader 0:  50%|█████     | 3/6 [00:00<00:00,  4.73it/s]\u001b[A\n",
      "\u001b[36m(RayTrainWorker pid=14395)\u001b[0m \n",
      "Validation DataLoader 0:  67%|██████▋   | 4/6 [00:00<00:00,  4.66it/s]\u001b[A\n",
      "Epoch 18:  90%|████████▉ | 26/29 [00:07<00:00,  3.35it/s, v_num=3.41e+7, train_loss_step=0.201, val_loss=0.298, train_loss_epoch=0.183]\u001b[32m [repeated 12x across cluster]\u001b[0m\n",
      "\u001b[36m(RayTrainWorker pid=14395)\u001b[0m \n",
      "Validation DataLoader 0:  83%|████████▎ | 5/6 [00:01<00:00,  4.58it/s]\u001b[A\n",
      "\u001b[36m(RayTrainWorker pid=14395)\u001b[0m \n",
      "Validation DataLoader 0: 100%|██████████| 6/6 [00:01<00:00,  4.85it/s]\u001b[A\n",
      "Epoch 18: 100%|██████████| 29/29 [00:09<00:00,  2.98it/s, v_num=3.41e+7, train_loss_step=0.399, val_loss=0.247, train_loss_epoch=0.183]\n",
      "Epoch 18: 100%|██████████| 29/29 [00:09<00:00,  2.93it/s, v_num=3.41e+7, train_loss_step=0.399, val_loss=0.247, train_loss_epoch=0.181]\n",
      "Epoch 19:   0%|          | 0/29 [00:00<?, ?it/s, v_num=3.41e+7, train_loss_step=0.399, val_loss=0.247, train_loss_epoch=0.181]         \n"
     ]
    },
    {
     "name": "stderr",
     "output_type": "stream",
     "text": [
      "\u001b[36m(RayTrainWorker pid=14395)\u001b[0m Checkpoint successfully created at: Checkpoint(filesystem=local, path=/ictstr01/home/aih/serra.korkmaz/projects/saturn/hopt/hpopt_jak2_zinc/ray_results/TorchTrainer_2025-03-11_21-39-30/2a5d7132/checkpoint_000018)\u001b[32m [repeated 2x across cluster]\u001b[0m\n"
     ]
    },
    {
     "name": "stdout",
     "output_type": "stream",
     "text": [
      "Epoch 19:  52%|█████▏    | 15/29 [00:04<00:04,  3.37it/s, v_num=3.41e+7, train_loss_step=0.140, val_loss=0.247, train_loss_epoch=0.181]\u001b[32m [repeated 15x across cluster]\u001b[0m\n",
      "Epoch 19:  93%|█████████▎| 27/29 [00:08<00:00,  3.37it/s, v_num=3.41e+7, train_loss_step=0.107, val_loss=0.247, train_loss_epoch=0.181]\n",
      "Epoch 19:  97%|█████████▋| 28/29 [00:08<00:00,  3.37it/s, v_num=3.41e+7, train_loss_step=0.231, val_loss=0.247, train_loss_epoch=0.181]\n",
      "Epoch 19: 100%|██████████| 29/29 [00:08<00:00,  3.45it/s, v_num=3.41e+7, train_loss_step=0.179, val_loss=0.247, train_loss_epoch=0.181]\n",
      "Validation: |          | 0/? [00:00<?, ?it/s]\u001b[A\n",
      "Validation:   0%|          | 0/6 [00:00<?, ?it/s]\u001b[A\n",
      "Validation DataLoader 0:   0%|          | 0/6 [00:00<?, ?it/s]\u001b[A\n",
      "\u001b[36m(RayTrainWorker pid=14395)\u001b[0m \n",
      "Validation DataLoader 0:  17%|█▋        | 1/6 [00:00<00:00,  5.46it/s]\u001b[A\n",
      "\u001b[36m(RayTrainWorker pid=14395)\u001b[0m \n",
      "Validation DataLoader 0:  33%|███▎      | 2/6 [00:00<00:00,  4.92it/s]\u001b[A\n",
      "\u001b[36m(RayTrainWorker pid=14395)\u001b[0m \n",
      "Validation DataLoader 0:  50%|█████     | 3/6 [00:00<00:00,  4.79it/s]\u001b[A\n",
      "\u001b[36m(RayTrainWorker pid=14395)\u001b[0m \n",
      "Validation DataLoader 0:  67%|██████▋   | 4/6 [00:00<00:00,  4.73it/s]\u001b[A\n",
      "\u001b[36m(RayTrainWorker pid=14395)\u001b[0m \n",
      "Validation DataLoader 0:  83%|████████▎ | 5/6 [00:01<00:00,  4.64it/s]\u001b[A\n",
      "Epoch 19:  90%|████████▉ | 26/29 [00:07<00:00,  3.35it/s, v_num=3.41e+7, train_loss_step=0.265, val_loss=0.247, train_loss_epoch=0.181]\u001b[32m [repeated 11x across cluster]\u001b[0m\n",
      "\u001b[36m(RayTrainWorker pid=14395)\u001b[0m \n",
      "Validation DataLoader 0: 100%|██████████| 6/6 [00:01<00:00,  4.90it/s]\u001b[A\n",
      "Epoch 19: 100%|██████████| 29/29 [00:09<00:00,  3.00it/s, v_num=3.41e+7, train_loss_step=0.179, val_loss=0.208, train_loss_epoch=0.181]\n",
      "Epoch 19: 100%|██████████| 29/29 [00:09<00:00,  2.95it/s, v_num=3.41e+7, train_loss_step=0.179, val_loss=0.208, train_loss_epoch=0.173]\n"
     ]
    },
    {
     "name": "stderr",
     "output_type": "stream",
     "text": [
      "\u001b[36m(RayTrainWorker pid=14395)\u001b[0m Checkpoint successfully created at: Checkpoint(filesystem=local, path=/ictstr01/home/aih/serra.korkmaz/projects/saturn/hopt/hpopt_jak2_zinc/ray_results/TorchTrainer_2025-03-11_21-39-30/2a5d7132/checkpoint_000019)\n",
      "\u001b[36m(RayTrainWorker pid=14395)\u001b[0m `Trainer.fit` stopped: `max_epochs=20` reached.\n"
     ]
    },
    {
     "name": "stdout",
     "output_type": "stream",
     "text": [
      "Epoch 19: 100%|██████████| 29/29 [00:09<00:00,  2.92it/s, v_num=3.41e+7, train_loss_step=0.179, val_loss=0.208, train_loss_epoch=0.173]\n"
     ]
    },
    {
     "name": "stderr",
     "output_type": "stream",
     "text": [
      "2025-03-11 21:44:30,350\tINFO tune.py:1009 -- Wrote the latest version of all result files and experiment state to '/ictstr01/home/aih/serra.korkmaz/projects/saturn/hopt/hpopt_jak2_zinc/ray_results/TorchTrainer_2025-03-11_21-39-30' in 0.0064s.\n",
      "2025-03-11 21:44:30,355\tINFO tune.py:1041 -- Total run time: 299.29 seconds (298.59 seconds for the tuning loop).\n"
     ]
    }
   ],
   "source": [
    "ray.init()\n",
    "\n",
    "scheduler = FIFOScheduler()\n",
    "\n",
    "# Scaling config controls the resources used by Ray\n",
    "scaling_config = ScalingConfig(\n",
    "    num_workers=1,\n",
    "    use_gpu=False, # change to True if you want to use GPU\n",
    ")\n",
    "\n",
    "# Checkpoint config controls the checkpointing behavior of Ray\n",
    "checkpoint_config = CheckpointConfig(\n",
    "    num_to_keep=1, # number of checkpoints to keep\n",
    "    checkpoint_score_attribute=\"val_loss\", # Save the checkpoint based on this metric\n",
    "    checkpoint_score_order=\"min\", # Save the checkpoint with the lowest metric value\n",
    ")\n",
    "\n",
    "run_config = RunConfig(\n",
    "    checkpoint_config=checkpoint_config,\n",
    "    storage_path=hpopt_save_dir / \"ray_results\", # directory to save the results\n",
    ")\n",
    "\n",
    "ray_trainer = TorchTrainer(\n",
    "    lambda config: train_model(\n",
    "        config, train_dset, val_dset, num_workers, scaler\n",
    "    ),\n",
    "    scaling_config=scaling_config,\n",
    "    run_config=run_config,\n",
    ")\n",
    "\n",
    "search_alg = HyperOptSearch(\n",
    "    n_initial_points=1, # number of random evaluations before tree parzen estimators\n",
    "    random_state_seed=42,\n",
    ")\n",
    "\n",
    "# OptunaSearch is another search algorithm that can be used\n",
    "# search_alg = OptunaSearch()\n",
    "\n",
    "tune_config = tune.TuneConfig(\n",
    "    metric=\"val_loss\",\n",
    "    mode=\"min\",\n",
    "    num_samples=2, # number of trials to run\n",
    "    scheduler=scheduler,\n",
    "    search_alg=search_alg,\n",
    "    trial_dirname_creator=lambda trial: str(trial.trial_id), # shorten filepaths\n",
    "\n",
    ")\n",
    "\n",
    "tuner = tune.Tuner(\n",
    "    ray_trainer,\n",
    "    param_space={\n",
    "        \"train_loop_config\": search_space,\n",
    "    },\n",
    "    tune_config=tune_config,\n",
    ")\n",
    "\n",
    "# Start the hyperparameter search\n",
    "results = tuner.fit()"
   ]
  },
  {
   "cell_type": "code",
   "execution_count": 11,
   "id": "58abd66a-7791-41d5-b392-53fce5167960",
   "metadata": {},
   "outputs": [
    {
     "data": {
      "text/plain": [
       "ResultGrid<[\n",
       "  Result(\n",
       "    metrics={'train_loss': 0.1727863848209381, 'train_loss_step': 0.1788666546344757, 'val/rmse': 0.4559873938560486, 'val/mae': 0.3607887327671051, 'val_loss': 0.2079245001077652, 'train_loss_epoch': 0.1727863848209381, 'epoch': 19, 'step': 580},\n",
       "    path='/ictstr01/home/aih/serra.korkmaz/projects/saturn/hopt/hpopt_jak2_zinc/ray_results/TorchTrainer_2025-03-11_21-39-30/2a5d7132',\n",
       "    filesystem='local',\n",
       "    checkpoint=Checkpoint(filesystem=local, path=/ictstr01/home/aih/serra.korkmaz/projects/saturn/hopt/hpopt_jak2_zinc/ray_results/TorchTrainer_2025-03-11_21-39-30/2a5d7132/checkpoint_000019)\n",
       "  ),\n",
       "  Result(\n",
       "    metrics={'train_loss': 0.15599124133586884, 'train_loss_step': 0.18868009746074677, 'val/rmse': 0.40419355034828186, 'val/mae': 0.31811946630477905, 'val_loss': 0.16337242722511292, 'train_loss_epoch': 0.15599124133586884, 'epoch': 19, 'step': 580},\n",
       "    path='/ictstr01/home/aih/serra.korkmaz/projects/saturn/hopt/hpopt_jak2_zinc/ray_results/TorchTrainer_2025-03-11_21-39-30/37f3fa18',\n",
       "    filesystem='local',\n",
       "    checkpoint=Checkpoint(filesystem=local, path=/ictstr01/home/aih/serra.korkmaz/projects/saturn/hopt/hpopt_jak2_zinc/ray_results/TorchTrainer_2025-03-11_21-39-30/37f3fa18/checkpoint_000019)\n",
       "  )\n",
       "]>"
      ]
     },
     "execution_count": 11,
     "metadata": {},
     "output_type": "execute_result"
    }
   ],
   "source": [
    "results"
   ]
  },
  {
   "cell_type": "code",
   "execution_count": 12,
   "id": "d3936aab-2566-49a1-88a7-0f0425665d3e",
   "metadata": {},
   "outputs": [
    {
     "data": {
      "text/html": [
       "<div>\n",
       "<style scoped>\n",
       "    .dataframe tbody tr th:only-of-type {\n",
       "        vertical-align: middle;\n",
       "    }\n",
       "\n",
       "    .dataframe tbody tr th {\n",
       "        vertical-align: top;\n",
       "    }\n",
       "\n",
       "    .dataframe thead th {\n",
       "        text-align: right;\n",
       "    }\n",
       "</style>\n",
       "<table border=\"1\" class=\"dataframe\">\n",
       "  <thead>\n",
       "    <tr style=\"text-align: right;\">\n",
       "      <th></th>\n",
       "      <th>train_loss</th>\n",
       "      <th>train_loss_step</th>\n",
       "      <th>val/rmse</th>\n",
       "      <th>val/mae</th>\n",
       "      <th>val_loss</th>\n",
       "      <th>train_loss_epoch</th>\n",
       "      <th>epoch</th>\n",
       "      <th>step</th>\n",
       "      <th>timestamp</th>\n",
       "      <th>checkpoint_dir_name</th>\n",
       "      <th>...</th>\n",
       "      <th>pid</th>\n",
       "      <th>hostname</th>\n",
       "      <th>node_ip</th>\n",
       "      <th>time_since_restore</th>\n",
       "      <th>iterations_since_restore</th>\n",
       "      <th>config/train_loop_config/depth</th>\n",
       "      <th>config/train_loop_config/ffn_hidden_dim</th>\n",
       "      <th>config/train_loop_config/ffn_num_layers</th>\n",
       "      <th>config/train_loop_config/message_hidden_dim</th>\n",
       "      <th>logdir</th>\n",
       "    </tr>\n",
       "  </thead>\n",
       "  <tbody>\n",
       "    <tr>\n",
       "      <th>0</th>\n",
       "      <td>0.172786</td>\n",
       "      <td>0.178867</td>\n",
       "      <td>0.455987</td>\n",
       "      <td>0.360789</td>\n",
       "      <td>0.207925</td>\n",
       "      <td>0.172786</td>\n",
       "      <td>19</td>\n",
       "      <td>580</td>\n",
       "      <td>1741725869</td>\n",
       "      <td>checkpoint_000019</td>\n",
       "      <td>...</td>\n",
       "      <td>13970</td>\n",
       "      <td>cpusrv27.scidom.de</td>\n",
       "      <td>10.233.0.37</td>\n",
       "      <td>268.866934</td>\n",
       "      <td>20</td>\n",
       "      <td>2</td>\n",
       "      <td>2000</td>\n",
       "      <td>2</td>\n",
       "      <td>500</td>\n",
       "      <td>2a5d7132</td>\n",
       "    </tr>\n",
       "    <tr>\n",
       "      <th>1</th>\n",
       "      <td>0.155991</td>\n",
       "      <td>0.188680</td>\n",
       "      <td>0.404194</td>\n",
       "      <td>0.318119</td>\n",
       "      <td>0.163372</td>\n",
       "      <td>0.155991</td>\n",
       "      <td>19</td>\n",
       "      <td>580</td>\n",
       "      <td>1741725845</td>\n",
       "      <td>checkpoint_000019</td>\n",
       "      <td>...</td>\n",
       "      <td>14396</td>\n",
       "      <td>cpusrv27.scidom.de</td>\n",
       "      <td>10.233.0.37</td>\n",
       "      <td>236.357884</td>\n",
       "      <td>20</td>\n",
       "      <td>2</td>\n",
       "      <td>2200</td>\n",
       "      <td>2</td>\n",
       "      <td>400</td>\n",
       "      <td>37f3fa18</td>\n",
       "    </tr>\n",
       "  </tbody>\n",
       "</table>\n",
       "<p>2 rows × 27 columns</p>\n",
       "</div>"
      ],
      "text/plain": [
       "   train_loss  train_loss_step  val/rmse   val/mae  val_loss  \\\n",
       "0    0.172786         0.178867  0.455987  0.360789  0.207925   \n",
       "1    0.155991         0.188680  0.404194  0.318119  0.163372   \n",
       "\n",
       "   train_loss_epoch  epoch  step   timestamp checkpoint_dir_name  ...    pid  \\\n",
       "0          0.172786     19   580  1741725869   checkpoint_000019  ...  13970   \n",
       "1          0.155991     19   580  1741725845   checkpoint_000019  ...  14396   \n",
       "\n",
       "             hostname      node_ip time_since_restore  \\\n",
       "0  cpusrv27.scidom.de  10.233.0.37         268.866934   \n",
       "1  cpusrv27.scidom.de  10.233.0.37         236.357884   \n",
       "\n",
       "  iterations_since_restore  config/train_loop_config/depth  \\\n",
       "0                       20                               2   \n",
       "1                       20                               2   \n",
       "\n",
       "   config/train_loop_config/ffn_hidden_dim  \\\n",
       "0                                     2000   \n",
       "1                                     2200   \n",
       "\n",
       "   config/train_loop_config/ffn_num_layers  \\\n",
       "0                                        2   \n",
       "1                                        2   \n",
       "\n",
       "  config/train_loop_config/message_hidden_dim    logdir  \n",
       "0                                         500  2a5d7132  \n",
       "1                                         400  37f3fa18  \n",
       "\n",
       "[2 rows x 27 columns]"
      ]
     },
     "execution_count": 12,
     "metadata": {},
     "output_type": "execute_result"
    }
   ],
   "source": [
    "result_df = results.get_dataframe()\n",
    "result_df"
   ]
  },
  {
   "cell_type": "code",
   "execution_count": 13,
   "id": "2e8dd786-358c-46cd-b69c-9e6b1f2343aa",
   "metadata": {},
   "outputs": [
    {
     "data": {
      "text/plain": [
       "{'depth': 2,\n",
       " 'ffn_hidden_dim': 2200,\n",
       " 'ffn_num_layers': 2,\n",
       " 'message_hidden_dim': 400}"
      ]
     },
     "execution_count": 13,
     "metadata": {},
     "output_type": "execute_result"
    }
   ],
   "source": [
    "# best configuration\n",
    "best_result = results.get_best_result()\n",
    "best_config = best_result.config\n",
    "best_config['train_loop_config']"
   ]
  },
  {
   "cell_type": "code",
   "execution_count": 14,
   "id": "ce9c0344-f3d8-463f-ab5e-6612385cf99e",
   "metadata": {},
   "outputs": [
    {
     "name": "stdout",
     "output_type": "stream",
     "text": [
      "Best model checkpoint path: /ictstr01/home/aih/serra.korkmaz/projects/saturn/hopt/hpopt_jak2_zinc/ray_results/TorchTrainer_2025-03-11_21-39-30/37f3fa18/checkpoint_000019/checkpoint.ckpt\n"
     ]
    }
   ],
   "source": [
    "# best model checkpoint path\n",
    "best_result = results.get_best_result()\n",
    "best_checkpoint_path = Path(best_result.checkpoint.path) / \"checkpoint.ckpt\"\n",
    "print(f\"Best model checkpoint path: {best_checkpoint_path}\")"
   ]
  },
  {
   "cell_type": "code",
   "execution_count": 15,
   "id": "8c8d7370-2604-4965-93ad-ea8bdeb1eca4",
   "metadata": {},
   "outputs": [
    {
     "data": {
      "text/plain": [
       "MPNN(\n",
       "  (message_passing): BondMessagePassing(\n",
       "    (W_i): Linear(in_features=86, out_features=400, bias=False)\n",
       "    (W_h): Linear(in_features=400, out_features=400, bias=False)\n",
       "    (W_o): Linear(in_features=472, out_features=400, bias=True)\n",
       "    (dropout): Dropout(p=0.0, inplace=False)\n",
       "    (tau): ReLU()\n",
       "    (V_d_transform): Identity()\n",
       "    (graph_transform): Identity()\n",
       "  )\n",
       "  (agg): MeanAggregation()\n",
       "  (bn): BatchNorm1d(400, eps=1e-05, momentum=0.1, affine=True, track_running_stats=True)\n",
       "  (predictor): RegressionFFN(\n",
       "    (ffn): MLP(\n",
       "      (0): Sequential(\n",
       "        (0): Linear(in_features=400, out_features=2200, bias=True)\n",
       "      )\n",
       "      (1): Sequential(\n",
       "        (0): ReLU()\n",
       "        (1): Dropout(p=0.0, inplace=False)\n",
       "        (2): Linear(in_features=2200, out_features=2200, bias=True)\n",
       "      )\n",
       "      (2): Sequential(\n",
       "        (0): ReLU()\n",
       "        (1): Dropout(p=0.0, inplace=False)\n",
       "        (2): Linear(in_features=2200, out_features=1, bias=True)\n",
       "      )\n",
       "    )\n",
       "    (criterion): MSE(task_weights=[[1.0]])\n",
       "    (output_transform): UnscaleTransform()\n",
       "  )\n",
       "  (X_d_transform): Identity()\n",
       "  (metrics): ModuleList(\n",
       "    (0): RMSE(task_weights=[[1.0]])\n",
       "    (1): MAE(task_weights=[[1.0]])\n",
       "    (2): MSE(task_weights=[[1.0]])\n",
       "  )\n",
       ")"
      ]
     },
     "execution_count": 15,
     "metadata": {},
     "output_type": "execute_result"
    }
   ],
   "source": [
    "mpnn = models.MPNN.load_from_checkpoint(best_checkpoint_path)\n",
    "mpnn"
   ]
  },
  {
   "cell_type": "code",
   "execution_count": 18,
   "id": "4a8a34e4-ca47-44b9-8cf3-7f6ac5b152ea",
   "metadata": {},
   "outputs": [
    {
     "name": "stderr",
     "output_type": "stream",
     "text": [
      "GPU available: False, used: False\n",
      "TPU available: False, using: 0 TPU cores\n",
      "HPU available: False, using: 0 HPUs\n",
      "/home/aih/serra.korkmaz/miniconda3/envs/saturn/lib/python3.11/site-packages/lightning/pytorch/core/saving.py:363: Skipping 'metrics' parameter because it is not possible to safely dump to YAML.\n",
      "SLURM auto-requeueing enabled. Setting signal handlers.\n",
      "/home/aih/serra.korkmaz/miniconda3/envs/saturn/lib/python3.11/site-packages/lightning/pytorch/trainer/connectors/data_connector.py:425: The 'predict_dataloader' does not have many workers which may be a bottleneck. Consider increasing the value of the `num_workers` argument` to `num_workers=3` in the `DataLoader` to improve performance.\n"
     ]
    },
    {
     "name": "stdout",
     "output_type": "stream",
     "text": [
      "Predicting DataLoader 0: 100%|██████████| 4/4 [00:00<00:00,  6.00it/s]\n"
     ]
    }
   ],
   "source": [
    "import torch\n",
    "test_loader = data.build_dataloader(test_dset, shuffle=False)\n",
    "with torch.inference_mode():\n",
    "    trainer = pl.Trainer(\n",
    "        logger=None,\n",
    "        enable_progress_bar=True,\n",
    "        accelerator=\"cpu\",\n",
    "        devices=1\n",
    "    )\n",
    "    test_preds = trainer.predict(mpnn, test_loader)"
   ]
  },
  {
   "cell_type": "code",
   "execution_count": 20,
   "id": "69b84a2f-36df-415a-af1c-f7595b59b7d5",
   "metadata": {},
   "outputs": [
    {
     "data": {
      "text/html": [
       "<div>\n",
       "<style scoped>\n",
       "    .dataframe tbody tr th:only-of-type {\n",
       "        vertical-align: middle;\n",
       "    }\n",
       "\n",
       "    .dataframe tbody tr th {\n",
       "        vertical-align: top;\n",
       "    }\n",
       "\n",
       "    .dataframe thead th {\n",
       "        text-align: right;\n",
       "    }\n",
       "</style>\n",
       "<table border=\"1\" class=\"dataframe\">\n",
       "  <thead>\n",
       "    <tr style=\"text-align: right;\">\n",
       "      <th></th>\n",
       "      <th>smiles</th>\n",
       "      <th>value</th>\n",
       "      <th>preds</th>\n",
       "    </tr>\n",
       "  </thead>\n",
       "  <tbody>\n",
       "    <tr>\n",
       "      <th>0</th>\n",
       "      <td>O=C(Nc1ccc(F)cc1)C(c1ccccc1)N1CCN(c2ccncc2)CC1</td>\n",
       "      <td>9.2</td>\n",
       "      <td>8.158996</td>\n",
       "    </tr>\n",
       "    <tr>\n",
       "      <th>1</th>\n",
       "      <td>CN1CCN(c2ccc(N=c3c4c([nH]c5cc(Cl)ccc35)CCCC4)c...</td>\n",
       "      <td>10.1</td>\n",
       "      <td>9.295930</td>\n",
       "    </tr>\n",
       "    <tr>\n",
       "      <th>2</th>\n",
       "      <td>Cc1ccccc1C(CC(=O)O)NC(=O)c1cccc(-c2ccc(F)cc2)n1</td>\n",
       "      <td>9.9</td>\n",
       "      <td>9.095927</td>\n",
       "    </tr>\n",
       "    <tr>\n",
       "      <th>3</th>\n",
       "      <td>N=c1ncc(-c2nc(N3CCOCC3)nc3c2CCN3C2CCN(C=O)C2)c...</td>\n",
       "      <td>9.6</td>\n",
       "      <td>9.261389</td>\n",
       "    </tr>\n",
       "    <tr>\n",
       "      <th>4</th>\n",
       "      <td>CC1Cc2c([nH]c3ccc(F)cc23)C2(CCC(c3ccccc3)(N(C)...</td>\n",
       "      <td>9.0</td>\n",
       "      <td>7.448316</td>\n",
       "    </tr>\n",
       "    <tr>\n",
       "      <th>...</th>\n",
       "      <td>...</td>\n",
       "      <td>...</td>\n",
       "      <td>...</td>\n",
       "    </tr>\n",
       "    <tr>\n",
       "      <th>195</th>\n",
       "      <td>COC(=O)NC(C(=O)NC(Cc1ccccc1)C(O)CN(OC1CCCC1)S(...</td>\n",
       "      <td>8.0</td>\n",
       "      <td>7.346327</td>\n",
       "    </tr>\n",
       "    <tr>\n",
       "      <th>196</th>\n",
       "      <td>Cc1cc2c(cc1Cl)SC(C(=O)c1ccc(Br)cc1)=NS2(=O)=O</td>\n",
       "      <td>9.2</td>\n",
       "      <td>8.566776</td>\n",
       "    </tr>\n",
       "    <tr>\n",
       "      <th>197</th>\n",
       "      <td>COc1ccc(C(=O)OC(C=C(C)C)CC(C)C2CCC3(C)C4C(OC)C...</td>\n",
       "      <td>8.1</td>\n",
       "      <td>6.432604</td>\n",
       "    </tr>\n",
       "    <tr>\n",
       "      <th>198</th>\n",
       "      <td>Cc1nc2ccccc2nc1N1CC2CN(C(=O)c3ccccc3-c3nc[nH]n...</td>\n",
       "      <td>9.4</td>\n",
       "      <td>9.332554</td>\n",
       "    </tr>\n",
       "    <tr>\n",
       "      <th>199</th>\n",
       "      <td>CC1COc2ccccc2N1C(=O)c1cscn1</td>\n",
       "      <td>8.0</td>\n",
       "      <td>6.710202</td>\n",
       "    </tr>\n",
       "  </tbody>\n",
       "</table>\n",
       "<p>200 rows × 3 columns</p>\n",
       "</div>"
      ],
      "text/plain": [
       "                                                smiles  value     preds\n",
       "0       O=C(Nc1ccc(F)cc1)C(c1ccccc1)N1CCN(c2ccncc2)CC1    9.2  8.158996\n",
       "1    CN1CCN(c2ccc(N=c3c4c([nH]c5cc(Cl)ccc35)CCCC4)c...   10.1  9.295930\n",
       "2      Cc1ccccc1C(CC(=O)O)NC(=O)c1cccc(-c2ccc(F)cc2)n1    9.9  9.095927\n",
       "3    N=c1ncc(-c2nc(N3CCOCC3)nc3c2CCN3C2CCN(C=O)C2)c...    9.6  9.261389\n",
       "4    CC1Cc2c([nH]c3ccc(F)cc23)C2(CCC(c3ccccc3)(N(C)...    9.0  7.448316\n",
       "..                                                 ...    ...       ...\n",
       "195  COC(=O)NC(C(=O)NC(Cc1ccccc1)C(O)CN(OC1CCCC1)S(...    8.0  7.346327\n",
       "196      Cc1cc2c(cc1Cl)SC(C(=O)c1ccc(Br)cc1)=NS2(=O)=O    9.2  8.566776\n",
       "197  COc1ccc(C(=O)OC(C=C(C)C)CC(C)C2CCC3(C)C4C(OC)C...    8.1  6.432604\n",
       "198  Cc1nc2ccccc2nc1N1CC2CN(C(=O)c3ccccc3-c3nc[nH]n...    9.4  9.332554\n",
       "199                        CC1COc2ccccc2N1C(=O)c1cscn1    8.0  6.710202\n",
       "\n",
       "[200 rows x 3 columns]"
      ]
     },
     "execution_count": 20,
     "metadata": {},
     "output_type": "execute_result"
    }
   ],
   "source": [
    "import numpy as np\n",
    "test_preds = np.concatenate(test_preds, axis=0)\n",
    "df_test['preds'] = test_preds\n",
    "df_test"
   ]
  },
  {
   "cell_type": "code",
   "execution_count": 21,
   "id": "b0169d21-4390-4812-ad6d-8e489c3bfddf",
   "metadata": {},
   "outputs": [
    {
     "name": "stdout",
     "output_type": "stream",
     "text": [
      "R² Score: 0.5446\n",
      "MSE: 0.6169\n"
     ]
    }
   ],
   "source": [
    "from sklearn.metrics import r2_score, mean_squared_error\n",
    "\n",
    "# Get true values (ground truth) and predictions\n",
    "y_true = df_test['value'].values  # True target values\n",
    "y_pred = df_test['preds'].values  # Predicted values\n",
    "\n",
    "# Calculate metrics\n",
    "r2 = r2_score(y_true, y_pred)\n",
    "mse = mean_squared_error(y_true, y_pred)\n",
    "\n",
    "print(f\"R² Score: {r2:.4f}\")\n",
    "print(f\"MSE: {mse:.4f}\")"
   ]
  },
  {
   "cell_type": "code",
   "execution_count": null,
   "id": "3de73bcf-ab98-4b62-a767-33f347950575",
   "metadata": {},
   "outputs": [],
   "source": []
  },
  {
   "cell_type": "code",
   "execution_count": null,
   "id": "02182757-35e6-4af4-95cb-5dfc58ce8afc",
   "metadata": {},
   "outputs": [],
   "source": []
  }
 ],
 "metadata": {
  "kernelspec": {
   "display_name": "Python 3 (ipykernel)",
   "language": "python",
   "name": "python3"
  },
  "language_info": {
   "codemirror_mode": {
    "name": "ipython",
    "version": 3
   },
   "file_extension": ".py",
   "mimetype": "text/x-python",
   "name": "python",
   "nbconvert_exporter": "python",
   "pygments_lexer": "ipython3",
   "version": "3.11.8"
  }
 },
 "nbformat": 4,
 "nbformat_minor": 5
}
