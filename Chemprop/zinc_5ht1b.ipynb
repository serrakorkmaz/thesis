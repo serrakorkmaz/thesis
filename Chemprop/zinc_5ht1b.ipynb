{
 "cells": [
  {
   "cell_type": "code",
   "execution_count": 1,
   "id": "6192b6bb-dd6f-43c8-9752-05f9de1700b4",
   "metadata": {},
   "outputs": [
    {
     "name": "stderr",
     "output_type": "stream",
     "text": [
      "/home/aih/serra.korkmaz/miniconda3/envs/saturn/lib/python3.11/site-packages/tqdm/auto.py:21: TqdmWarning: IProgress not found. Please update jupyter and ipywidgets. See https://ipywidgets.readthedocs.io/en/stable/user_install.html\n",
      "  from .autonotebook import tqdm as notebook_tqdm\n",
      "2025-03-12 00:18:14,722\tINFO util.py:154 -- Missing packages: ['ipywidgets']. Run `pip install -U ipywidgets`, then restart the notebook server for rich notebook output.\n",
      "2025-03-12 00:18:15,460\tINFO util.py:154 -- Missing packages: ['ipywidgets']. Run `pip install -U ipywidgets`, then restart the notebook server for rich notebook output.\n",
      "2025-03-12 00:18:16,578\tINFO util.py:154 -- Missing packages: ['ipywidgets']. Run `pip install -U ipywidgets`, then restart the notebook server for rich notebook output.\n"
     ]
    }
   ],
   "source": [
    "from pathlib import Path\n",
    "\n",
    "import pandas as pd\n",
    "from lightning import pytorch as pl\n",
    "import ray\n",
    "from ray import tune\n",
    "from ray.train import CheckpointConfig, RunConfig, ScalingConfig\n",
    "from ray.train.lightning import (RayDDPStrategy, RayLightningEnvironment,\n",
    "                                 RayTrainReportCallback, prepare_trainer)\n",
    "from ray.train.torch import TorchTrainer\n",
    "from ray.tune.search.hyperopt import HyperOptSearch\n",
    "from ray.tune.search.optuna import OptunaSearch\n",
    "from ray.tune.schedulers import FIFOScheduler\n",
    "\n",
    "from chemprop import data, featurizers, models, nn"
   ]
  },
  {
   "cell_type": "code",
   "execution_count": 2,
   "id": "afed6433-23c1-499c-9c56-03c725f26577",
   "metadata": {},
   "outputs": [],
   "source": [
    "chemprop_dir = Path.cwd().parent\n",
    "train_path = \"train_data_5ht1b.csv\"\n",
    "test_path = \"test_data_5ht1b.csv\"\n",
    "num_workers = 0 # number of workers for dataloader. 0 means using main process for data loading\n",
    "smiles_column = 'smiles' # name of the column containing SMILES strings\n",
    "target_columns = ['value'] # list of names of the columns containing targets\n",
    "\n",
    "hpopt_save_dir = Path.cwd() / \"hpopt_5ht1b_zinc\" # directory to save hyperopt results\n",
    "hpopt_save_dir.mkdir(exist_ok=True)"
   ]
  },
  {
   "cell_type": "code",
   "execution_count": 3,
   "id": "79b9963b-a4e2-4cd8-b122-d379814088b9",
   "metadata": {},
   "outputs": [],
   "source": [
    "df_train = pd.read_csv(train_path)\n",
    "df_test = pd.read_csv(test_path)"
   ]
  },
  {
   "cell_type": "code",
   "execution_count": 4,
   "id": "2c1c3921-b3da-4341-8140-74cf0ecafad7",
   "metadata": {},
   "outputs": [],
   "source": [
    "# Extract SMILES and target values\n",
    "train_smis = df_train[smiles_column].values\n",
    "train_ys = df_train[target_columns].values\n",
    "\n",
    "test_smis = df_test[smiles_column].values\n",
    "test_ys = df_test[target_columns].values\n",
    "\n",
    "# Convert data to MoleculeDatapoint format\n",
    "train_data = [data.MoleculeDatapoint.from_smi(smi, y) for smi, y in zip(train_smis, train_ys)]\n",
    "test_data = [data.MoleculeDatapoint.from_smi(smi, y) for smi, y in zip(test_smis, test_ys)]\n"
   ]
  },
  {
   "cell_type": "code",
   "execution_count": 5,
   "id": "bbc5e27a-cfbc-4181-89d3-83b27785fcf8",
   "metadata": {},
   "outputs": [],
   "source": [
    "# Initialize featurizer\n",
    "featurizer = featurizers.SimpleMoleculeMolGraphFeaturizer()\n",
    "\n",
    "# Create training dataset\n",
    "train_dset = data.MoleculeDataset(train_data, featurizer)\n",
    "scaler = train_dset.normalize_targets()\n",
    "\n",
    "# Split validation set from training data (80% train, 20% validation)\n",
    "split_idx = int(len(train_data) * 0.8)\n",
    "val_data = train_data[split_idx:]\n",
    "train_data = train_data[:split_idx]\n",
    "\n",
    "# Create validation and test datasets\n",
    "val_dset = data.MoleculeDataset(val_data, featurizer)\n",
    "val_dset.normalize_targets(scaler)\n",
    "\n",
    "test_dset = data.MoleculeDataset(test_data, featurizer)"
   ]
  },
  {
   "cell_type": "code",
   "execution_count": 6,
   "id": "c0571af4-13e8-4c32-add1-bc9dd10df31e",
   "metadata": {},
   "outputs": [],
   "source": [
    "def train_model(config, train_dset, val_dset, num_workers, scaler):\n",
    "\n",
    "    # config is a dictionary containing hyperparameters used for the trial\n",
    "    depth = int(config[\"depth\"])\n",
    "    ffn_hidden_dim = int(config[\"ffn_hidden_dim\"])\n",
    "    ffn_num_layers = int(config[\"ffn_num_layers\"])\n",
    "    message_hidden_dim = int(config[\"message_hidden_dim\"])\n",
    "\n",
    "    train_loader = data.build_dataloader(train_dset, num_workers=num_workers, shuffle=True)\n",
    "    val_loader = data.build_dataloader(val_dset, num_workers=num_workers, shuffle=False)\n",
    "\n",
    "    mp = nn.BondMessagePassing(d_h=message_hidden_dim, depth=depth)\n",
    "    agg = nn.MeanAggregation()\n",
    "    output_transform = nn.UnscaleTransform.from_standard_scaler(scaler)\n",
    "    ffn = nn.RegressionFFN(output_transform=output_transform, input_dim=message_hidden_dim, hidden_dim=ffn_hidden_dim, n_layers=ffn_num_layers)\n",
    "    batch_norm = True\n",
    "    metric_list = [nn.metrics.RMSE(), nn.metrics.MAE()]\n",
    "    model = models.MPNN(mp, agg, ffn, batch_norm, metric_list)\n",
    "\n",
    "    trainer = pl.Trainer(\n",
    "        accelerator=\"auto\",\n",
    "        devices=1,\n",
    "        max_epochs=20, # number of epochs to train for\n",
    "        # below are needed for Ray and Lightning integration\n",
    "        strategy=RayDDPStrategy(),\n",
    "        callbacks=[RayTrainReportCallback()],\n",
    "        plugins=[RayLightningEnvironment()],\n",
    "    )\n",
    "\n",
    "    trainer = prepare_trainer(trainer)\n",
    "    trainer.fit(model, train_loader, val_loader)"
   ]
  },
  {
   "cell_type": "code",
   "execution_count": 7,
   "id": "00dc82d6-6d1d-489c-802a-ae0a223867dc",
   "metadata": {},
   "outputs": [],
   "source": [
    "search_space = {\n",
    "    \"depth\": tune.qrandint(lower=2, upper=6, q=1),\n",
    "    \"ffn_hidden_dim\": tune.qrandint(lower=300, upper=2400, q=100),\n",
    "    \"ffn_num_layers\": tune.qrandint(lower=1, upper=3, q=1),\n",
    "    \"message_hidden_dim\": tune.qrandint(lower=300, upper=2400, q=100),\n",
    "}"
   ]
  },
  {
   "cell_type": "code",
   "execution_count": 8,
   "id": "c406b1c1-394a-43f0-be69-3fe9b9d593a4",
   "metadata": {},
   "outputs": [
    {
     "data": {
      "text/html": [
       "<div class=\"tuneStatus\">\n",
       "  <div style=\"display: flex;flex-direction: row\">\n",
       "    <div style=\"display: flex;flex-direction: column;\">\n",
       "      <h3>Tune Status</h3>\n",
       "      <table>\n",
       "<tbody>\n",
       "<tr><td>Current time:</td><td>2025-03-12 00:23:49</td></tr>\n",
       "<tr><td>Running for: </td><td>00:04:22.43        </td></tr>\n",
       "<tr><td>Memory:      </td><td>58.6/755.0 GiB     </td></tr>\n",
       "</tbody>\n",
       "</table>\n",
       "    </div>\n",
       "    <div class=\"vDivider\"></div>\n",
       "    <div class=\"systemInfo\">\n",
       "      <h3>System Info</h3>\n",
       "      Using FIFO scheduling algorithm.<br>Logical resource usage: 2.0/96 CPUs, 0/0 GPUs\n",
       "    </div>\n",
       "    \n",
       "  </div>\n",
       "  <div class=\"hDivider\"></div>\n",
       "  <div class=\"trialStatus\">\n",
       "    <h3>Trial Status</h3>\n",
       "    <table>\n",
       "<thead>\n",
       "<tr><th>Trial name           </th><th>status    </th><th>loc                </th><th style=\"text-align: right;\">  train_loop_config/de\n",
       "pth</th><th style=\"text-align: right;\">     train_loop_config/ff\n",
       "n_hidden_dim</th><th style=\"text-align: right;\">  train_loop_config/ff\n",
       "n_num_layers</th><th style=\"text-align: right;\">    train_loop_config/me\n",
       "ssage_hidden_dim</th><th style=\"text-align: right;\">  iter</th><th style=\"text-align: right;\">  total time (s)</th><th style=\"text-align: right;\">  train_loss</th><th style=\"text-align: right;\">  train_loss_step</th><th style=\"text-align: right;\">  val/rmse</th></tr>\n",
       "</thead>\n",
       "<tbody>\n",
       "<tr><td>TorchTrainer_6f0157cc</td><td>TERMINATED</td><td>10.233.0.55:2724912</td><td style=\"text-align: right;\">2</td><td style=\"text-align: right;\">2000</td><td style=\"text-align: right;\">2</td><td style=\"text-align: right;\">500</td><td style=\"text-align: right;\">    20</td><td style=\"text-align: right;\">         250.919</td><td style=\"text-align: right;\">    0.43881 </td><td style=\"text-align: right;\">         0.376247</td><td style=\"text-align: right;\">  0.616044</td></tr>\n",
       "<tr><td>TorchTrainer_6ccfe64d</td><td>TERMINATED</td><td>10.233.0.55:2725149</td><td style=\"text-align: right;\">2</td><td style=\"text-align: right;\">2200</td><td style=\"text-align: right;\">2</td><td style=\"text-align: right;\">400</td><td style=\"text-align: right;\">    20</td><td style=\"text-align: right;\">         225.523</td><td style=\"text-align: right;\">    0.352592</td><td style=\"text-align: right;\">         0.305612</td><td style=\"text-align: right;\">  0.538872</td></tr>\n",
       "</tbody>\n",
       "</table>\n",
       "  </div>\n",
       "</div>\n",
       "<style>\n",
       ".tuneStatus {\n",
       "  color: var(--jp-ui-font-color1);\n",
       "}\n",
       ".tuneStatus .systemInfo {\n",
       "  display: flex;\n",
       "  flex-direction: column;\n",
       "}\n",
       ".tuneStatus td {\n",
       "  white-space: nowrap;\n",
       "}\n",
       ".tuneStatus .trialStatus {\n",
       "  display: flex;\n",
       "  flex-direction: column;\n",
       "}\n",
       ".tuneStatus h3 {\n",
       "  font-weight: bold;\n",
       "}\n",
       ".tuneStatus .hDivider {\n",
       "  border-bottom-width: var(--jp-border-width);\n",
       "  border-bottom-color: var(--jp-border-color0);\n",
       "  border-bottom-style: solid;\n",
       "}\n",
       ".tuneStatus .vDivider {\n",
       "  border-left-width: var(--jp-border-width);\n",
       "  border-left-color: var(--jp-border-color0);\n",
       "  border-left-style: solid;\n",
       "  margin: 0.5em 1em 0.5em 1em;\n",
       "}\n",
       "</style>\n"
      ],
      "text/plain": [
       "<IPython.core.display.HTML object>"
      ]
     },
     "metadata": {},
     "output_type": "display_data"
    },
    {
     "name": "stderr",
     "output_type": "stream",
     "text": [
      "\u001b[36m(TorchTrainer pid=2724912)\u001b[0m Started distributed worker processes: \n",
      "\u001b[36m(TorchTrainer pid=2724912)\u001b[0m - (node_id=0194c22a06ea2b7a23c8f0f411a980ab368c58c49aab1c08f33a3da5, ip=10.233.0.55, pid=2725150) world_rank=0, local_rank=0, node_rank=0\n",
      "\u001b[36m(RayTrainWorker pid=2725150)\u001b[0m Setting up process group for: env:// [rank=0, world_size=1]\n",
      "\u001b[36m(RayTrainWorker pid=2725150)\u001b[0m /home/aih/serra.korkmaz/miniconda3/envs/saturn/lib/python3.11/site-packages/ray/train/lightning/_lightning_utils.py:262: This API is deprecated and may be removed in future Ray releases. You could suppress this warning by setting env variable PYTHONWARNINGS=\"ignore::DeprecationWarning\"\n",
      "\u001b[36m(RayTrainWorker pid=2725150)\u001b[0m `get_trial_name` is deprecated because the concept of a `Trial` will soon be removed in Ray Train.Ray Train will no longer assume that it's running within a Ray Tune `Trial` in the future. See this issue for more context and migration options: https://github.com/ray-project/ray/issues/49454. Disable these warnings by setting the environment variable: RAY_TRAIN_ENABLE_V2_MIGRATION_WARNINGS=0\n",
      "\u001b[36m(RayTrainWorker pid=2725150)\u001b[0m GPU available: False, used: False\n",
      "\u001b[36m(RayTrainWorker pid=2725150)\u001b[0m TPU available: False, using: 0 TPU cores\n",
      "\u001b[36m(RayTrainWorker pid=2725150)\u001b[0m HPU available: False, using: 0 HPUs\n",
      "\u001b[36m(RayTrainWorker pid=2725150)\u001b[0m Loading `train_dataloader` to estimate number of stepping batches.\n",
      "\u001b[36m(RayTrainWorker pid=2725150)\u001b[0m /home/aih/serra.korkmaz/miniconda3/envs/saturn/lib/python3.11/site-packages/lightning/pytorch/trainer/connectors/data_connector.py:425: The 'train_dataloader' does not have many workers which may be a bottleneck. Consider increasing the value of the `num_workers` argument` to `num_workers=3` in the `DataLoader` to improve performance.\n",
      "\u001b[36m(RayTrainWorker pid=2725150)\u001b[0m /home/aih/serra.korkmaz/miniconda3/envs/saturn/lib/python3.11/site-packages/lightning/pytorch/loops/fit_loop.py:310: The number of training batches (28) is smaller than the logging interval Trainer(log_every_n_steps=50). Set a lower value for log_every_n_steps if you want to see logs for the training epoch.\n",
      "\u001b[36m(RayTrainWorker pid=2725150)\u001b[0m \n",
      "\u001b[36m(RayTrainWorker pid=2725150)\u001b[0m   | Name            | Type               | Params | Mode \n",
      "\u001b[36m(RayTrainWorker pid=2725150)\u001b[0m ---------------------------------------------------------------\n",
      "\u001b[36m(RayTrainWorker pid=2725150)\u001b[0m 0 | message_passing | BondMessagePassing | 579 K  | train\n",
      "\u001b[36m(RayTrainWorker pid=2725150)\u001b[0m 1 | agg             | MeanAggregation    | 0      | train\n",
      "\u001b[36m(RayTrainWorker pid=2725150)\u001b[0m 2 | bn              | BatchNorm1d        | 1.0 K  | train\n",
      "\u001b[36m(RayTrainWorker pid=2725150)\u001b[0m 3 | predictor       | RegressionFFN      | 5.0 M  | train\n",
      "\u001b[36m(RayTrainWorker pid=2725150)\u001b[0m 4 | X_d_transform   | Identity           | 0      | train\n",
      "\u001b[36m(RayTrainWorker pid=2725150)\u001b[0m 5 | metrics         | ModuleList         | 0      | train\n",
      "\u001b[36m(RayTrainWorker pid=2725150)\u001b[0m ---------------------------------------------------------------\n",
      "\u001b[36m(RayTrainWorker pid=2725150)\u001b[0m 5.6 M     Trainable params\n",
      "\u001b[36m(RayTrainWorker pid=2725150)\u001b[0m 0         Non-trainable params\n",
      "\u001b[36m(RayTrainWorker pid=2725150)\u001b[0m 5.6 M     Total params\n",
      "\u001b[36m(RayTrainWorker pid=2725150)\u001b[0m 22.346    Total estimated model params size (MB)\n",
      "\u001b[36m(RayTrainWorker pid=2725150)\u001b[0m 27        Modules in train mode\n",
      "\u001b[36m(RayTrainWorker pid=2725150)\u001b[0m 0         Modules in eval mode\n"
     ]
    },
    {
     "name": "stdout",
     "output_type": "stream",
     "text": [
      "Sanity Checking DataLoader 0:   0%|          | 0/2 [00:00<?, ?it/s]\n"
     ]
    },
    {
     "name": "stderr",
     "output_type": "stream",
     "text": [
      "\u001b[36m(RayTrainWorker pid=2725150)\u001b[0m /home/aih/serra.korkmaz/miniconda3/envs/saturn/lib/python3.11/site-packages/lightning/pytorch/core/saving.py:363: Skipping 'metrics' parameter because it is not possible to safely dump to YAML.\n",
      "\u001b[36m(RayTrainWorker pid=2725150)\u001b[0m /home/aih/serra.korkmaz/miniconda3/envs/saturn/lib/python3.11/site-packages/lightning/pytorch/trainer/connectors/data_connector.py:425: The 'val_dataloader' does not have many workers which may be a bottleneck. Consider increasing the value of the `num_workers` argument` to `num_workers=3` in the `DataLoader` to improve performance.\n"
     ]
    },
    {
     "name": "stdout",
     "output_type": "stream",
     "text": [
      "Sanity Checking DataLoader 0:  50%|█████     | 1/2 [00:00<00:00,  2.91it/s]\n",
      "Training: |          | 0/? [00:00<?, ?it/s]                                \n",
      "Epoch 0:   0%|          | 0/28 [00:00<?, ?it/s] \n",
      "Epoch 0:   4%|▎         | 1/28 [00:00<00:11,  2.38it/s, v_num=3.41e+7, train_loss_step=0.999]\n",
      "Epoch 0:   7%|▋         | 2/28 [00:00<00:09,  2.62it/s, v_num=3.41e+7, train_loss_step=0.720]\n",
      "Epoch 0:  11%|█         | 3/28 [00:01<00:09,  2.63it/s, v_num=3.41e+7, train_loss_step=0.837]\n",
      "Epoch 0:  14%|█▍        | 4/28 [00:01<00:08,  2.71it/s, v_num=3.41e+7, train_loss_step=0.980]\n",
      "Epoch 0:  18%|█▊        | 5/28 [00:01<00:08,  2.73it/s, v_num=3.41e+7, train_loss_step=0.763]\n",
      "Epoch 0:  21%|██▏       | 6/28 [00:02<00:08,  2.73it/s, v_num=3.41e+7, train_loss_step=0.773]\n",
      "Epoch 0:  25%|██▌       | 7/28 [00:02<00:07,  2.72it/s, v_num=3.41e+7, train_loss_step=0.738]\n",
      "Epoch 0:  29%|██▊       | 8/28 [00:02<00:07,  2.74it/s, v_num=3.41e+7, train_loss_step=1.010]\n",
      "Epoch 0:  32%|███▏      | 9/28 [00:03<00:06,  2.75it/s, v_num=3.41e+7, train_loss_step=0.768]\n",
      "Epoch 0:  36%|███▌      | 10/28 [00:03<00:06,  2.78it/s, v_num=3.41e+7, train_loss_step=0.734]\n",
      "Epoch 0:  39%|███▉      | 11/28 [00:03<00:06,  2.77it/s, v_num=3.41e+7, train_loss_step=1.000]\n",
      "Epoch 0:  43%|████▎     | 12/28 [00:04<00:05,  2.78it/s, v_num=3.41e+7, train_loss_step=0.797]\n",
      "Epoch 0:  46%|████▋     | 13/28 [00:04<00:05,  2.79it/s, v_num=3.41e+7, train_loss_step=0.824]\n",
      "Epoch 0:  50%|█████     | 14/28 [00:04<00:04,  2.82it/s, v_num=3.41e+7, train_loss_step=0.502]\n",
      "Epoch 0:  54%|█████▎    | 15/28 [00:05<00:04,  2.83it/s, v_num=3.41e+7, train_loss_step=0.683]\n",
      "Epoch 0:  57%|█████▋    | 16/28 [00:05<00:04,  2.85it/s, v_num=3.41e+7, train_loss_step=0.813]\n",
      "Epoch 0:  61%|██████    | 17/28 [00:05<00:03,  2.87it/s, v_num=3.41e+7, train_loss_step=0.614]\n",
      "Epoch 0:  64%|██████▍   | 18/28 [00:06<00:03,  2.88it/s, v_num=3.41e+7, train_loss_step=0.872]\n"
     ]
    },
    {
     "name": "stderr",
     "output_type": "stream",
     "text": [
      "\u001b[36m(TorchTrainer pid=2725149)\u001b[0m Started distributed worker processes: \n",
      "\u001b[36m(TorchTrainer pid=2725149)\u001b[0m - (node_id=0194c22a06ea2b7a23c8f0f411a980ab368c58c49aab1c08f33a3da5, ip=10.233.0.55, pid=2725548) world_rank=0, local_rank=0, node_rank=0\n",
      "\u001b[36m(RayTrainWorker pid=2725548)\u001b[0m Setting up process group for: env:// [rank=0, world_size=1]\n"
     ]
    },
    {
     "name": "stdout",
     "output_type": "stream",
     "text": [
      "Epoch 0:  68%|██████▊   | 19/28 [00:06<00:03,  2.89it/s, v_num=3.41e+7, train_loss_step=0.596]\n",
      "Epoch 0:  71%|███████▏  | 20/28 [00:06<00:02,  2.89it/s, v_num=3.41e+7, train_loss_step=0.883]\n",
      "Epoch 0:  75%|███████▌  | 21/28 [00:07<00:02,  2.89it/s, v_num=3.41e+7, train_loss_step=0.782]\n",
      "Epoch 0:  79%|███████▊  | 22/28 [00:07<00:02,  2.89it/s, v_num=3.41e+7, train_loss_step=0.514]\n",
      "Epoch 0:  82%|████████▏ | 23/28 [00:07<00:01,  2.89it/s, v_num=3.41e+7, train_loss_step=0.512]\n",
      "Epoch 0:  86%|████████▌ | 24/28 [00:08<00:01,  2.89it/s, v_num=3.41e+7, train_loss_step=0.975]\n",
      "Epoch 0:  89%|████████▉ | 25/28 [00:08<00:01,  2.90it/s, v_num=3.41e+7, train_loss_step=0.704]\n",
      "Epoch 0:  93%|█████████▎| 26/28 [00:08<00:00,  2.90it/s, v_num=3.41e+7, train_loss_step=0.807]\n",
      "Epoch 0:  96%|█████████▋| 27/28 [00:09<00:00,  2.90it/s, v_num=3.41e+7, train_loss_step=0.717]\n",
      "Epoch 0: 100%|██████████| 28/28 [00:09<00:00,  2.92it/s, v_num=3.41e+7, train_loss_step=0.682]\n",
      "Validation: |          | 0/? [00:00<?, ?it/s]\u001b[A\n",
      "Validation:   0%|          | 0/6 [00:00<?, ?it/s]\u001b[A\n",
      "Validation DataLoader 0:   0%|          | 0/6 [00:00<?, ?it/s]\u001b[A\n",
      "\u001b[36m(RayTrainWorker pid=2725150)\u001b[0m \n",
      "Validation DataLoader 0:  17%|█▋        | 1/6 [00:00<00:01,  4.63it/s]\u001b[A\n",
      "\u001b[36m(RayTrainWorker pid=2725150)\u001b[0m \n",
      "Validation DataLoader 0:  33%|███▎      | 2/6 [00:00<00:00,  4.09it/s]\u001b[A\n",
      "\u001b[36m(RayTrainWorker pid=2725150)\u001b[0m \n",
      "Validation DataLoader 0:  50%|█████     | 3/6 [00:00<00:00,  4.09it/s]\u001b[A\n",
      "\u001b[36m(RayTrainWorker pid=2725150)\u001b[0m \n",
      "Validation DataLoader 0:  67%|██████▋   | 4/6 [00:00<00:00,  4.02it/s]\u001b[A\n",
      "Sanity Checking: |          | 0/? [00:00<?, ?it/s]\n"
     ]
    },
    {
     "name": "stderr",
     "output_type": "stream",
     "text": [
      "\u001b[36m(RayTrainWorker pid=2725548)\u001b[0m /home/aih/serra.korkmaz/miniconda3/envs/saturn/lib/python3.11/site-packages/ray/train/lightning/_lightning_utils.py:262: This API is deprecated and may be removed in future Ray releases. You could suppress this warning by setting env variable PYTHONWARNINGS=\"ignore::DeprecationWarning\"\n",
      "\u001b[36m(RayTrainWorker pid=2725548)\u001b[0m `get_trial_name` is deprecated because the concept of a `Trial` will soon be removed in Ray Train.Ray Train will no longer assume that it's running within a Ray Tune `Trial` in the future. See this issue for more context and migration options: https://github.com/ray-project/ray/issues/49454. Disable these warnings by setting the environment variable: RAY_TRAIN_ENABLE_V2_MIGRATION_WARNINGS=0\n",
      "\u001b[36m(RayTrainWorker pid=2725548)\u001b[0m GPU available: False, used: False\n",
      "\u001b[36m(RayTrainWorker pid=2725548)\u001b[0m TPU available: False, using: 0 TPU cores\n",
      "\u001b[36m(RayTrainWorker pid=2725548)\u001b[0m HPU available: False, using: 0 HPUs\n",
      "\u001b[36m(RayTrainWorker pid=2725548)\u001b[0m Loading `train_dataloader` to estimate number of stepping batches.\n",
      "\u001b[36m(RayTrainWorker pid=2725548)\u001b[0m /home/aih/serra.korkmaz/miniconda3/envs/saturn/lib/python3.11/site-packages/lightning/pytorch/trainer/connectors/data_connector.py:425: The 'train_dataloader' does not have many workers which may be a bottleneck. Consider increasing the value of the `num_workers` argument` to `num_workers=3` in the `DataLoader` to improve performance.\n",
      "\u001b[36m(RayTrainWorker pid=2725548)\u001b[0m /home/aih/serra.korkmaz/miniconda3/envs/saturn/lib/python3.11/site-packages/lightning/pytorch/loops/fit_loop.py:310: The number of training batches (28) is smaller than the logging interval Trainer(log_every_n_steps=50). Set a lower value for log_every_n_steps if you want to see logs for the training epoch.\n",
      "\u001b[36m(RayTrainWorker pid=2725548)\u001b[0m \n",
      "\u001b[36m(RayTrainWorker pid=2725548)\u001b[0m   | Name            | Type               | Params | Mode \n",
      "\u001b[36m(RayTrainWorker pid=2725548)\u001b[0m ---------------------------------------------------------------\n",
      "\u001b[36m(RayTrainWorker pid=2725548)\u001b[0m 0 | message_passing | BondMessagePassing | 383 K  | train\n",
      "\u001b[36m(RayTrainWorker pid=2725548)\u001b[0m 1 | agg             | MeanAggregation    | 0      | train\n",
      "\u001b[36m(RayTrainWorker pid=2725548)\u001b[0m 2 | bn              | BatchNorm1d        | 800    | train\n",
      "\u001b[36m(RayTrainWorker pid=2725548)\u001b[0m 3 | predictor       | RegressionFFN      | 5.7 M  | train\n",
      "\u001b[36m(RayTrainWorker pid=2725548)\u001b[0m 4 | X_d_transform   | Identity           | 0      | train\n",
      "\u001b[36m(RayTrainWorker pid=2725548)\u001b[0m 5 | metrics         | ModuleList         | 0      | train\n",
      "\u001b[36m(RayTrainWorker pid=2725548)\u001b[0m ---------------------------------------------------------------\n",
      "\u001b[36m(RayTrainWorker pid=2725548)\u001b[0m 6.1 M     Trainable params\n",
      "\u001b[36m(RayTrainWorker pid=2725548)\u001b[0m 0         Non-trainable params\n",
      "\u001b[36m(RayTrainWorker pid=2725548)\u001b[0m 6.1 M     Total params\n",
      "\u001b[36m(RayTrainWorker pid=2725548)\u001b[0m 24.444    Total estimated model params size (MB)\n",
      "\u001b[36m(RayTrainWorker pid=2725548)\u001b[0m 27        Modules in train mode\n",
      "\u001b[36m(RayTrainWorker pid=2725548)\u001b[0m 0         Modules in eval mode\n",
      "\u001b[36m(RayTrainWorker pid=2725548)\u001b[0m /home/aih/serra.korkmaz/miniconda3/envs/saturn/lib/python3.11/site-packages/lightning/pytorch/core/saving.py:363: Skipping 'metrics' parameter because it is not possible to safely dump to YAML.\n",
      "\u001b[36m(RayTrainWorker pid=2725548)\u001b[0m /home/aih/serra.korkmaz/miniconda3/envs/saturn/lib/python3.11/site-packages/lightning/pytorch/trainer/connectors/data_connector.py:425: The 'val_dataloader' does not have many workers which may be a bottleneck. Consider increasing the value of the `num_workers` argument` to `num_workers=3` in the `DataLoader` to improve performance.\n"
     ]
    },
    {
     "name": "stdout",
     "output_type": "stream",
     "text": [
      "\u001b[36m(RayTrainWorker pid=2725150)\u001b[0m \n",
      "Validation DataLoader 0:  83%|████████▎ | 5/6 [00:01<00:00,  3.97it/s]\u001b[A\n",
      "Sanity Checking DataLoader 0:   0%|          | 0/2 [00:00<?, ?it/s]\n",
      "\u001b[36m(RayTrainWorker pid=2725150)\u001b[0m \n",
      "Validation DataLoader 0: 100%|██████████| 6/6 [00:01<00:00,  4.24it/s]\u001b[A\n",
      "Epoch 0: 100%|██████████| 28/28 [00:11<00:00,  2.53it/s, v_num=3.41e+7, train_loss_step=0.682, val_loss=0.841]\n",
      "Sanity Checking DataLoader 0:  50%|█████     | 1/2 [00:00<00:00,  4.75it/s]\n"
     ]
    },
    {
     "name": "stderr",
     "output_type": "stream",
     "text": [
      "\u001b[36m(RayTrainWorker pid=2725150)\u001b[0m Checkpoint successfully created at: Checkpoint(filesystem=local, path=/ictstr01/home/aih/serra.korkmaz/projects/saturn/hopt/hpopt_5ht1b_zinc/ray_results/TorchTrainer_2025-03-12_00-19-26/6f0157cc/checkpoint_000000)\n",
      "2025-03-12 00:19:58,693\tWARNING experiment_state.py:206 -- Experiment state snapshotting has been triggered multiple times in the last 5.0 seconds and may become a bottleneck. A snapshot is forced if `CheckpointConfig(num_to_keep)` is set, and a trial has checkpointed >= `num_to_keep` times since the last snapshot.\n",
      "You may want to consider increasing the `CheckpointConfig(num_to_keep)` or decreasing the frequency of saving checkpoints.\n",
      "You can suppress this warning by setting the environment variable TUNE_WARN_EXCESSIVE_EXPERIMENT_CHECKPOINT_SYNC_THRESHOLD_S to a smaller value than the current threshold (5.0). Set it to 0 to completely suppress this warning.\n"
     ]
    },
    {
     "name": "stdout",
     "output_type": "stream",
     "text": [
      "Epoch 0: 100%|██████████| 28/28 [00:11<00:00,  2.48it/s, v_num=3.41e+7, train_loss_step=0.682, val_loss=0.841, train_loss_epoch=0.772]\n",
      "Epoch 0:   0%|          | 0/28 [00:00<?, ?it/s]                            \n",
      "Epoch 1:   0%|          | 0/28 [00:00<?, ?it/s, v_num=3.41e+7, train_loss_step=0.682, val_loss=0.841, train_loss_epoch=0.772]         \n",
      "Epoch 0:   4%|▎         | 1/28 [00:00<00:10,  2.68it/s, v_num=3.41e+7, train_loss_step=0.988]\n",
      "Epoch 0:  57%|█████▋    | 16/28 [00:05<00:04,  2.97it/s, v_num=3.41e+7, train_loss_step=0.813]\u001b[32m [repeated 28x across cluster] (Ray deduplicates logs by default. Set RAY_DEDUP_LOGS=0 to disable log deduplication, or see https://docs.ray.io/en/master/ray-observability/user-guides/configure-logging.html#log-deduplication for more options.)\u001b[0m\n",
      "Epoch 0:  93%|█████████▎| 26/28 [00:08<00:00,  3.02it/s, v_num=3.41e+7, train_loss_step=0.788]\n",
      "Epoch 0:  96%|█████████▋| 27/28 [00:08<00:00,  3.02it/s, v_num=3.41e+7, train_loss_step=0.637]\n",
      "Epoch 0: 100%|██████████| 28/28 [00:09<00:00,  3.04it/s, v_num=3.41e+7, train_loss_step=0.623]\n",
      "\u001b[36m(RayTrainWorker pid=2725548)\u001b[0m \n",
      "Validation: |          | 0/? [00:00<?, ?it/s]\u001b[A\n",
      "\u001b[36m(RayTrainWorker pid=2725548)\u001b[0m \n",
      "Validation:   0%|          | 0/6 [00:00<?, ?it/s]\u001b[A\n",
      "Validation DataLoader 0:   0%|          | 0/6 [00:00<?, ?it/s]\u001b[A\n",
      "\u001b[36m(RayTrainWorker pid=2725548)\u001b[0m \n",
      "Validation DataLoader 0:  17%|█▋        | 1/6 [00:00<00:01,  4.77it/s]\u001b[A\n",
      "\u001b[36m(RayTrainWorker pid=2725548)\u001b[0m \n",
      "Validation DataLoader 0:  33%|███▎      | 2/6 [00:00<00:00,  4.18it/s]\u001b[A\n",
      "\u001b[36m(RayTrainWorker pid=2725548)\u001b[0m \n",
      "Validation DataLoader 0:  50%|█████     | 3/6 [00:00<00:00,  4.31it/s]\u001b[A\n",
      "\u001b[36m(RayTrainWorker pid=2725548)\u001b[0m \n",
      "Validation DataLoader 0:  67%|██████▋   | 4/6 [00:00<00:00,  4.41it/s]\u001b[A\n",
      "\u001b[36m(RayTrainWorker pid=2725548)\u001b[0m \n",
      "Validation DataLoader 0:  83%|████████▎ | 5/6 [00:01<00:00,  4.47it/s]\u001b[A\n",
      "Epoch 1:  89%|████████▉ | 25/28 [00:09<00:01,  2.58it/s, v_num=3.41e+7, train_loss_step=0.691, val_loss=0.841, train_loss_epoch=0.772]\u001b[32m [repeated 21x across cluster]\u001b[0m\n"
     ]
    },
    {
     "name": "stderr",
     "output_type": "stream",
     "text": [
      "2025-03-12 00:20:09,492\tWARNING experiment_state.py:206 -- Experiment state snapshotting has been triggered multiple times in the last 5.0 seconds and may become a bottleneck. A snapshot is forced if `CheckpointConfig(num_to_keep)` is set, and a trial has checkpointed >= `num_to_keep` times since the last snapshot.\n",
      "You may want to consider increasing the `CheckpointConfig(num_to_keep)` or decreasing the frequency of saving checkpoints.\n",
      "You can suppress this warning by setting the environment variable TUNE_WARN_EXCESSIVE_EXPERIMENT_CHECKPOINT_SYNC_THRESHOLD_S to a smaller value than the current threshold (5.0). Set it to 0 to completely suppress this warning.\n"
     ]
    },
    {
     "name": "stdout",
     "output_type": "stream",
     "text": [
      "\u001b[36m(RayTrainWorker pid=2725548)\u001b[0m \n",
      "Validation DataLoader 0: 100%|██████████| 6/6 [00:01<00:00,  4.76it/s]\u001b[A\n",
      "Epoch 0: 100%|██████████| 28/28 [00:10<00:00,  2.66it/s, v_num=3.41e+7, train_loss_step=0.623, val_loss=0.846]\n"
     ]
    },
    {
     "name": "stderr",
     "output_type": "stream",
     "text": [
      "\u001b[36m(RayTrainWorker pid=2725548)\u001b[0m Checkpoint successfully created at: Checkpoint(filesystem=local, path=/ictstr01/home/aih/serra.korkmaz/projects/saturn/hopt/hpopt_5ht1b_zinc/ray_results/TorchTrainer_2025-03-12_00-19-26/6ccfe64d/checkpoint_000000)\n"
     ]
    },
    {
     "name": "stdout",
     "output_type": "stream",
     "text": [
      "\u001b[36m(RayTrainWorker pid=2725150)\u001b[0m \n",
      "Epoch 0: 100%|██████████| 28/28 [00:10<00:00,  2.60it/s, v_num=3.41e+7, train_loss_step=0.623, val_loss=0.846, train_loss_epoch=0.772]\n",
      "Epoch 1:   0%|          | 0/28 [00:00<?, ?it/s, v_num=3.41e+7, train_loss_step=0.623, val_loss=0.846, train_loss_epoch=0.772]         \n",
      "\u001b[36m(RayTrainWorker pid=2725150)\u001b[0m \n",
      "\u001b[36m(RayTrainWorker pid=2725150)\u001b[0m \n",
      "\u001b[36m(RayTrainWorker pid=2725150)\u001b[0m \n",
      "\u001b[36m(RayTrainWorker pid=2725150)\u001b[0m \n",
      "\u001b[36m(RayTrainWorker pid=2725150)\u001b[0m \n",
      "\u001b[36m(RayTrainWorker pid=2725150)\u001b[0m \n"
     ]
    },
    {
     "name": "stderr",
     "output_type": "stream",
     "text": [
      "\u001b[36m(RayTrainWorker pid=2725150)\u001b[0m Checkpoint successfully created at: Checkpoint(filesystem=local, path=/ictstr01/home/aih/serra.korkmaz/projects/saturn/hopt/hpopt_5ht1b_zinc/ray_results/TorchTrainer_2025-03-12_00-19-26/6f0157cc/checkpoint_000001)\n",
      "2025-03-12 00:20:11,175\tWARNING experiment_state.py:206 -- Experiment state snapshotting has been triggered multiple times in the last 5.0 seconds and may become a bottleneck. A snapshot is forced if `CheckpointConfig(num_to_keep)` is set, and a trial has checkpointed >= `num_to_keep` times since the last snapshot.\n",
      "You may want to consider increasing the `CheckpointConfig(num_to_keep)` or decreasing the frequency of saving checkpoints.\n",
      "You can suppress this warning by setting the environment variable TUNE_WARN_EXCESSIVE_EXPERIMENT_CHECKPOINT_SYNC_THRESHOLD_S to a smaller value than the current threshold (5.0). Set it to 0 to completely suppress this warning.\n"
     ]
    },
    {
     "name": "stdout",
     "output_type": "stream",
     "text": [
      "Epoch 1: 100%|██████████| 28/28 [00:10<00:00,  2.64it/s, v_num=3.41e+7, train_loss_step=0.625, val_loss=0.841, train_loss_epoch=0.772]\u001b[32m [repeated 3x across cluster]\u001b[0m\n",
      "Validation: |          | 0/? [00:00<?, ?it/s]\u001b[A\n",
      "Validation:   0%|          | 0/6 [00:00<?, ?it/s]\u001b[A\n",
      "Validation DataLoader 0:   0%|          | 0/6 [00:00<?, ?it/s]\u001b[A\n",
      "Validation DataLoader 0:  83%|████████▎ | 5/6 [00:01<00:00,  4.01it/s]\u001b[A\u001b[32m [repeated 5x across cluster]\u001b[0m\n",
      "Epoch 1:  50%|█████     | 14/28 [00:04<00:04,  3.05it/s, v_num=3.41e+7, train_loss_step=0.792, val_loss=0.846, train_loss_epoch=0.772]\u001b[32m [repeated 21x across cluster]\u001b[0m\n",
      "Validation DataLoader 0: 100%|██████████| 6/6 [00:01<00:00,  4.27it/s]\u001b[A\n",
      "Epoch 1: 100%|██████████| 28/28 [00:12<00:00,  2.32it/s, v_num=3.41e+7, train_loss_step=0.625, val_loss=0.787, train_loss_epoch=0.772]\n",
      "Epoch 1: 100%|██████████| 28/28 [00:12<00:00,  2.28it/s, v_num=3.41e+7, train_loss_step=0.625, val_loss=0.787, train_loss_epoch=0.719]\n",
      "Epoch 2:   0%|          | 0/28 [00:00<?, ?it/s, v_num=3.41e+7, train_loss_step=0.625, val_loss=0.787, train_loss_epoch=0.719]         \n",
      "Epoch 1:  93%|█████████▎| 26/28 [00:08<00:00,  3.09it/s, v_num=3.41e+7, train_loss_step=0.548, val_loss=0.846, train_loss_epoch=0.772]\n",
      "Epoch 1:  96%|█████████▋| 27/28 [00:08<00:00,  3.10it/s, v_num=3.41e+7, train_loss_step=0.634, val_loss=0.846, train_loss_epoch=0.772]\n",
      "Epoch 1: 100%|██████████| 28/28 [00:08<00:00,  3.13it/s, v_num=3.41e+7, train_loss_step=0.620, val_loss=0.846, train_loss_epoch=0.772]\n",
      "Validation: |          | 0/? [00:00<?, ?it/s]\u001b[A\n",
      "\u001b[36m(RayTrainWorker pid=2725548)\u001b[0m \n",
      "Validation:   0%|          | 0/6 [00:00<?, ?it/s]\u001b[A\n",
      "Validation DataLoader 0:   0%|          | 0/6 [00:00<?, ?it/s]\u001b[A\n",
      "\u001b[36m(RayTrainWorker pid=2725548)\u001b[0m \n",
      "Validation DataLoader 0:  17%|█▋        | 1/6 [00:00<00:00,  5.97it/s]\u001b[A\n",
      "\u001b[36m(RayTrainWorker pid=2725548)\u001b[0m \n",
      "Validation DataLoader 0:  33%|███▎      | 2/6 [00:00<00:00,  5.27it/s]\u001b[A\n",
      "Epoch 2:  75%|███████▌  | 21/28 [00:07<00:02,  2.65it/s, v_num=3.41e+7, train_loss_step=0.554, val_loss=0.787, train_loss_epoch=0.719]\u001b[32m [repeated 25x across cluster]\u001b[0m\n",
      "\u001b[36m(RayTrainWorker pid=2725548)\u001b[0m \n",
      "Validation DataLoader 0:  50%|█████     | 3/6 [00:00<00:00,  5.08it/s]\u001b[A\n",
      "\u001b[36m(RayTrainWorker pid=2725548)\u001b[0m \n",
      "Validation DataLoader 0:  67%|██████▋   | 4/6 [00:00<00:00,  4.99it/s]\u001b[A\n",
      "\u001b[36m(RayTrainWorker pid=2725548)\u001b[0m \n",
      "Validation DataLoader 0:  83%|████████▎ | 5/6 [00:01<00:00,  4.93it/s]\u001b[A\n",
      "\u001b[36m(RayTrainWorker pid=2725548)\u001b[0m \n",
      "Validation DataLoader 0: 100%|██████████| 6/6 [00:01<00:00,  5.17it/s]\u001b[A\n",
      "Epoch 1: 100%|██████████| 28/28 [00:10<00:00,  2.75it/s, v_num=3.41e+7, train_loss_step=0.620, val_loss=0.811, train_loss_epoch=0.772]\n",
      "Epoch 1: 100%|██████████| 28/28 [00:10<00:00,  2.69it/s, v_num=3.41e+7, train_loss_step=0.620, val_loss=0.811, train_loss_epoch=0.709]\n"
     ]
    },
    {
     "name": "stderr",
     "output_type": "stream",
     "text": [
      "\u001b[36m(RayTrainWorker pid=2725548)\u001b[0m Checkpoint successfully created at: Checkpoint(filesystem=local, path=/ictstr01/home/aih/serra.korkmaz/projects/saturn/hopt/hpopt_5ht1b_zinc/ray_results/TorchTrainer_2025-03-12_00-19-26/6ccfe64d/checkpoint_000001)\n"
     ]
    },
    {
     "name": "stdout",
     "output_type": "stream",
     "text": [
      "Epoch 2:   0%|          | 0/28 [00:00<?, ?it/s, v_num=3.41e+7, train_loss_step=0.620, val_loss=0.811, train_loss_epoch=0.709]         \n",
      "\u001b[36m(RayTrainWorker pid=2725150)\u001b[0m \n",
      "\u001b[36m(RayTrainWorker pid=2725150)\u001b[0m \n",
      "\u001b[36m(RayTrainWorker pid=2725150)\u001b[0m \n",
      "\u001b[36m(RayTrainWorker pid=2725150)\u001b[0m \n",
      "\u001b[36m(RayTrainWorker pid=2725150)\u001b[0m \n",
      "\u001b[36m(RayTrainWorker pid=2725150)\u001b[0m \n",
      "\u001b[36m(RayTrainWorker pid=2725150)\u001b[0m \n",
      "Epoch 2: 100%|██████████| 28/28 [00:10<00:00,  2.71it/s, v_num=3.41e+7, train_loss_step=0.683, val_loss=0.787, train_loss_epoch=0.719]\u001b[32m [repeated 3x across cluster]\u001b[0m\n",
      "\u001b[36m(RayTrainWorker pid=2725150)\u001b[0m \n"
     ]
    },
    {
     "name": "stderr",
     "output_type": "stream",
     "text": [
      "2025-03-12 00:20:23,433\tWARNING experiment_state.py:206 -- Experiment state snapshotting has been triggered multiple times in the last 5.0 seconds and may become a bottleneck. A snapshot is forced if `CheckpointConfig(num_to_keep)` is set, and a trial has checkpointed >= `num_to_keep` times since the last snapshot.\n",
      "You may want to consider increasing the `CheckpointConfig(num_to_keep)` or decreasing the frequency of saving checkpoints.\n",
      "You can suppress this warning by setting the environment variable TUNE_WARN_EXCESSIVE_EXPERIMENT_CHECKPOINT_SYNC_THRESHOLD_S to a smaller value than the current threshold (5.0). Set it to 0 to completely suppress this warning.\n",
      "\u001b[36m(RayTrainWorker pid=2725150)\u001b[0m Checkpoint successfully created at: Checkpoint(filesystem=local, path=/ictstr01/home/aih/serra.korkmaz/projects/saturn/hopt/hpopt_5ht1b_zinc/ray_results/TorchTrainer_2025-03-12_00-19-26/6f0157cc/checkpoint_000002)\n"
     ]
    },
    {
     "name": "stdout",
     "output_type": "stream",
     "text": [
      "Validation: |          | 0/? [00:00<?, ?it/s]\u001b[A\n",
      "Validation:   0%|          | 0/6 [00:00<?, ?it/s]\u001b[A\n",
      "Validation DataLoader 0:   0%|          | 0/6 [00:00<?, ?it/s]\u001b[A\n",
      "Validation DataLoader 0:  83%|████████▎ | 5/6 [00:01<00:00,  3.76it/s]\u001b[A\u001b[32m [repeated 5x across cluster]\u001b[0m\n",
      "Epoch 3:   7%|▋         | 2/28 [00:00<00:09,  2.65it/s, v_num=3.41e+7, train_loss_step=1.050, val_loss=0.600, train_loss_epoch=0.714]\u001b[32m [repeated 18x across cluster]\u001b[0m\n",
      "Validation DataLoader 0: 100%|██████████| 6/6 [00:01<00:00,  4.06it/s]\u001b[A\n",
      "Epoch 2: 100%|██████████| 28/28 [00:11<00:00,  2.36it/s, v_num=3.41e+7, train_loss_step=0.683, val_loss=0.600, train_loss_epoch=0.719]\n",
      "Epoch 2: 100%|██████████| 28/28 [00:12<00:00,  2.31it/s, v_num=3.41e+7, train_loss_step=0.683, val_loss=0.600, train_loss_epoch=0.714]\n",
      "Epoch 3:   0%|          | 0/28 [00:00<?, ?it/s, v_num=3.41e+7, train_loss_step=0.683, val_loss=0.600, train_loss_epoch=0.714]         \n",
      "Epoch 2:  93%|█████████▎| 26/28 [00:08<00:00,  3.13it/s, v_num=3.41e+7, train_loss_step=0.654, val_loss=0.811, train_loss_epoch=0.709]\n",
      "Epoch 2:  96%|█████████▋| 27/28 [00:08<00:00,  3.12it/s, v_num=3.41e+7, train_loss_step=0.727, val_loss=0.811, train_loss_epoch=0.709]\n",
      "Epoch 2: 100%|██████████| 28/28 [00:08<00:00,  3.13it/s, v_num=3.41e+7, train_loss_step=0.710, val_loss=0.811, train_loss_epoch=0.709]\n",
      "Validation: |          | 0/? [00:00<?, ?it/s]\u001b[A\n",
      "\u001b[36m(RayTrainWorker pid=2725548)\u001b[0m \n",
      "Validation:   0%|          | 0/6 [00:00<?, ?it/s]\u001b[A\n",
      "Validation DataLoader 0:   0%|          | 0/6 [00:00<?, ?it/s]\u001b[A\n",
      "Epoch 3:  54%|█████▎    | 15/28 [00:05<00:04,  2.63it/s, v_num=3.41e+7, train_loss_step=0.752, val_loss=0.600, train_loss_epoch=0.714]\u001b[32m [repeated 26x across cluster]\u001b[0m\n",
      "\u001b[36m(RayTrainWorker pid=2725548)\u001b[0m \n",
      "Validation DataLoader 0:  17%|█▋        | 1/6 [00:00<00:00,  5.06it/s]\u001b[A\n",
      "\u001b[36m(RayTrainWorker pid=2725548)\u001b[0m \n",
      "Validation DataLoader 0:  33%|███▎      | 2/6 [00:00<00:00,  4.95it/s]\u001b[A\n",
      "\u001b[36m(RayTrainWorker pid=2725548)\u001b[0m \n",
      "Validation DataLoader 0:  50%|█████     | 3/6 [00:00<00:00,  4.56it/s]\u001b[A\n",
      "\u001b[36m(RayTrainWorker pid=2725548)\u001b[0m \n",
      "Validation DataLoader 0:  67%|██████▋   | 4/6 [00:00<00:00,  4.46it/s]\u001b[A\n",
      "\u001b[36m(RayTrainWorker pid=2725548)\u001b[0m \n",
      "Validation DataLoader 0:  83%|████████▎ | 5/6 [00:01<00:00,  4.31it/s]\u001b[A\n",
      "\u001b[36m(RayTrainWorker pid=2725548)\u001b[0m \n",
      "Validation DataLoader 0: 100%|██████████| 6/6 [00:01<00:00,  4.58it/s]\u001b[A\n",
      "Epoch 2: 100%|██████████| 28/28 [00:10<00:00,  2.71it/s, v_num=3.41e+7, train_loss_step=0.710, val_loss=0.603, train_loss_epoch=0.709]\n",
      "Epoch 2: 100%|██████████| 28/28 [00:10<00:00,  2.65it/s, v_num=3.41e+7, train_loss_step=0.710, val_loss=0.603, train_loss_epoch=0.705]\n"
     ]
    },
    {
     "name": "stderr",
     "output_type": "stream",
     "text": [
      "\u001b[36m(RayTrainWorker pid=2725548)\u001b[0m Checkpoint successfully created at: Checkpoint(filesystem=local, path=/ictstr01/home/aih/serra.korkmaz/projects/saturn/hopt/hpopt_5ht1b_zinc/ray_results/TorchTrainer_2025-03-12_00-19-26/6ccfe64d/checkpoint_000002)\n"
     ]
    },
    {
     "name": "stdout",
     "output_type": "stream",
     "text": [
      "Epoch 3:   0%|          | 0/28 [00:00<?, ?it/s, v_num=3.41e+7, train_loss_step=0.710, val_loss=0.603, train_loss_epoch=0.705]         \n",
      "Epoch 3:  96%|█████████▋| 27/28 [00:10<00:00,  2.68it/s, v_num=3.41e+7, train_loss_step=0.664, val_loss=0.600, train_loss_epoch=0.714]\u001b[32m [repeated 2x across cluster]\u001b[0m\n",
      "Validation: |          | 0/? [00:00<?, ?it/s]\u001b[A\n",
      "\u001b[36m(RayTrainWorker pid=2725150)\u001b[0m \n",
      "Validation:   0%|          | 0/6 [00:00<?, ?it/s]\u001b[A\n",
      "Validation DataLoader 0:   0%|          | 0/6 [00:00<?, ?it/s]\u001b[A\n",
      "Epoch 3:  39%|███▉      | 11/28 [00:03<00:05,  3.14it/s, v_num=3.41e+7, train_loss_step=0.804, val_loss=0.603, train_loss_epoch=0.705]\u001b[32m [repeated 21x across cluster]\u001b[0m\n",
      "\u001b[36m(RayTrainWorker pid=2725150)\u001b[0m \n",
      "Validation DataLoader 0:  33%|███▎      | 2/6 [00:00<00:00,  4.18it/s]\u001b[A\u001b[32m [repeated 2x across cluster]\u001b[0m\n",
      "\u001b[36m(RayTrainWorker pid=2725150)\u001b[0m \n",
      "\u001b[36m(RayTrainWorker pid=2725150)\u001b[0m \n",
      "\u001b[36m(RayTrainWorker pid=2725150)\u001b[0m \n"
     ]
    },
    {
     "name": "stderr",
     "output_type": "stream",
     "text": [
      "2025-03-12 00:20:35,647\tWARNING experiment_state.py:206 -- Experiment state snapshotting has been triggered multiple times in the last 5.0 seconds and may become a bottleneck. A snapshot is forced if `CheckpointConfig(num_to_keep)` is set, and a trial has checkpointed >= `num_to_keep` times since the last snapshot.\n",
      "You may want to consider increasing the `CheckpointConfig(num_to_keep)` or decreasing the frequency of saving checkpoints.\n",
      "You can suppress this warning by setting the environment variable TUNE_WARN_EXCESSIVE_EXPERIMENT_CHECKPOINT_SYNC_THRESHOLD_S to a smaller value than the current threshold (5.0). Set it to 0 to completely suppress this warning.\n"
     ]
    },
    {
     "name": "stdout",
     "output_type": "stream",
     "text": [
      "\u001b[36m(RayTrainWorker pid=2725150)\u001b[0m \n",
      "Validation DataLoader 0: 100%|██████████| 6/6 [00:01<00:00,  4.35it/s]\u001b[A\n",
      "Epoch 3: 100%|██████████| 28/28 [00:11<00:00,  2.37it/s, v_num=3.41e+7, train_loss_step=0.789, val_loss=0.593, train_loss_epoch=0.714]\n"
     ]
    },
    {
     "name": "stderr",
     "output_type": "stream",
     "text": [
      "\u001b[36m(RayTrainWorker pid=2725150)\u001b[0m Checkpoint successfully created at: Checkpoint(filesystem=local, path=/ictstr01/home/aih/serra.korkmaz/projects/saturn/hopt/hpopt_5ht1b_zinc/ray_results/TorchTrainer_2025-03-12_00-19-26/6f0157cc/checkpoint_000003)\n"
     ]
    },
    {
     "name": "stdout",
     "output_type": "stream",
     "text": [
      "Epoch 3: 100%|██████████| 28/28 [00:12<00:00,  2.32it/s, v_num=3.41e+7, train_loss_step=0.789, val_loss=0.593, train_loss_epoch=0.666]\n",
      "Epoch 4:   0%|          | 0/28 [00:00<?, ?it/s, v_num=3.41e+7, train_loss_step=0.789, val_loss=0.593, train_loss_epoch=0.666]         \n",
      "Epoch 3: 100%|██████████| 28/28 [00:10<00:00,  2.69it/s, v_num=3.41e+7, train_loss_step=0.789, val_loss=0.600, train_loss_epoch=0.714]\n",
      "Epoch 3:  93%|█████████▎| 26/28 [00:08<00:00,  3.19it/s, v_num=3.41e+7, train_loss_step=0.541, val_loss=0.603, train_loss_epoch=0.705]\n",
      "Epoch 4:  36%|███▌      | 10/28 [00:03<00:06,  2.77it/s, v_num=3.41e+7, train_loss_step=0.532, val_loss=0.593, train_loss_epoch=0.666]\u001b[32m [repeated 24x across cluster]\u001b[0m\n",
      "Epoch 3:  96%|█████████▋| 27/28 [00:08<00:00,  3.18it/s, v_num=3.41e+7, train_loss_step=0.656, val_loss=0.603, train_loss_epoch=0.705]\n",
      "Validation DataLoader 0:  83%|████████▎ | 5/6 [00:01<00:00,  4.08it/s]\u001b[A\u001b[32m [repeated 3x across cluster]\u001b[0m\n",
      "Epoch 3: 100%|██████████| 28/28 [00:08<00:00,  3.19it/s, v_num=3.41e+7, train_loss_step=0.770, val_loss=0.603, train_loss_epoch=0.705]\n",
      "Validation: |          | 0/? [00:00<?, ?it/s]\u001b[A\n",
      "Validation:   0%|          | 0/6 [00:00<?, ?it/s]\u001b[A\n",
      "Validation DataLoader 0:   0%|          | 0/6 [00:00<?, ?it/s]\u001b[A\n",
      "\u001b[36m(RayTrainWorker pid=2725548)\u001b[0m \n",
      "\u001b[36m(RayTrainWorker pid=2725548)\u001b[0m \n",
      "\u001b[36m(RayTrainWorker pid=2725548)\u001b[0m \n",
      "\u001b[36m(RayTrainWorker pid=2725548)\u001b[0m \n",
      "\u001b[36m(RayTrainWorker pid=2725548)\u001b[0m \n",
      "\u001b[36m(RayTrainWorker pid=2725548)\u001b[0m \n",
      "Validation DataLoader 0: 100%|██████████| 6/6 [00:01<00:00,  4.22it/s]\u001b[A\n",
      "Epoch 3: 100%|██████████| 28/28 [00:10<00:00,  2.73it/s, v_num=3.41e+7, train_loss_step=0.770, val_loss=0.592, train_loss_epoch=0.705]\n",
      "Epoch 3: 100%|██████████| 28/28 [00:10<00:00,  2.66it/s, v_num=3.41e+7, train_loss_step=0.770, val_loss=0.592, train_loss_epoch=0.649]\n",
      "Epoch 4:   0%|          | 0/28 [00:00<?, ?it/s, v_num=3.41e+7, train_loss_step=0.770, val_loss=0.592, train_loss_epoch=0.649]         \n"
     ]
    },
    {
     "name": "stderr",
     "output_type": "stream",
     "text": [
      "\u001b[36m(RayTrainWorker pid=2725548)\u001b[0m Checkpoint successfully created at: Checkpoint(filesystem=local, path=/ictstr01/home/aih/serra.korkmaz/projects/saturn/hopt/hpopt_5ht1b_zinc/ray_results/TorchTrainer_2025-03-12_00-19-26/6ccfe64d/checkpoint_000003)\n"
     ]
    },
    {
     "name": "stdout",
     "output_type": "stream",
     "text": [
      "Epoch 4:  32%|███▏      | 9/28 [00:03<00:06,  3.00it/s, v_num=3.41e+7, train_loss_step=0.565, val_loss=0.592, train_loss_epoch=0.649]\u001b[32m [repeated 22x across cluster]\u001b[0m\n",
      "Validation DataLoader 0:  83%|████████▎ | 5/6 [00:01<00:00,  3.96it/s]\u001b[A\u001b[32m [repeated 5x across cluster]\u001b[0m\n",
      "Epoch 4:  93%|█████████▎| 26/28 [00:09<00:00,  2.69it/s, v_num=3.41e+7, train_loss_step=0.646, val_loss=0.593, train_loss_epoch=0.666]\n",
      "Epoch 4:  96%|█████████▋| 27/28 [00:10<00:00,  2.69it/s, v_num=3.41e+7, train_loss_step=0.739, val_loss=0.593, train_loss_epoch=0.666]\n",
      "Epoch 4: 100%|██████████| 28/28 [00:10<00:00,  2.72it/s, v_num=3.41e+7, train_loss_step=0.514, val_loss=0.593, train_loss_epoch=0.666]\n",
      "Validation: |          | 0/? [00:00<?, ?it/s]\u001b[A\n",
      "\u001b[36m(RayTrainWorker pid=2725150)\u001b[0m \n",
      "Validation:   0%|          | 0/6 [00:00<?, ?it/s]\u001b[A\n",
      "Validation DataLoader 0:   0%|          | 0/6 [00:00<?, ?it/s]\u001b[A\n",
      "\u001b[36m(RayTrainWorker pid=2725150)\u001b[0m \n",
      "\u001b[36m(RayTrainWorker pid=2725150)\u001b[0m \n",
      "\u001b[36m(RayTrainWorker pid=2725150)\u001b[0m \n",
      "\u001b[36m(RayTrainWorker pid=2725150)\u001b[0m \n",
      "\u001b[36m(RayTrainWorker pid=2725150)\u001b[0m \n",
      "\u001b[36m(RayTrainWorker pid=2725150)\u001b[0m \n",
      "Validation DataLoader 0: 100%|██████████| 6/6 [00:01<00:00,  3.64it/s]\u001b[A\n",
      "Epoch 4: 100%|██████████| 28/28 [00:12<00:00,  2.33it/s, v_num=3.41e+7, train_loss_step=0.514, val_loss=1.920, train_loss_epoch=0.666]\n",
      "Epoch 4: 100%|██████████| 28/28 [00:12<00:00,  2.29it/s, v_num=3.41e+7, train_loss_step=0.514, val_loss=1.920, train_loss_epoch=0.662]\n"
     ]
    },
    {
     "name": "stderr",
     "output_type": "stream",
     "text": [
      "\u001b[36m(RayTrainWorker pid=2725150)\u001b[0m Checkpoint successfully created at: Checkpoint(filesystem=local, path=/ictstr01/home/aih/serra.korkmaz/projects/saturn/hopt/hpopt_5ht1b_zinc/ray_results/TorchTrainer_2025-03-12_00-19-26/6f0157cc/checkpoint_000004)\n"
     ]
    },
    {
     "name": "stdout",
     "output_type": "stream",
     "text": [
      "Epoch 5:   0%|          | 0/28 [00:00<?, ?it/s, v_num=3.41e+7, train_loss_step=0.514, val_loss=1.920, train_loss_epoch=0.662]         \n",
      "Epoch 5:  14%|█▍        | 4/28 [00:01<00:08,  2.77it/s, v_num=3.41e+7, train_loss_step=0.700, val_loss=1.920, train_loss_epoch=0.662]\u001b[32m [repeated 21x across cluster]\u001b[0m\n",
      "Validation DataLoader 0:  83%|████████▎ | 5/6 [00:01<00:00,  3.43it/s]\u001b[A\u001b[32m [repeated 5x across cluster]\u001b[0m\n",
      "Epoch 4:  93%|█████████▎| 26/28 [00:08<00:00,  3.06it/s, v_num=3.41e+7, train_loss_step=0.631, val_loss=0.592, train_loss_epoch=0.649]\n",
      "Epoch 4:  96%|█████████▋| 27/28 [00:08<00:00,  3.04it/s, v_num=3.41e+7, train_loss_step=0.669, val_loss=0.592, train_loss_epoch=0.649]\n",
      "Epoch 4: 100%|██████████| 28/28 [00:09<00:00,  3.06it/s, v_num=3.41e+7, train_loss_step=0.526, val_loss=0.592, train_loss_epoch=0.649]\n",
      "\u001b[36m(RayTrainWorker pid=2725548)\u001b[0m \n",
      "Validation: |          | 0/? [00:00<?, ?it/s]\u001b[A\n",
      "\u001b[36m(RayTrainWorker pid=2725548)\u001b[0m \n",
      "Validation:   0%|          | 0/6 [00:00<?, ?it/s]\u001b[A\n",
      "Validation DataLoader 0:   0%|          | 0/6 [00:00<?, ?it/s]\u001b[A\n",
      "\u001b[36m(RayTrainWorker pid=2725548)\u001b[0m \n",
      "\u001b[36m(RayTrainWorker pid=2725548)\u001b[0m \n",
      "\u001b[36m(RayTrainWorker pid=2725548)\u001b[0m \n"
     ]
    },
    {
     "name": "stderr",
     "output_type": "stream",
     "text": [
      "2025-03-12 00:20:52,157\tWARNING experiment_state.py:206 -- Experiment state snapshotting has been triggered multiple times in the last 5.0 seconds and may become a bottleneck. A snapshot is forced if `CheckpointConfig(num_to_keep)` is set, and a trial has checkpointed >= `num_to_keep` times since the last snapshot.\n",
      "You may want to consider increasing the `CheckpointConfig(num_to_keep)` or decreasing the frequency of saving checkpoints.\n",
      "You can suppress this warning by setting the environment variable TUNE_WARN_EXCESSIVE_EXPERIMENT_CHECKPOINT_SYNC_THRESHOLD_S to a smaller value than the current threshold (5.0). Set it to 0 to completely suppress this warning.\n"
     ]
    },
    {
     "name": "stdout",
     "output_type": "stream",
     "text": [
      "\u001b[36m(RayTrainWorker pid=2725548)\u001b[0m \n",
      "Validation DataLoader 0: 100%|██████████| 6/6 [00:01<00:00,  5.25it/s]\u001b[A\n",
      "Epoch 4: 100%|██████████| 28/28 [00:10<00:00,  2.71it/s, v_num=3.41e+7, train_loss_step=0.526, val_loss=1.220, train_loss_epoch=0.649]\n",
      "Epoch 4: 100%|██████████| 28/28 [00:10<00:00,  2.64it/s, v_num=3.41e+7, train_loss_step=0.526, val_loss=1.220, train_loss_epoch=0.648]\n",
      "Epoch 5:   0%|          | 0/28 [00:00<?, ?it/s, v_num=3.41e+7, train_loss_step=0.526, val_loss=1.220, train_loss_epoch=0.648]         \n",
      "Epoch 5:  64%|██████▍   | 18/28 [00:06<00:03,  2.72it/s, v_num=3.41e+7, train_loss_step=0.778, val_loss=1.920, train_loss_epoch=0.662]\u001b[32m [repeated 22x across cluster]\u001b[0m\n",
      "Validation DataLoader 0:  83%|████████▎ | 5/6 [00:01<00:00,  5.00it/s]\u001b[A\u001b[32m [repeated 5x across cluster]\u001b[0m\n",
      "Epoch 5:  93%|█████████▎| 26/28 [00:09<00:00,  2.69it/s, v_num=3.41e+7, train_loss_step=0.454, val_loss=1.920, train_loss_epoch=0.662]\n",
      "Epoch 5:  96%|█████████▋| 27/28 [00:10<00:00,  2.68it/s, v_num=3.41e+7, train_loss_step=0.539, val_loss=1.920, train_loss_epoch=0.662]\n",
      "Epoch 5: 100%|██████████| 28/28 [00:10<00:00,  2.69it/s, v_num=3.41e+7, train_loss_step=0.546, val_loss=1.920, train_loss_epoch=0.662]\n",
      "Validation: |          | 0/? [00:00<?, ?it/s]\u001b[A\n",
      "\u001b[36m(RayTrainWorker pid=2725150)\u001b[0m \n",
      "Validation:   0%|          | 0/6 [00:00<?, ?it/s]\u001b[A\n",
      "Validation DataLoader 0:   0%|          | 0/6 [00:00<?, ?it/s]\u001b[A\n",
      "\u001b[36m(RayTrainWorker pid=2725150)\u001b[0m \n",
      "\u001b[36m(RayTrainWorker pid=2725150)\u001b[0m \n",
      "\u001b[36m(RayTrainWorker pid=2725150)\u001b[0m \n",
      "\u001b[36m(RayTrainWorker pid=2725150)\u001b[0m \n",
      "Epoch 5:  79%|███████▊  | 22/28 [00:07<00:01,  3.03it/s, v_num=3.41e+7, train_loss_step=0.630, val_loss=1.220, train_loss_epoch=0.648]\u001b[32m [repeated 22x across cluster]\u001b[0m\n",
      "\u001b[36m(RayTrainWorker pid=2725150)\u001b[0m \n",
      "\u001b[36m(RayTrainWorker pid=2725150)\u001b[0m \n",
      "Validation DataLoader 0: 100%|██████████| 6/6 [00:01<00:00,  3.93it/s]\u001b[A\n",
      "Epoch 5: 100%|██████████| 28/28 [00:11<00:00,  2.34it/s, v_num=3.41e+7, train_loss_step=0.546, val_loss=0.696, train_loss_epoch=0.662]\n",
      "Validation DataLoader 0:  83%|████████▎ | 5/6 [00:01<00:00,  3.67it/s]\u001b[A\u001b[32m [repeated 5x across cluster]\u001b[0m\n",
      "Epoch 5: 100%|██████████| 28/28 [00:12<00:00,  2.29it/s, v_num=3.41e+7, train_loss_step=0.546, val_loss=0.696, train_loss_epoch=0.643]\n",
      "Epoch 6:   0%|          | 0/28 [00:00<?, ?it/s, v_num=3.41e+7, train_loss_step=0.546, val_loss=0.696, train_loss_epoch=0.643]         \n"
     ]
    },
    {
     "name": "stderr",
     "output_type": "stream",
     "text": [
      "\u001b[36m(RayTrainWorker pid=2725150)\u001b[0m Checkpoint successfully created at: Checkpoint(filesystem=local, path=/ictstr01/home/aih/serra.korkmaz/projects/saturn/hopt/hpopt_5ht1b_zinc/ray_results/TorchTrainer_2025-03-12_00-19-26/6f0157cc/checkpoint_000005)\u001b[32m [repeated 2x across cluster]\u001b[0m\n"
     ]
    },
    {
     "name": "stdout",
     "output_type": "stream",
     "text": [
      "\u001b[36m(RayTrainWorker pid=2725548)\u001b[0m \n",
      "\u001b[36m(RayTrainWorker pid=2725548)\u001b[0m \n",
      "\u001b[36m(RayTrainWorker pid=2725548)\u001b[0m \n",
      "\u001b[36m(RayTrainWorker pid=2725548)\u001b[0m \n",
      "\u001b[36m(RayTrainWorker pid=2725548)\u001b[0m \n",
      "\u001b[36m(RayTrainWorker pid=2725548)\u001b[0m \n"
     ]
    },
    {
     "name": "stderr",
     "output_type": "stream",
     "text": [
      "2025-03-12 00:21:02,894\tWARNING experiment_state.py:206 -- Experiment state snapshotting has been triggered multiple times in the last 5.0 seconds and may become a bottleneck. A snapshot is forced if `CheckpointConfig(num_to_keep)` is set, and a trial has checkpointed >= `num_to_keep` times since the last snapshot.\n",
      "You may want to consider increasing the `CheckpointConfig(num_to_keep)` or decreasing the frequency of saving checkpoints.\n",
      "You can suppress this warning by setting the environment variable TUNE_WARN_EXCESSIVE_EXPERIMENT_CHECKPOINT_SYNC_THRESHOLD_S to a smaller value than the current threshold (5.0). Set it to 0 to completely suppress this warning.\n"
     ]
    },
    {
     "name": "stdout",
     "output_type": "stream",
     "text": [
      "Epoch 5: 100%|██████████| 28/28 [00:09<00:00,  3.11it/s, v_num=3.41e+7, train_loss_step=0.566, val_loss=1.220, train_loss_epoch=0.648]\u001b[32m [repeated 3x across cluster]\u001b[0m\n",
      "Validation: |          | 0/? [00:00<?, ?it/s]\u001b[A\n",
      "Validation:   0%|          | 0/6 [00:00<?, ?it/s]\u001b[A\n",
      "Validation DataLoader 0:   0%|          | 0/6 [00:00<?, ?it/s]\u001b[A\n",
      "Epoch 6:  21%|██▏       | 6/28 [00:01<00:06,  3.37it/s, v_num=3.41e+7, train_loss_step=0.655, val_loss=0.532, train_loss_epoch=0.635]\u001b[32m [repeated 21x across cluster]\u001b[0m\n",
      "Validation DataLoader 0: 100%|██████████| 6/6 [00:01<00:00,  4.80it/s]\u001b[A\n",
      "Epoch 5: 100%|██████████| 28/28 [00:10<00:00,  2.72it/s, v_num=3.41e+7, train_loss_step=0.566, val_loss=0.532, train_loss_epoch=0.648]\n",
      "Validation DataLoader 0:  83%|████████▎ | 5/6 [00:01<00:00,  4.46it/s]\u001b[A\u001b[32m [repeated 5x across cluster]\u001b[0m\n",
      "Epoch 6:  29%|██▊       | 8/28 [00:02<00:05,  3.36it/s, v_num=3.41e+7, train_loss_step=0.455, val_loss=0.532, train_loss_epoch=0.635]\n",
      "Epoch 6:  29%|██▊       | 8/28 [00:02<00:05,  3.36it/s, v_num=3.41e+7, train_loss_step=0.673, val_loss=0.532, train_loss_epoch=0.635]\n",
      "Epoch 5: 100%|██████████| 28/28 [00:10<00:00,  2.66it/s, v_num=3.41e+7, train_loss_step=0.566, val_loss=0.532, train_loss_epoch=0.635]\n",
      "Epoch 6:   0%|          | 0/28 [00:00<?, ?it/s, v_num=3.41e+7, train_loss_step=0.566, val_loss=0.532, train_loss_epoch=0.635]         \n",
      "Epoch 6:  93%|█████████▎| 26/28 [00:09<00:00,  2.84it/s, v_num=3.41e+7, train_loss_step=0.732, val_loss=0.696, train_loss_epoch=0.643]\n",
      "Epoch 6:  79%|███████▊  | 22/28 [00:06<00:01,  3.20it/s, v_num=3.41e+7, train_loss_step=0.682, val_loss=0.532, train_loss_epoch=0.635]\u001b[32m [repeated 28x across cluster]\u001b[0m\n",
      "Epoch 6:  96%|█████████▋| 27/28 [00:09<00:00,  2.83it/s, v_num=3.41e+7, train_loss_step=0.605, val_loss=0.696, train_loss_epoch=0.643]\n",
      "Epoch 6: 100%|██████████| 28/28 [00:09<00:00,  2.84it/s, v_num=3.41e+7, train_loss_step=0.800, val_loss=0.696, train_loss_epoch=0.643]\n",
      "Validation: |          | 0/? [00:00<?, ?it/s]\u001b[A\n",
      "\u001b[36m(RayTrainWorker pid=2725150)\u001b[0m \n",
      "Validation:   0%|          | 0/6 [00:00<?, ?it/s]\u001b[A\n",
      "Validation DataLoader 0:   0%|          | 0/6 [00:00<?, ?it/s]\u001b[A\n",
      "\u001b[36m(RayTrainWorker pid=2725150)\u001b[0m \n",
      "Validation DataLoader 0:  17%|█▋        | 1/6 [00:00<00:01,  4.07it/s]\u001b[A\n",
      "\u001b[36m(RayTrainWorker pid=2725150)\u001b[0m \n",
      "Validation DataLoader 0:  33%|███▎      | 2/6 [00:00<00:01,  3.84it/s]\u001b[A\n",
      "\u001b[36m(RayTrainWorker pid=2725150)\u001b[0m \n",
      "Validation DataLoader 0:  50%|█████     | 3/6 [00:00<00:00,  3.87it/s]\u001b[A\n",
      "\u001b[36m(RayTrainWorker pid=2725150)\u001b[0m \n",
      "Validation DataLoader 0:  67%|██████▋   | 4/6 [00:01<00:00,  3.86it/s]\u001b[A\n",
      "\u001b[36m(RayTrainWorker pid=2725150)\u001b[0m \n",
      "Validation DataLoader 0:  83%|████████▎ | 5/6 [00:01<00:00,  3.89it/s]\u001b[A\n",
      "\u001b[36m(RayTrainWorker pid=2725548)\u001b[0m \n",
      "\u001b[36m(RayTrainWorker pid=2725150)\u001b[0m \n",
      "Validation DataLoader 0: 100%|██████████| 6/6 [00:01<00:00,  4.19it/s]\u001b[A\n",
      "Epoch 6: 100%|██████████| 28/28 [00:11<00:00,  2.46it/s, v_num=3.41e+7, train_loss_step=0.800, val_loss=0.526, train_loss_epoch=0.643]\n",
      "\u001b[36m(RayTrainWorker pid=2725548)\u001b[0m \n",
      "Epoch 6: 100%|██████████| 28/28 [00:11<00:00,  2.42it/s, v_num=3.41e+7, train_loss_step=0.800, val_loss=0.526, train_loss_epoch=0.620]\n",
      "\u001b[36m(RayTrainWorker pid=2725548)\u001b[0m \n"
     ]
    },
    {
     "name": "stderr",
     "output_type": "stream",
     "text": [
      "\u001b[36m(RayTrainWorker pid=2725150)\u001b[0m Checkpoint successfully created at: Checkpoint(filesystem=local, path=/ictstr01/home/aih/serra.korkmaz/projects/saturn/hopt/hpopt_5ht1b_zinc/ray_results/TorchTrainer_2025-03-12_00-19-26/6f0157cc/checkpoint_000006)\u001b[32m [repeated 2x across cluster]\u001b[0m\n"
     ]
    },
    {
     "name": "stdout",
     "output_type": "stream",
     "text": [
      "Epoch 7:   0%|          | 0/28 [00:00<?, ?it/s, v_num=3.41e+7, train_loss_step=0.800, val_loss=0.526, train_loss_epoch=0.620]         \n",
      "\u001b[36m(RayTrainWorker pid=2725548)\u001b[0m \n",
      "\u001b[36m(RayTrainWorker pid=2725548)\u001b[0m \n",
      "\u001b[36m(RayTrainWorker pid=2725548)\u001b[0m \n",
      "\u001b[36m(RayTrainWorker pid=2725548)\u001b[0m \n",
      "\u001b[36m(RayTrainWorker pid=2725548)\u001b[0m \n"
     ]
    },
    {
     "name": "stderr",
     "output_type": "stream",
     "text": [
      "2025-03-12 00:21:13,158\tWARNING experiment_state.py:206 -- Experiment state snapshotting has been triggered multiple times in the last 5.0 seconds and may become a bottleneck. A snapshot is forced if `CheckpointConfig(num_to_keep)` is set, and a trial has checkpointed >= `num_to_keep` times since the last snapshot.\n",
      "You may want to consider increasing the `CheckpointConfig(num_to_keep)` or decreasing the frequency of saving checkpoints.\n",
      "You can suppress this warning by setting the environment variable TUNE_WARN_EXCESSIVE_EXPERIMENT_CHECKPOINT_SYNC_THRESHOLD_S to a smaller value than the current threshold (5.0). Set it to 0 to completely suppress this warning.\n"
     ]
    },
    {
     "name": "stdout",
     "output_type": "stream",
     "text": [
      "Epoch 6: 100%|██████████| 28/28 [00:08<00:00,  3.23it/s, v_num=3.41e+7, train_loss_step=0.736, val_loss=0.532, train_loss_epoch=0.635]\u001b[32m [repeated 3x across cluster]\u001b[0m\n",
      "Epoch 7:  29%|██▊       | 8/28 [00:02<00:07,  2.81it/s, v_num=3.41e+7, train_loss_step=0.606, val_loss=0.526, train_loss_epoch=0.620]\u001b[32m [repeated 16x across cluster]\u001b[0m\n",
      "Validation: |          | 0/? [00:00<?, ?it/s]\u001b[A\n",
      "Validation:   0%|          | 0/6 [00:00<?, ?it/s]\u001b[A\n",
      "Validation DataLoader 0:   0%|          | 0/6 [00:00<?, ?it/s]\u001b[A\n",
      "Validation DataLoader 0:  83%|████████▎ | 5/6 [00:01<00:00,  4.77it/s]\u001b[A\u001b[32m [repeated 5x across cluster]\u001b[0m\n",
      "Validation DataLoader 0: 100%|██████████| 6/6 [00:01<00:00,  5.08it/s]\u001b[A\n",
      "Epoch 6: 100%|██████████| 28/28 [00:09<00:00,  2.83it/s, v_num=3.41e+7, train_loss_step=0.736, val_loss=0.522, train_loss_epoch=0.635]\n",
      "Epoch 6: 100%|██████████| 28/28 [00:10<00:00,  2.76it/s, v_num=3.41e+7, train_loss_step=0.736, val_loss=0.522, train_loss_epoch=0.612]\n",
      "Epoch 7:   0%|          | 0/28 [00:00<?, ?it/s, v_num=3.41e+7, train_loss_step=0.736, val_loss=0.522, train_loss_epoch=0.612]         \n",
      "Epoch 7:  75%|███████▌  | 21/28 [00:07<00:02,  2.65it/s, v_num=3.41e+7, train_loss_step=0.397, val_loss=0.526, train_loss_epoch=0.620]\u001b[32m [repeated 28x across cluster]\u001b[0m\n",
      "Epoch 7:  93%|█████████▎| 26/28 [00:08<00:00,  2.99it/s, v_num=3.41e+7, train_loss_step=0.483, val_loss=0.522, train_loss_epoch=0.612]\n",
      "Validation: |          | 0/? [00:00<?, ?it/s]\u001b[A\n",
      "Validation:   0%|          | 0/6 [00:00<?, ?it/s]\u001b[A\n",
      "Validation DataLoader 0:   0%|          | 0/6 [00:00<?, ?it/s]\u001b[A\n",
      "\u001b[36m(RayTrainWorker pid=2725548)\u001b[0m \n",
      "Validation DataLoader 0:  17%|█▋        | 1/6 [00:00<00:00,  5.96it/s]\u001b[A\n",
      "\u001b[36m(RayTrainWorker pid=2725150)\u001b[0m \n",
      "\u001b[36m(RayTrainWorker pid=2725548)\u001b[0m \n",
      "Validation DataLoader 0:  33%|███▎      | 2/6 [00:00<00:00,  5.09it/s]\u001b[A\n",
      "\u001b[36m(RayTrainWorker pid=2725150)\u001b[0m \n",
      "\u001b[36m(RayTrainWorker pid=2725548)\u001b[0m \n",
      "\u001b[36m(RayTrainWorker pid=2725150)\u001b[0m \n",
      "\u001b[36m(RayTrainWorker pid=2725548)\u001b[0m \n",
      "\u001b[36m(RayTrainWorker pid=2725150)\u001b[0m \n",
      "\u001b[36m(RayTrainWorker pid=2725548)\u001b[0m \n",
      "\u001b[36m(RayTrainWorker pid=2725548)\u001b[0m \n",
      "Validation DataLoader 0: 100%|██████████| 6/6 [00:01<00:00,  4.98it/s]\u001b[A\n",
      "Epoch 7: 100%|██████████| 28/28 [00:10<00:00,  2.67it/s, v_num=3.41e+7, train_loss_step=0.410, val_loss=0.857, train_loss_epoch=0.612]\n"
     ]
    },
    {
     "name": "stderr",
     "output_type": "stream",
     "text": [
      "\u001b[36m(RayTrainWorker pid=2725548)\u001b[0m Checkpoint successfully created at: Checkpoint(filesystem=local, path=/ictstr01/home/aih/serra.korkmaz/projects/saturn/hopt/hpopt_5ht1b_zinc/ray_results/TorchTrainer_2025-03-12_00-19-26/6ccfe64d/checkpoint_000007)\u001b[32m [repeated 2x across cluster]\u001b[0m\n",
      "2025-03-12 00:21:24,004\tWARNING experiment_state.py:206 -- Experiment state snapshotting has been triggered multiple times in the last 5.0 seconds and may become a bottleneck. A snapshot is forced if `CheckpointConfig(num_to_keep)` is set, and a trial has checkpointed >= `num_to_keep` times since the last snapshot.\n",
      "You may want to consider increasing the `CheckpointConfig(num_to_keep)` or decreasing the frequency of saving checkpoints.\n",
      "You can suppress this warning by setting the environment variable TUNE_WARN_EXCESSIVE_EXPERIMENT_CHECKPOINT_SYNC_THRESHOLD_S to a smaller value than the current threshold (5.0). Set it to 0 to completely suppress this warning.\n"
     ]
    },
    {
     "name": "stdout",
     "output_type": "stream",
     "text": [
      "\u001b[36m(RayTrainWorker pid=2725150)\u001b[0m \n",
      "\u001b[36m(RayTrainWorker pid=2725150)\u001b[0m \n",
      "Epoch 7: 100%|██████████| 28/28 [00:10<00:00,  2.61it/s, v_num=3.41e+7, train_loss_step=0.410, val_loss=0.857, train_loss_epoch=0.586]\n",
      "Epoch 8:   0%|          | 0/28 [00:00<?, ?it/s, v_num=3.41e+7, train_loss_step=0.410, val_loss=0.857, train_loss_epoch=0.586]         \n",
      "\u001b[36m(RayTrainWorker pid=2725150)\u001b[0m \n"
     ]
    },
    {
     "name": "stderr",
     "output_type": "stream",
     "text": [
      "2025-03-12 00:21:24,535\tWARNING experiment_state.py:206 -- Experiment state snapshotting has been triggered multiple times in the last 5.0 seconds and may become a bottleneck. A snapshot is forced if `CheckpointConfig(num_to_keep)` is set, and a trial has checkpointed >= `num_to_keep` times since the last snapshot.\n",
      "You may want to consider increasing the `CheckpointConfig(num_to_keep)` or decreasing the frequency of saving checkpoints.\n",
      "You can suppress this warning by setting the environment variable TUNE_WARN_EXCESSIVE_EXPERIMENT_CHECKPOINT_SYNC_THRESHOLD_S to a smaller value than the current threshold (5.0). Set it to 0 to completely suppress this warning.\n"
     ]
    },
    {
     "name": "stdout",
     "output_type": "stream",
     "text": [
      "Epoch 8:   7%|▋         | 2/28 [00:00<00:09,  2.62it/s, v_num=3.41e+7, train_loss_step=0.777, val_loss=0.717, train_loss_epoch=0.600]\u001b[32m [repeated 14x across cluster]\u001b[0m\n",
      "Epoch 8:  14%|█▍        | 4/28 [00:01<00:09,  2.54it/s, v_num=3.41e+7, train_loss_step=0.496, val_loss=0.717, train_loss_epoch=0.600]\n",
      "Epoch 8:  14%|█▍        | 4/28 [00:01<00:09,  2.54it/s, v_num=3.41e+7, train_loss_step=0.810, val_loss=0.717, train_loss_epoch=0.600]\n",
      "Epoch 7: 100%|██████████| 28/28 [00:10<00:00,  2.66it/s, v_num=3.41e+7, train_loss_step=0.413, val_loss=0.526, train_loss_epoch=0.620]\u001b[32m [repeated 5x across cluster]\u001b[0m\n",
      "Validation: |          | 0/? [00:00<?, ?it/s]\u001b[A\n",
      "Validation:   0%|          | 0/6 [00:00<?, ?it/s]\u001b[A\n",
      "Validation DataLoader 0:   0%|          | 0/6 [00:00<?, ?it/s]\u001b[A\n",
      "Validation DataLoader 0:  83%|████████▎ | 5/6 [00:01<00:00,  3.87it/s]\u001b[A\u001b[32m [repeated 8x across cluster]\u001b[0m\n",
      "Validation DataLoader 0: 100%|██████████| 6/6 [00:01<00:00,  4.06it/s]\u001b[A\n",
      "Epoch 7: 100%|██████████| 28/28 [00:12<00:00,  2.32it/s, v_num=3.41e+7, train_loss_step=0.413, val_loss=0.717, train_loss_epoch=0.620]\n",
      "Epoch 7: 100%|██████████| 28/28 [00:12<00:00,  2.28it/s, v_num=3.41e+7, train_loss_step=0.413, val_loss=0.717, train_loss_epoch=0.600]\n",
      "Epoch 8:   0%|          | 0/28 [00:00<?, ?it/s, v_num=3.41e+7, train_loss_step=0.413, val_loss=0.717, train_loss_epoch=0.600]         \n",
      "Epoch 8:  68%|██████▊   | 19/28 [00:06<00:03,  2.96it/s, v_num=3.41e+7, train_loss_step=0.694, val_loss=0.857, train_loss_epoch=0.586]\u001b[32m [repeated 27x across cluster]\u001b[0m\n",
      "Epoch 8:  93%|█████████▎| 26/28 [00:08<00:00,  2.99it/s, v_num=3.41e+7, train_loss_step=0.576, val_loss=0.857, train_loss_epoch=0.586]\n",
      "Epoch 8:  96%|█████████▋| 27/28 [00:09<00:00,  2.98it/s, v_num=3.41e+7, train_loss_step=0.858, val_loss=0.857, train_loss_epoch=0.586]\n",
      "Epoch 8: 100%|██████████| 28/28 [00:09<00:00,  3.02it/s, v_num=3.41e+7, train_loss_step=0.707, val_loss=0.857, train_loss_epoch=0.586]\n",
      "Validation: |          | 0/? [00:00<?, ?it/s]\u001b[A\n",
      "\u001b[36m(RayTrainWorker pid=2725548)\u001b[0m \n",
      "Validation:   0%|          | 0/6 [00:00<?, ?it/s]\u001b[A\n",
      "Validation DataLoader 0:   0%|          | 0/6 [00:00<?, ?it/s]\u001b[A\n",
      "\u001b[36m(RayTrainWorker pid=2725548)\u001b[0m \n",
      "Validation DataLoader 0:  17%|█▋        | 1/6 [00:00<00:00,  6.18it/s]\u001b[A\n",
      "\u001b[36m(RayTrainWorker pid=2725548)\u001b[0m \n",
      "Validation DataLoader 0:  33%|███▎      | 2/6 [00:00<00:00,  4.91it/s]\u001b[A\n",
      "\u001b[36m(RayTrainWorker pid=2725548)\u001b[0m \n",
      "Validation DataLoader 0:  50%|█████     | 3/6 [00:00<00:00,  4.53it/s]\u001b[A\n",
      "\u001b[36m(RayTrainWorker pid=2725548)\u001b[0m \n",
      "Validation DataLoader 0:  67%|██████▋   | 4/6 [00:00<00:00,  4.48it/s]\u001b[A\n",
      "\u001b[36m(RayTrainWorker pid=2725548)\u001b[0m \n",
      "Validation DataLoader 0:  83%|████████▎ | 5/6 [00:01<00:00,  4.53it/s]\u001b[A\n",
      "\u001b[36m(RayTrainWorker pid=2725548)\u001b[0m \n",
      "Validation DataLoader 0: 100%|██████████| 6/6 [00:01<00:00,  4.86it/s]\u001b[A\n",
      "Epoch 8: 100%|██████████| 28/28 [00:10<00:00,  2.65it/s, v_num=3.41e+7, train_loss_step=0.707, val_loss=0.632, train_loss_epoch=0.586]\n"
     ]
    },
    {
     "name": "stderr",
     "output_type": "stream",
     "text": [
      "2025-03-12 00:21:35,023\tWARNING experiment_state.py:206 -- Experiment state snapshotting has been triggered multiple times in the last 5.0 seconds and may become a bottleneck. A snapshot is forced if `CheckpointConfig(num_to_keep)` is set, and a trial has checkpointed >= `num_to_keep` times since the last snapshot.\n",
      "You may want to consider increasing the `CheckpointConfig(num_to_keep)` or decreasing the frequency of saving checkpoints.\n",
      "You can suppress this warning by setting the environment variable TUNE_WARN_EXCESSIVE_EXPERIMENT_CHECKPOINT_SYNC_THRESHOLD_S to a smaller value than the current threshold (5.0). Set it to 0 to completely suppress this warning.\n",
      "\u001b[36m(RayTrainWorker pid=2725548)\u001b[0m Checkpoint successfully created at: Checkpoint(filesystem=local, path=/ictstr01/home/aih/serra.korkmaz/projects/saturn/hopt/hpopt_5ht1b_zinc/ray_results/TorchTrainer_2025-03-12_00-19-26/6ccfe64d/checkpoint_000008)\u001b[32m [repeated 2x across cluster]\u001b[0m\n"
     ]
    },
    {
     "name": "stdout",
     "output_type": "stream",
     "text": [
      "Epoch 8: 100%|██████████| 28/28 [00:10<00:00,  2.59it/s, v_num=3.41e+7, train_loss_step=0.707, val_loss=0.632, train_loss_epoch=0.592]\n",
      "Epoch 9:   0%|          | 0/28 [00:00<?, ?it/s, v_num=3.41e+7, train_loss_step=0.707, val_loss=0.632, train_loss_epoch=0.592]         \n",
      "Epoch 9:   4%|▎         | 1/28 [00:00<00:10,  2.64it/s, v_num=3.41e+7, train_loss_step=0.604, val_loss=0.632, train_loss_epoch=0.592]\u001b[32m [repeated 18x across cluster]\u001b[0m\n",
      "\u001b[36m(RayTrainWorker pid=2725150)\u001b[0m \n",
      "\u001b[36m(RayTrainWorker pid=2725150)\u001b[0m \n",
      "\u001b[36m(RayTrainWorker pid=2725150)\u001b[0m \n",
      "\u001b[36m(RayTrainWorker pid=2725150)\u001b[0m \n",
      "\u001b[36m(RayTrainWorker pid=2725150)\u001b[0m \n",
      "\u001b[36m(RayTrainWorker pid=2725150)\u001b[0m \n"
     ]
    },
    {
     "name": "stderr",
     "output_type": "stream",
     "text": [
      "2025-03-12 00:21:37,435\tWARNING experiment_state.py:206 -- Experiment state snapshotting has been triggered multiple times in the last 5.0 seconds and may become a bottleneck. A snapshot is forced if `CheckpointConfig(num_to_keep)` is set, and a trial has checkpointed >= `num_to_keep` times since the last snapshot.\n",
      "You may want to consider increasing the `CheckpointConfig(num_to_keep)` or decreasing the frequency of saving checkpoints.\n",
      "You can suppress this warning by setting the environment variable TUNE_WARN_EXCESSIVE_EXPERIMENT_CHECKPOINT_SYNC_THRESHOLD_S to a smaller value than the current threshold (5.0). Set it to 0 to completely suppress this warning.\n"
     ]
    },
    {
     "name": "stdout",
     "output_type": "stream",
     "text": [
      "Epoch 8: 100%|██████████| 28/28 [00:10<00:00,  2.61it/s, v_num=3.41e+7, train_loss_step=0.783, val_loss=0.717, train_loss_epoch=0.600]\u001b[32m [repeated 3x across cluster]\u001b[0m\n",
      "Validation: |          | 0/? [00:00<?, ?it/s]\u001b[A\n",
      "Validation:   0%|          | 0/6 [00:00<?, ?it/s]\u001b[A\n",
      "Validation DataLoader 0:   0%|          | 0/6 [00:00<?, ?it/s]\u001b[A\n",
      "Validation DataLoader 0:  83%|████████▎ | 5/6 [00:01<00:00,  3.35it/s]\u001b[A\u001b[32m [repeated 5x across cluster]\u001b[0m\n",
      "Validation DataLoader 0: 100%|██████████| 6/6 [00:01<00:00,  3.57it/s]\u001b[A\n",
      "Epoch 8: 100%|██████████| 28/28 [00:12<00:00,  2.24it/s, v_num=3.41e+7, train_loss_step=0.783, val_loss=0.695, train_loss_epoch=0.600]\n",
      "Epoch 8: 100%|██████████| 28/28 [00:12<00:00,  2.20it/s, v_num=3.41e+7, train_loss_step=0.783, val_loss=0.695, train_loss_epoch=0.616]\n",
      "Epoch 9:   0%|          | 0/28 [00:00<?, ?it/s, v_num=3.41e+7, train_loss_step=0.783, val_loss=0.695, train_loss_epoch=0.616]         \n",
      "Epoch 9:  32%|███▏      | 9/28 [00:03<00:06,  2.85it/s, v_num=3.41e+7, train_loss_step=0.615, val_loss=0.695, train_loss_epoch=0.616]\u001b[32m [repeated 24x across cluster]\u001b[0m\n",
      "Epoch 9:  93%|█████████▎| 26/28 [00:08<00:00,  3.05it/s, v_num=3.41e+7, train_loss_step=0.506, val_loss=0.632, train_loss_epoch=0.592]\n",
      "Epoch 9:  96%|█████████▋| 27/28 [00:08<00:00,  3.05it/s, v_num=3.41e+7, train_loss_step=0.523, val_loss=0.632, train_loss_epoch=0.592]\n",
      "Epoch 9: 100%|██████████| 28/28 [00:09<00:00,  3.06it/s, v_num=3.41e+7, train_loss_step=0.460, val_loss=0.632, train_loss_epoch=0.592]\n",
      "Validation: |          | 0/? [00:00<?, ?it/s]\u001b[A\n",
      "Validation:   0%|          | 0/6 [00:00<?, ?it/s]\u001b[A\n",
      "Validation DataLoader 0:   0%|          | 0/6 [00:00<?, ?it/s]\u001b[A\n",
      "\u001b[36m(RayTrainWorker pid=2725548)\u001b[0m \n",
      "Validation DataLoader 0:  17%|█▋        | 1/6 [00:00<00:01,  4.69it/s]\u001b[A\n",
      "\u001b[36m(RayTrainWorker pid=2725548)\u001b[0m \n",
      "Validation DataLoader 0:  33%|███▎      | 2/6 [00:00<00:00,  4.57it/s]\u001b[A\n",
      "\u001b[36m(RayTrainWorker pid=2725548)\u001b[0m \n",
      "Validation DataLoader 0:  50%|█████     | 3/6 [00:00<00:00,  4.73it/s]\u001b[A\n",
      "\u001b[36m(RayTrainWorker pid=2725548)\u001b[0m \n",
      "Validation DataLoader 0:  67%|██████▋   | 4/6 [00:00<00:00,  4.64it/s]\u001b[A\n",
      "\u001b[36m(RayTrainWorker pid=2725548)\u001b[0m \n",
      "Validation DataLoader 0:  83%|████████▎ | 5/6 [00:01<00:00,  4.66it/s]\u001b[A\n",
      "\u001b[36m(RayTrainWorker pid=2725548)\u001b[0m \n",
      "Validation DataLoader 0: 100%|██████████| 6/6 [00:01<00:00,  4.98it/s]\u001b[A\n",
      "Epoch 9: 100%|██████████| 28/28 [00:10<00:00,  2.69it/s, v_num=3.41e+7, train_loss_step=0.460, val_loss=0.578, train_loss_epoch=0.592]\n",
      "Epoch 9:  79%|███████▊  | 22/28 [00:08<00:02,  2.70it/s, v_num=3.41e+7, train_loss_step=0.637, val_loss=0.695, train_loss_epoch=0.616]\u001b[32m [repeated 22x across cluster]\u001b[0m\n",
      "Epoch 9: 100%|██████████| 28/28 [00:10<00:00,  2.63it/s, v_num=3.41e+7, train_loss_step=0.460, val_loss=0.578, train_loss_epoch=0.560]\n",
      "Epoch 10:   0%|          | 0/28 [00:00<?, ?it/s, v_num=3.41e+7, train_loss_step=0.460, val_loss=0.578, train_loss_epoch=0.560]        \n"
     ]
    },
    {
     "name": "stderr",
     "output_type": "stream",
     "text": [
      "\u001b[36m(RayTrainWorker pid=2725548)\u001b[0m Checkpoint successfully created at: Checkpoint(filesystem=local, path=/ictstr01/home/aih/serra.korkmaz/projects/saturn/hopt/hpopt_5ht1b_zinc/ray_results/TorchTrainer_2025-03-12_00-19-26/6ccfe64d/checkpoint_000009)\u001b[32m [repeated 2x across cluster]\u001b[0m\n"
     ]
    },
    {
     "name": "stdout",
     "output_type": "stream",
     "text": [
      "\u001b[36m(RayTrainWorker pid=2725150)\u001b[0m \n",
      "\u001b[36m(RayTrainWorker pid=2725150)\u001b[0m \n",
      "\u001b[36m(RayTrainWorker pid=2725150)\u001b[0m \n",
      "\u001b[36m(RayTrainWorker pid=2725150)\u001b[0m \n",
      "Epoch 9: 100%|██████████| 28/28 [00:10<00:00,  2.76it/s, v_num=3.41e+7, train_loss_step=0.480, val_loss=0.695, train_loss_epoch=0.616]\u001b[32m [repeated 3x across cluster]\u001b[0m\n",
      "\u001b[36m(RayTrainWorker pid=2725150)\u001b[0m \n",
      "\u001b[36m(RayTrainWorker pid=2725150)\u001b[0m \n"
     ]
    },
    {
     "name": "stderr",
     "output_type": "stream",
     "text": [
      "2025-03-12 00:21:49,478\tWARNING experiment_state.py:206 -- Experiment state snapshotting has been triggered multiple times in the last 5.0 seconds and may become a bottleneck. A snapshot is forced if `CheckpointConfig(num_to_keep)` is set, and a trial has checkpointed >= `num_to_keep` times since the last snapshot.\n",
      "You may want to consider increasing the `CheckpointConfig(num_to_keep)` or decreasing the frequency of saving checkpoints.\n",
      "You can suppress this warning by setting the environment variable TUNE_WARN_EXCESSIVE_EXPERIMENT_CHECKPOINT_SYNC_THRESHOLD_S to a smaller value than the current threshold (5.0). Set it to 0 to completely suppress this warning.\n"
     ]
    },
    {
     "name": "stdout",
     "output_type": "stream",
     "text": [
      "Validation: |          | 0/? [00:00<?, ?it/s]\u001b[A\n",
      "Validation:   0%|          | 0/6 [00:00<?, ?it/s]\u001b[A\n",
      "Validation DataLoader 0:   0%|          | 0/6 [00:00<?, ?it/s]\u001b[A\n",
      "Validation DataLoader 0:  83%|████████▎ | 5/6 [00:01<00:00,  3.99it/s]\u001b[A\u001b[32m [repeated 5x across cluster]\u001b[0m\n",
      "Validation DataLoader 0: 100%|██████████| 6/6 [00:01<00:00,  4.17it/s]\u001b[A\n",
      "Epoch 9: 100%|██████████| 28/28 [00:11<00:00,  2.40it/s, v_num=3.41e+7, train_loss_step=0.480, val_loss=0.808, train_loss_epoch=0.616]\n",
      "Epoch 10:  57%|█████▋    | 16/28 [00:04<00:03,  3.27it/s, v_num=3.41e+7, train_loss_step=0.511, val_loss=0.578, train_loss_epoch=0.560]\u001b[32m [repeated 22x across cluster]\u001b[0m\n",
      "Epoch 9: 100%|██████████| 28/28 [00:11<00:00,  2.36it/s, v_num=3.41e+7, train_loss_step=0.480, val_loss=0.808, train_loss_epoch=0.589]\n",
      "Epoch 10:   0%|          | 0/28 [00:00<?, ?it/s, v_num=3.41e+7, train_loss_step=0.480, val_loss=0.808, train_loss_epoch=0.589]        \n",
      "Epoch 10:  82%|████████▏ | 23/28 [00:07<00:01,  3.27it/s, v_num=3.41e+7, train_loss_step=0.389, val_loss=0.578, train_loss_epoch=0.560]\n",
      "Epoch 10:  82%|████████▏ | 23/28 [00:07<00:01,  3.27it/s, v_num=3.41e+7, train_loss_step=0.538, val_loss=0.578, train_loss_epoch=0.560]\n",
      "Epoch 10:  93%|█████████▎| 26/28 [00:08<00:00,  3.23it/s, v_num=3.41e+7, train_loss_step=0.436, val_loss=0.578, train_loss_epoch=0.560]\n",
      "Epoch 10:  96%|█████████▋| 27/28 [00:08<00:00,  3.22it/s, v_num=3.41e+7, train_loss_step=0.448, val_loss=0.578, train_loss_epoch=0.560]\n",
      "Epoch 10: 100%|██████████| 28/28 [00:08<00:00,  3.24it/s, v_num=3.41e+7, train_loss_step=0.544, val_loss=0.578, train_loss_epoch=0.560]\n",
      "Validation: |          | 0/? [00:00<?, ?it/s]\u001b[A\n",
      "\u001b[36m(RayTrainWorker pid=2725548)\u001b[0m \n",
      "Validation:   0%|          | 0/6 [00:00<?, ?it/s]\u001b[A\n",
      "Validation DataLoader 0:   0%|          | 0/6 [00:00<?, ?it/s]\u001b[A\n",
      "\u001b[36m(RayTrainWorker pid=2725548)\u001b[0m \n",
      "Validation DataLoader 0:  17%|█▋        | 1/6 [00:00<00:00,  5.64it/s]\u001b[A\n",
      "\u001b[36m(RayTrainWorker pid=2725548)\u001b[0m \n",
      "Validation DataLoader 0:  33%|███▎      | 2/6 [00:00<00:00,  4.81it/s]\u001b[A\n",
      "\u001b[36m(RayTrainWorker pid=2725548)\u001b[0m \n",
      "Validation DataLoader 0:  50%|█████     | 3/6 [00:00<00:00,  4.76it/s]\u001b[A\n",
      "\u001b[36m(RayTrainWorker pid=2725548)\u001b[0m \n",
      "Validation DataLoader 0:  67%|██████▋   | 4/6 [00:00<00:00,  4.70it/s]\u001b[A\n",
      "\u001b[36m(RayTrainWorker pid=2725548)\u001b[0m \n",
      "Validation DataLoader 0:  83%|████████▎ | 5/6 [00:01<00:00,  4.72it/s]\u001b[A\n",
      "\u001b[36m(RayTrainWorker pid=2725548)\u001b[0m \n",
      "Validation DataLoader 0: 100%|██████████| 6/6 [00:01<00:00,  5.04it/s]\u001b[A\n",
      "Epoch 10: 100%|██████████| 28/28 [00:09<00:00,  2.83it/s, v_num=3.41e+7, train_loss_step=0.544, val_loss=0.457, train_loss_epoch=0.560]\n",
      "Epoch 10:  64%|██████▍   | 18/28 [00:06<00:03,  2.84it/s, v_num=3.41e+7, train_loss_step=0.526, val_loss=0.808, train_loss_epoch=0.589]\u001b[32m [repeated 23x across cluster]\u001b[0m\n",
      "Epoch 10: 100%|██████████| 28/28 [00:10<00:00,  2.77it/s, v_num=3.41e+7, train_loss_step=0.544, val_loss=0.457, train_loss_epoch=0.522]\n"
     ]
    },
    {
     "name": "stderr",
     "output_type": "stream",
     "text": [
      "\u001b[36m(RayTrainWorker pid=2725548)\u001b[0m Checkpoint successfully created at: Checkpoint(filesystem=local, path=/ictstr01/home/aih/serra.korkmaz/projects/saturn/hopt/hpopt_5ht1b_zinc/ray_results/TorchTrainer_2025-03-12_00-19-26/6ccfe64d/checkpoint_000010)\u001b[32m [repeated 2x across cluster]\u001b[0m\n"
     ]
    },
    {
     "name": "stdout",
     "output_type": "stream",
     "text": [
      "Epoch 11:   0%|          | 0/28 [00:00<?, ?it/s, v_num=3.41e+7, train_loss_step=0.544, val_loss=0.457, train_loss_epoch=0.522]         \n",
      "Epoch 11:  14%|█▍        | 4/28 [00:01<00:07,  3.12it/s, v_num=3.41e+7, train_loss_step=0.583, val_loss=0.457, train_loss_epoch=0.522]\n",
      "Epoch 11:  14%|█▍        | 4/28 [00:01<00:07,  3.12it/s, v_num=3.41e+7, train_loss_step=0.563, val_loss=0.457, train_loss_epoch=0.522]\n",
      "Epoch 10:  96%|█████████▋| 27/28 [00:09<00:00,  2.85it/s, v_num=3.41e+7, train_loss_step=0.502, val_loss=0.808, train_loss_epoch=0.589]\u001b[32m [repeated 2x across cluster]\u001b[0m\n",
      "\u001b[36m(RayTrainWorker pid=2725150)\u001b[0m \n",
      "\u001b[36m(RayTrainWorker pid=2725150)\u001b[0m \n",
      "Validation: |          | 0/? [00:00<?, ?it/s]\u001b[A\n",
      "Validation:   0%|          | 0/6 [00:00<?, ?it/s]\u001b[A\n",
      "Validation DataLoader 0:   0%|          | 0/6 [00:00<?, ?it/s]\u001b[A\n",
      "\u001b[36m(RayTrainWorker pid=2725150)\u001b[0m \n",
      "Validation DataLoader 0:  33%|███▎      | 2/6 [00:00<00:00,  4.18it/s]\u001b[A\u001b[32m [repeated 2x across cluster]\u001b[0m\n",
      "\u001b[36m(RayTrainWorker pid=2725150)\u001b[0m \n",
      "\u001b[36m(RayTrainWorker pid=2725150)\u001b[0m \n",
      "\u001b[36m(RayTrainWorker pid=2725150)\u001b[0m \n",
      "\u001b[36m(RayTrainWorker pid=2725150)\u001b[0m \n"
     ]
    },
    {
     "name": "stderr",
     "output_type": "stream",
     "text": [
      "2025-03-12 00:22:01,061\tWARNING experiment_state.py:206 -- Experiment state snapshotting has been triggered multiple times in the last 5.0 seconds and may become a bottleneck. A snapshot is forced if `CheckpointConfig(num_to_keep)` is set, and a trial has checkpointed >= `num_to_keep` times since the last snapshot.\n",
      "You may want to consider increasing the `CheckpointConfig(num_to_keep)` or decreasing the frequency of saving checkpoints.\n",
      "You can suppress this warning by setting the environment variable TUNE_WARN_EXCESSIVE_EXPERIMENT_CHECKPOINT_SYNC_THRESHOLD_S to a smaller value than the current threshold (5.0). Set it to 0 to completely suppress this warning.\n"
     ]
    },
    {
     "name": "stdout",
     "output_type": "stream",
     "text": [
      "Validation DataLoader 0: 100%|██████████| 6/6 [00:01<00:00,  4.34it/s]\u001b[A\n",
      "Epoch 10: 100%|██████████| 28/28 [00:11<00:00,  2.50it/s, v_num=3.41e+7, train_loss_step=0.596, val_loss=0.529, train_loss_epoch=0.589]\n",
      "Epoch 11:  54%|█████▎    | 15/28 [00:04<00:03,  3.34it/s, v_num=3.41e+7, train_loss_step=0.334, val_loss=0.457, train_loss_epoch=0.522]\u001b[32m [repeated 21x across cluster]\u001b[0m\n",
      "Epoch 10: 100%|██████████| 28/28 [00:11<00:00,  2.45it/s, v_num=3.41e+7, train_loss_step=0.596, val_loss=0.529, train_loss_epoch=0.561]\n",
      "Epoch 11:   0%|          | 0/28 [00:00<?, ?it/s, v_num=3.41e+7, train_loss_step=0.596, val_loss=0.529, train_loss_epoch=0.561]         \n",
      "Epoch 10: 100%|██████████| 28/28 [00:09<00:00,  2.86it/s, v_num=3.41e+7, train_loss_step=0.596, val_loss=0.808, train_loss_epoch=0.589]\n",
      "Epoch 11:  93%|█████████▎| 26/28 [00:08<00:00,  3.15it/s, v_num=3.41e+7, train_loss_step=0.646, val_loss=0.457, train_loss_epoch=0.522]\n",
      "Epoch 11:  96%|█████████▋| 27/28 [00:08<00:00,  3.14it/s, v_num=3.41e+7, train_loss_step=0.461, val_loss=0.457, train_loss_epoch=0.522]\n",
      "Validation DataLoader 0:  83%|████████▎ | 5/6 [00:01<00:00,  4.06it/s]\u001b[A\u001b[32m [repeated 3x across cluster]\u001b[0m\n",
      "Epoch 11: 100%|██████████| 28/28 [00:08<00:00,  3.15it/s, v_num=3.41e+7, train_loss_step=0.629, val_loss=0.457, train_loss_epoch=0.522]\n",
      "Validation: |          | 0/? [00:00<?, ?it/s]\u001b[A\n",
      "Validation:   0%|          | 0/6 [00:00<?, ?it/s]\u001b[A\n",
      "Validation DataLoader 0:   0%|          | 0/6 [00:00<?, ?it/s]\u001b[A\n",
      "\u001b[36m(RayTrainWorker pid=2725548)\u001b[0m \n",
      "\u001b[36m(RayTrainWorker pid=2725548)\u001b[0m \n",
      "\u001b[36m(RayTrainWorker pid=2725548)\u001b[0m \n",
      "\u001b[36m(RayTrainWorker pid=2725548)\u001b[0m \n",
      "Epoch 11:  43%|████▎     | 12/28 [00:04<00:06,  2.53it/s, v_num=3.41e+7, train_loss_step=0.368, val_loss=0.529, train_loss_epoch=0.561]\u001b[32m [repeated 22x across cluster]\u001b[0m\n",
      "\u001b[36m(RayTrainWorker pid=2725548)\u001b[0m \n",
      "\u001b[36m(RayTrainWorker pid=2725548)\u001b[0m \n",
      "Validation DataLoader 0: 100%|██████████| 6/6 [00:01<00:00,  4.39it/s]\u001b[A\n",
      "Epoch 11: 100%|██████████| 28/28 [00:10<00:00,  2.72it/s, v_num=3.41e+7, train_loss_step=0.629, val_loss=0.435, train_loss_epoch=0.522]\n",
      "Epoch 11: 100%|██████████| 28/28 [00:10<00:00,  2.65it/s, v_num=3.41e+7, train_loss_step=0.629, val_loss=0.435, train_loss_epoch=0.510]\n"
     ]
    },
    {
     "name": "stderr",
     "output_type": "stream",
     "text": [
      "\u001b[36m(RayTrainWorker pid=2725548)\u001b[0m Checkpoint successfully created at: Checkpoint(filesystem=local, path=/ictstr01/home/aih/serra.korkmaz/projects/saturn/hopt/hpopt_5ht1b_zinc/ray_results/TorchTrainer_2025-03-12_00-19-26/6ccfe64d/checkpoint_000011)\u001b[32m [repeated 2x across cluster]\u001b[0m\n"
     ]
    },
    {
     "name": "stdout",
     "output_type": "stream",
     "text": [
      "Epoch 12:   0%|          | 0/28 [00:00<?, ?it/s, v_num=3.41e+7, train_loss_step=0.629, val_loss=0.435, train_loss_epoch=0.510]         \n",
      "Validation DataLoader 0:  83%|████████▎ | 5/6 [00:01<00:00,  4.09it/s]\u001b[A\u001b[32m [repeated 5x across cluster]\u001b[0m\n",
      "Epoch 12:  46%|████▋     | 13/28 [00:04<00:04,  3.14it/s, v_num=3.41e+7, train_loss_step=0.591, val_loss=0.435, train_loss_epoch=0.510]\u001b[32m [repeated 26x across cluster]\u001b[0m\n",
      "Epoch 11:  93%|█████████▎| 26/28 [00:10<00:00,  2.59it/s, v_num=3.41e+7, train_loss_step=0.722, val_loss=0.529, train_loss_epoch=0.561]\n",
      "Epoch 11:  96%|█████████▋| 27/28 [00:10<00:00,  2.59it/s, v_num=3.41e+7, train_loss_step=0.502, val_loss=0.529, train_loss_epoch=0.561]\n",
      "Epoch 11: 100%|██████████| 28/28 [00:10<00:00,  2.62it/s, v_num=3.41e+7, train_loss_step=0.671, val_loss=0.529, train_loss_epoch=0.561]\n",
      "Validation: |          | 0/? [00:00<?, ?it/s]\u001b[A\n",
      "\u001b[36m(RayTrainWorker pid=2725150)\u001b[0m \n",
      "Validation:   0%|          | 0/6 [00:00<?, ?it/s]\u001b[A\n",
      "Validation DataLoader 0:   0%|          | 0/6 [00:00<?, ?it/s]\u001b[A\n",
      "\u001b[36m(RayTrainWorker pid=2725150)\u001b[0m \n",
      "\u001b[36m(RayTrainWorker pid=2725150)\u001b[0m \n",
      "\u001b[36m(RayTrainWorker pid=2725150)\u001b[0m \n",
      "\u001b[36m(RayTrainWorker pid=2725150)\u001b[0m \n",
      "\u001b[36m(RayTrainWorker pid=2725150)\u001b[0m \n",
      "\u001b[36m(RayTrainWorker pid=2725150)\u001b[0m \n",
      "Validation DataLoader 0: 100%|██████████| 6/6 [00:01<00:00,  3.79it/s]\u001b[A\n",
      "Epoch 11: 100%|██████████| 28/28 [00:12<00:00,  2.27it/s, v_num=3.41e+7, train_loss_step=0.671, val_loss=0.488, train_loss_epoch=0.561]\n",
      "Epoch 11: 100%|██████████| 28/28 [00:12<00:00,  2.23it/s, v_num=3.41e+7, train_loss_step=0.671, val_loss=0.488, train_loss_epoch=0.557]\n",
      "Epoch 12:   0%|          | 0/28 [00:00<?, ?it/s, v_num=3.41e+7, train_loss_step=0.671, val_loss=0.488, train_loss_epoch=0.557]         \n"
     ]
    },
    {
     "name": "stderr",
     "output_type": "stream",
     "text": [
      "\u001b[36m(RayTrainWorker pid=2725150)\u001b[0m Checkpoint successfully created at: Checkpoint(filesystem=local, path=/ictstr01/home/aih/serra.korkmaz/projects/saturn/hopt/hpopt_5ht1b_zinc/ray_results/TorchTrainer_2025-03-12_00-19-26/6f0157cc/checkpoint_000011)\n"
     ]
    },
    {
     "name": "stdout",
     "output_type": "stream",
     "text": [
      "Validation DataLoader 0:  83%|████████▎ | 5/6 [00:01<00:00,  3.50it/s]\u001b[A\u001b[32m [repeated 5x across cluster]\u001b[0m\n",
      "\u001b[36m(RayTrainWorker pid=2725548)\u001b[0m \n",
      "\u001b[36m(RayTrainWorker pid=2725548)\u001b[0m \n",
      "Epoch 12:  21%|██▏       | 6/28 [00:02<00:08,  2.67it/s, v_num=3.41e+7, train_loss_step=0.460, val_loss=0.488, train_loss_epoch=0.557]\u001b[32m [repeated 18x across cluster]\u001b[0m\n",
      "\u001b[36m(RayTrainWorker pid=2725548)\u001b[0m \n",
      "Epoch 12: 100%|██████████| 28/28 [00:08<00:00,  3.18it/s, v_num=3.41e+7, train_loss_step=0.493, val_loss=0.435, train_loss_epoch=0.510]\u001b[32m [repeated 3x across cluster]\u001b[0m\n",
      "\u001b[36m(RayTrainWorker pid=2725548)\u001b[0m \n",
      "\u001b[36m(RayTrainWorker pid=2725548)\u001b[0m \n",
      "Validation: |          | 0/? [00:00<?, ?it/s]\u001b[A\n",
      "\u001b[36m(RayTrainWorker pid=2725548)\u001b[0m \n",
      "Validation:   0%|          | 0/6 [00:00<?, ?it/s]\u001b[A\n",
      "Validation DataLoader 0:   0%|          | 0/6 [00:00<?, ?it/s]\u001b[A\n",
      "\u001b[36m(RayTrainWorker pid=2725548)\u001b[0m \n"
     ]
    },
    {
     "name": "stderr",
     "output_type": "stream",
     "text": [
      "2025-03-12 00:22:17,386\tWARNING experiment_state.py:206 -- Experiment state snapshotting has been triggered multiple times in the last 5.0 seconds and may become a bottleneck. A snapshot is forced if `CheckpointConfig(num_to_keep)` is set, and a trial has checkpointed >= `num_to_keep` times since the last snapshot.\n",
      "You may want to consider increasing the `CheckpointConfig(num_to_keep)` or decreasing the frequency of saving checkpoints.\n",
      "You can suppress this warning by setting the environment variable TUNE_WARN_EXCESSIVE_EXPERIMENT_CHECKPOINT_SYNC_THRESHOLD_S to a smaller value than the current threshold (5.0). Set it to 0 to completely suppress this warning.\n",
      "\u001b[36m(RayTrainWorker pid=2725548)\u001b[0m Checkpoint successfully created at: Checkpoint(filesystem=local, path=/ictstr01/home/aih/serra.korkmaz/projects/saturn/hopt/hpopt_5ht1b_zinc/ray_results/TorchTrainer_2025-03-12_00-19-26/6ccfe64d/checkpoint_000012)\n"
     ]
    },
    {
     "name": "stdout",
     "output_type": "stream",
     "text": [
      "Validation DataLoader 0: 100%|██████████| 6/6 [00:01<00:00,  4.45it/s]\u001b[A\n",
      "Epoch 12: 100%|██████████| 28/28 [00:10<00:00,  2.74it/s, v_num=3.41e+7, train_loss_step=0.493, val_loss=0.613, train_loss_epoch=0.510]\n",
      "Epoch 12: 100%|██████████| 28/28 [00:10<00:00,  2.68it/s, v_num=3.41e+7, train_loss_step=0.493, val_loss=0.613, train_loss_epoch=0.508]\n",
      "Epoch 13:   0%|          | 0/28 [00:00<?, ?it/s, v_num=3.41e+7, train_loss_step=0.493, val_loss=0.613, train_loss_epoch=0.508]         \n",
      "Validation DataLoader 0:  83%|████████▎ | 5/6 [00:01<00:00,  4.12it/s]\u001b[A\u001b[32m [repeated 5x across cluster]\u001b[0m\n",
      "Epoch 12:  71%|███████▏  | 20/28 [00:07<00:02,  2.73it/s, v_num=3.41e+7, train_loss_step=0.466, val_loss=0.488, train_loss_epoch=0.557]\u001b[32m [repeated 25x across cluster]\u001b[0m\n",
      "Epoch 12:  93%|█████████▎| 26/28 [00:09<00:00,  2.76it/s, v_num=3.41e+7, train_loss_step=0.568, val_loss=0.488, train_loss_epoch=0.557]\n",
      "Epoch 12:  96%|█████████▋| 27/28 [00:09<00:00,  2.77it/s, v_num=3.41e+7, train_loss_step=0.565, val_loss=0.488, train_loss_epoch=0.557]\n",
      "Epoch 12: 100%|██████████| 28/28 [00:10<00:00,  2.79it/s, v_num=3.41e+7, train_loss_step=0.483, val_loss=0.488, train_loss_epoch=0.557]\n",
      "Validation: |          | 0/? [00:00<?, ?it/s]\u001b[A\n",
      "Validation:   0%|          | 0/6 [00:00<?, ?it/s]\u001b[A\n",
      "Validation DataLoader 0:   0%|          | 0/6 [00:00<?, ?it/s]\u001b[A\n",
      "\u001b[36m(RayTrainWorker pid=2725150)\u001b[0m \n",
      "\u001b[36m(RayTrainWorker pid=2725150)\u001b[0m \n",
      "\u001b[36m(RayTrainWorker pid=2725150)\u001b[0m \n",
      "\u001b[36m(RayTrainWorker pid=2725150)\u001b[0m \n",
      "\u001b[36m(RayTrainWorker pid=2725150)\u001b[0m \n",
      "Validation DataLoader 0:  83%|████████▎ | 5/6 [00:01<00:00,  3.31it/s]\u001b[A\u001b[32m [repeated 5x across cluster]\u001b[0m\n",
      "\u001b[36m(RayTrainWorker pid=2725150)\u001b[0m \n",
      "Validation DataLoader 0: 100%|██████████| 6/6 [00:01<00:00,  3.54it/s]\u001b[A\n",
      "Epoch 12: 100%|██████████| 28/28 [00:11<00:00,  2.37it/s, v_num=3.41e+7, train_loss_step=0.483, val_loss=0.773, train_loss_epoch=0.557]\n",
      "Epoch 12: 100%|██████████| 28/28 [00:12<00:00,  2.33it/s, v_num=3.41e+7, train_loss_step=0.483, val_loss=0.773, train_loss_epoch=0.551]\n"
     ]
    },
    {
     "name": "stderr",
     "output_type": "stream",
     "text": [
      "\u001b[36m(RayTrainWorker pid=2725150)\u001b[0m Checkpoint successfully created at: Checkpoint(filesystem=local, path=/ictstr01/home/aih/serra.korkmaz/projects/saturn/hopt/hpopt_5ht1b_zinc/ray_results/TorchTrainer_2025-03-12_00-19-26/6f0157cc/checkpoint_000012)\n"
     ]
    },
    {
     "name": "stdout",
     "output_type": "stream",
     "text": [
      "Epoch 13:   0%|          | 0/28 [00:00<?, ?it/s, v_num=3.41e+7, train_loss_step=0.483, val_loss=0.773, train_loss_epoch=0.551]         \n",
      "Epoch 13:   4%|▎         | 1/28 [00:00<00:10,  2.54it/s, v_num=3.41e+7, train_loss_step=0.502, val_loss=0.773, train_loss_epoch=0.551]\u001b[32m [repeated 20x across cluster]\u001b[0m\n",
      "\u001b[36m(RayTrainWorker pid=2725548)\u001b[0m \n",
      "\u001b[36m(RayTrainWorker pid=2725548)\u001b[0m \n",
      "\u001b[36m(RayTrainWorker pid=2725548)\u001b[0m \n",
      "\u001b[36m(RayTrainWorker pid=2725548)\u001b[0m \n",
      "\u001b[36m(RayTrainWorker pid=2725548)\u001b[0m \n",
      "\u001b[36m(RayTrainWorker pid=2725548)\u001b[0m \n"
     ]
    },
    {
     "name": "stderr",
     "output_type": "stream",
     "text": [
      "\u001b[36m(RayTrainWorker pid=2725548)\u001b[0m Checkpoint successfully created at: Checkpoint(filesystem=local, path=/ictstr01/home/aih/serra.korkmaz/projects/saturn/hopt/hpopt_5ht1b_zinc/ray_results/TorchTrainer_2025-03-12_00-19-26/6ccfe64d/checkpoint_000013)\n",
      "2025-03-12 00:22:28,140\tWARNING experiment_state.py:206 -- Experiment state snapshotting has been triggered multiple times in the last 5.0 seconds and may become a bottleneck. A snapshot is forced if `CheckpointConfig(num_to_keep)` is set, and a trial has checkpointed >= `num_to_keep` times since the last snapshot.\n",
      "You may want to consider increasing the `CheckpointConfig(num_to_keep)` or decreasing the frequency of saving checkpoints.\n",
      "You can suppress this warning by setting the environment variable TUNE_WARN_EXCESSIVE_EXPERIMENT_CHECKPOINT_SYNC_THRESHOLD_S to a smaller value than the current threshold (5.0). Set it to 0 to completely suppress this warning.\n"
     ]
    },
    {
     "name": "stdout",
     "output_type": "stream",
     "text": [
      "Epoch 13: 100%|██████████| 28/28 [00:08<00:00,  3.15it/s, v_num=3.41e+7, train_loss_step=0.578, val_loss=0.613, train_loss_epoch=0.508]\u001b[32m [repeated 3x across cluster]\u001b[0m\n",
      "Validation: |          | 0/? [00:00<?, ?it/s]\u001b[A\n",
      "Validation:   0%|          | 0/6 [00:00<?, ?it/s]\u001b[A\n",
      "Validation DataLoader 0:   0%|          | 0/6 [00:00<?, ?it/s]\u001b[A\n",
      "Validation DataLoader 0:  83%|████████▎ | 5/6 [00:01<00:00,  4.06it/s]\u001b[A\u001b[32m [repeated 5x across cluster]\u001b[0m\n",
      "Validation DataLoader 0: 100%|██████████| 6/6 [00:01<00:00,  4.33it/s]\u001b[A\n",
      "Epoch 13: 100%|██████████| 28/28 [00:10<00:00,  2.71it/s, v_num=3.41e+7, train_loss_step=0.578, val_loss=0.605, train_loss_epoch=0.508]\n",
      "Epoch 13: 100%|██████████| 28/28 [00:10<00:00,  2.65it/s, v_num=3.41e+7, train_loss_step=0.578, val_loss=0.605, train_loss_epoch=0.480]\n",
      "Epoch 14:   0%|          | 0/28 [00:00<?, ?it/s, v_num=3.41e+7, train_loss_step=0.578, val_loss=0.605, train_loss_epoch=0.480]         \n",
      "Epoch 13:  54%|█████▎    | 15/28 [00:05<00:04,  2.77it/s, v_num=3.41e+7, train_loss_step=0.565, val_loss=0.773, train_loss_epoch=0.551]\u001b[32m [repeated 24x across cluster]\u001b[0m\n",
      "Epoch 13:  93%|█████████▎| 26/28 [00:09<00:00,  2.81it/s, v_num=3.41e+7, train_loss_step=0.502, val_loss=0.773, train_loss_epoch=0.551]\n",
      "Epoch 13:  96%|█████████▋| 27/28 [00:09<00:00,  2.81it/s, v_num=3.41e+7, train_loss_step=0.573, val_loss=0.773, train_loss_epoch=0.551]\n",
      "Epoch 13: 100%|██████████| 28/28 [00:09<00:00,  2.82it/s, v_num=3.41e+7, train_loss_step=0.614, val_loss=0.773, train_loss_epoch=0.551]\n",
      "Validation: |          | 0/? [00:00<?, ?it/s]\u001b[A\n",
      "\u001b[36m(RayTrainWorker pid=2725150)\u001b[0m \n",
      "Validation:   0%|          | 0/6 [00:00<?, ?it/s]\u001b[A\n",
      "Validation DataLoader 0:   0%|          | 0/6 [00:00<?, ?it/s]\u001b[A\n",
      "\u001b[36m(RayTrainWorker pid=2725150)\u001b[0m \n",
      "Validation DataLoader 0:  17%|█▋        | 1/6 [00:00<00:01,  3.75it/s]\u001b[A\n",
      "\u001b[36m(RayTrainWorker pid=2725150)\u001b[0m \n",
      "Validation DataLoader 0:  33%|███▎      | 2/6 [00:00<00:01,  3.38it/s]\u001b[A\n",
      "Epoch 14:  89%|████████▉ | 25/28 [00:07<00:00,  3.22it/s, v_num=3.41e+7, train_loss_step=0.470, val_loss=0.605, train_loss_epoch=0.480]\u001b[32m [repeated 25x across cluster]\u001b[0m\n",
      "\u001b[36m(RayTrainWorker pid=2725150)\u001b[0m \n",
      "Validation DataLoader 0:  50%|█████     | 3/6 [00:00<00:00,  3.35it/s]\u001b[A\n",
      "\u001b[36m(RayTrainWorker pid=2725150)\u001b[0m \n",
      "Validation DataLoader 0:  67%|██████▋   | 4/6 [00:01<00:00,  3.33it/s]\u001b[A\n",
      "\u001b[36m(RayTrainWorker pid=2725548)\u001b[0m \n",
      "\u001b[36m(RayTrainWorker pid=2725150)\u001b[0m \n",
      "\u001b[36m(RayTrainWorker pid=2725548)\u001b[0m \n",
      "\u001b[36m(RayTrainWorker pid=2725150)\u001b[0m \n",
      "Validation DataLoader 0: 100%|██████████| 6/6 [00:01<00:00,  3.57it/s]\u001b[A\n",
      "Epoch 13: 100%|██████████| 28/28 [00:11<00:00,  2.40it/s, v_num=3.41e+7, train_loss_step=0.614, val_loss=0.681, train_loss_epoch=0.551]\n",
      "\u001b[36m(RayTrainWorker pid=2725548)\u001b[0m \n",
      "Epoch 13: 100%|██████████| 28/28 [00:11<00:00,  2.35it/s, v_num=3.41e+7, train_loss_step=0.614, val_loss=0.681, train_loss_epoch=0.529]\n",
      "Epoch 14:   0%|          | 0/28 [00:00<?, ?it/s, v_num=3.41e+7, train_loss_step=0.614, val_loss=0.681, train_loss_epoch=0.529]         \n",
      "\u001b[36m(RayTrainWorker pid=2725548)\u001b[0m \n"
     ]
    },
    {
     "name": "stderr",
     "output_type": "stream",
     "text": [
      "\u001b[36m(RayTrainWorker pid=2725150)\u001b[0m Checkpoint successfully created at: Checkpoint(filesystem=local, path=/ictstr01/home/aih/serra.korkmaz/projects/saturn/hopt/hpopt_5ht1b_zinc/ray_results/TorchTrainer_2025-03-12_00-19-26/6f0157cc/checkpoint_000013)\n"
     ]
    },
    {
     "name": "stdout",
     "output_type": "stream",
     "text": [
      "\u001b[36m(RayTrainWorker pid=2725548)\u001b[0m \n",
      "\u001b[36m(RayTrainWorker pid=2725548)\u001b[0m \n"
     ]
    },
    {
     "name": "stderr",
     "output_type": "stream",
     "text": [
      "2025-03-12 00:22:38,698\tWARNING experiment_state.py:206 -- Experiment state snapshotting has been triggered multiple times in the last 5.0 seconds and may become a bottleneck. A snapshot is forced if `CheckpointConfig(num_to_keep)` is set, and a trial has checkpointed >= `num_to_keep` times since the last snapshot.\n",
      "You may want to consider increasing the `CheckpointConfig(num_to_keep)` or decreasing the frequency of saving checkpoints.\n",
      "You can suppress this warning by setting the environment variable TUNE_WARN_EXCESSIVE_EXPERIMENT_CHECKPOINT_SYNC_THRESHOLD_S to a smaller value than the current threshold (5.0). Set it to 0 to completely suppress this warning.\n",
      "\u001b[36m(RayTrainWorker pid=2725548)\u001b[0m Checkpoint successfully created at: Checkpoint(filesystem=local, path=/ictstr01/home/aih/serra.korkmaz/projects/saturn/hopt/hpopt_5ht1b_zinc/ray_results/TorchTrainer_2025-03-12_00-19-26/6ccfe64d/checkpoint_000014)\n"
     ]
    },
    {
     "name": "stdout",
     "output_type": "stream",
     "text": [
      "Epoch 14: 100%|██████████| 28/28 [00:08<00:00,  3.21it/s, v_num=3.41e+7, train_loss_step=0.465, val_loss=0.605, train_loss_epoch=0.480]\u001b[32m [repeated 3x across cluster]\u001b[0m\n",
      "Validation: |          | 0/? [00:00<?, ?it/s]\u001b[A\n",
      "Validation:   0%|          | 0/6 [00:00<?, ?it/s]\u001b[A\n",
      "Validation DataLoader 0:   0%|          | 0/6 [00:00<?, ?it/s]\u001b[A\n",
      "Validation DataLoader 0:  83%|████████▎ | 5/6 [00:01<00:00,  4.17it/s]\u001b[A\u001b[32m [repeated 6x across cluster]\u001b[0m\n",
      "Epoch 14:  32%|███▏      | 9/28 [00:03<00:07,  2.54it/s, v_num=3.41e+7, train_loss_step=0.498, val_loss=0.681, train_loss_epoch=0.529]\u001b[32m [repeated 17x across cluster]\u001b[0m\n",
      "Validation DataLoader 0: 100%|██████████| 6/6 [00:01<00:00,  4.52it/s]\u001b[A\n",
      "Epoch 14: 100%|██████████| 28/28 [00:10<00:00,  2.77it/s, v_num=3.41e+7, train_loss_step=0.465, val_loss=0.382, train_loss_epoch=0.480]\n",
      "Epoch 14: 100%|██████████| 28/28 [00:10<00:00,  2.70it/s, v_num=3.41e+7, train_loss_step=0.465, val_loss=0.382, train_loss_epoch=0.457]\n",
      "Epoch 15:   0%|          | 0/28 [00:00<?, ?it/s, v_num=3.41e+7, train_loss_step=0.465, val_loss=0.382, train_loss_epoch=0.457]         \n",
      "Epoch 15:  86%|████████▌ | 24/28 [00:08<00:01,  2.94it/s, v_num=3.41e+7, train_loss_step=0.470, val_loss=0.382, train_loss_epoch=0.457]\u001b[32m [repeated 29x across cluster]\u001b[0m\n",
      "Epoch 15:  93%|█████████▎| 26/28 [00:08<00:00,  2.97it/s, v_num=3.41e+7, train_loss_step=0.340, val_loss=0.382, train_loss_epoch=0.457]\n",
      "Epoch 15:  96%|█████████▋| 27/28 [00:09<00:00,  2.97it/s, v_num=3.41e+7, train_loss_step=0.427, val_loss=0.382, train_loss_epoch=0.457]\n",
      "Validation: |          | 0/? [00:00<?, ?it/s]\u001b[A\n",
      "Validation:   0%|          | 0/6 [00:00<?, ?it/s]\u001b[A\n",
      "Validation DataLoader 0:   0%|          | 0/6 [00:00<?, ?it/s]\u001b[A\n",
      "\u001b[36m(RayTrainWorker pid=2725548)\u001b[0m \n",
      "Validation DataLoader 0:  17%|█▋        | 1/6 [00:00<00:01,  4.51it/s]\u001b[A\n",
      "\u001b[36m(RayTrainWorker pid=2725548)\u001b[0m \n",
      "Validation DataLoader 0:  33%|███▎      | 2/6 [00:00<00:00,  4.03it/s]\u001b[A\n",
      "\u001b[36m(RayTrainWorker pid=2725548)\u001b[0m \n",
      "Validation DataLoader 0:  50%|█████     | 3/6 [00:00<00:00,  3.99it/s]\u001b[A\n",
      "\u001b[36m(RayTrainWorker pid=2725150)\u001b[0m \n",
      "\u001b[36m(RayTrainWorker pid=2725548)\u001b[0m \n",
      "\u001b[36m(RayTrainWorker pid=2725548)\u001b[0m \n",
      "\u001b[36m(RayTrainWorker pid=2725150)\u001b[0m \n"
     ]
    },
    {
     "name": "stderr",
     "output_type": "stream",
     "text": [
      "2025-03-12 00:22:49,946\tWARNING experiment_state.py:206 -- Experiment state snapshotting has been triggered multiple times in the last 5.0 seconds and may become a bottleneck. A snapshot is forced if `CheckpointConfig(num_to_keep)` is set, and a trial has checkpointed >= `num_to_keep` times since the last snapshot.\n",
      "You may want to consider increasing the `CheckpointConfig(num_to_keep)` or decreasing the frequency of saving checkpoints.\n",
      "You can suppress this warning by setting the environment variable TUNE_WARN_EXCESSIVE_EXPERIMENT_CHECKPOINT_SYNC_THRESHOLD_S to a smaller value than the current threshold (5.0). Set it to 0 to completely suppress this warning.\n"
     ]
    },
    {
     "name": "stdout",
     "output_type": "stream",
     "text": [
      "\u001b[36m(RayTrainWorker pid=2725548)\u001b[0m \n",
      "Validation DataLoader 0: 100%|██████████| 6/6 [00:01<00:00,  4.26it/s]\u001b[A\n",
      "Epoch 15: 100%|██████████| 28/28 [00:10<00:00,  2.58it/s, v_num=3.41e+7, train_loss_step=0.408, val_loss=0.444, train_loss_epoch=0.457]\n",
      "\u001b[36m(RayTrainWorker pid=2725150)\u001b[0m \n"
     ]
    },
    {
     "name": "stderr",
     "output_type": "stream",
     "text": [
      "\u001b[36m(RayTrainWorker pid=2725548)\u001b[0m Checkpoint successfully created at: Checkpoint(filesystem=local, path=/ictstr01/home/aih/serra.korkmaz/projects/saturn/hopt/hpopt_5ht1b_zinc/ray_results/TorchTrainer_2025-03-12_00-19-26/6ccfe64d/checkpoint_000015)\n"
     ]
    },
    {
     "name": "stdout",
     "output_type": "stream",
     "text": [
      "Epoch 15: 100%|██████████| 28/28 [00:11<00:00,  2.51it/s, v_num=3.41e+7, train_loss_step=0.408, val_loss=0.444, train_loss_epoch=0.432]\n",
      "\u001b[36m(RayTrainWorker pid=2725150)\u001b[0m \n",
      "Epoch 16:   0%|          | 0/28 [00:00<?, ?it/s, v_num=3.41e+7, train_loss_step=0.408, val_loss=0.444, train_loss_epoch=0.432]         \n",
      "\u001b[36m(RayTrainWorker pid=2725150)\u001b[0m \n",
      "Epoch 16:   4%|▎         | 1/28 [00:00<00:07,  3.38it/s, v_num=3.41e+7, train_loss_step=0.408, val_loss=0.444, train_loss_epoch=0.432]\n",
      "Epoch 16:   4%|▎         | 1/28 [00:00<00:08,  3.37it/s, v_num=3.41e+7, train_loss_step=0.382, val_loss=0.444, train_loss_epoch=0.432]\n",
      "\u001b[36m(RayTrainWorker pid=2725150)\u001b[0m \n"
     ]
    },
    {
     "name": "stderr",
     "output_type": "stream",
     "text": [
      "\u001b[36m(RayTrainWorker pid=2725150)\u001b[0m Checkpoint successfully created at: Checkpoint(filesystem=local, path=/ictstr01/home/aih/serra.korkmaz/projects/saturn/hopt/hpopt_5ht1b_zinc/ray_results/TorchTrainer_2025-03-12_00-19-26/6f0157cc/checkpoint_000014)\n",
      "2025-03-12 00:22:50,752\tWARNING experiment_state.py:206 -- Experiment state snapshotting has been triggered multiple times in the last 5.0 seconds and may become a bottleneck. A snapshot is forced if `CheckpointConfig(num_to_keep)` is set, and a trial has checkpointed >= `num_to_keep` times since the last snapshot.\n",
      "You may want to consider increasing the `CheckpointConfig(num_to_keep)` or decreasing the frequency of saving checkpoints.\n",
      "You can suppress this warning by setting the environment variable TUNE_WARN_EXCESSIVE_EXPERIMENT_CHECKPOINT_SYNC_THRESHOLD_S to a smaller value than the current threshold (5.0). Set it to 0 to completely suppress this warning.\n"
     ]
    },
    {
     "name": "stdout",
     "output_type": "stream",
     "text": [
      "Epoch 15:  11%|█         | 3/28 [00:01<00:09,  2.74it/s, v_num=3.41e+7, train_loss_step=0.400, val_loss=0.420, train_loss_epoch=0.506]\u001b[32m [repeated 11x across cluster]\u001b[0m\n",
      "Epoch 14: 100%|██████████| 28/28 [00:10<00:00,  2.59it/s, v_num=3.41e+7, train_loss_step=0.439, val_loss=0.681, train_loss_epoch=0.529]\u001b[32m [repeated 4x across cluster]\u001b[0m\n",
      "Validation: |          | 0/? [00:00<?, ?it/s]\u001b[A\n",
      "Validation:   0%|          | 0/6 [00:00<?, ?it/s]\u001b[A\n",
      "Validation DataLoader 0:   0%|          | 0/6 [00:00<?, ?it/s]\u001b[A\n",
      "Validation DataLoader 0:  83%|████████▎ | 5/6 [00:01<00:00,  3.62it/s]\u001b[A\u001b[32m [repeated 7x across cluster]\u001b[0m\n",
      "Validation DataLoader 0: 100%|██████████| 6/6 [00:01<00:00,  3.92it/s]\u001b[A\n",
      "Epoch 14: 100%|██████████| 28/28 [00:12<00:00,  2.26it/s, v_num=3.41e+7, train_loss_step=0.439, val_loss=0.420, train_loss_epoch=0.529]\n",
      "Epoch 14: 100%|██████████| 28/28 [00:12<00:00,  2.22it/s, v_num=3.41e+7, train_loss_step=0.439, val_loss=0.420, train_loss_epoch=0.506]\n",
      "Epoch 15:   0%|          | 0/28 [00:00<?, ?it/s, v_num=3.41e+7, train_loss_step=0.439, val_loss=0.420, train_loss_epoch=0.506]         \n",
      "Epoch 15:  57%|█████▋    | 16/28 [00:06<00:04,  2.56it/s, v_num=3.41e+7, train_loss_step=0.522, val_loss=0.420, train_loss_epoch=0.506]\u001b[32m [repeated 28x across cluster]\u001b[0m\n",
      "Epoch 16:  75%|███████▌  | 21/28 [00:07<00:02,  2.95it/s, v_num=3.41e+7, train_loss_step=0.359, val_loss=0.444, train_loss_epoch=0.432]\n",
      "Epoch 16:  75%|███████▌  | 21/28 [00:07<00:02,  2.95it/s, v_num=3.41e+7, train_loss_step=0.391, val_loss=0.444, train_loss_epoch=0.432]\n",
      "Epoch 16:  93%|█████████▎| 26/28 [00:08<00:00,  2.93it/s, v_num=3.41e+7, train_loss_step=0.594, val_loss=0.444, train_loss_epoch=0.432]\n",
      "Epoch 16:  96%|█████████▋| 27/28 [00:09<00:00,  2.93it/s, v_num=3.41e+7, train_loss_step=0.448, val_loss=0.444, train_loss_epoch=0.432]\n",
      "Epoch 16: 100%|██████████| 28/28 [00:09<00:00,  2.95it/s, v_num=3.41e+7, train_loss_step=0.310, val_loss=0.444, train_loss_epoch=0.432]\n",
      "Validation: |          | 0/? [00:00<?, ?it/s]\u001b[A\n",
      "Validation:   0%|          | 0/6 [00:00<?, ?it/s]\u001b[A\n",
      "Validation DataLoader 0:   0%|          | 0/6 [00:00<?, ?it/s]\u001b[A\n",
      "\u001b[36m(RayTrainWorker pid=2725548)\u001b[0m \n",
      "Validation DataLoader 0:  17%|█▋        | 1/6 [00:00<00:01,  4.67it/s]\u001b[A\n",
      "\u001b[36m(RayTrainWorker pid=2725548)\u001b[0m \n",
      "Validation DataLoader 0:  33%|███▎      | 2/6 [00:00<00:00,  4.19it/s]\u001b[A\n",
      "\u001b[36m(RayTrainWorker pid=2725548)\u001b[0m \n",
      "Validation DataLoader 0:  50%|█████     | 3/6 [00:00<00:00,  4.19it/s]\u001b[A\n",
      "\u001b[36m(RayTrainWorker pid=2725548)\u001b[0m \n",
      "Validation DataLoader 0:  67%|██████▋   | 4/6 [00:00<00:00,  4.37it/s]\u001b[A\n",
      "\u001b[36m(RayTrainWorker pid=2725548)\u001b[0m \n",
      "Validation DataLoader 0:  83%|████████▎ | 5/6 [00:01<00:00,  4.37it/s]\u001b[A\n",
      "\u001b[36m(RayTrainWorker pid=2725548)\u001b[0m \n",
      "Validation DataLoader 0: 100%|██████████| 6/6 [00:01<00:00,  4.60it/s]\u001b[A\n",
      "Epoch 16: 100%|██████████| 28/28 [00:10<00:00,  2.58it/s, v_num=3.41e+7, train_loss_step=0.310, val_loss=0.359, train_loss_epoch=0.432]\n"
     ]
    },
    {
     "name": "stderr",
     "output_type": "stream",
     "text": [
      "2025-03-12 00:23:01,260\tWARNING experiment_state.py:206 -- Experiment state snapshotting has been triggered multiple times in the last 5.0 seconds and may become a bottleneck. A snapshot is forced if `CheckpointConfig(num_to_keep)` is set, and a trial has checkpointed >= `num_to_keep` times since the last snapshot.\n",
      "You may want to consider increasing the `CheckpointConfig(num_to_keep)` or decreasing the frequency of saving checkpoints.\n",
      "You can suppress this warning by setting the environment variable TUNE_WARN_EXCESSIVE_EXPERIMENT_CHECKPOINT_SYNC_THRESHOLD_S to a smaller value than the current threshold (5.0). Set it to 0 to completely suppress this warning.\n",
      "\u001b[36m(RayTrainWorker pid=2725548)\u001b[0m Checkpoint successfully created at: Checkpoint(filesystem=local, path=/ictstr01/home/aih/serra.korkmaz/projects/saturn/hopt/hpopt_5ht1b_zinc/ray_results/TorchTrainer_2025-03-12_00-19-26/6ccfe64d/checkpoint_000016)\n"
     ]
    },
    {
     "name": "stdout",
     "output_type": "stream",
     "text": [
      "Epoch 16: 100%|██████████| 28/28 [00:11<00:00,  2.52it/s, v_num=3.41e+7, train_loss_step=0.310, val_loss=0.359, train_loss_epoch=0.415]\n",
      "Epoch 17:   0%|          | 0/28 [00:00<?, ?it/s, v_num=3.41e+7, train_loss_step=0.310, val_loss=0.359, train_loss_epoch=0.415]         \n",
      "\u001b[36m(RayTrainWorker pid=2725150)\u001b[0m \n",
      "\u001b[36m(RayTrainWorker pid=2725150)\u001b[0m \n",
      "Epoch 17:   7%|▋         | 2/28 [00:00<00:07,  3.41it/s, v_num=3.41e+7, train_loss_step=0.423, val_loss=0.359, train_loss_epoch=0.415]\u001b[32m [repeated 15x across cluster]\u001b[0m\n",
      "\u001b[36m(RayTrainWorker pid=2725150)\u001b[0m \n",
      "\u001b[36m(RayTrainWorker pid=2725150)\u001b[0m \n",
      "\u001b[36m(RayTrainWorker pid=2725150)\u001b[0m \n",
      "\u001b[36m(RayTrainWorker pid=2725150)\u001b[0m \n"
     ]
    },
    {
     "name": "stderr",
     "output_type": "stream",
     "text": [
      "2025-03-12 00:23:03,329\tWARNING experiment_state.py:206 -- Experiment state snapshotting has been triggered multiple times in the last 5.0 seconds and may become a bottleneck. A snapshot is forced if `CheckpointConfig(num_to_keep)` is set, and a trial has checkpointed >= `num_to_keep` times since the last snapshot.\n",
      "You may want to consider increasing the `CheckpointConfig(num_to_keep)` or decreasing the frequency of saving checkpoints.\n",
      "You can suppress this warning by setting the environment variable TUNE_WARN_EXCESSIVE_EXPERIMENT_CHECKPOINT_SYNC_THRESHOLD_S to a smaller value than the current threshold (5.0). Set it to 0 to completely suppress this warning.\n",
      "\u001b[36m(RayTrainWorker pid=2725150)\u001b[0m Checkpoint successfully created at: Checkpoint(filesystem=local, path=/ictstr01/home/aih/serra.korkmaz/projects/saturn/hopt/hpopt_5ht1b_zinc/ray_results/TorchTrainer_2025-03-12_00-19-26/6f0157cc/checkpoint_000015)\n"
     ]
    },
    {
     "name": "stdout",
     "output_type": "stream",
     "text": [
      "Epoch 15: 100%|██████████| 28/28 [00:10<00:00,  2.59it/s, v_num=3.41e+7, train_loss_step=0.477, val_loss=0.420, train_loss_epoch=0.506]\u001b[32m [repeated 3x across cluster]\u001b[0m\n",
      "Validation: |          | 0/? [00:00<?, ?it/s]\u001b[A\n",
      "Validation:   0%|          | 0/6 [00:00<?, ?it/s]\u001b[A\n",
      "Validation DataLoader 0:   0%|          | 0/6 [00:00<?, ?it/s]\u001b[A\n",
      "Validation DataLoader 0:  83%|████████▎ | 5/6 [00:01<00:00,  3.98it/s]\u001b[A\u001b[32m [repeated 5x across cluster]\u001b[0m\n",
      "Validation DataLoader 0: 100%|██████████| 6/6 [00:01<00:00,  4.27it/s]\u001b[A\n",
      "Epoch 15: 100%|██████████| 28/28 [00:12<00:00,  2.28it/s, v_num=3.41e+7, train_loss_step=0.477, val_loss=0.490, train_loss_epoch=0.506]\n",
      "Epoch 15: 100%|██████████| 28/28 [00:12<00:00,  2.25it/s, v_num=3.41e+7, train_loss_step=0.477, val_loss=0.490, train_loss_epoch=0.493]\n",
      "Epoch 16:   0%|          | 0/28 [00:00<?, ?it/s, v_num=3.41e+7, train_loss_step=0.477, val_loss=0.490, train_loss_epoch=0.493]         \n",
      "Epoch 17:  64%|██████▍   | 18/28 [00:05<00:03,  3.08it/s, v_num=3.41e+7, train_loss_step=0.245, val_loss=0.359, train_loss_epoch=0.415]\u001b[32m [repeated 25x across cluster]\u001b[0m\n",
      "Epoch 17:  93%|█████████▎| 26/28 [00:08<00:00,  3.05it/s, v_num=3.41e+7, train_loss_step=0.459, val_loss=0.359, train_loss_epoch=0.415]\n",
      "Epoch 17:  96%|█████████▋| 27/28 [00:08<00:00,  3.05it/s, v_num=3.41e+7, train_loss_step=0.392, val_loss=0.359, train_loss_epoch=0.415]\n",
      "Epoch 17: 100%|██████████| 28/28 [00:09<00:00,  3.06it/s, v_num=3.41e+7, train_loss_step=0.433, val_loss=0.359, train_loss_epoch=0.415]\n",
      "Validation: |          | 0/? [00:00<?, ?it/s]\u001b[A\n",
      "Validation:   0%|          | 0/6 [00:00<?, ?it/s]\u001b[A\n",
      "Validation DataLoader 0:   0%|          | 0/6 [00:00<?, ?it/s]\u001b[A\n",
      "\u001b[36m(RayTrainWorker pid=2725548)\u001b[0m \n",
      "Validation DataLoader 0:  17%|█▋        | 1/6 [00:00<00:01,  4.89it/s]\u001b[A\n",
      "\u001b[36m(RayTrainWorker pid=2725548)\u001b[0m \n",
      "Validation DataLoader 0:  33%|███▎      | 2/6 [00:00<00:00,  4.32it/s]\u001b[A\n",
      "\u001b[36m(RayTrainWorker pid=2725548)\u001b[0m \n",
      "Validation DataLoader 0:  50%|█████     | 3/6 [00:00<00:00,  4.25it/s]\u001b[A\n",
      "\u001b[36m(RayTrainWorker pid=2725548)\u001b[0m \n",
      "Validation DataLoader 0:  67%|██████▋   | 4/6 [00:00<00:00,  4.21it/s]\u001b[A\n",
      "\u001b[36m(RayTrainWorker pid=2725548)\u001b[0m \n",
      "Validation DataLoader 0:  83%|████████▎ | 5/6 [00:01<00:00,  4.19it/s]\u001b[A\n",
      "\u001b[36m(RayTrainWorker pid=2725548)\u001b[0m \n",
      "Validation DataLoader 0: 100%|██████████| 6/6 [00:01<00:00,  4.47it/s]\u001b[A\n",
      "Epoch 17: 100%|██████████| 28/28 [00:10<00:00,  2.66it/s, v_num=3.41e+7, train_loss_step=0.433, val_loss=0.347, train_loss_epoch=0.415]\n",
      "Epoch 17: 100%|██████████| 28/28 [00:10<00:00,  2.60it/s, v_num=3.41e+7, train_loss_step=0.433, val_loss=0.347, train_loss_epoch=0.392]\n"
     ]
    },
    {
     "name": "stderr",
     "output_type": "stream",
     "text": [
      "\u001b[36m(RayTrainWorker pid=2725548)\u001b[0m Checkpoint successfully created at: Checkpoint(filesystem=local, path=/ictstr01/home/aih/serra.korkmaz/projects/saturn/hopt/hpopt_5ht1b_zinc/ray_results/TorchTrainer_2025-03-12_00-19-26/6ccfe64d/checkpoint_000017)\n"
     ]
    },
    {
     "name": "stdout",
     "output_type": "stream",
     "text": [
      "Epoch 16:  82%|████████▏ | 23/28 [00:08<00:01,  2.60it/s, v_num=3.41e+7, train_loss_step=0.596, val_loss=0.490, train_loss_epoch=0.493]\u001b[32m [repeated 21x across cluster]\u001b[0m\n",
      "Epoch 18:   0%|          | 0/28 [00:00<?, ?it/s, v_num=3.41e+7, train_loss_step=0.433, val_loss=0.347, train_loss_epoch=0.392]         \n",
      "\u001b[36m(RayTrainWorker pid=2725150)\u001b[0m \n",
      "\u001b[36m(RayTrainWorker pid=2725150)\u001b[0m \n",
      "\u001b[36m(RayTrainWorker pid=2725150)\u001b[0m \n",
      "Epoch 16: 100%|██████████| 28/28 [00:10<00:00,  2.67it/s, v_num=3.41e+7, train_loss_step=0.370, val_loss=0.490, train_loss_epoch=0.493]\u001b[32m [repeated 3x across cluster]\u001b[0m\n",
      "\u001b[36m(RayTrainWorker pid=2725150)\u001b[0m \n",
      "\u001b[36m(RayTrainWorker pid=2725150)\u001b[0m \n",
      "\u001b[36m(RayTrainWorker pid=2725150)\u001b[0m \n"
     ]
    },
    {
     "name": "stderr",
     "output_type": "stream",
     "text": [
      "\u001b[36m(RayTrainWorker pid=2725150)\u001b[0m Checkpoint successfully created at: Checkpoint(filesystem=local, path=/ictstr01/home/aih/serra.korkmaz/projects/saturn/hopt/hpopt_5ht1b_zinc/ray_results/TorchTrainer_2025-03-12_00-19-26/6f0157cc/checkpoint_000016)\n",
      "2025-03-12 00:23:15,746\tWARNING experiment_state.py:206 -- Experiment state snapshotting has been triggered multiple times in the last 5.0 seconds and may become a bottleneck. A snapshot is forced if `CheckpointConfig(num_to_keep)` is set, and a trial has checkpointed >= `num_to_keep` times since the last snapshot.\n",
      "You may want to consider increasing the `CheckpointConfig(num_to_keep)` or decreasing the frequency of saving checkpoints.\n",
      "You can suppress this warning by setting the environment variable TUNE_WARN_EXCESSIVE_EXPERIMENT_CHECKPOINT_SYNC_THRESHOLD_S to a smaller value than the current threshold (5.0). Set it to 0 to completely suppress this warning.\n"
     ]
    },
    {
     "name": "stdout",
     "output_type": "stream",
     "text": [
      "Validation: |          | 0/? [00:00<?, ?it/s]\u001b[A\n",
      "Validation:   0%|          | 0/6 [00:00<?, ?it/s]\u001b[A\n",
      "Validation DataLoader 0:   0%|          | 0/6 [00:00<?, ?it/s]\u001b[A\n",
      "Validation DataLoader 0:  83%|████████▎ | 5/6 [00:01<00:00,  3.73it/s]\u001b[A\u001b[32m [repeated 5x across cluster]\u001b[0m\n",
      "Validation DataLoader 0: 100%|██████████| 6/6 [00:01<00:00,  3.96it/s]\u001b[A\n",
      "Epoch 16: 100%|██████████| 28/28 [00:12<00:00,  2.33it/s, v_num=3.41e+7, train_loss_step=0.370, val_loss=0.465, train_loss_epoch=0.493]\n",
      "Epoch 16: 100%|██████████| 28/28 [00:12<00:00,  2.29it/s, v_num=3.41e+7, train_loss_step=0.370, val_loss=0.465, train_loss_epoch=0.496]\n",
      "Epoch 18:  61%|██████    | 17/28 [00:05<00:03,  3.35it/s, v_num=3.41e+7, train_loss_step=0.291, val_loss=0.347, train_loss_epoch=0.392]\u001b[32m [repeated 23x across cluster]\u001b[0m\n",
      "Epoch 17:   0%|          | 0/28 [00:00<?, ?it/s, v_num=3.41e+7, train_loss_step=0.370, val_loss=0.465, train_loss_epoch=0.496]         \n",
      "Epoch 18:  93%|█████████▎| 26/28 [00:07<00:00,  3.32it/s, v_num=3.41e+7, train_loss_step=0.380, val_loss=0.347, train_loss_epoch=0.392]\n",
      "Epoch 18:  96%|█████████▋| 27/28 [00:08<00:00,  3.31it/s, v_num=3.41e+7, train_loss_step=0.312, val_loss=0.347, train_loss_epoch=0.392]\n",
      "Epoch 18: 100%|██████████| 28/28 [00:08<00:00,  3.32it/s, v_num=3.41e+7, train_loss_step=0.245, val_loss=0.347, train_loss_epoch=0.392]\n",
      "Validation: |          | 0/? [00:00<?, ?it/s]\u001b[A\n",
      "\u001b[36m(RayTrainWorker pid=2725548)\u001b[0m \n",
      "Validation:   0%|          | 0/6 [00:00<?, ?it/s]\u001b[A\n",
      "Validation DataLoader 0:   0%|          | 0/6 [00:00<?, ?it/s]\u001b[A\n",
      "\u001b[36m(RayTrainWorker pid=2725548)\u001b[0m \n",
      "Validation DataLoader 0:  17%|█▋        | 1/6 [00:00<00:01,  4.81it/s]\u001b[A\n",
      "\u001b[36m(RayTrainWorker pid=2725548)\u001b[0m \n",
      "Validation DataLoader 0:  33%|███▎      | 2/6 [00:00<00:00,  4.26it/s]\u001b[A\n",
      "\u001b[36m(RayTrainWorker pid=2725548)\u001b[0m \n",
      "Validation DataLoader 0:  50%|█████     | 3/6 [00:00<00:00,  4.17it/s]\u001b[A\n",
      "\u001b[36m(RayTrainWorker pid=2725548)\u001b[0m \n",
      "Validation DataLoader 0:  67%|██████▋   | 4/6 [00:00<00:00,  4.13it/s]\u001b[A\n",
      "\u001b[36m(RayTrainWorker pid=2725548)\u001b[0m \n",
      "Validation DataLoader 0:  83%|████████▎ | 5/6 [00:01<00:00,  4.13it/s]\u001b[A\n",
      "\u001b[36m(RayTrainWorker pid=2725548)\u001b[0m \n",
      "Validation DataLoader 0: 100%|██████████| 6/6 [00:01<00:00,  4.40it/s]\u001b[A\n",
      "Epoch 18: 100%|██████████| 28/28 [00:09<00:00,  2.84it/s, v_num=3.41e+7, train_loss_step=0.245, val_loss=0.342, train_loss_epoch=0.392]\n",
      "Epoch 18: 100%|██████████| 28/28 [00:10<00:00,  2.77it/s, v_num=3.41e+7, train_loss_step=0.245, val_loss=0.342, train_loss_epoch=0.361]\n",
      "Epoch 17:  64%|██████▍   | 18/28 [00:06<00:03,  2.82it/s, v_num=3.41e+7, train_loss_step=0.287, val_loss=0.465, train_loss_epoch=0.496]\u001b[32m [repeated 22x across cluster]\u001b[0m\n"
     ]
    },
    {
     "name": "stderr",
     "output_type": "stream",
     "text": [
      "\u001b[36m(RayTrainWorker pid=2725548)\u001b[0m Checkpoint successfully created at: Checkpoint(filesystem=local, path=/ictstr01/home/aih/serra.korkmaz/projects/saturn/hopt/hpopt_5ht1b_zinc/ray_results/TorchTrainer_2025-03-12_00-19-26/6ccfe64d/checkpoint_000018)\n"
     ]
    },
    {
     "name": "stdout",
     "output_type": "stream",
     "text": [
      "Epoch 19:   0%|          | 0/28 [00:00<?, ?it/s, v_num=3.41e+7, train_loss_step=0.245, val_loss=0.342, train_loss_epoch=0.361]         \n",
      "Epoch 17:  93%|█████████▎| 26/28 [00:09<00:00,  2.74it/s, v_num=3.41e+7, train_loss_step=0.554, val_loss=0.465, train_loss_epoch=0.496]\n",
      "Epoch 17:  96%|█████████▋| 27/28 [00:09<00:00,  2.73it/s, v_num=3.41e+7, train_loss_step=0.463, val_loss=0.465, train_loss_epoch=0.496]\n",
      "Epoch 17: 100%|██████████| 28/28 [00:10<00:00,  2.74it/s, v_num=3.41e+7, train_loss_step=0.603, val_loss=0.465, train_loss_epoch=0.496]\n",
      "Validation: |          | 0/? [00:00<?, ?it/s]\u001b[A\n",
      "\u001b[36m(RayTrainWorker pid=2725150)\u001b[0m \n",
      "Validation:   0%|          | 0/6 [00:00<?, ?it/s]\u001b[A\n",
      "Validation DataLoader 0:   0%|          | 0/6 [00:00<?, ?it/s]\u001b[A\n",
      "\u001b[36m(RayTrainWorker pid=2725150)\u001b[0m \n",
      "Validation DataLoader 0:  17%|█▋        | 1/6 [00:00<00:01,  4.49it/s]\u001b[A\n",
      "\u001b[36m(RayTrainWorker pid=2725150)\u001b[0m \n",
      "Validation DataLoader 0:  33%|███▎      | 2/6 [00:00<00:00,  4.12it/s]\u001b[A\n",
      "\u001b[36m(RayTrainWorker pid=2725150)\u001b[0m \n",
      "Validation DataLoader 0:  50%|█████     | 3/6 [00:00<00:00,  4.00it/s]\u001b[A\n",
      "\u001b[36m(RayTrainWorker pid=2725150)\u001b[0m \n",
      "Validation DataLoader 0:  67%|██████▋   | 4/6 [00:00<00:00,  4.04it/s]\u001b[A\n",
      "\u001b[36m(RayTrainWorker pid=2725150)\u001b[0m \n",
      "Validation DataLoader 0:  83%|████████▎ | 5/6 [00:01<00:00,  4.02it/s]\u001b[A\n",
      "Epoch 19:  50%|█████     | 14/28 [00:04<00:04,  3.08it/s, v_num=3.41e+7, train_loss_step=0.232, val_loss=0.342, train_loss_epoch=0.361]\u001b[32m [repeated 21x across cluster]\u001b[0m\n",
      "\u001b[36m(RayTrainWorker pid=2725150)\u001b[0m \n",
      "Validation DataLoader 0: 100%|██████████| 6/6 [00:01<00:00,  4.26it/s]\u001b[A\n",
      "Epoch 17: 100%|██████████| 28/28 [00:11<00:00,  2.40it/s, v_num=3.41e+7, train_loss_step=0.603, val_loss=0.393, train_loss_epoch=0.496]\n",
      "Epoch 17: 100%|██████████| 28/28 [00:11<00:00,  2.36it/s, v_num=3.41e+7, train_loss_step=0.603, val_loss=0.393, train_loss_epoch=0.472]\n",
      "Epoch 18:   0%|          | 0/28 [00:00<?, ?it/s, v_num=3.41e+7, train_loss_step=0.603, val_loss=0.393, train_loss_epoch=0.472]         \n"
     ]
    },
    {
     "name": "stderr",
     "output_type": "stream",
     "text": [
      "\u001b[36m(RayTrainWorker pid=2725150)\u001b[0m Checkpoint successfully created at: Checkpoint(filesystem=local, path=/ictstr01/home/aih/serra.korkmaz/projects/saturn/hopt/hpopt_5ht1b_zinc/ray_results/TorchTrainer_2025-03-12_00-19-26/6f0157cc/checkpoint_000017)\n"
     ]
    },
    {
     "name": "stdout",
     "output_type": "stream",
     "text": [
      "Epoch 19:  93%|█████████▎| 26/28 [00:08<00:00,  3.09it/s, v_num=3.41e+7, train_loss_step=0.412, val_loss=0.342, train_loss_epoch=0.361]\n",
      "Epoch 19:  96%|█████████▋| 27/28 [00:08<00:00,  3.08it/s, v_num=3.41e+7, train_loss_step=0.296, val_loss=0.342, train_loss_epoch=0.361]\n",
      "Epoch 19: 100%|██████████| 28/28 [00:09<00:00,  3.10it/s, v_num=3.41e+7, train_loss_step=0.306, val_loss=0.342, train_loss_epoch=0.361]\n",
      "Validation: |          | 0/? [00:00<?, ?it/s]\u001b[A\n",
      "Validation:   0%|          | 0/6 [00:00<?, ?it/s]\u001b[A\n",
      "Validation DataLoader 0:   0%|          | 0/6 [00:00<?, ?it/s]\u001b[A\n",
      "\u001b[36m(RayTrainWorker pid=2725548)\u001b[0m \n",
      "Validation DataLoader 0:  17%|█▋        | 1/6 [00:00<00:00,  6.12it/s]\u001b[A\n",
      "\u001b[36m(RayTrainWorker pid=2725548)\u001b[0m \n",
      "Validation DataLoader 0:  33%|███▎      | 2/6 [00:00<00:00,  5.49it/s]\u001b[A\n",
      "\u001b[36m(RayTrainWorker pid=2725548)\u001b[0m \n",
      "Validation DataLoader 0:  50%|█████     | 3/6 [00:00<00:00,  5.20it/s]\u001b[A\n",
      "Epoch 18:  43%|████▎     | 12/28 [00:04<00:06,  2.67it/s, v_num=3.41e+7, train_loss_step=0.422, val_loss=0.393, train_loss_epoch=0.472]\u001b[32m [repeated 23x across cluster]\u001b[0m\n",
      "\u001b[36m(RayTrainWorker pid=2725548)\u001b[0m \n",
      "Validation DataLoader 0:  67%|██████▋   | 4/6 [00:00<00:00,  4.94it/s]\u001b[A\n",
      "\u001b[36m(RayTrainWorker pid=2725548)\u001b[0m \n",
      "Validation DataLoader 0:  83%|████████▎ | 5/6 [00:01<00:00,  4.95it/s]\u001b[A\n",
      "\u001b[36m(RayTrainWorker pid=2725548)\u001b[0m \n",
      "Validation DataLoader 0: 100%|██████████| 6/6 [00:01<00:00,  5.20it/s]\u001b[A\n",
      "Epoch 19: 100%|██████████| 28/28 [00:10<00:00,  2.73it/s, v_num=3.41e+7, train_loss_step=0.306, val_loss=0.290, train_loss_epoch=0.361]\n",
      "Epoch 19: 100%|██████████| 28/28 [00:10<00:00,  2.67it/s, v_num=3.41e+7, train_loss_step=0.306, val_loss=0.290, train_loss_epoch=0.353]\n",
      "Epoch 19: 100%|██████████| 28/28 [00:10<00:00,  2.63it/s, v_num=3.41e+7, train_loss_step=0.306, val_loss=0.290, train_loss_epoch=0.353]\n"
     ]
    },
    {
     "name": "stderr",
     "output_type": "stream",
     "text": [
      "\u001b[36m(RayTrainWorker pid=2725548)\u001b[0m Checkpoint successfully created at: Checkpoint(filesystem=local, path=/ictstr01/home/aih/serra.korkmaz/projects/saturn/hopt/hpopt_5ht1b_zinc/ray_results/TorchTrainer_2025-03-12_00-19-26/6ccfe64d/checkpoint_000019)\n",
      "\u001b[36m(RayTrainWorker pid=2725548)\u001b[0m `Trainer.fit` stopped: `max_epochs=20` reached.\n"
     ]
    },
    {
     "name": "stdout",
     "output_type": "stream",
     "text": [
      "Epoch 18:  93%|█████████▎| 26/28 [00:08<00:00,  2.98it/s, v_num=3.41e+7, train_loss_step=0.541, val_loss=0.393, train_loss_epoch=0.472]\n",
      "Epoch 18:  96%|█████████▋| 27/28 [00:09<00:00,  3.00it/s, v_num=3.41e+7, train_loss_step=0.441, val_loss=0.393, train_loss_epoch=0.472]\n",
      "Epoch 18: 100%|██████████| 28/28 [00:09<00:00,  3.03it/s, v_num=3.41e+7, train_loss_step=0.374, val_loss=0.393, train_loss_epoch=0.472]\n",
      "Validation: |          | 0/? [00:00<?, ?it/s]\u001b[A\n",
      "\u001b[36m(RayTrainWorker pid=2725150)\u001b[0m \n",
      "Validation:   0%|          | 0/6 [00:00<?, ?it/s]\u001b[A\n",
      "Validation DataLoader 0:   0%|          | 0/6 [00:00<?, ?it/s]\u001b[A\n",
      "\u001b[36m(RayTrainWorker pid=2725150)\u001b[0m \n",
      "Validation DataLoader 0:  17%|█▋        | 1/6 [00:00<00:00,  5.38it/s]\u001b[A\n",
      "\u001b[36m(RayTrainWorker pid=2725150)\u001b[0m \n",
      "Validation DataLoader 0:  33%|███▎      | 2/6 [00:00<00:00,  4.99it/s]\u001b[A\n",
      "Epoch 18:  89%|████████▉ | 25/28 [00:08<00:01,  2.96it/s, v_num=3.41e+7, train_loss_step=0.562, val_loss=0.393, train_loss_epoch=0.472]\u001b[32m [repeated 13x across cluster]\u001b[0m\n",
      "\u001b[36m(RayTrainWorker pid=2725150)\u001b[0m \n",
      "Validation DataLoader 0:  50%|█████     | 3/6 [00:00<00:00,  5.02it/s]\u001b[A\n",
      "\u001b[36m(RayTrainWorker pid=2725150)\u001b[0m \n",
      "Validation DataLoader 0:  67%|██████▋   | 4/6 [00:00<00:00,  4.88it/s]\u001b[A\n",
      "\u001b[36m(RayTrainWorker pid=2725150)\u001b[0m \n",
      "Validation DataLoader 0:  83%|████████▎ | 5/6 [00:01<00:00,  4.75it/s]\u001b[A\n",
      "\u001b[36m(RayTrainWorker pid=2725150)\u001b[0m \n",
      "Validation DataLoader 0: 100%|██████████| 6/6 [00:01<00:00,  5.08it/s]\u001b[A\n",
      "Epoch 18: 100%|██████████| 28/28 [00:10<00:00,  2.68it/s, v_num=3.41e+7, train_loss_step=0.374, val_loss=0.402, train_loss_epoch=0.472]\n",
      "Epoch 18: 100%|██████████| 28/28 [00:10<00:00,  2.63it/s, v_num=3.41e+7, train_loss_step=0.374, val_loss=0.402, train_loss_epoch=0.455]\n",
      "Epoch 19:   0%|          | 0/28 [00:00<?, ?it/s, v_num=3.41e+7, train_loss_step=0.374, val_loss=0.402, train_loss_epoch=0.455]         \n"
     ]
    },
    {
     "name": "stderr",
     "output_type": "stream",
     "text": [
      "\u001b[36m(RayTrainWorker pid=2725150)\u001b[0m Checkpoint successfully created at: Checkpoint(filesystem=local, path=/ictstr01/home/aih/serra.korkmaz/projects/saturn/hopt/hpopt_5ht1b_zinc/ray_results/TorchTrainer_2025-03-12_00-19-26/6f0157cc/checkpoint_000018)\n"
     ]
    },
    {
     "name": "stdout",
     "output_type": "stream",
     "text": [
      "Epoch 19:  54%|█████▎    | 15/28 [00:04<00:03,  3.63it/s, v_num=3.41e+7, train_loss_step=0.529, val_loss=0.402, train_loss_epoch=0.455]\u001b[32m [repeated 15x across cluster]\u001b[0m\n",
      "Epoch 19:  93%|█████████▎| 26/28 [00:07<00:00,  3.61it/s, v_num=3.41e+7, train_loss_step=0.480, val_loss=0.402, train_loss_epoch=0.455]\n",
      "Epoch 19:  96%|█████████▋| 27/28 [00:07<00:00,  3.61it/s, v_num=3.41e+7, train_loss_step=0.386, val_loss=0.402, train_loss_epoch=0.455]\n",
      "Epoch 19: 100%|██████████| 28/28 [00:07<00:00,  3.63it/s, v_num=3.41e+7, train_loss_step=0.376, val_loss=0.402, train_loss_epoch=0.455]\n",
      "Validation: |          | 0/? [00:00<?, ?it/s]\u001b[A\n",
      "Validation:   0%|          | 0/6 [00:00<?, ?it/s]\u001b[A\n",
      "Validation DataLoader 0:   0%|          | 0/6 [00:00<?, ?it/s]\u001b[A\n",
      "\u001b[36m(RayTrainWorker pid=2725150)\u001b[0m \n",
      "Validation DataLoader 0:  17%|█▋        | 1/6 [00:00<00:00,  5.42it/s]\u001b[A\n",
      "\u001b[36m(RayTrainWorker pid=2725150)\u001b[0m \n",
      "Validation DataLoader 0:  33%|███▎      | 2/6 [00:00<00:00,  4.92it/s]\u001b[A\n",
      "\u001b[36m(RayTrainWorker pid=2725150)\u001b[0m \n",
      "Validation DataLoader 0:  50%|█████     | 3/6 [00:00<00:00,  4.96it/s]\u001b[A\n",
      "\u001b[36m(RayTrainWorker pid=2725150)\u001b[0m \n",
      "Validation DataLoader 0:  67%|██████▋   | 4/6 [00:00<00:00,  4.94it/s]\u001b[A\n",
      "\u001b[36m(RayTrainWorker pid=2725150)\u001b[0m \n",
      "Validation DataLoader 0:  83%|████████▎ | 5/6 [00:01<00:00,  4.93it/s]\u001b[A\n",
      "\u001b[36m(RayTrainWorker pid=2725150)\u001b[0m \n",
      "Validation DataLoader 0: 100%|██████████| 6/6 [00:01<00:00,  5.28it/s]\u001b[A\n",
      "Epoch 19: 100%|██████████| 28/28 [00:08<00:00,  3.15it/s, v_num=3.41e+7, train_loss_step=0.376, val_loss=0.380, train_loss_epoch=0.455]\n",
      "Epoch 19: 100%|██████████| 28/28 [00:09<00:00,  3.09it/s, v_num=3.41e+7, train_loss_step=0.376, val_loss=0.380, train_loss_epoch=0.439]\n",
      "Epoch 19: 100%|██████████| 28/28 [00:09<00:00,  3.04it/s, v_num=3.41e+7, train_loss_step=0.376, val_loss=0.380, train_loss_epoch=0.439]\n",
      "Epoch 19:  89%|████████▉ | 25/28 [00:06<00:00,  3.61it/s, v_num=3.41e+7, train_loss_step=0.580, val_loss=0.402, train_loss_epoch=0.455]\u001b[32m [repeated 10x across cluster]\u001b[0m\n"
     ]
    },
    {
     "name": "stderr",
     "output_type": "stream",
     "text": [
      "\u001b[36m(RayTrainWorker pid=2725150)\u001b[0m Checkpoint successfully created at: Checkpoint(filesystem=local, path=/ictstr01/home/aih/serra.korkmaz/projects/saturn/hopt/hpopt_5ht1b_zinc/ray_results/TorchTrainer_2025-03-12_00-19-26/6f0157cc/checkpoint_000019)\n",
      "\u001b[36m(RayTrainWorker pid=2725150)\u001b[0m `Trainer.fit` stopped: `max_epochs=20` reached.\n",
      "2025-03-12 00:23:49,043\tINFO tune.py:1009 -- Wrote the latest version of all result files and experiment state to '/ictstr01/home/aih/serra.korkmaz/projects/saturn/hopt/hpopt_5ht1b_zinc/ray_results/TorchTrainer_2025-03-12_00-19-26' in 0.0063s.\n",
      "2025-03-12 00:23:49,048\tINFO tune.py:1041 -- Total run time: 262.56 seconds (262.42 seconds for the tuning loop).\n"
     ]
    }
   ],
   "source": [
    "ray.init()\n",
    "\n",
    "scheduler = FIFOScheduler()\n",
    "\n",
    "# Scaling config controls the resources used by Ray\n",
    "scaling_config = ScalingConfig(\n",
    "    num_workers=1,\n",
    "    use_gpu=False, # change to True if you want to use GPU\n",
    ")\n",
    "\n",
    "# Checkpoint config controls the checkpointing behavior of Ray\n",
    "checkpoint_config = CheckpointConfig(\n",
    "    num_to_keep=1, # number of checkpoints to keep\n",
    "    checkpoint_score_attribute=\"val_loss\", # Save the checkpoint based on this metric\n",
    "    checkpoint_score_order=\"min\", # Save the checkpoint with the lowest metric value\n",
    ")\n",
    "\n",
    "run_config = RunConfig(\n",
    "    checkpoint_config=checkpoint_config,\n",
    "    storage_path=hpopt_save_dir / \"ray_results\", # directory to save the results\n",
    ")\n",
    "\n",
    "ray_trainer = TorchTrainer(\n",
    "    lambda config: train_model(\n",
    "        config, train_dset, val_dset, num_workers, scaler\n",
    "    ),\n",
    "    scaling_config=scaling_config,\n",
    "    run_config=run_config,\n",
    ")\n",
    "\n",
    "search_alg = HyperOptSearch(\n",
    "    n_initial_points=1, # number of random evaluations before tree parzen estimators\n",
    "    random_state_seed=42,\n",
    ")\n",
    "\n",
    "# OptunaSearch is another search algorithm that can be used\n",
    "# search_alg = OptunaSearch()\n",
    "\n",
    "tune_config = tune.TuneConfig(\n",
    "    metric=\"val_loss\",\n",
    "    mode=\"min\",\n",
    "    num_samples=2, # number of trials to run\n",
    "    scheduler=scheduler,\n",
    "    search_alg=search_alg,\n",
    "    trial_dirname_creator=lambda trial: str(trial.trial_id), # shorten filepaths\n",
    "\n",
    ")\n",
    "\n",
    "tuner = tune.Tuner(\n",
    "    ray_trainer,\n",
    "    param_space={\n",
    "        \"train_loop_config\": search_space,\n",
    "    },\n",
    "    tune_config=tune_config,\n",
    ")\n",
    "\n",
    "# Start the hyperparameter search\n",
    "results = tuner.fit()"
   ]
  },
  {
   "cell_type": "code",
   "execution_count": 9,
   "id": "58abd66a-7791-41d5-b392-53fce5167960",
   "metadata": {},
   "outputs": [
    {
     "data": {
      "text/plain": [
       "ResultGrid<[\n",
       "  Result(\n",
       "    metrics={'train_loss': 0.4388100206851959, 'train_loss_step': 0.3762468099594116, 'val/rmse': 0.6160438656806946, 'val/mae': 0.45948243141174316, 'val_loss': 0.3795100152492523, 'train_loss_epoch': 0.4388100206851959, 'epoch': 19, 'step': 560},\n",
       "    path='/ictstr01/home/aih/serra.korkmaz/projects/saturn/hopt/hpopt_5ht1b_zinc/ray_results/TorchTrainer_2025-03-12_00-19-26/6f0157cc',\n",
       "    filesystem='local',\n",
       "    checkpoint=Checkpoint(filesystem=local, path=/ictstr01/home/aih/serra.korkmaz/projects/saturn/hopt/hpopt_5ht1b_zinc/ray_results/TorchTrainer_2025-03-12_00-19-26/6f0157cc/checkpoint_000019)\n",
       "  ),\n",
       "  Result(\n",
       "    metrics={'train_loss': 0.3525916337966919, 'train_loss_step': 0.30561158061027527, 'val/rmse': 0.538872241973877, 'val/mae': 0.42712679505348206, 'val_loss': 0.29038330912590027, 'train_loss_epoch': 0.3525916337966919, 'epoch': 19, 'step': 560},\n",
       "    path='/ictstr01/home/aih/serra.korkmaz/projects/saturn/hopt/hpopt_5ht1b_zinc/ray_results/TorchTrainer_2025-03-12_00-19-26/6ccfe64d',\n",
       "    filesystem='local',\n",
       "    checkpoint=Checkpoint(filesystem=local, path=/ictstr01/home/aih/serra.korkmaz/projects/saturn/hopt/hpopt_5ht1b_zinc/ray_results/TorchTrainer_2025-03-12_00-19-26/6ccfe64d/checkpoint_000019)\n",
       "  )\n",
       "]>"
      ]
     },
     "execution_count": 9,
     "metadata": {},
     "output_type": "execute_result"
    }
   ],
   "source": [
    "results"
   ]
  },
  {
   "cell_type": "code",
   "execution_count": 10,
   "id": "d3936aab-2566-49a1-88a7-0f0425665d3e",
   "metadata": {},
   "outputs": [
    {
     "data": {
      "text/html": [
       "<div>\n",
       "<style scoped>\n",
       "    .dataframe tbody tr th:only-of-type {\n",
       "        vertical-align: middle;\n",
       "    }\n",
       "\n",
       "    .dataframe tbody tr th {\n",
       "        vertical-align: top;\n",
       "    }\n",
       "\n",
       "    .dataframe thead th {\n",
       "        text-align: right;\n",
       "    }\n",
       "</style>\n",
       "<table border=\"1\" class=\"dataframe\">\n",
       "  <thead>\n",
       "    <tr style=\"text-align: right;\">\n",
       "      <th></th>\n",
       "      <th>train_loss</th>\n",
       "      <th>train_loss_step</th>\n",
       "      <th>val/rmse</th>\n",
       "      <th>val/mae</th>\n",
       "      <th>val_loss</th>\n",
       "      <th>train_loss_epoch</th>\n",
       "      <th>epoch</th>\n",
       "      <th>step</th>\n",
       "      <th>timestamp</th>\n",
       "      <th>checkpoint_dir_name</th>\n",
       "      <th>...</th>\n",
       "      <th>pid</th>\n",
       "      <th>hostname</th>\n",
       "      <th>node_ip</th>\n",
       "      <th>time_since_restore</th>\n",
       "      <th>iterations_since_restore</th>\n",
       "      <th>config/train_loop_config/depth</th>\n",
       "      <th>config/train_loop_config/ffn_hidden_dim</th>\n",
       "      <th>config/train_loop_config/ffn_num_layers</th>\n",
       "      <th>config/train_loop_config/message_hidden_dim</th>\n",
       "      <th>logdir</th>\n",
       "    </tr>\n",
       "  </thead>\n",
       "  <tbody>\n",
       "    <tr>\n",
       "      <th>0</th>\n",
       "      <td>0.438810</td>\n",
       "      <td>0.376247</td>\n",
       "      <td>0.616044</td>\n",
       "      <td>0.459482</td>\n",
       "      <td>0.379510</td>\n",
       "      <td>0.438810</td>\n",
       "      <td>19</td>\n",
       "      <td>560</td>\n",
       "      <td>1741735427</td>\n",
       "      <td>checkpoint_000019</td>\n",
       "      <td>...</td>\n",
       "      <td>2724912</td>\n",
       "      <td>cpusrv45.scidom.de</td>\n",
       "      <td>10.233.0.55</td>\n",
       "      <td>250.919009</td>\n",
       "      <td>20</td>\n",
       "      <td>2</td>\n",
       "      <td>2000</td>\n",
       "      <td>2</td>\n",
       "      <td>500</td>\n",
       "      <td>6f0157cc</td>\n",
       "    </tr>\n",
       "    <tr>\n",
       "      <th>1</th>\n",
       "      <td>0.352592</td>\n",
       "      <td>0.305612</td>\n",
       "      <td>0.538872</td>\n",
       "      <td>0.427127</td>\n",
       "      <td>0.290383</td>\n",
       "      <td>0.352592</td>\n",
       "      <td>19</td>\n",
       "      <td>560</td>\n",
       "      <td>1741735412</td>\n",
       "      <td>checkpoint_000019</td>\n",
       "      <td>...</td>\n",
       "      <td>2725149</td>\n",
       "      <td>cpusrv45.scidom.de</td>\n",
       "      <td>10.233.0.55</td>\n",
       "      <td>225.522838</td>\n",
       "      <td>20</td>\n",
       "      <td>2</td>\n",
       "      <td>2200</td>\n",
       "      <td>2</td>\n",
       "      <td>400</td>\n",
       "      <td>6ccfe64d</td>\n",
       "    </tr>\n",
       "  </tbody>\n",
       "</table>\n",
       "<p>2 rows × 27 columns</p>\n",
       "</div>"
      ],
      "text/plain": [
       "   train_loss  train_loss_step  val/rmse   val/mae  val_loss  \\\n",
       "0    0.438810         0.376247  0.616044  0.459482  0.379510   \n",
       "1    0.352592         0.305612  0.538872  0.427127  0.290383   \n",
       "\n",
       "   train_loss_epoch  epoch  step   timestamp checkpoint_dir_name  ...  \\\n",
       "0          0.438810     19   560  1741735427   checkpoint_000019  ...   \n",
       "1          0.352592     19   560  1741735412   checkpoint_000019  ...   \n",
       "\n",
       "       pid            hostname      node_ip time_since_restore  \\\n",
       "0  2724912  cpusrv45.scidom.de  10.233.0.55         250.919009   \n",
       "1  2725149  cpusrv45.scidom.de  10.233.0.55         225.522838   \n",
       "\n",
       "  iterations_since_restore  config/train_loop_config/depth  \\\n",
       "0                       20                               2   \n",
       "1                       20                               2   \n",
       "\n",
       "   config/train_loop_config/ffn_hidden_dim  \\\n",
       "0                                     2000   \n",
       "1                                     2200   \n",
       "\n",
       "   config/train_loop_config/ffn_num_layers  \\\n",
       "0                                        2   \n",
       "1                                        2   \n",
       "\n",
       "  config/train_loop_config/message_hidden_dim    logdir  \n",
       "0                                         500  6f0157cc  \n",
       "1                                         400  6ccfe64d  \n",
       "\n",
       "[2 rows x 27 columns]"
      ]
     },
     "execution_count": 10,
     "metadata": {},
     "output_type": "execute_result"
    }
   ],
   "source": [
    "result_df = results.get_dataframe()\n",
    "result_df"
   ]
  },
  {
   "cell_type": "code",
   "execution_count": 11,
   "id": "2e8dd786-358c-46cd-b69c-9e6b1f2343aa",
   "metadata": {},
   "outputs": [
    {
     "data": {
      "text/plain": [
       "{'depth': 2,\n",
       " 'ffn_hidden_dim': 2200,\n",
       " 'ffn_num_layers': 2,\n",
       " 'message_hidden_dim': 400}"
      ]
     },
     "execution_count": 11,
     "metadata": {},
     "output_type": "execute_result"
    }
   ],
   "source": [
    "# best configuration\n",
    "best_result = results.get_best_result()\n",
    "best_config = best_result.config\n",
    "best_config['train_loop_config']"
   ]
  },
  {
   "cell_type": "code",
   "execution_count": 12,
   "id": "ce9c0344-f3d8-463f-ab5e-6612385cf99e",
   "metadata": {},
   "outputs": [
    {
     "name": "stdout",
     "output_type": "stream",
     "text": [
      "Best model checkpoint path: /ictstr01/home/aih/serra.korkmaz/projects/saturn/hopt/hpopt_5ht1b_zinc/ray_results/TorchTrainer_2025-03-12_00-19-26/6ccfe64d/checkpoint_000019/checkpoint.ckpt\n"
     ]
    }
   ],
   "source": [
    "# best model checkpoint path\n",
    "best_result = results.get_best_result()\n",
    "best_checkpoint_path = Path(best_result.checkpoint.path) / \"checkpoint.ckpt\"\n",
    "print(f\"Best model checkpoint path: {best_checkpoint_path}\")"
   ]
  },
  {
   "cell_type": "code",
   "execution_count": 13,
   "id": "8c8d7370-2604-4965-93ad-ea8bdeb1eca4",
   "metadata": {},
   "outputs": [
    {
     "data": {
      "text/plain": [
       "MPNN(\n",
       "  (message_passing): BondMessagePassing(\n",
       "    (W_i): Linear(in_features=86, out_features=400, bias=False)\n",
       "    (W_h): Linear(in_features=400, out_features=400, bias=False)\n",
       "    (W_o): Linear(in_features=472, out_features=400, bias=True)\n",
       "    (dropout): Dropout(p=0.0, inplace=False)\n",
       "    (tau): ReLU()\n",
       "    (V_d_transform): Identity()\n",
       "    (graph_transform): Identity()\n",
       "  )\n",
       "  (agg): MeanAggregation()\n",
       "  (bn): BatchNorm1d(400, eps=1e-05, momentum=0.1, affine=True, track_running_stats=True)\n",
       "  (predictor): RegressionFFN(\n",
       "    (ffn): MLP(\n",
       "      (0): Sequential(\n",
       "        (0): Linear(in_features=400, out_features=2200, bias=True)\n",
       "      )\n",
       "      (1): Sequential(\n",
       "        (0): ReLU()\n",
       "        (1): Dropout(p=0.0, inplace=False)\n",
       "        (2): Linear(in_features=2200, out_features=2200, bias=True)\n",
       "      )\n",
       "      (2): Sequential(\n",
       "        (0): ReLU()\n",
       "        (1): Dropout(p=0.0, inplace=False)\n",
       "        (2): Linear(in_features=2200, out_features=1, bias=True)\n",
       "      )\n",
       "    )\n",
       "    (criterion): MSE(task_weights=[[1.0]])\n",
       "    (output_transform): UnscaleTransform()\n",
       "  )\n",
       "  (X_d_transform): Identity()\n",
       "  (metrics): ModuleList(\n",
       "    (0): RMSE(task_weights=[[1.0]])\n",
       "    (1): MAE(task_weights=[[1.0]])\n",
       "    (2): MSE(task_weights=[[1.0]])\n",
       "  )\n",
       ")"
      ]
     },
     "execution_count": 13,
     "metadata": {},
     "output_type": "execute_result"
    }
   ],
   "source": [
    "mpnn = models.MPNN.load_from_checkpoint(best_checkpoint_path)\n",
    "mpnn"
   ]
  },
  {
   "cell_type": "code",
   "execution_count": 14,
   "id": "4a8a34e4-ca47-44b9-8cf3-7f6ac5b152ea",
   "metadata": {},
   "outputs": [
    {
     "name": "stderr",
     "output_type": "stream",
     "text": [
      "GPU available: False, used: False\n",
      "TPU available: False, using: 0 TPU cores\n",
      "HPU available: False, using: 0 HPUs\n",
      "SLURM auto-requeueing enabled. Setting signal handlers.\n",
      "/home/aih/serra.korkmaz/miniconda3/envs/saturn/lib/python3.11/site-packages/lightning/pytorch/trainer/connectors/data_connector.py:425: The 'predict_dataloader' does not have many workers which may be a bottleneck. Consider increasing the value of the `num_workers` argument` to `num_workers=3` in the `DataLoader` to improve performance.\n"
     ]
    },
    {
     "name": "stdout",
     "output_type": "stream",
     "text": [
      "Predicting DataLoader 0: 100%|██████████| 4/4 [00:00<00:00, 11.48it/s]\n"
     ]
    }
   ],
   "source": [
    "import torch\n",
    "test_loader = data.build_dataloader(test_dset, shuffle=False)\n",
    "with torch.inference_mode():\n",
    "    trainer = pl.Trainer(\n",
    "        logger=None,\n",
    "        enable_progress_bar=True,\n",
    "        accelerator=\"cpu\",\n",
    "        devices=1\n",
    "    )\n",
    "    test_preds = trainer.predict(mpnn, test_loader)"
   ]
  },
  {
   "cell_type": "code",
   "execution_count": 15,
   "id": "69b84a2f-36df-415a-af1c-f7595b59b7d5",
   "metadata": {},
   "outputs": [
    {
     "data": {
      "text/html": [
       "<div>\n",
       "<style scoped>\n",
       "    .dataframe tbody tr th:only-of-type {\n",
       "        vertical-align: middle;\n",
       "    }\n",
       "\n",
       "    .dataframe tbody tr th {\n",
       "        vertical-align: top;\n",
       "    }\n",
       "\n",
       "    .dataframe thead th {\n",
       "        text-align: right;\n",
       "    }\n",
       "</style>\n",
       "<table border=\"1\" class=\"dataframe\">\n",
       "  <thead>\n",
       "    <tr style=\"text-align: right;\">\n",
       "      <th></th>\n",
       "      <th>smiles</th>\n",
       "      <th>value</th>\n",
       "      <th>preds</th>\n",
       "    </tr>\n",
       "  </thead>\n",
       "  <tbody>\n",
       "    <tr>\n",
       "      <th>0</th>\n",
       "      <td>COc1ccc(C(=O)Nc2ccccc2C(=O)Nc2ccccn2)cc1</td>\n",
       "      <td>9.8</td>\n",
       "      <td>9.118670</td>\n",
       "    </tr>\n",
       "    <tr>\n",
       "      <th>1</th>\n",
       "      <td>CCc1noc(CC)c1CNC(=O)N[C@H]1CCc2c(F)cccc21</td>\n",
       "      <td>9.5</td>\n",
       "      <td>7.903823</td>\n",
       "    </tr>\n",
       "    <tr>\n",
       "      <th>2</th>\n",
       "      <td>CC(C)C[C@@H](C[NH2+]C1CC1)C[C@@H]1COc2ccccc21</td>\n",
       "      <td>7.3</td>\n",
       "      <td>8.024309</td>\n",
       "    </tr>\n",
       "    <tr>\n",
       "      <th>3</th>\n",
       "      <td>CC[NH+]1CCc2c(cccc2-n2nnc(C(=O)NC3CC3)c2C)C1</td>\n",
       "      <td>6.5</td>\n",
       "      <td>8.062380</td>\n",
       "    </tr>\n",
       "    <tr>\n",
       "      <th>4</th>\n",
       "      <td>Cc1ccc(N2C[C@H](C(=O)N3CCC[C@@H](C(=O)[O-])C3)...</td>\n",
       "      <td>9.7</td>\n",
       "      <td>10.343315</td>\n",
       "    </tr>\n",
       "    <tr>\n",
       "      <th>...</th>\n",
       "      <td>...</td>\n",
       "      <td>...</td>\n",
       "      <td>...</td>\n",
       "    </tr>\n",
       "    <tr>\n",
       "      <th>193</th>\n",
       "      <td>Cc1[nH]ncc1CCCNc1ccc(Br)cc1[N+](=O)[O-]</td>\n",
       "      <td>6.9</td>\n",
       "      <td>7.192903</td>\n",
       "    </tr>\n",
       "    <tr>\n",
       "      <th>194</th>\n",
       "      <td>C[C@@H](NC(=O)c1ccccc1NC(=O)Cn1ccc([N+](=O)[O-...</td>\n",
       "      <td>10.4</td>\n",
       "      <td>8.987608</td>\n",
       "    </tr>\n",
       "    <tr>\n",
       "      <th>195</th>\n",
       "      <td>COc1cccc(-c2cc(C(=O)N3CCC[C@@H]3c3cc(C(C)C)no3...</td>\n",
       "      <td>10.3</td>\n",
       "      <td>8.561325</td>\n",
       "    </tr>\n",
       "    <tr>\n",
       "      <th>196</th>\n",
       "      <td>CC(C)c1ccc2c(c1)[C@@H]([NH2+][C@@H]1CCO[C@]3(C...</td>\n",
       "      <td>9.4</td>\n",
       "      <td>8.666800</td>\n",
       "    </tr>\n",
       "    <tr>\n",
       "      <th>197</th>\n",
       "      <td>O=C(CCOc1ccccc1)NNC(=O)Nc1ccc(Cl)cc1</td>\n",
       "      <td>6.1</td>\n",
       "      <td>8.282897</td>\n",
       "    </tr>\n",
       "  </tbody>\n",
       "</table>\n",
       "<p>198 rows × 3 columns</p>\n",
       "</div>"
      ],
      "text/plain": [
       "                                                smiles  value      preds\n",
       "0             COc1ccc(C(=O)Nc2ccccc2C(=O)Nc2ccccn2)cc1    9.8   9.118670\n",
       "1            CCc1noc(CC)c1CNC(=O)N[C@H]1CCc2c(F)cccc21    9.5   7.903823\n",
       "2        CC(C)C[C@@H](C[NH2+]C1CC1)C[C@@H]1COc2ccccc21    7.3   8.024309\n",
       "3         CC[NH+]1CCc2c(cccc2-n2nnc(C(=O)NC3CC3)c2C)C1    6.5   8.062380\n",
       "4    Cc1ccc(N2C[C@H](C(=O)N3CCC[C@@H](C(=O)[O-])C3)...    9.7  10.343315\n",
       "..                                                 ...    ...        ...\n",
       "193            Cc1[nH]ncc1CCCNc1ccc(Br)cc1[N+](=O)[O-]    6.9   7.192903\n",
       "194  C[C@@H](NC(=O)c1ccccc1NC(=O)Cn1ccc([N+](=O)[O-...   10.4   8.987608\n",
       "195  COc1cccc(-c2cc(C(=O)N3CCC[C@@H]3c3cc(C(C)C)no3...   10.3   8.561325\n",
       "196  CC(C)c1ccc2c(c1)[C@@H]([NH2+][C@@H]1CCO[C@]3(C...    9.4   8.666800\n",
       "197               O=C(CCOc1ccccc1)NNC(=O)Nc1ccc(Cl)cc1    6.1   8.282897\n",
       "\n",
       "[198 rows x 3 columns]"
      ]
     },
     "execution_count": 15,
     "metadata": {},
     "output_type": "execute_result"
    }
   ],
   "source": [
    "import numpy as np\n",
    "test_preds = np.concatenate(test_preds, axis=0)\n",
    "df_test['preds'] = test_preds\n",
    "df_test"
   ]
  },
  {
   "cell_type": "code",
   "execution_count": 16,
   "id": "b0169d21-4390-4812-ad6d-8e489c3bfddf",
   "metadata": {},
   "outputs": [
    {
     "name": "stdout",
     "output_type": "stream",
     "text": [
      "R² Score: 0.1920\n",
      "MSE: 1.3791\n"
     ]
    }
   ],
   "source": [
    "from sklearn.metrics import r2_score, mean_squared_error\n",
    "\n",
    "# Get true values (ground truth) and predictions\n",
    "y_true = df_test['value'].values  # True target values\n",
    "y_pred = df_test['preds'].values  # Predicted values\n",
    "\n",
    "# Calculate metrics\n",
    "r2 = r2_score(y_true, y_pred)\n",
    "mse = mean_squared_error(y_true, y_pred)\n",
    "\n",
    "print(f\"R² Score: {r2:.4f}\")\n",
    "print(f\"MSE: {mse:.4f}\")"
   ]
  },
  {
   "cell_type": "code",
   "execution_count": null,
   "id": "3de73bcf-ab98-4b62-a767-33f347950575",
   "metadata": {},
   "outputs": [],
   "source": []
  },
  {
   "cell_type": "code",
   "execution_count": null,
   "id": "02182757-35e6-4af4-95cb-5dfc58ce8afc",
   "metadata": {},
   "outputs": [],
   "source": []
  }
 ],
 "metadata": {
  "kernelspec": {
   "display_name": "Python 3 (ipykernel)",
   "language": "python",
   "name": "python3"
  },
  "language_info": {
   "codemirror_mode": {
    "name": "ipython",
    "version": 3
   },
   "file_extension": ".py",
   "mimetype": "text/x-python",
   "name": "python",
   "nbconvert_exporter": "python",
   "pygments_lexer": "ipython3",
   "version": "3.11.8"
  }
 },
 "nbformat": 4,
 "nbformat_minor": 5
}
