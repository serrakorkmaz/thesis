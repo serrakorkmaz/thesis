{
 "cells": [
  {
   "cell_type": "code",
   "execution_count": 1,
   "id": "6192b6bb-dd6f-43c8-9752-05f9de1700b4",
   "metadata": {},
   "outputs": [
    {
     "name": "stderr",
     "output_type": "stream",
     "text": [
      "/home/aih/serra.korkmaz/miniconda3/envs/saturn/lib/python3.11/site-packages/tqdm/auto.py:21: TqdmWarning: IProgress not found. Please update jupyter and ipywidgets. See https://ipywidgets.readthedocs.io/en/stable/user_install.html\n",
      "  from .autonotebook import tqdm as notebook_tqdm\n",
      "2025-03-11 23:23:30,907\tINFO util.py:154 -- Missing packages: ['ipywidgets']. Run `pip install -U ipywidgets`, then restart the notebook server for rich notebook output.\n",
      "2025-03-11 23:23:31,342\tINFO util.py:154 -- Missing packages: ['ipywidgets']. Run `pip install -U ipywidgets`, then restart the notebook server for rich notebook output.\n",
      "2025-03-11 23:23:31,831\tINFO util.py:154 -- Missing packages: ['ipywidgets']. Run `pip install -U ipywidgets`, then restart the notebook server for rich notebook output.\n"
     ]
    }
   ],
   "source": [
    "from pathlib import Path\n",
    "\n",
    "import pandas as pd\n",
    "from lightning import pytorch as pl\n",
    "import ray\n",
    "from ray import tune\n",
    "from ray.train import CheckpointConfig, RunConfig, ScalingConfig\n",
    "from ray.train.lightning import (RayDDPStrategy, RayLightningEnvironment,\n",
    "                                 RayTrainReportCallback, prepare_trainer)\n",
    "from ray.train.torch import TorchTrainer\n",
    "from ray.tune.search.hyperopt import HyperOptSearch\n",
    "from ray.tune.search.optuna import OptunaSearch\n",
    "from ray.tune.schedulers import FIFOScheduler\n",
    "\n",
    "from chemprop import data, featurizers, models, nn"
   ]
  },
  {
   "cell_type": "code",
   "execution_count": 2,
   "id": "afed6433-23c1-499c-9c56-03c725f26577",
   "metadata": {},
   "outputs": [],
   "source": [
    "chemprop_dir = Path.cwd().parent\n",
    "train_path = \"/home/aih/serra.korkmaz/projects/saturn/SurogateModel/training_data_4sm_chembl/train_data_parp1.csv\"\n",
    "test_path = \"/home/aih/serra.korkmaz/projects/saturn/SurogateModel/training_data_4sm_chembl/test_data_parp1.csv\"\n",
    "num_workers = 0 # number of workers for dataloader. 0 means using main process for data loading\n",
    "smiles_column = 'smiles' # name of the column containing SMILES strings\n",
    "target_columns = ['value'] # list of names of the columns containing targets\n",
    "\n",
    "hpopt_save_dir = Path.cwd() / \"hpopt_parp1_chembl\" # directory to save hyperopt results\n",
    "hpopt_save_dir.mkdir(exist_ok=True)"
   ]
  },
  {
   "cell_type": "code",
   "execution_count": 3,
   "id": "79b9963b-a4e2-4cd8-b122-d379814088b9",
   "metadata": {},
   "outputs": [],
   "source": [
    "df_train = pd.read_csv(train_path)\n",
    "df_test = pd.read_csv(test_path)"
   ]
  },
  {
   "cell_type": "code",
   "execution_count": 4,
   "id": "2c1c3921-b3da-4341-8140-74cf0ecafad7",
   "metadata": {},
   "outputs": [],
   "source": [
    "# Extract SMILES and target values\n",
    "train_smis = df_train[smiles_column].values\n",
    "train_ys = df_train[target_columns].values\n",
    "\n",
    "test_smis = df_test[smiles_column].values\n",
    "test_ys = df_test[target_columns].values\n",
    "\n",
    "# Convert data to MoleculeDatapoint format\n",
    "train_data = [data.MoleculeDatapoint.from_smi(smi, y) for smi, y in zip(train_smis, train_ys)]\n",
    "test_data = [data.MoleculeDatapoint.from_smi(smi, y) for smi, y in zip(test_smis, test_ys)]\n"
   ]
  },
  {
   "cell_type": "code",
   "execution_count": 5,
   "id": "bbc5e27a-cfbc-4181-89d3-83b27785fcf8",
   "metadata": {},
   "outputs": [],
   "source": [
    "# Initialize featurizer\n",
    "featurizer = featurizers.SimpleMoleculeMolGraphFeaturizer()\n",
    "\n",
    "# Create training dataset\n",
    "train_dset = data.MoleculeDataset(train_data, featurizer)\n",
    "scaler = train_dset.normalize_targets()\n",
    "\n",
    "# Split validation set from training data (80% train, 20% validation)\n",
    "split_idx = int(len(train_data) * 0.8)\n",
    "val_data = train_data[split_idx:]\n",
    "train_data = train_data[:split_idx]\n",
    "\n",
    "# Create validation and test datasets\n",
    "val_dset = data.MoleculeDataset(val_data, featurizer)\n",
    "val_dset.normalize_targets(scaler)\n",
    "\n",
    "test_dset = data.MoleculeDataset(test_data, featurizer)"
   ]
  },
  {
   "cell_type": "code",
   "execution_count": 6,
   "id": "c0571af4-13e8-4c32-add1-bc9dd10df31e",
   "metadata": {},
   "outputs": [],
   "source": [
    "def train_model(config, train_dset, val_dset, num_workers, scaler):\n",
    "\n",
    "    # config is a dictionary containing hyperparameters used for the trial\n",
    "    depth = int(config[\"depth\"])\n",
    "    ffn_hidden_dim = int(config[\"ffn_hidden_dim\"])\n",
    "    ffn_num_layers = int(config[\"ffn_num_layers\"])\n",
    "    message_hidden_dim = int(config[\"message_hidden_dim\"])\n",
    "\n",
    "    train_loader = data.build_dataloader(train_dset, num_workers=num_workers, shuffle=True)\n",
    "    val_loader = data.build_dataloader(val_dset, num_workers=num_workers, shuffle=False)\n",
    "\n",
    "    mp = nn.BondMessagePassing(d_h=message_hidden_dim, depth=depth)\n",
    "    agg = nn.MeanAggregation()\n",
    "    output_transform = nn.UnscaleTransform.from_standard_scaler(scaler)\n",
    "    ffn = nn.RegressionFFN(output_transform=output_transform, input_dim=message_hidden_dim, hidden_dim=ffn_hidden_dim, n_layers=ffn_num_layers)\n",
    "    batch_norm = True\n",
    "    metric_list = [nn.metrics.RMSE(), nn.metrics.MAE()]\n",
    "    model = models.MPNN(mp, agg, ffn, batch_norm, metric_list)\n",
    "\n",
    "    trainer = pl.Trainer(\n",
    "        accelerator=\"auto\",\n",
    "        devices=1,\n",
    "        max_epochs=20, # number of epochs to train for\n",
    "        # below are needed for Ray and Lightning integration\n",
    "        strategy=RayDDPStrategy(),\n",
    "        callbacks=[RayTrainReportCallback()],\n",
    "        plugins=[RayLightningEnvironment()],\n",
    "    )\n",
    "\n",
    "    trainer = prepare_trainer(trainer)\n",
    "    trainer.fit(model, train_loader, val_loader)"
   ]
  },
  {
   "cell_type": "code",
   "execution_count": 7,
   "id": "00dc82d6-6d1d-489c-802a-ae0a223867dc",
   "metadata": {},
   "outputs": [],
   "source": [
    "search_space = {\n",
    "    \"depth\": tune.qrandint(lower=2, upper=6, q=1),\n",
    "    \"ffn_hidden_dim\": tune.qrandint(lower=300, upper=2400, q=100),\n",
    "    \"ffn_num_layers\": tune.qrandint(lower=1, upper=3, q=1),\n",
    "    \"message_hidden_dim\": tune.qrandint(lower=300, upper=2400, q=100),\n",
    "}"
   ]
  },
  {
   "cell_type": "code",
   "execution_count": 8,
   "id": "c406b1c1-394a-43f0-be69-3fe9b9d593a4",
   "metadata": {},
   "outputs": [
    {
     "data": {
      "text/html": [
       "<div class=\"tuneStatus\">\n",
       "  <div style=\"display: flex;flex-direction: row\">\n",
       "    <div style=\"display: flex;flex-direction: column;\">\n",
       "      <h3>Tune Status</h3>\n",
       "      <table>\n",
       "<tbody>\n",
       "<tr><td>Current time:</td><td>2025-03-11 23:28:49</td></tr>\n",
       "<tr><td>Running for: </td><td>00:04:04.02        </td></tr>\n",
       "<tr><td>Memory:      </td><td>41.4/753.9 GiB     </td></tr>\n",
       "</tbody>\n",
       "</table>\n",
       "    </div>\n",
       "    <div class=\"vDivider\"></div>\n",
       "    <div class=\"systemInfo\">\n",
       "      <h3>System Info</h3>\n",
       "      Using FIFO scheduling algorithm.<br>Logical resource usage: 2.0/96 CPUs, 0/0 GPUs\n",
       "    </div>\n",
       "    \n",
       "  </div>\n",
       "  <div class=\"hDivider\"></div>\n",
       "  <div class=\"trialStatus\">\n",
       "    <h3>Trial Status</h3>\n",
       "    <table>\n",
       "<thead>\n",
       "<tr><th>Trial name           </th><th>status    </th><th>loc             </th><th style=\"text-align: right;\">  train_loop_config/de\n",
       "pth</th><th style=\"text-align: right;\">     train_loop_config/ff\n",
       "n_hidden_dim</th><th style=\"text-align: right;\">  train_loop_config/ff\n",
       "n_num_layers</th><th style=\"text-align: right;\">    train_loop_config/me\n",
       "ssage_hidden_dim</th><th style=\"text-align: right;\">  iter</th><th style=\"text-align: right;\">  total time (s)</th><th style=\"text-align: right;\">  train_loss</th><th style=\"text-align: right;\">  train_loss_step</th><th style=\"text-align: right;\">  val/rmse</th></tr>\n",
       "</thead>\n",
       "<tbody>\n",
       "<tr><td>TorchTrainer_e7d9527d</td><td>TERMINATED</td><td>10.233.0.20:9073</td><td style=\"text-align: right;\">2</td><td style=\"text-align: right;\">2000</td><td style=\"text-align: right;\">2</td><td style=\"text-align: right;\">500</td><td style=\"text-align: right;\">    20</td><td style=\"text-align: right;\">         233.226</td><td style=\"text-align: right;\">    0.177644</td><td style=\"text-align: right;\">         0.199717</td><td style=\"text-align: right;\">  0.427598</td></tr>\n",
       "<tr><td>TorchTrainer_cdb03fbb</td><td>TERMINATED</td><td>10.233.0.20:9309</td><td style=\"text-align: right;\">2</td><td style=\"text-align: right;\">2200</td><td style=\"text-align: right;\">2</td><td style=\"text-align: right;\">400</td><td style=\"text-align: right;\">    20</td><td style=\"text-align: right;\">         209.045</td><td style=\"text-align: right;\">    0.174407</td><td style=\"text-align: right;\">         0.215627</td><td style=\"text-align: right;\">  0.430573</td></tr>\n",
       "</tbody>\n",
       "</table>\n",
       "  </div>\n",
       "</div>\n",
       "<style>\n",
       ".tuneStatus {\n",
       "  color: var(--jp-ui-font-color1);\n",
       "}\n",
       ".tuneStatus .systemInfo {\n",
       "  display: flex;\n",
       "  flex-direction: column;\n",
       "}\n",
       ".tuneStatus td {\n",
       "  white-space: nowrap;\n",
       "}\n",
       ".tuneStatus .trialStatus {\n",
       "  display: flex;\n",
       "  flex-direction: column;\n",
       "}\n",
       ".tuneStatus h3 {\n",
       "  font-weight: bold;\n",
       "}\n",
       ".tuneStatus .hDivider {\n",
       "  border-bottom-width: var(--jp-border-width);\n",
       "  border-bottom-color: var(--jp-border-color0);\n",
       "  border-bottom-style: solid;\n",
       "}\n",
       ".tuneStatus .vDivider {\n",
       "  border-left-width: var(--jp-border-width);\n",
       "  border-left-color: var(--jp-border-color0);\n",
       "  border-left-style: solid;\n",
       "  margin: 0.5em 1em 0.5em 1em;\n",
       "}\n",
       "</style>\n"
      ],
      "text/plain": [
       "<IPython.core.display.HTML object>"
      ]
     },
     "metadata": {},
     "output_type": "display_data"
    },
    {
     "name": "stderr",
     "output_type": "stream",
     "text": [
      "\u001b[36m(RayTrainWorker pid=9308)\u001b[0m Setting up process group for: env:// [rank=0, world_size=1]\n",
      "\u001b[36m(TorchTrainer pid=9073)\u001b[0m Started distributed worker processes: \n",
      "\u001b[36m(TorchTrainer pid=9073)\u001b[0m - (node_id=efcd5792a61fd6a9e59bd33748565df1230387a2250afed7e93067bf, ip=10.233.0.20, pid=9308) world_rank=0, local_rank=0, node_rank=0\n",
      "\u001b[36m(RayTrainWorker pid=9308)\u001b[0m /home/aih/serra.korkmaz/miniconda3/envs/saturn/lib/python3.11/site-packages/ray/train/lightning/_lightning_utils.py:262: This API is deprecated and may be removed in future Ray releases. You could suppress this warning by setting env variable PYTHONWARNINGS=\"ignore::DeprecationWarning\"\n",
      "\u001b[36m(RayTrainWorker pid=9308)\u001b[0m `get_trial_name` is deprecated because the concept of a `Trial` will soon be removed in Ray Train.Ray Train will no longer assume that it's running within a Ray Tune `Trial` in the future. See this issue for more context and migration options: https://github.com/ray-project/ray/issues/49454. Disable these warnings by setting the environment variable: RAY_TRAIN_ENABLE_V2_MIGRATION_WARNINGS=0\n",
      "\u001b[36m(RayTrainWorker pid=9308)\u001b[0m GPU available: False, used: False\n",
      "\u001b[36m(RayTrainWorker pid=9308)\u001b[0m TPU available: False, using: 0 TPU cores\n",
      "\u001b[36m(RayTrainWorker pid=9308)\u001b[0m HPU available: False, using: 0 HPUs\n",
      "\u001b[36m(RayTrainWorker pid=9308)\u001b[0m Loading `train_dataloader` to estimate number of stepping batches.\n",
      "\u001b[36m(RayTrainWorker pid=9308)\u001b[0m /home/aih/serra.korkmaz/miniconda3/envs/saturn/lib/python3.11/site-packages/lightning/pytorch/trainer/connectors/data_connector.py:425: The 'train_dataloader' does not have many workers which may be a bottleneck. Consider increasing the value of the `num_workers` argument` to `num_workers=3` in the `DataLoader` to improve performance.\n",
      "\u001b[36m(RayTrainWorker pid=9308)\u001b[0m /home/aih/serra.korkmaz/miniconda3/envs/saturn/lib/python3.11/site-packages/lightning/pytorch/loops/fit_loop.py:310: The number of training batches (29) is smaller than the logging interval Trainer(log_every_n_steps=50). Set a lower value for log_every_n_steps if you want to see logs for the training epoch.\n",
      "\u001b[36m(RayTrainWorker pid=9308)\u001b[0m \n",
      "\u001b[36m(RayTrainWorker pid=9308)\u001b[0m   | Name            | Type               | Params | Mode \n",
      "\u001b[36m(RayTrainWorker pid=9308)\u001b[0m ---------------------------------------------------------------\n",
      "\u001b[36m(RayTrainWorker pid=9308)\u001b[0m 0 | message_passing | BondMessagePassing | 579 K  | train\n",
      "\u001b[36m(RayTrainWorker pid=9308)\u001b[0m 1 | agg             | MeanAggregation    | 0      | train\n",
      "\u001b[36m(RayTrainWorker pid=9308)\u001b[0m 2 | bn              | BatchNorm1d        | 1.0 K  | train\n",
      "\u001b[36m(RayTrainWorker pid=9308)\u001b[0m 3 | predictor       | RegressionFFN      | 5.0 M  | train\n",
      "\u001b[36m(RayTrainWorker pid=9308)\u001b[0m 4 | X_d_transform   | Identity           | 0      | train\n",
      "\u001b[36m(RayTrainWorker pid=9308)\u001b[0m 5 | metrics         | ModuleList         | 0      | train\n",
      "\u001b[36m(RayTrainWorker pid=9308)\u001b[0m ---------------------------------------------------------------\n",
      "\u001b[36m(RayTrainWorker pid=9308)\u001b[0m 5.6 M     Trainable params\n",
      "\u001b[36m(RayTrainWorker pid=9308)\u001b[0m 0         Non-trainable params\n",
      "\u001b[36m(RayTrainWorker pid=9308)\u001b[0m 5.6 M     Total params\n",
      "\u001b[36m(RayTrainWorker pid=9308)\u001b[0m 22.346    Total estimated model params size (MB)\n",
      "\u001b[36m(RayTrainWorker pid=9308)\u001b[0m 27        Modules in train mode\n",
      "\u001b[36m(RayTrainWorker pid=9308)\u001b[0m 0         Modules in eval mode\n",
      "\u001b[36m(RayTrainWorker pid=9308)\u001b[0m /home/aih/serra.korkmaz/miniconda3/envs/saturn/lib/python3.11/site-packages/lightning/pytorch/core/saving.py:363: Skipping 'metrics' parameter because it is not possible to safely dump to YAML.\n",
      "\u001b[36m(RayTrainWorker pid=9308)\u001b[0m /home/aih/serra.korkmaz/miniconda3/envs/saturn/lib/python3.11/site-packages/lightning/pytorch/trainer/connectors/data_connector.py:425: The 'val_dataloader' does not have many workers which may be a bottleneck. Consider increasing the value of the `num_workers` argument` to `num_workers=3` in the `DataLoader` to improve performance.\n"
     ]
    },
    {
     "name": "stdout",
     "output_type": "stream",
     "text": [
      "Sanity Checking: |          | 0/? [00:00<?, ?it/s]\n",
      "Sanity Checking DataLoader 0:   0%|          | 0/2 [00:00<?, ?it/s]\n",
      "Sanity Checking DataLoader 0:  50%|█████     | 1/2 [00:00<00:00,  3.25it/s]\n",
      "Epoch 0:   0%|          | 0/29 [00:00<?, ?it/s]                            \n",
      "Epoch 0:   3%|▎         | 1/29 [00:00<00:10,  2.59it/s, v_num=3.41e+7, train_loss_step=0.773]\n",
      "Epoch 0:   7%|▋         | 2/29 [00:00<00:09,  2.76it/s, v_num=3.41e+7, train_loss_step=0.711]\n",
      "Epoch 0:  10%|█         | 3/29 [00:01<00:09,  2.87it/s, v_num=3.41e+7, train_loss_step=0.541]\n",
      "Epoch 0:  14%|█▍        | 4/29 [00:01<00:08,  2.96it/s, v_num=3.41e+7, train_loss_step=0.473]\n",
      "Epoch 0:  17%|█▋        | 5/29 [00:01<00:08,  2.92it/s, v_num=3.41e+7, train_loss_step=0.501]\n",
      "Epoch 0:  21%|██        | 6/29 [00:02<00:07,  2.95it/s, v_num=3.41e+7, train_loss_step=0.552]\n",
      "Epoch 0:  24%|██▍       | 7/29 [00:02<00:07,  2.92it/s, v_num=3.41e+7, train_loss_step=0.514]\n",
      "Epoch 0:  28%|██▊       | 8/29 [00:02<00:07,  2.91it/s, v_num=3.41e+7, train_loss_step=0.544]\n",
      "Epoch 0:  31%|███       | 9/29 [00:03<00:06,  2.95it/s, v_num=3.41e+7, train_loss_step=0.487]\n",
      "Epoch 0:  34%|███▍      | 10/29 [00:03<00:06,  2.95it/s, v_num=3.41e+7, train_loss_step=0.500]\n",
      "Epoch 0:  38%|███▊      | 11/29 [00:03<00:06,  2.97it/s, v_num=3.41e+7, train_loss_step=0.428]\n",
      "Epoch 0:  41%|████▏     | 12/29 [00:04<00:05,  3.00it/s, v_num=3.41e+7, train_loss_step=0.457]\n",
      "Epoch 0:  45%|████▍     | 13/29 [00:04<00:05,  3.03it/s, v_num=3.41e+7, train_loss_step=0.792]\n",
      "Epoch 0:  48%|████▊     | 14/29 [00:04<00:04,  3.05it/s, v_num=3.41e+7, train_loss_step=0.392]\n",
      "Epoch 0:  52%|█████▏    | 15/29 [00:04<00:04,  3.06it/s, v_num=3.41e+7, train_loss_step=0.646]\n",
      "Epoch 0:  55%|█████▌    | 16/29 [00:05<00:04,  3.08it/s, v_num=3.41e+7, train_loss_step=0.607]\n"
     ]
    },
    {
     "name": "stderr",
     "output_type": "stream",
     "text": [
      "\u001b[36m(TorchTrainer pid=9309)\u001b[0m Started distributed worker processes: \n",
      "\u001b[36m(TorchTrainer pid=9309)\u001b[0m - (node_id=efcd5792a61fd6a9e59bd33748565df1230387a2250afed7e93067bf, ip=10.233.0.20, pid=9596) world_rank=0, local_rank=0, node_rank=0\n",
      "\u001b[36m(RayTrainWorker pid=9596)\u001b[0m Setting up process group for: env:// [rank=0, world_size=1]\n"
     ]
    },
    {
     "name": "stdout",
     "output_type": "stream",
     "text": [
      "Epoch 0:  59%|█████▊    | 17/29 [00:05<00:03,  3.09it/s, v_num=3.41e+7, train_loss_step=0.575]\n",
      "Epoch 0:  62%|██████▏   | 18/29 [00:05<00:03,  3.09it/s, v_num=3.41e+7, train_loss_step=0.232]\n",
      "Epoch 0:  66%|██████▌   | 19/29 [00:06<00:03,  3.09it/s, v_num=3.41e+7, train_loss_step=0.425]\n",
      "Epoch 0:  69%|██████▉   | 20/29 [00:06<00:02,  3.08it/s, v_num=3.41e+7, train_loss_step=0.451]\n",
      "Epoch 0:  72%|███████▏  | 21/29 [00:06<00:02,  3.07it/s, v_num=3.41e+7, train_loss_step=0.575]\n",
      "Epoch 0:  76%|███████▌  | 22/29 [00:07<00:02,  3.08it/s, v_num=3.41e+7, train_loss_step=0.478]\n",
      "Epoch 0:  79%|███████▉  | 23/29 [00:07<00:01,  3.09it/s, v_num=3.41e+7, train_loss_step=0.657]\n",
      "Epoch 0:  83%|████████▎ | 24/29 [00:07<00:01,  3.09it/s, v_num=3.41e+7, train_loss_step=0.368]\n",
      "Epoch 0:  86%|████████▌ | 25/29 [00:08<00:01,  3.10it/s, v_num=3.41e+7, train_loss_step=0.476]\n",
      "Epoch 0:  90%|████████▉ | 26/29 [00:08<00:00,  3.12it/s, v_num=3.41e+7, train_loss_step=0.674]\n",
      "Epoch 0:  93%|█████████▎| 27/29 [00:08<00:00,  3.11it/s, v_num=3.41e+7, train_loss_step=0.456]\n",
      "Epoch 0: 100%|██████████| 29/29 [00:09<00:00,  3.19it/s, v_num=3.41e+7, train_loss_step=0.111]\n",
      "\u001b[36m(RayTrainWorker pid=9308)\u001b[0m \n",
      "Validation: |          | 0/? [00:00<?, ?it/s]\u001b[A\n",
      "\u001b[36m(RayTrainWorker pid=9308)\u001b[0m \n",
      "Validation:   0%|          | 0/6 [00:00<?, ?it/s]\u001b[A\n",
      "Validation DataLoader 0:   0%|          | 0/6 [00:00<?, ?it/s]\u001b[A\n"
     ]
    },
    {
     "name": "stderr",
     "output_type": "stream",
     "text": [
      "\u001b[36m(RayTrainWorker pid=9596)\u001b[0m /home/aih/serra.korkmaz/miniconda3/envs/saturn/lib/python3.11/site-packages/ray/train/lightning/_lightning_utils.py:262: This API is deprecated and may be removed in future Ray releases. You could suppress this warning by setting env variable PYTHONWARNINGS=\"ignore::DeprecationWarning\"\n",
      "\u001b[36m(RayTrainWorker pid=9596)\u001b[0m `get_trial_name` is deprecated because the concept of a `Trial` will soon be removed in Ray Train.Ray Train will no longer assume that it's running within a Ray Tune `Trial` in the future. See this issue for more context and migration options: https://github.com/ray-project/ray/issues/49454. Disable these warnings by setting the environment variable: RAY_TRAIN_ENABLE_V2_MIGRATION_WARNINGS=0\n",
      "\u001b[36m(RayTrainWorker pid=9596)\u001b[0m GPU available: False, used: False\n",
      "\u001b[36m(RayTrainWorker pid=9596)\u001b[0m TPU available: False, using: 0 TPU cores\n",
      "\u001b[36m(RayTrainWorker pid=9596)\u001b[0m HPU available: False, using: 0 HPUs\n",
      "\u001b[36m(RayTrainWorker pid=9596)\u001b[0m Loading `train_dataloader` to estimate number of stepping batches.\n",
      "\u001b[36m(RayTrainWorker pid=9596)\u001b[0m /home/aih/serra.korkmaz/miniconda3/envs/saturn/lib/python3.11/site-packages/lightning/pytorch/trainer/connectors/data_connector.py:425: The 'train_dataloader' does not have many workers which may be a bottleneck. Consider increasing the value of the `num_workers` argument` to `num_workers=3` in the `DataLoader` to improve performance.\n",
      "\u001b[36m(RayTrainWorker pid=9596)\u001b[0m /home/aih/serra.korkmaz/miniconda3/envs/saturn/lib/python3.11/site-packages/lightning/pytorch/loops/fit_loop.py:310: The number of training batches (29) is smaller than the logging interval Trainer(log_every_n_steps=50). Set a lower value for log_every_n_steps if you want to see logs for the training epoch.\n",
      "\u001b[36m(RayTrainWorker pid=9596)\u001b[0m \n",
      "\u001b[36m(RayTrainWorker pid=9596)\u001b[0m   | Name            | Type               | Params | Mode \n",
      "\u001b[36m(RayTrainWorker pid=9596)\u001b[0m ---------------------------------------------------------------\n",
      "\u001b[36m(RayTrainWorker pid=9596)\u001b[0m 0 | message_passing | BondMessagePassing | 383 K  | train\n",
      "\u001b[36m(RayTrainWorker pid=9596)\u001b[0m 1 | agg             | MeanAggregation    | 0      | train\n",
      "\u001b[36m(RayTrainWorker pid=9596)\u001b[0m 2 | bn              | BatchNorm1d        | 800    | train\n",
      "\u001b[36m(RayTrainWorker pid=9596)\u001b[0m 3 | predictor       | RegressionFFN      | 5.7 M  | train\n",
      "\u001b[36m(RayTrainWorker pid=9596)\u001b[0m 4 | X_d_transform   | Identity           | 0      | train\n",
      "\u001b[36m(RayTrainWorker pid=9596)\u001b[0m 5 | metrics         | ModuleList         | 0      | train\n",
      "\u001b[36m(RayTrainWorker pid=9596)\u001b[0m ---------------------------------------------------------------\n",
      "\u001b[36m(RayTrainWorker pid=9596)\u001b[0m 6.1 M     Trainable params\n",
      "\u001b[36m(RayTrainWorker pid=9596)\u001b[0m 0         Non-trainable params\n",
      "\u001b[36m(RayTrainWorker pid=9596)\u001b[0m 6.1 M     Total params\n",
      "\u001b[36m(RayTrainWorker pid=9596)\u001b[0m 24.444    Total estimated model params size (MB)\n",
      "\u001b[36m(RayTrainWorker pid=9596)\u001b[0m 27        Modules in train mode\n",
      "\u001b[36m(RayTrainWorker pid=9596)\u001b[0m 0         Modules in eval mode\n",
      "\u001b[36m(RayTrainWorker pid=9596)\u001b[0m /home/aih/serra.korkmaz/miniconda3/envs/saturn/lib/python3.11/site-packages/lightning/pytorch/core/saving.py:363: Skipping 'metrics' parameter because it is not possible to safely dump to YAML.\n",
      "\u001b[36m(RayTrainWorker pid=9596)\u001b[0m /home/aih/serra.korkmaz/miniconda3/envs/saturn/lib/python3.11/site-packages/lightning/pytorch/trainer/connectors/data_connector.py:425: The 'val_dataloader' does not have many workers which may be a bottleneck. Consider increasing the value of the `num_workers` argument` to `num_workers=3` in the `DataLoader` to improve performance.\n"
     ]
    },
    {
     "name": "stdout",
     "output_type": "stream",
     "text": [
      "Sanity Checking DataLoader 0:   0%|          | 0/2 [00:00<?, ?it/s]\n",
      "\u001b[36m(RayTrainWorker pid=9308)\u001b[0m \n",
      "Validation DataLoader 0:  17%|█▋        | 1/6 [00:00<00:00,  5.13it/s]\u001b[A\n",
      "Sanity Checking DataLoader 0:  50%|█████     | 1/2 [00:00<00:00,  5.50it/s]\n",
      "\u001b[36m(RayTrainWorker pid=9308)\u001b[0m \n",
      "Validation DataLoader 0:  33%|███▎      | 2/6 [00:00<00:00,  4.80it/s]\u001b[A\n",
      "Epoch 0:   0%|          | 0/29 [00:00<?, ?it/s]                            \n",
      "\u001b[36m(RayTrainWorker pid=9308)\u001b[0m \n",
      "Validation DataLoader 0:  50%|█████     | 3/6 [00:00<00:00,  4.12it/s]\u001b[A\n",
      "\u001b[36m(RayTrainWorker pid=9308)\u001b[0m \n",
      "Validation DataLoader 0:  67%|██████▋   | 4/6 [00:01<00:00,  3.78it/s]\u001b[A\n",
      "\u001b[36m(RayTrainWorker pid=9308)\u001b[0m \n",
      "Validation DataLoader 0:  83%|████████▎ | 5/6 [00:01<00:00,  3.52it/s]\u001b[A\n",
      "\u001b[36m(RayTrainWorker pid=9308)\u001b[0m \n",
      "Validation DataLoader 0: 100%|██████████| 6/6 [00:01<00:00,  3.66it/s]\u001b[A\n",
      "Epoch 0: 100%|██████████| 29/29 [00:10<00:00,  2.69it/s, v_num=3.41e+7, train_loss_step=0.111, val_loss=0.994]\n",
      "Epoch 0:  10%|█         | 3/29 [00:01<00:09,  2.65it/s, v_num=3.41e+7, train_loss_step=0.619]\u001b[32m [repeated 3x across cluster] (Ray deduplicates logs by default. Set RAY_DEDUP_LOGS=0 to disable log deduplication, or see https://docs.ray.io/en/master/ray-observability/user-guides/configure-logging.html#log-deduplication for more options.)\u001b[0m\n",
      "Epoch 0: 100%|██████████| 29/29 [00:11<00:00,  2.63it/s, v_num=3.41e+7, train_loss_step=0.111, val_loss=0.994, train_loss_epoch=0.524]\n",
      "Epoch 1:   0%|          | 0/29 [00:00<?, ?it/s, v_num=3.41e+7, train_loss_step=0.111, val_loss=0.994, train_loss_epoch=0.524]         \n"
     ]
    },
    {
     "name": "stderr",
     "output_type": "stream",
     "text": [
      "\u001b[36m(RayTrainWorker pid=9308)\u001b[0m Checkpoint successfully created at: Checkpoint(filesystem=local, path=/ictstr01/home/aih/serra.korkmaz/projects/saturn/hopt/hpopt_parp1_chembl/ray_results/TorchTrainer_2025-03-11_23-24-45/e7d9527d/checkpoint_000000)\n"
     ]
    },
    {
     "name": "stdout",
     "output_type": "stream",
     "text": [
      "Epoch 1:  55%|█████▌    | 16/29 [00:04<00:03,  3.36it/s, v_num=3.41e+7, train_loss_step=0.340, val_loss=0.994, train_loss_epoch=0.524]\u001b[32m [repeated 34x across cluster]\u001b[0m\n",
      "Epoch 0:  93%|█████████▎| 27/29 [00:07<00:00,  3.65it/s, v_num=3.41e+7, train_loss_step=0.488]\n",
      "Epoch 0:  97%|█████████▋| 28/29 [00:07<00:00,  3.66it/s, v_num=3.41e+7, train_loss_step=0.377]\n",
      "Epoch 0: 100%|██████████| 29/29 [00:07<00:00,  3.75it/s, v_num=3.41e+7, train_loss_step=0.161]\n",
      "Validation: |          | 0/? [00:00<?, ?it/s]\u001b[A\n",
      "Validation:   0%|          | 0/6 [00:00<?, ?it/s]\u001b[A\n",
      "Validation DataLoader 0:   0%|          | 0/6 [00:00<?, ?it/s]\u001b[A\n",
      "\u001b[36m(RayTrainWorker pid=9596)\u001b[0m \n",
      "Validation DataLoader 0:  17%|█▋        | 1/6 [00:00<00:01,  4.34it/s]\u001b[A\n",
      "\u001b[36m(RayTrainWorker pid=9596)\u001b[0m \n",
      "Validation DataLoader 0:  33%|███▎      | 2/6 [00:00<00:01,  3.87it/s]\u001b[A\n",
      "\u001b[36m(RayTrainWorker pid=9596)\u001b[0m \n",
      "Validation DataLoader 0:  50%|█████     | 3/6 [00:00<00:00,  3.81it/s]\u001b[A\n",
      "\u001b[36m(RayTrainWorker pid=9596)\u001b[0m \n",
      "Validation DataLoader 0:  67%|██████▋   | 4/6 [00:01<00:00,  3.77it/s]\u001b[A\n",
      "\u001b[36m(RayTrainWorker pid=9596)\u001b[0m \n",
      "Validation DataLoader 0:  83%|████████▎ | 5/6 [00:01<00:00,  3.69it/s]\u001b[A\n",
      "\u001b[36m(RayTrainWorker pid=9596)\u001b[0m \n",
      "Validation DataLoader 0: 100%|██████████| 6/6 [00:01<00:00,  3.90it/s]\u001b[A\n",
      "\u001b[36m(RayTrainWorker pid=9596)\u001b[0m \n",
      "Epoch 0: 100%|██████████| 29/29 [00:09<00:00,  3.11it/s, v_num=3.41e+7, train_loss_step=0.161, val_loss=0.993]\n",
      "Epoch 0: 100%|██████████| 29/29 [00:09<00:00,  3.05it/s, v_num=3.41e+7, train_loss_step=0.161, val_loss=0.993, train_loss_epoch=0.532]\n",
      "Epoch 1:   0%|          | 0/29 [00:00<?, ?it/s, v_num=3.41e+7, train_loss_step=0.161, val_loss=0.993, train_loss_epoch=0.532]         \n"
     ]
    },
    {
     "name": "stderr",
     "output_type": "stream",
     "text": [
      "\u001b[36m(RayTrainWorker pid=9596)\u001b[0m Checkpoint successfully created at: Checkpoint(filesystem=local, path=/ictstr01/home/aih/serra.korkmaz/projects/saturn/hopt/hpopt_parp1_chembl/ray_results/TorchTrainer_2025-03-11_23-24-45/cdb03fbb/checkpoint_000000)\n"
     ]
    },
    {
     "name": "stdout",
     "output_type": "stream",
     "text": [
      "\u001b[36m(RayTrainWorker pid=9308)\u001b[0m \n",
      "\u001b[36m(RayTrainWorker pid=9308)\u001b[0m \n",
      "\u001b[36m(RayTrainWorker pid=9308)\u001b[0m \n",
      "\u001b[36m(RayTrainWorker pid=9308)\u001b[0m \n",
      "\u001b[36m(RayTrainWorker pid=9308)\u001b[0m \n",
      "Epoch 1:  21%|██        | 6/29 [00:01<00:05,  3.90it/s, v_num=3.41e+7, train_loss_step=0.354, val_loss=0.993, train_loss_epoch=0.532]\u001b[32m [repeated 21x across cluster]\u001b[0m\n",
      "\u001b[36m(RayTrainWorker pid=9308)\u001b[0m \n"
     ]
    },
    {
     "name": "stderr",
     "output_type": "stream",
     "text": [
      "\u001b[36m(RayTrainWorker pid=9308)\u001b[0m Checkpoint successfully created at: Checkpoint(filesystem=local, path=/ictstr01/home/aih/serra.korkmaz/projects/saturn/hopt/hpopt_parp1_chembl/ray_results/TorchTrainer_2025-03-11_23-24-45/e7d9527d/checkpoint_000001)\n",
      "2025-03-11 23:25:25,950\tWARNING experiment_state.py:206 -- Experiment state snapshotting has been triggered multiple times in the last 5.0 seconds and may become a bottleneck. A snapshot is forced if `CheckpointConfig(num_to_keep)` is set, and a trial has checkpointed >= `num_to_keep` times since the last snapshot.\n",
      "You may want to consider increasing the `CheckpointConfig(num_to_keep)` or decreasing the frequency of saving checkpoints.\n",
      "You can suppress this warning by setting the environment variable TUNE_WARN_EXCESSIVE_EXPERIMENT_CHECKPOINT_SYNC_THRESHOLD_S to a smaller value than the current threshold (5.0). Set it to 0 to completely suppress this warning.\n"
     ]
    },
    {
     "name": "stdout",
     "output_type": "stream",
     "text": [
      "\u001b[36m(RayTrainWorker pid=9308)\u001b[0m \n",
      "Epoch 1: 100%|██████████| 29/29 [00:08<00:00,  3.27it/s, v_num=3.41e+7, train_loss_step=0.288, val_loss=0.994, train_loss_epoch=0.524]\u001b[32m [repeated 3x across cluster]\u001b[0m\n",
      "Validation: |          | 0/? [00:00<?, ?it/s]\u001b[A\n",
      "Validation:   0%|          | 0/6 [00:00<?, ?it/s]\u001b[A\n",
      "Validation DataLoader 0:   0%|          | 0/6 [00:00<?, ?it/s]\u001b[A\n",
      "Validation DataLoader 0:  83%|████████▎ | 5/6 [00:01<00:00,  4.73it/s]\u001b[A\u001b[32m [repeated 5x across cluster]\u001b[0m\n",
      "Validation DataLoader 0: 100%|██████████| 6/6 [00:01<00:00,  4.99it/s]\u001b[A\n",
      "Epoch 1: 100%|██████████| 29/29 [00:10<00:00,  2.86it/s, v_num=3.41e+7, train_loss_step=0.288, val_loss=0.886, train_loss_epoch=0.524]\n",
      "Epoch 1: 100%|██████████| 29/29 [00:10<00:00,  2.82it/s, v_num=3.41e+7, train_loss_step=0.288, val_loss=0.886, train_loss_epoch=0.378]\n",
      "Epoch 2:   0%|          | 0/29 [00:00<?, ?it/s, v_num=3.41e+7, train_loss_step=0.288, val_loss=0.886, train_loss_epoch=0.378]         \n",
      "Epoch 2:  38%|███▊      | 11/29 [00:04<00:07,  2.38it/s, v_num=3.41e+7, train_loss_step=0.335, val_loss=0.886, train_loss_epoch=0.378]\u001b[32m [repeated 25x across cluster]\u001b[0m\n",
      "Epoch 1:  93%|█████████▎| 27/29 [00:08<00:00,  3.05it/s, v_num=3.41e+7, train_loss_step=0.258, val_loss=0.993, train_loss_epoch=0.532]\n",
      "Epoch 1:  97%|█████████▋| 28/29 [00:09<00:00,  3.03it/s, v_num=3.41e+7, train_loss_step=0.342, val_loss=0.993, train_loss_epoch=0.532]\n",
      "Epoch 1: 100%|██████████| 29/29 [00:09<00:00,  3.11it/s, v_num=3.41e+7, train_loss_step=0.642, val_loss=0.993, train_loss_epoch=0.532]\n",
      "Validation: |          | 0/? [00:00<?, ?it/s]\u001b[A\n",
      "\u001b[36m(RayTrainWorker pid=9596)\u001b[0m \n",
      "Validation:   0%|          | 0/6 [00:00<?, ?it/s]\u001b[A\n",
      "Validation DataLoader 0:   0%|          | 0/6 [00:00<?, ?it/s]\u001b[A\n",
      "\u001b[36m(RayTrainWorker pid=9596)\u001b[0m \n",
      "Validation DataLoader 0:  17%|█▋        | 1/6 [00:00<00:01,  4.44it/s]\u001b[A\n",
      "\u001b[36m(RayTrainWorker pid=9596)\u001b[0m \n",
      "Validation DataLoader 0:  33%|███▎      | 2/6 [00:00<00:01,  3.96it/s]\u001b[A\n",
      "\u001b[36m(RayTrainWorker pid=9596)\u001b[0m \n",
      "Validation DataLoader 0:  50%|█████     | 3/6 [00:00<00:00,  3.89it/s]\u001b[A\n",
      "\u001b[36m(RayTrainWorker pid=9596)\u001b[0m \n",
      "Validation DataLoader 0:  67%|██████▋   | 4/6 [00:01<00:00,  3.82it/s]\u001b[A\n",
      "\u001b[36m(RayTrainWorker pid=9596)\u001b[0m \n",
      "Validation DataLoader 0:  83%|████████▎ | 5/6 [00:01<00:00,  3.76it/s]\u001b[A\n",
      "\u001b[36m(RayTrainWorker pid=9596)\u001b[0m \n",
      "Validation DataLoader 0: 100%|██████████| 6/6 [00:01<00:00,  3.96it/s]\u001b[A\n",
      "Epoch 1: 100%|██████████| 29/29 [00:10<00:00,  2.66it/s, v_num=3.41e+7, train_loss_step=0.642, val_loss=0.823, train_loss_epoch=0.532]\n"
     ]
    },
    {
     "name": "stderr",
     "output_type": "stream",
     "text": [
      "\u001b[36m(RayTrainWorker pid=9596)\u001b[0m Checkpoint successfully created at: Checkpoint(filesystem=local, path=/ictstr01/home/aih/serra.korkmaz/projects/saturn/hopt/hpopt_parp1_chembl/ray_results/TorchTrainer_2025-03-11_23-24-45/cdb03fbb/checkpoint_000001)\n"
     ]
    },
    {
     "name": "stdout",
     "output_type": "stream",
     "text": [
      "Epoch 1: 100%|██████████| 29/29 [00:11<00:00,  2.59it/s, v_num=3.41e+7, train_loss_step=0.642, val_loss=0.823, train_loss_epoch=0.365]\n",
      "Epoch 2:   0%|          | 0/29 [00:00<?, ?it/s, v_num=3.41e+7, train_loss_step=0.642, val_loss=0.823, train_loss_epoch=0.365]         \n",
      "Epoch 2:  83%|████████▎ | 24/29 [00:09<00:02,  2.45it/s, v_num=3.41e+7, train_loss_step=0.389, val_loss=0.886, train_loss_epoch=0.378]\u001b[32m [repeated 20x across cluster]\u001b[0m\n",
      "\u001b[36m(RayTrainWorker pid=9308)\u001b[0m \n",
      "\u001b[36m(RayTrainWorker pid=9308)\u001b[0m \n",
      "Epoch 2: 100%|██████████| 29/29 [00:11<00:00,  2.51it/s, v_num=3.41e+7, train_loss_step=0.335, val_loss=0.886, train_loss_epoch=0.378]\u001b[32m [repeated 3x across cluster]\u001b[0m\n",
      "\u001b[36m(RayTrainWorker pid=9308)\u001b[0m \n",
      "Validation: |          | 0/? [00:00<?, ?it/s]\u001b[A\n",
      "Validation:   0%|          | 0/6 [00:00<?, ?it/s]\u001b[A\n",
      "Validation DataLoader 0:   0%|          | 0/6 [00:00<?, ?it/s]\u001b[A\n",
      "\u001b[36m(RayTrainWorker pid=9308)\u001b[0m \n",
      "\u001b[36m(RayTrainWorker pid=9308)\u001b[0m \n",
      "Validation DataLoader 0:  67%|██████▋   | 4/6 [00:01<00:00,  3.20it/s]\u001b[A\u001b[32m [repeated 4x across cluster]\u001b[0m\n",
      "\u001b[36m(RayTrainWorker pid=9308)\u001b[0m \n"
     ]
    },
    {
     "name": "stderr",
     "output_type": "stream",
     "text": [
      "2025-03-11 23:25:39,629\tWARNING experiment_state.py:206 -- Experiment state snapshotting has been triggered multiple times in the last 5.0 seconds and may become a bottleneck. A snapshot is forced if `CheckpointConfig(num_to_keep)` is set, and a trial has checkpointed >= `num_to_keep` times since the last snapshot.\n",
      "You may want to consider increasing the `CheckpointConfig(num_to_keep)` or decreasing the frequency of saving checkpoints.\n",
      "You can suppress this warning by setting the environment variable TUNE_WARN_EXCESSIVE_EXPERIMENT_CHECKPOINT_SYNC_THRESHOLD_S to a smaller value than the current threshold (5.0). Set it to 0 to completely suppress this warning.\n"
     ]
    },
    {
     "name": "stdout",
     "output_type": "stream",
     "text": [
      "\u001b[36m(RayTrainWorker pid=9308)\u001b[0m \n"
     ]
    },
    {
     "name": "stderr",
     "output_type": "stream",
     "text": [
      "\u001b[36m(RayTrainWorker pid=9308)\u001b[0m Checkpoint successfully created at: Checkpoint(filesystem=local, path=/ictstr01/home/aih/serra.korkmaz/projects/saturn/hopt/hpopt_parp1_chembl/ray_results/TorchTrainer_2025-03-11_23-24-45/e7d9527d/checkpoint_000002)\n"
     ]
    },
    {
     "name": "stdout",
     "output_type": "stream",
     "text": [
      "Validation DataLoader 0: 100%|██████████| 6/6 [00:01<00:00,  3.30it/s]\u001b[A\n",
      "Epoch 2: 100%|██████████| 29/29 [00:13<00:00,  2.16it/s, v_num=3.41e+7, train_loss_step=0.335, val_loss=2.070, train_loss_epoch=0.378]\n",
      "Epoch 2: 100%|██████████| 29/29 [00:13<00:00,  2.13it/s, v_num=3.41e+7, train_loss_step=0.335, val_loss=2.070, train_loss_epoch=0.378]\n",
      "Epoch 3:   0%|          | 0/29 [00:00<?, ?it/s, v_num=3.41e+7, train_loss_step=0.335, val_loss=2.070, train_loss_epoch=0.378]         \n",
      "Epoch 2:  59%|█████▊    | 17/29 [00:05<00:04,  2.90it/s, v_num=3.41e+7, train_loss_step=0.350, val_loss=0.823, train_loss_epoch=0.365]\u001b[32m [repeated 21x across cluster]\u001b[0m\n",
      "Validation DataLoader 0:  83%|████████▎ | 5/6 [00:01<00:00,  3.12it/s]\u001b[A\n",
      "Epoch 2:  93%|█████████▎| 27/29 [00:09<00:00,  2.95it/s, v_num=3.41e+7, train_loss_step=0.449, val_loss=0.823, train_loss_epoch=0.365]\n",
      "Epoch 2:  97%|█████████▋| 28/29 [00:09<00:00,  2.97it/s, v_num=3.41e+7, train_loss_step=0.355, val_loss=0.823, train_loss_epoch=0.365]\n",
      "Epoch 2: 100%|██████████| 29/29 [00:09<00:00,  3.05it/s, v_num=3.41e+7, train_loss_step=0.308, val_loss=0.823, train_loss_epoch=0.365]\n",
      "Validation: |          | 0/? [00:00<?, ?it/s]\u001b[A\n",
      "Validation:   0%|          | 0/6 [00:00<?, ?it/s]\u001b[A\n",
      "Validation DataLoader 0:   0%|          | 0/6 [00:00<?, ?it/s]\u001b[A\n",
      "\u001b[36m(RayTrainWorker pid=9596)\u001b[0m \n",
      "Validation DataLoader 0:  17%|█▋        | 1/6 [00:00<00:00,  6.89it/s]\u001b[A\n",
      "\u001b[36m(RayTrainWorker pid=9596)\u001b[0m \n",
      "Validation DataLoader 0:  33%|███▎      | 2/6 [00:00<00:00,  6.06it/s]\u001b[A\n",
      "\u001b[36m(RayTrainWorker pid=9596)\u001b[0m \n",
      "Validation DataLoader 0:  50%|█████     | 3/6 [00:00<00:00,  5.83it/s]\u001b[A\n",
      "\u001b[36m(RayTrainWorker pid=9596)\u001b[0m \n",
      "Validation DataLoader 0:  67%|██████▋   | 4/6 [00:00<00:00,  5.70it/s]\u001b[A\n",
      "\u001b[36m(RayTrainWorker pid=9596)\u001b[0m \n",
      "Validation DataLoader 0:  83%|████████▎ | 5/6 [00:00<00:00,  5.59it/s]\u001b[A\n",
      "\u001b[36m(RayTrainWorker pid=9596)\u001b[0m \n",
      "Validation DataLoader 0: 100%|██████████| 6/6 [00:01<00:00,  5.88it/s]\u001b[A\n",
      "Epoch 2: 100%|██████████| 29/29 [00:10<00:00,  2.75it/s, v_num=3.41e+7, train_loss_step=0.308, val_loss=0.913, train_loss_epoch=0.365]\n",
      "Epoch 2: 100%|██████████| 29/29 [00:10<00:00,  2.69it/s, v_num=3.41e+7, train_loss_step=0.308, val_loss=0.913, train_loss_epoch=0.381]\n"
     ]
    },
    {
     "name": "stderr",
     "output_type": "stream",
     "text": [
      "\u001b[36m(RayTrainWorker pid=9596)\u001b[0m Checkpoint successfully created at: Checkpoint(filesystem=local, path=/ictstr01/home/aih/serra.korkmaz/projects/saturn/hopt/hpopt_parp1_chembl/ray_results/TorchTrainer_2025-03-11_23-24-45/cdb03fbb/checkpoint_000002)\n"
     ]
    },
    {
     "name": "stdout",
     "output_type": "stream",
     "text": [
      "Epoch 3:  62%|██████▏   | 18/29 [00:06<00:03,  2.81it/s, v_num=3.41e+7, train_loss_step=0.224, val_loss=2.070, train_loss_epoch=0.378]\u001b[32m [repeated 24x across cluster]\u001b[0m\n",
      "Epoch 3:   0%|          | 0/29 [00:00<?, ?it/s, v_num=3.41e+7, train_loss_step=0.308, val_loss=0.913, train_loss_epoch=0.381]         \n",
      "Epoch 3:  97%|█████████▋| 28/29 [00:09<00:00,  2.88it/s, v_num=3.41e+7, train_loss_step=0.271, val_loss=2.070, train_loss_epoch=0.378]\u001b[32m [repeated 2x across cluster]\u001b[0m\n",
      "\u001b[36m(RayTrainWorker pid=9308)\u001b[0m \n",
      "\u001b[36m(RayTrainWorker pid=9308)\u001b[0m \n",
      "Validation: |          | 0/? [00:00<?, ?it/s]\u001b[A\n",
      "Validation:   0%|          | 0/6 [00:00<?, ?it/s]\u001b[A\n",
      "Validation DataLoader 0:   0%|          | 0/6 [00:00<?, ?it/s]\u001b[A\n",
      "Validation DataLoader 0:  17%|█▋        | 1/6 [00:00<00:01,  3.77it/s]\u001b[A\n",
      "\u001b[36m(RayTrainWorker pid=9308)\u001b[0m \n",
      "Validation DataLoader 0:  33%|███▎      | 2/6 [00:00<00:01,  3.32it/s]\u001b[A\n",
      "\u001b[36m(RayTrainWorker pid=9308)\u001b[0m \n",
      "Validation DataLoader 0:  50%|█████     | 3/6 [00:00<00:00,  3.28it/s]\u001b[A\n",
      "\u001b[36m(RayTrainWorker pid=9308)\u001b[0m \n",
      "Validation DataLoader 0:  67%|██████▋   | 4/6 [00:01<00:00,  3.23it/s]\u001b[A\n",
      "\u001b[36m(RayTrainWorker pid=9308)\u001b[0m \n",
      "Validation DataLoader 0:  83%|████████▎ | 5/6 [00:01<00:00,  3.17it/s]\u001b[A\n",
      "Epoch 3:  55%|█████▌    | 16/29 [00:04<00:04,  3.21it/s, v_num=3.41e+7, train_loss_step=0.422, val_loss=0.913, train_loss_epoch=0.381]\u001b[32m [repeated 24x across cluster]\u001b[0m\n",
      "\u001b[36m(RayTrainWorker pid=9308)\u001b[0m \n",
      "Validation DataLoader 0: 100%|██████████| 6/6 [00:01<00:00,  3.33it/s]\u001b[A\n",
      "Epoch 3: 100%|██████████| 29/29 [00:11<00:00,  2.48it/s, v_num=3.41e+7, train_loss_step=0.0768, val_loss=1.170, train_loss_epoch=0.378]\n",
      "Epoch 3: 100%|██████████| 29/29 [00:11<00:00,  2.44it/s, v_num=3.41e+7, train_loss_step=0.0768, val_loss=1.170, train_loss_epoch=0.355]\n",
      "Epoch 4:   0%|          | 0/29 [00:00<?, ?it/s, v_num=3.41e+7, train_loss_step=0.0768, val_loss=1.170, train_loss_epoch=0.355]         \n"
     ]
    },
    {
     "name": "stderr",
     "output_type": "stream",
     "text": [
      "\u001b[36m(RayTrainWorker pid=9308)\u001b[0m Checkpoint successfully created at: Checkpoint(filesystem=local, path=/ictstr01/home/aih/serra.korkmaz/projects/saturn/hopt/hpopt_parp1_chembl/ray_results/TorchTrainer_2025-03-11_23-24-45/e7d9527d/checkpoint_000003)\n"
     ]
    },
    {
     "name": "stdout",
     "output_type": "stream",
     "text": [
      "Epoch 3: 100%|██████████| 29/29 [00:09<00:00,  2.95it/s, v_num=3.41e+7, train_loss_step=0.0768, val_loss=2.070, train_loss_epoch=0.378]\n",
      "Epoch 3:  93%|█████████▎| 27/29 [00:09<00:00,  3.00it/s, v_num=3.41e+7, train_loss_step=0.388, val_loss=0.913, train_loss_epoch=0.381]\n",
      "Epoch 3:  97%|█████████▋| 28/29 [00:09<00:00,  2.99it/s, v_num=3.41e+7, train_loss_step=0.262, val_loss=0.913, train_loss_epoch=0.381]\n",
      "Epoch 3: 100%|██████████| 29/29 [00:09<00:00,  3.06it/s, v_num=3.41e+7, train_loss_step=0.061, val_loss=0.913, train_loss_epoch=0.381]\n",
      "Validation: |          | 0/? [00:00<?, ?it/s]\u001b[A\n",
      "Validation:   0%|          | 0/6 [00:00<?, ?it/s]\u001b[A\n",
      "Validation DataLoader 0:   0%|          | 0/6 [00:00<?, ?it/s]\u001b[A\n",
      "\u001b[36m(RayTrainWorker pid=9596)\u001b[0m \n",
      "Validation DataLoader 0:  17%|█▋        | 1/6 [00:00<00:01,  4.57it/s]\u001b[A\n",
      "\u001b[36m(RayTrainWorker pid=9596)\u001b[0m \n",
      "Validation DataLoader 0:  33%|███▎      | 2/6 [00:00<00:00,  4.03it/s]\u001b[A\n",
      "Epoch 4:  38%|███▊      | 11/29 [00:04<00:07,  2.38it/s, v_num=3.41e+7, train_loss_step=0.282, val_loss=1.170, train_loss_epoch=0.355]\u001b[32m [repeated 21x across cluster]\u001b[0m\n",
      "\u001b[36m(RayTrainWorker pid=9596)\u001b[0m \n",
      "Validation DataLoader 0:  50%|█████     | 3/6 [00:00<00:00,  3.90it/s]\u001b[A\n",
      "\u001b[36m(RayTrainWorker pid=9596)\u001b[0m \n",
      "Validation DataLoader 0:  67%|██████▋   | 4/6 [00:01<00:00,  3.83it/s]\u001b[A\n",
      "\u001b[36m(RayTrainWorker pid=9596)\u001b[0m \n",
      "Validation DataLoader 0:  83%|████████▎ | 5/6 [00:01<00:00,  3.75it/s]\u001b[A\n",
      "\u001b[36m(RayTrainWorker pid=9596)\u001b[0m \n",
      "Validation DataLoader 0: 100%|██████████| 6/6 [00:01<00:00,  4.06it/s]\u001b[A\n",
      "Epoch 3: 100%|██████████| 29/29 [00:11<00:00,  2.63it/s, v_num=3.41e+7, train_loss_step=0.061, val_loss=0.784, train_loss_epoch=0.381]\n",
      "Epoch 3: 100%|██████████| 29/29 [00:11<00:00,  2.59it/s, v_num=3.41e+7, train_loss_step=0.061, val_loss=0.784, train_loss_epoch=0.359]\n",
      "Epoch 4:   0%|          | 0/29 [00:00<?, ?it/s, v_num=3.41e+7, train_loss_step=0.061, val_loss=0.784, train_loss_epoch=0.359]         \n"
     ]
    },
    {
     "name": "stderr",
     "output_type": "stream",
     "text": [
      "\u001b[36m(RayTrainWorker pid=9596)\u001b[0m Checkpoint successfully created at: Checkpoint(filesystem=local, path=/ictstr01/home/aih/serra.korkmaz/projects/saturn/hopt/hpopt_parp1_chembl/ray_results/TorchTrainer_2025-03-11_23-24-45/cdb03fbb/checkpoint_000003)\n"
     ]
    },
    {
     "name": "stdout",
     "output_type": "stream",
     "text": [
      "Epoch 4:  93%|█████████▎| 27/29 [00:09<00:00,  2.87it/s, v_num=3.41e+7, train_loss_step=0.406, val_loss=1.170, train_loss_epoch=0.355]\n",
      "Epoch 4:  97%|█████████▋| 28/29 [00:09<00:00,  2.89it/s, v_num=3.41e+7, train_loss_step=0.197, val_loss=1.170, train_loss_epoch=0.355]\n",
      "Epoch 4:  52%|█████▏    | 15/29 [00:03<00:03,  3.93it/s, v_num=3.41e+7, train_loss_step=0.274, val_loss=0.784, train_loss_epoch=0.359]\u001b[32m [repeated 30x across cluster]\u001b[0m\n",
      "Epoch 4: 100%|██████████| 29/29 [00:09<00:00,  2.96it/s, v_num=3.41e+7, train_loss_step=0.178, val_loss=1.170, train_loss_epoch=0.355]\n",
      "Validation: |          | 0/? [00:00<?, ?it/s]\u001b[A\n",
      "\u001b[36m(RayTrainWorker pid=9308)\u001b[0m \n",
      "Validation:   0%|          | 0/6 [00:00<?, ?it/s]\u001b[A\n",
      "Validation DataLoader 0:   0%|          | 0/6 [00:00<?, ?it/s]\u001b[A\n",
      "\u001b[36m(RayTrainWorker pid=9308)\u001b[0m \n",
      "Validation DataLoader 0:  17%|█▋        | 1/6 [00:00<00:00,  5.68it/s]\u001b[A\n",
      "\u001b[36m(RayTrainWorker pid=9308)\u001b[0m \n",
      "Validation DataLoader 0:  33%|███▎      | 2/6 [00:00<00:00,  5.06it/s]\u001b[A\n",
      "\u001b[36m(RayTrainWorker pid=9308)\u001b[0m \n",
      "Validation DataLoader 0:  50%|█████     | 3/6 [00:00<00:00,  4.91it/s]\u001b[A\n",
      "\u001b[36m(RayTrainWorker pid=9308)\u001b[0m \n",
      "Validation DataLoader 0:  67%|██████▋   | 4/6 [00:00<00:00,  4.84it/s]\u001b[A\n",
      "\u001b[36m(RayTrainWorker pid=9308)\u001b[0m \n",
      "Validation DataLoader 0:  83%|████████▎ | 5/6 [00:01<00:00,  4.76it/s]\u001b[A\n",
      "\u001b[36m(RayTrainWorker pid=9308)\u001b[0m \n",
      "Validation DataLoader 0: 100%|██████████| 6/6 [00:01<00:00,  5.03it/s]\u001b[A\n",
      "Epoch 4: 100%|██████████| 29/29 [00:11<00:00,  2.63it/s, v_num=3.41e+7, train_loss_step=0.178, val_loss=0.446, train_loss_epoch=0.355]\n",
      "Epoch 4: 100%|██████████| 29/29 [00:11<00:00,  2.59it/s, v_num=3.41e+7, train_loss_step=0.178, val_loss=0.446, train_loss_epoch=0.326]\n"
     ]
    },
    {
     "name": "stderr",
     "output_type": "stream",
     "text": [
      "\u001b[36m(RayTrainWorker pid=9308)\u001b[0m Checkpoint successfully created at: Checkpoint(filesystem=local, path=/ictstr01/home/aih/serra.korkmaz/projects/saturn/hopt/hpopt_parp1_chembl/ray_results/TorchTrainer_2025-03-11_23-24-45/e7d9527d/checkpoint_000004)\n"
     ]
    },
    {
     "name": "stdout",
     "output_type": "stream",
     "text": [
      "Epoch 5:   0%|          | 0/29 [00:00<?, ?it/s, v_num=3.41e+7, train_loss_step=0.178, val_loss=0.446, train_loss_epoch=0.326]         \n",
      "\u001b[36m(RayTrainWorker pid=9596)\u001b[0m \n",
      "\u001b[36m(RayTrainWorker pid=9596)\u001b[0m \n",
      "\u001b[36m(RayTrainWorker pid=9596)\u001b[0m \n",
      "\u001b[36m(RayTrainWorker pid=9596)\u001b[0m \n",
      "\u001b[36m(RayTrainWorker pid=9596)\u001b[0m \n",
      "\u001b[36m(RayTrainWorker pid=9596)\u001b[0m \n"
     ]
    },
    {
     "name": "stderr",
     "output_type": "stream",
     "text": [
      "2025-03-11 23:26:05,892\tWARNING experiment_state.py:206 -- Experiment state snapshotting has been triggered multiple times in the last 5.0 seconds and may become a bottleneck. A snapshot is forced if `CheckpointConfig(num_to_keep)` is set, and a trial has checkpointed >= `num_to_keep` times since the last snapshot.\n",
      "You may want to consider increasing the `CheckpointConfig(num_to_keep)` or decreasing the frequency of saving checkpoints.\n",
      "You can suppress this warning by setting the environment variable TUNE_WARN_EXCESSIVE_EXPERIMENT_CHECKPOINT_SYNC_THRESHOLD_S to a smaller value than the current threshold (5.0). Set it to 0 to completely suppress this warning.\n"
     ]
    },
    {
     "name": "stdout",
     "output_type": "stream",
     "text": [
      "Epoch 4: 100%|██████████| 29/29 [00:07<00:00,  4.02it/s, v_num=3.41e+7, train_loss_step=0.143, val_loss=0.784, train_loss_epoch=0.359]\u001b[32m [repeated 3x across cluster]\u001b[0m\n",
      "Epoch 5:  41%|████▏     | 12/29 [00:03<00:04,  3.47it/s, v_num=3.41e+7, train_loss_step=0.241, val_loss=0.446, train_loss_epoch=0.326]\u001b[32m [repeated 24x across cluster]\u001b[0m\n",
      "Validation: |          | 0/? [00:00<?, ?it/s]\u001b[A\n",
      "Validation:   0%|          | 0/6 [00:00<?, ?it/s]\u001b[A\n",
      "Validation DataLoader 0:   0%|          | 0/6 [00:00<?, ?it/s]\u001b[A\n",
      "Validation DataLoader 0:  83%|████████▎ | 5/6 [00:00<00:00,  5.65it/s]\u001b[A\u001b[32m [repeated 5x across cluster]\u001b[0m\n",
      "Validation DataLoader 0: 100%|██████████| 6/6 [00:01<00:00,  5.95it/s]\u001b[A\n",
      "Epoch 4: 100%|██████████| 29/29 [00:08<00:00,  3.51it/s, v_num=3.41e+7, train_loss_step=0.143, val_loss=0.325, train_loss_epoch=0.359]\n",
      "Epoch 4: 100%|██████████| 29/29 [00:08<00:00,  3.44it/s, v_num=3.41e+7, train_loss_step=0.143, val_loss=0.325, train_loss_epoch=0.332]\n",
      "Epoch 5:   0%|          | 0/29 [00:00<?, ?it/s, v_num=3.41e+7, train_loss_step=0.143, val_loss=0.325, train_loss_epoch=0.332]         \n",
      "Validation: |          | 0/? [00:00<?, ?it/s]\u001b[A\n",
      "Validation:   0%|          | 0/6 [00:00<?, ?it/s]\u001b[A\n",
      "Validation DataLoader 0:   0%|          | 0/6 [00:00<?, ?it/s]\u001b[A\n",
      "\u001b[36m(RayTrainWorker pid=9308)\u001b[0m \n",
      "Epoch 5: 100%|██████████| 29/29 [00:08<00:00,  3.58it/s, v_num=3.41e+7, train_loss_step=0.510, val_loss=0.446, train_loss_epoch=0.326]\u001b[32m [repeated 3x across cluster]\u001b[0m\n",
      "\u001b[36m(RayTrainWorker pid=9308)\u001b[0m \n",
      "Epoch 5:  76%|███████▌  | 22/29 [00:05<00:01,  4.00it/s, v_num=3.41e+7, train_loss_step=0.258, val_loss=0.325, train_loss_epoch=0.332]\u001b[32m [repeated 35x across cluster]\u001b[0m\n",
      "\u001b[36m(RayTrainWorker pid=9308)\u001b[0m \n",
      "Validation DataLoader 0:  50%|█████     | 3/6 [00:00<00:00,  4.74it/s]\u001b[A\u001b[32m [repeated 3x across cluster]\u001b[0m\n",
      "\u001b[36m(RayTrainWorker pid=9308)\u001b[0m \n",
      "\u001b[36m(RayTrainWorker pid=9308)\u001b[0m \n",
      "\u001b[36m(RayTrainWorker pid=9308)\u001b[0m \n",
      "Validation DataLoader 0: 100%|██████████| 6/6 [00:01<00:00,  3.99it/s]\u001b[A\n",
      "Epoch 5: 100%|██████████| 29/29 [00:09<00:00,  3.00it/s, v_num=3.41e+7, train_loss_step=0.510, val_loss=0.392, train_loss_epoch=0.326]\n"
     ]
    },
    {
     "name": "stderr",
     "output_type": "stream",
     "text": [
      "\u001b[36m(RayTrainWorker pid=9308)\u001b[0m Checkpoint successfully created at: Checkpoint(filesystem=local, path=/ictstr01/home/aih/serra.korkmaz/projects/saturn/hopt/hpopt_parp1_chembl/ray_results/TorchTrainer_2025-03-11_23-24-45/e7d9527d/checkpoint_000005)\u001b[32m [repeated 2x across cluster]\u001b[0m\n"
     ]
    },
    {
     "name": "stdout",
     "output_type": "stream",
     "text": [
      "Epoch 6:   0%|          | 0/29 [00:00<?, ?it/s, v_num=3.41e+7, train_loss_step=0.510, val_loss=0.392, train_loss_epoch=0.292]         \n",
      "\u001b[36m(RayTrainWorker pid=9596)\u001b[0m \n",
      "\u001b[36m(RayTrainWorker pid=9596)\u001b[0m \n",
      "\u001b[36m(RayTrainWorker pid=9596)\u001b[0m \n",
      "\u001b[36m(RayTrainWorker pid=9596)\u001b[0m \n",
      "\u001b[36m(RayTrainWorker pid=9596)\u001b[0m \n"
     ]
    },
    {
     "name": "stderr",
     "output_type": "stream",
     "text": [
      "2025-03-11 23:26:14,602\tWARNING experiment_state.py:206 -- Experiment state snapshotting has been triggered multiple times in the last 5.0 seconds and may become a bottleneck. A snapshot is forced if `CheckpointConfig(num_to_keep)` is set, and a trial has checkpointed >= `num_to_keep` times since the last snapshot.\n",
      "You may want to consider increasing the `CheckpointConfig(num_to_keep)` or decreasing the frequency of saving checkpoints.\n",
      "You can suppress this warning by setting the environment variable TUNE_WARN_EXCESSIVE_EXPERIMENT_CHECKPOINT_SYNC_THRESHOLD_S to a smaller value than the current threshold (5.0). Set it to 0 to completely suppress this warning.\n"
     ]
    },
    {
     "name": "stdout",
     "output_type": "stream",
     "text": [
      "\u001b[36m(RayTrainWorker pid=9596)\u001b[0m \n",
      "Epoch 5: 100%|██████████| 29/29 [00:08<00:00,  3.36it/s, v_num=3.41e+7, train_loss_step=0.493, val_loss=0.732, train_loss_epoch=0.287]\n",
      "Epoch 6:   0%|          | 0/29 [00:00<?, ?it/s, v_num=3.41e+7, train_loss_step=0.493, val_loss=0.732, train_loss_epoch=0.287]         \n",
      "Validation: |          | 0/? [00:00<?, ?it/s]\u001b[A\n",
      "Validation:   0%|          | 0/6 [00:00<?, ?it/s]\u001b[A\n",
      "Validation DataLoader 0:   0%|          | 0/6 [00:00<?, ?it/s]\u001b[A\n",
      "Epoch 5: 100%|██████████| 29/29 [00:07<00:00,  3.92it/s, v_num=3.41e+7, train_loss_step=0.493, val_loss=0.325, train_loss_epoch=0.332]\u001b[32m [repeated 3x across cluster]\u001b[0m\n",
      "Epoch 6:  45%|████▍     | 13/29 [00:03<00:04,  3.47it/s, v_num=3.41e+7, train_loss_step=0.288, val_loss=0.392, train_loss_epoch=0.292]\u001b[32m [repeated 24x across cluster]\u001b[0m\n",
      "Validation DataLoader 0:  83%|████████▎ | 5/6 [00:00<00:00,  5.62it/s]\u001b[A\u001b[32m [repeated 7x across cluster]\u001b[0m\n",
      "Validation DataLoader 0: 100%|██████████| 6/6 [00:01<00:00,  5.90it/s]\u001b[A\n",
      "Epoch 5: 100%|██████████| 29/29 [00:08<00:00,  3.43it/s, v_num=3.41e+7, train_loss_step=0.493, val_loss=0.732, train_loss_epoch=0.332]\n",
      "Epoch 6:  83%|████████▎ | 24/29 [00:07<00:01,  3.37it/s, v_num=3.41e+7, train_loss_step=0.328, val_loss=0.732, train_loss_epoch=0.287]\u001b[32m [repeated 30x across cluster]\u001b[0m\n",
      "Epoch 6:  93%|█████████▎| 27/29 [00:08<00:00,  3.05it/s, v_num=3.41e+7, train_loss_step=0.293, val_loss=0.392, train_loss_epoch=0.292]\n",
      "Epoch 6: 100%|██████████| 29/29 [00:09<00:00,  3.09it/s, v_num=3.41e+7, train_loss_step=0.279, val_loss=0.392, train_loss_epoch=0.292]\n",
      "Validation: |          | 0/? [00:00<?, ?it/s]\u001b[A\n",
      "\u001b[36m(RayTrainWorker pid=9308)\u001b[0m \n",
      "Validation:   0%|          | 0/6 [00:00<?, ?it/s]\u001b[A\n",
      "Validation DataLoader 0:   0%|          | 0/6 [00:00<?, ?it/s]\u001b[A\n",
      "\u001b[36m(RayTrainWorker pid=9308)\u001b[0m \n",
      "Validation DataLoader 0:  17%|█▋        | 1/6 [00:00<00:01,  3.66it/s]\u001b[A\n",
      "\u001b[36m(RayTrainWorker pid=9308)\u001b[0m \n",
      "Validation DataLoader 0:  33%|███▎      | 2/6 [00:00<00:01,  3.31it/s]\u001b[A\n",
      "\u001b[36m(RayTrainWorker pid=9308)\u001b[0m \n",
      "Validation DataLoader 0:  50%|█████     | 3/6 [00:00<00:00,  3.21it/s]\u001b[A\n",
      "\u001b[36m(RayTrainWorker pid=9596)\u001b[0m \n",
      "\u001b[36m(RayTrainWorker pid=9308)\u001b[0m \n",
      "\u001b[36m(RayTrainWorker pid=9596)\u001b[0m \n",
      "\u001b[36m(RayTrainWorker pid=9308)\u001b[0m \n",
      "\u001b[36m(RayTrainWorker pid=9596)\u001b[0m \n",
      "\u001b[36m(RayTrainWorker pid=9308)\u001b[0m \n",
      "Validation DataLoader 0: 100%|██████████| 6/6 [00:01<00:00,  3.34it/s]\u001b[A\n",
      "Epoch 6: 100%|██████████| 29/29 [00:11<00:00,  2.58it/s, v_num=3.41e+7, train_loss_step=0.279, val_loss=0.293, train_loss_epoch=0.292]\n",
      "Epoch 6: 100%|██████████| 29/29 [00:11<00:00,  2.54it/s, v_num=3.41e+7, train_loss_step=0.279, val_loss=0.293, train_loss_epoch=0.311]\n",
      "\u001b[36m(RayTrainWorker pid=9596)\u001b[0m \n",
      "Epoch 7:   0%|          | 0/29 [00:00<?, ?it/s, v_num=3.41e+7, train_loss_step=0.279, val_loss=0.293, train_loss_epoch=0.311]         \n"
     ]
    },
    {
     "name": "stderr",
     "output_type": "stream",
     "text": [
      "\u001b[36m(RayTrainWorker pid=9308)\u001b[0m Checkpoint successfully created at: Checkpoint(filesystem=local, path=/ictstr01/home/aih/serra.korkmaz/projects/saturn/hopt/hpopt_parp1_chembl/ray_results/TorchTrainer_2025-03-11_23-24-45/e7d9527d/checkpoint_000006)\u001b[32m [repeated 2x across cluster]\u001b[0m\n"
     ]
    },
    {
     "name": "stdout",
     "output_type": "stream",
     "text": [
      "\u001b[36m(RayTrainWorker pid=9596)\u001b[0m \n",
      "\u001b[36m(RayTrainWorker pid=9596)\u001b[0m \n"
     ]
    },
    {
     "name": "stderr",
     "output_type": "stream",
     "text": [
      "2025-03-11 23:26:24,958\tWARNING experiment_state.py:206 -- Experiment state snapshotting has been triggered multiple times in the last 5.0 seconds and may become a bottleneck. A snapshot is forced if `CheckpointConfig(num_to_keep)` is set, and a trial has checkpointed >= `num_to_keep` times since the last snapshot.\n",
      "You may want to consider increasing the `CheckpointConfig(num_to_keep)` or decreasing the frequency of saving checkpoints.\n",
      "You can suppress this warning by setting the environment variable TUNE_WARN_EXCESSIVE_EXPERIMENT_CHECKPOINT_SYNC_THRESHOLD_S to a smaller value than the current threshold (5.0). Set it to 0 to completely suppress this warning.\n"
     ]
    },
    {
     "name": "stdout",
     "output_type": "stream",
     "text": [
      "Epoch 7:  28%|██▊       | 8/29 [00:02<00:06,  3.45it/s, v_num=3.41e+7, train_loss_step=0.318, val_loss=0.293, train_loss_epoch=0.311]\u001b[32m [repeated 17x across cluster]\u001b[0m\n",
      "Epoch 6: 100%|██████████| 29/29 [00:08<00:00,  3.35it/s, v_num=3.41e+7, train_loss_step=0.311, val_loss=0.732, train_loss_epoch=0.287]\u001b[32m [repeated 3x across cluster]\u001b[0m\n",
      "Validation: |          | 0/? [00:00<?, ?it/s]\u001b[A\n",
      "Validation:   0%|          | 0/6 [00:00<?, ?it/s]\u001b[A\n",
      "Validation DataLoader 0:   0%|          | 0/6 [00:00<?, ?it/s]\u001b[A\n",
      "Validation DataLoader 0:  83%|████████▎ | 5/6 [00:01<00:00,  4.24it/s]\u001b[A\u001b[32m [repeated 7x across cluster]\u001b[0m\n",
      "Validation DataLoader 0: 100%|██████████| 6/6 [00:01<00:00,  4.61it/s]\u001b[A\n",
      "Epoch 6: 100%|██████████| 29/29 [00:10<00:00,  2.89it/s, v_num=3.41e+7, train_loss_step=0.311, val_loss=0.285, train_loss_epoch=0.287]\n",
      "Epoch 6: 100%|██████████| 29/29 [00:10<00:00,  2.84it/s, v_num=3.41e+7, train_loss_step=0.311, val_loss=0.285, train_loss_epoch=0.302]\n",
      "Epoch 7:   0%|          | 0/29 [00:00<?, ?it/s, v_num=3.41e+7, train_loss_step=0.311, val_loss=0.285, train_loss_epoch=0.302]         \n",
      "Epoch 7:  90%|████████▉ | 26/29 [00:07<00:00,  3.51it/s, v_num=3.41e+7, train_loss_step=0.230, val_loss=0.293, train_loss_epoch=0.311]\u001b[32m [repeated 37x across cluster]\u001b[0m\n",
      "Epoch 7:  97%|█████████▋| 28/29 [00:07<00:00,  3.95it/s, v_num=3.41e+7, train_loss_step=0.357, val_loss=0.285, train_loss_epoch=0.302]\u001b[32m [repeated 2x across cluster]\u001b[0m\n",
      "Validation: |          | 0/? [00:00<?, ?it/s]\u001b[A\n",
      "Validation:   0%|          | 0/6 [00:00<?, ?it/s]\u001b[A\n",
      "Validation DataLoader 0:   0%|          | 0/6 [00:00<?, ?it/s]\u001b[A\n",
      "\u001b[36m(RayTrainWorker pid=9596)\u001b[0m \n",
      "Epoch 7: 100%|██████████| 29/29 [00:08<00:00,  3.61it/s, v_num=3.41e+7, train_loss_step=1.190, val_loss=0.293, train_loss_epoch=0.311]\n",
      "\u001b[36m(RayTrainWorker pid=9596)\u001b[0m \n",
      "\u001b[36m(RayTrainWorker pid=9308)\u001b[0m \n",
      "\u001b[36m(RayTrainWorker pid=9308)\u001b[0m \n",
      "Validation DataLoader 0:  17%|█▋        | 1/6 [00:00<00:00,  5.85it/s]\u001b[A\u001b[32m [repeated 3x across cluster]\u001b[0m\n",
      "\u001b[36m(RayTrainWorker pid=9596)\u001b[0m \n",
      "\u001b[36m(RayTrainWorker pid=9596)\u001b[0m \n",
      "\u001b[36m(RayTrainWorker pid=9308)\u001b[0m \n",
      "\u001b[36m(RayTrainWorker pid=9596)\u001b[0m \n",
      "\u001b[36m(RayTrainWorker pid=9308)\u001b[0m \n",
      "\u001b[36m(RayTrainWorker pid=9596)\u001b[0m \n",
      "Validation DataLoader 0: 100%|██████████| 6/6 [00:01<00:00,  5.98it/s]\u001b[A\n",
      "Epoch 7: 100%|██████████| 29/29 [00:08<00:00,  3.53it/s, v_num=3.41e+7, train_loss_step=1.180, val_loss=0.266, train_loss_epoch=0.302]\n",
      "Epoch 7: 100%|██████████| 29/29 [00:08<00:00,  3.45it/s, v_num=3.41e+7, train_loss_step=1.180, val_loss=0.266, train_loss_epoch=0.273]\n",
      "\u001b[36m(RayTrainWorker pid=9308)\u001b[0m \n",
      "Epoch 8:   0%|          | 0/29 [00:00<?, ?it/s, v_num=3.41e+7, train_loss_step=1.180, val_loss=0.266, train_loss_epoch=0.273]         \n"
     ]
    },
    {
     "name": "stderr",
     "output_type": "stream",
     "text": [
      "\u001b[36m(RayTrainWorker pid=9596)\u001b[0m Checkpoint successfully created at: Checkpoint(filesystem=local, path=/ictstr01/home/aih/serra.korkmaz/projects/saturn/hopt/hpopt_parp1_chembl/ray_results/TorchTrainer_2025-03-11_23-24-45/cdb03fbb/checkpoint_000007)\u001b[32m [repeated 2x across cluster]\u001b[0m\n"
     ]
    },
    {
     "name": "stdout",
     "output_type": "stream",
     "text": [
      "\u001b[36m(RayTrainWorker pid=9308)\u001b[0m \n"
     ]
    },
    {
     "name": "stderr",
     "output_type": "stream",
     "text": [
      "2025-03-11 23:26:34,292\tWARNING experiment_state.py:206 -- Experiment state snapshotting has been triggered multiple times in the last 5.0 seconds and may become a bottleneck. A snapshot is forced if `CheckpointConfig(num_to_keep)` is set, and a trial has checkpointed >= `num_to_keep` times since the last snapshot.\n",
      "You may want to consider increasing the `CheckpointConfig(num_to_keep)` or decreasing the frequency of saving checkpoints.\n",
      "You can suppress this warning by setting the environment variable TUNE_WARN_EXCESSIVE_EXPERIMENT_CHECKPOINT_SYNC_THRESHOLD_S to a smaller value than the current threshold (5.0). Set it to 0 to completely suppress this warning.\n"
     ]
    },
    {
     "name": "stdout",
     "output_type": "stream",
     "text": [
      "\u001b[36m(RayTrainWorker pid=9308)\u001b[0m \n",
      "Epoch 8:  38%|███▊      | 11/29 [00:03<00:05,  3.24it/s, v_num=3.41e+7, train_loss_step=0.317, val_loss=0.266, train_loss_epoch=0.273]\u001b[32m [repeated 18x across cluster]\u001b[0m\n",
      "Epoch 7: 100%|██████████| 29/29 [00:07<00:00,  4.05it/s, v_num=3.41e+7, train_loss_step=1.180, val_loss=0.285, train_loss_epoch=0.302]\u001b[32m [repeated 2x across cluster]\u001b[0m\n",
      "Validation: |          | 0/? [00:00<?, ?it/s]\u001b[A\n",
      "Validation:   0%|          | 0/6 [00:00<?, ?it/s]\u001b[A\n",
      "Validation DataLoader 0:   0%|          | 0/6 [00:00<?, ?it/s]\u001b[A\n",
      "Validation DataLoader 0:  83%|████████▎ | 5/6 [00:01<00:00,  4.13it/s]\u001b[A\u001b[32m [repeated 7x across cluster]\u001b[0m\n",
      "Validation DataLoader 0: 100%|██████████| 6/6 [00:01<00:00,  4.21it/s]\u001b[A\n",
      "Epoch 7: 100%|██████████| 29/29 [00:09<00:00,  3.05it/s, v_num=3.41e+7, train_loss_step=1.190, val_loss=0.412, train_loss_epoch=0.311]\n",
      "Epoch 7: 100%|██████████| 29/29 [00:09<00:00,  2.97it/s, v_num=3.41e+7, train_loss_step=1.190, val_loss=0.412, train_loss_epoch=0.273]\n",
      "Epoch 8:   0%|          | 0/29 [00:00<?, ?it/s, v_num=3.41e+7, train_loss_step=1.190, val_loss=0.412, train_loss_epoch=0.273]         \n",
      "Validation: |          | 0/? [00:00<?, ?it/s]\u001b[A\n",
      "Validation:   0%|          | 0/6 [00:00<?, ?it/s]\u001b[A\n",
      "Validation DataLoader 0:   0%|          | 0/6 [00:00<?, ?it/s]\u001b[A\n",
      "\u001b[36m(RayTrainWorker pid=9596)\u001b[0m \n",
      "\u001b[36m(RayTrainWorker pid=9596)\u001b[0m \n",
      "\u001b[36m(RayTrainWorker pid=9596)\u001b[0m \n",
      "Epoch 8:  86%|████████▌ | 25/29 [00:07<00:01,  3.34it/s, v_num=3.41e+7, train_loss_step=0.203, val_loss=0.412, train_loss_epoch=0.273]\u001b[32m [repeated 33x across cluster]\u001b[0m\n",
      "\u001b[36m(RayTrainWorker pid=9596)\u001b[0m \n",
      "Epoch 8: 100%|██████████| 29/29 [00:07<00:00,  3.69it/s, v_num=3.41e+7, train_loss_step=0.117, val_loss=0.266, train_loss_epoch=0.273]\u001b[32m [repeated 3x across cluster]\u001b[0m\n",
      "\u001b[36m(RayTrainWorker pid=9596)\u001b[0m \n",
      "\u001b[36m(RayTrainWorker pid=9596)\u001b[0m \n",
      "Validation DataLoader 0: 100%|██████████| 6/6 [00:01<00:00,  5.96it/s]\u001b[A\n",
      "Epoch 8: 100%|██████████| 29/29 [00:08<00:00,  3.26it/s, v_num=3.41e+7, train_loss_step=0.117, val_loss=0.307, train_loss_epoch=0.273]\n",
      "Epoch 8: 100%|██████████| 29/29 [00:09<00:00,  3.20it/s, v_num=3.41e+7, train_loss_step=0.117, val_loss=0.307, train_loss_epoch=0.278]\n",
      "Epoch 9:   0%|          | 0/29 [00:00<?, ?it/s, v_num=3.41e+7, train_loss_step=0.117, val_loss=0.307, train_loss_epoch=0.278]         \n"
     ]
    },
    {
     "name": "stderr",
     "output_type": "stream",
     "text": [
      "\u001b[36m(RayTrainWorker pid=9596)\u001b[0m Checkpoint successfully created at: Checkpoint(filesystem=local, path=/ictstr01/home/aih/serra.korkmaz/projects/saturn/hopt/hpopt_parp1_chembl/ray_results/TorchTrainer_2025-03-11_23-24-45/cdb03fbb/checkpoint_000008)\u001b[32m [repeated 2x across cluster]\u001b[0m\n"
     ]
    },
    {
     "name": "stdout",
     "output_type": "stream",
     "text": [
      "Validation DataLoader 0:  83%|████████▎ | 5/6 [00:00<00:00,  5.68it/s]\u001b[A\u001b[32m [repeated 5x across cluster]\u001b[0m\n",
      "\u001b[36m(RayTrainWorker pid=9308)\u001b[0m \n",
      "\u001b[36m(RayTrainWorker pid=9308)\u001b[0m \n",
      "\u001b[36m(RayTrainWorker pid=9308)\u001b[0m \n",
      "\u001b[36m(RayTrainWorker pid=9308)\u001b[0m \n",
      "\u001b[36m(RayTrainWorker pid=9308)\u001b[0m \n",
      "\u001b[36m(RayTrainWorker pid=9308)\u001b[0m \n"
     ]
    },
    {
     "name": "stderr",
     "output_type": "stream",
     "text": [
      "2025-03-11 23:26:44,266\tWARNING experiment_state.py:206 -- Experiment state snapshotting has been triggered multiple times in the last 5.0 seconds and may become a bottleneck. A snapshot is forced if `CheckpointConfig(num_to_keep)` is set, and a trial has checkpointed >= `num_to_keep` times since the last snapshot.\n",
      "You may want to consider increasing the `CheckpointConfig(num_to_keep)` or decreasing the frequency of saving checkpoints.\n",
      "You can suppress this warning by setting the environment variable TUNE_WARN_EXCESSIVE_EXPERIMENT_CHECKPOINT_SYNC_THRESHOLD_S to a smaller value than the current threshold (5.0). Set it to 0 to completely suppress this warning.\n"
     ]
    },
    {
     "name": "stdout",
     "output_type": "stream",
     "text": [
      "Validation: |          | 0/? [00:00<?, ?it/s]\u001b[A\n",
      "Validation:   0%|          | 0/6 [00:00<?, ?it/s]\u001b[A\n",
      "Validation DataLoader 0:   0%|          | 0/6 [00:00<?, ?it/s]\u001b[A\n",
      "Epoch 9:  59%|█████▊    | 17/29 [00:04<00:03,  3.93it/s, v_num=3.41e+7, train_loss_step=0.328, val_loss=0.307, train_loss_epoch=0.278]\u001b[32m [repeated 27x across cluster]\u001b[0m\n",
      "Epoch 8: 100%|██████████| 29/29 [00:08<00:00,  3.44it/s, v_num=3.41e+7, train_loss_step=0.140, val_loss=0.412, train_loss_epoch=0.273]\u001b[32m [repeated 3x across cluster]\u001b[0m\n",
      "Validation DataLoader 0: 100%|██████████| 6/6 [00:01<00:00,  5.04it/s]\u001b[A\n",
      "Epoch 8: 100%|██████████| 29/29 [00:09<00:00,  3.00it/s, v_num=3.41e+7, train_loss_step=0.140, val_loss=0.322, train_loss_epoch=0.273]\n",
      "Epoch 8: 100%|██████████| 29/29 [00:09<00:00,  2.95it/s, v_num=3.41e+7, train_loss_step=0.140, val_loss=0.322, train_loss_epoch=0.278]\n",
      "Epoch 9:   0%|          | 0/29 [00:00<?, ?it/s, v_num=3.41e+7, train_loss_step=0.140, val_loss=0.322, train_loss_epoch=0.278]         \n",
      "Validation DataLoader 0:  83%|████████▎ | 5/6 [00:01<00:00,  4.78it/s]\u001b[A\u001b[32m [repeated 5x across cluster]\u001b[0m\n",
      "Validation: |          | 0/? [00:00<?, ?it/s]\u001b[A\n",
      "\u001b[36m(RayTrainWorker pid=9596)\u001b[0m \n",
      "Validation:   0%|          | 0/6 [00:00<?, ?it/s]\u001b[A\n",
      "Validation DataLoader 0:   0%|          | 0/6 [00:00<?, ?it/s]\u001b[A\n",
      "\u001b[36m(RayTrainWorker pid=9596)\u001b[0m \n",
      "\u001b[36m(RayTrainWorker pid=9596)\u001b[0m \n",
      "\u001b[36m(RayTrainWorker pid=9596)\u001b[0m \n",
      "\u001b[36m(RayTrainWorker pid=9596)\u001b[0m \n",
      "\u001b[36m(RayTrainWorker pid=9596)\u001b[0m \n",
      "\u001b[36m(RayTrainWorker pid=9596)\u001b[0m \n",
      "Validation DataLoader 0: 100%|██████████| 6/6 [00:01<00:00,  5.91it/s]\u001b[A\n",
      "Epoch 9: 100%|██████████| 29/29 [00:08<00:00,  3.50it/s, v_num=3.41e+7, train_loss_step=0.183, val_loss=0.951, train_loss_epoch=0.278]\n"
     ]
    },
    {
     "name": "stderr",
     "output_type": "stream",
     "text": [
      "\u001b[36m(RayTrainWorker pid=9596)\u001b[0m Checkpoint successfully created at: Checkpoint(filesystem=local, path=/ictstr01/home/aih/serra.korkmaz/projects/saturn/hopt/hpopt_parp1_chembl/ray_results/TorchTrainer_2025-03-11_23-24-45/cdb03fbb/checkpoint_000009)\u001b[32m [repeated 2x across cluster]\u001b[0m\n"
     ]
    },
    {
     "name": "stdout",
     "output_type": "stream",
     "text": [
      "Epoch 9: 100%|██████████| 29/29 [00:08<00:00,  3.43it/s, v_num=3.41e+7, train_loss_step=0.183, val_loss=0.951, train_loss_epoch=0.250]\n",
      "Epoch 10:   0%|          | 0/29 [00:00<?, ?it/s, v_num=3.41e+7, train_loss_step=0.183, val_loss=0.951, train_loss_epoch=0.250]        \n",
      "Epoch 10:  10%|█         | 3/29 [00:00<00:06,  3.96it/s, v_num=3.41e+7, train_loss_step=0.208, val_loss=0.951, train_loss_epoch=0.250]\u001b[32m [repeated 29x across cluster]\u001b[0m\n",
      "Epoch 9:  97%|█████████▋| 28/29 [00:07<00:00,  3.51it/s, v_num=3.41e+7, train_loss_step=0.348, val_loss=0.322, train_loss_epoch=0.278]\u001b[32m [repeated 5x across cluster]\u001b[0m\n",
      "\u001b[36m(RayTrainWorker pid=9308)\u001b[0m \n",
      "\u001b[36m(RayTrainWorker pid=9308)\u001b[0m \n",
      "\u001b[36m(RayTrainWorker pid=9308)\u001b[0m \n",
      "Validation DataLoader 0:  50%|█████     | 3/6 [00:00<00:00,  4.95it/s]\u001b[A\u001b[32m [repeated 8x across cluster]\u001b[0m\n",
      "\u001b[36m(RayTrainWorker pid=9308)\u001b[0m \n",
      "\u001b[36m(RayTrainWorker pid=9308)\u001b[0m \n",
      "\u001b[36m(RayTrainWorker pid=9308)\u001b[0m \n"
     ]
    },
    {
     "name": "stderr",
     "output_type": "stream",
     "text": [
      "2025-03-11 23:26:53,799\tWARNING experiment_state.py:206 -- Experiment state snapshotting has been triggered multiple times in the last 5.0 seconds and may become a bottleneck. A snapshot is forced if `CheckpointConfig(num_to_keep)` is set, and a trial has checkpointed >= `num_to_keep` times since the last snapshot.\n",
      "You may want to consider increasing the `CheckpointConfig(num_to_keep)` or decreasing the frequency of saving checkpoints.\n",
      "You can suppress this warning by setting the environment variable TUNE_WARN_EXCESSIVE_EXPERIMENT_CHECKPOINT_SYNC_THRESHOLD_S to a smaller value than the current threshold (5.0). Set it to 0 to completely suppress this warning.\n"
     ]
    },
    {
     "name": "stdout",
     "output_type": "stream",
     "text": [
      "Validation: |          | 0/? [00:00<?, ?it/s]\u001b[A\n",
      "Validation:   0%|          | 0/6 [00:00<?, ?it/s]\u001b[A\n",
      "Validation DataLoader 0:   0%|          | 0/6 [00:00<?, ?it/s]\u001b[A\n",
      "Validation DataLoader 0: 100%|██████████| 6/6 [00:01<00:00,  5.05it/s]\u001b[A\n",
      "Epoch 9: 100%|██████████| 29/29 [00:09<00:00,  3.12it/s, v_num=3.41e+7, train_loss_step=0.193, val_loss=1.170, train_loss_epoch=0.278]\n",
      "Epoch 9: 100%|██████████| 29/29 [00:09<00:00,  3.07it/s, v_num=3.41e+7, train_loss_step=0.193, val_loss=1.170, train_loss_epoch=0.253]\n",
      "Epoch 10:   0%|          | 0/29 [00:00<?, ?it/s, v_num=3.41e+7, train_loss_step=0.193, val_loss=1.170, train_loss_epoch=0.253]        \n",
      "Epoch 10:  79%|███████▉  | 23/29 [00:05<00:01,  3.94it/s, v_num=3.41e+7, train_loss_step=0.246, val_loss=0.951, train_loss_epoch=0.250]\u001b[32m [repeated 31x across cluster]\u001b[0m\n",
      "Epoch 9: 100%|██████████| 29/29 [00:08<00:00,  3.60it/s, v_num=3.41e+7, train_loss_step=0.193, val_loss=0.322, train_loss_epoch=0.278]\n",
      "Validation DataLoader 0:  83%|████████▎ | 5/6 [00:01<00:00,  4.79it/s]\u001b[A\u001b[32m [repeated 2x across cluster]\u001b[0m\n",
      "Epoch 10:  93%|█████████▎| 27/29 [00:06<00:00,  3.94it/s, v_num=3.41e+7, train_loss_step=0.259, val_loss=0.951, train_loss_epoch=0.250]\n",
      "Epoch 10:  97%|█████████▋| 28/29 [00:07<00:00,  3.94it/s, v_num=3.41e+7, train_loss_step=0.297, val_loss=0.951, train_loss_epoch=0.250]\n",
      "Epoch 10: 100%|██████████| 29/29 [00:07<00:00,  4.04it/s, v_num=3.41e+7, train_loss_step=0.259, val_loss=0.951, train_loss_epoch=0.250]\n",
      "Validation: |          | 0/? [00:00<?, ?it/s]\u001b[A\n",
      "\u001b[36m(RayTrainWorker pid=9596)\u001b[0m \n",
      "Validation:   0%|          | 0/6 [00:00<?, ?it/s]\u001b[A\n",
      "Validation DataLoader 0:   0%|          | 0/6 [00:00<?, ?it/s]\u001b[A\n",
      "\u001b[36m(RayTrainWorker pid=9596)\u001b[0m \n",
      "\u001b[36m(RayTrainWorker pid=9596)\u001b[0m \n",
      "\u001b[36m(RayTrainWorker pid=9596)\u001b[0m \n",
      "\u001b[36m(RayTrainWorker pid=9596)\u001b[0m \n",
      "\u001b[36m(RayTrainWorker pid=9596)\u001b[0m \n",
      "\u001b[36m(RayTrainWorker pid=9596)\u001b[0m \n",
      "Validation DataLoader 0: 100%|██████████| 6/6 [00:00<00:00,  6.00it/s]\u001b[A\n",
      "Epoch 10: 100%|██████████| 29/29 [00:08<00:00,  3.53it/s, v_num=3.41e+7, train_loss_step=0.259, val_loss=0.271, train_loss_epoch=0.250]\n",
      "Epoch 10: 100%|██████████| 29/29 [00:08<00:00,  3.45it/s, v_num=3.41e+7, train_loss_step=0.259, val_loss=0.271, train_loss_epoch=0.239]\n",
      "Epoch 11:   0%|          | 0/29 [00:00<?, ?it/s, v_num=3.41e+7, train_loss_step=0.259, val_loss=0.271, train_loss_epoch=0.239]         \n"
     ]
    },
    {
     "name": "stderr",
     "output_type": "stream",
     "text": [
      "\u001b[36m(RayTrainWorker pid=9596)\u001b[0m Checkpoint successfully created at: Checkpoint(filesystem=local, path=/ictstr01/home/aih/serra.korkmaz/projects/saturn/hopt/hpopt_parp1_chembl/ray_results/TorchTrainer_2025-03-11_23-24-45/cdb03fbb/checkpoint_000010)\u001b[32m [repeated 2x across cluster]\u001b[0m\n"
     ]
    },
    {
     "name": "stdout",
     "output_type": "stream",
     "text": [
      "Epoch 11:  21%|██        | 6/29 [00:02<00:08,  2.79it/s, v_num=3.41e+7, train_loss_step=0.274, val_loss=0.271, train_loss_epoch=0.239]\u001b[32m [repeated 24x across cluster]\u001b[0m\n",
      "\u001b[36m(RayTrainWorker pid=9308)\u001b[0m \n",
      "Validation DataLoader 0:  17%|█▋        | 1/6 [00:00<00:01,  3.76it/s]\u001b[A\u001b[32m [repeated 6x across cluster]\u001b[0m\n",
      "Epoch 10: 100%|██████████| 29/29 [00:08<00:00,  3.23it/s, v_num=3.41e+7, train_loss_step=0.235, val_loss=1.170, train_loss_epoch=0.253]\u001b[32m [repeated 3x across cluster]\u001b[0m\n",
      "\u001b[36m(RayTrainWorker pid=9308)\u001b[0m \n",
      "Validation: |          | 0/? [00:00<?, ?it/s]\u001b[A\n",
      "\u001b[36m(RayTrainWorker pid=9308)\u001b[0m \n",
      "Validation:   0%|          | 0/6 [00:00<?, ?it/s]\u001b[A\n",
      "Validation DataLoader 0:   0%|          | 0/6 [00:00<?, ?it/s]\u001b[A\n",
      "\u001b[36m(RayTrainWorker pid=9308)\u001b[0m \n",
      "\u001b[36m(RayTrainWorker pid=9308)\u001b[0m \n",
      "\u001b[36m(RayTrainWorker pid=9308)\u001b[0m \n"
     ]
    },
    {
     "name": "stderr",
     "output_type": "stream",
     "text": [
      "2025-03-11 23:27:04,715\tWARNING experiment_state.py:206 -- Experiment state snapshotting has been triggered multiple times in the last 5.0 seconds and may become a bottleneck. A snapshot is forced if `CheckpointConfig(num_to_keep)` is set, and a trial has checkpointed >= `num_to_keep` times since the last snapshot.\n",
      "You may want to consider increasing the `CheckpointConfig(num_to_keep)` or decreasing the frequency of saving checkpoints.\n",
      "You can suppress this warning by setting the environment variable TUNE_WARN_EXCESSIVE_EXPERIMENT_CHECKPOINT_SYNC_THRESHOLD_S to a smaller value than the current threshold (5.0). Set it to 0 to completely suppress this warning.\n"
     ]
    },
    {
     "name": "stdout",
     "output_type": "stream",
     "text": [
      "Validation DataLoader 0: 100%|██████████| 6/6 [00:01<00:00,  3.85it/s]\u001b[A\n",
      "Epoch 10: 100%|██████████| 29/29 [00:10<00:00,  2.73it/s, v_num=3.41e+7, train_loss_step=0.235, val_loss=0.262, train_loss_epoch=0.253]\n",
      "Epoch 10: 100%|██████████| 29/29 [00:10<00:00,  2.69it/s, v_num=3.41e+7, train_loss_step=0.235, val_loss=0.262, train_loss_epoch=0.248]\n",
      "Epoch 11:   0%|          | 0/29 [00:00<?, ?it/s, v_num=3.41e+7, train_loss_step=0.235, val_loss=0.262, train_loss_epoch=0.248]         \n",
      "Epoch 11:  31%|███       | 9/29 [00:02<00:05,  3.39it/s, v_num=3.41e+7, train_loss_step=0.185, val_loss=0.262, train_loss_epoch=0.248]\u001b[32m [repeated 27x across cluster]\u001b[0m\n",
      "Validation DataLoader 0:  83%|████████▎ | 5/6 [00:01<00:00,  3.54it/s]\u001b[A\u001b[32m [repeated 4x across cluster]\u001b[0m\n",
      "Epoch 11:  93%|█████████▎| 27/29 [00:08<00:00,  3.29it/s, v_num=3.41e+7, train_loss_step=0.171, val_loss=0.271, train_loss_epoch=0.239]\n",
      "Epoch 11:  97%|█████████▋| 28/29 [00:08<00:00,  3.27it/s, v_num=3.41e+7, train_loss_step=0.359, val_loss=0.271, train_loss_epoch=0.239]\n",
      "Epoch 11: 100%|██████████| 29/29 [00:08<00:00,  3.35it/s, v_num=3.41e+7, train_loss_step=0.281, val_loss=0.271, train_loss_epoch=0.239]\n",
      "Validation: |          | 0/? [00:00<?, ?it/s]\u001b[A\n",
      "Validation:   0%|          | 0/6 [00:00<?, ?it/s]\u001b[A\n",
      "Validation DataLoader 0:   0%|          | 0/6 [00:00<?, ?it/s]\u001b[A\n",
      "\u001b[36m(RayTrainWorker pid=9596)\u001b[0m \n",
      "\u001b[36m(RayTrainWorker pid=9596)\u001b[0m \n",
      "\u001b[36m(RayTrainWorker pid=9596)\u001b[0m \n",
      "\u001b[36m(RayTrainWorker pid=9596)\u001b[0m \n",
      "\u001b[36m(RayTrainWorker pid=9596)\u001b[0m \n",
      "\u001b[36m(RayTrainWorker pid=9596)\u001b[0m \n",
      "Validation DataLoader 0: 100%|██████████| 6/6 [00:01<00:00,  4.01it/s]\u001b[A\n",
      "Epoch 11: 100%|██████████| 29/29 [00:10<00:00,  2.84it/s, v_num=3.41e+7, train_loss_step=0.281, val_loss=0.286, train_loss_epoch=0.239]\n",
      "Epoch 11: 100%|██████████| 29/29 [00:10<00:00,  2.78it/s, v_num=3.41e+7, train_loss_step=0.281, val_loss=0.286, train_loss_epoch=0.220]\n",
      "Epoch 12:   0%|          | 0/29 [00:00<?, ?it/s, v_num=3.41e+7, train_loss_step=0.281, val_loss=0.286, train_loss_epoch=0.220]         \n"
     ]
    },
    {
     "name": "stderr",
     "output_type": "stream",
     "text": [
      "\u001b[36m(RayTrainWorker pid=9596)\u001b[0m Checkpoint successfully created at: Checkpoint(filesystem=local, path=/ictstr01/home/aih/serra.korkmaz/projects/saturn/hopt/hpopt_parp1_chembl/ray_results/TorchTrainer_2025-03-11_23-24-45/cdb03fbb/checkpoint_000011)\u001b[32m [repeated 2x across cluster]\u001b[0m\n"
     ]
    },
    {
     "name": "stdout",
     "output_type": "stream",
     "text": [
      "Epoch 12:  24%|██▍       | 7/29 [00:02<00:06,  3.43it/s, v_num=3.41e+7, train_loss_step=0.199, val_loss=0.286, train_loss_epoch=0.220]\u001b[32m [repeated 22x across cluster]\u001b[0m\n",
      "Epoch 11:  90%|████████▉ | 26/29 [00:08<00:00,  3.03it/s, v_num=3.41e+7, train_loss_step=0.224, val_loss=0.262, train_loss_epoch=0.248]\n",
      "Validation DataLoader 0:  83%|████████▎ | 5/6 [00:01<00:00,  3.79it/s]\u001b[A\u001b[32m [repeated 5x across cluster]\u001b[0m\n",
      "Epoch 11:  90%|████████▉ | 26/29 [00:08<00:00,  3.03it/s, v_num=3.41e+7, train_loss_step=0.258, val_loss=0.262, train_loss_epoch=0.248]\n",
      "Epoch 11:  93%|█████████▎| 27/29 [00:08<00:00,  3.04it/s, v_num=3.41e+7, train_loss_step=0.161, val_loss=0.262, train_loss_epoch=0.248]\n",
      "Epoch 11: 100%|██████████| 29/29 [00:09<00:00,  3.15it/s, v_num=3.41e+7, train_loss_step=0.321, val_loss=0.262, train_loss_epoch=0.248]\n",
      "Validation: |          | 0/? [00:00<?, ?it/s]\u001b[A\n",
      "\u001b[36m(RayTrainWorker pid=9308)\u001b[0m \n",
      "Validation:   0%|          | 0/6 [00:00<?, ?it/s]\u001b[A\n",
      "Validation DataLoader 0:   0%|          | 0/6 [00:00<?, ?it/s]\u001b[A\n",
      "\u001b[36m(RayTrainWorker pid=9308)\u001b[0m \n",
      "\u001b[36m(RayTrainWorker pid=9308)\u001b[0m \n",
      "\u001b[36m(RayTrainWorker pid=9308)\u001b[0m \n",
      "\u001b[36m(RayTrainWorker pid=9308)\u001b[0m \n",
      "\u001b[36m(RayTrainWorker pid=9308)\u001b[0m \n",
      "\u001b[36m(RayTrainWorker pid=9308)\u001b[0m \n",
      "Validation DataLoader 0: 100%|██████████| 6/6 [00:01<00:00,  4.13it/s]\u001b[A\n",
      "Epoch 11: 100%|██████████| 29/29 [00:10<00:00,  2.71it/s, v_num=3.41e+7, train_loss_step=0.321, val_loss=0.263, train_loss_epoch=0.248]\n",
      "Epoch 11: 100%|██████████| 29/29 [00:10<00:00,  2.66it/s, v_num=3.41e+7, train_loss_step=0.321, val_loss=0.263, train_loss_epoch=0.228]\n",
      "Epoch 12:   0%|          | 0/29 [00:00<?, ?it/s, v_num=3.41e+7, train_loss_step=0.321, val_loss=0.263, train_loss_epoch=0.228]         \n"
     ]
    },
    {
     "name": "stderr",
     "output_type": "stream",
     "text": [
      "\u001b[36m(RayTrainWorker pid=9308)\u001b[0m Checkpoint successfully created at: Checkpoint(filesystem=local, path=/ictstr01/home/aih/serra.korkmaz/projects/saturn/hopt/hpopt_parp1_chembl/ray_results/TorchTrainer_2025-03-11_23-24-45/e7d9527d/checkpoint_000011)\n"
     ]
    },
    {
     "name": "stdout",
     "output_type": "stream",
     "text": [
      "Epoch 12:  90%|████████▉ | 26/29 [00:07<00:00,  3.63it/s, v_num=3.41e+7, train_loss_step=0.213, val_loss=0.286, train_loss_epoch=0.220]\u001b[32m [repeated 27x across cluster]\u001b[0m\n",
      "Validation DataLoader 0:  83%|████████▎ | 5/6 [00:01<00:00,  4.05it/s]\u001b[A\u001b[32m [repeated 5x across cluster]\u001b[0m\n",
      "\u001b[36m(RayTrainWorker pid=9596)\u001b[0m \n",
      "\u001b[36m(RayTrainWorker pid=9596)\u001b[0m \n",
      "\u001b[36m(RayTrainWorker pid=9596)\u001b[0m \n",
      "Epoch 12: 100%|██████████| 29/29 [00:07<00:00,  3.64it/s, v_num=3.41e+7, train_loss_step=0.347, val_loss=0.286, train_loss_epoch=0.220]\u001b[32m [repeated 3x across cluster]\u001b[0m\n",
      "\u001b[36m(RayTrainWorker pid=9596)\u001b[0m \n",
      "Validation: |          | 0/? [00:00<?, ?it/s]\u001b[A\n",
      "Validation:   0%|          | 0/6 [00:00<?, ?it/s]\u001b[A\n",
      "Validation DataLoader 0:   0%|          | 0/6 [00:00<?, ?it/s]\u001b[A\n",
      "\u001b[36m(RayTrainWorker pid=9596)\u001b[0m \n",
      "\u001b[36m(RayTrainWorker pid=9596)\u001b[0m \n",
      "\u001b[36m(RayTrainWorker pid=9596)\u001b[0m \n"
     ]
    },
    {
     "name": "stderr",
     "output_type": "stream",
     "text": [
      "\u001b[36m(RayTrainWorker pid=9596)\u001b[0m Checkpoint successfully created at: Checkpoint(filesystem=local, path=/ictstr01/home/aih/serra.korkmaz/projects/saturn/hopt/hpopt_parp1_chembl/ray_results/TorchTrainer_2025-03-11_23-24-45/cdb03fbb/checkpoint_000012)\n",
      "2025-03-11 23:27:20,214\tWARNING experiment_state.py:206 -- Experiment state snapshotting has been triggered multiple times in the last 5.0 seconds and may become a bottleneck. A snapshot is forced if `CheckpointConfig(num_to_keep)` is set, and a trial has checkpointed >= `num_to_keep` times since the last snapshot.\n",
      "You may want to consider increasing the `CheckpointConfig(num_to_keep)` or decreasing the frequency of saving checkpoints.\n",
      "You can suppress this warning by setting the environment variable TUNE_WARN_EXCESSIVE_EXPERIMENT_CHECKPOINT_SYNC_THRESHOLD_S to a smaller value than the current threshold (5.0). Set it to 0 to completely suppress this warning.\n"
     ]
    },
    {
     "name": "stdout",
     "output_type": "stream",
     "text": [
      "Validation DataLoader 0: 100%|██████████| 6/6 [00:01<00:00,  4.07it/s]\u001b[A\n",
      "Epoch 12: 100%|██████████| 29/29 [00:09<00:00,  3.05it/s, v_num=3.41e+7, train_loss_step=0.347, val_loss=0.205, train_loss_epoch=0.220]\n",
      "Epoch 12: 100%|██████████| 29/29 [00:09<00:00,  2.97it/s, v_num=3.41e+7, train_loss_step=0.347, val_loss=0.205, train_loss_epoch=0.224]\n",
      "Epoch 13:   0%|          | 0/29 [00:00<?, ?it/s, v_num=3.41e+7, train_loss_step=0.347, val_loss=0.205, train_loss_epoch=0.224]         \n",
      "Epoch 12:  62%|██████▏   | 18/29 [00:06<00:04,  2.62it/s, v_num=3.41e+7, train_loss_step=0.245, val_loss=0.263, train_loss_epoch=0.228]\u001b[32m [repeated 19x across cluster]\u001b[0m\n",
      "Validation DataLoader 0:  83%|████████▎ | 5/6 [00:01<00:00,  3.85it/s]\u001b[A\u001b[32m [repeated 5x across cluster]\u001b[0m\n",
      "Epoch 12:  93%|█████████▎| 27/29 [00:09<00:00,  2.82it/s, v_num=3.41e+7, train_loss_step=0.256, val_loss=0.263, train_loss_epoch=0.228]\n",
      "Epoch 12:  97%|█████████▋| 28/29 [00:09<00:00,  2.84it/s, v_num=3.41e+7, train_loss_step=0.228, val_loss=0.263, train_loss_epoch=0.228]\n",
      "Epoch 12: 100%|██████████| 29/29 [00:09<00:00,  2.92it/s, v_num=3.41e+7, train_loss_step=0.409, val_loss=0.263, train_loss_epoch=0.228]\n",
      "Validation: |          | 0/? [00:00<?, ?it/s]\u001b[A\n",
      "Validation:   0%|          | 0/6 [00:00<?, ?it/s]\u001b[A\n",
      "Validation DataLoader 0:   0%|          | 0/6 [00:00<?, ?it/s]\u001b[A\n",
      "\u001b[36m(RayTrainWorker pid=9308)\u001b[0m \n",
      "\u001b[36m(RayTrainWorker pid=9308)\u001b[0m \n",
      "\u001b[36m(RayTrainWorker pid=9308)\u001b[0m \n",
      "\u001b[36m(RayTrainWorker pid=9308)\u001b[0m \n",
      "\u001b[36m(RayTrainWorker pid=9308)\u001b[0m \n",
      "\u001b[36m(RayTrainWorker pid=9308)\u001b[0m \n",
      "Validation DataLoader 0: 100%|██████████| 6/6 [00:01<00:00,  3.30it/s]\u001b[A\n",
      "Epoch 12: 100%|██████████| 29/29 [00:11<00:00,  2.46it/s, v_num=3.41e+7, train_loss_step=0.409, val_loss=0.229, train_loss_epoch=0.228]\n",
      "Epoch 12: 100%|██████████| 29/29 [00:11<00:00,  2.42it/s, v_num=3.41e+7, train_loss_step=0.409, val_loss=0.229, train_loss_epoch=0.230]\n",
      "Epoch 13:  83%|████████▎ | 24/29 [00:07<00:01,  3.30it/s, v_num=3.41e+7, train_loss_step=0.136, val_loss=0.205, train_loss_epoch=0.224]\u001b[32m [repeated 26x across cluster]\u001b[0m\n",
      "Epoch 13:   0%|          | 0/29 [00:00<?, ?it/s, v_num=3.41e+7, train_loss_step=0.409, val_loss=0.229, train_loss_epoch=0.230]         \n"
     ]
    },
    {
     "name": "stderr",
     "output_type": "stream",
     "text": [
      "\u001b[36m(RayTrainWorker pid=9308)\u001b[0m Checkpoint successfully created at: Checkpoint(filesystem=local, path=/ictstr01/home/aih/serra.korkmaz/projects/saturn/hopt/hpopt_parp1_chembl/ray_results/TorchTrainer_2025-03-11_23-24-45/e7d9527d/checkpoint_000012)\n"
     ]
    },
    {
     "name": "stdout",
     "output_type": "stream",
     "text": [
      "Epoch 13: 100%|██████████| 29/29 [00:08<00:00,  3.47it/s, v_num=3.41e+7, train_loss_step=0.348, val_loss=0.205, train_loss_epoch=0.224]\n",
      "Validation DataLoader 0:  83%|████████▎ | 5/6 [00:01<00:00,  3.14it/s]\u001b[A\u001b[32m [repeated 5x across cluster]\u001b[0m\n",
      "\u001b[36m(RayTrainWorker pid=9596)\u001b[0m \n",
      "\u001b[36m(RayTrainWorker pid=9596)\u001b[0m \n",
      "\u001b[36m(RayTrainWorker pid=9596)\u001b[0m \n",
      "\u001b[36m(RayTrainWorker pid=9596)\u001b[0m \n",
      "\u001b[36m(RayTrainWorker pid=9596)\u001b[0m \n",
      "\u001b[36m(RayTrainWorker pid=9596)\u001b[0m \n",
      "\u001b[36m(RayTrainWorker pid=9596)\u001b[0m \n"
     ]
    },
    {
     "name": "stderr",
     "output_type": "stream",
     "text": [
      "\u001b[36m(RayTrainWorker pid=9596)\u001b[0m Checkpoint successfully created at: Checkpoint(filesystem=local, path=/ictstr01/home/aih/serra.korkmaz/projects/saturn/hopt/hpopt_parp1_chembl/ray_results/TorchTrainer_2025-03-11_23-24-45/cdb03fbb/checkpoint_000013)\n",
      "2025-03-11 23:27:29,885\tWARNING experiment_state.py:206 -- Experiment state snapshotting has been triggered multiple times in the last 5.0 seconds and may become a bottleneck. A snapshot is forced if `CheckpointConfig(num_to_keep)` is set, and a trial has checkpointed >= `num_to_keep` times since the last snapshot.\n",
      "You may want to consider increasing the `CheckpointConfig(num_to_keep)` or decreasing the frequency of saving checkpoints.\n",
      "You can suppress this warning by setting the environment variable TUNE_WARN_EXCESSIVE_EXPERIMENT_CHECKPOINT_SYNC_THRESHOLD_S to a smaller value than the current threshold (5.0). Set it to 0 to completely suppress this warning.\n"
     ]
    },
    {
     "name": "stdout",
     "output_type": "stream",
     "text": [
      "Epoch 13:  93%|█████████▎| 27/29 [00:08<00:00,  3.36it/s, v_num=3.41e+7, train_loss_step=0.230, val_loss=0.205, train_loss_epoch=0.224]\n",
      "Validation: |          | 0/? [00:00<?, ?it/s]\u001b[A\n",
      "Validation:   0%|          | 0/6 [00:00<?, ?it/s]\u001b[A\n",
      "Validation DataLoader 0:   0%|          | 0/6 [00:00<?, ?it/s]\u001b[A\n",
      "Validation DataLoader 0: 100%|██████████| 6/6 [00:00<00:00,  6.12it/s]\u001b[A\n",
      "Epoch 13: 100%|██████████| 29/29 [00:09<00:00,  3.09it/s, v_num=3.41e+7, train_loss_step=0.348, val_loss=0.344, train_loss_epoch=0.224]\n",
      "Epoch 13: 100%|██████████| 29/29 [00:09<00:00,  3.03it/s, v_num=3.41e+7, train_loss_step=0.348, val_loss=0.344, train_loss_epoch=0.224]\n",
      "Epoch 14:  41%|████▏     | 12/29 [00:02<00:04,  4.08it/s, v_num=3.41e+7, train_loss_step=0.273, val_loss=0.344, train_loss_epoch=0.224]\u001b[32m [repeated 31x across cluster]\u001b[0m\n",
      "Epoch 14:   0%|          | 0/29 [00:00<?, ?it/s, v_num=3.41e+7, train_loss_step=0.348, val_loss=0.344, train_loss_epoch=0.224]         \n",
      "Validation DataLoader 0:  83%|████████▎ | 5/6 [00:00<00:00,  5.81it/s]\u001b[A\u001b[32m [repeated 5x across cluster]\u001b[0m\n",
      "Epoch 13:  93%|█████████▎| 27/29 [00:07<00:00,  3.46it/s, v_num=3.41e+7, train_loss_step=0.221, val_loss=0.229, train_loss_epoch=0.230]\n",
      "Epoch 13:  97%|█████████▋| 28/29 [00:08<00:00,  3.46it/s, v_num=3.41e+7, train_loss_step=0.210, val_loss=0.229, train_loss_epoch=0.230]\n",
      "Epoch 13: 100%|██████████| 29/29 [00:08<00:00,  3.55it/s, v_num=3.41e+7, train_loss_step=0.319, val_loss=0.229, train_loss_epoch=0.230]\n",
      "Validation: |          | 0/? [00:00<?, ?it/s]\u001b[A\n",
      "Validation:   0%|          | 0/6 [00:00<?, ?it/s]\u001b[A\n",
      "Validation DataLoader 0:   0%|          | 0/6 [00:00<?, ?it/s]\u001b[A\n",
      "\u001b[36m(RayTrainWorker pid=9308)\u001b[0m \n",
      "\u001b[36m(RayTrainWorker pid=9308)\u001b[0m \n",
      "\u001b[36m(RayTrainWorker pid=9308)\u001b[0m \n",
      "\u001b[36m(RayTrainWorker pid=9596)\u001b[0m \n",
      "\u001b[36m(RayTrainWorker pid=9308)\u001b[0m \n",
      "\u001b[36m(RayTrainWorker pid=9596)\u001b[0m \n",
      "\u001b[36m(RayTrainWorker pid=9308)\u001b[0m \n",
      "\u001b[36m(RayTrainWorker pid=9596)\u001b[0m \n",
      "\u001b[36m(RayTrainWorker pid=9308)\u001b[0m \n",
      "Validation DataLoader 0: 100%|██████████| 6/6 [00:01<00:00,  3.31it/s]\u001b[A\n",
      "Epoch 13: 100%|██████████| 29/29 [00:10<00:00,  2.89it/s, v_num=3.41e+7, train_loss_step=0.319, val_loss=0.509, train_loss_epoch=0.230]\n",
      "\u001b[36m(RayTrainWorker pid=9596)\u001b[0m \n",
      "Epoch 14:  90%|████████▉ | 26/29 [00:06<00:00,  4.02it/s, v_num=3.41e+7, train_loss_step=0.173, val_loss=0.344, train_loss_epoch=0.224]\u001b[32m [repeated 23x across cluster]\u001b[0m\n"
     ]
    },
    {
     "name": "stderr",
     "output_type": "stream",
     "text": [
      "\u001b[36m(RayTrainWorker pid=9308)\u001b[0m Checkpoint successfully created at: Checkpoint(filesystem=local, path=/ictstr01/home/aih/serra.korkmaz/projects/saturn/hopt/hpopt_parp1_chembl/ray_results/TorchTrainer_2025-03-11_23-24-45/e7d9527d/checkpoint_000013)\n"
     ]
    },
    {
     "name": "stdout",
     "output_type": "stream",
     "text": [
      "Epoch 13: 100%|██████████| 29/29 [00:10<00:00,  2.83it/s, v_num=3.41e+7, train_loss_step=0.319, val_loss=0.509, train_loss_epoch=0.228]\n",
      "Epoch 14:   0%|          | 0/29 [00:00<?, ?it/s, v_num=3.41e+7, train_loss_step=0.319, val_loss=0.509, train_loss_epoch=0.228]         \n",
      "\u001b[36m(RayTrainWorker pid=9596)\u001b[0m \n",
      "\u001b[36m(RayTrainWorker pid=9596)\u001b[0m \n",
      "\u001b[36m(RayTrainWorker pid=9596)\u001b[0m \n"
     ]
    },
    {
     "name": "stderr",
     "output_type": "stream",
     "text": [
      "2025-03-11 23:27:38,830\tWARNING experiment_state.py:206 -- Experiment state snapshotting has been triggered multiple times in the last 5.0 seconds and may become a bottleneck. A snapshot is forced if `CheckpointConfig(num_to_keep)` is set, and a trial has checkpointed >= `num_to_keep` times since the last snapshot.\n",
      "You may want to consider increasing the `CheckpointConfig(num_to_keep)` or decreasing the frequency of saving checkpoints.\n",
      "You can suppress this warning by setting the environment variable TUNE_WARN_EXCESSIVE_EXPERIMENT_CHECKPOINT_SYNC_THRESHOLD_S to a smaller value than the current threshold (5.0). Set it to 0 to completely suppress this warning.\n",
      "\u001b[36m(RayTrainWorker pid=9596)\u001b[0m Checkpoint successfully created at: Checkpoint(filesystem=local, path=/ictstr01/home/aih/serra.korkmaz/projects/saturn/hopt/hpopt_parp1_chembl/ray_results/TorchTrainer_2025-03-11_23-24-45/cdb03fbb/checkpoint_000014)\n"
     ]
    },
    {
     "name": "stdout",
     "output_type": "stream",
     "text": [
      "Validation DataLoader 0:  83%|████████▎ | 5/6 [00:01<00:00,  4.51it/s]\u001b[A\u001b[32m [repeated 10x across cluster]\u001b[0m\n",
      "Epoch 14: 100%|██████████| 29/29 [00:07<00:00,  4.01it/s, v_num=3.41e+7, train_loss_step=0.310, val_loss=0.344, train_loss_epoch=0.224]\u001b[32m [repeated 3x across cluster]\u001b[0m\n",
      "Validation: |          | 0/? [00:00<?, ?it/s]\u001b[A\n",
      "Validation:   0%|          | 0/6 [00:00<?, ?it/s]\u001b[A\n",
      "Validation DataLoader 0:   0%|          | 0/6 [00:00<?, ?it/s]\u001b[A\n",
      "Validation DataLoader 0: 100%|██████████| 6/6 [00:01<00:00,  4.66it/s]\u001b[A\n",
      "Epoch 14: 100%|██████████| 29/29 [00:08<00:00,  3.38it/s, v_num=3.41e+7, train_loss_step=0.310, val_loss=0.207, train_loss_epoch=0.224]\n",
      "Epoch 14:  48%|████▊     | 14/29 [00:05<00:05,  2.76it/s, v_num=3.41e+7, train_loss_step=0.226, val_loss=0.509, train_loss_epoch=0.228]\u001b[32m [repeated 27x across cluster]\u001b[0m\n",
      "Epoch 14: 100%|██████████| 29/29 [00:08<00:00,  3.30it/s, v_num=3.41e+7, train_loss_step=0.310, val_loss=0.207, train_loss_epoch=0.213]\n",
      "Epoch 15:   0%|          | 0/29 [00:00<?, ?it/s, v_num=3.41e+7, train_loss_step=0.310, val_loss=0.207, train_loss_epoch=0.213]         \n",
      "Epoch 15:  93%|█████████▎| 27/29 [00:08<00:00,  3.01it/s, v_num=3.41e+7, train_loss_step=0.131, val_loss=0.207, train_loss_epoch=0.213]\n",
      "Epoch 15:  97%|█████████▋| 28/29 [00:09<00:00,  3.00it/s, v_num=3.41e+7, train_loss_step=0.155, val_loss=0.207, train_loss_epoch=0.213]\n",
      "Epoch 14:  90%|████████▉ | 26/29 [00:10<00:01,  2.60it/s, v_num=3.41e+7, train_loss_step=0.177, val_loss=0.509, train_loss_epoch=0.228]\u001b[32m [repeated 25x across cluster]\u001b[0m\n",
      "Epoch 15: 100%|██████████| 29/29 [00:09<00:00,  3.08it/s, v_num=3.41e+7, train_loss_step=0.132, val_loss=0.207, train_loss_epoch=0.213]\n",
      "Validation: |          | 0/? [00:00<?, ?it/s]\u001b[A\n",
      "Validation:   0%|          | 0/6 [00:00<?, ?it/s]\u001b[A\n",
      "Validation DataLoader 0:   0%|          | 0/6 [00:00<?, ?it/s]\u001b[A\n",
      "\u001b[36m(RayTrainWorker pid=9596)\u001b[0m \n",
      "Validation DataLoader 0:  17%|█▋        | 1/6 [00:00<00:01,  4.70it/s]\u001b[A\n",
      "\u001b[36m(RayTrainWorker pid=9596)\u001b[0m \n",
      "Validation DataLoader 0:  33%|███▎      | 2/6 [00:00<00:00,  4.12it/s]\u001b[A\n",
      "\u001b[36m(RayTrainWorker pid=9596)\u001b[0m \n",
      "Validation DataLoader 0:  50%|█████     | 3/6 [00:00<00:00,  3.96it/s]\u001b[A\n",
      "\u001b[36m(RayTrainWorker pid=9308)\u001b[0m \n",
      "\u001b[36m(RayTrainWorker pid=9596)\u001b[0m \n",
      "\u001b[36m(RayTrainWorker pid=9596)\u001b[0m \n",
      "\u001b[36m(RayTrainWorker pid=9308)\u001b[0m \n",
      "\u001b[36m(RayTrainWorker pid=9596)\u001b[0m \n",
      "Validation DataLoader 0: 100%|██████████| 6/6 [00:01<00:00,  4.07it/s]\u001b[A\n",
      "Epoch 15: 100%|██████████| 29/29 [00:10<00:00,  2.65it/s, v_num=3.41e+7, train_loss_step=0.132, val_loss=0.182, train_loss_epoch=0.213]\n"
     ]
    },
    {
     "name": "stderr",
     "output_type": "stream",
     "text": [
      "2025-03-11 23:27:50,159\tWARNING experiment_state.py:206 -- Experiment state snapshotting has been triggered multiple times in the last 5.0 seconds and may become a bottleneck. A snapshot is forced if `CheckpointConfig(num_to_keep)` is set, and a trial has checkpointed >= `num_to_keep` times since the last snapshot.\n",
      "You may want to consider increasing the `CheckpointConfig(num_to_keep)` or decreasing the frequency of saving checkpoints.\n",
      "You can suppress this warning by setting the environment variable TUNE_WARN_EXCESSIVE_EXPERIMENT_CHECKPOINT_SYNC_THRESHOLD_S to a smaller value than the current threshold (5.0). Set it to 0 to completely suppress this warning.\n"
     ]
    },
    {
     "name": "stdout",
     "output_type": "stream",
     "text": [
      "\u001b[36m(RayTrainWorker pid=9308)\u001b[0m \n",
      "Epoch 15: 100%|██████████| 29/29 [00:11<00:00,  2.59it/s, v_num=3.41e+7, train_loss_step=0.132, val_loss=0.182, train_loss_epoch=0.195]\n",
      "Epoch 16:   0%|          | 0/29 [00:00<?, ?it/s, v_num=3.41e+7, train_loss_step=0.132, val_loss=0.182, train_loss_epoch=0.195]         \n"
     ]
    },
    {
     "name": "stderr",
     "output_type": "stream",
     "text": [
      "\u001b[36m(RayTrainWorker pid=9596)\u001b[0m Checkpoint successfully created at: Checkpoint(filesystem=local, path=/ictstr01/home/aih/serra.korkmaz/projects/saturn/hopt/hpopt_parp1_chembl/ray_results/TorchTrainer_2025-03-11_23-24-45/cdb03fbb/checkpoint_000015)\n"
     ]
    },
    {
     "name": "stdout",
     "output_type": "stream",
     "text": [
      "\u001b[36m(RayTrainWorker pid=9308)\u001b[0m \n",
      "\u001b[36m(RayTrainWorker pid=9308)\u001b[0m \n"
     ]
    },
    {
     "name": "stderr",
     "output_type": "stream",
     "text": [
      "\u001b[36m(RayTrainWorker pid=9308)\u001b[0m Checkpoint successfully created at: Checkpoint(filesystem=local, path=/ictstr01/home/aih/serra.korkmaz/projects/saturn/hopt/hpopt_parp1_chembl/ray_results/TorchTrainer_2025-03-11_23-24-45/e7d9527d/checkpoint_000014)\n",
      "2025-03-11 23:27:50,919\tWARNING experiment_state.py:206 -- Experiment state snapshotting has been triggered multiple times in the last 5.0 seconds and may become a bottleneck. A snapshot is forced if `CheckpointConfig(num_to_keep)` is set, and a trial has checkpointed >= `num_to_keep` times since the last snapshot.\n",
      "You may want to consider increasing the `CheckpointConfig(num_to_keep)` or decreasing the frequency of saving checkpoints.\n",
      "You can suppress this warning by setting the environment variable TUNE_WARN_EXCESSIVE_EXPERIMENT_CHECKPOINT_SYNC_THRESHOLD_S to a smaller value than the current threshold (5.0). Set it to 0 to completely suppress this warning.\n"
     ]
    },
    {
     "name": "stdout",
     "output_type": "stream",
     "text": [
      "\u001b[36m(RayTrainWorker pid=9308)\u001b[0m \n",
      "Epoch 14: 100%|██████████| 29/29 [00:10<00:00,  2.66it/s, v_num=3.41e+7, train_loss_step=0.267, val_loss=0.509, train_loss_epoch=0.228]\u001b[32m [repeated 3x across cluster]\u001b[0m\n",
      "Epoch 16:  38%|███▊      | 11/29 [00:03<00:05,  3.55it/s, v_num=3.41e+7, train_loss_step=0.198, val_loss=0.182, train_loss_epoch=0.195]\u001b[32m [repeated 17x across cluster]\u001b[0m\n",
      "Validation: |          | 0/? [00:00<?, ?it/s]\u001b[A\n",
      "Validation:   0%|          | 0/6 [00:00<?, ?it/s]\u001b[A\n",
      "Validation DataLoader 0:   0%|          | 0/6 [00:00<?, ?it/s]\u001b[A\n",
      "Validation DataLoader 0:  83%|████████▎ | 5/6 [00:01<00:00,  3.55it/s]\u001b[A\u001b[32m [repeated 7x across cluster]\u001b[0m\n",
      "Validation DataLoader 0: 100%|██████████| 6/6 [00:01<00:00,  3.87it/s]\u001b[A\n",
      "Epoch 14: 100%|██████████| 29/29 [00:12<00:00,  2.31it/s, v_num=3.41e+7, train_loss_step=0.267, val_loss=0.213, train_loss_epoch=0.228]\n",
      "Epoch 14: 100%|██████████| 29/29 [00:12<00:00,  2.29it/s, v_num=3.41e+7, train_loss_step=0.267, val_loss=0.213, train_loss_epoch=0.215]\n",
      "Epoch 15:   0%|          | 0/29 [00:00<?, ?it/s, v_num=3.41e+7, train_loss_step=0.267, val_loss=0.213, train_loss_epoch=0.215]         \n",
      "Epoch 15:  66%|██████▌   | 19/29 [00:07<00:03,  2.57it/s, v_num=3.41e+7, train_loss_step=0.175, val_loss=0.213, train_loss_epoch=0.215]\u001b[32m [repeated 27x across cluster]\u001b[0m\n",
      "Epoch 16:  93%|█████████▎| 27/29 [00:08<00:00,  3.10it/s, v_num=3.41e+7, train_loss_step=0.195, val_loss=0.182, train_loss_epoch=0.195]\n",
      "Epoch 16:  97%|█████████▋| 28/29 [00:09<00:00,  3.09it/s, v_num=3.41e+7, train_loss_step=0.153, val_loss=0.182, train_loss_epoch=0.195]\n",
      "Epoch 16: 100%|██████████| 29/29 [00:09<00:00,  3.16it/s, v_num=3.41e+7, train_loss_step=0.166, val_loss=0.182, train_loss_epoch=0.195]\n",
      "Validation: |          | 0/? [00:00<?, ?it/s]\u001b[A\n",
      "Validation:   0%|          | 0/6 [00:00<?, ?it/s]\u001b[A\n",
      "Validation DataLoader 0:   0%|          | 0/6 [00:00<?, ?it/s]\u001b[A\n",
      "\u001b[36m(RayTrainWorker pid=9596)\u001b[0m \n",
      "Validation DataLoader 0:  17%|█▋        | 1/6 [00:00<00:01,  4.67it/s]\u001b[A\n",
      "\u001b[36m(RayTrainWorker pid=9596)\u001b[0m \n",
      "Validation DataLoader 0:  33%|███▎      | 2/6 [00:00<00:00,  4.04it/s]\u001b[A\n",
      "\u001b[36m(RayTrainWorker pid=9596)\u001b[0m \n",
      "Validation DataLoader 0:  50%|█████     | 3/6 [00:00<00:00,  3.97it/s]\u001b[A\n",
      "\u001b[36m(RayTrainWorker pid=9596)\u001b[0m \n",
      "Validation DataLoader 0:  67%|██████▋   | 4/6 [00:01<00:00,  3.93it/s]\u001b[A\n",
      "\u001b[36m(RayTrainWorker pid=9596)\u001b[0m \n",
      "Validation DataLoader 0:  83%|████████▎ | 5/6 [00:01<00:00,  3.84it/s]\u001b[A\n"
     ]
    },
    {
     "name": "stderr",
     "output_type": "stream",
     "text": [
      "2025-03-11 23:28:01,225\tWARNING experiment_state.py:206 -- Experiment state snapshotting has been triggered multiple times in the last 5.0 seconds and may become a bottleneck. A snapshot is forced if `CheckpointConfig(num_to_keep)` is set, and a trial has checkpointed >= `num_to_keep` times since the last snapshot.\n",
      "You may want to consider increasing the `CheckpointConfig(num_to_keep)` or decreasing the frequency of saving checkpoints.\n",
      "You can suppress this warning by setting the environment variable TUNE_WARN_EXCESSIVE_EXPERIMENT_CHECKPOINT_SYNC_THRESHOLD_S to a smaller value than the current threshold (5.0). Set it to 0 to completely suppress this warning.\n"
     ]
    },
    {
     "name": "stdout",
     "output_type": "stream",
     "text": [
      "\u001b[36m(RayTrainWorker pid=9596)\u001b[0m \n",
      "Validation DataLoader 0: 100%|██████████| 6/6 [00:01<00:00,  4.05it/s]\u001b[A\n",
      "Epoch 16: 100%|██████████| 29/29 [00:10<00:00,  2.71it/s, v_num=3.41e+7, train_loss_step=0.166, val_loss=0.181, train_loss_epoch=0.195]\n"
     ]
    },
    {
     "name": "stderr",
     "output_type": "stream",
     "text": [
      "\u001b[36m(RayTrainWorker pid=9596)\u001b[0m Checkpoint successfully created at: Checkpoint(filesystem=local, path=/ictstr01/home/aih/serra.korkmaz/projects/saturn/hopt/hpopt_parp1_chembl/ray_results/TorchTrainer_2025-03-11_23-24-45/cdb03fbb/checkpoint_000016)\n"
     ]
    },
    {
     "name": "stdout",
     "output_type": "stream",
     "text": [
      "Epoch 16: 100%|██████████| 29/29 [00:10<00:00,  2.65it/s, v_num=3.41e+7, train_loss_step=0.166, val_loss=0.181, train_loss_epoch=0.199]\n",
      "Epoch 17:   0%|          | 0/29 [00:00<?, ?it/s, v_num=3.41e+7, train_loss_step=0.166, val_loss=0.181, train_loss_epoch=0.199]         \n",
      "Epoch 15: 100%|██████████| 29/29 [00:10<00:00,  2.66it/s, v_num=3.41e+7, train_loss_step=0.146, val_loss=0.213, train_loss_epoch=0.215]\n",
      "\u001b[36m(RayTrainWorker pid=9308)\u001b[0m \n",
      "\u001b[36m(RayTrainWorker pid=9308)\u001b[0m \n",
      "\u001b[36m(RayTrainWorker pid=9308)\u001b[0m \n",
      "\u001b[36m(RayTrainWorker pid=9308)\u001b[0m \n",
      "\u001b[36m(RayTrainWorker pid=9308)\u001b[0m \n",
      "\u001b[36m(RayTrainWorker pid=9308)\u001b[0m \n"
     ]
    },
    {
     "name": "stderr",
     "output_type": "stream",
     "text": [
      "2025-03-11 23:28:03,354\tWARNING experiment_state.py:206 -- Experiment state snapshotting has been triggered multiple times in the last 5.0 seconds and may become a bottleneck. A snapshot is forced if `CheckpointConfig(num_to_keep)` is set, and a trial has checkpointed >= `num_to_keep` times since the last snapshot.\n",
      "You may want to consider increasing the `CheckpointConfig(num_to_keep)` or decreasing the frequency of saving checkpoints.\n",
      "You can suppress this warning by setting the environment variable TUNE_WARN_EXCESSIVE_EXPERIMENT_CHECKPOINT_SYNC_THRESHOLD_S to a smaller value than the current threshold (5.0). Set it to 0 to completely suppress this warning.\n"
     ]
    },
    {
     "name": "stdout",
     "output_type": "stream",
     "text": [
      "\u001b[36m(RayTrainWorker pid=9308)\u001b[0m \n"
     ]
    },
    {
     "name": "stderr",
     "output_type": "stream",
     "text": [
      "\u001b[36m(RayTrainWorker pid=9308)\u001b[0m Checkpoint successfully created at: Checkpoint(filesystem=local, path=/ictstr01/home/aih/serra.korkmaz/projects/saturn/hopt/hpopt_parp1_chembl/ray_results/TorchTrainer_2025-03-11_23-24-45/e7d9527d/checkpoint_000015)\n"
     ]
    },
    {
     "name": "stdout",
     "output_type": "stream",
     "text": [
      "Epoch 17:  28%|██▊       | 8/29 [00:02<00:05,  3.86it/s, v_num=3.41e+7, train_loss_step=0.167, val_loss=0.181, train_loss_epoch=0.199]\u001b[32m [repeated 16x across cluster]\u001b[0m\n",
      "Epoch 15:  93%|█████████▎| 27/29 [00:10<00:00,  2.56it/s, v_num=3.41e+7, train_loss_step=0.132, val_loss=0.213, train_loss_epoch=0.215]\n",
      "Validation: |          | 0/? [00:00<?, ?it/s]\u001b[A\n",
      "Validation:   0%|          | 0/6 [00:00<?, ?it/s]\u001b[A\n",
      "Validation DataLoader 0:   0%|          | 0/6 [00:00<?, ?it/s]\u001b[A\n",
      "Validation DataLoader 0:  83%|████████▎ | 5/6 [00:01<00:00,  4.78it/s]\u001b[A\u001b[32m [repeated 5x across cluster]\u001b[0m\n",
      "Validation DataLoader 0: 100%|██████████| 6/6 [00:01<00:00,  5.04it/s]\u001b[A\n",
      "Epoch 15: 100%|██████████| 29/29 [00:12<00:00,  2.39it/s, v_num=3.41e+7, train_loss_step=0.146, val_loss=0.201, train_loss_epoch=0.215]\n",
      "Epoch 15: 100%|██████████| 29/29 [00:12<00:00,  2.35it/s, v_num=3.41e+7, train_loss_step=0.146, val_loss=0.201, train_loss_epoch=0.198]\n",
      "Epoch 16:   0%|          | 0/29 [00:00<?, ?it/s, v_num=3.41e+7, train_loss_step=0.146, val_loss=0.201, train_loss_epoch=0.198]         \n",
      "Epoch 17:  79%|███████▉  | 23/29 [00:07<00:01,  3.15it/s, v_num=3.41e+7, train_loss_step=0.158, val_loss=0.181, train_loss_epoch=0.199]\u001b[32m [repeated 27x across cluster]\u001b[0m\n",
      "Epoch 17:  93%|█████████▎| 27/29 [00:08<00:00,  3.09it/s, v_num=3.41e+7, train_loss_step=0.235, val_loss=0.181, train_loss_epoch=0.199]\n",
      "Epoch 17:  97%|█████████▋| 28/29 [00:09<00:00,  3.08it/s, v_num=3.41e+7, train_loss_step=0.179, val_loss=0.181, train_loss_epoch=0.199]\n",
      "Epoch 17: 100%|██████████| 29/29 [00:09<00:00,  3.15it/s, v_num=3.41e+7, train_loss_step=0.511, val_loss=0.181, train_loss_epoch=0.199]\n",
      "Validation: |          | 0/? [00:00<?, ?it/s]\u001b[A\n",
      "\u001b[36m(RayTrainWorker pid=9596)\u001b[0m \n",
      "Validation:   0%|          | 0/6 [00:00<?, ?it/s]\u001b[A\n",
      "Validation DataLoader 0:   0%|          | 0/6 [00:00<?, ?it/s]\u001b[A\n",
      "\u001b[36m(RayTrainWorker pid=9596)\u001b[0m \n",
      "Validation DataLoader 0:  17%|█▋        | 1/6 [00:00<00:01,  4.64it/s]\u001b[A\n",
      "\u001b[36m(RayTrainWorker pid=9596)\u001b[0m \n",
      "Validation DataLoader 0:  33%|███▎      | 2/6 [00:00<00:00,  4.09it/s]\u001b[A\n",
      "\u001b[36m(RayTrainWorker pid=9596)\u001b[0m \n",
      "Validation DataLoader 0:  50%|█████     | 3/6 [00:00<00:00,  3.97it/s]\u001b[A\n",
      "\u001b[36m(RayTrainWorker pid=9596)\u001b[0m \n",
      "Validation DataLoader 0:  67%|██████▋   | 4/6 [00:01<00:00,  3.91it/s]\u001b[A\n",
      "\u001b[36m(RayTrainWorker pid=9596)\u001b[0m \n",
      "Validation DataLoader 0:  83%|████████▎ | 5/6 [00:01<00:00,  4.10it/s]\u001b[A\n",
      "\u001b[36m(RayTrainWorker pid=9596)\u001b[0m \n",
      "Validation DataLoader 0: 100%|██████████| 6/6 [00:01<00:00,  4.48it/s]\u001b[A\n",
      "Epoch 17: 100%|██████████| 29/29 [00:10<00:00,  2.73it/s, v_num=3.41e+7, train_loss_step=0.511, val_loss=0.220, train_loss_epoch=0.199]\n",
      "Epoch 17: 100%|██████████| 29/29 [00:10<00:00,  2.68it/s, v_num=3.41e+7, train_loss_step=0.511, val_loss=0.220, train_loss_epoch=0.179]\n",
      "Epoch 18:   0%|          | 0/29 [00:00<?, ?it/s, v_num=3.41e+7, train_loss_step=0.511, val_loss=0.220, train_loss_epoch=0.179]         \n"
     ]
    },
    {
     "name": "stderr",
     "output_type": "stream",
     "text": [
      "\u001b[36m(RayTrainWorker pid=9596)\u001b[0m Checkpoint successfully created at: Checkpoint(filesystem=local, path=/ictstr01/home/aih/serra.korkmaz/projects/saturn/hopt/hpopt_parp1_chembl/ray_results/TorchTrainer_2025-03-11_23-24-45/cdb03fbb/checkpoint_000017)\n"
     ]
    },
    {
     "name": "stdout",
     "output_type": "stream",
     "text": [
      "Epoch 16:  90%|████████▉ | 26/29 [00:10<00:01,  2.48it/s, v_num=3.41e+7, train_loss_step=0.157, val_loss=0.201, train_loss_epoch=0.198]\u001b[32m [repeated 21x across cluster]\u001b[0m\n",
      "\u001b[36m(RayTrainWorker pid=9308)\u001b[0m \n",
      "Epoch 16: 100%|██████████| 29/29 [00:11<00:00,  2.54it/s, v_num=3.41e+7, train_loss_step=0.128, val_loss=0.201, train_loss_epoch=0.198]\u001b[32m [repeated 3x across cluster]\u001b[0m\n",
      "\u001b[36m(RayTrainWorker pid=9308)\u001b[0m \n",
      "Validation: |          | 0/? [00:00<?, ?it/s]\u001b[A\n",
      "Validation:   0%|          | 0/6 [00:00<?, ?it/s]\u001b[A\n",
      "Validation DataLoader 0:   0%|          | 0/6 [00:00<?, ?it/s]\u001b[A\n",
      "\u001b[36m(RayTrainWorker pid=9308)\u001b[0m \n",
      "Validation DataLoader 0:  50%|█████     | 3/6 [00:00<00:00,  3.31it/s]\u001b[A\u001b[32m [repeated 3x across cluster]\u001b[0m\n",
      "\u001b[36m(RayTrainWorker pid=9308)\u001b[0m \n",
      "\u001b[36m(RayTrainWorker pid=9308)\u001b[0m \n"
     ]
    },
    {
     "name": "stderr",
     "output_type": "stream",
     "text": [
      "\u001b[36m(RayTrainWorker pid=9308)\u001b[0m Checkpoint successfully created at: Checkpoint(filesystem=local, path=/ictstr01/home/aih/serra.korkmaz/projects/saturn/hopt/hpopt_parp1_chembl/ray_results/TorchTrainer_2025-03-11_23-24-45/e7d9527d/checkpoint_000016)\n",
      "2025-03-11 23:28:16,956\tWARNING experiment_state.py:206 -- Experiment state snapshotting has been triggered multiple times in the last 5.0 seconds and may become a bottleneck. A snapshot is forced if `CheckpointConfig(num_to_keep)` is set, and a trial has checkpointed >= `num_to_keep` times since the last snapshot.\n",
      "You may want to consider increasing the `CheckpointConfig(num_to_keep)` or decreasing the frequency of saving checkpoints.\n",
      "You can suppress this warning by setting the environment variable TUNE_WARN_EXCESSIVE_EXPERIMENT_CHECKPOINT_SYNC_THRESHOLD_S to a smaller value than the current threshold (5.0). Set it to 0 to completely suppress this warning.\n"
     ]
    },
    {
     "name": "stdout",
     "output_type": "stream",
     "text": [
      "\u001b[36m(RayTrainWorker pid=9308)\u001b[0m \n",
      "Validation DataLoader 0: 100%|██████████| 6/6 [00:01<00:00,  3.38it/s]\u001b[A\n",
      "Epoch 16: 100%|██████████| 29/29 [00:13<00:00,  2.19it/s, v_num=3.41e+7, train_loss_step=0.128, val_loss=0.194, train_loss_epoch=0.198]\n",
      "Epoch 16: 100%|██████████| 29/29 [00:13<00:00,  2.15it/s, v_num=3.41e+7, train_loss_step=0.128, val_loss=0.194, train_loss_epoch=0.204]\n",
      "Epoch 17:   0%|          | 0/29 [00:00<?, ?it/s, v_num=3.41e+7, train_loss_step=0.128, val_loss=0.194, train_loss_epoch=0.204]         \n",
      "Epoch 17:  17%|█▋        | 5/29 [00:02<00:09,  2.40it/s, v_num=3.41e+7, train_loss_step=0.214, val_loss=0.194, train_loss_epoch=0.204]\u001b[32m [repeated 20x across cluster]\u001b[0m\n",
      "Validation DataLoader 0:  83%|████████▎ | 5/6 [00:01<00:00,  3.21it/s]\u001b[A\u001b[32m [repeated 2x across cluster]\u001b[0m\n",
      "Epoch 18:  93%|█████████▎| 27/29 [00:09<00:00,  2.93it/s, v_num=3.41e+7, train_loss_step=0.179, val_loss=0.220, train_loss_epoch=0.179]\n",
      "Epoch 18:  97%|█████████▋| 28/29 [00:09<00:00,  2.96it/s, v_num=3.41e+7, train_loss_step=0.186, val_loss=0.220, train_loss_epoch=0.179]\n",
      "Epoch 18: 100%|██████████| 29/29 [00:09<00:00,  3.04it/s, v_num=3.41e+7, train_loss_step=0.538, val_loss=0.220, train_loss_epoch=0.179]\n",
      "Validation: |          | 0/? [00:00<?, ?it/s]\u001b[A\n",
      "Validation:   0%|          | 0/6 [00:00<?, ?it/s]\u001b[A\n",
      "Validation DataLoader 0:   0%|          | 0/6 [00:00<?, ?it/s]\u001b[A\n",
      "\u001b[36m(RayTrainWorker pid=9596)\u001b[0m \n",
      "\u001b[36m(RayTrainWorker pid=9596)\u001b[0m \n",
      "\u001b[36m(RayTrainWorker pid=9596)\u001b[0m \n",
      "\u001b[36m(RayTrainWorker pid=9596)\u001b[0m \n",
      "\u001b[36m(RayTrainWorker pid=9596)\u001b[0m \n",
      "\u001b[36m(RayTrainWorker pid=9596)\u001b[0m \n",
      "Validation DataLoader 0: 100%|██████████| 6/6 [00:01<00:00,  6.00it/s]\u001b[A\n",
      "Epoch 18: 100%|██████████| 29/29 [00:10<00:00,  2.74it/s, v_num=3.41e+7, train_loss_step=0.538, val_loss=0.183, train_loss_epoch=0.179]\n",
      "Epoch 18: 100%|██████████| 29/29 [00:10<00:00,  2.69it/s, v_num=3.41e+7, train_loss_step=0.538, val_loss=0.183, train_loss_epoch=0.189]\n"
     ]
    },
    {
     "name": "stderr",
     "output_type": "stream",
     "text": [
      "\u001b[36m(RayTrainWorker pid=9596)\u001b[0m Checkpoint successfully created at: Checkpoint(filesystem=local, path=/ictstr01/home/aih/serra.korkmaz/projects/saturn/hopt/hpopt_parp1_chembl/ray_results/TorchTrainer_2025-03-11_23-24-45/cdb03fbb/checkpoint_000018)\n"
     ]
    },
    {
     "name": "stdout",
     "output_type": "stream",
     "text": [
      "Epoch 19:   0%|          | 0/29 [00:00<?, ?it/s, v_num=3.41e+7, train_loss_step=0.538, val_loss=0.183, train_loss_epoch=0.189]         \n",
      "Epoch 17:  69%|██████▉   | 20/29 [00:07<00:03,  2.73it/s, v_num=3.41e+7, train_loss_step=0.208, val_loss=0.194, train_loss_epoch=0.204]\u001b[32m [repeated 24x across cluster]\u001b[0m\n",
      "Validation DataLoader 0:  83%|████████▎ | 5/6 [00:00<00:00,  5.67it/s]\u001b[A\u001b[32m [repeated 5x across cluster]\u001b[0m\n",
      "Epoch 17:  93%|█████████▎| 27/29 [00:10<00:00,  2.65it/s, v_num=3.41e+7, train_loss_step=0.258, val_loss=0.194, train_loss_epoch=0.204]\n",
      "Epoch 17: 100%|██████████| 29/29 [00:10<00:00,  2.75it/s, v_num=3.41e+7, train_loss_step=0.481, val_loss=0.194, train_loss_epoch=0.204]\n",
      "Validation: |          | 0/? [00:00<?, ?it/s]\u001b[A\n",
      "\u001b[36m(RayTrainWorker pid=9308)\u001b[0m \n",
      "Validation:   0%|          | 0/6 [00:00<?, ?it/s]\u001b[A\n",
      "Validation DataLoader 0:   0%|          | 0/6 [00:00<?, ?it/s]\u001b[A\n",
      "\u001b[36m(RayTrainWorker pid=9308)\u001b[0m \n",
      "\u001b[36m(RayTrainWorker pid=9308)\u001b[0m \n",
      "\u001b[36m(RayTrainWorker pid=9308)\u001b[0m \n",
      "\u001b[36m(RayTrainWorker pid=9308)\u001b[0m \n",
      "\u001b[36m(RayTrainWorker pid=9308)\u001b[0m \n",
      "\u001b[36m(RayTrainWorker pid=9308)\u001b[0m \n",
      "Validation DataLoader 0: 100%|██████████| 6/6 [00:01<00:00,  5.11it/s]\u001b[A\n",
      "Epoch 17: 100%|██████████| 29/29 [00:11<00:00,  2.46it/s, v_num=3.41e+7, train_loss_step=0.481, val_loss=0.195, train_loss_epoch=0.204]\n",
      "Epoch 17: 100%|██████████| 29/29 [00:11<00:00,  2.43it/s, v_num=3.41e+7, train_loss_step=0.481, val_loss=0.195, train_loss_epoch=0.181]\n"
     ]
    },
    {
     "name": "stderr",
     "output_type": "stream",
     "text": [
      "\u001b[36m(RayTrainWorker pid=9308)\u001b[0m Checkpoint successfully created at: Checkpoint(filesystem=local, path=/ictstr01/home/aih/serra.korkmaz/projects/saturn/hopt/hpopt_parp1_chembl/ray_results/TorchTrainer_2025-03-11_23-24-45/e7d9527d/checkpoint_000017)\n"
     ]
    },
    {
     "name": "stdout",
     "output_type": "stream",
     "text": [
      "Epoch 18:   0%|          | 0/29 [00:00<?, ?it/s, v_num=3.41e+7, train_loss_step=0.481, val_loss=0.195, train_loss_epoch=0.181]         \n",
      "Epoch 18:   3%|▎         | 1/29 [00:00<00:08,  3.36it/s, v_num=3.41e+7, train_loss_step=0.151, val_loss=0.195, train_loss_epoch=0.181]\u001b[32m [repeated 24x across cluster]\u001b[0m\n",
      "Validation DataLoader 0:  83%|████████▎ | 5/6 [00:01<00:00,  4.85it/s]\u001b[A\u001b[32m [repeated 5x across cluster]\u001b[0m\n",
      "\u001b[36m(RayTrainWorker pid=9596)\u001b[0m \n",
      "\u001b[36m(RayTrainWorker pid=9596)\u001b[0m \n",
      "\u001b[36m(RayTrainWorker pid=9596)\u001b[0m \n",
      "Epoch 19: 100%|██████████| 29/29 [00:08<00:00,  3.36it/s, v_num=3.41e+7, train_loss_step=0.216, val_loss=0.183, train_loss_epoch=0.189]\u001b[32m [repeated 3x across cluster]\u001b[0m\n",
      "\u001b[36m(RayTrainWorker pid=9596)\u001b[0m \n",
      "Validation: |          | 0/? [00:00<?, ?it/s]\u001b[A\n",
      "Validation:   0%|          | 0/6 [00:00<?, ?it/s]\u001b[A\n",
      "Validation DataLoader 0:   0%|          | 0/6 [00:00<?, ?it/s]\u001b[A\n",
      "\u001b[36m(RayTrainWorker pid=9596)\u001b[0m \n",
      "\u001b[36m(RayTrainWorker pid=9596)\u001b[0m \n",
      "\u001b[36m(RayTrainWorker pid=9596)\u001b[0m \n",
      "\u001b[36m(RayTrainWorker pid=9596)\u001b[0m \n"
     ]
    },
    {
     "name": "stderr",
     "output_type": "stream",
     "text": [
      "2025-03-11 23:28:33,626\tWARNING experiment_state.py:206 -- Experiment state snapshotting has been triggered multiple times in the last 5.0 seconds and may become a bottleneck. A snapshot is forced if `CheckpointConfig(num_to_keep)` is set, and a trial has checkpointed >= `num_to_keep` times since the last snapshot.\n",
      "You may want to consider increasing the `CheckpointConfig(num_to_keep)` or decreasing the frequency of saving checkpoints.\n",
      "You can suppress this warning by setting the environment variable TUNE_WARN_EXCESSIVE_EXPERIMENT_CHECKPOINT_SYNC_THRESHOLD_S to a smaller value than the current threshold (5.0). Set it to 0 to completely suppress this warning.\n",
      "\u001b[36m(RayTrainWorker pid=9596)\u001b[0m `Trainer.fit` stopped: `max_epochs=20` reached.\n"
     ]
    },
    {
     "name": "stdout",
     "output_type": "stream",
     "text": [
      "Validation DataLoader 0: 100%|██████████| 6/6 [00:01<00:00,  3.99it/s]\u001b[A\n",
      "Epoch 19: 100%|██████████| 29/29 [00:10<00:00,  2.84it/s, v_num=3.41e+7, train_loss_step=0.216, val_loss=0.185, train_loss_epoch=0.189]\n",
      "Epoch 19: 100%|██████████| 29/29 [00:10<00:00,  2.76it/s, v_num=3.41e+7, train_loss_step=0.216, val_loss=0.185, train_loss_epoch=0.174]\u001b[32m [repeated 2x across cluster]\u001b[0m\n",
      "Epoch 18:  55%|█████▌    | 16/29 [00:05<00:04,  2.96it/s, v_num=3.41e+7, train_loss_step=0.194, val_loss=0.195, train_loss_epoch=0.181]\u001b[32m [repeated 22x across cluster]\u001b[0m\n",
      "Validation DataLoader 0:  83%|████████▎ | 5/6 [00:01<00:00,  3.77it/s]\u001b[A\u001b[32m [repeated 5x across cluster]\u001b[0m\n",
      "Epoch 18:  93%|█████████▎| 27/29 [00:08<00:00,  3.18it/s, v_num=3.41e+7, train_loss_step=0.182, val_loss=0.195, train_loss_epoch=0.181]\n",
      "Epoch 18:  97%|█████████▋| 28/29 [00:08<00:00,  3.20it/s, v_num=3.41e+7, train_loss_step=0.180, val_loss=0.195, train_loss_epoch=0.181]\n",
      "Epoch 18: 100%|██████████| 29/29 [00:08<00:00,  3.28it/s, v_num=3.41e+7, train_loss_step=0.531, val_loss=0.195, train_loss_epoch=0.181]\n",
      "Validation: |          | 0/? [00:00<?, ?it/s]\u001b[A\n",
      "Validation:   0%|          | 0/6 [00:00<?, ?it/s]\u001b[A\n",
      "Validation DataLoader 0:   0%|          | 0/6 [00:00<?, ?it/s]\u001b[A\n",
      "\u001b[36m(RayTrainWorker pid=9308)\u001b[0m \n",
      "\u001b[36m(RayTrainWorker pid=9308)\u001b[0m \n",
      "\u001b[36m(RayTrainWorker pid=9308)\u001b[0m \n",
      "\u001b[36m(RayTrainWorker pid=9308)\u001b[0m \n",
      "\u001b[36m(RayTrainWorker pid=9308)\u001b[0m \n",
      "\u001b[36m(RayTrainWorker pid=9308)\u001b[0m \n",
      "Validation DataLoader 0: 100%|██████████| 6/6 [00:01<00:00,  5.29it/s]\u001b[A\n",
      "Epoch 18: 100%|██████████| 29/29 [00:10<00:00,  2.90it/s, v_num=3.41e+7, train_loss_step=0.531, val_loss=0.190, train_loss_epoch=0.181]\n"
     ]
    },
    {
     "name": "stderr",
     "output_type": "stream",
     "text": [
      "\u001b[36m(RayTrainWorker pid=9308)\u001b[0m Checkpoint successfully created at: Checkpoint(filesystem=local, path=/ictstr01/home/aih/serra.korkmaz/projects/saturn/hopt/hpopt_parp1_chembl/ray_results/TorchTrainer_2025-03-11_23-24-45/e7d9527d/checkpoint_000018)\u001b[32m [repeated 2x across cluster]\u001b[0m\n"
     ]
    },
    {
     "name": "stdout",
     "output_type": "stream",
     "text": [
      "Epoch 19:   0%|          | 0/29 [00:00<?, ?it/s, v_num=3.41e+7, train_loss_step=0.531, val_loss=0.190, train_loss_epoch=0.189]         \n",
      "Epoch 19:   3%|▎         | 1/29 [00:00<00:07,  3.61it/s, v_num=3.41e+7, train_loss_step=0.142, val_loss=0.190, train_loss_epoch=0.189]\u001b[32m [repeated 11x across cluster]\u001b[0m\n",
      "Validation DataLoader 0:  83%|████████▎ | 5/6 [00:00<00:00,  5.01it/s]\u001b[A\u001b[32m [repeated 5x across cluster]\u001b[0m\n",
      "Epoch 19:  69%|██████▉   | 20/29 [00:05<00:02,  3.65it/s, v_num=3.41e+7, train_loss_step=0.192, val_loss=0.190, train_loss_epoch=0.189]\u001b[32m [repeated 19x across cluster]\u001b[0m\n",
      "Epoch 19:  93%|█████████▎| 27/29 [00:07<00:00,  3.66it/s, v_num=3.41e+7, train_loss_step=0.239, val_loss=0.190, train_loss_epoch=0.189]\n",
      "Epoch 19:  97%|█████████▋| 28/29 [00:07<00:00,  3.66it/s, v_num=3.41e+7, train_loss_step=0.248, val_loss=0.190, train_loss_epoch=0.189]\n",
      "Epoch 19: 100%|██████████| 29/29 [00:07<00:00,  3.76it/s, v_num=3.41e+7, train_loss_step=0.200, val_loss=0.190, train_loss_epoch=0.189]\n",
      "Validation: |          | 0/? [00:00<?, ?it/s]\u001b[A\n",
      "Validation:   0%|          | 0/6 [00:00<?, ?it/s]\u001b[A\n",
      "Validation DataLoader 0:   0%|          | 0/6 [00:00<?, ?it/s]\u001b[A\n",
      "\u001b[36m(RayTrainWorker pid=9308)\u001b[0m \n",
      "Validation DataLoader 0:  17%|█▋        | 1/6 [00:00<00:00,  5.84it/s]\u001b[A\n",
      "\u001b[36m(RayTrainWorker pid=9308)\u001b[0m \n",
      "Validation DataLoader 0:  33%|███▎      | 2/6 [00:00<00:00,  5.23it/s]\u001b[A\n",
      "\u001b[36m(RayTrainWorker pid=9308)\u001b[0m \n",
      "Validation DataLoader 0:  50%|█████     | 3/6 [00:00<00:00,  5.17it/s]\u001b[A\n",
      "\u001b[36m(RayTrainWorker pid=9308)\u001b[0m \n",
      "Validation DataLoader 0:  67%|██████▋   | 4/6 [00:00<00:00,  5.13it/s]\u001b[A\n",
      "\u001b[36m(RayTrainWorker pid=9308)\u001b[0m \n",
      "Validation DataLoader 0:  83%|████████▎ | 5/6 [00:00<00:00,  5.04it/s]\u001b[A\n",
      "\u001b[36m(RayTrainWorker pid=9308)\u001b[0m \n",
      "Validation DataLoader 0: 100%|██████████| 6/6 [00:01<00:00,  5.31it/s]\u001b[A\n",
      "Epoch 19: 100%|██████████| 29/29 [00:08<00:00,  3.26it/s, v_num=3.41e+7, train_loss_step=0.200, val_loss=0.183, train_loss_epoch=0.189]\n",
      "Epoch 19: 100%|██████████| 29/29 [00:09<00:00,  3.21it/s, v_num=3.41e+7, train_loss_step=0.200, val_loss=0.183, train_loss_epoch=0.178]\n"
     ]
    },
    {
     "name": "stderr",
     "output_type": "stream",
     "text": [
      "\u001b[36m(RayTrainWorker pid=9308)\u001b[0m Checkpoint successfully created at: Checkpoint(filesystem=local, path=/ictstr01/home/aih/serra.korkmaz/projects/saturn/hopt/hpopt_parp1_chembl/ray_results/TorchTrainer_2025-03-11_23-24-45/e7d9527d/checkpoint_000019)\n",
      "\u001b[36m(RayTrainWorker pid=9308)\u001b[0m `Trainer.fit` stopped: `max_epochs=20` reached.\n"
     ]
    },
    {
     "name": "stdout",
     "output_type": "stream",
     "text": [
      "Epoch 19: 100%|██████████| 29/29 [00:09<00:00,  3.18it/s, v_num=3.41e+7, train_loss_step=0.200, val_loss=0.183, train_loss_epoch=0.178]\n"
     ]
    },
    {
     "name": "stderr",
     "output_type": "stream",
     "text": [
      "2025-03-11 23:28:49,746\tINFO tune.py:1009 -- Wrote the latest version of all result files and experiment state to '/ictstr01/home/aih/serra.korkmaz/projects/saturn/hopt/hpopt_parp1_chembl/ray_results/TorchTrainer_2025-03-11_23-24-45' in 0.0060s.\n",
      "2025-03-11 23:28:49,751\tINFO tune.py:1041 -- Total run time: 244.22 seconds (244.01 seconds for the tuning loop).\n"
     ]
    }
   ],
   "source": [
    "ray.init()\n",
    "\n",
    "scheduler = FIFOScheduler()\n",
    "\n",
    "# Scaling config controls the resources used by Ray\n",
    "scaling_config = ScalingConfig(\n",
    "    num_workers=1,\n",
    "    use_gpu=False, # change to True if you want to use GPU\n",
    ")\n",
    "\n",
    "# Checkpoint config controls the checkpointing behavior of Ray\n",
    "checkpoint_config = CheckpointConfig(\n",
    "    num_to_keep=1, # number of checkpoints to keep\n",
    "    checkpoint_score_attribute=\"val_loss\", # Save the checkpoint based on this metric\n",
    "    checkpoint_score_order=\"min\", # Save the checkpoint with the lowest metric value\n",
    ")\n",
    "\n",
    "run_config = RunConfig(\n",
    "    checkpoint_config=checkpoint_config,\n",
    "    storage_path=hpopt_save_dir / \"ray_results\", # directory to save the results\n",
    ")\n",
    "\n",
    "ray_trainer = TorchTrainer(\n",
    "    lambda config: train_model(\n",
    "        config, train_dset, val_dset, num_workers, scaler\n",
    "    ),\n",
    "    scaling_config=scaling_config,\n",
    "    run_config=run_config,\n",
    ")\n",
    "\n",
    "search_alg = HyperOptSearch(\n",
    "    n_initial_points=1, # number of random evaluations before tree parzen estimators\n",
    "    random_state_seed=42,\n",
    ")\n",
    "\n",
    "# OptunaSearch is another search algorithm that can be used\n",
    "# search_alg = OptunaSearch()\n",
    "\n",
    "tune_config = tune.TuneConfig(\n",
    "    metric=\"val_loss\",\n",
    "    mode=\"min\",\n",
    "    num_samples=2, # number of trials to run\n",
    "    scheduler=scheduler,\n",
    "    search_alg=search_alg,\n",
    "    trial_dirname_creator=lambda trial: str(trial.trial_id), # shorten filepaths\n",
    "\n",
    ")\n",
    "\n",
    "tuner = tune.Tuner(\n",
    "    ray_trainer,\n",
    "    param_space={\n",
    "        \"train_loop_config\": search_space,\n",
    "    },\n",
    "    tune_config=tune_config,\n",
    ")\n",
    "\n",
    "# Start the hyperparameter search\n",
    "results = tuner.fit()"
   ]
  },
  {
   "cell_type": "code",
   "execution_count": 9,
   "id": "58abd66a-7791-41d5-b392-53fce5167960",
   "metadata": {},
   "outputs": [
    {
     "data": {
      "text/plain": [
       "ResultGrid<[\n",
       "  Result(\n",
       "    metrics={'train_loss': 0.17764407396316528, 'train_loss_step': 0.19971713423728943, 'val/rmse': 0.42759817838668823, 'val/mae': 0.3332993686199188, 'val_loss': 0.18284019827842712, 'train_loss_epoch': 0.17764407396316528, 'epoch': 19, 'step': 580},\n",
       "    path='/ictstr01/home/aih/serra.korkmaz/projects/saturn/hopt/hpopt_parp1_chembl/ray_results/TorchTrainer_2025-03-11_23-24-45/e7d9527d',\n",
       "    filesystem='local',\n",
       "    checkpoint=Checkpoint(filesystem=local, path=/ictstr01/home/aih/serra.korkmaz/projects/saturn/hopt/hpopt_parp1_chembl/ray_results/TorchTrainer_2025-03-11_23-24-45/e7d9527d/checkpoint_000019)\n",
       "  ),\n",
       "  Result(\n",
       "    metrics={'train_loss': 0.17440705001354218, 'train_loss_step': 0.21562685072422028, 'val/rmse': 0.4305730164051056, 'val/mae': 0.33908089995384216, 'val_loss': 0.18539312481880188, 'train_loss_epoch': 0.17440705001354218, 'epoch': 19, 'step': 580},\n",
       "    path='/ictstr01/home/aih/serra.korkmaz/projects/saturn/hopt/hpopt_parp1_chembl/ray_results/TorchTrainer_2025-03-11_23-24-45/cdb03fbb',\n",
       "    filesystem='local',\n",
       "    checkpoint=Checkpoint(filesystem=local, path=/ictstr01/home/aih/serra.korkmaz/projects/saturn/hopt/hpopt_parp1_chembl/ray_results/TorchTrainer_2025-03-11_23-24-45/cdb03fbb/checkpoint_000019)\n",
       "  )\n",
       "]>"
      ]
     },
     "execution_count": 9,
     "metadata": {},
     "output_type": "execute_result"
    }
   ],
   "source": [
    "results"
   ]
  },
  {
   "cell_type": "code",
   "execution_count": 10,
   "id": "d3936aab-2566-49a1-88a7-0f0425665d3e",
   "metadata": {},
   "outputs": [
    {
     "data": {
      "text/html": [
       "<div>\n",
       "<style scoped>\n",
       "    .dataframe tbody tr th:only-of-type {\n",
       "        vertical-align: middle;\n",
       "    }\n",
       "\n",
       "    .dataframe tbody tr th {\n",
       "        vertical-align: top;\n",
       "    }\n",
       "\n",
       "    .dataframe thead th {\n",
       "        text-align: right;\n",
       "    }\n",
       "</style>\n",
       "<table border=\"1\" class=\"dataframe\">\n",
       "  <thead>\n",
       "    <tr style=\"text-align: right;\">\n",
       "      <th></th>\n",
       "      <th>train_loss</th>\n",
       "      <th>train_loss_step</th>\n",
       "      <th>val/rmse</th>\n",
       "      <th>val/mae</th>\n",
       "      <th>val_loss</th>\n",
       "      <th>train_loss_epoch</th>\n",
       "      <th>epoch</th>\n",
       "      <th>step</th>\n",
       "      <th>timestamp</th>\n",
       "      <th>checkpoint_dir_name</th>\n",
       "      <th>...</th>\n",
       "      <th>pid</th>\n",
       "      <th>hostname</th>\n",
       "      <th>node_ip</th>\n",
       "      <th>time_since_restore</th>\n",
       "      <th>iterations_since_restore</th>\n",
       "      <th>config/train_loop_config/depth</th>\n",
       "      <th>config/train_loop_config/ffn_hidden_dim</th>\n",
       "      <th>config/train_loop_config/ffn_num_layers</th>\n",
       "      <th>config/train_loop_config/message_hidden_dim</th>\n",
       "      <th>logdir</th>\n",
       "    </tr>\n",
       "  </thead>\n",
       "  <tbody>\n",
       "    <tr>\n",
       "      <th>0</th>\n",
       "      <td>0.177644</td>\n",
       "      <td>0.199717</td>\n",
       "      <td>0.427598</td>\n",
       "      <td>0.333299</td>\n",
       "      <td>0.182840</td>\n",
       "      <td>0.177644</td>\n",
       "      <td>19</td>\n",
       "      <td>580</td>\n",
       "      <td>1741732128</td>\n",
       "      <td>checkpoint_000019</td>\n",
       "      <td>...</td>\n",
       "      <td>9073</td>\n",
       "      <td>cpusrv10.scidom.de</td>\n",
       "      <td>10.233.0.20</td>\n",
       "      <td>233.225959</td>\n",
       "      <td>20</td>\n",
       "      <td>2</td>\n",
       "      <td>2000</td>\n",
       "      <td>2</td>\n",
       "      <td>500</td>\n",
       "      <td>e7d9527d</td>\n",
       "    </tr>\n",
       "    <tr>\n",
       "      <th>1</th>\n",
       "      <td>0.174407</td>\n",
       "      <td>0.215627</td>\n",
       "      <td>0.430573</td>\n",
       "      <td>0.339081</td>\n",
       "      <td>0.185393</td>\n",
       "      <td>0.174407</td>\n",
       "      <td>19</td>\n",
       "      <td>580</td>\n",
       "      <td>1741732113</td>\n",
       "      <td>checkpoint_000019</td>\n",
       "      <td>...</td>\n",
       "      <td>9309</td>\n",
       "      <td>cpusrv10.scidom.de</td>\n",
       "      <td>10.233.0.20</td>\n",
       "      <td>209.044712</td>\n",
       "      <td>20</td>\n",
       "      <td>2</td>\n",
       "      <td>2200</td>\n",
       "      <td>2</td>\n",
       "      <td>400</td>\n",
       "      <td>cdb03fbb</td>\n",
       "    </tr>\n",
       "  </tbody>\n",
       "</table>\n",
       "<p>2 rows × 27 columns</p>\n",
       "</div>"
      ],
      "text/plain": [
       "   train_loss  train_loss_step  val/rmse   val/mae  val_loss  \\\n",
       "0    0.177644         0.199717  0.427598  0.333299  0.182840   \n",
       "1    0.174407         0.215627  0.430573  0.339081  0.185393   \n",
       "\n",
       "   train_loss_epoch  epoch  step   timestamp checkpoint_dir_name  ...   pid  \\\n",
       "0          0.177644     19   580  1741732128   checkpoint_000019  ...  9073   \n",
       "1          0.174407     19   580  1741732113   checkpoint_000019  ...  9309   \n",
       "\n",
       "             hostname      node_ip time_since_restore  \\\n",
       "0  cpusrv10.scidom.de  10.233.0.20         233.225959   \n",
       "1  cpusrv10.scidom.de  10.233.0.20         209.044712   \n",
       "\n",
       "  iterations_since_restore  config/train_loop_config/depth  \\\n",
       "0                       20                               2   \n",
       "1                       20                               2   \n",
       "\n",
       "   config/train_loop_config/ffn_hidden_dim  \\\n",
       "0                                     2000   \n",
       "1                                     2200   \n",
       "\n",
       "   config/train_loop_config/ffn_num_layers  \\\n",
       "0                                        2   \n",
       "1                                        2   \n",
       "\n",
       "  config/train_loop_config/message_hidden_dim    logdir  \n",
       "0                                         500  e7d9527d  \n",
       "1                                         400  cdb03fbb  \n",
       "\n",
       "[2 rows x 27 columns]"
      ]
     },
     "execution_count": 10,
     "metadata": {},
     "output_type": "execute_result"
    }
   ],
   "source": [
    "result_df = results.get_dataframe()\n",
    "result_df"
   ]
  },
  {
   "cell_type": "code",
   "execution_count": 11,
   "id": "2e8dd786-358c-46cd-b69c-9e6b1f2343aa",
   "metadata": {},
   "outputs": [
    {
     "data": {
      "text/plain": [
       "{'depth': 2,\n",
       " 'ffn_hidden_dim': 2000,\n",
       " 'ffn_num_layers': 2,\n",
       " 'message_hidden_dim': 500}"
      ]
     },
     "execution_count": 11,
     "metadata": {},
     "output_type": "execute_result"
    }
   ],
   "source": [
    "# best configuration\n",
    "best_result = results.get_best_result()\n",
    "best_config = best_result.config\n",
    "best_config['train_loop_config']"
   ]
  },
  {
   "cell_type": "code",
   "execution_count": 12,
   "id": "ce9c0344-f3d8-463f-ab5e-6612385cf99e",
   "metadata": {},
   "outputs": [
    {
     "name": "stdout",
     "output_type": "stream",
     "text": [
      "Best model checkpoint path: /ictstr01/home/aih/serra.korkmaz/projects/saturn/hopt/hpopt_parp1_chembl/ray_results/TorchTrainer_2025-03-11_23-24-45/e7d9527d/checkpoint_000019/checkpoint.ckpt\n"
     ]
    }
   ],
   "source": [
    "# best model checkpoint path\n",
    "best_result = results.get_best_result()\n",
    "best_checkpoint_path = Path(best_result.checkpoint.path) / \"checkpoint.ckpt\"\n",
    "print(f\"Best model checkpoint path: {best_checkpoint_path}\")"
   ]
  },
  {
   "cell_type": "code",
   "execution_count": 13,
   "id": "8c8d7370-2604-4965-93ad-ea8bdeb1eca4",
   "metadata": {},
   "outputs": [
    {
     "data": {
      "text/plain": [
       "MPNN(\n",
       "  (message_passing): BondMessagePassing(\n",
       "    (W_i): Linear(in_features=86, out_features=500, bias=False)\n",
       "    (W_h): Linear(in_features=500, out_features=500, bias=False)\n",
       "    (W_o): Linear(in_features=572, out_features=500, bias=True)\n",
       "    (dropout): Dropout(p=0.0, inplace=False)\n",
       "    (tau): ReLU()\n",
       "    (V_d_transform): Identity()\n",
       "    (graph_transform): Identity()\n",
       "  )\n",
       "  (agg): MeanAggregation()\n",
       "  (bn): BatchNorm1d(500, eps=1e-05, momentum=0.1, affine=True, track_running_stats=True)\n",
       "  (predictor): RegressionFFN(\n",
       "    (ffn): MLP(\n",
       "      (0): Sequential(\n",
       "        (0): Linear(in_features=500, out_features=2000, bias=True)\n",
       "      )\n",
       "      (1): Sequential(\n",
       "        (0): ReLU()\n",
       "        (1): Dropout(p=0.0, inplace=False)\n",
       "        (2): Linear(in_features=2000, out_features=2000, bias=True)\n",
       "      )\n",
       "      (2): Sequential(\n",
       "        (0): ReLU()\n",
       "        (1): Dropout(p=0.0, inplace=False)\n",
       "        (2): Linear(in_features=2000, out_features=1, bias=True)\n",
       "      )\n",
       "    )\n",
       "    (criterion): MSE(task_weights=[[1.0]])\n",
       "    (output_transform): UnscaleTransform()\n",
       "  )\n",
       "  (X_d_transform): Identity()\n",
       "  (metrics): ModuleList(\n",
       "    (0): RMSE(task_weights=[[1.0]])\n",
       "    (1): MAE(task_weights=[[1.0]])\n",
       "    (2): MSE(task_weights=[[1.0]])\n",
       "  )\n",
       ")"
      ]
     },
     "execution_count": 13,
     "metadata": {},
     "output_type": "execute_result"
    }
   ],
   "source": [
    "mpnn = models.MPNN.load_from_checkpoint(best_checkpoint_path)\n",
    "mpnn"
   ]
  },
  {
   "cell_type": "code",
   "execution_count": 14,
   "id": "4a8a34e4-ca47-44b9-8cf3-7f6ac5b152ea",
   "metadata": {},
   "outputs": [
    {
     "name": "stderr",
     "output_type": "stream",
     "text": [
      "GPU available: False, used: False\n",
      "TPU available: False, using: 0 TPU cores\n",
      "HPU available: False, using: 0 HPUs\n",
      "/home/aih/serra.korkmaz/miniconda3/envs/saturn/lib/python3.11/site-packages/lightning/pytorch/core/saving.py:363: Skipping 'metrics' parameter because it is not possible to safely dump to YAML.\n",
      "SLURM auto-requeueing enabled. Setting signal handlers.\n",
      "/home/aih/serra.korkmaz/miniconda3/envs/saturn/lib/python3.11/site-packages/lightning/pytorch/trainer/connectors/data_connector.py:425: The 'predict_dataloader' does not have many workers which may be a bottleneck. Consider increasing the value of the `num_workers` argument` to `num_workers=3` in the `DataLoader` to improve performance.\n"
     ]
    },
    {
     "name": "stdout",
     "output_type": "stream",
     "text": [
      "Predicting DataLoader 0: 100%|██████████| 4/4 [00:00<00:00, 13.74it/s]\n"
     ]
    }
   ],
   "source": [
    "import torch\n",
    "test_loader = data.build_dataloader(test_dset, shuffle=False)\n",
    "with torch.inference_mode():\n",
    "    trainer = pl.Trainer(\n",
    "        logger=None,\n",
    "        enable_progress_bar=True,\n",
    "        accelerator=\"cpu\",\n",
    "        devices=1\n",
    "    )\n",
    "    test_preds = trainer.predict(mpnn, test_loader)"
   ]
  },
  {
   "cell_type": "code",
   "execution_count": 15,
   "id": "69b84a2f-36df-415a-af1c-f7595b59b7d5",
   "metadata": {},
   "outputs": [
    {
     "data": {
      "text/html": [
       "<div>\n",
       "<style scoped>\n",
       "    .dataframe tbody tr th:only-of-type {\n",
       "        vertical-align: middle;\n",
       "    }\n",
       "\n",
       "    .dataframe tbody tr th {\n",
       "        vertical-align: top;\n",
       "    }\n",
       "\n",
       "    .dataframe thead th {\n",
       "        text-align: right;\n",
       "    }\n",
       "</style>\n",
       "<table border=\"1\" class=\"dataframe\">\n",
       "  <thead>\n",
       "    <tr style=\"text-align: right;\">\n",
       "      <th></th>\n",
       "      <th>smiles</th>\n",
       "      <th>value</th>\n",
       "      <th>preds</th>\n",
       "    </tr>\n",
       "  </thead>\n",
       "  <tbody>\n",
       "    <tr>\n",
       "      <th>0</th>\n",
       "      <td>O=C(Nc1ccc(F)cc1)C(c1ccccc1)N1CCN(c2ccncc2)CC1</td>\n",
       "      <td>10.2</td>\n",
       "      <td>9.263510</td>\n",
       "    </tr>\n",
       "    <tr>\n",
       "      <th>1</th>\n",
       "      <td>CN1CCN(c2ccc(N=c3c4c([nH]c5cc(Cl)ccc35)CCCC4)c...</td>\n",
       "      <td>10.1</td>\n",
       "      <td>10.200547</td>\n",
       "    </tr>\n",
       "    <tr>\n",
       "      <th>2</th>\n",
       "      <td>Cc1ccccc1C(CC(=O)O)NC(=O)c1cccc(-c2ccc(F)cc2)n1</td>\n",
       "      <td>9.6</td>\n",
       "      <td>9.614477</td>\n",
       "    </tr>\n",
       "    <tr>\n",
       "      <th>3</th>\n",
       "      <td>N=c1ncc(-c2nc(N3CCOCC3)nc3c2CCN3C2CCN(C=O)C2)c...</td>\n",
       "      <td>9.6</td>\n",
       "      <td>10.106661</td>\n",
       "    </tr>\n",
       "    <tr>\n",
       "      <th>4</th>\n",
       "      <td>CC1Cc2c([nH]c3ccc(F)cc23)C2(CCC(c3ccccc3)(N(C)...</td>\n",
       "      <td>11.0</td>\n",
       "      <td>9.614639</td>\n",
       "    </tr>\n",
       "    <tr>\n",
       "      <th>...</th>\n",
       "      <td>...</td>\n",
       "      <td>...</td>\n",
       "      <td>...</td>\n",
       "    </tr>\n",
       "    <tr>\n",
       "      <th>195</th>\n",
       "      <td>COC(=O)NC(C(=O)NC(Cc1ccccc1)C(O)CN(OC1CCCC1)S(...</td>\n",
       "      <td>9.3</td>\n",
       "      <td>8.376485</td>\n",
       "    </tr>\n",
       "    <tr>\n",
       "      <th>196</th>\n",
       "      <td>Cc1cc2c(cc1Cl)SC(C(=O)c1ccc(Br)cc1)=NS2(=O)=O</td>\n",
       "      <td>8.9</td>\n",
       "      <td>8.245093</td>\n",
       "    </tr>\n",
       "    <tr>\n",
       "      <th>197</th>\n",
       "      <td>COc1ccc(C(=O)OC(C=C(C)C)CC(C)C2CCC3(C)C4C(OC)C...</td>\n",
       "      <td>9.3</td>\n",
       "      <td>9.744071</td>\n",
       "    </tr>\n",
       "    <tr>\n",
       "      <th>198</th>\n",
       "      <td>Cc1nc2ccccc2nc1N1CC2CN(C(=O)c3ccccc3-c3nc[nH]n...</td>\n",
       "      <td>10.7</td>\n",
       "      <td>10.607141</td>\n",
       "    </tr>\n",
       "    <tr>\n",
       "      <th>199</th>\n",
       "      <td>CC1COc2ccccc2N1C(=O)c1cscn1</td>\n",
       "      <td>7.2</td>\n",
       "      <td>7.418598</td>\n",
       "    </tr>\n",
       "  </tbody>\n",
       "</table>\n",
       "<p>200 rows × 3 columns</p>\n",
       "</div>"
      ],
      "text/plain": [
       "                                                smiles  value      preds\n",
       "0       O=C(Nc1ccc(F)cc1)C(c1ccccc1)N1CCN(c2ccncc2)CC1   10.2   9.263510\n",
       "1    CN1CCN(c2ccc(N=c3c4c([nH]c5cc(Cl)ccc35)CCCC4)c...   10.1  10.200547\n",
       "2      Cc1ccccc1C(CC(=O)O)NC(=O)c1cccc(-c2ccc(F)cc2)n1    9.6   9.614477\n",
       "3    N=c1ncc(-c2nc(N3CCOCC3)nc3c2CCN3C2CCN(C=O)C2)c...    9.6  10.106661\n",
       "4    CC1Cc2c([nH]c3ccc(F)cc23)C2(CCC(c3ccccc3)(N(C)...   11.0   9.614639\n",
       "..                                                 ...    ...        ...\n",
       "195  COC(=O)NC(C(=O)NC(Cc1ccccc1)C(O)CN(OC1CCCC1)S(...    9.3   8.376485\n",
       "196      Cc1cc2c(cc1Cl)SC(C(=O)c1ccc(Br)cc1)=NS2(=O)=O    8.9   8.245093\n",
       "197  COc1ccc(C(=O)OC(C=C(C)C)CC(C)C2CCC3(C)C4C(OC)C...    9.3   9.744071\n",
       "198  Cc1nc2ccccc2nc1N1CC2CN(C(=O)c3ccccc3-c3nc[nH]n...   10.7  10.607141\n",
       "199                        CC1COc2ccccc2N1C(=O)c1cscn1    7.2   7.418598\n",
       "\n",
       "[200 rows x 3 columns]"
      ]
     },
     "execution_count": 15,
     "metadata": {},
     "output_type": "execute_result"
    }
   ],
   "source": [
    "import numpy as np\n",
    "test_preds = np.concatenate(test_preds, axis=0)\n",
    "df_test['preds'] = test_preds\n",
    "df_test"
   ]
  },
  {
   "cell_type": "code",
   "execution_count": null,
   "id": "3de73bcf-ab98-4b62-a767-33f347950575",
   "metadata": {},
   "outputs": [],
   "source": []
  },
  {
   "cell_type": "code",
   "execution_count": null,
   "id": "02182757-35e6-4af4-95cb-5dfc58ce8afc",
   "metadata": {},
   "outputs": [],
   "source": []
  }
 ],
 "metadata": {
  "kernelspec": {
   "display_name": "Python 3 (ipykernel)",
   "language": "python",
   "name": "python3"
  },
  "language_info": {
   "codemirror_mode": {
    "name": "ipython",
    "version": 3
   },
   "file_extension": ".py",
   "mimetype": "text/x-python",
   "name": "python",
   "nbconvert_exporter": "python",
   "pygments_lexer": "ipython3",
   "version": "3.11.8"
  }
 },
 "nbformat": 4,
 "nbformat_minor": 5
}
