{
 "cells": [
  {
   "cell_type": "code",
   "execution_count": 1,
   "id": "6192b6bb-dd6f-43c8-9752-05f9de1700b4",
   "metadata": {},
   "outputs": [
    {
     "name": "stderr",
     "output_type": "stream",
     "text": [
      "/home/aih/serra.korkmaz/miniconda3/envs/saturn/lib/python3.11/site-packages/tqdm/auto.py:21: TqdmWarning: IProgress not found. Please update jupyter and ipywidgets. See https://ipywidgets.readthedocs.io/en/stable/user_install.html\n",
      "  from .autonotebook import tqdm as notebook_tqdm\n",
      "2025-03-11 23:30:45,988\tINFO util.py:154 -- Missing packages: ['ipywidgets']. Run `pip install -U ipywidgets`, then restart the notebook server for rich notebook output.\n",
      "2025-03-11 23:30:46,275\tINFO util.py:154 -- Missing packages: ['ipywidgets']. Run `pip install -U ipywidgets`, then restart the notebook server for rich notebook output.\n",
      "2025-03-11 23:30:46,665\tINFO util.py:154 -- Missing packages: ['ipywidgets']. Run `pip install -U ipywidgets`, then restart the notebook server for rich notebook output.\n"
     ]
    }
   ],
   "source": [
    "from pathlib import Path\n",
    "\n",
    "import pandas as pd\n",
    "from lightning import pytorch as pl\n",
    "import ray\n",
    "from ray import tune\n",
    "from ray.train import CheckpointConfig, RunConfig, ScalingConfig\n",
    "from ray.train.lightning import (RayDDPStrategy, RayLightningEnvironment,\n",
    "                                 RayTrainReportCallback, prepare_trainer)\n",
    "from ray.train.torch import TorchTrainer\n",
    "from ray.tune.search.hyperopt import HyperOptSearch\n",
    "from ray.tune.search.optuna import OptunaSearch\n",
    "from ray.tune.schedulers import FIFOScheduler\n",
    "\n",
    "from chemprop import data, featurizers, models, nn"
   ]
  },
  {
   "cell_type": "code",
   "execution_count": 2,
   "id": "afed6433-23c1-499c-9c56-03c725f26577",
   "metadata": {},
   "outputs": [],
   "source": [
    "chemprop_dir = Path.cwd().parent\n",
    "train_path = \"train_data_parp1.csv\"\n",
    "test_path = \"test_data_parp1.csv\"\n",
    "num_workers = 0 # number of workers for dataloader. 0 means using main process for data loading\n",
    "smiles_column = 'smiles' # name of the column containing SMILES strings\n",
    "target_columns = ['value'] # list of names of the columns containing targets\n",
    "\n",
    "hpopt_save_dir = Path.cwd() / \"hpopt_parp1_zinc\" # directory to save hyperopt results\n",
    "hpopt_save_dir.mkdir(exist_ok=True)"
   ]
  },
  {
   "cell_type": "code",
   "execution_count": 3,
   "id": "79b9963b-a4e2-4cd8-b122-d379814088b9",
   "metadata": {},
   "outputs": [],
   "source": [
    "df_train = pd.read_csv(train_path)\n",
    "df_test = pd.read_csv(test_path)"
   ]
  },
  {
   "cell_type": "code",
   "execution_count": 4,
   "id": "2c1c3921-b3da-4341-8140-74cf0ecafad7",
   "metadata": {},
   "outputs": [],
   "source": [
    "# Extract SMILES and target values\n",
    "train_smis = df_train[smiles_column].values\n",
    "train_ys = df_train[target_columns].values\n",
    "\n",
    "test_smis = df_test[smiles_column].values\n",
    "test_ys = df_test[target_columns].values\n",
    "\n",
    "# Convert data to MoleculeDatapoint format\n",
    "train_data = [data.MoleculeDatapoint.from_smi(smi, y) for smi, y in zip(train_smis, train_ys)]\n",
    "test_data = [data.MoleculeDatapoint.from_smi(smi, y) for smi, y in zip(test_smis, test_ys)]\n"
   ]
  },
  {
   "cell_type": "code",
   "execution_count": 5,
   "id": "bbc5e27a-cfbc-4181-89d3-83b27785fcf8",
   "metadata": {},
   "outputs": [],
   "source": [
    "# Initialize featurizer\n",
    "featurizer = featurizers.SimpleMoleculeMolGraphFeaturizer()\n",
    "\n",
    "# Create training dataset\n",
    "train_dset = data.MoleculeDataset(train_data, featurizer)\n",
    "scaler = train_dset.normalize_targets()\n",
    "\n",
    "# Split validation set from training data (80% train, 20% validation)\n",
    "split_idx = int(len(train_data) * 0.8)\n",
    "val_data = train_data[split_idx:]\n",
    "train_data = train_data[:split_idx]\n",
    "\n",
    "# Create validation and test datasets\n",
    "val_dset = data.MoleculeDataset(val_data, featurizer)\n",
    "val_dset.normalize_targets(scaler)\n",
    "\n",
    "test_dset = data.MoleculeDataset(test_data, featurizer)"
   ]
  },
  {
   "cell_type": "code",
   "execution_count": 6,
   "id": "c0571af4-13e8-4c32-add1-bc9dd10df31e",
   "metadata": {},
   "outputs": [],
   "source": [
    "def train_model(config, train_dset, val_dset, num_workers, scaler):\n",
    "\n",
    "    # config is a dictionary containing hyperparameters used for the trial\n",
    "    depth = int(config[\"depth\"])\n",
    "    ffn_hidden_dim = int(config[\"ffn_hidden_dim\"])\n",
    "    ffn_num_layers = int(config[\"ffn_num_layers\"])\n",
    "    message_hidden_dim = int(config[\"message_hidden_dim\"])\n",
    "\n",
    "    train_loader = data.build_dataloader(train_dset, num_workers=num_workers, shuffle=True)\n",
    "    val_loader = data.build_dataloader(val_dset, num_workers=num_workers, shuffle=False)\n",
    "\n",
    "    mp = nn.BondMessagePassing(d_h=message_hidden_dim, depth=depth)\n",
    "    agg = nn.MeanAggregation()\n",
    "    output_transform = nn.UnscaleTransform.from_standard_scaler(scaler)\n",
    "    ffn = nn.RegressionFFN(output_transform=output_transform, input_dim=message_hidden_dim, hidden_dim=ffn_hidden_dim, n_layers=ffn_num_layers)\n",
    "    batch_norm = True\n",
    "    metric_list = [nn.metrics.RMSE(), nn.metrics.MAE()]\n",
    "    model = models.MPNN(mp, agg, ffn, batch_norm, metric_list)\n",
    "\n",
    "    trainer = pl.Trainer(\n",
    "        accelerator=\"auto\",\n",
    "        devices=1,\n",
    "        max_epochs=20, # number of epochs to train for\n",
    "        # below are needed for Ray and Lightning integration\n",
    "        strategy=RayDDPStrategy(),\n",
    "        callbacks=[RayTrainReportCallback()],\n",
    "        plugins=[RayLightningEnvironment()],\n",
    "    )\n",
    "\n",
    "    trainer = prepare_trainer(trainer)\n",
    "    trainer.fit(model, train_loader, val_loader)"
   ]
  },
  {
   "cell_type": "code",
   "execution_count": 7,
   "id": "00dc82d6-6d1d-489c-802a-ae0a223867dc",
   "metadata": {},
   "outputs": [],
   "source": [
    "search_space = {\n",
    "    \"depth\": tune.qrandint(lower=2, upper=6, q=1),\n",
    "    \"ffn_hidden_dim\": tune.qrandint(lower=300, upper=2400, q=100),\n",
    "    \"ffn_num_layers\": tune.qrandint(lower=1, upper=3, q=1),\n",
    "    \"message_hidden_dim\": tune.qrandint(lower=300, upper=2400, q=100),\n",
    "}"
   ]
  },
  {
   "cell_type": "code",
   "execution_count": 8,
   "id": "c406b1c1-394a-43f0-be69-3fe9b9d593a4",
   "metadata": {},
   "outputs": [
    {
     "data": {
      "text/html": [
       "<div class=\"tuneStatus\">\n",
       "  <div style=\"display: flex;flex-direction: row\">\n",
       "    <div style=\"display: flex;flex-direction: column;\">\n",
       "      <h3>Tune Status</h3>\n",
       "      <table>\n",
       "<tbody>\n",
       "<tr><td>Current time:</td><td>2025-03-11 23:35:49</td></tr>\n",
       "<tr><td>Running for: </td><td>00:03:51.43        </td></tr>\n",
       "<tr><td>Memory:      </td><td>35.2/753.9 GiB     </td></tr>\n",
       "</tbody>\n",
       "</table>\n",
       "    </div>\n",
       "    <div class=\"vDivider\"></div>\n",
       "    <div class=\"systemInfo\">\n",
       "      <h3>System Info</h3>\n",
       "      Using FIFO scheduling algorithm.<br>Logical resource usage: 2.0/96 CPUs, 0/0 GPUs\n",
       "    </div>\n",
       "    \n",
       "  </div>\n",
       "  <div class=\"hDivider\"></div>\n",
       "  <div class=\"trialStatus\">\n",
       "    <h3>Trial Status</h3>\n",
       "    <table>\n",
       "<thead>\n",
       "<tr><th>Trial name           </th><th>status    </th><th>loc              </th><th style=\"text-align: right;\">  train_loop_config/de\n",
       "pth</th><th style=\"text-align: right;\">     train_loop_config/ff\n",
       "n_hidden_dim</th><th style=\"text-align: right;\">  train_loop_config/ff\n",
       "n_num_layers</th><th style=\"text-align: right;\">    train_loop_config/me\n",
       "ssage_hidden_dim</th><th style=\"text-align: right;\">  iter</th><th style=\"text-align: right;\">  total time (s)</th><th style=\"text-align: right;\">  train_loss</th><th style=\"text-align: right;\">  train_loss_step</th><th style=\"text-align: right;\">  val/rmse</th></tr>\n",
       "</thead>\n",
       "<tbody>\n",
       "<tr><td>TorchTrainer_ade62d14</td><td>TERMINATED</td><td>10.233.0.20:18480</td><td style=\"text-align: right;\">2</td><td style=\"text-align: right;\">2000</td><td style=\"text-align: right;\">2</td><td style=\"text-align: right;\">500</td><td style=\"text-align: right;\">    20</td><td style=\"text-align: right;\">         220.536</td><td style=\"text-align: right;\">   0.111837 </td><td style=\"text-align: right;\">         0.14123 </td><td style=\"text-align: right;\">  0.301537</td></tr>\n",
       "<tr><td>TorchTrainer_41678f15</td><td>TERMINATED</td><td>10.233.0.20:18715</td><td style=\"text-align: right;\">2</td><td style=\"text-align: right;\">2200</td><td style=\"text-align: right;\">2</td><td style=\"text-align: right;\">400</td><td style=\"text-align: right;\">    20</td><td style=\"text-align: right;\">         195.992</td><td style=\"text-align: right;\">   0.0893858</td><td style=\"text-align: right;\">         0.104875</td><td style=\"text-align: right;\">  0.256197</td></tr>\n",
       "</tbody>\n",
       "</table>\n",
       "  </div>\n",
       "</div>\n",
       "<style>\n",
       ".tuneStatus {\n",
       "  color: var(--jp-ui-font-color1);\n",
       "}\n",
       ".tuneStatus .systemInfo {\n",
       "  display: flex;\n",
       "  flex-direction: column;\n",
       "}\n",
       ".tuneStatus td {\n",
       "  white-space: nowrap;\n",
       "}\n",
       ".tuneStatus .trialStatus {\n",
       "  display: flex;\n",
       "  flex-direction: column;\n",
       "}\n",
       ".tuneStatus h3 {\n",
       "  font-weight: bold;\n",
       "}\n",
       ".tuneStatus .hDivider {\n",
       "  border-bottom-width: var(--jp-border-width);\n",
       "  border-bottom-color: var(--jp-border-color0);\n",
       "  border-bottom-style: solid;\n",
       "}\n",
       ".tuneStatus .vDivider {\n",
       "  border-left-width: var(--jp-border-width);\n",
       "  border-left-color: var(--jp-border-color0);\n",
       "  border-left-style: solid;\n",
       "  margin: 0.5em 1em 0.5em 1em;\n",
       "}\n",
       "</style>\n"
      ],
      "text/plain": [
       "<IPython.core.display.HTML object>"
      ]
     },
     "metadata": {},
     "output_type": "display_data"
    },
    {
     "name": "stderr",
     "output_type": "stream",
     "text": [
      "\u001b[36m(TorchTrainer pid=18480)\u001b[0m Started distributed worker processes: \n",
      "\u001b[36m(TorchTrainer pid=18480)\u001b[0m - (node_id=8cc5897c288ebf199fe9365a5a88974f9998b21b1dae5473da94721a, ip=10.233.0.20, pid=18714) world_rank=0, local_rank=0, node_rank=0\n",
      "\u001b[36m(RayTrainWorker pid=18714)\u001b[0m Setting up process group for: env:// [rank=0, world_size=1]\n",
      "\u001b[36m(RayTrainWorker pid=18714)\u001b[0m /home/aih/serra.korkmaz/miniconda3/envs/saturn/lib/python3.11/site-packages/ray/train/lightning/_lightning_utils.py:262: This API is deprecated and may be removed in future Ray releases. You could suppress this warning by setting env variable PYTHONWARNINGS=\"ignore::DeprecationWarning\"\n",
      "\u001b[36m(RayTrainWorker pid=18714)\u001b[0m `get_trial_name` is deprecated because the concept of a `Trial` will soon be removed in Ray Train.Ray Train will no longer assume that it's running within a Ray Tune `Trial` in the future. See this issue for more context and migration options: https://github.com/ray-project/ray/issues/49454. Disable these warnings by setting the environment variable: RAY_TRAIN_ENABLE_V2_MIGRATION_WARNINGS=0\n",
      "\u001b[36m(RayTrainWorker pid=18714)\u001b[0m GPU available: False, used: False\n",
      "\u001b[36m(RayTrainWorker pid=18714)\u001b[0m TPU available: False, using: 0 TPU cores\n",
      "\u001b[36m(RayTrainWorker pid=18714)\u001b[0m HPU available: False, using: 0 HPUs\n",
      "\u001b[36m(RayTrainWorker pid=18714)\u001b[0m Loading `train_dataloader` to estimate number of stepping batches.\n",
      "\u001b[36m(RayTrainWorker pid=18714)\u001b[0m /home/aih/serra.korkmaz/miniconda3/envs/saturn/lib/python3.11/site-packages/lightning/pytorch/trainer/connectors/data_connector.py:425: The 'train_dataloader' does not have many workers which may be a bottleneck. Consider increasing the value of the `num_workers` argument` to `num_workers=3` in the `DataLoader` to improve performance.\n",
      "\u001b[36m(RayTrainWorker pid=18714)\u001b[0m /home/aih/serra.korkmaz/miniconda3/envs/saturn/lib/python3.11/site-packages/lightning/pytorch/loops/fit_loop.py:310: The number of training batches (28) is smaller than the logging interval Trainer(log_every_n_steps=50). Set a lower value for log_every_n_steps if you want to see logs for the training epoch.\n",
      "\u001b[36m(RayTrainWorker pid=18714)\u001b[0m \n",
      "\u001b[36m(RayTrainWorker pid=18714)\u001b[0m   | Name            | Type               | Params | Mode \n",
      "\u001b[36m(RayTrainWorker pid=18714)\u001b[0m ---------------------------------------------------------------\n",
      "\u001b[36m(RayTrainWorker pid=18714)\u001b[0m 0 | message_passing | BondMessagePassing | 579 K  | train\n",
      "\u001b[36m(RayTrainWorker pid=18714)\u001b[0m 1 | agg             | MeanAggregation    | 0      | train\n",
      "\u001b[36m(RayTrainWorker pid=18714)\u001b[0m 2 | bn              | BatchNorm1d        | 1.0 K  | train\n",
      "\u001b[36m(RayTrainWorker pid=18714)\u001b[0m 3 | predictor       | RegressionFFN      | 5.0 M  | train\n",
      "\u001b[36m(RayTrainWorker pid=18714)\u001b[0m 4 | X_d_transform   | Identity           | 0      | train\n",
      "\u001b[36m(RayTrainWorker pid=18714)\u001b[0m 5 | metrics         | ModuleList         | 0      | train\n",
      "\u001b[36m(RayTrainWorker pid=18714)\u001b[0m ---------------------------------------------------------------\n",
      "\u001b[36m(RayTrainWorker pid=18714)\u001b[0m 5.6 M     Trainable params\n",
      "\u001b[36m(RayTrainWorker pid=18714)\u001b[0m 0         Non-trainable params\n",
      "\u001b[36m(RayTrainWorker pid=18714)\u001b[0m 5.6 M     Total params\n",
      "\u001b[36m(RayTrainWorker pid=18714)\u001b[0m 22.346    Total estimated model params size (MB)\n",
      "\u001b[36m(RayTrainWorker pid=18714)\u001b[0m 27        Modules in train mode\n",
      "\u001b[36m(RayTrainWorker pid=18714)\u001b[0m 0         Modules in eval mode\n",
      "\u001b[36m(RayTrainWorker pid=18714)\u001b[0m /home/aih/serra.korkmaz/miniconda3/envs/saturn/lib/python3.11/site-packages/lightning/pytorch/core/saving.py:363: Skipping 'metrics' parameter because it is not possible to safely dump to YAML.\n",
      "\u001b[36m(RayTrainWorker pid=18714)\u001b[0m /home/aih/serra.korkmaz/miniconda3/envs/saturn/lib/python3.11/site-packages/lightning/pytorch/trainer/connectors/data_connector.py:425: The 'val_dataloader' does not have many workers which may be a bottleneck. Consider increasing the value of the `num_workers` argument` to `num_workers=3` in the `DataLoader` to improve performance.\n"
     ]
    },
    {
     "name": "stdout",
     "output_type": "stream",
     "text": [
      "Sanity Checking DataLoader 0:   0%|          | 0/2 [00:00<?, ?it/s]\n",
      "Sanity Checking DataLoader 0:  50%|█████     | 1/2 [00:00<00:00,  4.12it/s]\n",
      "Epoch 0:   0%|          | 0/28 [00:00<?, ?it/s]                            \n",
      "Epoch 0:   4%|▎         | 1/28 [00:00<00:09,  2.99it/s, v_num=3.41e+7, train_loss_step=1.030]\n",
      "Epoch 0:   7%|▋         | 2/28 [00:00<00:08,  3.04it/s, v_num=3.41e+7, train_loss_step=0.574]\n",
      "Epoch 0:  11%|█         | 3/28 [00:00<00:08,  3.09it/s, v_num=3.41e+7, train_loss_step=0.832]\n",
      "Epoch 0:  14%|█▍        | 4/28 [00:01<00:07,  3.17it/s, v_num=3.41e+7, train_loss_step=0.442]\n",
      "Epoch 0:  18%|█▊        | 5/28 [00:01<00:07,  3.16it/s, v_num=3.41e+7, train_loss_step=0.360]\n",
      "Epoch 0:  21%|██▏       | 6/28 [00:01<00:06,  3.15it/s, v_num=3.41e+7, train_loss_step=0.429]\n",
      "Epoch 0:  25%|██▌       | 7/28 [00:02<00:06,  3.16it/s, v_num=3.41e+7, train_loss_step=0.650]\n",
      "Epoch 0:  29%|██▊       | 8/28 [00:02<00:06,  3.15it/s, v_num=3.41e+7, train_loss_step=0.472]\n",
      "Epoch 0:  32%|███▏      | 9/28 [00:02<00:06,  3.13it/s, v_num=3.41e+7, train_loss_step=0.388]\n",
      "Epoch 0:  36%|███▌      | 10/28 [00:03<00:05,  3.14it/s, v_num=3.41e+7, train_loss_step=0.373]\n",
      "Epoch 0:  39%|███▉      | 11/28 [00:03<00:05,  3.15it/s, v_num=3.41e+7, train_loss_step=0.312]\n",
      "Epoch 0:  43%|████▎     | 12/28 [00:03<00:05,  3.17it/s, v_num=3.41e+7, train_loss_step=0.237]\n",
      "Epoch 0:  46%|████▋     | 13/28 [00:04<00:04,  3.16it/s, v_num=3.41e+7, train_loss_step=0.688]\n",
      "Epoch 0:  50%|█████     | 14/28 [00:04<00:04,  3.18it/s, v_num=3.41e+7, train_loss_step=0.420]\n",
      "Epoch 0:  54%|█████▎    | 15/28 [00:04<00:04,  3.16it/s, v_num=3.41e+7, train_loss_step=0.363]\n",
      "Epoch 0:  57%|█████▋    | 16/28 [00:05<00:03,  3.17it/s, v_num=3.41e+7, train_loss_step=0.435]\n",
      "Epoch 0:  61%|██████    | 17/28 [00:05<00:03,  3.18it/s, v_num=3.41e+7, train_loss_step=0.424]\n",
      "Epoch 0:  64%|██████▍   | 18/28 [00:05<00:03,  3.20it/s, v_num=3.41e+7, train_loss_step=0.385]\n",
      "Epoch 0:  68%|██████▊   | 19/28 [00:05<00:02,  3.21it/s, v_num=3.41e+7, train_loss_step=0.358]\n"
     ]
    },
    {
     "name": "stderr",
     "output_type": "stream",
     "text": [
      "\u001b[36m(TorchTrainer pid=18715)\u001b[0m Started distributed worker processes: \n",
      "\u001b[36m(TorchTrainer pid=18715)\u001b[0m - (node_id=8cc5897c288ebf199fe9365a5a88974f9998b21b1dae5473da94721a, ip=10.233.0.20, pid=18951) world_rank=0, local_rank=0, node_rank=0\n",
      "\u001b[36m(RayTrainWorker pid=18951)\u001b[0m Setting up process group for: env:// [rank=0, world_size=1]\n"
     ]
    },
    {
     "name": "stdout",
     "output_type": "stream",
     "text": [
      "Epoch 0:  71%|███████▏  | 20/28 [00:06<00:02,  3.22it/s, v_num=3.41e+7, train_loss_step=0.462]\n",
      "Epoch 0:  75%|███████▌  | 21/28 [00:06<00:02,  3.22it/s, v_num=3.41e+7, train_loss_step=0.396]\n",
      "Epoch 0:  79%|███████▊  | 22/28 [00:06<00:01,  3.22it/s, v_num=3.41e+7, train_loss_step=0.333]\n",
      "Epoch 0:  82%|████████▏ | 23/28 [00:07<00:01,  3.22it/s, v_num=3.41e+7, train_loss_step=0.381]\n",
      "Epoch 0:  86%|████████▌ | 24/28 [00:07<00:01,  3.24it/s, v_num=3.41e+7, train_loss_step=0.426]\n",
      "Epoch 0:  89%|████████▉ | 25/28 [00:07<00:00,  3.24it/s, v_num=3.41e+7, train_loss_step=0.528]\n",
      "Epoch 0:  93%|█████████▎| 26/28 [00:08<00:00,  3.24it/s, v_num=3.41e+7, train_loss_step=0.469]\n",
      "Epoch 0:  96%|█████████▋| 27/28 [00:08<00:00,  3.25it/s, v_num=3.41e+7, train_loss_step=0.573]\n",
      "Epoch 0: 100%|██████████| 28/28 [00:08<00:00,  3.28it/s, v_num=3.41e+7, train_loss_step=0.398]\n",
      "Validation: |          | 0/? [00:00<?, ?it/s]\u001b[A\n",
      "\u001b[36m(RayTrainWorker pid=18714)\u001b[0m \n",
      "Validation:   0%|          | 0/6 [00:00<?, ?it/s]\u001b[A\n",
      "Validation DataLoader 0:   0%|          | 0/6 [00:00<?, ?it/s]\u001b[A\n",
      "\u001b[36m(RayTrainWorker pid=18714)\u001b[0m \n",
      "Validation DataLoader 0:  17%|█▋        | 1/6 [00:00<00:01,  4.71it/s]\u001b[A\n",
      "\u001b[36m(RayTrainWorker pid=18714)\u001b[0m \n",
      "Validation DataLoader 0:  33%|███▎      | 2/6 [00:00<00:00,  4.14it/s]\u001b[A\n",
      "\u001b[36m(RayTrainWorker pid=18714)\u001b[0m \n",
      "Validation DataLoader 0:  50%|█████     | 3/6 [00:00<00:00,  4.23it/s]\u001b[A\n",
      "\u001b[36m(RayTrainWorker pid=18714)\u001b[0m \n",
      "Validation DataLoader 0:  67%|██████▋   | 4/6 [00:00<00:00,  4.33it/s]\u001b[A\n",
      "\u001b[36m(RayTrainWorker pid=18714)\u001b[0m \n",
      "Validation DataLoader 0:  83%|████████▎ | 5/6 [00:01<00:00,  4.33it/s]\u001b[A\n",
      "\u001b[36m(RayTrainWorker pid=18714)\u001b[0m \n",
      "Validation DataLoader 0: 100%|██████████| 6/6 [00:01<00:00,  4.68it/s]\u001b[A\n",
      "Epoch 0: 100%|██████████| 28/28 [00:09<00:00,  2.83it/s, v_num=3.41e+7, train_loss_step=0.398, val_loss=0.753]\n"
     ]
    },
    {
     "name": "stderr",
     "output_type": "stream",
     "text": [
      "\u001b[36m(RayTrainWorker pid=18714)\u001b[0m Checkpoint successfully created at: Checkpoint(filesystem=local, path=/ictstr01/home/aih/serra.korkmaz/projects/saturn/hopt/hpopt_parp1_zinc/ray_results/TorchTrainer_2025-03-11_23-31-58/ade62d14/checkpoint_000000)\n"
     ]
    },
    {
     "name": "stdout",
     "output_type": "stream",
     "text": [
      "Epoch 0: 100%|██████████| 28/28 [00:10<00:00,  2.78it/s, v_num=3.41e+7, train_loss_step=0.398, val_loss=0.753, train_loss_epoch=0.470]\n",
      "Epoch 1:   0%|          | 0/28 [00:00<?, ?it/s, v_num=3.41e+7, train_loss_step=0.398, val_loss=0.753, train_loss_epoch=0.470]         \n"
     ]
    },
    {
     "name": "stderr",
     "output_type": "stream",
     "text": [
      "\u001b[36m(RayTrainWorker pid=18951)\u001b[0m /home/aih/serra.korkmaz/miniconda3/envs/saturn/lib/python3.11/site-packages/ray/train/lightning/_lightning_utils.py:262: This API is deprecated and may be removed in future Ray releases. You could suppress this warning by setting env variable PYTHONWARNINGS=\"ignore::DeprecationWarning\"\n",
      "\u001b[36m(RayTrainWorker pid=18951)\u001b[0m `get_trial_name` is deprecated because the concept of a `Trial` will soon be removed in Ray Train.Ray Train will no longer assume that it's running within a Ray Tune `Trial` in the future. See this issue for more context and migration options: https://github.com/ray-project/ray/issues/49454. Disable these warnings by setting the environment variable: RAY_TRAIN_ENABLE_V2_MIGRATION_WARNINGS=0\n",
      "\u001b[36m(RayTrainWorker pid=18951)\u001b[0m GPU available: False, used: False\n",
      "\u001b[36m(RayTrainWorker pid=18951)\u001b[0m TPU available: False, using: 0 TPU cores\n",
      "\u001b[36m(RayTrainWorker pid=18951)\u001b[0m HPU available: False, using: 0 HPUs\n",
      "\u001b[36m(RayTrainWorker pid=18951)\u001b[0m Loading `train_dataloader` to estimate number of stepping batches.\n",
      "\u001b[36m(RayTrainWorker pid=18951)\u001b[0m /home/aih/serra.korkmaz/miniconda3/envs/saturn/lib/python3.11/site-packages/lightning/pytorch/trainer/connectors/data_connector.py:425: The 'train_dataloader' does not have many workers which may be a bottleneck. Consider increasing the value of the `num_workers` argument` to `num_workers=3` in the `DataLoader` to improve performance.\n",
      "\u001b[36m(RayTrainWorker pid=18951)\u001b[0m /home/aih/serra.korkmaz/miniconda3/envs/saturn/lib/python3.11/site-packages/lightning/pytorch/loops/fit_loop.py:310: The number of training batches (28) is smaller than the logging interval Trainer(log_every_n_steps=50). Set a lower value for log_every_n_steps if you want to see logs for the training epoch.\n",
      "\u001b[36m(RayTrainWorker pid=18951)\u001b[0m \n",
      "\u001b[36m(RayTrainWorker pid=18951)\u001b[0m   | Name            | Type               | Params | Mode \n",
      "\u001b[36m(RayTrainWorker pid=18951)\u001b[0m ---------------------------------------------------------------\n",
      "\u001b[36m(RayTrainWorker pid=18951)\u001b[0m 0 | message_passing | BondMessagePassing | 383 K  | train\n",
      "\u001b[36m(RayTrainWorker pid=18951)\u001b[0m 1 | agg             | MeanAggregation    | 0      | train\n",
      "\u001b[36m(RayTrainWorker pid=18951)\u001b[0m 2 | bn              | BatchNorm1d        | 800    | train\n",
      "\u001b[36m(RayTrainWorker pid=18951)\u001b[0m 3 | predictor       | RegressionFFN      | 5.7 M  | train\n",
      "\u001b[36m(RayTrainWorker pid=18951)\u001b[0m 4 | X_d_transform   | Identity           | 0      | train\n",
      "\u001b[36m(RayTrainWorker pid=18951)\u001b[0m 5 | metrics         | ModuleList         | 0      | train\n",
      "\u001b[36m(RayTrainWorker pid=18951)\u001b[0m ---------------------------------------------------------------\n",
      "\u001b[36m(RayTrainWorker pid=18951)\u001b[0m 6.1 M     Trainable params\n",
      "\u001b[36m(RayTrainWorker pid=18951)\u001b[0m 0         Non-trainable params\n",
      "\u001b[36m(RayTrainWorker pid=18951)\u001b[0m 6.1 M     Total params\n",
      "\u001b[36m(RayTrainWorker pid=18951)\u001b[0m 24.444    Total estimated model params size (MB)\n",
      "\u001b[36m(RayTrainWorker pid=18951)\u001b[0m 27        Modules in train mode\n",
      "\u001b[36m(RayTrainWorker pid=18951)\u001b[0m 0         Modules in eval mode\n",
      "\u001b[36m(RayTrainWorker pid=18951)\u001b[0m /home/aih/serra.korkmaz/miniconda3/envs/saturn/lib/python3.11/site-packages/lightning/pytorch/core/saving.py:363: Skipping 'metrics' parameter because it is not possible to safely dump to YAML.\n",
      "\u001b[36m(RayTrainWorker pid=18951)\u001b[0m /home/aih/serra.korkmaz/miniconda3/envs/saturn/lib/python3.11/site-packages/lightning/pytorch/trainer/connectors/data_connector.py:425: The 'val_dataloader' does not have many workers which may be a bottleneck. Consider increasing the value of the `num_workers` argument` to `num_workers=3` in the `DataLoader` to improve performance.\n"
     ]
    },
    {
     "name": "stdout",
     "output_type": "stream",
     "text": [
      "Sanity Checking DataLoader 0:   0%|          | 0/2 [00:00<?, ?it/s]\n",
      "Epoch 1:   4%|▎         | 1/28 [00:00<00:08,  3.28it/s, v_num=3.41e+7, train_loss_step=0.375, val_loss=0.753, train_loss_epoch=0.470]\n",
      "Sanity Checking DataLoader 0:  50%|█████     | 1/2 [00:00<00:00,  5.45it/s]\n",
      "Epoch 1:   7%|▋         | 2/28 [00:00<00:07,  3.27it/s, v_num=3.41e+7, train_loss_step=0.577, val_loss=0.753, train_loss_epoch=0.470]\n",
      "Epoch 0:   0%|          | 0/28 [00:00<?, ?it/s]                            \n",
      "Epoch 1:  11%|█         | 3/28 [00:00<00:07,  3.33it/s, v_num=3.41e+7, train_loss_step=0.280, val_loss=0.753, train_loss_epoch=0.470]\n",
      "Epoch 0:  64%|██████▍   | 18/28 [00:05<00:03,  3.32it/s, v_num=3.41e+7, train_loss_step=0.572]\u001b[32m [repeated 32x across cluster] (Ray deduplicates logs by default. Set RAY_DEDUP_LOGS=0 to disable log deduplication, or see https://docs.ray.io/en/master/ray-observability/user-guides/configure-logging.html#log-deduplication for more options.)\u001b[0m\n",
      "Epoch 0:  93%|█████████▎| 26/28 [00:07<00:00,  3.38it/s, v_num=3.41e+7, train_loss_step=0.434]\n",
      "Epoch 0:  96%|█████████▋| 27/28 [00:07<00:00,  3.39it/s, v_num=3.41e+7, train_loss_step=0.615]\n",
      "Validation: |          | 0/? [00:00<?, ?it/s]\u001b[A\n",
      "Validation:   0%|          | 0/6 [00:00<?, ?it/s]\u001b[A\n",
      "Validation DataLoader 0:   0%|          | 0/6 [00:00<?, ?it/s]\u001b[A\n",
      "\u001b[36m(RayTrainWorker pid=18951)\u001b[0m \n",
      "Validation DataLoader 0:  17%|█▋        | 1/6 [00:00<00:00,  6.61it/s]\u001b[A\n",
      "\u001b[36m(RayTrainWorker pid=18951)\u001b[0m \n",
      "Validation DataLoader 0:  33%|███▎      | 2/6 [00:00<00:00,  5.73it/s]\u001b[A\n",
      "\u001b[36m(RayTrainWorker pid=18951)\u001b[0m \n",
      "Validation DataLoader 0:  50%|█████     | 3/6 [00:00<00:00,  5.61it/s]\u001b[A\n",
      "\u001b[36m(RayTrainWorker pid=18714)\u001b[0m \n",
      "\u001b[36m(RayTrainWorker pid=18714)\u001b[0m \n",
      "\u001b[36m(RayTrainWorker pid=18951)\u001b[0m \n",
      "\u001b[36m(RayTrainWorker pid=18714)\u001b[0m \n",
      "\u001b[36m(RayTrainWorker pid=18951)\u001b[0m \n",
      "\u001b[36m(RayTrainWorker pid=18951)\u001b[0m \n",
      "Validation DataLoader 0: 100%|██████████| 6/6 [00:01<00:00,  5.90it/s]\u001b[A\n",
      "Epoch 0: 100%|██████████| 28/28 [00:09<00:00,  3.03it/s, v_num=3.41e+7, train_loss_step=0.531, val_loss=0.800]\n"
     ]
    },
    {
     "name": "stderr",
     "output_type": "stream",
     "text": [
      "2025-03-11 23:32:37,888\tWARNING experiment_state.py:206 -- Experiment state snapshotting has been triggered multiple times in the last 5.0 seconds and may become a bottleneck. A snapshot is forced if `CheckpointConfig(num_to_keep)` is set, and a trial has checkpointed >= `num_to_keep` times since the last snapshot.\n",
      "You may want to consider increasing the `CheckpointConfig(num_to_keep)` or decreasing the frequency of saving checkpoints.\n",
      "You can suppress this warning by setting the environment variable TUNE_WARN_EXCESSIVE_EXPERIMENT_CHECKPOINT_SYNC_THRESHOLD_S to a smaller value than the current threshold (5.0). Set it to 0 to completely suppress this warning.\n",
      "\u001b[36m(RayTrainWorker pid=18951)\u001b[0m Checkpoint successfully created at: Checkpoint(filesystem=local, path=/ictstr01/home/aih/serra.korkmaz/projects/saturn/hopt/hpopt_parp1_zinc/ray_results/TorchTrainer_2025-03-11_23-31-58/41678f15/checkpoint_000000)\n"
     ]
    },
    {
     "name": "stdout",
     "output_type": "stream",
     "text": [
      "\u001b[36m(RayTrainWorker pid=18714)\u001b[0m \n",
      "Epoch 0: 100%|██████████| 28/28 [00:09<00:00,  2.96it/s, v_num=3.41e+7, train_loss_step=0.531, val_loss=0.800, train_loss_epoch=0.495]\n",
      "Epoch 1:   0%|          | 0/28 [00:00<?, ?it/s, v_num=3.41e+7, train_loss_step=0.531, val_loss=0.800, train_loss_epoch=0.495]         \n",
      "\u001b[36m(RayTrainWorker pid=18714)\u001b[0m \n",
      "\u001b[36m(RayTrainWorker pid=18714)\u001b[0m \n"
     ]
    },
    {
     "name": "stderr",
     "output_type": "stream",
     "text": [
      "2025-03-11 23:32:38,458\tWARNING experiment_state.py:206 -- Experiment state snapshotting has been triggered multiple times in the last 5.0 seconds and may become a bottleneck. A snapshot is forced if `CheckpointConfig(num_to_keep)` is set, and a trial has checkpointed >= `num_to_keep` times since the last snapshot.\n",
      "You may want to consider increasing the `CheckpointConfig(num_to_keep)` or decreasing the frequency of saving checkpoints.\n",
      "You can suppress this warning by setting the environment variable TUNE_WARN_EXCESSIVE_EXPERIMENT_CHECKPOINT_SYNC_THRESHOLD_S to a smaller value than the current threshold (5.0). Set it to 0 to completely suppress this warning.\n",
      "\u001b[36m(RayTrainWorker pid=18714)\u001b[0m Checkpoint successfully created at: Checkpoint(filesystem=local, path=/ictstr01/home/aih/serra.korkmaz/projects/saturn/hopt/hpopt_parp1_zinc/ray_results/TorchTrainer_2025-03-11_23-31-58/ade62d14/checkpoint_000001)\n"
     ]
    },
    {
     "name": "stdout",
     "output_type": "stream",
     "text": [
      "Epoch 1:  11%|█         | 3/28 [00:00<00:07,  3.43it/s, v_num=3.41e+7, train_loss_step=0.340, val_loss=0.800, train_loss_epoch=0.495]\u001b[32m [repeated 19x across cluster]\u001b[0m\n",
      "Epoch 1: 100%|██████████| 28/28 [00:09<00:00,  3.05it/s, v_num=3.41e+7, train_loss_step=0.321, val_loss=0.753, train_loss_epoch=0.470]\u001b[32m [repeated 4x across cluster]\u001b[0m\n",
      "Validation: |          | 0/? [00:00<?, ?it/s]\u001b[A\n",
      "Validation:   0%|          | 0/6 [00:00<?, ?it/s]\u001b[A\n",
      "Validation DataLoader 0:   0%|          | 0/6 [00:00<?, ?it/s]\u001b[A\n",
      "Validation DataLoader 0:  83%|████████▎ | 5/6 [00:01<00:00,  4.70it/s]\u001b[A\u001b[32m [repeated 7x across cluster]\u001b[0m\n",
      "Validation DataLoader 0: 100%|██████████| 6/6 [00:01<00:00,  4.88it/s]\u001b[A\n",
      "Epoch 1: 100%|██████████| 28/28 [00:10<00:00,  2.68it/s, v_num=3.41e+7, train_loss_step=0.321, val_loss=1.610, train_loss_epoch=0.470]\n",
      "Epoch 1: 100%|██████████| 28/28 [00:10<00:00,  2.63it/s, v_num=3.41e+7, train_loss_step=0.321, val_loss=1.610, train_loss_epoch=0.395]\n",
      "Epoch 2:   0%|          | 0/28 [00:00<?, ?it/s, v_num=3.41e+7, train_loss_step=0.321, val_loss=1.610, train_loss_epoch=0.395]         \n",
      "Epoch 1:  86%|████████▌ | 24/28 [00:06<00:01,  3.99it/s, v_num=3.41e+7, train_loss_step=0.388, val_loss=0.800, train_loss_epoch=0.495]\u001b[32m [repeated 37x across cluster]\u001b[0m\n",
      "Validation: |          | 0/? [00:00<?, ?it/s]\u001b[A\n",
      "\u001b[36m(RayTrainWorker pid=18951)\u001b[0m \n",
      "Validation:   0%|          | 0/6 [00:00<?, ?it/s]\u001b[A\n",
      "Validation DataLoader 0:   0%|          | 0/6 [00:00<?, ?it/s]\u001b[A\n",
      "\u001b[36m(RayTrainWorker pid=18951)\u001b[0m \n",
      "\u001b[36m(RayTrainWorker pid=18951)\u001b[0m \n",
      "\u001b[36m(RayTrainWorker pid=18951)\u001b[0m \n",
      "\u001b[36m(RayTrainWorker pid=18951)\u001b[0m \n",
      "\u001b[36m(RayTrainWorker pid=18951)\u001b[0m \n",
      "\u001b[36m(RayTrainWorker pid=18951)\u001b[0m \n",
      "Validation DataLoader 0: 100%|██████████| 6/6 [00:01<00:00,  5.84it/s]\u001b[A\n",
      "Epoch 1: 100%|██████████| 28/28 [00:08<00:00,  3.48it/s, v_num=3.41e+7, train_loss_step=0.370, val_loss=0.693, train_loss_epoch=0.495]\n",
      "Epoch 2:  93%|█████████▎| 26/28 [00:07<00:00,  3.36it/s, v_num=3.41e+7, train_loss_step=0.436, val_loss=1.610, train_loss_epoch=0.395]\u001b[32m [repeated 4x across cluster]\u001b[0m\n",
      "Epoch 1: 100%|██████████| 28/28 [00:08<00:00,  3.40it/s, v_num=3.41e+7, train_loss_step=0.370, val_loss=0.693, train_loss_epoch=0.408]\n",
      "Epoch 2:   0%|          | 0/28 [00:00<?, ?it/s, v_num=3.41e+7, train_loss_step=0.370, val_loss=0.693, train_loss_epoch=0.408]         \n"
     ]
    },
    {
     "name": "stderr",
     "output_type": "stream",
     "text": [
      "\u001b[36m(RayTrainWorker pid=18951)\u001b[0m Checkpoint successfully created at: Checkpoint(filesystem=local, path=/ictstr01/home/aih/serra.korkmaz/projects/saturn/hopt/hpopt_parp1_zinc/ray_results/TorchTrainer_2025-03-11_23-31-58/41678f15/checkpoint_000001)\n"
     ]
    },
    {
     "name": "stdout",
     "output_type": "stream",
     "text": [
      "\u001b[36m(RayTrainWorker pid=18714)\u001b[0m \n",
      "Validation DataLoader 0:  83%|████████▎ | 5/6 [00:00<00:00,  5.48it/s]\u001b[A\u001b[32m [repeated 5x across cluster]\u001b[0m\n",
      "\u001b[36m(RayTrainWorker pid=18714)\u001b[0m \n",
      "\u001b[36m(RayTrainWorker pid=18714)\u001b[0m \n",
      "\u001b[36m(RayTrainWorker pid=18714)\u001b[0m \n",
      "\u001b[36m(RayTrainWorker pid=18714)\u001b[0m \n",
      "\u001b[36m(RayTrainWorker pid=18714)\u001b[0m \n"
     ]
    },
    {
     "name": "stderr",
     "output_type": "stream",
     "text": [
      "\u001b[36m(RayTrainWorker pid=18714)\u001b[0m Checkpoint successfully created at: Checkpoint(filesystem=local, path=/ictstr01/home/aih/serra.korkmaz/projects/saturn/hopt/hpopt_parp1_zinc/ray_results/TorchTrainer_2025-03-11_23-31-58/ade62d14/checkpoint_000002)\n",
      "2025-03-11 23:32:48,315\tWARNING experiment_state.py:206 -- Experiment state snapshotting has been triggered multiple times in the last 5.0 seconds and may become a bottleneck. A snapshot is forced if `CheckpointConfig(num_to_keep)` is set, and a trial has checkpointed >= `num_to_keep` times since the last snapshot.\n",
      "You may want to consider increasing the `CheckpointConfig(num_to_keep)` or decreasing the frequency of saving checkpoints.\n",
      "You can suppress this warning by setting the environment variable TUNE_WARN_EXCESSIVE_EXPERIMENT_CHECKPOINT_SYNC_THRESHOLD_S to a smaller value than the current threshold (5.0). Set it to 0 to completely suppress this warning.\n"
     ]
    },
    {
     "name": "stdout",
     "output_type": "stream",
     "text": [
      "\u001b[36m(RayTrainWorker pid=18714)\u001b[0m \n",
      "Epoch 3:   7%|▋         | 2/28 [00:00<00:07,  3.63it/s, v_num=3.41e+7, train_loss_step=0.278, val_loss=0.594, train_loss_epoch=0.372]\u001b[32m [repeated 21x across cluster]\u001b[0m\n",
      "Validation: |          | 0/? [00:00<?, ?it/s]\u001b[A\n",
      "Validation:   0%|          | 0/6 [00:00<?, ?it/s]\u001b[A\n",
      "Validation DataLoader 0:   0%|          | 0/6 [00:00<?, ?it/s]\u001b[A\n",
      "Validation DataLoader 0: 100%|██████████| 6/6 [00:01<00:00,  4.97it/s]\u001b[A\n",
      "Epoch 2: 100%|██████████| 28/28 [00:09<00:00,  2.94it/s, v_num=3.41e+7, train_loss_step=0.367, val_loss=0.594, train_loss_epoch=0.395]\n",
      "Epoch 2: 100%|██████████| 28/28 [00:08<00:00,  3.39it/s, v_num=3.41e+7, train_loss_step=0.367, val_loss=1.610, train_loss_epoch=0.395]\u001b[32m [repeated 2x across cluster]\u001b[0m\n",
      "Epoch 2: 100%|██████████| 28/28 [00:09<00:00,  2.89it/s, v_num=3.41e+7, train_loss_step=0.367, val_loss=0.594, train_loss_epoch=0.372]\n",
      "Epoch 3:   0%|          | 0/28 [00:00<?, ?it/s, v_num=3.41e+7, train_loss_step=0.367, val_loss=0.594, train_loss_epoch=0.372]         \n",
      "Validation DataLoader 0:  83%|████████▎ | 5/6 [00:01<00:00,  4.62it/s]\u001b[A\u001b[32m [repeated 5x across cluster]\u001b[0m\n",
      "Validation: |          | 0/? [00:00<?, ?it/s]\u001b[A\n",
      "\u001b[36m(RayTrainWorker pid=18951)\u001b[0m \n",
      "Validation:   0%|          | 0/6 [00:00<?, ?it/s]\u001b[A\n",
      "Validation DataLoader 0:   0%|          | 0/6 [00:00<?, ?it/s]\u001b[A\n",
      "Epoch 3:  61%|██████    | 17/28 [00:05<00:03,  3.08it/s, v_num=3.41e+7, train_loss_step=0.248, val_loss=0.594, train_loss_epoch=0.372]\u001b[32m [repeated 30x across cluster]\u001b[0m\n",
      "\u001b[36m(RayTrainWorker pid=18951)\u001b[0m \n",
      "\u001b[36m(RayTrainWorker pid=18951)\u001b[0m \n",
      "\u001b[36m(RayTrainWorker pid=18951)\u001b[0m \n",
      "\u001b[36m(RayTrainWorker pid=18951)\u001b[0m \n",
      "\u001b[36m(RayTrainWorker pid=18951)\u001b[0m \n",
      "\u001b[36m(RayTrainWorker pid=18951)\u001b[0m \n",
      "Validation DataLoader 0: 100%|██████████| 6/6 [00:01<00:00,  5.98it/s]\u001b[A\n",
      "Epoch 2: 100%|██████████| 28/28 [00:08<00:00,  3.23it/s, v_num=3.41e+7, train_loss_step=0.381, val_loss=0.240, train_loss_epoch=0.408]\n",
      "Epoch 2: 100%|██████████| 28/28 [00:08<00:00,  3.15it/s, v_num=3.41e+7, train_loss_step=0.381, val_loss=0.240, train_loss_epoch=0.356]\n",
      "Epoch 3:   0%|          | 0/28 [00:00<?, ?it/s, v_num=3.41e+7, train_loss_step=0.381, val_loss=0.240, train_loss_epoch=0.356]         \n"
     ]
    },
    {
     "name": "stderr",
     "output_type": "stream",
     "text": [
      "\u001b[36m(RayTrainWorker pid=18951)\u001b[0m Checkpoint successfully created at: Checkpoint(filesystem=local, path=/ictstr01/home/aih/serra.korkmaz/projects/saturn/hopt/hpopt_parp1_zinc/ray_results/TorchTrainer_2025-03-11_23-31-58/41678f15/checkpoint_000002)\n"
     ]
    },
    {
     "name": "stdout",
     "output_type": "stream",
     "text": [
      "Epoch 2: 100%|██████████| 28/28 [00:07<00:00,  3.68it/s, v_num=3.41e+7, train_loss_step=0.381, val_loss=0.693, train_loss_epoch=0.408]\u001b[32m [repeated 3x across cluster]\u001b[0m\n",
      "Validation DataLoader 0:  83%|████████▎ | 5/6 [00:00<00:00,  5.55it/s]\u001b[A\u001b[32m [repeated 5x across cluster]\u001b[0m\n",
      "\u001b[36m(RayTrainWorker pid=18714)\u001b[0m \n",
      "\u001b[36m(RayTrainWorker pid=18714)\u001b[0m \n",
      "\u001b[36m(RayTrainWorker pid=18714)\u001b[0m \n",
      "\u001b[36m(RayTrainWorker pid=18714)\u001b[0m \n",
      "\u001b[36m(RayTrainWorker pid=18714)\u001b[0m \n",
      "Validation: |          | 0/? [00:00<?, ?it/s]\u001b[A\n",
      "\u001b[36m(RayTrainWorker pid=18714)\u001b[0m \n",
      "Validation:   0%|          | 0/6 [00:00<?, ?it/s]\u001b[A\n",
      "Validation DataLoader 0:   0%|          | 0/6 [00:00<?, ?it/s]\u001b[A\n",
      "Epoch 3:  43%|████▎     | 12/28 [00:03<00:04,  3.40it/s, v_num=3.41e+7, train_loss_step=0.321, val_loss=0.240, train_loss_epoch=0.356]\u001b[32m [repeated 20x across cluster]\u001b[0m\n"
     ]
    },
    {
     "name": "stderr",
     "output_type": "stream",
     "text": [
      "2025-03-11 23:32:59,357\tWARNING experiment_state.py:206 -- Experiment state snapshotting has been triggered multiple times in the last 5.0 seconds and may become a bottleneck. A snapshot is forced if `CheckpointConfig(num_to_keep)` is set, and a trial has checkpointed >= `num_to_keep` times since the last snapshot.\n",
      "You may want to consider increasing the `CheckpointConfig(num_to_keep)` or decreasing the frequency of saving checkpoints.\n",
      "You can suppress this warning by setting the environment variable TUNE_WARN_EXCESSIVE_EXPERIMENT_CHECKPOINT_SYNC_THRESHOLD_S to a smaller value than the current threshold (5.0). Set it to 0 to completely suppress this warning.\n",
      "\u001b[36m(RayTrainWorker pid=18714)\u001b[0m Checkpoint successfully created at: Checkpoint(filesystem=local, path=/ictstr01/home/aih/serra.korkmaz/projects/saturn/hopt/hpopt_parp1_zinc/ray_results/TorchTrainer_2025-03-11_23-31-58/ade62d14/checkpoint_000003)\n"
     ]
    },
    {
     "name": "stdout",
     "output_type": "stream",
     "text": [
      "Validation DataLoader 0: 100%|██████████| 6/6 [00:01<00:00,  3.98it/s]\u001b[A\n",
      "Epoch 3: 100%|██████████| 28/28 [00:10<00:00,  2.60it/s, v_num=3.41e+7, train_loss_step=0.354, val_loss=0.285, train_loss_epoch=0.372]\n",
      "Epoch 3: 100%|██████████| 28/28 [00:10<00:00,  2.56it/s, v_num=3.41e+7, train_loss_step=0.354, val_loss=0.285, train_loss_epoch=0.300]\n",
      "Epoch 4:   0%|          | 0/28 [00:00<?, ?it/s, v_num=3.41e+7, train_loss_step=0.354, val_loss=0.285, train_loss_epoch=0.300]         \n",
      "Epoch 4:  18%|█▊        | 5/28 [00:01<00:07,  3.26it/s, v_num=3.41e+7, train_loss_step=0.293, val_loss=0.285, train_loss_epoch=0.300]\n",
      "Epoch 4:  18%|█▊        | 5/28 [00:01<00:07,  3.26it/s, v_num=3.41e+7, train_loss_step=0.512, val_loss=0.285, train_loss_epoch=0.300]\n",
      "Epoch 3: 100%|██████████| 28/28 [00:09<00:00,  3.04it/s, v_num=3.41e+7, train_loss_step=0.354, val_loss=0.594, train_loss_epoch=0.372]\u001b[32m [repeated 3x across cluster]\u001b[0m\n",
      "Validation DataLoader 0:  83%|████████▎ | 5/6 [00:01<00:00,  3.73it/s]\u001b[A\u001b[32m [repeated 5x across cluster]\u001b[0m\n",
      "Validation: |          | 0/? [00:00<?, ?it/s]\u001b[A\n",
      "\u001b[36m(RayTrainWorker pid=18951)\u001b[0m \n",
      "Validation:   0%|          | 0/6 [00:00<?, ?it/s]\u001b[A\n",
      "Validation DataLoader 0:   0%|          | 0/6 [00:00<?, ?it/s]\u001b[A\n",
      "\u001b[36m(RayTrainWorker pid=18951)\u001b[0m \n",
      "\u001b[36m(RayTrainWorker pid=18951)\u001b[0m \n",
      "\u001b[36m(RayTrainWorker pid=18951)\u001b[0m \n",
      "\u001b[36m(RayTrainWorker pid=18951)\u001b[0m \n",
      "Epoch 4:  46%|████▋     | 13/28 [00:04<00:05,  2.96it/s, v_num=3.41e+7, train_loss_step=0.280, val_loss=0.285, train_loss_epoch=0.300]\u001b[32m [repeated 25x across cluster]\u001b[0m\n",
      "\u001b[36m(RayTrainWorker pid=18951)\u001b[0m \n",
      "\u001b[36m(RayTrainWorker pid=18951)\u001b[0m \n",
      "Validation DataLoader 0: 100%|██████████| 6/6 [00:01<00:00,  5.14it/s]\u001b[A\n",
      "\u001b[36m(RayTrainWorker pid=18951)\u001b[0m \n",
      "Epoch 3: 100%|██████████| 28/28 [00:09<00:00,  3.07it/s, v_num=3.41e+7, train_loss_step=0.327, val_loss=0.410, train_loss_epoch=0.356]\n",
      "Epoch 3: 100%|██████████| 28/28 [00:09<00:00,  3.01it/s, v_num=3.41e+7, train_loss_step=0.327, val_loss=0.410, train_loss_epoch=0.284]\n"
     ]
    },
    {
     "name": "stderr",
     "output_type": "stream",
     "text": [
      "\u001b[36m(RayTrainWorker pid=18951)\u001b[0m Checkpoint successfully created at: Checkpoint(filesystem=local, path=/ictstr01/home/aih/serra.korkmaz/projects/saturn/hopt/hpopt_parp1_zinc/ray_results/TorchTrainer_2025-03-11_23-31-58/41678f15/checkpoint_000003)\n"
     ]
    },
    {
     "name": "stdout",
     "output_type": "stream",
     "text": [
      "Epoch 4:   0%|          | 0/28 [00:00<?, ?it/s, v_num=3.41e+7, train_loss_step=0.327, val_loss=0.410, train_loss_epoch=0.284]         \n",
      "Epoch 3: 100%|██████████| 28/28 [00:07<00:00,  3.55it/s, v_num=3.41e+7, train_loss_step=0.327, val_loss=0.240, train_loss_epoch=0.356]\u001b[32m [repeated 3x across cluster]\u001b[0m\n",
      "Validation DataLoader 0:  83%|████████▎ | 5/6 [00:01<00:00,  4.91it/s]\u001b[A\u001b[32m [repeated 5x across cluster]\u001b[0m\n",
      "Validation: |          | 0/? [00:00<?, ?it/s]\u001b[A\n",
      "\u001b[36m(RayTrainWorker pid=18714)\u001b[0m \n",
      "Validation:   0%|          | 0/6 [00:00<?, ?it/s]\u001b[A\n",
      "Validation DataLoader 0:   0%|          | 0/6 [00:00<?, ?it/s]\u001b[A\n",
      "\u001b[36m(RayTrainWorker pid=18714)\u001b[0m \n",
      "\u001b[36m(RayTrainWorker pid=18714)\u001b[0m \n",
      "Epoch 4:  57%|█████▋    | 16/28 [00:04<00:03,  3.81it/s, v_num=3.41e+7, train_loss_step=0.342, val_loss=0.410, train_loss_epoch=0.284]\u001b[32m [repeated 28x across cluster]\u001b[0m\n",
      "\u001b[36m(RayTrainWorker pid=18714)\u001b[0m \n",
      "\u001b[36m(RayTrainWorker pid=18714)\u001b[0m \n",
      "\u001b[36m(RayTrainWorker pid=18714)\u001b[0m \n",
      "\u001b[36m(RayTrainWorker pid=18714)\u001b[0m \n",
      "Validation DataLoader 0: 100%|██████████| 6/6 [00:01<00:00,  3.86it/s]\u001b[A\n",
      "Epoch 4: 100%|██████████| 28/28 [00:11<00:00,  2.54it/s, v_num=3.41e+7, train_loss_step=0.247, val_loss=0.301, train_loss_epoch=0.300]\n",
      "Epoch 4: 100%|██████████| 28/28 [00:11<00:00,  2.50it/s, v_num=3.41e+7, train_loss_step=0.247, val_loss=0.301, train_loss_epoch=0.319]\n",
      "Epoch 5:   0%|          | 0/28 [00:00<?, ?it/s, v_num=3.41e+7, train_loss_step=0.247, val_loss=0.301, train_loss_epoch=0.319]         \n"
     ]
    },
    {
     "name": "stderr",
     "output_type": "stream",
     "text": [
      "\u001b[36m(RayTrainWorker pid=18714)\u001b[0m Checkpoint successfully created at: Checkpoint(filesystem=local, path=/ictstr01/home/aih/serra.korkmaz/projects/saturn/hopt/hpopt_parp1_zinc/ray_results/TorchTrainer_2025-03-11_23-31-58/ade62d14/checkpoint_000004)\n"
     ]
    },
    {
     "name": "stdout",
     "output_type": "stream",
     "text": [
      "Epoch 4: 100%|██████████| 28/28 [00:09<00:00,  2.97it/s, v_num=3.41e+7, train_loss_step=0.247, val_loss=0.285, train_loss_epoch=0.300]\u001b[32m [repeated 3x across cluster]\u001b[0m\n",
      "Validation DataLoader 0:  83%|████████▎ | 5/6 [00:01<00:00,  3.60it/s]\u001b[A\u001b[32m [repeated 5x across cluster]\u001b[0m\n",
      "\u001b[36m(RayTrainWorker pid=18951)\u001b[0m \n",
      "\u001b[36m(RayTrainWorker pid=18951)\u001b[0m \n",
      "\u001b[36m(RayTrainWorker pid=18951)\u001b[0m \n",
      "\u001b[36m(RayTrainWorker pid=18951)\u001b[0m \n",
      "\u001b[36m(RayTrainWorker pid=18951)\u001b[0m \n",
      "\u001b[36m(RayTrainWorker pid=18951)\u001b[0m \n",
      "\u001b[36m(RayTrainWorker pid=18951)\u001b[0m \n"
     ]
    },
    {
     "name": "stderr",
     "output_type": "stream",
     "text": [
      "2025-03-11 23:33:13,669\tWARNING experiment_state.py:206 -- Experiment state snapshotting has been triggered multiple times in the last 5.0 seconds and may become a bottleneck. A snapshot is forced if `CheckpointConfig(num_to_keep)` is set, and a trial has checkpointed >= `num_to_keep` times since the last snapshot.\n",
      "You may want to consider increasing the `CheckpointConfig(num_to_keep)` or decreasing the frequency of saving checkpoints.\n",
      "You can suppress this warning by setting the environment variable TUNE_WARN_EXCESSIVE_EXPERIMENT_CHECKPOINT_SYNC_THRESHOLD_S to a smaller value than the current threshold (5.0). Set it to 0 to completely suppress this warning.\n"
     ]
    },
    {
     "name": "stdout",
     "output_type": "stream",
     "text": [
      "Validation: |          | 0/? [00:00<?, ?it/s]\u001b[A\n",
      "Validation:   0%|          | 0/6 [00:00<?, ?it/s]\u001b[A\n",
      "Validation DataLoader 0:   0%|          | 0/6 [00:00<?, ?it/s]\u001b[A\n",
      "Epoch 5:  46%|████▋     | 13/28 [00:03<00:04,  3.45it/s, v_num=3.41e+7, train_loss_step=0.288, val_loss=0.301, train_loss_epoch=0.319]\u001b[32m [repeated 24x across cluster]\u001b[0m\n",
      "Validation DataLoader 0: 100%|██████████| 6/6 [00:01<00:00,  5.96it/s]\u001b[A\n",
      "Epoch 4: 100%|██████████| 28/28 [00:08<00:00,  3.26it/s, v_num=3.41e+7, train_loss_step=0.283, val_loss=0.719, train_loss_epoch=0.284]\n",
      "Epoch 4: 100%|██████████| 28/28 [00:08<00:00,  3.19it/s, v_num=3.41e+7, train_loss_step=0.283, val_loss=0.719, train_loss_epoch=0.307]\n",
      "Epoch 5:   0%|          | 0/28 [00:00<?, ?it/s, v_num=3.41e+7, train_loss_step=0.283, val_loss=0.719, train_loss_epoch=0.307]         \n",
      "Epoch 4: 100%|██████████| 28/28 [00:07<00:00,  3.71it/s, v_num=3.41e+7, train_loss_step=0.283, val_loss=0.410, train_loss_epoch=0.284]\u001b[32m [repeated 3x across cluster]\u001b[0m\n",
      "Validation DataLoader 0:  83%|████████▎ | 5/6 [00:00<00:00,  5.58it/s]\u001b[A\u001b[32m [repeated 5x across cluster]\u001b[0m\n",
      "Validation: |          | 0/? [00:00<?, ?it/s]\u001b[A\n",
      "Validation:   0%|          | 0/6 [00:00<?, ?it/s]\u001b[A\n",
      "Validation DataLoader 0:   0%|          | 0/6 [00:00<?, ?it/s]\u001b[A\n",
      "\u001b[36m(RayTrainWorker pid=18714)\u001b[0m \n",
      "Epoch 5:  71%|███████▏  | 20/28 [00:05<00:02,  3.50it/s, v_num=3.41e+7, train_loss_step=0.217, val_loss=0.719, train_loss_epoch=0.307]\u001b[32m [repeated 30x across cluster]\u001b[0m\n",
      "\u001b[36m(RayTrainWorker pid=18714)\u001b[0m \n",
      "\u001b[36m(RayTrainWorker pid=18714)\u001b[0m \n",
      "\u001b[36m(RayTrainWorker pid=18714)\u001b[0m \n",
      "\u001b[36m(RayTrainWorker pid=18714)\u001b[0m \n",
      "\u001b[36m(RayTrainWorker pid=18714)\u001b[0m \n",
      "Validation DataLoader 0: 100%|██████████| 6/6 [00:01<00:00,  5.25it/s]\u001b[A\n",
      "Epoch 5: 100%|██████████| 28/28 [00:09<00:00,  2.85it/s, v_num=3.41e+7, train_loss_step=0.211, val_loss=0.673, train_loss_epoch=0.319]\n",
      "Epoch 5: 100%|██████████| 28/28 [00:09<00:00,  2.80it/s, v_num=3.41e+7, train_loss_step=0.211, val_loss=0.673, train_loss_epoch=0.270]\n",
      "Epoch 6:   0%|          | 0/28 [00:00<?, ?it/s, v_num=3.41e+7, train_loss_step=0.211, val_loss=0.673, train_loss_epoch=0.270]         \n"
     ]
    },
    {
     "name": "stderr",
     "output_type": "stream",
     "text": [
      "\u001b[36m(RayTrainWorker pid=18714)\u001b[0m Checkpoint successfully created at: Checkpoint(filesystem=local, path=/ictstr01/home/aih/serra.korkmaz/projects/saturn/hopt/hpopt_parp1_zinc/ray_results/TorchTrainer_2025-03-11_23-31-58/ade62d14/checkpoint_000005)\u001b[32m [repeated 2x across cluster]\u001b[0m\n"
     ]
    },
    {
     "name": "stdout",
     "output_type": "stream",
     "text": [
      "\u001b[36m(RayTrainWorker pid=18951)\u001b[0m \n",
      "Epoch 5: 100%|██████████| 28/28 [00:07<00:00,  3.60it/s, v_num=3.41e+7, train_loss_step=0.200, val_loss=0.719, train_loss_epoch=0.307]\u001b[32m [repeated 6x across cluster]\u001b[0m\n",
      "\u001b[36m(RayTrainWorker pid=18951)\u001b[0m \n",
      "\u001b[36m(RayTrainWorker pid=18951)\u001b[0m \n",
      "\u001b[36m(RayTrainWorker pid=18951)\u001b[0m \n",
      "Validation DataLoader 0:  50%|█████     | 3/6 [00:00<00:00,  5.64it/s]\u001b[A\u001b[32m [repeated 8x across cluster]\u001b[0m\n",
      "\u001b[36m(RayTrainWorker pid=18951)\u001b[0m \n",
      "\u001b[36m(RayTrainWorker pid=18951)\u001b[0m \n",
      "\u001b[36m(RayTrainWorker pid=18951)\u001b[0m \n"
     ]
    },
    {
     "name": "stderr",
     "output_type": "stream",
     "text": [
      "2025-03-11 23:33:22,888\tWARNING experiment_state.py:206 -- Experiment state snapshotting has been triggered multiple times in the last 5.0 seconds and may become a bottleneck. A snapshot is forced if `CheckpointConfig(num_to_keep)` is set, and a trial has checkpointed >= `num_to_keep` times since the last snapshot.\n",
      "You may want to consider increasing the `CheckpointConfig(num_to_keep)` or decreasing the frequency of saving checkpoints.\n",
      "You can suppress this warning by setting the environment variable TUNE_WARN_EXCESSIVE_EXPERIMENT_CHECKPOINT_SYNC_THRESHOLD_S to a smaller value than the current threshold (5.0). Set it to 0 to completely suppress this warning.\n"
     ]
    },
    {
     "name": "stdout",
     "output_type": "stream",
     "text": [
      "Validation: |          | 0/? [00:00<?, ?it/s]\u001b[A\n",
      "Validation:   0%|          | 0/6 [00:00<?, ?it/s]\u001b[A\n",
      "Validation DataLoader 0:   0%|          | 0/6 [00:00<?, ?it/s]\u001b[A\n",
      "Epoch 6:  21%|██▏       | 6/28 [00:01<00:06,  3.34it/s, v_num=3.41e+7, train_loss_step=0.217, val_loss=0.340, train_loss_epoch=0.263]\u001b[32m [repeated 23x across cluster]\u001b[0m\n",
      "Validation DataLoader 0: 100%|██████████| 6/6 [00:01<00:00,  5.88it/s]\u001b[A\n",
      "Epoch 5: 100%|██████████| 28/28 [00:08<00:00,  3.16it/s, v_num=3.41e+7, train_loss_step=0.200, val_loss=0.340, train_loss_epoch=0.307]\n",
      "Epoch 5: 100%|██████████| 28/28 [00:09<00:00,  3.08it/s, v_num=3.41e+7, train_loss_step=0.200, val_loss=0.340, train_loss_epoch=0.263]\n",
      "Epoch 6:   0%|          | 0/28 [00:00<?, ?it/s, v_num=3.41e+7, train_loss_step=0.200, val_loss=0.340, train_loss_epoch=0.263]         \n",
      "Validation DataLoader 0:  83%|████████▎ | 5/6 [00:00<00:00,  5.53it/s]\u001b[A\u001b[32m [repeated 2x across cluster]\u001b[0m\n",
      "Epoch 6:  93%|█████████▎| 26/28 [00:07<00:00,  3.29it/s, v_num=3.41e+7, train_loss_step=0.217, val_loss=0.673, train_loss_epoch=0.270]\n",
      "Epoch 6:  96%|█████████▋| 27/28 [00:08<00:00,  3.28it/s, v_num=3.41e+7, train_loss_step=0.201, val_loss=0.673, train_loss_epoch=0.270]\n",
      "Epoch 6: 100%|██████████| 28/28 [00:08<00:00,  3.29it/s, v_num=3.41e+7, train_loss_step=0.394, val_loss=0.673, train_loss_epoch=0.270]\n",
      "Validation: |          | 0/? [00:00<?, ?it/s]\u001b[A\n",
      "\u001b[36m(RayTrainWorker pid=18714)\u001b[0m \n",
      "Validation:   0%|          | 0/6 [00:00<?, ?it/s]\u001b[A\n",
      "Validation DataLoader 0:   0%|          | 0/6 [00:00<?, ?it/s]\u001b[A\n",
      "\u001b[36m(RayTrainWorker pid=18714)\u001b[0m \n",
      "Epoch 6:  89%|████████▉ | 25/28 [00:06<00:00,  3.67it/s, v_num=3.41e+7, train_loss_step=0.215, val_loss=0.340, train_loss_epoch=0.263]\u001b[32m [repeated 32x across cluster]\u001b[0m\n",
      "\u001b[36m(RayTrainWorker pid=18714)\u001b[0m \n",
      "\u001b[36m(RayTrainWorker pid=18714)\u001b[0m \n",
      "\u001b[36m(RayTrainWorker pid=18714)\u001b[0m \n",
      "\u001b[36m(RayTrainWorker pid=18714)\u001b[0m \n",
      "\u001b[36m(RayTrainWorker pid=18951)\u001b[0m \n",
      "\u001b[36m(RayTrainWorker pid=18714)\u001b[0m \n",
      "Validation DataLoader 0: 100%|██████████| 6/6 [00:01<00:00,  4.76it/s]\u001b[A\n",
      "Epoch 6: 100%|██████████| 28/28 [00:09<00:00,  2.85it/s, v_num=3.41e+7, train_loss_step=0.394, val_loss=0.283, train_loss_epoch=0.270]\n",
      "\u001b[36m(RayTrainWorker pid=18951)\u001b[0m \n",
      "Epoch 6: 100%|██████████| 28/28 [00:10<00:00,  2.79it/s, v_num=3.41e+7, train_loss_step=0.394, val_loss=0.283, train_loss_epoch=0.237]\n"
     ]
    },
    {
     "name": "stderr",
     "output_type": "stream",
     "text": [
      "\u001b[36m(RayTrainWorker pid=18714)\u001b[0m Checkpoint successfully created at: Checkpoint(filesystem=local, path=/ictstr01/home/aih/serra.korkmaz/projects/saturn/hopt/hpopt_parp1_zinc/ray_results/TorchTrainer_2025-03-11_23-31-58/ade62d14/checkpoint_000006)\u001b[32m [repeated 2x across cluster]\u001b[0m\n"
     ]
    },
    {
     "name": "stdout",
     "output_type": "stream",
     "text": [
      "\u001b[36m(RayTrainWorker pid=18951)\u001b[0m \n",
      "Epoch 7:   0%|          | 0/28 [00:00<?, ?it/s, v_num=3.41e+7, train_loss_step=0.394, val_loss=0.283, train_loss_epoch=0.237]         \n",
      "\u001b[36m(RayTrainWorker pid=18951)\u001b[0m \n",
      "\u001b[36m(RayTrainWorker pid=18951)\u001b[0m \n",
      "\u001b[36m(RayTrainWorker pid=18951)\u001b[0m \n"
     ]
    },
    {
     "name": "stderr",
     "output_type": "stream",
     "text": [
      "2025-03-11 23:33:31,763\tWARNING experiment_state.py:206 -- Experiment state snapshotting has been triggered multiple times in the last 5.0 seconds and may become a bottleneck. A snapshot is forced if `CheckpointConfig(num_to_keep)` is set, and a trial has checkpointed >= `num_to_keep` times since the last snapshot.\n",
      "You may want to consider increasing the `CheckpointConfig(num_to_keep)` or decreasing the frequency of saving checkpoints.\n",
      "You can suppress this warning by setting the environment variable TUNE_WARN_EXCESSIVE_EXPERIMENT_CHECKPOINT_SYNC_THRESHOLD_S to a smaller value than the current threshold (5.0). Set it to 0 to completely suppress this warning.\n"
     ]
    },
    {
     "name": "stdout",
     "output_type": "stream",
     "text": [
      "Validation DataLoader 0:  83%|████████▎ | 5/6 [00:00<00:00,  5.63it/s]\u001b[A\u001b[32m [repeated 10x across cluster]\u001b[0m\n",
      "Epoch 6: 100%|██████████| 28/28 [00:07<00:00,  3.74it/s, v_num=3.41e+7, train_loss_step=0.351, val_loss=0.340, train_loss_epoch=0.263]\u001b[32m [repeated 3x across cluster]\u001b[0m\n",
      "Validation: |          | 0/? [00:00<?, ?it/s]\u001b[A\n",
      "Validation:   0%|          | 0/6 [00:00<?, ?it/s]\u001b[A\n",
      "Validation DataLoader 0:   0%|          | 0/6 [00:00<?, ?it/s]\u001b[A\n",
      "Epoch 7:  46%|████▋     | 13/28 [00:03<00:04,  3.27it/s, v_num=3.41e+7, train_loss_step=0.262, val_loss=0.283, train_loss_epoch=0.237]\u001b[32m [repeated 25x across cluster]\u001b[0m\n",
      "Validation DataLoader 0: 100%|██████████| 6/6 [00:00<00:00,  6.06it/s]\u001b[A\n",
      "Epoch 6: 100%|██████████| 28/28 [00:08<00:00,  3.29it/s, v_num=3.41e+7, train_loss_step=0.351, val_loss=0.180, train_loss_epoch=0.263]\n",
      "Epoch 6: 100%|██████████| 28/28 [00:08<00:00,  3.21it/s, v_num=3.41e+7, train_loss_step=0.351, val_loss=0.180, train_loss_epoch=0.219]\n",
      "Epoch 7:   0%|          | 0/28 [00:00<?, ?it/s, v_num=3.41e+7, train_loss_step=0.351, val_loss=0.180, train_loss_epoch=0.219]         \n",
      "Validation: |          | 0/? [00:00<?, ?it/s]\u001b[A\n",
      "Epoch 7: 100%|██████████| 28/28 [00:07<00:00,  3.87it/s, v_num=3.41e+7, train_loss_step=0.184, val_loss=0.180, train_loss_epoch=0.219]\u001b[32m [repeated 3x across cluster]\u001b[0m\n",
      "\u001b[36m(RayTrainWorker pid=18951)\u001b[0m \n",
      "Validation:   0%|          | 0/6 [00:00<?, ?it/s]\u001b[A\n",
      "Validation DataLoader 0:   0%|          | 0/6 [00:00<?, ?it/s]\u001b[A\n",
      "\u001b[36m(RayTrainWorker pid=18951)\u001b[0m \n",
      "Validation DataLoader 0:  17%|█▋        | 1/6 [00:00<00:00,  5.27it/s]\u001b[A\n",
      "\u001b[36m(RayTrainWorker pid=18951)\u001b[0m \n",
      "Validation DataLoader 0:  33%|███▎      | 2/6 [00:00<00:00,  5.34it/s]\u001b[A\n",
      "\u001b[36m(RayTrainWorker pid=18951)\u001b[0m \n",
      "Validation DataLoader 0:  50%|█████     | 3/6 [00:00<00:00,  5.35it/s]\u001b[A\n",
      "\u001b[36m(RayTrainWorker pid=18714)\u001b[0m \n",
      "\u001b[36m(RayTrainWorker pid=18951)\u001b[0m \n",
      "\u001b[36m(RayTrainWorker pid=18951)\u001b[0m \n",
      "\u001b[36m(RayTrainWorker pid=18714)\u001b[0m \n",
      "Epoch 7:  89%|████████▉ | 25/28 [00:07<00:00,  3.23it/s, v_num=3.41e+7, train_loss_step=0.149, val_loss=0.283, train_loss_epoch=0.237]\u001b[32m [repeated 25x across cluster]\u001b[0m\n",
      "\u001b[36m(RayTrainWorker pid=18951)\u001b[0m \n",
      "Validation DataLoader 0: 100%|██████████| 6/6 [00:01<00:00,  5.90it/s]\u001b[A\n",
      "Epoch 7: 100%|██████████| 28/28 [00:08<00:00,  3.37it/s, v_num=3.41e+7, train_loss_step=0.184, val_loss=0.174, train_loss_epoch=0.219]\n",
      "\u001b[36m(RayTrainWorker pid=18714)\u001b[0m \n",
      "Epoch 7: 100%|██████████| 28/28 [00:08<00:00,  3.30it/s, v_num=3.41e+7, train_loss_step=0.184, val_loss=0.174, train_loss_epoch=0.215]\n",
      "Epoch 8:   0%|          | 0/28 [00:00<?, ?it/s, v_num=3.41e+7, train_loss_step=0.184, val_loss=0.174, train_loss_epoch=0.215]         \n"
     ]
    },
    {
     "name": "stderr",
     "output_type": "stream",
     "text": [
      "\u001b[36m(RayTrainWorker pid=18951)\u001b[0m Checkpoint successfully created at: Checkpoint(filesystem=local, path=/ictstr01/home/aih/serra.korkmaz/projects/saturn/hopt/hpopt_parp1_zinc/ray_results/TorchTrainer_2025-03-11_23-31-58/41678f15/checkpoint_000007)\u001b[32m [repeated 2x across cluster]\u001b[0m\n"
     ]
    },
    {
     "name": "stdout",
     "output_type": "stream",
     "text": [
      "\u001b[36m(RayTrainWorker pid=18714)\u001b[0m \n",
      "\u001b[36m(RayTrainWorker pid=18714)\u001b[0m \n",
      "\u001b[36m(RayTrainWorker pid=18714)\u001b[0m \n"
     ]
    },
    {
     "name": "stderr",
     "output_type": "stream",
     "text": [
      "2025-03-11 23:33:41,090\tWARNING experiment_state.py:206 -- Experiment state snapshotting has been triggered multiple times in the last 5.0 seconds and may become a bottleneck. A snapshot is forced if `CheckpointConfig(num_to_keep)` is set, and a trial has checkpointed >= `num_to_keep` times since the last snapshot.\n",
      "You may want to consider increasing the `CheckpointConfig(num_to_keep)` or decreasing the frequency of saving checkpoints.\n",
      "You can suppress this warning by setting the environment variable TUNE_WARN_EXCESSIVE_EXPERIMENT_CHECKPOINT_SYNC_THRESHOLD_S to a smaller value than the current threshold (5.0). Set it to 0 to completely suppress this warning.\n"
     ]
    },
    {
     "name": "stdout",
     "output_type": "stream",
     "text": [
      "Validation: |          | 0/? [00:00<?, ?it/s]\u001b[A\n",
      "Epoch 7: 100%|██████████| 28/28 [00:08<00:00,  3.25it/s, v_num=3.41e+7, train_loss_step=0.201, val_loss=0.283, train_loss_epoch=0.237]\u001b[32m [repeated 3x across cluster]\u001b[0m\n",
      "Validation:   0%|          | 0/6 [00:00<?, ?it/s]\u001b[A\n",
      "Validation DataLoader 0:   0%|          | 0/6 [00:00<?, ?it/s]\u001b[A\n",
      "Validation DataLoader 0:  83%|████████▎ | 5/6 [00:01<00:00,  4.82it/s]\u001b[A\u001b[32m [repeated 7x across cluster]\u001b[0m\n",
      "Epoch 8:  43%|████▎     | 12/28 [00:03<00:05,  3.02it/s, v_num=3.41e+7, train_loss_step=0.201, val_loss=0.182, train_loss_epoch=0.226]\u001b[32m [repeated 28x across cluster]\u001b[0m\n",
      "Validation DataLoader 0: 100%|██████████| 6/6 [00:01<00:00,  5.18it/s]\u001b[A\n",
      "Epoch 7: 100%|██████████| 28/28 [00:09<00:00,  2.86it/s, v_num=3.41e+7, train_loss_step=0.201, val_loss=0.182, train_loss_epoch=0.237]\n",
      "Epoch 7: 100%|██████████| 28/28 [00:09<00:00,  2.81it/s, v_num=3.41e+7, train_loss_step=0.201, val_loss=0.182, train_loss_epoch=0.226]\n",
      "Epoch 8:   0%|          | 0/28 [00:00<?, ?it/s, v_num=3.41e+7, train_loss_step=0.201, val_loss=0.182, train_loss_epoch=0.226]         \n",
      "Validation: |          | 0/? [00:00<?, ?it/s]\u001b[A\n",
      "\u001b[36m(RayTrainWorker pid=18951)\u001b[0m \n",
      "Validation:   0%|          | 0/6 [00:00<?, ?it/s]\u001b[A\n",
      "Validation DataLoader 0:   0%|          | 0/6 [00:00<?, ?it/s]\u001b[A\n",
      "\u001b[36m(RayTrainWorker pid=18951)\u001b[0m \n",
      "\u001b[36m(RayTrainWorker pid=18951)\u001b[0m \n",
      "\u001b[36m(RayTrainWorker pid=18951)\u001b[0m \n",
      "\u001b[36m(RayTrainWorker pid=18951)\u001b[0m \n",
      "\u001b[36m(RayTrainWorker pid=18951)\u001b[0m \n",
      "Epoch 8: 100%|██████████| 28/28 [00:07<00:00,  3.59it/s, v_num=3.41e+7, train_loss_step=0.292, val_loss=0.174, train_loss_epoch=0.215]\u001b[32m [repeated 3x across cluster]\u001b[0m\n",
      "Validation DataLoader 0:  83%|████████▎ | 5/6 [00:01<00:00,  4.37it/s]\u001b[A\u001b[32m [repeated 5x across cluster]\u001b[0m\n",
      "\u001b[36m(RayTrainWorker pid=18951)\u001b[0m \n",
      "Validation DataLoader 0: 100%|██████████| 6/6 [00:01<00:00,  4.68it/s]\u001b[A\n",
      "Epoch 8: 100%|██████████| 28/28 [00:09<00:00,  3.06it/s, v_num=3.41e+7, train_loss_step=0.292, val_loss=0.230, train_loss_epoch=0.215]\n",
      "Epoch 8: 100%|██████████| 28/28 [00:09<00:00,  2.99it/s, v_num=3.41e+7, train_loss_step=0.292, val_loss=0.230, train_loss_epoch=0.261]\n",
      "Epoch 9:   0%|          | 0/28 [00:00<?, ?it/s, v_num=3.41e+7, train_loss_step=0.292, val_loss=0.230, train_loss_epoch=0.261]         \n"
     ]
    },
    {
     "name": "stderr",
     "output_type": "stream",
     "text": [
      "\u001b[36m(RayTrainWorker pid=18951)\u001b[0m Checkpoint successfully created at: Checkpoint(filesystem=local, path=/ictstr01/home/aih/serra.korkmaz/projects/saturn/hopt/hpopt_parp1_zinc/ray_results/TorchTrainer_2025-03-11_23-31-58/41678f15/checkpoint_000008)\u001b[32m [repeated 2x across cluster]\u001b[0m\n"
     ]
    },
    {
     "name": "stdout",
     "output_type": "stream",
     "text": [
      "Epoch 8:  89%|████████▉ | 25/28 [00:08<00:00,  3.00it/s, v_num=3.41e+7, train_loss_step=0.280, val_loss=0.182, train_loss_epoch=0.226]\u001b[32m [repeated 22x across cluster]\u001b[0m\n",
      "\u001b[36m(RayTrainWorker pid=18714)\u001b[0m \n",
      "\u001b[36m(RayTrainWorker pid=18714)\u001b[0m \n",
      "\u001b[36m(RayTrainWorker pid=18714)\u001b[0m \n",
      "\u001b[36m(RayTrainWorker pid=18714)\u001b[0m \n",
      "\u001b[36m(RayTrainWorker pid=18714)\u001b[0m \n",
      "\u001b[36m(RayTrainWorker pid=18714)\u001b[0m \n",
      "\u001b[36m(RayTrainWorker pid=18714)\u001b[0m \n",
      "\u001b[36m(RayTrainWorker pid=18714)\u001b[0m \n",
      "                                                                      \u001b[A\n"
     ]
    },
    {
     "name": "stderr",
     "output_type": "stream",
     "text": [
      "2025-03-11 23:33:52,429\tWARNING experiment_state.py:206 -- Experiment state snapshotting has been triggered multiple times in the last 5.0 seconds and may become a bottleneck. A snapshot is forced if `CheckpointConfig(num_to_keep)` is set, and a trial has checkpointed >= `num_to_keep` times since the last snapshot.\n",
      "You may want to consider increasing the `CheckpointConfig(num_to_keep)` or decreasing the frequency of saving checkpoints.\n",
      "You can suppress this warning by setting the environment variable TUNE_WARN_EXCESSIVE_EXPERIMENT_CHECKPOINT_SYNC_THRESHOLD_S to a smaller value than the current threshold (5.0). Set it to 0 to completely suppress this warning.\n"
     ]
    },
    {
     "name": "stdout",
     "output_type": "stream",
     "text": [
      "Validation: |          | 0/? [00:00<?, ?it/s]\u001b[A\n",
      "Validation:   0%|          | 0/6 [00:00<?, ?it/s]\u001b[A\n",
      "Validation DataLoader 0:   0%|          | 0/6 [00:00<?, ?it/s]\u001b[A\n",
      "Epoch 8: 100%|██████████| 28/28 [00:09<00:00,  2.97it/s, v_num=3.41e+7, train_loss_step=0.273, val_loss=0.182, train_loss_epoch=0.226]\u001b[32m [repeated 3x across cluster]\u001b[0m\n",
      "Validation DataLoader 0:  83%|████████▎ | 5/6 [00:01<00:00,  3.56it/s]\u001b[A\u001b[32m [repeated 5x across cluster]\u001b[0m\n",
      "Validation DataLoader 0: 100%|██████████| 6/6 [00:01<00:00,  3.81it/s]\u001b[A\n",
      "Epoch 8: 100%|██████████| 28/28 [00:11<00:00,  2.49it/s, v_num=3.41e+7, train_loss_step=0.273, val_loss=0.938, train_loss_epoch=0.269]\u001b[32m [repeated 2x across cluster]\u001b[0m\n",
      "Epoch 9:   0%|          | 0/28 [00:00<?, ?it/s, v_num=3.41e+7, train_loss_step=0.273, val_loss=0.938, train_loss_epoch=0.269]         \n",
      "Epoch 9:  64%|██████▍   | 18/28 [00:05<00:03,  3.32it/s, v_num=3.41e+7, train_loss_step=0.244, val_loss=0.230, train_loss_epoch=0.261]\u001b[32m [repeated 26x across cluster]\u001b[0m\n",
      "Validation: |          | 0/? [00:00<?, ?it/s]\u001b[A\n",
      "Validation:   0%|          | 0/6 [00:00<?, ?it/s]\u001b[A\n",
      "Validation DataLoader 0:   0%|          | 0/6 [00:00<?, ?it/s]\u001b[A\n",
      "\u001b[36m(RayTrainWorker pid=18951)\u001b[0m \n",
      "\u001b[36m(RayTrainWorker pid=18951)\u001b[0m \n",
      "\u001b[36m(RayTrainWorker pid=18951)\u001b[0m \n",
      "\u001b[36m(RayTrainWorker pid=18951)\u001b[0m \n",
      "\u001b[36m(RayTrainWorker pid=18951)\u001b[0m \n",
      "\u001b[36m(RayTrainWorker pid=18951)\u001b[0m \n",
      "Validation DataLoader 0: 100%|██████████| 6/6 [00:00<00:00,  6.14it/s]\u001b[A\n",
      "Epoch 9: 100%|██████████| 28/28 [00:09<00:00,  3.04it/s, v_num=3.41e+7, train_loss_step=0.158, val_loss=0.213, train_loss_epoch=0.261]\n",
      "Epoch 10:   0%|          | 0/28 [00:00<?, ?it/s, v_num=3.41e+7, train_loss_step=0.158, val_loss=0.213, train_loss_epoch=0.208]        \n"
     ]
    },
    {
     "name": "stderr",
     "output_type": "stream",
     "text": [
      "\u001b[36m(RayTrainWorker pid=18951)\u001b[0m Checkpoint successfully created at: Checkpoint(filesystem=local, path=/ictstr01/home/aih/serra.korkmaz/projects/saturn/hopt/hpopt_parp1_zinc/ray_results/TorchTrainer_2025-03-11_23-31-58/41678f15/checkpoint_000009)\u001b[32m [repeated 2x across cluster]\u001b[0m\n"
     ]
    },
    {
     "name": "stdout",
     "output_type": "stream",
     "text": [
      "Epoch 9: 100%|██████████| 28/28 [00:08<00:00,  3.43it/s, v_num=3.41e+7, train_loss_step=0.158, val_loss=0.230, train_loss_epoch=0.261]\u001b[32m [repeated 3x across cluster]\u001b[0m\n",
      "Validation DataLoader 0:  83%|████████▎ | 5/6 [00:00<00:00,  5.74it/s]\u001b[A\u001b[32m [repeated 5x across cluster]\u001b[0m\n",
      "Epoch 9: 100%|██████████| 28/28 [00:09<00:00,  2.98it/s, v_num=3.41e+7, train_loss_step=0.158, val_loss=0.213, train_loss_epoch=0.208]\n",
      "Epoch 9:  86%|████████▌ | 24/28 [00:07<00:01,  3.10it/s, v_num=3.41e+7, train_loss_step=0.247, val_loss=0.938, train_loss_epoch=0.269]\n",
      "Epoch 9:  86%|████████▌ | 24/28 [00:07<00:01,  3.10it/s, v_num=3.41e+7, train_loss_step=0.164, val_loss=0.938, train_loss_epoch=0.269]\n",
      "Epoch 9:  89%|████████▉ | 25/28 [00:08<00:00,  3.11it/s, v_num=3.41e+7, train_loss_step=0.142, val_loss=0.938, train_loss_epoch=0.269]\u001b[32m [repeated 26x across cluster]\u001b[0m\n",
      "\u001b[36m(RayTrainWorker pid=18714)\u001b[0m \n",
      "\u001b[36m(RayTrainWorker pid=18714)\u001b[0m \n",
      "\u001b[36m(RayTrainWorker pid=18714)\u001b[0m \n",
      "\u001b[36m(RayTrainWorker pid=18714)\u001b[0m \n",
      "\u001b[36m(RayTrainWorker pid=18714)\u001b[0m \n",
      "\u001b[36m(RayTrainWorker pid=18714)\u001b[0m \n"
     ]
    },
    {
     "name": "stderr",
     "output_type": "stream",
     "text": [
      "2025-03-11 23:34:03,162\tWARNING experiment_state.py:206 -- Experiment state snapshotting has been triggered multiple times in the last 5.0 seconds and may become a bottleneck. A snapshot is forced if `CheckpointConfig(num_to_keep)` is set, and a trial has checkpointed >= `num_to_keep` times since the last snapshot.\n",
      "You may want to consider increasing the `CheckpointConfig(num_to_keep)` or decreasing the frequency of saving checkpoints.\n",
      "You can suppress this warning by setting the environment variable TUNE_WARN_EXCESSIVE_EXPERIMENT_CHECKPOINT_SYNC_THRESHOLD_S to a smaller value than the current threshold (5.0). Set it to 0 to completely suppress this warning.\n"
     ]
    },
    {
     "name": "stdout",
     "output_type": "stream",
     "text": [
      "\u001b[36m(RayTrainWorker pid=18714)\u001b[0m \n",
      "Epoch 9: 100%|██████████| 28/28 [00:10<00:00,  2.64it/s, v_num=3.41e+7, train_loss_step=0.177, val_loss=0.480, train_loss_epoch=0.225]\n",
      "Validation: |          | 0/? [00:00<?, ?it/s]\u001b[A\n",
      "Validation:   0%|          | 0/6 [00:00<?, ?it/s]\u001b[A\n",
      "Validation DataLoader 0:   0%|          | 0/6 [00:00<?, ?it/s]\u001b[A\n",
      "Validation DataLoader 0: 100%|██████████| 6/6 [00:01<00:00,  4.14it/s]\u001b[A\n",
      "Epoch 9: 100%|██████████| 28/28 [00:10<00:00,  2.70it/s, v_num=3.41e+7, train_loss_step=0.177, val_loss=0.480, train_loss_epoch=0.269]\n",
      "Epoch 10:   0%|          | 0/28 [00:00<?, ?it/s, v_num=3.41e+7, train_loss_step=0.177, val_loss=0.480, train_loss_epoch=0.225]        \n",
      "Epoch 9: 100%|██████████| 28/28 [00:08<00:00,  3.15it/s, v_num=3.41e+7, train_loss_step=0.177, val_loss=0.938, train_loss_epoch=0.269]\u001b[32m [repeated 3x across cluster]\u001b[0m\n",
      "Validation DataLoader 0:  83%|████████▎ | 5/6 [00:01<00:00,  3.91it/s]\u001b[A\u001b[32m [repeated 5x across cluster]\u001b[0m\n",
      "Epoch 10:  25%|██▌       | 7/28 [00:02<00:07,  2.91it/s, v_num=3.41e+7, train_loss_step=0.237, val_loss=0.480, train_loss_epoch=0.225]\u001b[32m [repeated 25x across cluster]\u001b[0m\n",
      "Validation: |          | 0/? [00:00<?, ?it/s]\u001b[A\n",
      "\u001b[36m(RayTrainWorker pid=18951)\u001b[0m \n",
      "Validation:   0%|          | 0/6 [00:00<?, ?it/s]\u001b[A\n",
      "Validation DataLoader 0:   0%|          | 0/6 [00:00<?, ?it/s]\u001b[A\n",
      "\u001b[36m(RayTrainWorker pid=18951)\u001b[0m \n",
      "\u001b[36m(RayTrainWorker pid=18951)\u001b[0m \n",
      "\u001b[36m(RayTrainWorker pid=18951)\u001b[0m \n",
      "\u001b[36m(RayTrainWorker pid=18951)\u001b[0m \n",
      "\u001b[36m(RayTrainWorker pid=18951)\u001b[0m \n",
      "\u001b[36m(RayTrainWorker pid=18951)\u001b[0m \n",
      "Validation DataLoader 0: 100%|██████████| 6/6 [00:01<00:00,  4.41it/s]\u001b[A\n",
      "Epoch 10: 100%|██████████| 28/28 [00:09<00:00,  3.03it/s, v_num=3.41e+7, train_loss_step=0.167, val_loss=0.130, train_loss_epoch=0.208]\n",
      "Epoch 10: 100%|██████████| 28/28 [00:09<00:00,  2.96it/s, v_num=3.41e+7, train_loss_step=0.167, val_loss=0.130, train_loss_epoch=0.177]\n"
     ]
    },
    {
     "name": "stderr",
     "output_type": "stream",
     "text": [
      "\u001b[36m(RayTrainWorker pid=18951)\u001b[0m Checkpoint successfully created at: Checkpoint(filesystem=local, path=/ictstr01/home/aih/serra.korkmaz/projects/saturn/hopt/hpopt_parp1_zinc/ray_results/TorchTrainer_2025-03-11_23-31-58/41678f15/checkpoint_000010)\u001b[32m [repeated 2x across cluster]\u001b[0m\n"
     ]
    },
    {
     "name": "stdout",
     "output_type": "stream",
     "text": [
      "Epoch 11:   0%|          | 0/28 [00:00<?, ?it/s, v_num=3.41e+7, train_loss_step=0.167, val_loss=0.130, train_loss_epoch=0.177]         \n",
      "Epoch 10: 100%|██████████| 28/28 [00:07<00:00,  3.58it/s, v_num=3.41e+7, train_loss_step=0.167, val_loss=0.213, train_loss_epoch=0.208]\u001b[32m [repeated 3x across cluster]\u001b[0m\n",
      "Validation DataLoader 0:  83%|████████▎ | 5/6 [00:01<00:00,  4.12it/s]\u001b[A\u001b[32m [repeated 5x across cluster]\u001b[0m\n",
      "Epoch 10:  79%|███████▊  | 22/28 [00:07<00:02,  2.91it/s, v_num=3.41e+7, train_loss_step=0.234, val_loss=0.480, train_loss_epoch=0.225]\u001b[32m [repeated 24x across cluster]\u001b[0m\n",
      "Validation: |          | 0/? [00:00<?, ?it/s]\u001b[A\n",
      "Validation:   0%|          | 0/6 [00:00<?, ?it/s]\u001b[A\n",
      "Validation DataLoader 0:   0%|          | 0/6 [00:00<?, ?it/s]\u001b[A\n",
      "\u001b[36m(RayTrainWorker pid=18714)\u001b[0m \n",
      "\u001b[36m(RayTrainWorker pid=18714)\u001b[0m \n",
      "\u001b[36m(RayTrainWorker pid=18714)\u001b[0m \n",
      "\u001b[36m(RayTrainWorker pid=18714)\u001b[0m \n",
      "\u001b[36m(RayTrainWorker pid=18714)\u001b[0m \n",
      "\u001b[36m(RayTrainWorker pid=18714)\u001b[0m \n",
      "Validation DataLoader 0: 100%|██████████| 6/6 [00:01<00:00,  4.75it/s]\u001b[A\n",
      "Epoch 10: 100%|██████████| 28/28 [00:10<00:00,  2.56it/s, v_num=3.41e+7, train_loss_step=0.191, val_loss=0.182, train_loss_epoch=0.225]\n",
      "Epoch 10: 100%|██████████| 28/28 [00:11<00:00,  2.51it/s, v_num=3.41e+7, train_loss_step=0.191, val_loss=0.182, train_loss_epoch=0.192]\n",
      "Epoch 11:   0%|          | 0/28 [00:00<?, ?it/s, v_num=3.41e+7, train_loss_step=0.191, val_loss=0.182, train_loss_epoch=0.192]         \n"
     ]
    },
    {
     "name": "stderr",
     "output_type": "stream",
     "text": [
      "\u001b[36m(RayTrainWorker pid=18714)\u001b[0m Checkpoint successfully created at: Checkpoint(filesystem=local, path=/ictstr01/home/aih/serra.korkmaz/projects/saturn/hopt/hpopt_parp1_zinc/ray_results/TorchTrainer_2025-03-11_23-31-58/ade62d14/checkpoint_000010)\n"
     ]
    },
    {
     "name": "stdout",
     "output_type": "stream",
     "text": [
      "Epoch 10: 100%|██████████| 28/28 [00:09<00:00,  2.91it/s, v_num=3.41e+7, train_loss_step=0.191, val_loss=0.480, train_loss_epoch=0.225]\u001b[32m [repeated 3x across cluster]\u001b[0m\n",
      "Validation DataLoader 0:  83%|████████▎ | 5/6 [00:01<00:00,  4.55it/s]\u001b[A\u001b[32m [repeated 5x across cluster]\u001b[0m\n",
      "Epoch 11:  82%|████████▏ | 23/28 [00:06<00:01,  3.37it/s, v_num=3.41e+7, train_loss_step=0.147, val_loss=0.130, train_loss_epoch=0.177]\u001b[32m [repeated 24x across cluster]\u001b[0m\n",
      "\u001b[36m(RayTrainWorker pid=18951)\u001b[0m \n",
      "\u001b[36m(RayTrainWorker pid=18951)\u001b[0m \n",
      "\u001b[36m(RayTrainWorker pid=18951)\u001b[0m \n",
      "Validation: |          | 0/? [00:00<?, ?it/s]\u001b[A\n",
      "Validation:   0%|          | 0/6 [00:00<?, ?it/s]\u001b[A\n",
      "Validation DataLoader 0:   0%|          | 0/6 [00:00<?, ?it/s]\u001b[A\n",
      "\u001b[36m(RayTrainWorker pid=18951)\u001b[0m \n",
      "\u001b[36m(RayTrainWorker pid=18951)\u001b[0m \n"
     ]
    },
    {
     "name": "stderr",
     "output_type": "stream",
     "text": [
      "2025-03-11 23:34:18,782\tWARNING experiment_state.py:206 -- Experiment state snapshotting has been triggered multiple times in the last 5.0 seconds and may become a bottleneck. A snapshot is forced if `CheckpointConfig(num_to_keep)` is set, and a trial has checkpointed >= `num_to_keep` times since the last snapshot.\n",
      "You may want to consider increasing the `CheckpointConfig(num_to_keep)` or decreasing the frequency of saving checkpoints.\n",
      "You can suppress this warning by setting the environment variable TUNE_WARN_EXCESSIVE_EXPERIMENT_CHECKPOINT_SYNC_THRESHOLD_S to a smaller value than the current threshold (5.0). Set it to 0 to completely suppress this warning.\n"
     ]
    },
    {
     "name": "stdout",
     "output_type": "stream",
     "text": [
      "\u001b[36m(RayTrainWorker pid=18951)\u001b[0m \n"
     ]
    },
    {
     "name": "stderr",
     "output_type": "stream",
     "text": [
      "\u001b[36m(RayTrainWorker pid=18951)\u001b[0m Checkpoint successfully created at: Checkpoint(filesystem=local, path=/ictstr01/home/aih/serra.korkmaz/projects/saturn/hopt/hpopt_parp1_zinc/ray_results/TorchTrainer_2025-03-11_23-31-58/41678f15/checkpoint_000011)\n"
     ]
    },
    {
     "name": "stdout",
     "output_type": "stream",
     "text": [
      "Validation DataLoader 0: 100%|██████████| 6/6 [00:01<00:00,  4.52it/s]\u001b[A\n",
      "Epoch 11: 100%|██████████| 28/28 [00:09<00:00,  2.96it/s, v_num=3.41e+7, train_loss_step=0.159, val_loss=0.143, train_loss_epoch=0.177]\n",
      "Epoch 11: 100%|██████████| 28/28 [00:09<00:00,  2.89it/s, v_num=3.41e+7, train_loss_step=0.159, val_loss=0.143, train_loss_epoch=0.153]\n",
      "Epoch 12:   0%|          | 0/28 [00:00<?, ?it/s, v_num=3.41e+7, train_loss_step=0.159, val_loss=0.143, train_loss_epoch=0.153]         \n",
      "Epoch 11: 100%|██████████| 28/28 [00:08<00:00,  3.46it/s, v_num=3.41e+7, train_loss_step=0.159, val_loss=0.130, train_loss_epoch=0.177]\u001b[32m [repeated 3x across cluster]\u001b[0m\n",
      "Validation DataLoader 0:  83%|████████▎ | 5/6 [00:01<00:00,  4.19it/s]\u001b[A\u001b[32m [repeated 5x across cluster]\u001b[0m\n",
      "Epoch 12:  25%|██▌       | 7/28 [00:02<00:06,  3.36it/s, v_num=3.41e+7, train_loss_step=0.113, val_loss=0.143, train_loss_epoch=0.153]\u001b[32m [repeated 24x across cluster]\u001b[0m\n",
      "Validation: |          | 0/? [00:00<?, ?it/s]\u001b[A\n",
      "Validation:   0%|          | 0/6 [00:00<?, ?it/s]\u001b[A\n",
      "Validation DataLoader 0:   0%|          | 0/6 [00:00<?, ?it/s]\u001b[A\n",
      "\u001b[36m(RayTrainWorker pid=18714)\u001b[0m \n",
      "\u001b[36m(RayTrainWorker pid=18714)\u001b[0m \n",
      "\u001b[36m(RayTrainWorker pid=18714)\u001b[0m \n",
      "Epoch 11: 100%|██████████| 28/28 [00:09<00:00,  2.86it/s, v_num=3.41e+7, train_loss_step=0.194, val_loss=0.182, train_loss_epoch=0.192]\u001b[32m [repeated 3x across cluster]\u001b[0m\n",
      "Validation DataLoader 0:  50%|█████     | 3/6 [00:00<00:00,  3.53it/s]\u001b[A\u001b[32m [repeated 3x across cluster]\u001b[0m\n",
      "\u001b[36m(RayTrainWorker pid=18714)\u001b[0m \n",
      "\u001b[36m(RayTrainWorker pid=18714)\u001b[0m \n",
      "\u001b[36m(RayTrainWorker pid=18714)\u001b[0m \n",
      "Validation DataLoader 0: 100%|██████████| 6/6 [00:01<00:00,  3.77it/s]\u001b[A\n",
      "Epoch 11: 100%|██████████| 28/28 [00:11<00:00,  2.45it/s, v_num=3.41e+7, train_loss_step=0.194, val_loss=0.216, train_loss_epoch=0.192]\n",
      "Epoch 12:  86%|████████▌ | 24/28 [00:07<00:01,  3.36it/s, v_num=3.41e+7, train_loss_step=0.155, val_loss=0.143, train_loss_epoch=0.153]\u001b[32m [repeated 24x across cluster]\u001b[0m\n",
      "Epoch 11: 100%|██████████| 28/28 [00:11<00:00,  2.41it/s, v_num=3.41e+7, train_loss_step=0.194, val_loss=0.216, train_loss_epoch=0.174]\n"
     ]
    },
    {
     "name": "stderr",
     "output_type": "stream",
     "text": [
      "\u001b[36m(RayTrainWorker pid=18714)\u001b[0m Checkpoint successfully created at: Checkpoint(filesystem=local, path=/ictstr01/home/aih/serra.korkmaz/projects/saturn/hopt/hpopt_parp1_zinc/ray_results/TorchTrainer_2025-03-11_23-31-58/ade62d14/checkpoint_000011)\n"
     ]
    },
    {
     "name": "stdout",
     "output_type": "stream",
     "text": [
      "Epoch 12:   0%|          | 0/28 [00:00<?, ?it/s, v_num=3.41e+7, train_loss_step=0.194, val_loss=0.216, train_loss_epoch=0.174]         \n",
      "\u001b[36m(RayTrainWorker pid=18951)\u001b[0m \n",
      "\u001b[36m(RayTrainWorker pid=18951)\u001b[0m \n",
      "\u001b[36m(RayTrainWorker pid=18951)\u001b[0m \n",
      "\u001b[36m(RayTrainWorker pid=18951)\u001b[0m \n",
      "\u001b[36m(RayTrainWorker pid=18951)\u001b[0m \n",
      "\u001b[36m(RayTrainWorker pid=18951)\u001b[0m \n"
     ]
    },
    {
     "name": "stderr",
     "output_type": "stream",
     "text": [
      "2025-03-11 23:34:28,533\tWARNING experiment_state.py:206 -- Experiment state snapshotting has been triggered multiple times in the last 5.0 seconds and may become a bottleneck. A snapshot is forced if `CheckpointConfig(num_to_keep)` is set, and a trial has checkpointed >= `num_to_keep` times since the last snapshot.\n",
      "You may want to consider increasing the `CheckpointConfig(num_to_keep)` or decreasing the frequency of saving checkpoints.\n",
      "You can suppress this warning by setting the environment variable TUNE_WARN_EXCESSIVE_EXPERIMENT_CHECKPOINT_SYNC_THRESHOLD_S to a smaller value than the current threshold (5.0). Set it to 0 to completely suppress this warning.\n",
      "\u001b[36m(RayTrainWorker pid=18951)\u001b[0m Checkpoint successfully created at: Checkpoint(filesystem=local, path=/ictstr01/home/aih/serra.korkmaz/projects/saturn/hopt/hpopt_parp1_zinc/ray_results/TorchTrainer_2025-03-11_23-31-58/41678f15/checkpoint_000012)\n"
     ]
    },
    {
     "name": "stdout",
     "output_type": "stream",
     "text": [
      "Validation: |          | 0/? [00:00<?, ?it/s]\u001b[A\n",
      "Validation:   0%|          | 0/6 [00:00<?, ?it/s]\u001b[A\n",
      "Validation DataLoader 0:   0%|          | 0/6 [00:00<?, ?it/s]\u001b[A\n",
      "Epoch 12: 100%|██████████| 28/28 [00:08<00:00,  3.43it/s, v_num=3.41e+7, train_loss_step=0.192, val_loss=0.143, train_loss_epoch=0.153]\u001b[32m [repeated 3x across cluster]\u001b[0m\n",
      "Validation DataLoader 0:  83%|████████▎ | 5/6 [00:01<00:00,  4.79it/s]\u001b[A\u001b[32m [repeated 7x across cluster]\u001b[0m\n",
      "Validation DataLoader 0: 100%|██████████| 6/6 [00:01<00:00,  5.19it/s]\u001b[A\n",
      "Epoch 12: 100%|██████████| 28/28 [00:09<00:00,  2.99it/s, v_num=3.41e+7, train_loss_step=0.192, val_loss=0.233, train_loss_epoch=0.153]\n",
      "Epoch 13:  29%|██▊       | 8/28 [00:02<00:06,  3.13it/s, v_num=3.41e+7, train_loss_step=0.116, val_loss=0.233, train_loss_epoch=0.163]\u001b[32m [repeated 22x across cluster]\u001b[0m\n",
      "Epoch 12: 100%|██████████| 28/28 [00:09<00:00,  2.92it/s, v_num=3.41e+7, train_loss_step=0.192, val_loss=0.233, train_loss_epoch=0.163]\n",
      "Epoch 13:   0%|          | 0/28 [00:00<?, ?it/s, v_num=3.41e+7, train_loss_step=0.192, val_loss=0.233, train_loss_epoch=0.163]         \n",
      "Validation: |          | 0/? [00:00<?, ?it/s]\u001b[A\n",
      "Epoch 12: 100%|██████████| 28/28 [00:09<00:00,  3.01it/s, v_num=3.41e+7, train_loss_step=0.238, val_loss=0.216, train_loss_epoch=0.174]\u001b[32m [repeated 3x across cluster]\u001b[0m\n",
      "\u001b[36m(RayTrainWorker pid=18714)\u001b[0m \n",
      "Validation:   0%|          | 0/6 [00:00<?, ?it/s]\u001b[A\n",
      "Validation DataLoader 0:   0%|          | 0/6 [00:00<?, ?it/s]\u001b[A\n",
      "\u001b[36m(RayTrainWorker pid=18714)\u001b[0m \n",
      "Validation DataLoader 0:  17%|█▋        | 1/6 [00:00<00:01,  4.21it/s]\u001b[A\n",
      "\u001b[36m(RayTrainWorker pid=18714)\u001b[0m \n",
      "Validation DataLoader 0:  33%|███▎      | 2/6 [00:00<00:01,  3.75it/s]\u001b[A\n",
      "Epoch 13:  89%|████████▉ | 25/28 [00:07<00:00,  3.41it/s, v_num=3.41e+7, train_loss_step=0.231, val_loss=0.233, train_loss_epoch=0.163]\u001b[32m [repeated 29x across cluster]\u001b[0m\n",
      "\u001b[36m(RayTrainWorker pid=18714)\u001b[0m \n",
      "Validation DataLoader 0:  50%|█████     | 3/6 [00:00<00:00,  3.61it/s]\u001b[A\n",
      "\u001b[36m(RayTrainWorker pid=18714)\u001b[0m \n",
      "Validation DataLoader 0:  67%|██████▋   | 4/6 [00:01<00:00,  3.61it/s]\u001b[A\n",
      "\u001b[36m(RayTrainWorker pid=18714)\u001b[0m \n",
      "Validation DataLoader 0:  83%|████████▎ | 5/6 [00:01<00:00,  3.61it/s]\u001b[A\n",
      "\u001b[36m(RayTrainWorker pid=18951)\u001b[0m \n",
      "\u001b[36m(RayTrainWorker pid=18714)\u001b[0m \n",
      "Validation DataLoader 0: 100%|██████████| 6/6 [00:01<00:00,  3.89it/s]\u001b[A\n",
      "Epoch 12: 100%|██████████| 28/28 [00:10<00:00,  2.57it/s, v_num=3.41e+7, train_loss_step=0.238, val_loss=0.215, train_loss_epoch=0.174]\n",
      "\u001b[36m(RayTrainWorker pid=18951)\u001b[0m \n",
      "Epoch 12: 100%|██████████| 28/28 [00:11<00:00,  2.52it/s, v_num=3.41e+7, train_loss_step=0.238, val_loss=0.215, train_loss_epoch=0.184]\n"
     ]
    },
    {
     "name": "stderr",
     "output_type": "stream",
     "text": [
      "\u001b[36m(RayTrainWorker pid=18714)\u001b[0m Checkpoint successfully created at: Checkpoint(filesystem=local, path=/ictstr01/home/aih/serra.korkmaz/projects/saturn/hopt/hpopt_parp1_zinc/ray_results/TorchTrainer_2025-03-11_23-31-58/ade62d14/checkpoint_000012)\n"
     ]
    },
    {
     "name": "stdout",
     "output_type": "stream",
     "text": [
      "Epoch 13:   0%|          | 0/28 [00:00<?, ?it/s, v_num=3.41e+7, train_loss_step=0.238, val_loss=0.215, train_loss_epoch=0.184]         \n",
      "\u001b[36m(RayTrainWorker pid=18951)\u001b[0m \n",
      "\u001b[36m(RayTrainWorker pid=18951)\u001b[0m \n",
      "\u001b[36m(RayTrainWorker pid=18951)\u001b[0m \n",
      "\u001b[36m(RayTrainWorker pid=18951)\u001b[0m \n"
     ]
    },
    {
     "name": "stderr",
     "output_type": "stream",
     "text": [
      "\u001b[36m(RayTrainWorker pid=18951)\u001b[0m Checkpoint successfully created at: Checkpoint(filesystem=local, path=/ictstr01/home/aih/serra.korkmaz/projects/saturn/hopt/hpopt_parp1_zinc/ray_results/TorchTrainer_2025-03-11_23-31-58/41678f15/checkpoint_000013)\n",
      "2025-03-11 23:34:38,393\tWARNING experiment_state.py:206 -- Experiment state snapshotting has been triggered multiple times in the last 5.0 seconds and may become a bottleneck. A snapshot is forced if `CheckpointConfig(num_to_keep)` is set, and a trial has checkpointed >= `num_to_keep` times since the last snapshot.\n",
      "You may want to consider increasing the `CheckpointConfig(num_to_keep)` or decreasing the frequency of saving checkpoints.\n",
      "You can suppress this warning by setting the environment variable TUNE_WARN_EXCESSIVE_EXPERIMENT_CHECKPOINT_SYNC_THRESHOLD_S to a smaller value than the current threshold (5.0). Set it to 0 to completely suppress this warning.\n"
     ]
    },
    {
     "name": "stdout",
     "output_type": "stream",
     "text": [
      "Validation: |          | 0/? [00:00<?, ?it/s]\u001b[A\n",
      "Epoch 13: 100%|██████████| 28/28 [00:08<00:00,  3.42it/s, v_num=3.41e+7, train_loss_step=0.121, val_loss=0.233, train_loss_epoch=0.163]\u001b[32m [repeated 3x across cluster]\u001b[0m\n",
      "Validation:   0%|          | 0/6 [00:00<?, ?it/s]\u001b[A\n",
      "Validation DataLoader 0:   0%|          | 0/6 [00:00<?, ?it/s]\u001b[A\n",
      "Validation DataLoader 0:  83%|████████▎ | 5/6 [00:01<00:00,  4.47it/s]\u001b[A\u001b[32m [repeated 5x across cluster]\u001b[0m\n",
      "Epoch 14:  32%|███▏      | 9/28 [00:02<00:05,  3.34it/s, v_num=3.41e+7, train_loss_step=0.136, val_loss=0.110, train_loss_epoch=0.131]\u001b[32m [repeated 19x across cluster]\u001b[0m\n",
      "Validation DataLoader 0: 100%|██████████| 6/6 [00:01<00:00,  4.75it/s]\u001b[A\n",
      "Epoch 13: 100%|██████████| 28/28 [00:09<00:00,  2.95it/s, v_num=3.41e+7, train_loss_step=0.121, val_loss=0.110, train_loss_epoch=0.163]\n",
      "Epoch 13: 100%|██████████| 28/28 [00:09<00:00,  2.89it/s, v_num=3.41e+7, train_loss_step=0.121, val_loss=0.110, train_loss_epoch=0.131]\n",
      "Epoch 14:   0%|          | 0/28 [00:00<?, ?it/s, v_num=3.41e+7, train_loss_step=0.121, val_loss=0.110, train_loss_epoch=0.131]         \n",
      "Epoch 13:  93%|█████████▎| 26/28 [00:08<00:00,  3.14it/s, v_num=3.41e+7, train_loss_step=0.119, val_loss=0.215, train_loss_epoch=0.184]\n",
      "Epoch 14:  93%|█████████▎| 26/28 [00:07<00:00,  3.56it/s, v_num=3.41e+7, train_loss_step=0.135, val_loss=0.110, train_loss_epoch=0.131] \n",
      "Validation: |          | 0/? [00:00<?, ?it/s]\u001b[A\n",
      "Epoch 14:  89%|████████▉ | 25/28 [00:07<00:00,  3.56it/s, v_num=3.41e+7, train_loss_step=0.0866, val_loss=0.110, train_loss_epoch=0.131]\u001b[32m [repeated 31x across cluster]\u001b[0m\n",
      "\u001b[36m(RayTrainWorker pid=18714)\u001b[0m \n",
      "Validation:   0%|          | 0/6 [00:00<?, ?it/s]\u001b[A\n",
      "Validation DataLoader 0:   0%|          | 0/6 [00:00<?, ?it/s]\u001b[A\n",
      "\u001b[36m(RayTrainWorker pid=18951)\u001b[0m \n",
      "\u001b[36m(RayTrainWorker pid=18714)\u001b[0m \n",
      "Validation DataLoader 0:  17%|█▋        | 1/6 [00:00<00:00,  5.88it/s]\u001b[A\n",
      "\u001b[36m(RayTrainWorker pid=18951)\u001b[0m \n",
      "\u001b[36m(RayTrainWorker pid=18714)\u001b[0m \n",
      "\u001b[36m(RayTrainWorker pid=18951)\u001b[0m \n",
      "\u001b[36m(RayTrainWorker pid=18951)\u001b[0m \n",
      "\u001b[36m(RayTrainWorker pid=18714)\u001b[0m \n",
      "\u001b[36m(RayTrainWorker pid=18951)\u001b[0m \n",
      "\u001b[36m(RayTrainWorker pid=18714)\u001b[0m \n",
      "\u001b[36m(RayTrainWorker pid=18951)\u001b[0m \n",
      "\u001b[36m(RayTrainWorker pid=18951)\u001b[0m \n",
      "Validation DataLoader 0: 100%|██████████| 6/6 [00:01<00:00,  5.30it/s]\u001b[A\n",
      "Epoch 14: 100%|██████████| 28/28 [00:08<00:00,  3.13it/s, v_num=3.41e+7, train_loss_step=0.116, val_loss=0.181, train_loss_epoch=0.131]\n",
      "\u001b[36m(RayTrainWorker pid=18714)\u001b[0m \n",
      "\u001b[36m(RayTrainWorker pid=18714)\u001b[0m \n",
      "Epoch 14: 100%|██████████| 28/28 [00:09<00:00,  3.05it/s, v_num=3.41e+7, train_loss_step=0.116, val_loss=0.181, train_loss_epoch=0.128]\n",
      "Epoch 15:   0%|          | 0/28 [00:00<?, ?it/s, v_num=3.41e+7, train_loss_step=0.116, val_loss=0.181, train_loss_epoch=0.128]         \n"
     ]
    },
    {
     "name": "stderr",
     "output_type": "stream",
     "text": [
      "\u001b[36m(RayTrainWorker pid=18951)\u001b[0m Checkpoint successfully created at: Checkpoint(filesystem=local, path=/ictstr01/home/aih/serra.korkmaz/projects/saturn/hopt/hpopt_parp1_zinc/ray_results/TorchTrainer_2025-03-11_23-31-58/41678f15/checkpoint_000014)\n",
      "2025-03-11 23:34:47,890\tWARNING experiment_state.py:206 -- Experiment state snapshotting has been triggered multiple times in the last 5.0 seconds and may become a bottleneck. A snapshot is forced if `CheckpointConfig(num_to_keep)` is set, and a trial has checkpointed >= `num_to_keep` times since the last snapshot.\n",
      "You may want to consider increasing the `CheckpointConfig(num_to_keep)` or decreasing the frequency of saving checkpoints.\n",
      "You can suppress this warning by setting the environment variable TUNE_WARN_EXCESSIVE_EXPERIMENT_CHECKPOINT_SYNC_THRESHOLD_S to a smaller value than the current threshold (5.0). Set it to 0 to completely suppress this warning.\n",
      "\u001b[36m(RayTrainWorker pid=18714)\u001b[0m Checkpoint successfully created at: Checkpoint(filesystem=local, path=/ictstr01/home/aih/serra.korkmaz/projects/saturn/hopt/hpopt_parp1_zinc/ray_results/TorchTrainer_2025-03-11_23-31-58/ade62d14/checkpoint_000013)\n"
     ]
    },
    {
     "name": "stdout",
     "output_type": "stream",
     "text": [
      "Epoch 14: 100%|██████████| 28/28 [00:07<00:00,  3.61it/s, v_num=3.41e+7, train_loss_step=0.116, val_loss=0.110, train_loss_epoch=0.131]\u001b[32m [repeated 4x across cluster]\u001b[0m\n",
      "Validation: |          | 0/? [00:00<?, ?it/s]\u001b[A\n",
      "Epoch 14:  39%|███▉      | 11/28 [00:03<00:05,  3.19it/s, v_num=3.41e+7, train_loss_step=0.118, val_loss=0.163, train_loss_epoch=0.160]\u001b[32m [repeated 24x across cluster]\u001b[0m\n",
      "Validation:   0%|          | 0/6 [00:00<?, ?it/s]\u001b[A\n",
      "Validation DataLoader 0:   0%|          | 0/6 [00:00<?, ?it/s]\u001b[A\n",
      "Validation DataLoader 0:  83%|████████▎ | 5/6 [00:01<00:00,  4.31it/s]\u001b[A\u001b[32m [repeated 9x across cluster]\u001b[0m\n",
      "Validation DataLoader 0: 100%|██████████| 6/6 [00:01<00:00,  4.50it/s]\u001b[A\n",
      "Epoch 13: 100%|██████████| 28/28 [00:10<00:00,  2.76it/s, v_num=3.41e+7, train_loss_step=0.167, val_loss=0.163, train_loss_epoch=0.184]\n",
      "Epoch 13: 100%|██████████| 28/28 [00:10<00:00,  2.71it/s, v_num=3.41e+7, train_loss_step=0.167, val_loss=0.163, train_loss_epoch=0.160]\n",
      "Epoch 14:   0%|          | 0/28 [00:00<?, ?it/s, v_num=3.41e+7, train_loss_step=0.167, val_loss=0.163, train_loss_epoch=0.160]         \n",
      "Validation: |          | 0/? [00:00<?, ?it/s]\u001b[A\n",
      "\u001b[36m(RayTrainWorker pid=18951)\u001b[0m \n",
      "Validation:   0%|          | 0/6 [00:00<?, ?it/s]\u001b[A\n",
      "Validation DataLoader 0:   0%|          | 0/6 [00:00<?, ?it/s]\u001b[A\n",
      "\u001b[36m(RayTrainWorker pid=18951)\u001b[0m \n",
      "\u001b[36m(RayTrainWorker pid=18951)\u001b[0m \n",
      "\u001b[36m(RayTrainWorker pid=18951)\u001b[0m \n",
      "\u001b[36m(RayTrainWorker pid=18951)\u001b[0m \n",
      "Epoch 14:  93%|█████████▎| 26/28 [00:08<00:00,  3.18it/s, v_num=3.41e+7, train_loss_step=0.173, val_loss=0.163, train_loss_epoch=0.160]\u001b[32m [repeated 4x across cluster]\u001b[0m\n",
      "\u001b[36m(RayTrainWorker pid=18951)\u001b[0m \n",
      "Validation DataLoader 0: 100%|██████████| 6/6 [00:00<00:00,  6.29it/s]\u001b[A\n",
      "\u001b[36m(RayTrainWorker pid=18951)\u001b[0m \n",
      "Epoch 15: 100%|██████████| 28/28 [00:08<00:00,  3.32it/s, v_num=3.41e+7, train_loss_step=0.112, val_loss=0.112, train_loss_epoch=0.128]\n"
     ]
    },
    {
     "name": "stderr",
     "output_type": "stream",
     "text": [
      "\u001b[36m(RayTrainWorker pid=18951)\u001b[0m Checkpoint successfully created at: Checkpoint(filesystem=local, path=/ictstr01/home/aih/serra.korkmaz/projects/saturn/hopt/hpopt_parp1_zinc/ray_results/TorchTrainer_2025-03-11_23-31-58/41678f15/checkpoint_000015)\n"
     ]
    },
    {
     "name": "stdout",
     "output_type": "stream",
     "text": [
      "Epoch 15: 100%|██████████| 28/28 [00:08<00:00,  3.23it/s, v_num=3.41e+7, train_loss_step=0.112, val_loss=0.112, train_loss_epoch=0.123]\n",
      "Epoch 14:  89%|████████▉ | 25/28 [00:07<00:00,  3.17it/s, v_num=3.41e+7, train_loss_step=0.111, val_loss=0.163, train_loss_epoch=0.160]\u001b[32m [repeated 26x across cluster]\u001b[0m\n",
      "Epoch 16:   0%|          | 0/28 [00:00<?, ?it/s, v_num=3.41e+7, train_loss_step=0.112, val_loss=0.112, train_loss_epoch=0.123]         \n",
      "Validation DataLoader 0:  83%|████████▎ | 5/6 [00:00<00:00,  5.88it/s]\u001b[A\u001b[32m [repeated 5x across cluster]\u001b[0m\n",
      "\u001b[36m(RayTrainWorker pid=18714)\u001b[0m \n",
      "\u001b[36m(RayTrainWorker pid=18714)\u001b[0m \n",
      "\u001b[36m(RayTrainWorker pid=18714)\u001b[0m \n",
      "\u001b[36m(RayTrainWorker pid=18714)\u001b[0m \n",
      "\u001b[36m(RayTrainWorker pid=18714)\u001b[0m \n"
     ]
    },
    {
     "name": "stderr",
     "output_type": "stream",
     "text": [
      "2025-03-11 23:34:58,413\tWARNING experiment_state.py:206 -- Experiment state snapshotting has been triggered multiple times in the last 5.0 seconds and may become a bottleneck. A snapshot is forced if `CheckpointConfig(num_to_keep)` is set, and a trial has checkpointed >= `num_to_keep` times since the last snapshot.\n",
      "You may want to consider increasing the `CheckpointConfig(num_to_keep)` or decreasing the frequency of saving checkpoints.\n",
      "You can suppress this warning by setting the environment variable TUNE_WARN_EXCESSIVE_EXPERIMENT_CHECKPOINT_SYNC_THRESHOLD_S to a smaller value than the current threshold (5.0). Set it to 0 to completely suppress this warning.\n"
     ]
    },
    {
     "name": "stdout",
     "output_type": "stream",
     "text": [
      "\u001b[36m(RayTrainWorker pid=18714)\u001b[0m \n"
     ]
    },
    {
     "name": "stderr",
     "output_type": "stream",
     "text": [
      "\u001b[36m(RayTrainWorker pid=18714)\u001b[0m Checkpoint successfully created at: Checkpoint(filesystem=local, path=/ictstr01/home/aih/serra.korkmaz/projects/saturn/hopt/hpopt_parp1_zinc/ray_results/TorchTrainer_2025-03-11_23-31-58/ade62d14/checkpoint_000014)\n"
     ]
    },
    {
     "name": "stdout",
     "output_type": "stream",
     "text": [
      "Validation: |          | 0/? [00:00<?, ?it/s]\u001b[A\n",
      "Validation:   0%|          | 0/6 [00:00<?, ?it/s]\u001b[A\n",
      "Validation DataLoader 0:   0%|          | 0/6 [00:00<?, ?it/s]\u001b[A\n",
      "Epoch 14: 100%|██████████| 28/28 [00:08<00:00,  3.22it/s, v_num=3.41e+7, train_loss_step=0.133, val_loss=0.163, train_loss_epoch=0.160]\u001b[32m [repeated 2x across cluster]\u001b[0m\n",
      "Validation DataLoader 0: 100%|██████████| 6/6 [00:01<00:00,  4.03it/s]\u001b[A\n",
      "Epoch 14: 100%|██████████| 28/28 [00:10<00:00,  2.74it/s, v_num=3.41e+7, train_loss_step=0.133, val_loss=0.382, train_loss_epoch=0.160]\n",
      "Epoch 14: 100%|██████████| 28/28 [00:10<00:00,  2.68it/s, v_num=3.41e+7, train_loss_step=0.133, val_loss=0.382, train_loss_epoch=0.153]\n",
      "Epoch 15:  36%|███▌      | 10/28 [00:03<00:05,  3.13it/s, v_num=3.41e+7, train_loss_step=0.0944, val_loss=0.382, train_loss_epoch=0.153]\u001b[32m [repeated 28x across cluster]\u001b[0m\n",
      "Epoch 15:   0%|          | 0/28 [00:00<?, ?it/s, v_num=3.41e+7, train_loss_step=0.133, val_loss=0.382, train_loss_epoch=0.153]         \n",
      "Validation DataLoader 0:  83%|████████▎ | 5/6 [00:01<00:00,  3.78it/s]\u001b[A\u001b[32m [repeated 5x across cluster]\u001b[0m\n",
      "Validation: |          | 0/? [00:00<?, ?it/s]\u001b[A\n",
      "Validation:   0%|          | 0/6 [00:00<?, ?it/s]\u001b[A\n",
      "Validation DataLoader 0:   0%|          | 0/6 [00:00<?, ?it/s]\u001b[A\n",
      "\u001b[36m(RayTrainWorker pid=18951)\u001b[0m \n",
      "\u001b[36m(RayTrainWorker pid=18951)\u001b[0m \n",
      "\u001b[36m(RayTrainWorker pid=18951)\u001b[0m \n",
      "\u001b[36m(RayTrainWorker pid=18951)\u001b[0m \n",
      "\u001b[36m(RayTrainWorker pid=18951)\u001b[0m \n",
      "\u001b[36m(RayTrainWorker pid=18951)\u001b[0m \n",
      "Validation DataLoader 0: 100%|██████████| 6/6 [00:01<00:00,  4.50it/s]\u001b[A\n",
      "Epoch 16: 100%|██████████| 28/28 [00:08<00:00,  3.15it/s, v_num=3.41e+7, train_loss_step=0.101, val_loss=0.133, train_loss_epoch=0.123]\n",
      "Epoch 16: 100%|██████████| 28/28 [00:09<00:00,  3.07it/s, v_num=3.41e+7, train_loss_step=0.101, val_loss=0.133, train_loss_epoch=0.119]\n",
      "Epoch 17:   0%|          | 0/28 [00:00<?, ?it/s, v_num=3.41e+7, train_loss_step=0.101, val_loss=0.133, train_loss_epoch=0.119]         \n"
     ]
    },
    {
     "name": "stderr",
     "output_type": "stream",
     "text": [
      "\u001b[36m(RayTrainWorker pid=18951)\u001b[0m Checkpoint successfully created at: Checkpoint(filesystem=local, path=/ictstr01/home/aih/serra.korkmaz/projects/saturn/hopt/hpopt_parp1_zinc/ray_results/TorchTrainer_2025-03-11_23-31-58/41678f15/checkpoint_000016)\n"
     ]
    },
    {
     "name": "stdout",
     "output_type": "stream",
     "text": [
      "Epoch 16: 100%|██████████| 28/28 [00:07<00:00,  3.73it/s, v_num=3.41e+7, train_loss_step=0.101, val_loss=0.112, train_loss_epoch=0.123] \u001b[32m [repeated 3x across cluster]\u001b[0m\n",
      "Epoch 17:  11%|█         | 3/28 [00:00<00:06,  3.82it/s, v_num=3.41e+7, train_loss_step=0.0924, val_loss=0.133, train_loss_epoch=0.119]\u001b[32m [repeated 25x across cluster]\u001b[0m\n",
      "Validation DataLoader 0:  83%|████████▎ | 5/6 [00:01<00:00,  4.19it/s]\u001b[A\u001b[32m [repeated 5x across cluster]\u001b[0m\n",
      "\u001b[36m(RayTrainWorker pid=18714)\u001b[0m \n",
      "\u001b[36m(RayTrainWorker pid=18714)\u001b[0m \n",
      "\u001b[36m(RayTrainWorker pid=18714)\u001b[0m \n",
      "\u001b[36m(RayTrainWorker pid=18714)\u001b[0m \n",
      "\u001b[36m(RayTrainWorker pid=18714)\u001b[0m \n",
      "Validation: |          | 0/? [00:00<?, ?it/s]\u001b[A\n",
      "Validation:   0%|          | 0/6 [00:00<?, ?it/s]\u001b[A\n",
      "Validation DataLoader 0:   0%|          | 0/6 [00:00<?, ?it/s]\u001b[A\n",
      "\u001b[36m(RayTrainWorker pid=18714)\u001b[0m \n"
     ]
    },
    {
     "name": "stderr",
     "output_type": "stream",
     "text": [
      "\u001b[36m(RayTrainWorker pid=18714)\u001b[0m Checkpoint successfully created at: Checkpoint(filesystem=local, path=/ictstr01/home/aih/serra.korkmaz/projects/saturn/hopt/hpopt_parp1_zinc/ray_results/TorchTrainer_2025-03-11_23-31-58/ade62d14/checkpoint_000015)\n",
      "2025-03-11 23:35:09,485\tWARNING experiment_state.py:206 -- Experiment state snapshotting has been triggered multiple times in the last 5.0 seconds and may become a bottleneck. A snapshot is forced if `CheckpointConfig(num_to_keep)` is set, and a trial has checkpointed >= `num_to_keep` times since the last snapshot.\n",
      "You may want to consider increasing the `CheckpointConfig(num_to_keep)` or decreasing the frequency of saving checkpoints.\n",
      "You can suppress this warning by setting the environment variable TUNE_WARN_EXCESSIVE_EXPERIMENT_CHECKPOINT_SYNC_THRESHOLD_S to a smaller value than the current threshold (5.0). Set it to 0 to completely suppress this warning.\n"
     ]
    },
    {
     "name": "stdout",
     "output_type": "stream",
     "text": [
      "Validation DataLoader 0: 100%|██████████| 6/6 [00:01<00:00,  3.79it/s]\u001b[A\n",
      "Epoch 15: 100%|██████████| 28/28 [00:10<00:00,  2.62it/s, v_num=3.41e+7, train_loss_step=0.140, val_loss=0.141, train_loss_epoch=0.153]\n",
      "Epoch 15: 100%|██████████| 28/28 [00:10<00:00,  2.57it/s, v_num=3.41e+7, train_loss_step=0.140, val_loss=0.141, train_loss_epoch=0.145]\n",
      "Epoch 16:   0%|          | 0/28 [00:00<?, ?it/s, v_num=3.41e+7, train_loss_step=0.140, val_loss=0.141, train_loss_epoch=0.145]         \n",
      "Epoch 15: 100%|██████████| 28/28 [00:09<00:00,  3.09it/s, v_num=3.41e+7, train_loss_step=0.140, val_loss=0.382, train_loss_epoch=0.153]\u001b[32m [repeated 3x across cluster]\u001b[0m\n",
      "Epoch 16:  29%|██▊       | 8/28 [00:02<00:06,  3.26it/s, v_num=3.41e+7, train_loss_step=0.0975, val_loss=0.141, train_loss_epoch=0.145]\u001b[32m [repeated 26x across cluster]\u001b[0m\n",
      "Validation DataLoader 0:  83%|████████▎ | 5/6 [00:01<00:00,  3.52it/s]\u001b[A\u001b[32m [repeated 5x across cluster]\u001b[0m\n",
      "\u001b[36m(RayTrainWorker pid=18951)\u001b[0m \n",
      "Validation: |          | 0/? [00:00<?, ?it/s]\u001b[A\n",
      "\u001b[36m(RayTrainWorker pid=18951)\u001b[0m \n",
      "Validation:   0%|          | 0/6 [00:00<?, ?it/s]\u001b[A\n",
      "Validation DataLoader 0:   0%|          | 0/6 [00:00<?, ?it/s]\u001b[A\n",
      "\u001b[36m(RayTrainWorker pid=18951)\u001b[0m \n",
      "\u001b[36m(RayTrainWorker pid=18951)\u001b[0m \n",
      "\u001b[36m(RayTrainWorker pid=18951)\u001b[0m \n",
      "\u001b[36m(RayTrainWorker pid=18951)\u001b[0m \n",
      "\u001b[36m(RayTrainWorker pid=18951)\u001b[0m \n",
      "\u001b[36m(RayTrainWorker pid=18951)\u001b[0m \n",
      "Validation DataLoader 0: 100%|██████████| 6/6 [00:01<00:00,  4.68it/s]\u001b[A\n",
      "Epoch 17: 100%|██████████| 28/28 [00:09<00:00,  3.02it/s, v_num=3.41e+7, train_loss_step=0.134, val_loss=0.110, train_loss_epoch=0.119]\n",
      "Epoch 17: 100%|██████████| 28/28 [00:09<00:00,  2.95it/s, v_num=3.41e+7, train_loss_step=0.134, val_loss=0.110, train_loss_epoch=0.107]\n",
      "Epoch 18:   0%|          | 0/28 [00:00<?, ?it/s, v_num=3.41e+7, train_loss_step=0.134, val_loss=0.110, train_loss_epoch=0.107]         \n"
     ]
    },
    {
     "name": "stderr",
     "output_type": "stream",
     "text": [
      "\u001b[36m(RayTrainWorker pid=18951)\u001b[0m Checkpoint successfully created at: Checkpoint(filesystem=local, path=/ictstr01/home/aih/serra.korkmaz/projects/saturn/hopt/hpopt_parp1_zinc/ray_results/TorchTrainer_2025-03-11_23-31-58/41678f15/checkpoint_000017)\n"
     ]
    },
    {
     "name": "stdout",
     "output_type": "stream",
     "text": [
      "Epoch 17: 100%|██████████| 28/28 [00:07<00:00,  3.53it/s, v_num=3.41e+7, train_loss_step=0.134, val_loss=0.133, train_loss_epoch=0.119]\u001b[32m [repeated 3x across cluster]\u001b[0m\n",
      "Epoch 16:  82%|████████▏ | 23/28 [00:07<00:01,  2.99it/s, v_num=3.41e+7, train_loss_step=0.176, val_loss=0.141, train_loss_epoch=0.145]\u001b[32m [repeated 24x across cluster]\u001b[0m\n",
      "Validation DataLoader 0:  83%|████████▎ | 5/6 [00:01<00:00,  4.39it/s]\u001b[A\u001b[32m [repeated 5x across cluster]\u001b[0m\n",
      "Validation: |          | 0/? [00:00<?, ?it/s]\u001b[A\n",
      "\u001b[36m(RayTrainWorker pid=18714)\u001b[0m \n",
      "Validation:   0%|          | 0/6 [00:00<?, ?it/s]\u001b[A\n",
      "Validation DataLoader 0:   0%|          | 0/6 [00:00<?, ?it/s]\u001b[A\n",
      "\u001b[36m(RayTrainWorker pid=18714)\u001b[0m \n",
      "\u001b[36m(RayTrainWorker pid=18714)\u001b[0m \n",
      "\u001b[36m(RayTrainWorker pid=18714)\u001b[0m \n",
      "\u001b[36m(RayTrainWorker pid=18714)\u001b[0m \n",
      "\u001b[36m(RayTrainWorker pid=18714)\u001b[0m \n",
      "Validation DataLoader 0: 100%|██████████| 6/6 [00:01<00:00,  3.88it/s]\u001b[A\n",
      "Epoch 16: 100%|██████████| 28/28 [00:10<00:00,  2.63it/s, v_num=3.41e+7, train_loss_step=0.122, val_loss=0.168, train_loss_epoch=0.145]\n"
     ]
    },
    {
     "name": "stderr",
     "output_type": "stream",
     "text": [
      "\u001b[36m(RayTrainWorker pid=18714)\u001b[0m Checkpoint successfully created at: Checkpoint(filesystem=local, path=/ictstr01/home/aih/serra.korkmaz/projects/saturn/hopt/hpopt_parp1_zinc/ray_results/TorchTrainer_2025-03-11_23-31-58/ade62d14/checkpoint_000016)\n"
     ]
    },
    {
     "name": "stdout",
     "output_type": "stream",
     "text": [
      "Epoch 16: 100%|██████████| 28/28 [00:10<00:00,  2.58it/s, v_num=3.41e+7, train_loss_step=0.122, val_loss=0.168, train_loss_epoch=0.145]\n",
      "Epoch 17:   0%|          | 0/28 [00:00<?, ?it/s, v_num=3.41e+7, train_loss_step=0.122, val_loss=0.168, train_loss_epoch=0.145]         \n",
      "Epoch 16: 100%|██████████| 28/28 [00:09<00:00,  3.09it/s, v_num=3.41e+7, train_loss_step=0.122, val_loss=0.141, train_loss_epoch=0.145]\u001b[32m [repeated 3x across cluster]\u001b[0m\n",
      "Epoch 17:  21%|██▏       | 6/28 [00:01<00:06,  3.47it/s, v_num=3.41e+7, train_loss_step=0.140, val_loss=0.168, train_loss_epoch=0.145]\u001b[32m [repeated 27x across cluster]\u001b[0m\n",
      "Validation DataLoader 0:  83%|████████▎ | 5/6 [00:01<00:00,  3.62it/s]\u001b[A\u001b[32m [repeated 5x across cluster]\u001b[0m\n",
      "Validation: |          | 0/? [00:00<?, ?it/s]\u001b[A\n",
      "Validation:   0%|          | 0/6 [00:00<?, ?it/s]\u001b[A\n",
      "Validation DataLoader 0:   0%|          | 0/6 [00:00<?, ?it/s]\u001b[A\n",
      "\u001b[36m(RayTrainWorker pid=18951)\u001b[0m \n",
      "\u001b[36m(RayTrainWorker pid=18951)\u001b[0m \n",
      "\u001b[36m(RayTrainWorker pid=18951)\u001b[0m \n",
      "\u001b[36m(RayTrainWorker pid=18951)\u001b[0m \n",
      "\u001b[36m(RayTrainWorker pid=18951)\u001b[0m \n",
      "\u001b[36m(RayTrainWorker pid=18951)\u001b[0m \n",
      "Validation DataLoader 0: 100%|██████████| 6/6 [00:01<00:00,  5.76it/s]\u001b[A\n",
      "Epoch 18: 100%|██████████| 28/28 [00:08<00:00,  3.29it/s, v_num=3.41e+7, train_loss_step=0.0772, val_loss=0.0765, train_loss_epoch=0.107]\n"
     ]
    },
    {
     "name": "stderr",
     "output_type": "stream",
     "text": [
      "2025-03-11 23:35:24,230\tWARNING experiment_state.py:206 -- Experiment state snapshotting has been triggered multiple times in the last 5.0 seconds and may become a bottleneck. A snapshot is forced if `CheckpointConfig(num_to_keep)` is set, and a trial has checkpointed >= `num_to_keep` times since the last snapshot.\n",
      "You may want to consider increasing the `CheckpointConfig(num_to_keep)` or decreasing the frequency of saving checkpoints.\n",
      "You can suppress this warning by setting the environment variable TUNE_WARN_EXCESSIVE_EXPERIMENT_CHECKPOINT_SYNC_THRESHOLD_S to a smaller value than the current threshold (5.0). Set it to 0 to completely suppress this warning.\n"
     ]
    },
    {
     "name": "stdout",
     "output_type": "stream",
     "text": [
      "Epoch 18: 100%|██████████| 28/28 [00:08<00:00,  3.21it/s, v_num=3.41e+7, train_loss_step=0.0772, val_loss=0.0765, train_loss_epoch=0.102]\n",
      "Epoch 19:   0%|          | 0/28 [00:00<?, ?it/s, v_num=3.41e+7, train_loss_step=0.0772, val_loss=0.0765, train_loss_epoch=0.102]         \n",
      "Epoch 18: 100%|██████████| 28/28 [00:07<00:00,  3.77it/s, v_num=3.41e+7, train_loss_step=0.0772, val_loss=0.110, train_loss_epoch=0.107]\u001b[32m [repeated 3x across cluster]\u001b[0m\n",
      "Epoch 17:  79%|███████▊  | 22/28 [00:06<00:01,  3.24it/s, v_num=3.41e+7, train_loss_step=0.0878, val_loss=0.168, train_loss_epoch=0.145]\u001b[32m [repeated 27x across cluster]\u001b[0m\n",
      "Validation DataLoader 0:  83%|████████▎ | 5/6 [00:00<00:00,  5.62it/s]\u001b[A\u001b[32m [repeated 5x across cluster]\u001b[0m\n",
      "Validation: |          | 0/? [00:00<?, ?it/s]\u001b[A\n",
      "\u001b[36m(RayTrainWorker pid=18714)\u001b[0m \n",
      "Validation:   0%|          | 0/6 [00:00<?, ?it/s]\u001b[A\n",
      "Validation DataLoader 0:   0%|          | 0/6 [00:00<?, ?it/s]\u001b[A\n",
      "\u001b[36m(RayTrainWorker pid=18714)\u001b[0m \n",
      "\u001b[36m(RayTrainWorker pid=18714)\u001b[0m \n",
      "\u001b[36m(RayTrainWorker pid=18714)\u001b[0m \n",
      "\u001b[36m(RayTrainWorker pid=18714)\u001b[0m \n",
      "\u001b[36m(RayTrainWorker pid=18714)\u001b[0m \n",
      "\u001b[36m(RayTrainWorker pid=18714)\u001b[0m \n",
      "Validation DataLoader 0: 100%|██████████| 6/6 [00:01<00:00,  3.87it/s]\u001b[A\n",
      "\u001b[36m(RayTrainWorker pid=18714)\u001b[0m \n",
      "Epoch 17: 100%|██████████| 28/28 [00:10<00:00,  2.65it/s, v_num=3.41e+7, train_loss_step=0.121, val_loss=0.115, train_loss_epoch=0.145]\n",
      "Epoch 17: 100%|██████████| 28/28 [00:10<00:00,  2.60it/s, v_num=3.41e+7, train_loss_step=0.121, val_loss=0.115, train_loss_epoch=0.129]\n",
      "Epoch 18:   0%|          | 0/28 [00:00<?, ?it/s, v_num=3.41e+7, train_loss_step=0.121, val_loss=0.115, train_loss_epoch=0.129]         \n"
     ]
    },
    {
     "name": "stderr",
     "output_type": "stream",
     "text": [
      "\u001b[36m(RayTrainWorker pid=18714)\u001b[0m Checkpoint successfully created at: Checkpoint(filesystem=local, path=/ictstr01/home/aih/serra.korkmaz/projects/saturn/hopt/hpopt_parp1_zinc/ray_results/TorchTrainer_2025-03-11_23-31-58/ade62d14/checkpoint_000017)\u001b[32m [repeated 2x across cluster]\u001b[0m\n"
     ]
    },
    {
     "name": "stdout",
     "output_type": "stream",
     "text": [
      "Epoch 17: 100%|██████████| 28/28 [00:08<00:00,  3.13it/s, v_num=3.41e+7, train_loss_step=0.121, val_loss=0.168, train_loss_epoch=0.145]\u001b[32m [repeated 3x across cluster]\u001b[0m\n",
      "Epoch 18:  11%|█         | 3/28 [00:00<00:06,  3.58it/s, v_num=3.41e+7, train_loss_step=0.0878, val_loss=0.115, train_loss_epoch=0.129]\u001b[32m [repeated 21x across cluster]\u001b[0m\n",
      "Validation DataLoader 0:  83%|████████▎ | 5/6 [00:01<00:00,  3.62it/s]\u001b[A\u001b[32m [repeated 5x across cluster]\u001b[0m\n",
      "\u001b[36m(RayTrainWorker pid=18951)\u001b[0m \n",
      "\u001b[36m(RayTrainWorker pid=18951)\u001b[0m \n",
      "\u001b[36m(RayTrainWorker pid=18951)\u001b[0m \n",
      "\u001b[36m(RayTrainWorker pid=18951)\u001b[0m \n",
      "\u001b[36m(RayTrainWorker pid=18951)\u001b[0m \n",
      "\u001b[36m(RayTrainWorker pid=18951)\u001b[0m \n"
     ]
    },
    {
     "name": "stderr",
     "output_type": "stream",
     "text": [
      "2025-03-11 23:35:33,993\tWARNING experiment_state.py:206 -- Experiment state snapshotting has been triggered multiple times in the last 5.0 seconds and may become a bottleneck. A snapshot is forced if `CheckpointConfig(num_to_keep)` is set, and a trial has checkpointed >= `num_to_keep` times since the last snapshot.\n",
      "You may want to consider increasing the `CheckpointConfig(num_to_keep)` or decreasing the frequency of saving checkpoints.\n",
      "You can suppress this warning by setting the environment variable TUNE_WARN_EXCESSIVE_EXPERIMENT_CHECKPOINT_SYNC_THRESHOLD_S to a smaller value than the current threshold (5.0). Set it to 0 to completely suppress this warning.\n"
     ]
    },
    {
     "name": "stdout",
     "output_type": "stream",
     "text": [
      "\u001b[36m(RayTrainWorker pid=18951)\u001b[0m \n"
     ]
    },
    {
     "name": "stderr",
     "output_type": "stream",
     "text": [
      "\u001b[36m(RayTrainWorker pid=18951)\u001b[0m `Trainer.fit` stopped: `max_epochs=20` reached.\n"
     ]
    },
    {
     "name": "stdout",
     "output_type": "stream",
     "text": [
      "Validation: |          | 0/? [00:00<?, ?it/s]\u001b[A\n",
      "Validation:   0%|          | 0/6 [00:00<?, ?it/s]\u001b[A\n",
      "Validation DataLoader 0:   0%|          | 0/6 [00:00<?, ?it/s]\u001b[A\n",
      "Validation DataLoader 0: 100%|██████████| 6/6 [00:01<00:00,  4.74it/s]\u001b[A\n",
      "Epoch 19: 100%|██████████| 28/28 [00:09<00:00,  2.96it/s, v_num=3.41e+7, train_loss_step=0.105, val_loss=0.0656, train_loss_epoch=0.102]\n",
      "Epoch 19: 100%|██████████| 28/28 [00:09<00:00,  2.86it/s, v_num=3.41e+7, train_loss_step=0.105, val_loss=0.0656, train_loss_epoch=0.0894]\u001b[32m [repeated 2x across cluster]\u001b[0m\n",
      "Epoch 19: 100%|██████████| 28/28 [00:08<00:00,  3.44it/s, v_num=3.41e+7, train_loss_step=0.105, val_loss=0.0765, train_loss_epoch=0.102] \u001b[32m [repeated 3x across cluster]\u001b[0m\n",
      "Epoch 18:  75%|███████▌  | 21/28 [00:06<00:02,  3.44it/s, v_num=3.41e+7, train_loss_step=0.077, val_loss=0.115, train_loss_epoch=0.129]\u001b[32m [repeated 18x across cluster]\u001b[0m\n",
      "Validation DataLoader 0:  83%|████████▎ | 5/6 [00:01<00:00,  4.47it/s]\u001b[A\u001b[32m [repeated 5x across cluster]\u001b[0m\n",
      "Validation: |          | 0/? [00:00<?, ?it/s]\u001b[A\n",
      "Validation:   0%|          | 0/6 [00:00<?, ?it/s]\u001b[A\n",
      "Validation DataLoader 0:   0%|          | 0/6 [00:00<?, ?it/s]\u001b[A\n",
      "\u001b[36m(RayTrainWorker pid=18714)\u001b[0m \n",
      "\u001b[36m(RayTrainWorker pid=18714)\u001b[0m \n",
      "\u001b[36m(RayTrainWorker pid=18714)\u001b[0m \n",
      "\u001b[36m(RayTrainWorker pid=18714)\u001b[0m \n",
      "\u001b[36m(RayTrainWorker pid=18714)\u001b[0m \n",
      "\u001b[36m(RayTrainWorker pid=18714)\u001b[0m \n",
      "Validation DataLoader 0: 100%|██████████| 6/6 [00:00<00:00,  6.00it/s]\u001b[A\n",
      "Epoch 18: 100%|██████████| 28/28 [00:08<00:00,  3.17it/s, v_num=3.41e+7, train_loss_step=0.108, val_loss=0.143, train_loss_epoch=0.129]\n"
     ]
    },
    {
     "name": "stderr",
     "output_type": "stream",
     "text": [
      "\u001b[36m(RayTrainWorker pid=18714)\u001b[0m Checkpoint successfully created at: Checkpoint(filesystem=local, path=/ictstr01/home/aih/serra.korkmaz/projects/saturn/hopt/hpopt_parp1_zinc/ray_results/TorchTrainer_2025-03-11_23-31-58/ade62d14/checkpoint_000018)\u001b[32m [repeated 2x across cluster]\u001b[0m\n"
     ]
    },
    {
     "name": "stdout",
     "output_type": "stream",
     "text": [
      "Epoch 19:   0%|          | 0/28 [00:00<?, ?it/s, v_num=3.41e+7, train_loss_step=0.108, val_loss=0.143, train_loss_epoch=0.122]         \n",
      "Epoch 18: 100%|██████████| 28/28 [00:08<00:00,  3.11it/s, v_num=3.41e+7, train_loss_step=0.108, val_loss=0.143, train_loss_epoch=0.122]\n",
      "Epoch 18: 100%|██████████| 28/28 [00:07<00:00,  3.59it/s, v_num=3.41e+7, train_loss_step=0.108, val_loss=0.115, train_loss_epoch=0.129]\u001b[32m [repeated 3x across cluster]\u001b[0m\n",
      "Epoch 19:  32%|███▏      | 9/28 [00:02<00:04,  4.05it/s, v_num=3.41e+7, train_loss_step=0.173, val_loss=0.143, train_loss_epoch=0.122] \u001b[32m [repeated 13x across cluster]\u001b[0m\n",
      "Validation DataLoader 0:  83%|████████▎ | 5/6 [00:00<00:00,  5.61it/s]\u001b[A\u001b[32m [repeated 5x across cluster]\u001b[0m\n",
      "Validation: |          | 0/? [00:00<?, ?it/s]\u001b[A\n",
      "Validation:   0%|          | 0/6 [00:00<?, ?it/s]\u001b[A\n",
      "Validation DataLoader 0:   0%|          | 0/6 [00:00<?, ?it/s]\u001b[A\n",
      "Epoch 19: 100%|██████████| 28/28 [00:07<00:00,  3.99it/s, v_num=3.41e+7, train_loss_step=0.141, val_loss=0.143, train_loss_epoch=0.122]\u001b[32m [repeated 3x across cluster]\u001b[0m\n",
      "\u001b[36m(RayTrainWorker pid=18714)\u001b[0m \n",
      "\u001b[36m(RayTrainWorker pid=18714)\u001b[0m \n",
      "Epoch 19:  89%|████████▉ | 25/28 [00:06<00:00,  3.96it/s, v_num=3.41e+7, train_loss_step=0.202, val_loss=0.143, train_loss_epoch=0.122]\u001b[32m [repeated 16x across cluster]\u001b[0m\n",
      "Validation DataLoader 0:  33%|███▎      | 2/6 [00:00<00:00,  5.88it/s]\u001b[A\u001b[32m [repeated 2x across cluster]\u001b[0m\n",
      "\u001b[36m(RayTrainWorker pid=18714)\u001b[0m \n",
      "\u001b[36m(RayTrainWorker pid=18714)\u001b[0m \n",
      "\u001b[36m(RayTrainWorker pid=18714)\u001b[0m \n",
      "\u001b[36m(RayTrainWorker pid=18714)\u001b[0m \n",
      "Validation DataLoader 0: 100%|██████████| 6/6 [00:01<00:00,  5.96it/s]\u001b[A\n",
      "\u001b[36m(RayTrainWorker pid=18714)\u001b[0m \n",
      "Epoch 19: 100%|██████████| 28/28 [00:08<00:00,  3.47it/s, v_num=3.41e+7, train_loss_step=0.141, val_loss=0.0909, train_loss_epoch=0.122]\n",
      "Epoch 19: 100%|██████████| 28/28 [00:08<00:00,  3.40it/s, v_num=3.41e+7, train_loss_step=0.141, val_loss=0.0909, train_loss_epoch=0.112]\n",
      "Epoch 19: 100%|██████████| 28/28 [00:08<00:00,  3.36it/s, v_num=3.41e+7, train_loss_step=0.141, val_loss=0.0909, train_loss_epoch=0.112]\n"
     ]
    },
    {
     "name": "stderr",
     "output_type": "stream",
     "text": [
      "\u001b[36m(RayTrainWorker pid=18714)\u001b[0m Checkpoint successfully created at: Checkpoint(filesystem=local, path=/ictstr01/home/aih/serra.korkmaz/projects/saturn/hopt/hpopt_parp1_zinc/ray_results/TorchTrainer_2025-03-11_23-31-58/ade62d14/checkpoint_000019)\n",
      "\u001b[36m(RayTrainWorker pid=18714)\u001b[0m `Trainer.fit` stopped: `max_epochs=20` reached.\n",
      "2025-03-11 23:35:49,990\tINFO tune.py:1009 -- Wrote the latest version of all result files and experiment state to '/ictstr01/home/aih/serra.korkmaz/projects/saturn/hopt/hpopt_parp1_zinc/ray_results/TorchTrainer_2025-03-11_23-31-58' in 0.0063s.\n",
      "2025-03-11 23:35:49,995\tINFO tune.py:1041 -- Total run time: 231.48 seconds (231.42 seconds for the tuning loop).\n",
      "\u001b[36m(TorchTrainer pid=18480)\u001b[0m *** SIGSEGV received at time=1741732550 on cpu 71 ***\n",
      "\u001b[36m(TorchTrainer pid=18480)\u001b[0m PC: @     0x7f7f8c7458fe  (unknown)  ray::gcs::TaskInfoAccessor::AsyncAddTaskEventData()\n",
      "\u001b[36m(TorchTrainer pid=18480)\u001b[0m     @     0x7f7f8da3e6f0       3680  (unknown)\n",
      "\u001b[36m(TorchTrainer pid=18480)\u001b[0m     @     0x7f7f8c626ab5       1392  ray::core::worker::TaskEventBufferImpl::FlushEvents()\n",
      "\u001b[36m(TorchTrainer pid=18480)\u001b[0m     @     0x7f7f8c5af82c       1488  ray::core::CoreWorker::Disconnect()\n",
      "\u001b[36m(TorchTrainer pid=18480)\u001b[0m     @     0x7f7f8c5afbdd       1152  ray::core::CoreWorker::ForceExit()\n",
      "\u001b[36m(TorchTrainer pid=18480)\u001b[0m     @     0x7f7f8c5b000f       1680  ray::core::CoreWorker::HandleKillActor()\n",
      "\u001b[36m(TorchTrainer pid=18480)\u001b[0m     @     0x7f7f8c5a7514        192  ray::rpc::ServerCallImpl<>::HandleRequestImpl()\n",
      "\u001b[36m(TorchTrainer pid=18480)\u001b[0m     @     0x7f7f8c934d08       1168  EventTracker::RecordExecution()\n",
      "\u001b[36m(TorchTrainer pid=18480)\u001b[0m     @     0x7f7f8c91913e         48  std::_Function_handler<>::_M_invoke()\n",
      "\u001b[36m(TorchTrainer pid=18480)\u001b[0m     @     0x7f7f8c9195b6        112  boost::asio::detail::completion_handler<>::do_complete()\n",
      "\u001b[36m(TorchTrainer pid=18480)\u001b[0m     @     0x7f7f8cfdfa5b        128  boost::asio::detail::scheduler::do_run_one()\n",
      "\u001b[36m(TorchTrainer pid=18480)\u001b[0m     @     0x7f7f8cfe13d9        288  boost::asio::detail::scheduler::run()\n",
      "\u001b[36m(TorchTrainer pid=18480)\u001b[0m     @     0x7f7f8cfe1ae2         96  boost::asio::io_context::run()\n",
      "\u001b[36m(TorchTrainer pid=18480)\u001b[0m     @     0x7f7f8c5081f1       1280  ray::core::CoreWorker::RunIOService()\n",
      "\u001b[36m(TorchTrainer pid=18480)\u001b[0m     @     0x7f7f8ca26620         64  thread_proxy\n",
      "\u001b[36m(TorchTrainer pid=18480)\u001b[0m     @     0x7f7f8da89c02  (unknown)  start_thread\n",
      "\u001b[36m(TorchTrainer pid=18480)\u001b[0m [2025-03-11 23:35:50,110 E 18480 18564] logging.cc:484: *** SIGSEGV received at time=1741732550 on cpu 71 ***\n",
      "\u001b[36m(TorchTrainer pid=18480)\u001b[0m [2025-03-11 23:35:50,110 E 18480 18564] logging.cc:484: PC: @     0x7f7f8c7458fe  (unknown)  ray::gcs::TaskInfoAccessor::AsyncAddTaskEventData()\n",
      "\u001b[36m(TorchTrainer pid=18480)\u001b[0m [2025-03-11 23:35:50,111 E 18480 18564] logging.cc:484:     @     0x7f7f8da3e6f0       3680  (unknown)\n",
      "\u001b[36m(TorchTrainer pid=18480)\u001b[0m [2025-03-11 23:35:50,111 E 18480 18564] logging.cc:484:     @     0x7f7f8c626ab5       1392  ray::core::worker::TaskEventBufferImpl::FlushEvents()\n",
      "\u001b[36m(TorchTrainer pid=18480)\u001b[0m [2025-03-11 23:35:50,111 E 18480 18564] logging.cc:484:     @     0x7f7f8c5af82c       1488  ray::core::CoreWorker::Disconnect()\n",
      "\u001b[36m(TorchTrainer pid=18480)\u001b[0m [2025-03-11 23:35:50,111 E 18480 18564] logging.cc:484:     @     0x7f7f8c5afbdd       1152  ray::core::CoreWorker::ForceExit()\n",
      "\u001b[36m(TorchTrainer pid=18480)\u001b[0m [2025-03-11 23:35:50,111 E 18480 18564] logging.cc:484:     @     0x7f7f8c5b000f       1680  ray::core::CoreWorker::HandleKillActor()\n",
      "\u001b[36m(TorchTrainer pid=18480)\u001b[0m [2025-03-11 23:35:50,111 E 18480 18564] logging.cc:484:     @     0x7f7f8c5a7514        192  ray::rpc::ServerCallImpl<>::HandleRequestImpl()\n",
      "\u001b[36m(TorchTrainer pid=18480)\u001b[0m [2025-03-11 23:35:50,111 E 18480 18564] logging.cc:484:     @     0x7f7f8c934d08       1168  EventTracker::RecordExecution()\n",
      "\u001b[36m(TorchTrainer pid=18480)\u001b[0m [2025-03-11 23:35:50,111 E 18480 18564] logging.cc:484:     @     0x7f7f8c91913e         48  std::_Function_handler<>::_M_invoke()\n",
      "\u001b[36m(TorchTrainer pid=18480)\u001b[0m [2025-03-11 23:35:50,111 E 18480 18564] logging.cc:484:     @     0x7f7f8c9195b6        112  boost::asio::detail::completion_handler<>::do_complete()\n",
      "\u001b[36m(TorchTrainer pid=18480)\u001b[0m [2025-03-11 23:35:50,111 E 18480 18564] logging.cc:484:     @     0x7f7f8cfdfa5b        128  boost::asio::detail::scheduler::do_run_one()\n",
      "\u001b[36m(TorchTrainer pid=18480)\u001b[0m [2025-03-11 23:35:50,111 E 18480 18564] logging.cc:484:     @     0x7f7f8cfe13d9        288  boost::asio::detail::scheduler::run()\n",
      "\u001b[36m(TorchTrainer pid=18480)\u001b[0m [2025-03-11 23:35:50,111 E 18480 18564] logging.cc:484:     @     0x7f7f8cfe1ae2         96  boost::asio::io_context::run()\n",
      "\u001b[36m(TorchTrainer pid=18480)\u001b[0m [2025-03-11 23:35:50,111 E 18480 18564] logging.cc:484:     @     0x7f7f8c5081f1       1280  ray::core::CoreWorker::RunIOService()\n",
      "\u001b[36m(TorchTrainer pid=18480)\u001b[0m [2025-03-11 23:35:50,111 E 18480 18564] logging.cc:484:     @     0x7f7f8ca26620         64  thread_proxy\n",
      "\u001b[36m(TorchTrainer pid=18480)\u001b[0m [2025-03-11 23:35:50,111 E 18480 18564] logging.cc:484:     @     0x7f7f8da89c02  (unknown)  start_thread\n",
      "\u001b[36m(TorchTrainer pid=18480)\u001b[0m Fatal Python error: Segmentation fault\n",
      "\u001b[36m(TorchTrainer pid=18480)\u001b[0m \n",
      "\u001b[36m(TorchTrainer pid=18480)\u001b[0m \n",
      "\u001b[36m(TorchTrainer pid=18480)\u001b[0m Extension modules: msgpack._cmsgpack, google._upb._message, psutil._psutil_linux, psutil._psutil_posix, setproctitle, yaml._yaml, _brotli, simplejson._speedups, ray._raylet, numpy.core._multiarray_umath, numpy.core._multiarray_tests, numpy.linalg._umath_linalg, numpy.fft._pocketfft_internal, numpy.random._common, numpy.random.bit_generator, numpy.random._bounded_integers, numpy.random._mt19937, numpy.random.mtrand, numpy.random._philox, numpy.random._pcg64, numpy.random._sfc64, numpy.random._generator, pyarrow.lib, pandas._libs.tslibs.ccalendar, pandas._libs.tslibs.np_datetime, pandas._libs.tslibs.dtypes, pandas._libs.tslibs.base, pandas._libs.tslibs.nattype, pandas._libs.tslibs.timezones, pandas._libs.tslibs.fields, pandas._libs.tslibs.timedeltas, pandas._libs.tslibs.tzconversion, pandas._libs.tslibs.timestamps, pandas._libs.properties, pandas._libs.tslibs.offsets, pandas._libs.tslibs.strptime, pandas._libs.tslibs.parsing, pandas._libs.tslibs.conversion, pandas._libs.tslibs.period, pandas._libs.tslibs.vectorized, pandas._libs.ops_dispatch, pandas._libs.missing, pandas._libs.hashtable, pandas._libs.algos, pandas._libs.interval, pandas._libs.lib, pyarrow._compute, pandas._libs.ops, pandas._libs.hashing, pandas._libs.arrays, pandas._libs.tslib, pandas._libs.sparse, pandas._libs.internals, pandas._libs.indexing, pandas._libs.index, pandas._libs.writers, pandas._libs.join, pandas._libs.window.aggregations, pandas._libs.window.indexers, pandas._libs.reshape, pandas._libs.groupby, pandas._libs.json, pandas._libs.parsers, pandas._libs.testing, pyarrow._fs, pyarrow._azurefs, pyarrow._hdfs, pyarrow._gcsfs, pyarrow._s3fs, pyarrow._parquet, torch._C, torch._C._fft, torch._C._linalg, torch._C._nested, torch._C._nn, torch._C._sparse, torch._C._special, gmpy2.gmpy2, markupsafe._speedups, PIL._imaging, pyarrow._json, rdkit.rdBase, rdkit.DataStructs.cDataStructs, rdkit.Chem.rdchem, rdkit.Geometry.rdGeometry, rdkit.Chem.rdinchi, rdkit.Chem.rdCIPLabeler, rdkit.Chem.rdmolfiles, rdkit.Chem.rdmolops, rdkit.Chem.rdMolInterchange, rdkit.Chem.rdCoordGen, sklearn.__check_build._check_build, scipy._lib._ccallback_c, scipy.sparse._sparsetools, _csparsetools, scipy.sparse._csparsetools, scipy.linalg._fblas, scipy.linalg._flapack, scipy.linalg.cython_lapack, scipy.linalg._cythonized_array_utils, scipy.linalg._solve_toeplitz, scipy.linalg._decomp_lu_cython, scipy.linalg._matfuncs_sqrtm_triu, scipy.linalg.cython_blas, scipy.linalg._matfuncs_expm, scipy.linalg._decomp_update, scipy.sparse.linalg._dsolve._superlu, scipy.sparse.linalg._eigen.arpack._arpack, scipy.sparse.linalg._propack._spropack, scipy.sparse.linalg._propack._dpropack, scipy.sparse.linalg._propack._cpropack, scipy.sparse.linalg._propack._zpropack, scipy.sparse.csgraph._tools, scipy.sparse.csgraph._shortest_path, scipy.sparse.csgraph._traversal, scipy.sparse.csgraph._min_spanning_tree, scipy.sparse.csgraph._flow, scipy.sparse.csgraph._matching, scipy.sparse.csgraph._reordering, scipy.special._ufuncs_cxx, scipy.special._ufuncs, scipy.special._specfun, scipy.special._comb, scipy.special._ellip_harm_2, scipy.spatial._ckdtree, scipy._lib.messagestream, scipy.spatial._qhull, scipy.spatial._voronoi, scipy.spatial._distance_wrap, scipy.spatial._hausdorff, scipy.spatial.transform._rotation, scipy.optimize._group_columns, scipy.optimize._trlib._trlib, scipy.optimize._lbfgsb, _moduleTNC, scipy.optimize._moduleTNC, scipy.optimize._cobyla, scipy.optimize._slsqp, scipy.optimize._minpack, scipy.optimize._lsq.givens_elimination, scipy.optimize._zeros, scipy.optimize._highs.cython.src._highs_wrapper, scipy.optimize._highs._highs_wrapper, scipy.optimize._highs.cython.src._highs_constants, scipy.optimize._highs._highs_constants, scipy.linalg._interpolative, scipy.optimize._bglu_dense, scipy.optimize._lsap, scipy.optimize._direct, scipy.integrate._odepack, scipy.integrate._quadpack, scipy.integrate._vode, scipy.integrate._dop, scipy.integrate._lsoda, scipy.interpolate._fitpack, scipy.interpolate._dfitpack, scipy.interpolate._bspl, scipy.interpolate._ppoly, scipy.interpolate.interpnd, scipy.interpolate._rbfinterp_pythran, scipy.interpolate._rgi_cython, scipy.special.cython_special, scipy.stats._stats, scipy.stats._biasedurn, scipy.stats._levy_stable.levyst, scipy.stats._stats_pythran, scipy._lib._uarray._uarray, scipy.stats._ansari_swilk_statistics, scipy.stats._sobol, scipy.stats._qmc_cy, scipy.stats._mvn, scipy.stats._rcont.rcont, scipy.stats._unuran.unuran_wrapper, scipy.ndimage._nd_image, _ni_label, scipy.ndimage._ni_label, sklearn.utils._isfinite, sklearn.utils.sparsefuncs_fast, sklearn.utils.murmurhash, sklearn.utils._openmp_helpers, sklearn.preprocessing._csr_polynomial_expansion, sklearn.preprocessing._target_encoder_fast, rdkit.ForceField.rdForceField, rdkit.Chem.rdChemicalFeatures, rdkit.Chem.rdMolChemicalFeatures, rdkit.Chem.rdDistGeom, rdkit.Chem.rdChemReactions, rdkit.Chem.rdDepictor, rdkit.Chem.rdFingerprintGenerator, rdkit.Chem.rdForceFieldHelpers, rdkit.Chem.rdMolAlign, rdkit.Chem.rdMolDescriptors, rdkit.Chem.rdMolEnumerator, rdkit.Chem.rdMolTransforms, rdkit.Chem.rdPartialCharges, rdkit.Chem.rdqueries, rdkit.Chem.rdReducedGraphs, rdkit.Chem.rdShapeHelpers, rdkit.Chem.rdSLNParse, rdkit.ML.InfoTheory.rdInfoTheory, sklearn.metrics.cluster._expected_mutual_info_fast, sklearn.metrics._dist_metrics, sklearn.metrics._pairwise_distances_reduction._datasets_pair, sklearn.utils._cython_blas, sklearn.metrics._pairwise_distances_reduction._base, sklearn.metrics._pairwise_distances_reduction._middle_term_computer, sklearn.utils._heap, sklearn.utils._sorting, sklearn.metrics._pairwise_distances_reduction._argkmin, sklearn.metrics._pairwise_distances_reduction._argkmin_classmode, sklearn.utils._vector_sentinel, sklearn.metrics._pairwise_distances_reduction._radius_neighbors, sklearn.metrics._pairwise_distances_reduction._radius_neighbors_classmode, sklearn.metrics._pairwise_fast, sklearn.utils._fast_dict, sklearn.cluster._hierarchical_fast, sklearn.cluster._k_means_common, sklearn.cluster._k_means_elkan, sklearn.cluster._k_means_lloyd, sklearn.cluster._k_means_minibatch, sklearn.neighbors._partition_nodes, sklearn.neighbors._ball_tree, sklearn.neighbors._kd_tree, sklearn.utils.arrayfuncs, sklearn.utils._random, sklearn.utils._seq_dataset, sklearn.linear_model._cd_fast, _loss, sklearn._loss._loss, sklearn.svm._liblinear, sklearn.svm._libsvm, sklearn.svm._libsvm_sparse, sklearn.linear_model._sag_fast, sklearn.utils._weight_vector, sklearn.linear_model._sgd_fast, sklearn.decomposition._online_lda_fast, sklearn.decomposition._cdnmf_fast, sklearn.cluster._dbscan_inner, sklearn.cluster._hdbscan._tree, sklearn.cluster._hdbscan._linkage, sklearn.cluster._hdbscan._reachability, sklearn._isotonic, sklearn.tree._utils, sklearn.tree._tree, sklearn.tree._partitioner, sklearn.tree._splitter, sklearn.tree._criterion, sklearn.neighbors._quad_tree, sklearn.manifold._barnes_hut_tsne, sklearn.manifold._utils, rdkit.ML.Cluster.Clustering, rdkit.Avalon.pyAvalonTools, rdkit.Chem.Draw.rdMolDraw2D, kiwisolver._cext, scipy.cluster._vq, scipy.cluster._hierarchy, scipy.cluster._optimal_leaf_ordering, sklearn.ensemble._gradient_boosting, sklearn.ensemble._hist_gradient_boosting.common, sklearn.ensemble._hist_gradient_boosting._gradient_boosting, sklearn.ensemble._hist_gradient_boosting._binning, sklearn.ensemble._hist_gradient_boosting._bitset, sklearn.ensemble._hist_gradient_boosting.histogram, sklearn.ensemble._hist_gradient_boosting._predictor, sklearn.ensemble._hist_gradient_boosting.splitting, scipy.signal._sigtools, scipy.signal._max_len_seq_inner, scipy.signal._upfirdn_apply, scipy.signal._spline, scipy.signal._sosfilt, scipy.signal._spectral, scipy.signal._peak_finding_utils, regex._regex (total: 273)\n"
     ]
    }
   ],
   "source": [
    "ray.init()\n",
    "\n",
    "scheduler = FIFOScheduler()\n",
    "\n",
    "# Scaling config controls the resources used by Ray\n",
    "scaling_config = ScalingConfig(\n",
    "    num_workers=1,\n",
    "    use_gpu=False, # change to True if you want to use GPU\n",
    ")\n",
    "\n",
    "# Checkpoint config controls the checkpointing behavior of Ray\n",
    "checkpoint_config = CheckpointConfig(\n",
    "    num_to_keep=1, # number of checkpoints to keep\n",
    "    checkpoint_score_attribute=\"val_loss\", # Save the checkpoint based on this metric\n",
    "    checkpoint_score_order=\"min\", # Save the checkpoint with the lowest metric value\n",
    ")\n",
    "\n",
    "run_config = RunConfig(\n",
    "    checkpoint_config=checkpoint_config,\n",
    "    storage_path=hpopt_save_dir / \"ray_results\", # directory to save the results\n",
    ")\n",
    "\n",
    "ray_trainer = TorchTrainer(\n",
    "    lambda config: train_model(\n",
    "        config, train_dset, val_dset, num_workers, scaler\n",
    "    ),\n",
    "    scaling_config=scaling_config,\n",
    "    run_config=run_config,\n",
    ")\n",
    "\n",
    "search_alg = HyperOptSearch(\n",
    "    n_initial_points=1, # number of random evaluations before tree parzen estimators\n",
    "    random_state_seed=42,\n",
    ")\n",
    "\n",
    "# OptunaSearch is another search algorithm that can be used\n",
    "# search_alg = OptunaSearch()\n",
    "\n",
    "tune_config = tune.TuneConfig(\n",
    "    metric=\"val_loss\",\n",
    "    mode=\"min\",\n",
    "    num_samples=2, # number of trials to run\n",
    "    scheduler=scheduler,\n",
    "    search_alg=search_alg,\n",
    "    trial_dirname_creator=lambda trial: str(trial.trial_id), # shorten filepaths\n",
    "\n",
    ")\n",
    "\n",
    "tuner = tune.Tuner(\n",
    "    ray_trainer,\n",
    "    param_space={\n",
    "        \"train_loop_config\": search_space,\n",
    "    },\n",
    "    tune_config=tune_config,\n",
    ")\n",
    "\n",
    "# Start the hyperparameter search\n",
    "results = tuner.fit()"
   ]
  },
  {
   "cell_type": "code",
   "execution_count": 9,
   "id": "58abd66a-7791-41d5-b392-53fce5167960",
   "metadata": {},
   "outputs": [
    {
     "data": {
      "text/plain": [
       "ResultGrid<[\n",
       "  Result(\n",
       "    metrics={'train_loss': 0.11183732748031616, 'train_loss_step': 0.14122967422008514, 'val/rmse': 0.30153706669807434, 'val/mae': 0.2347082942724228, 'val_loss': 0.09092459827661514, 'train_loss_epoch': 0.11183732748031616, 'epoch': 19, 'step': 560},\n",
       "    path='/ictstr01/home/aih/serra.korkmaz/projects/saturn/hopt/hpopt_parp1_zinc/ray_results/TorchTrainer_2025-03-11_23-31-58/ade62d14',\n",
       "    filesystem='local',\n",
       "    checkpoint=Checkpoint(filesystem=local, path=/ictstr01/home/aih/serra.korkmaz/projects/saturn/hopt/hpopt_parp1_zinc/ray_results/TorchTrainer_2025-03-11_23-31-58/ade62d14/checkpoint_000019)\n",
       "  ),\n",
       "  Result(\n",
       "    metrics={'train_loss': 0.08938580751419067, 'train_loss_step': 0.10487531870603561, 'val/rmse': 0.256196528673172, 'val/mae': 0.20003533363342285, 'val_loss': 0.06563665717840195, 'train_loss_epoch': 0.08938580751419067, 'epoch': 19, 'step': 560},\n",
       "    path='/ictstr01/home/aih/serra.korkmaz/projects/saturn/hopt/hpopt_parp1_zinc/ray_results/TorchTrainer_2025-03-11_23-31-58/41678f15',\n",
       "    filesystem='local',\n",
       "    checkpoint=Checkpoint(filesystem=local, path=/ictstr01/home/aih/serra.korkmaz/projects/saturn/hopt/hpopt_parp1_zinc/ray_results/TorchTrainer_2025-03-11_23-31-58/41678f15/checkpoint_000019)\n",
       "  )\n",
       "]>"
      ]
     },
     "execution_count": 9,
     "metadata": {},
     "output_type": "execute_result"
    }
   ],
   "source": [
    "results"
   ]
  },
  {
   "cell_type": "code",
   "execution_count": 10,
   "id": "d3936aab-2566-49a1-88a7-0f0425665d3e",
   "metadata": {},
   "outputs": [
    {
     "data": {
      "text/html": [
       "<div>\n",
       "<style scoped>\n",
       "    .dataframe tbody tr th:only-of-type {\n",
       "        vertical-align: middle;\n",
       "    }\n",
       "\n",
       "    .dataframe tbody tr th {\n",
       "        vertical-align: top;\n",
       "    }\n",
       "\n",
       "    .dataframe thead th {\n",
       "        text-align: right;\n",
       "    }\n",
       "</style>\n",
       "<table border=\"1\" class=\"dataframe\">\n",
       "  <thead>\n",
       "    <tr style=\"text-align: right;\">\n",
       "      <th></th>\n",
       "      <th>train_loss</th>\n",
       "      <th>train_loss_step</th>\n",
       "      <th>val/rmse</th>\n",
       "      <th>val/mae</th>\n",
       "      <th>val_loss</th>\n",
       "      <th>train_loss_epoch</th>\n",
       "      <th>epoch</th>\n",
       "      <th>step</th>\n",
       "      <th>timestamp</th>\n",
       "      <th>checkpoint_dir_name</th>\n",
       "      <th>...</th>\n",
       "      <th>pid</th>\n",
       "      <th>hostname</th>\n",
       "      <th>node_ip</th>\n",
       "      <th>time_since_restore</th>\n",
       "      <th>iterations_since_restore</th>\n",
       "      <th>config/train_loop_config/depth</th>\n",
       "      <th>config/train_loop_config/ffn_hidden_dim</th>\n",
       "      <th>config/train_loop_config/ffn_num_layers</th>\n",
       "      <th>config/train_loop_config/message_hidden_dim</th>\n",
       "      <th>logdir</th>\n",
       "    </tr>\n",
       "  </thead>\n",
       "  <tbody>\n",
       "    <tr>\n",
       "      <th>0</th>\n",
       "      <td>0.111837</td>\n",
       "      <td>0.141230</td>\n",
       "      <td>0.301537</td>\n",
       "      <td>0.234708</td>\n",
       "      <td>0.090925</td>\n",
       "      <td>0.111837</td>\n",
       "      <td>19</td>\n",
       "      <td>560</td>\n",
       "      <td>1741732548</td>\n",
       "      <td>checkpoint_000019</td>\n",
       "      <td>...</td>\n",
       "      <td>18480</td>\n",
       "      <td>cpusrv10.scidom.de</td>\n",
       "      <td>10.233.0.20</td>\n",
       "      <td>220.536170</td>\n",
       "      <td>20</td>\n",
       "      <td>2</td>\n",
       "      <td>2000</td>\n",
       "      <td>2</td>\n",
       "      <td>500</td>\n",
       "      <td>ade62d14</td>\n",
       "    </tr>\n",
       "    <tr>\n",
       "      <th>1</th>\n",
       "      <td>0.089386</td>\n",
       "      <td>0.104875</td>\n",
       "      <td>0.256197</td>\n",
       "      <td>0.200035</td>\n",
       "      <td>0.065637</td>\n",
       "      <td>0.089386</td>\n",
       "      <td>19</td>\n",
       "      <td>560</td>\n",
       "      <td>1741732533</td>\n",
       "      <td>checkpoint_000019</td>\n",
       "      <td>...</td>\n",
       "      <td>18715</td>\n",
       "      <td>cpusrv10.scidom.de</td>\n",
       "      <td>10.233.0.20</td>\n",
       "      <td>195.991913</td>\n",
       "      <td>20</td>\n",
       "      <td>2</td>\n",
       "      <td>2200</td>\n",
       "      <td>2</td>\n",
       "      <td>400</td>\n",
       "      <td>41678f15</td>\n",
       "    </tr>\n",
       "  </tbody>\n",
       "</table>\n",
       "<p>2 rows × 27 columns</p>\n",
       "</div>"
      ],
      "text/plain": [
       "   train_loss  train_loss_step  val/rmse   val/mae  val_loss  \\\n",
       "0    0.111837         0.141230  0.301537  0.234708  0.090925   \n",
       "1    0.089386         0.104875  0.256197  0.200035  0.065637   \n",
       "\n",
       "   train_loss_epoch  epoch  step   timestamp checkpoint_dir_name  ...    pid  \\\n",
       "0          0.111837     19   560  1741732548   checkpoint_000019  ...  18480   \n",
       "1          0.089386     19   560  1741732533   checkpoint_000019  ...  18715   \n",
       "\n",
       "             hostname      node_ip time_since_restore  \\\n",
       "0  cpusrv10.scidom.de  10.233.0.20         220.536170   \n",
       "1  cpusrv10.scidom.de  10.233.0.20         195.991913   \n",
       "\n",
       "  iterations_since_restore  config/train_loop_config/depth  \\\n",
       "0                       20                               2   \n",
       "1                       20                               2   \n",
       "\n",
       "   config/train_loop_config/ffn_hidden_dim  \\\n",
       "0                                     2000   \n",
       "1                                     2200   \n",
       "\n",
       "   config/train_loop_config/ffn_num_layers  \\\n",
       "0                                        2   \n",
       "1                                        2   \n",
       "\n",
       "  config/train_loop_config/message_hidden_dim    logdir  \n",
       "0                                         500  ade62d14  \n",
       "1                                         400  41678f15  \n",
       "\n",
       "[2 rows x 27 columns]"
      ]
     },
     "execution_count": 10,
     "metadata": {},
     "output_type": "execute_result"
    }
   ],
   "source": [
    "result_df = results.get_dataframe()\n",
    "result_df"
   ]
  },
  {
   "cell_type": "code",
   "execution_count": 11,
   "id": "2e8dd786-358c-46cd-b69c-9e6b1f2343aa",
   "metadata": {},
   "outputs": [
    {
     "data": {
      "text/plain": [
       "{'depth': 2,\n",
       " 'ffn_hidden_dim': 2200,\n",
       " 'ffn_num_layers': 2,\n",
       " 'message_hidden_dim': 400}"
      ]
     },
     "execution_count": 11,
     "metadata": {},
     "output_type": "execute_result"
    }
   ],
   "source": [
    "# best configuration\n",
    "best_result = results.get_best_result()\n",
    "best_config = best_result.config\n",
    "best_config['train_loop_config']"
   ]
  },
  {
   "cell_type": "code",
   "execution_count": 12,
   "id": "ce9c0344-f3d8-463f-ab5e-6612385cf99e",
   "metadata": {},
   "outputs": [
    {
     "name": "stdout",
     "output_type": "stream",
     "text": [
      "Best model checkpoint path: /ictstr01/home/aih/serra.korkmaz/projects/saturn/hopt/hpopt_parp1_zinc/ray_results/TorchTrainer_2025-03-11_23-31-58/41678f15/checkpoint_000019/checkpoint.ckpt\n"
     ]
    }
   ],
   "source": [
    "# best model checkpoint path\n",
    "best_result = results.get_best_result()\n",
    "best_checkpoint_path = Path(best_result.checkpoint.path) / \"checkpoint.ckpt\"\n",
    "print(f\"Best model checkpoint path: {best_checkpoint_path}\")"
   ]
  },
  {
   "cell_type": "code",
   "execution_count": 13,
   "id": "8c8d7370-2604-4965-93ad-ea8bdeb1eca4",
   "metadata": {},
   "outputs": [
    {
     "data": {
      "text/plain": [
       "MPNN(\n",
       "  (message_passing): BondMessagePassing(\n",
       "    (W_i): Linear(in_features=86, out_features=400, bias=False)\n",
       "    (W_h): Linear(in_features=400, out_features=400, bias=False)\n",
       "    (W_o): Linear(in_features=472, out_features=400, bias=True)\n",
       "    (dropout): Dropout(p=0.0, inplace=False)\n",
       "    (tau): ReLU()\n",
       "    (V_d_transform): Identity()\n",
       "    (graph_transform): Identity()\n",
       "  )\n",
       "  (agg): MeanAggregation()\n",
       "  (bn): BatchNorm1d(400, eps=1e-05, momentum=0.1, affine=True, track_running_stats=True)\n",
       "  (predictor): RegressionFFN(\n",
       "    (ffn): MLP(\n",
       "      (0): Sequential(\n",
       "        (0): Linear(in_features=400, out_features=2200, bias=True)\n",
       "      )\n",
       "      (1): Sequential(\n",
       "        (0): ReLU()\n",
       "        (1): Dropout(p=0.0, inplace=False)\n",
       "        (2): Linear(in_features=2200, out_features=2200, bias=True)\n",
       "      )\n",
       "      (2): Sequential(\n",
       "        (0): ReLU()\n",
       "        (1): Dropout(p=0.0, inplace=False)\n",
       "        (2): Linear(in_features=2200, out_features=1, bias=True)\n",
       "      )\n",
       "    )\n",
       "    (criterion): MSE(task_weights=[[1.0]])\n",
       "    (output_transform): UnscaleTransform()\n",
       "  )\n",
       "  (X_d_transform): Identity()\n",
       "  (metrics): ModuleList(\n",
       "    (0): RMSE(task_weights=[[1.0]])\n",
       "    (1): MAE(task_weights=[[1.0]])\n",
       "    (2): MSE(task_weights=[[1.0]])\n",
       "  )\n",
       ")"
      ]
     },
     "execution_count": 13,
     "metadata": {},
     "output_type": "execute_result"
    }
   ],
   "source": [
    "mpnn = models.MPNN.load_from_checkpoint(best_checkpoint_path)\n",
    "mpnn"
   ]
  },
  {
   "cell_type": "code",
   "execution_count": 14,
   "id": "4a8a34e4-ca47-44b9-8cf3-7f6ac5b152ea",
   "metadata": {},
   "outputs": [
    {
     "name": "stderr",
     "output_type": "stream",
     "text": [
      "GPU available: False, used: False\n",
      "TPU available: False, using: 0 TPU cores\n",
      "HPU available: False, using: 0 HPUs\n",
      "SLURM auto-requeueing enabled. Setting signal handlers.\n",
      "/home/aih/serra.korkmaz/miniconda3/envs/saturn/lib/python3.11/site-packages/lightning/pytorch/trainer/connectors/data_connector.py:425: The 'predict_dataloader' does not have many workers which may be a bottleneck. Consider increasing the value of the `num_workers` argument` to `num_workers=3` in the `DataLoader` to improve performance.\n"
     ]
    },
    {
     "name": "stdout",
     "output_type": "stream",
     "text": [
      "Predicting DataLoader 0: 100%|██████████| 4/4 [00:00<00:00, 16.78it/s]\n"
     ]
    }
   ],
   "source": [
    "import torch\n",
    "test_loader = data.build_dataloader(test_dset, shuffle=False)\n",
    "with torch.inference_mode():\n",
    "    trainer = pl.Trainer(\n",
    "        logger=None,\n",
    "        enable_progress_bar=True,\n",
    "        accelerator=\"cpu\",\n",
    "        devices=1\n",
    "    )\n",
    "    test_preds = trainer.predict(mpnn, test_loader)"
   ]
  },
  {
   "cell_type": "code",
   "execution_count": 15,
   "id": "69b84a2f-36df-415a-af1c-f7595b59b7d5",
   "metadata": {},
   "outputs": [
    {
     "data": {
      "text/html": [
       "<div>\n",
       "<style scoped>\n",
       "    .dataframe tbody tr th:only-of-type {\n",
       "        vertical-align: middle;\n",
       "    }\n",
       "\n",
       "    .dataframe tbody tr th {\n",
       "        vertical-align: top;\n",
       "    }\n",
       "\n",
       "    .dataframe thead th {\n",
       "        text-align: right;\n",
       "    }\n",
       "</style>\n",
       "<table border=\"1\" class=\"dataframe\">\n",
       "  <thead>\n",
       "    <tr style=\"text-align: right;\">\n",
       "      <th></th>\n",
       "      <th>smiles</th>\n",
       "      <th>value</th>\n",
       "      <th>preds</th>\n",
       "    </tr>\n",
       "  </thead>\n",
       "  <tbody>\n",
       "    <tr>\n",
       "      <th>0</th>\n",
       "      <td>COC(=O)c1ccc(-c2ccc(/C=N\\Nc3ccc([N+](=O)[O-])c...</td>\n",
       "      <td>10.0</td>\n",
       "      <td>8.813208</td>\n",
       "    </tr>\n",
       "    <tr>\n",
       "      <th>1</th>\n",
       "      <td>Cc1nc2ccccc2c(=O)n1NC(=O)c1ccc([N+](=O)[O-])cc1</td>\n",
       "      <td>9.7</td>\n",
       "      <td>9.905311</td>\n",
       "    </tr>\n",
       "    <tr>\n",
       "      <th>2</th>\n",
       "      <td>N#C[C@]1(NC(=O)c2ccc(Cl)c(N3CCNC3=O)c2)CCSC1</td>\n",
       "      <td>7.7</td>\n",
       "      <td>8.524395</td>\n",
       "    </tr>\n",
       "    <tr>\n",
       "      <th>3</th>\n",
       "      <td>COc1cccc(C[NH+]2CCC[C@H](c3ncc[nH]3)C2)c1OC(F)F</td>\n",
       "      <td>7.0</td>\n",
       "      <td>7.537811</td>\n",
       "    </tr>\n",
       "    <tr>\n",
       "      <th>4</th>\n",
       "      <td>CC(=O)N[C@H]1[C@H](O)[C@@H]2OC(C)(C)OC[C@H]2O[...</td>\n",
       "      <td>9.8</td>\n",
       "      <td>7.302305</td>\n",
       "    </tr>\n",
       "    <tr>\n",
       "      <th>...</th>\n",
       "      <td>...</td>\n",
       "      <td>...</td>\n",
       "      <td>...</td>\n",
       "    </tr>\n",
       "    <tr>\n",
       "      <th>193</th>\n",
       "      <td>CCNC(=O)[C@H]1O[C@@H](n2cnc3c(N)ncnc32)[C@@H](...</td>\n",
       "      <td>7.4</td>\n",
       "      <td>7.029051</td>\n",
       "    </tr>\n",
       "    <tr>\n",
       "      <th>194</th>\n",
       "      <td>O=C1C[C@@H](c2cccc(Oc3ccccc3)c2)c2cc3c(cc2N1)OCO3</td>\n",
       "      <td>10.5</td>\n",
       "      <td>10.595282</td>\n",
       "    </tr>\n",
       "    <tr>\n",
       "      <th>195</th>\n",
       "      <td>O=C(c1nn(-c2cccc(Br)c2)c2c1CCCC2)N1CCC[C@@H]2C...</td>\n",
       "      <td>10.4</td>\n",
       "      <td>10.091125</td>\n",
       "    </tr>\n",
       "    <tr>\n",
       "      <th>196</th>\n",
       "      <td>C[C@@H](CCc1ccccc1)NC(=O)Nc1cc(-n2cnnn2)ccc1F</td>\n",
       "      <td>9.5</td>\n",
       "      <td>8.969509</td>\n",
       "    </tr>\n",
       "    <tr>\n",
       "      <th>197</th>\n",
       "      <td>C#Cc1cccc(NC(=O)C[NH+](C)CC2CCCC2)c1</td>\n",
       "      <td>6.6</td>\n",
       "      <td>7.583934</td>\n",
       "    </tr>\n",
       "  </tbody>\n",
       "</table>\n",
       "<p>198 rows × 3 columns</p>\n",
       "</div>"
      ],
      "text/plain": [
       "                                                smiles  value      preds\n",
       "0    COC(=O)c1ccc(-c2ccc(/C=N\\Nc3ccc([N+](=O)[O-])c...   10.0   8.813208\n",
       "1      Cc1nc2ccccc2c(=O)n1NC(=O)c1ccc([N+](=O)[O-])cc1    9.7   9.905311\n",
       "2         N#C[C@]1(NC(=O)c2ccc(Cl)c(N3CCNC3=O)c2)CCSC1    7.7   8.524395\n",
       "3      COc1cccc(C[NH+]2CCC[C@H](c3ncc[nH]3)C2)c1OC(F)F    7.0   7.537811\n",
       "4    CC(=O)N[C@H]1[C@H](O)[C@@H]2OC(C)(C)OC[C@H]2O[...    9.8   7.302305\n",
       "..                                                 ...    ...        ...\n",
       "193  CCNC(=O)[C@H]1O[C@@H](n2cnc3c(N)ncnc32)[C@@H](...    7.4   7.029051\n",
       "194  O=C1C[C@@H](c2cccc(Oc3ccccc3)c2)c2cc3c(cc2N1)OCO3   10.5  10.595282\n",
       "195  O=C(c1nn(-c2cccc(Br)c2)c2c1CCCC2)N1CCC[C@@H]2C...   10.4  10.091125\n",
       "196      C[C@@H](CCc1ccccc1)NC(=O)Nc1cc(-n2cnnn2)ccc1F    9.5   8.969509\n",
       "197               C#Cc1cccc(NC(=O)C[NH+](C)CC2CCCC2)c1    6.6   7.583934\n",
       "\n",
       "[198 rows x 3 columns]"
      ]
     },
     "execution_count": 15,
     "metadata": {},
     "output_type": "execute_result"
    }
   ],
   "source": [
    "import numpy as np\n",
    "test_preds = np.concatenate(test_preds, axis=0)\n",
    "df_test['preds'] = test_preds\n",
    "df_test"
   ]
  },
  {
   "cell_type": "code",
   "execution_count": 16,
   "id": "b0169d21-4390-4812-ad6d-8e489c3bfddf",
   "metadata": {},
   "outputs": [
    {
     "name": "stdout",
     "output_type": "stream",
     "text": [
      "R² Score: 0.7278\n",
      "MSE: 0.3715\n"
     ]
    }
   ],
   "source": [
    "from sklearn.metrics import r2_score, mean_squared_error\n",
    "\n",
    "# Get true values (ground truth) and predictions\n",
    "y_true = df_test['value'].values  # True target values\n",
    "y_pred = df_test['preds'].values  # Predicted values\n",
    "\n",
    "# Calculate metrics\n",
    "r2 = r2_score(y_true, y_pred)\n",
    "mse = mean_squared_error(y_true, y_pred)\n",
    "\n",
    "print(f\"R² Score: {r2:.4f}\")\n",
    "print(f\"MSE: {mse:.4f}\")"
   ]
  },
  {
   "cell_type": "code",
   "execution_count": null,
   "id": "3de73bcf-ab98-4b62-a767-33f347950575",
   "metadata": {},
   "outputs": [],
   "source": []
  },
  {
   "cell_type": "code",
   "execution_count": null,
   "id": "02182757-35e6-4af4-95cb-5dfc58ce8afc",
   "metadata": {},
   "outputs": [],
   "source": []
  }
 ],
 "metadata": {
  "kernelspec": {
   "display_name": "Python 3 (ipykernel)",
   "language": "python",
   "name": "python3"
  },
  "language_info": {
   "codemirror_mode": {
    "name": "ipython",
    "version": 3
   },
   "file_extension": ".py",
   "mimetype": "text/x-python",
   "name": "python",
   "nbconvert_exporter": "python",
   "pygments_lexer": "ipython3",
   "version": "3.11.8"
  }
 },
 "nbformat": 4,
 "nbformat_minor": 5
}
