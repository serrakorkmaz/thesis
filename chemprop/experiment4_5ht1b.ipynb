{
 "cells": [
  {
   "cell_type": "code",
   "execution_count": 1,
   "id": "6192b6bb-dd6f-43c8-9752-05f9de1700b4",
   "metadata": {},
   "outputs": [
    {
     "name": "stderr",
     "output_type": "stream",
     "text": [
      "/home/aih/serra.korkmaz/miniconda3/envs/saturn/lib/python3.11/site-packages/tqdm/auto.py:21: TqdmWarning: IProgress not found. Please update jupyter and ipywidgets. See https://ipywidgets.readthedocs.io/en/stable/user_install.html\n",
      "  from .autonotebook import tqdm as notebook_tqdm\n",
      "2025-03-11 22:02:59,287\tINFO util.py:154 -- Missing packages: ['ipywidgets']. Run `pip install -U ipywidgets`, then restart the notebook server for rich notebook output.\n",
      "2025-03-11 22:03:02,932\tINFO util.py:154 -- Missing packages: ['ipywidgets']. Run `pip install -U ipywidgets`, then restart the notebook server for rich notebook output.\n",
      "2025-03-11 22:03:06,687\tINFO util.py:154 -- Missing packages: ['ipywidgets']. Run `pip install -U ipywidgets`, then restart the notebook server for rich notebook output.\n"
     ]
    }
   ],
   "source": [
    "from pathlib import Path\n",
    "\n",
    "import pandas as pd\n",
    "from lightning import pytorch as pl\n",
    "import ray\n",
    "from ray import tune\n",
    "from ray.train import CheckpointConfig, RunConfig, ScalingConfig\n",
    "from ray.train.lightning import (RayDDPStrategy, RayLightningEnvironment,\n",
    "                                 RayTrainReportCallback, prepare_trainer)\n",
    "from ray.train.torch import TorchTrainer\n",
    "from ray.tune.search.hyperopt import HyperOptSearch\n",
    "from ray.tune.search.optuna import OptunaSearch\n",
    "from ray.tune.schedulers import FIFOScheduler\n",
    "\n",
    "from chemprop import data, featurizers, models, nn"
   ]
  },
  {
   "cell_type": "code",
   "execution_count": 3,
   "id": "afed6433-23c1-499c-9c56-03c725f26577",
   "metadata": {},
   "outputs": [],
   "source": [
    "chemprop_dir = Path.cwd().parent\n",
    "train_path = \"/home/aih/serra.korkmaz/projects/saturn/SurogateModel/training_data_4sm_chembl/train_data_5ht1b.csv\"\n",
    "test_path = \"/home/aih/serra.korkmaz/projects/saturn/SurogateModel/training_data_4sm_chembl/test_data_5ht1b.csv\"\n",
    "num_workers = 0 # number of workers for dataloader. 0 means using main process for data loading\n",
    "smiles_column = 'smiles' # name of the column containing SMILES strings\n",
    "target_columns = ['value'] # list of names of the columns containing targets\n",
    "\n",
    "hpopt_save_dir = Path.cwd() / \"hpopt_5ht1b_chembl\" # directory to save hyperopt results\n",
    "hpopt_save_dir.mkdir(exist_ok=True)"
   ]
  },
  {
   "cell_type": "code",
   "execution_count": 4,
   "id": "79b9963b-a4e2-4cd8-b122-d379814088b9",
   "metadata": {},
   "outputs": [],
   "source": [
    "df_train = pd.read_csv(train_path)\n",
    "df_test = pd.read_csv(test_path)"
   ]
  },
  {
   "cell_type": "code",
   "execution_count": 5,
   "id": "2c1c3921-b3da-4341-8140-74cf0ecafad7",
   "metadata": {},
   "outputs": [],
   "source": [
    "# Extract SMILES and target values\n",
    "train_smis = df_train[smiles_column].values\n",
    "train_ys = df_train[target_columns].values\n",
    "\n",
    "test_smis = df_test[smiles_column].values\n",
    "test_ys = df_test[target_columns].values\n",
    "\n",
    "# Convert data to MoleculeDatapoint format\n",
    "train_data = [data.MoleculeDatapoint.from_smi(smi, y) for smi, y in zip(train_smis, train_ys)]\n",
    "test_data = [data.MoleculeDatapoint.from_smi(smi, y) for smi, y in zip(test_smis, test_ys)]\n"
   ]
  },
  {
   "cell_type": "code",
   "execution_count": 6,
   "id": "bbc5e27a-cfbc-4181-89d3-83b27785fcf8",
   "metadata": {},
   "outputs": [],
   "source": [
    "# Initialize featurizer\n",
    "featurizer = featurizers.SimpleMoleculeMolGraphFeaturizer()\n",
    "\n",
    "# Create training dataset\n",
    "train_dset = data.MoleculeDataset(train_data, featurizer)\n",
    "scaler = train_dset.normalize_targets()\n",
    "\n",
    "# Split validation set from training data (80% train, 20% validation)\n",
    "split_idx = int(len(train_data) * 0.8)\n",
    "val_data = train_data[split_idx:]\n",
    "train_data = train_data[:split_idx]\n",
    "\n",
    "# Create validation and test datasets\n",
    "val_dset = data.MoleculeDataset(val_data, featurizer)\n",
    "val_dset.normalize_targets(scaler)\n",
    "\n",
    "test_dset = data.MoleculeDataset(test_data, featurizer)"
   ]
  },
  {
   "cell_type": "code",
   "execution_count": 7,
   "id": "c0571af4-13e8-4c32-add1-bc9dd10df31e",
   "metadata": {},
   "outputs": [],
   "source": [
    "def train_model(config, train_dset, val_dset, num_workers, scaler):\n",
    "\n",
    "    # config is a dictionary containing hyperparameters used for the trial\n",
    "    depth = int(config[\"depth\"])\n",
    "    ffn_hidden_dim = int(config[\"ffn_hidden_dim\"])\n",
    "    ffn_num_layers = int(config[\"ffn_num_layers\"])\n",
    "    message_hidden_dim = int(config[\"message_hidden_dim\"])\n",
    "\n",
    "    train_loader = data.build_dataloader(train_dset, num_workers=num_workers, shuffle=True)\n",
    "    val_loader = data.build_dataloader(val_dset, num_workers=num_workers, shuffle=False)\n",
    "\n",
    "    mp = nn.BondMessagePassing(d_h=message_hidden_dim, depth=depth)\n",
    "    agg = nn.MeanAggregation()\n",
    "    output_transform = nn.UnscaleTransform.from_standard_scaler(scaler)\n",
    "    ffn = nn.RegressionFFN(output_transform=output_transform, input_dim=message_hidden_dim, hidden_dim=ffn_hidden_dim, n_layers=ffn_num_layers)\n",
    "    batch_norm = True\n",
    "    metric_list = [nn.metrics.RMSE(), nn.metrics.MAE()]\n",
    "    model = models.MPNN(mp, agg, ffn, batch_norm, metric_list)\n",
    "\n",
    "    trainer = pl.Trainer(\n",
    "        accelerator=\"auto\",\n",
    "        devices=1,\n",
    "        max_epochs=20, # number of epochs to train for\n",
    "        # below are needed for Ray and Lightning integration\n",
    "        strategy=RayDDPStrategy(),\n",
    "        callbacks=[RayTrainReportCallback()],\n",
    "        plugins=[RayLightningEnvironment()],\n",
    "    )\n",
    "\n",
    "    trainer = prepare_trainer(trainer)\n",
    "    trainer.fit(model, train_loader, val_loader)"
   ]
  },
  {
   "cell_type": "code",
   "execution_count": 8,
   "id": "00dc82d6-6d1d-489c-802a-ae0a223867dc",
   "metadata": {},
   "outputs": [],
   "source": [
    "search_space = {\n",
    "    \"depth\": tune.qrandint(lower=2, upper=6, q=1),\n",
    "    \"ffn_hidden_dim\": tune.qrandint(lower=300, upper=2400, q=100),\n",
    "    \"ffn_num_layers\": tune.qrandint(lower=1, upper=3, q=1),\n",
    "    \"message_hidden_dim\": tune.qrandint(lower=300, upper=2400, q=100),\n",
    "}"
   ]
  },
  {
   "cell_type": "code",
   "execution_count": 9,
   "id": "c406b1c1-394a-43f0-be69-3fe9b9d593a4",
   "metadata": {},
   "outputs": [
    {
     "data": {
      "text/html": [
       "<div class=\"tuneStatus\">\n",
       "  <div style=\"display: flex;flex-direction: row\">\n",
       "    <div style=\"display: flex;flex-direction: column;\">\n",
       "      <h3>Tune Status</h3>\n",
       "      <table>\n",
       "<tbody>\n",
       "<tr><td>Current time:</td><td>2025-03-11 22:09:28</td></tr>\n",
       "<tr><td>Running for: </td><td>00:04:49.37        </td></tr>\n",
       "<tr><td>Memory:      </td><td>77.0/753.9 GiB     </td></tr>\n",
       "</tbody>\n",
       "</table>\n",
       "    </div>\n",
       "    <div class=\"vDivider\"></div>\n",
       "    <div class=\"systemInfo\">\n",
       "      <h3>System Info</h3>\n",
       "      Using FIFO scheduling algorithm.<br>Logical resource usage: 2.0/96 CPUs, 0/0 GPUs\n",
       "    </div>\n",
       "    \n",
       "  </div>\n",
       "  <div class=\"hDivider\"></div>\n",
       "  <div class=\"trialStatus\">\n",
       "    <h3>Trial Status</h3>\n",
       "    <table>\n",
       "<thead>\n",
       "<tr><th>Trial name           </th><th>status    </th><th>loc              </th><th style=\"text-align: right;\">  train_loop_config/de\n",
       "pth</th><th style=\"text-align: right;\">     train_loop_config/ff\n",
       "n_hidden_dim</th><th style=\"text-align: right;\">  train_loop_config/ff\n",
       "n_num_layers</th><th style=\"text-align: right;\">    train_loop_config/me\n",
       "ssage_hidden_dim</th><th style=\"text-align: right;\">  iter</th><th style=\"text-align: right;\">  total time (s)</th><th style=\"text-align: right;\">  train_loss</th><th style=\"text-align: right;\">  train_loss_step</th><th style=\"text-align: right;\">  val/rmse</th></tr>\n",
       "</thead>\n",
       "<tbody>\n",
       "<tr><td>TorchTrainer_1951b44b</td><td>TERMINATED</td><td>10.233.0.37:27590</td><td style=\"text-align: right;\">2</td><td style=\"text-align: right;\">2000</td><td style=\"text-align: right;\">2</td><td style=\"text-align: right;\">500</td><td style=\"text-align: right;\">    20</td><td style=\"text-align: right;\">         276.939</td><td style=\"text-align: right;\">    0.377535</td><td style=\"text-align: right;\">         0.475361</td><td style=\"text-align: right;\">  0.576822</td></tr>\n",
       "<tr><td>TorchTrainer_2a0ae81e</td><td>TERMINATED</td><td>10.233.0.37:27867</td><td style=\"text-align: right;\">2</td><td style=\"text-align: right;\">2200</td><td style=\"text-align: right;\">2</td><td style=\"text-align: right;\">400</td><td style=\"text-align: right;\">    20</td><td style=\"text-align: right;\">         243.204</td><td style=\"text-align: right;\">    0.359385</td><td style=\"text-align: right;\">         0.420913</td><td style=\"text-align: right;\">  0.566452</td></tr>\n",
       "</tbody>\n",
       "</table>\n",
       "  </div>\n",
       "</div>\n",
       "<style>\n",
       ".tuneStatus {\n",
       "  color: var(--jp-ui-font-color1);\n",
       "}\n",
       ".tuneStatus .systemInfo {\n",
       "  display: flex;\n",
       "  flex-direction: column;\n",
       "}\n",
       ".tuneStatus td {\n",
       "  white-space: nowrap;\n",
       "}\n",
       ".tuneStatus .trialStatus {\n",
       "  display: flex;\n",
       "  flex-direction: column;\n",
       "}\n",
       ".tuneStatus h3 {\n",
       "  font-weight: bold;\n",
       "}\n",
       ".tuneStatus .hDivider {\n",
       "  border-bottom-width: var(--jp-border-width);\n",
       "  border-bottom-color: var(--jp-border-color0);\n",
       "  border-bottom-style: solid;\n",
       "}\n",
       ".tuneStatus .vDivider {\n",
       "  border-left-width: var(--jp-border-width);\n",
       "  border-left-color: var(--jp-border-color0);\n",
       "  border-left-style: solid;\n",
       "  margin: 0.5em 1em 0.5em 1em;\n",
       "}\n",
       "</style>\n"
      ],
      "text/plain": [
       "<IPython.core.display.HTML object>"
      ]
     },
     "metadata": {},
     "output_type": "display_data"
    },
    {
     "name": "stderr",
     "output_type": "stream",
     "text": [
      "\u001b[36m(RayTrainWorker pid=27866)\u001b[0m Setting up process group for: env:// [rank=0, world_size=1]\n",
      "\u001b[36m(TorchTrainer pid=27590)\u001b[0m Started distributed worker processes: \n",
      "\u001b[36m(TorchTrainer pid=27590)\u001b[0m - (node_id=353342b5f20a225baf5438ce754f3005a678d693116335532ce6e99c, ip=10.233.0.37, pid=27866) world_rank=0, local_rank=0, node_rank=0\n",
      "\u001b[36m(RayTrainWorker pid=27866)\u001b[0m /home/aih/serra.korkmaz/miniconda3/envs/saturn/lib/python3.11/site-packages/ray/train/lightning/_lightning_utils.py:262: This API is deprecated and may be removed in future Ray releases. You could suppress this warning by setting env variable PYTHONWARNINGS=\"ignore::DeprecationWarning\"\n",
      "\u001b[36m(RayTrainWorker pid=27866)\u001b[0m `get_trial_name` is deprecated because the concept of a `Trial` will soon be removed in Ray Train.Ray Train will no longer assume that it's running within a Ray Tune `Trial` in the future. See this issue for more context and migration options: https://github.com/ray-project/ray/issues/49454. Disable these warnings by setting the environment variable: RAY_TRAIN_ENABLE_V2_MIGRATION_WARNINGS=0\n",
      "\u001b[36m(RayTrainWorker pid=27866)\u001b[0m GPU available: False, used: False\n",
      "\u001b[36m(RayTrainWorker pid=27866)\u001b[0m TPU available: False, using: 0 TPU cores\n",
      "\u001b[36m(RayTrainWorker pid=27866)\u001b[0m HPU available: False, using: 0 HPUs\n",
      "\u001b[36m(RayTrainWorker pid=27866)\u001b[0m Loading `train_dataloader` to estimate number of stepping batches.\n",
      "\u001b[36m(RayTrainWorker pid=27866)\u001b[0m /home/aih/serra.korkmaz/miniconda3/envs/saturn/lib/python3.11/site-packages/lightning/pytorch/trainer/connectors/data_connector.py:425: The 'train_dataloader' does not have many workers which may be a bottleneck. Consider increasing the value of the `num_workers` argument` to `num_workers=3` in the `DataLoader` to improve performance.\n",
      "\u001b[36m(RayTrainWorker pid=27866)\u001b[0m /home/aih/serra.korkmaz/miniconda3/envs/saturn/lib/python3.11/site-packages/lightning/pytorch/loops/fit_loop.py:310: The number of training batches (29) is smaller than the logging interval Trainer(log_every_n_steps=50). Set a lower value for log_every_n_steps if you want to see logs for the training epoch.\n",
      "\u001b[36m(RayTrainWorker pid=27866)\u001b[0m \n",
      "\u001b[36m(RayTrainWorker pid=27866)\u001b[0m   | Name            | Type               | Params | Mode \n",
      "\u001b[36m(RayTrainWorker pid=27866)\u001b[0m ---------------------------------------------------------------\n",
      "\u001b[36m(RayTrainWorker pid=27866)\u001b[0m 0 | message_passing | BondMessagePassing | 579 K  | train\n",
      "\u001b[36m(RayTrainWorker pid=27866)\u001b[0m 1 | agg             | MeanAggregation    | 0      | train\n",
      "\u001b[36m(RayTrainWorker pid=27866)\u001b[0m 2 | bn              | BatchNorm1d        | 1.0 K  | train\n",
      "\u001b[36m(RayTrainWorker pid=27866)\u001b[0m 3 | predictor       | RegressionFFN      | 5.0 M  | train\n",
      "\u001b[36m(RayTrainWorker pid=27866)\u001b[0m 4 | X_d_transform   | Identity           | 0      | train\n",
      "\u001b[36m(RayTrainWorker pid=27866)\u001b[0m 5 | metrics         | ModuleList         | 0      | train\n",
      "\u001b[36m(RayTrainWorker pid=27866)\u001b[0m ---------------------------------------------------------------\n",
      "\u001b[36m(RayTrainWorker pid=27866)\u001b[0m 5.6 M     Trainable params\n",
      "\u001b[36m(RayTrainWorker pid=27866)\u001b[0m 0         Non-trainable params\n",
      "\u001b[36m(RayTrainWorker pid=27866)\u001b[0m 5.6 M     Total params\n",
      "\u001b[36m(RayTrainWorker pid=27866)\u001b[0m 22.346    Total estimated model params size (MB)\n",
      "\u001b[36m(RayTrainWorker pid=27866)\u001b[0m 27        Modules in train mode\n",
      "\u001b[36m(RayTrainWorker pid=27866)\u001b[0m 0         Modules in eval mode\n",
      "\u001b[36m(RayTrainWorker pid=27866)\u001b[0m /home/aih/serra.korkmaz/miniconda3/envs/saturn/lib/python3.11/site-packages/lightning/pytorch/core/saving.py:363: Skipping 'metrics' parameter because it is not possible to safely dump to YAML.\n",
      "\u001b[36m(RayTrainWorker pid=27866)\u001b[0m /home/aih/serra.korkmaz/miniconda3/envs/saturn/lib/python3.11/site-packages/lightning/pytorch/trainer/connectors/data_connector.py:425: The 'val_dataloader' does not have many workers which may be a bottleneck. Consider increasing the value of the `num_workers` argument` to `num_workers=3` in the `DataLoader` to improve performance.\n"
     ]
    },
    {
     "name": "stdout",
     "output_type": "stream",
     "text": [
      "Sanity Checking DataLoader 0:   0%|          | 0/2 [00:00<?, ?it/s]\n",
      "Sanity Checking DataLoader 0:  50%|█████     | 1/2 [00:01<00:01,  0.86it/s]\n",
      "Sanity Checking DataLoader 0: 100%|██████████| 2/2 [00:01<00:00,  1.39it/s]\n",
      "Epoch 0:   0%|          | 0/29 [00:00<?, ?it/s]                            \n",
      "Epoch 0:   3%|▎         | 1/29 [00:01<00:53,  0.53it/s, v_num=3.41e+7, train_loss_step=1.020]\n",
      "Epoch 0:   7%|▋         | 2/29 [00:02<00:33,  0.81it/s, v_num=3.41e+7, train_loss_step=0.996]\n"
     ]
    },
    {
     "name": "stderr",
     "output_type": "stream",
     "text": [
      "\u001b[36m(TorchTrainer pid=27867)\u001b[0m Started distributed worker processes: \n",
      "\u001b[36m(TorchTrainer pid=27867)\u001b[0m - (node_id=353342b5f20a225baf5438ce754f3005a678d693116335532ce6e99c, ip=10.233.0.37, pid=28099) world_rank=0, local_rank=0, node_rank=0\n",
      "\u001b[36m(RayTrainWorker pid=28099)\u001b[0m Setting up process group for: env:// [rank=0, world_size=1]\n"
     ]
    },
    {
     "name": "stdout",
     "output_type": "stream",
     "text": [
      "Epoch 0:  10%|█         | 3/29 [00:02<00:24,  1.06it/s, v_num=3.41e+7, train_loss_step=0.931]\n",
      "Epoch 0:  14%|█▍        | 4/29 [00:03<00:19,  1.26it/s, v_num=3.41e+7, train_loss_step=0.570]\n",
      "Epoch 0:  17%|█▋        | 5/29 [00:03<00:17,  1.40it/s, v_num=3.41e+7, train_loss_step=0.852]\n",
      "Epoch 0:  21%|██        | 6/29 [00:03<00:15,  1.53it/s, v_num=3.41e+7, train_loss_step=0.733]\n",
      "Epoch 0:  24%|██▍       | 7/29 [00:04<00:13,  1.61it/s, v_num=3.41e+7, train_loss_step=0.900]\n",
      "Epoch 0:  28%|██▊       | 8/29 [00:04<00:12,  1.70it/s, v_num=3.41e+7, train_loss_step=0.820]\n",
      "Epoch 0:  31%|███       | 9/29 [00:05<00:11,  1.77it/s, v_num=3.41e+7, train_loss_step=0.688]\n",
      "Epoch 0:  34%|███▍      | 10/29 [00:05<00:10,  1.85it/s, v_num=3.41e+7, train_loss_step=0.604]\n",
      "Epoch 0:  38%|███▊      | 11/29 [00:05<00:09,  1.91it/s, v_num=3.41e+7, train_loss_step=0.669]\n",
      "Epoch 0:  41%|████▏     | 12/29 [00:06<00:08,  1.95it/s, v_num=3.41e+7, train_loss_step=0.743]\n",
      "Epoch 0:  45%|████▍     | 13/29 [00:06<00:08,  1.99it/s, v_num=3.41e+7, train_loss_step=0.820]\n",
      "Epoch 0:  48%|████▊     | 14/29 [00:06<00:07,  2.03it/s, v_num=3.41e+7, train_loss_step=0.696]\n"
     ]
    },
    {
     "name": "stderr",
     "output_type": "stream",
     "text": [
      "\u001b[36m(RayTrainWorker pid=28099)\u001b[0m /home/aih/serra.korkmaz/miniconda3/envs/saturn/lib/python3.11/site-packages/ray/train/lightning/_lightning_utils.py:262: This API is deprecated and may be removed in future Ray releases. You could suppress this warning by setting env variable PYTHONWARNINGS=\"ignore::DeprecationWarning\"\n",
      "\u001b[36m(RayTrainWorker pid=28099)\u001b[0m `get_trial_name` is deprecated because the concept of a `Trial` will soon be removed in Ray Train.Ray Train will no longer assume that it's running within a Ray Tune `Trial` in the future. See this issue for more context and migration options: https://github.com/ray-project/ray/issues/49454. Disable these warnings by setting the environment variable: RAY_TRAIN_ENABLE_V2_MIGRATION_WARNINGS=0\n",
      "\u001b[36m(RayTrainWorker pid=28099)\u001b[0m GPU available: False, used: False\n",
      "\u001b[36m(RayTrainWorker pid=28099)\u001b[0m TPU available: False, using: 0 TPU cores\n",
      "\u001b[36m(RayTrainWorker pid=28099)\u001b[0m HPU available: False, using: 0 HPUs\n",
      "\u001b[36m(RayTrainWorker pid=28099)\u001b[0m Loading `train_dataloader` to estimate number of stepping batches.\n",
      "\u001b[36m(RayTrainWorker pid=28099)\u001b[0m /home/aih/serra.korkmaz/miniconda3/envs/saturn/lib/python3.11/site-packages/lightning/pytorch/trainer/connectors/data_connector.py:425: The 'train_dataloader' does not have many workers which may be a bottleneck. Consider increasing the value of the `num_workers` argument` to `num_workers=3` in the `DataLoader` to improve performance.\n",
      "\u001b[36m(RayTrainWorker pid=28099)\u001b[0m /home/aih/serra.korkmaz/miniconda3/envs/saturn/lib/python3.11/site-packages/lightning/pytorch/loops/fit_loop.py:310: The number of training batches (29) is smaller than the logging interval Trainer(log_every_n_steps=50). Set a lower value for log_every_n_steps if you want to see logs for the training epoch.\n",
      "\u001b[36m(RayTrainWorker pid=28099)\u001b[0m \n",
      "\u001b[36m(RayTrainWorker pid=28099)\u001b[0m   | Name            | Type               | Params | Mode \n",
      "\u001b[36m(RayTrainWorker pid=28099)\u001b[0m ---------------------------------------------------------------\n",
      "\u001b[36m(RayTrainWorker pid=28099)\u001b[0m 0 | message_passing | BondMessagePassing | 383 K  | train\n",
      "\u001b[36m(RayTrainWorker pid=28099)\u001b[0m 1 | agg             | MeanAggregation    | 0      | train\n",
      "\u001b[36m(RayTrainWorker pid=28099)\u001b[0m 2 | bn              | BatchNorm1d        | 800    | train\n",
      "\u001b[36m(RayTrainWorker pid=28099)\u001b[0m 3 | predictor       | RegressionFFN      | 5.7 M  | train\n",
      "\u001b[36m(RayTrainWorker pid=28099)\u001b[0m 4 | X_d_transform   | Identity           | 0      | train\n",
      "\u001b[36m(RayTrainWorker pid=28099)\u001b[0m 5 | metrics         | ModuleList         | 0      | train\n",
      "\u001b[36m(RayTrainWorker pid=28099)\u001b[0m ---------------------------------------------------------------\n",
      "\u001b[36m(RayTrainWorker pid=28099)\u001b[0m 6.1 M     Trainable params\n",
      "\u001b[36m(RayTrainWorker pid=28099)\u001b[0m 0         Non-trainable params\n",
      "\u001b[36m(RayTrainWorker pid=28099)\u001b[0m 6.1 M     Total params\n",
      "\u001b[36m(RayTrainWorker pid=28099)\u001b[0m 24.444    Total estimated model params size (MB)\n",
      "\u001b[36m(RayTrainWorker pid=28099)\u001b[0m 27        Modules in train mode\n",
      "\u001b[36m(RayTrainWorker pid=28099)\u001b[0m 0         Modules in eval mode\n",
      "\u001b[36m(RayTrainWorker pid=28099)\u001b[0m /home/aih/serra.korkmaz/miniconda3/envs/saturn/lib/python3.11/site-packages/lightning/pytorch/core/saving.py:363: Skipping 'metrics' parameter because it is not possible to safely dump to YAML.\n",
      "\u001b[36m(RayTrainWorker pid=28099)\u001b[0m /home/aih/serra.korkmaz/miniconda3/envs/saturn/lib/python3.11/site-packages/lightning/pytorch/trainer/connectors/data_connector.py:425: The 'val_dataloader' does not have many workers which may be a bottleneck. Consider increasing the value of the `num_workers` argument` to `num_workers=3` in the `DataLoader` to improve performance.\n"
     ]
    },
    {
     "name": "stdout",
     "output_type": "stream",
     "text": [
      "Epoch 0:  52%|█████▏    | 15/29 [00:07<00:06,  2.07it/s, v_num=3.41e+7, train_loss_step=0.631]\n",
      "Sanity Checking: |          | 0/? [00:00<?, ?it/s]\n",
      "Sanity Checking DataLoader 0:   0%|          | 0/2 [00:00<?, ?it/s]\n",
      "Epoch 0:  55%|█████▌    | 16/29 [00:07<00:06,  2.10it/s, v_num=3.41e+7, train_loss_step=0.679]\n",
      "Sanity Checking DataLoader 0:  50%|█████     | 1/2 [00:00<00:00,  4.66it/s]\n",
      "Epoch 0:   0%|          | 0/29 [00:00<?, ?it/s]                            \n",
      "Epoch 0:  59%|█████▊    | 17/29 [00:07<00:05,  2.13it/s, v_num=3.41e+7, train_loss_step=0.876]\n",
      "Epoch 0:  93%|█████████▎| 27/29 [00:12<00:00,  2.21it/s, v_num=3.41e+7, train_loss_step=0.742]\n",
      "Epoch 0:  97%|█████████▋| 28/29 [00:12<00:00,  2.22it/s, v_num=3.41e+7, train_loss_step=0.600]\n",
      "Epoch 0:  41%|████▏     | 12/29 [00:04<00:06,  2.74it/s, v_num=3.41e+7, train_loss_step=0.746]\u001b[32m [repeated 21x across cluster] (Ray deduplicates logs by default. Set RAY_DEDUP_LOGS=0 to disable log deduplication, or see https://docs.ray.io/en/master/ray-observability/user-guides/configure-logging.html#log-deduplication for more options.)\u001b[0m\n",
      "Epoch 0: 100%|██████████| 29/29 [00:12<00:00,  2.27it/s, v_num=3.41e+7, train_loss_step=0.370]\n",
      "Validation: |          | 0/? [00:00<?, ?it/s]\u001b[A\n",
      "Validation:   0%|          | 0/6 [00:00<?, ?it/s]\u001b[A\n",
      "Validation DataLoader 0:   0%|          | 0/6 [00:00<?, ?it/s]\u001b[A\n",
      "\u001b[36m(RayTrainWorker pid=27866)\u001b[0m \n",
      "Validation DataLoader 0:  17%|█▋        | 1/6 [00:00<00:01,  4.63it/s]\u001b[A\n",
      "\u001b[36m(RayTrainWorker pid=27866)\u001b[0m \n",
      "Validation DataLoader 0:  33%|███▎      | 2/6 [00:00<00:00,  4.11it/s]\u001b[A\n",
      "\u001b[36m(RayTrainWorker pid=27866)\u001b[0m \n",
      "Validation DataLoader 0:  50%|█████     | 3/6 [00:00<00:00,  4.04it/s]\u001b[A\n",
      "\u001b[36m(RayTrainWorker pid=27866)\u001b[0m \n",
      "Validation DataLoader 0:  67%|██████▋   | 4/6 [00:01<00:00,  3.99it/s]\u001b[A\n",
      "\u001b[36m(RayTrainWorker pid=27866)\u001b[0m \n",
      "Validation DataLoader 0:  83%|████████▎ | 5/6 [00:01<00:00,  3.87it/s]\u001b[A\n",
      "\u001b[36m(RayTrainWorker pid=27866)\u001b[0m \n",
      "Validation DataLoader 0: 100%|██████████| 6/6 [00:01<00:00,  4.06it/s]\u001b[A\n",
      "Epoch 0: 100%|██████████| 29/29 [00:14<00:00,  2.02it/s, v_num=3.41e+7, train_loss_step=0.370, val_loss=0.920]\n",
      "Epoch 0: 100%|██████████| 29/29 [00:14<00:00,  1.99it/s, v_num=3.41e+7, train_loss_step=0.370, val_loss=0.920, train_loss_epoch=0.748]\n",
      "Epoch 1:   0%|          | 0/29 [00:00<?, ?it/s, v_num=3.41e+7, train_loss_step=0.370, val_loss=0.920, train_loss_epoch=0.748]         \n"
     ]
    },
    {
     "name": "stderr",
     "output_type": "stream",
     "text": [
      "\u001b[36m(RayTrainWorker pid=27866)\u001b[0m Checkpoint successfully created at: Checkpoint(filesystem=local, path=/ictstr01/home/aih/serra.korkmaz/projects/saturn/hopt/hpopt_5ht1b_chembl/ray_results/TorchTrainer_2025-03-11_22-04-38/1951b44b/checkpoint_000000)\n"
     ]
    },
    {
     "name": "stdout",
     "output_type": "stream",
     "text": [
      "Epoch 0:  93%|█████████▎| 27/29 [00:09<00:00,  2.80it/s, v_num=3.41e+7, train_loss_step=0.791]\n",
      "Epoch 1:  24%|██▍       | 7/29 [00:02<00:09,  2.35it/s, v_num=3.41e+7, train_loss_step=0.749, val_loss=0.920, train_loss_epoch=0.748]\u001b[32m [repeated 21x across cluster]\u001b[0m\n",
      "Epoch 0:  97%|█████████▋| 28/29 [00:10<00:00,  2.79it/s, v_num=3.41e+7, train_loss_step=0.617]\n",
      "Epoch 0: 100%|██████████| 29/29 [00:10<00:00,  2.86it/s, v_num=3.41e+7, train_loss_step=0.387]\n",
      "Validation: |          | 0/? [00:00<?, ?it/s]\u001b[A\n",
      "\u001b[36m(RayTrainWorker pid=28099)\u001b[0m \n",
      "Validation:   0%|          | 0/6 [00:00<?, ?it/s]\u001b[A\n",
      "Validation DataLoader 0:   0%|          | 0/6 [00:00<?, ?it/s]\u001b[A\n",
      "\u001b[36m(RayTrainWorker pid=28099)\u001b[0m \n",
      "Validation DataLoader 0:  17%|█▋        | 1/6 [00:00<00:01,  4.56it/s]\u001b[A\n",
      "\u001b[36m(RayTrainWorker pid=28099)\u001b[0m \n",
      "Validation DataLoader 0:  33%|███▎      | 2/6 [00:00<00:01,  3.89it/s]\u001b[A\n",
      "\u001b[36m(RayTrainWorker pid=28099)\u001b[0m \n",
      "Validation DataLoader 0:  50%|█████     | 3/6 [00:00<00:00,  4.05it/s]\u001b[A\n",
      "\u001b[36m(RayTrainWorker pid=28099)\u001b[0m \n",
      "Validation DataLoader 0:  67%|██████▋   | 4/6 [00:00<00:00,  4.11it/s]\u001b[A\n",
      "\u001b[36m(RayTrainWorker pid=28099)\u001b[0m \n",
      "Validation DataLoader 0:  83%|████████▎ | 5/6 [00:01<00:00,  4.15it/s]\u001b[A\n",
      "\u001b[36m(RayTrainWorker pid=28099)\u001b[0m \n",
      "Validation DataLoader 0: 100%|██████████| 6/6 [00:01<00:00,  4.43it/s]\u001b[A\n",
      "Epoch 0: 100%|██████████| 29/29 [00:11<00:00,  2.51it/s, v_num=3.41e+7, train_loss_step=0.387, val_loss=0.946]\n"
     ]
    },
    {
     "name": "stderr",
     "output_type": "stream",
     "text": [
      "2025-03-11 22:05:22,635\tWARNING experiment_state.py:206 -- Experiment state snapshotting has been triggered multiple times in the last 5.0 seconds and may become a bottleneck. A snapshot is forced if `CheckpointConfig(num_to_keep)` is set, and a trial has checkpointed >= `num_to_keep` times since the last snapshot.\n",
      "You may want to consider increasing the `CheckpointConfig(num_to_keep)` or decreasing the frequency of saving checkpoints.\n",
      "You can suppress this warning by setting the environment variable TUNE_WARN_EXCESSIVE_EXPERIMENT_CHECKPOINT_SYNC_THRESHOLD_S to a smaller value than the current threshold (5.0). Set it to 0 to completely suppress this warning.\n"
     ]
    },
    {
     "name": "stdout",
     "output_type": "stream",
     "text": [
      "Epoch 0: 100%|██████████| 29/29 [00:11<00:00,  2.46it/s, v_num=3.41e+7, train_loss_step=0.387, val_loss=0.946, train_loss_epoch=0.756]\n",
      "Epoch 1:   0%|          | 0/29 [00:00<?, ?it/s, v_num=3.41e+7, train_loss_step=0.387, val_loss=0.946, train_loss_epoch=0.756]         \n",
      "Epoch 1:  31%|███       | 9/29 [00:03<00:06,  2.96it/s, v_num=3.41e+7, train_loss_step=0.680, val_loss=0.946, train_loss_epoch=0.756]\u001b[32m [repeated 21x across cluster]\u001b[0m\n",
      "Epoch 1:  93%|█████████▎| 27/29 [00:11<00:00,  2.44it/s, v_num=3.41e+7, train_loss_step=0.616, val_loss=0.920, train_loss_epoch=0.748]\n",
      "Epoch 1:  97%|█████████▋| 28/29 [00:11<00:00,  2.43it/s, v_num=3.41e+7, train_loss_step=0.734, val_loss=0.920, train_loss_epoch=0.748]\n",
      "Epoch 1: 100%|██████████| 29/29 [00:11<00:00,  2.50it/s, v_num=3.41e+7, train_loss_step=0.931, val_loss=0.920, train_loss_epoch=0.748]\n",
      "Validation: |          | 0/? [00:00<?, ?it/s]\u001b[A\n",
      "\u001b[36m(RayTrainWorker pid=27866)\u001b[0m \n",
      "Validation:   0%|          | 0/6 [00:00<?, ?it/s]\u001b[A\n",
      "Validation DataLoader 0:   0%|          | 0/6 [00:00<?, ?it/s]\u001b[A\n",
      "\u001b[36m(RayTrainWorker pid=27866)\u001b[0m \n",
      "Validation DataLoader 0:  17%|█▋        | 1/6 [00:00<00:01,  3.56it/s]\u001b[A\n",
      "\u001b[36m(RayTrainWorker pid=27866)\u001b[0m \n",
      "Validation DataLoader 0:  33%|███▎      | 2/6 [00:00<00:01,  3.09it/s]\u001b[A\n",
      "\u001b[36m(RayTrainWorker pid=27866)\u001b[0m \n",
      "Validation DataLoader 0:  50%|█████     | 3/6 [00:00<00:00,  3.08it/s]\u001b[A\n",
      "\u001b[36m(RayTrainWorker pid=27866)\u001b[0m \n",
      "Validation DataLoader 0:  67%|██████▋   | 4/6 [00:01<00:00,  3.05it/s]\u001b[A\n",
      "Epoch 1:  79%|███████▉  | 23/29 [00:08<00:02,  2.85it/s, v_num=3.41e+7, train_loss_step=0.565, val_loss=0.946, train_loss_epoch=0.756]\u001b[32m [repeated 21x across cluster]\u001b[0m\n",
      "\u001b[36m(RayTrainWorker pid=27866)\u001b[0m \n",
      "Validation DataLoader 0:  83%|████████▎ | 5/6 [00:01<00:00,  2.99it/s]\u001b[A\n",
      "\u001b[36m(RayTrainWorker pid=27866)\u001b[0m \n",
      "Validation DataLoader 0: 100%|██████████| 6/6 [00:01<00:00,  3.17it/s]\u001b[A\n",
      "Epoch 1: 100%|██████████| 29/29 [00:13<00:00,  2.14it/s, v_num=3.41e+7, train_loss_step=0.931, val_loss=0.865, train_loss_epoch=0.748]\n",
      "Epoch 1: 100%|██████████| 29/29 [00:13<00:00,  2.10it/s, v_num=3.41e+7, train_loss_step=0.931, val_loss=0.865, train_loss_epoch=0.648]\n"
     ]
    },
    {
     "name": "stderr",
     "output_type": "stream",
     "text": [
      "\u001b[36m(RayTrainWorker pid=27866)\u001b[0m Checkpoint successfully created at: Checkpoint(filesystem=local, path=/ictstr01/home/aih/serra.korkmaz/projects/saturn/hopt/hpopt_5ht1b_chembl/ray_results/TorchTrainer_2025-03-11_22-04-38/1951b44b/checkpoint_000001)\u001b[32m [repeated 2x across cluster]\u001b[0m\n"
     ]
    },
    {
     "name": "stdout",
     "output_type": "stream",
     "text": [
      "Epoch 2:   0%|          | 0/29 [00:00<?, ?it/s, v_num=3.41e+7, train_loss_step=0.931, val_loss=0.865, train_loss_epoch=0.648]         \n",
      "\u001b[36m(RayTrainWorker pid=28099)\u001b[0m \n",
      "\u001b[36m(RayTrainWorker pid=28099)\u001b[0m \n",
      "\u001b[36m(RayTrainWorker pid=28099)\u001b[0m \n",
      "\u001b[36m(RayTrainWorker pid=28099)\u001b[0m \n",
      "\u001b[36m(RayTrainWorker pid=28099)\u001b[0m \n",
      "\u001b[36m(RayTrainWorker pid=28099)\u001b[0m \n",
      "\u001b[36m(RayTrainWorker pid=28099)\u001b[0m \n",
      "Epoch 1: 100%|██████████| 29/29 [00:09<00:00,  2.93it/s, v_num=3.41e+7, train_loss_step=0.887, val_loss=0.946, train_loss_epoch=0.756]\u001b[32m [repeated 3x across cluster]\u001b[0m\n"
     ]
    },
    {
     "name": "stderr",
     "output_type": "stream",
     "text": [
      "2025-03-11 22:05:34,210\tWARNING experiment_state.py:206 -- Experiment state snapshotting has been triggered multiple times in the last 5.0 seconds and may become a bottleneck. A snapshot is forced if `CheckpointConfig(num_to_keep)` is set, and a trial has checkpointed >= `num_to_keep` times since the last snapshot.\n",
      "You may want to consider increasing the `CheckpointConfig(num_to_keep)` or decreasing the frequency of saving checkpoints.\n",
      "You can suppress this warning by setting the environment variable TUNE_WARN_EXCESSIVE_EXPERIMENT_CHECKPOINT_SYNC_THRESHOLD_S to a smaller value than the current threshold (5.0). Set it to 0 to completely suppress this warning.\n"
     ]
    },
    {
     "name": "stdout",
     "output_type": "stream",
     "text": [
      "\u001b[36m(RayTrainWorker pid=28099)\u001b[0m \n",
      "Validation: |          | 0/? [00:00<?, ?it/s]\u001b[A\n",
      "Validation:   0%|          | 0/6 [00:00<?, ?it/s]\u001b[A\n",
      "Validation DataLoader 0:   0%|          | 0/6 [00:00<?, ?it/s]\u001b[A\n",
      "Validation DataLoader 0:  83%|████████▎ | 5/6 [00:01<00:00,  4.49it/s]\u001b[A\u001b[32m [repeated 5x across cluster]\u001b[0m\n",
      "Epoch 2:  38%|███▊      | 11/29 [00:04<00:06,  2.59it/s, v_num=3.41e+7, train_loss_step=0.675, val_loss=0.865, train_loss_epoch=0.648]\u001b[32m [repeated 18x across cluster]\u001b[0m\n",
      "Validation DataLoader 0: 100%|██████████| 6/6 [00:01<00:00,  4.73it/s]\u001b[A\n",
      "Epoch 1: 100%|██████████| 29/29 [00:11<00:00,  2.59it/s, v_num=3.41e+7, train_loss_step=0.887, val_loss=0.816, train_loss_epoch=0.756]\n",
      "Epoch 1: 100%|██████████| 29/29 [00:11<00:00,  2.54it/s, v_num=3.41e+7, train_loss_step=0.887, val_loss=0.816, train_loss_epoch=0.650]\n",
      "Epoch 2:   0%|          | 0/29 [00:00<?, ?it/s, v_num=3.41e+7, train_loss_step=0.887, val_loss=0.816, train_loss_epoch=0.650]         \n",
      "Epoch 2:  79%|███████▉  | 23/29 [00:09<00:02,  2.48it/s, v_num=3.41e+7, train_loss_step=0.630, val_loss=0.865, train_loss_epoch=0.648]\u001b[32m [repeated 26x across cluster]\u001b[0m\n",
      "Epoch 2:  93%|█████████▎| 27/29 [00:10<00:00,  2.46it/s, v_num=3.41e+7, train_loss_step=0.491, val_loss=0.865, train_loss_epoch=0.648]\n",
      "Epoch 2:  97%|█████████▋| 28/29 [00:11<00:00,  2.47it/s, v_num=3.41e+7, train_loss_step=0.709, val_loss=0.865, train_loss_epoch=0.648]\n",
      "Epoch 2: 100%|██████████| 29/29 [00:11<00:00,  2.53it/s, v_num=3.41e+7, train_loss_step=0.699, val_loss=0.865, train_loss_epoch=0.648]\n",
      "Validation: |          | 0/? [00:00<?, ?it/s]\u001b[A\n",
      "\u001b[36m(RayTrainWorker pid=27866)\u001b[0m \n",
      "Validation:   0%|          | 0/6 [00:00<?, ?it/s]\u001b[A\n",
      "Validation DataLoader 0:   0%|          | 0/6 [00:00<?, ?it/s]\u001b[A\n",
      "\u001b[36m(RayTrainWorker pid=27866)\u001b[0m \n",
      "Validation DataLoader 0:  17%|█▋        | 1/6 [00:00<00:01,  4.70it/s]\u001b[A\n",
      "\u001b[36m(RayTrainWorker pid=27866)\u001b[0m \n",
      "Validation DataLoader 0:  33%|███▎      | 2/6 [00:00<00:00,  4.02it/s]\u001b[A\n",
      "\u001b[36m(RayTrainWorker pid=27866)\u001b[0m \n",
      "Validation DataLoader 0:  50%|█████     | 3/6 [00:00<00:00,  3.86it/s]\u001b[A\n",
      "\u001b[36m(RayTrainWorker pid=27866)\u001b[0m \n",
      "Validation DataLoader 0:  67%|██████▋   | 4/6 [00:01<00:00,  3.51it/s]\u001b[A\n",
      "\u001b[36m(RayTrainWorker pid=28099)\u001b[0m \n",
      "\u001b[36m(RayTrainWorker pid=27866)\u001b[0m \n",
      "Validation DataLoader 0:  83%|████████▎ | 5/6 [00:01<00:00,  3.39it/s]\u001b[A\n",
      "\u001b[36m(RayTrainWorker pid=28099)\u001b[0m \n"
     ]
    },
    {
     "name": "stderr",
     "output_type": "stream",
     "text": [
      "2025-03-11 22:05:45,134\tWARNING experiment_state.py:206 -- Experiment state snapshotting has been triggered multiple times in the last 5.0 seconds and may become a bottleneck. A snapshot is forced if `CheckpointConfig(num_to_keep)` is set, and a trial has checkpointed >= `num_to_keep` times since the last snapshot.\n",
      "You may want to consider increasing the `CheckpointConfig(num_to_keep)` or decreasing the frequency of saving checkpoints.\n",
      "You can suppress this warning by setting the environment variable TUNE_WARN_EXCESSIVE_EXPERIMENT_CHECKPOINT_SYNC_THRESHOLD_S to a smaller value than the current threshold (5.0). Set it to 0 to completely suppress this warning.\n"
     ]
    },
    {
     "name": "stdout",
     "output_type": "stream",
     "text": [
      "\u001b[36m(RayTrainWorker pid=27866)\u001b[0m \n",
      "Validation DataLoader 0: 100%|██████████| 6/6 [00:01<00:00,  3.53it/s]\u001b[A\n",
      "Epoch 2: 100%|██████████| 29/29 [00:13<00:00,  2.20it/s, v_num=3.41e+7, train_loss_step=0.699, val_loss=0.728, train_loss_epoch=0.648]\n",
      "\u001b[36m(RayTrainWorker pid=28099)\u001b[0m \n",
      "Epoch 2: 100%|██████████| 29/29 [00:13<00:00,  2.16it/s, v_num=3.41e+7, train_loss_step=0.699, val_loss=0.728, train_loss_epoch=0.643]\n"
     ]
    },
    {
     "name": "stderr",
     "output_type": "stream",
     "text": [
      "\u001b[36m(RayTrainWorker pid=27866)\u001b[0m Checkpoint successfully created at: Checkpoint(filesystem=local, path=/ictstr01/home/aih/serra.korkmaz/projects/saturn/hopt/hpopt_5ht1b_chembl/ray_results/TorchTrainer_2025-03-11_22-04-38/1951b44b/checkpoint_000002)\u001b[32m [repeated 2x across cluster]\u001b[0m\n"
     ]
    },
    {
     "name": "stdout",
     "output_type": "stream",
     "text": [
      "Epoch 3:   0%|          | 0/29 [00:00<?, ?it/s, v_num=3.41e+7, train_loss_step=0.699, val_loss=0.728, train_loss_epoch=0.643]         \n",
      "\u001b[36m(RayTrainWorker pid=28099)\u001b[0m \n",
      "\u001b[36m(RayTrainWorker pid=28099)\u001b[0m \n",
      "\u001b[36m(RayTrainWorker pid=28099)\u001b[0m \n",
      "\u001b[36m(RayTrainWorker pid=28099)\u001b[0m \n",
      "Epoch 3:   7%|▋         | 2/29 [00:00<00:10,  2.54it/s, v_num=3.41e+7, train_loss_step=0.827, val_loss=0.728, train_loss_epoch=0.643]\u001b[32m [repeated 13x across cluster]\u001b[0m\n"
     ]
    },
    {
     "name": "stderr",
     "output_type": "stream",
     "text": [
      "2025-03-11 22:05:46,140\tWARNING experiment_state.py:206 -- Experiment state snapshotting has been triggered multiple times in the last 5.0 seconds and may become a bottleneck. A snapshot is forced if `CheckpointConfig(num_to_keep)` is set, and a trial has checkpointed >= `num_to_keep` times since the last snapshot.\n",
      "You may want to consider increasing the `CheckpointConfig(num_to_keep)` or decreasing the frequency of saving checkpoints.\n",
      "You can suppress this warning by setting the environment variable TUNE_WARN_EXCESSIVE_EXPERIMENT_CHECKPOINT_SYNC_THRESHOLD_S to a smaller value than the current threshold (5.0). Set it to 0 to completely suppress this warning.\n"
     ]
    },
    {
     "name": "stdout",
     "output_type": "stream",
     "text": [
      "Epoch 2: 100%|██████████| 29/29 [00:10<00:00,  2.88it/s, v_num=3.41e+7, train_loss_step=0.782, val_loss=0.816, train_loss_epoch=0.650]\u001b[32m [repeated 3x across cluster]\u001b[0m\n",
      "Validation: |          | 0/? [00:00<?, ?it/s]\u001b[A\n",
      "Validation:   0%|          | 0/6 [00:00<?, ?it/s]\u001b[A\n",
      "Validation DataLoader 0:   0%|          | 0/6 [00:00<?, ?it/s]\u001b[A\n",
      "Validation DataLoader 0:  83%|████████▎ | 5/6 [00:01<00:00,  4.12it/s]\u001b[A\u001b[32m [repeated 5x across cluster]\u001b[0m\n",
      "Validation DataLoader 0: 100%|██████████| 6/6 [00:01<00:00,  4.29it/s]\u001b[A\n",
      "Epoch 2: 100%|██████████| 29/29 [00:11<00:00,  2.51it/s, v_num=3.41e+7, train_loss_step=0.782, val_loss=1.740, train_loss_epoch=0.650]\n",
      "Epoch 2: 100%|██████████| 29/29 [00:11<00:00,  2.46it/s, v_num=3.41e+7, train_loss_step=0.782, val_loss=1.740, train_loss_epoch=0.637]\n",
      "Epoch 3:   0%|          | 0/29 [00:00<?, ?it/s, v_num=3.41e+7, train_loss_step=0.782, val_loss=1.740, train_loss_epoch=0.637]         \n",
      "Epoch 3:  45%|████▍     | 13/29 [00:04<00:06,  2.66it/s, v_num=3.41e+7, train_loss_step=0.596, val_loss=1.740, train_loss_epoch=0.637]\u001b[32m [repeated 24x across cluster]\u001b[0m\n",
      "Epoch 3:  90%|████████▉ | 26/29 [00:11<00:01,  2.32it/s, v_num=3.41e+7, train_loss_step=0.535, val_loss=0.728, train_loss_epoch=0.643]\u001b[32m [repeated 26x across cluster]\u001b[0m\n",
      "Epoch 3:  93%|█████████▎| 27/29 [00:10<00:00,  2.65it/s, v_num=3.41e+7, train_loss_step=0.662, val_loss=1.740, train_loss_epoch=0.637]\n",
      "Validation: |          | 0/? [00:00<?, ?it/s]\u001b[A\n",
      "Validation:   0%|          | 0/6 [00:00<?, ?it/s]\u001b[A\n",
      "Validation DataLoader 0:   0%|          | 0/6 [00:00<?, ?it/s]\u001b[A\n",
      "\u001b[36m(RayTrainWorker pid=28099)\u001b[0m \n",
      "Validation DataLoader 0:  17%|█▋        | 1/6 [00:00<00:01,  4.40it/s]\u001b[A\n",
      "\u001b[36m(RayTrainWorker pid=27866)\u001b[0m \n",
      "\u001b[36m(RayTrainWorker pid=28099)\u001b[0m \n",
      "Validation DataLoader 0:  33%|███▎      | 2/6 [00:00<00:01,  3.87it/s]\u001b[A\n",
      "\u001b[36m(RayTrainWorker pid=27866)\u001b[0m \n",
      "\u001b[36m(RayTrainWorker pid=28099)\u001b[0m \n",
      "\u001b[36m(RayTrainWorker pid=28099)\u001b[0m \n",
      "\u001b[36m(RayTrainWorker pid=27866)\u001b[0m \n",
      "\u001b[36m(RayTrainWorker pid=28099)\u001b[0m \n",
      "\u001b[36m(RayTrainWorker pid=27866)\u001b[0m \n",
      "\u001b[36m(RayTrainWorker pid=28099)\u001b[0m \n",
      "Validation DataLoader 0: 100%|██████████| 6/6 [00:01<00:00,  3.89it/s]\u001b[A\n",
      "Epoch 3: 100%|██████████| 29/29 [00:12<00:00,  2.36it/s, v_num=3.41e+7, train_loss_step=0.557, val_loss=0.665, train_loss_epoch=0.637]\n"
     ]
    },
    {
     "name": "stderr",
     "output_type": "stream",
     "text": [
      "2025-03-11 22:05:58,855\tWARNING experiment_state.py:206 -- Experiment state snapshotting has been triggered multiple times in the last 5.0 seconds and may become a bottleneck. A snapshot is forced if `CheckpointConfig(num_to_keep)` is set, and a trial has checkpointed >= `num_to_keep` times since the last snapshot.\n",
      "You may want to consider increasing the `CheckpointConfig(num_to_keep)` or decreasing the frequency of saving checkpoints.\n",
      "You can suppress this warning by setting the environment variable TUNE_WARN_EXCESSIVE_EXPERIMENT_CHECKPOINT_SYNC_THRESHOLD_S to a smaller value than the current threshold (5.0). Set it to 0 to completely suppress this warning.\n",
      "\u001b[36m(RayTrainWorker pid=28099)\u001b[0m Checkpoint successfully created at: Checkpoint(filesystem=local, path=/ictstr01/home/aih/serra.korkmaz/projects/saturn/hopt/hpopt_5ht1b_chembl/ray_results/TorchTrainer_2025-03-11_22-04-38/2a0ae81e/checkpoint_000003)\u001b[32m [repeated 2x across cluster]\u001b[0m\n"
     ]
    },
    {
     "name": "stdout",
     "output_type": "stream",
     "text": [
      "\u001b[36m(RayTrainWorker pid=27866)\u001b[0m \n",
      "Epoch 3: 100%|██████████| 29/29 [00:12<00:00,  2.31it/s, v_num=3.41e+7, train_loss_step=0.557, val_loss=0.665, train_loss_epoch=0.639]\n",
      "Epoch 4:   0%|          | 0/29 [00:00<?, ?it/s, v_num=3.41e+7, train_loss_step=0.557, val_loss=0.665, train_loss_epoch=0.639]         \n",
      "\u001b[36m(RayTrainWorker pid=27866)\u001b[0m \n",
      "\u001b[36m(RayTrainWorker pid=27866)\u001b[0m \n"
     ]
    },
    {
     "name": "stderr",
     "output_type": "stream",
     "text": [
      "2025-03-11 22:05:59,481\tWARNING experiment_state.py:206 -- Experiment state snapshotting has been triggered multiple times in the last 5.0 seconds and may become a bottleneck. A snapshot is forced if `CheckpointConfig(num_to_keep)` is set, and a trial has checkpointed >= `num_to_keep` times since the last snapshot.\n",
      "You may want to consider increasing the `CheckpointConfig(num_to_keep)` or decreasing the frequency of saving checkpoints.\n",
      "You can suppress this warning by setting the environment variable TUNE_WARN_EXCESSIVE_EXPERIMENT_CHECKPOINT_SYNC_THRESHOLD_S to a smaller value than the current threshold (5.0). Set it to 0 to completely suppress this warning.\n"
     ]
    },
    {
     "name": "stdout",
     "output_type": "stream",
     "text": [
      "Epoch 4:  17%|█▋        | 5/29 [00:01<00:09,  2.52it/s, v_num=3.41e+7, train_loss_step=0.735, val_loss=0.731, train_loss_epoch=0.648]\u001b[32m [repeated 12x across cluster]\u001b[0m\n",
      "Epoch 3: 100%|██████████| 29/29 [00:12<00:00,  2.38it/s, v_num=3.41e+7, train_loss_step=0.606, val_loss=0.728, train_loss_epoch=0.643]\u001b[32m [repeated 5x across cluster]\u001b[0m\n",
      "Validation: |          | 0/? [00:00<?, ?it/s]\u001b[A\n",
      "Validation:   0%|          | 0/6 [00:00<?, ?it/s]\u001b[A\n",
      "Validation DataLoader 0:   0%|          | 0/6 [00:00<?, ?it/s]\u001b[A\n",
      "Validation DataLoader 0:  83%|████████▎ | 5/6 [00:01<00:00,  3.13it/s]\u001b[A\u001b[32m [repeated 8x across cluster]\u001b[0m\n",
      "Validation DataLoader 0: 100%|██████████| 6/6 [00:01<00:00,  3.37it/s]\u001b[A\n",
      "Epoch 3: 100%|██████████| 29/29 [00:14<00:00,  2.06it/s, v_num=3.41e+7, train_loss_step=0.606, val_loss=0.731, train_loss_epoch=0.643]\n",
      "Epoch 3: 100%|██████████| 29/29 [00:14<00:00,  2.04it/s, v_num=3.41e+7, train_loss_step=0.606, val_loss=0.731, train_loss_epoch=0.648]\n",
      "Epoch 4:   0%|          | 0/29 [00:00<?, ?it/s, v_num=3.41e+7, train_loss_step=0.606, val_loss=0.731, train_loss_epoch=0.648]         \n",
      "Epoch 4:  59%|█████▊    | 17/29 [00:07<00:04,  2.43it/s, v_num=3.41e+7, train_loss_step=0.582, val_loss=0.731, train_loss_epoch=0.648]\u001b[32m [repeated 26x across cluster]\u001b[0m\n",
      "Epoch 4:  93%|█████████▎| 27/29 [00:09<00:00,  2.78it/s, v_num=3.41e+7, train_loss_step=0.675, val_loss=0.665, train_loss_epoch=0.639]\n",
      "Epoch 4:  97%|█████████▋| 28/29 [00:10<00:00,  2.78it/s, v_num=3.41e+7, train_loss_step=0.611, val_loss=0.665, train_loss_epoch=0.639]\n",
      "Epoch 4: 100%|██████████| 29/29 [00:10<00:00,  2.84it/s, v_num=3.41e+7, train_loss_step=1.100, val_loss=0.665, train_loss_epoch=0.639]\n",
      "Validation: |          | 0/? [00:00<?, ?it/s]\u001b[A\n",
      "Validation:   0%|          | 0/6 [00:00<?, ?it/s]\u001b[A\n",
      "Validation DataLoader 0:   0%|          | 0/6 [00:00<?, ?it/s]\u001b[A\n",
      "\u001b[36m(RayTrainWorker pid=28099)\u001b[0m \n",
      "Validation DataLoader 0:  17%|█▋        | 1/6 [00:00<00:00,  5.56it/s]\u001b[A\n",
      "\u001b[36m(RayTrainWorker pid=28099)\u001b[0m \n",
      "Validation DataLoader 0:  33%|███▎      | 2/6 [00:00<00:00,  4.36it/s]\u001b[A\n",
      "\u001b[36m(RayTrainWorker pid=28099)\u001b[0m \n",
      "Validation DataLoader 0:  50%|█████     | 3/6 [00:00<00:00,  4.28it/s]\u001b[A\n",
      "\u001b[36m(RayTrainWorker pid=28099)\u001b[0m \n",
      "Validation DataLoader 0:  67%|██████▋   | 4/6 [00:00<00:00,  4.24it/s]\u001b[A\n",
      "\u001b[36m(RayTrainWorker pid=28099)\u001b[0m \n",
      "Validation DataLoader 0:  83%|████████▎ | 5/6 [00:01<00:00,  4.24it/s]\u001b[A\n"
     ]
    },
    {
     "name": "stderr",
     "output_type": "stream",
     "text": [
      "\u001b[36m(RayTrainWorker pid=28099)\u001b[0m Checkpoint successfully created at: Checkpoint(filesystem=local, path=/ictstr01/home/aih/serra.korkmaz/projects/saturn/hopt/hpopt_5ht1b_chembl/ray_results/TorchTrainer_2025-03-11_22-04-38/2a0ae81e/checkpoint_000004)\u001b[32m [repeated 2x across cluster]\u001b[0m\n",
      "2025-03-11 22:06:10,807\tWARNING experiment_state.py:206 -- Experiment state snapshotting has been triggered multiple times in the last 5.0 seconds and may become a bottleneck. A snapshot is forced if `CheckpointConfig(num_to_keep)` is set, and a trial has checkpointed >= `num_to_keep` times since the last snapshot.\n",
      "You may want to consider increasing the `CheckpointConfig(num_to_keep)` or decreasing the frequency of saving checkpoints.\n",
      "You can suppress this warning by setting the environment variable TUNE_WARN_EXCESSIVE_EXPERIMENT_CHECKPOINT_SYNC_THRESHOLD_S to a smaller value than the current threshold (5.0). Set it to 0 to completely suppress this warning.\n"
     ]
    },
    {
     "name": "stdout",
     "output_type": "stream",
     "text": [
      "\u001b[36m(RayTrainWorker pid=28099)\u001b[0m \n",
      "Validation DataLoader 0: 100%|██████████| 6/6 [00:01<00:00,  4.50it/s]\u001b[A\n",
      "Epoch 4: 100%|██████████| 29/29 [00:11<00:00,  2.50it/s, v_num=3.41e+7, train_loss_step=1.100, val_loss=0.642, train_loss_epoch=0.639]\n",
      "Epoch 4: 100%|██████████| 29/29 [00:11<00:00,  2.45it/s, v_num=3.41e+7, train_loss_step=1.100, val_loss=0.642, train_loss_epoch=0.622]\n",
      "Epoch 5:   0%|          | 0/29 [00:00<?, ?it/s, v_num=3.41e+7, train_loss_step=1.100, val_loss=0.642, train_loss_epoch=0.622]         \n",
      "\u001b[36m(RayTrainWorker pid=27866)\u001b[0m \n",
      "\u001b[36m(RayTrainWorker pid=27866)\u001b[0m \n",
      "Epoch 5:   7%|▋         | 2/29 [00:00<00:08,  3.09it/s, v_num=3.41e+7, train_loss_step=0.584, val_loss=0.642, train_loss_epoch=0.622]\u001b[32m [repeated 16x across cluster]\u001b[0m\n",
      "\u001b[36m(RayTrainWorker pid=27866)\u001b[0m \n",
      "\u001b[36m(RayTrainWorker pid=27866)\u001b[0m \n",
      "\u001b[36m(RayTrainWorker pid=27866)\u001b[0m \n",
      "\u001b[36m(RayTrainWorker pid=27866)\u001b[0m \n"
     ]
    },
    {
     "name": "stderr",
     "output_type": "stream",
     "text": [
      "2025-03-11 22:06:13,376\tWARNING experiment_state.py:206 -- Experiment state snapshotting has been triggered multiple times in the last 5.0 seconds and may become a bottleneck. A snapshot is forced if `CheckpointConfig(num_to_keep)` is set, and a trial has checkpointed >= `num_to_keep` times since the last snapshot.\n",
      "You may want to consider increasing the `CheckpointConfig(num_to_keep)` or decreasing the frequency of saving checkpoints.\n",
      "You can suppress this warning by setting the environment variable TUNE_WARN_EXCESSIVE_EXPERIMENT_CHECKPOINT_SYNC_THRESHOLD_S to a smaller value than the current threshold (5.0). Set it to 0 to completely suppress this warning.\n"
     ]
    },
    {
     "name": "stdout",
     "output_type": "stream",
     "text": [
      "Epoch 4: 100%|██████████| 29/29 [00:11<00:00,  2.50it/s, v_num=3.41e+7, train_loss_step=1.100, val_loss=0.731, train_loss_epoch=0.648]\u001b[32m [repeated 3x across cluster]\u001b[0m\n",
      "Validation: |          | 0/? [00:00<?, ?it/s]\u001b[A\n",
      "Validation:   0%|          | 0/6 [00:00<?, ?it/s]\u001b[A\n",
      "Validation DataLoader 0:   0%|          | 0/6 [00:00<?, ?it/s]\u001b[A\n",
      "Validation DataLoader 0:  83%|████████▎ | 5/6 [00:01<00:00,  3.16it/s]\u001b[A\u001b[32m [repeated 5x across cluster]\u001b[0m\n",
      "Validation DataLoader 0: 100%|██████████| 6/6 [00:01<00:00,  3.30it/s]\u001b[A\n",
      "Epoch 4: 100%|██████████| 29/29 [00:13<00:00,  2.15it/s, v_num=3.41e+7, train_loss_step=1.100, val_loss=0.640, train_loss_epoch=0.648]\n",
      "Epoch 4: 100%|██████████| 29/29 [00:13<00:00,  2.11it/s, v_num=3.41e+7, train_loss_step=1.100, val_loss=0.640, train_loss_epoch=0.622]\n",
      "Epoch 5:   0%|          | 0/29 [00:00<?, ?it/s, v_num=3.41e+7, train_loss_step=1.100, val_loss=0.640, train_loss_epoch=0.622]         \n",
      "Epoch 5:  31%|███       | 9/29 [00:03<00:08,  2.49it/s, v_num=3.41e+7, train_loss_step=0.622, val_loss=0.640, train_loss_epoch=0.622]\u001b[32m [repeated 24x across cluster]\u001b[0m\n",
      "Epoch 5:  93%|█████████▎| 27/29 [00:09<00:00,  2.91it/s, v_num=3.41e+7, train_loss_step=0.552, val_loss=0.642, train_loss_epoch=0.622]\n",
      "Epoch 5:  97%|█████████▋| 28/29 [00:09<00:00,  2.92it/s, v_num=3.41e+7, train_loss_step=0.592, val_loss=0.642, train_loss_epoch=0.622]\n",
      "Epoch 5: 100%|██████████| 29/29 [00:09<00:00,  2.99it/s, v_num=3.41e+7, train_loss_step=0.513, val_loss=0.642, train_loss_epoch=0.622]\n",
      "Validation: |          | 0/? [00:00<?, ?it/s]\u001b[A\n",
      "Validation:   0%|          | 0/6 [00:00<?, ?it/s]\u001b[A\n",
      "Validation DataLoader 0:   0%|          | 0/6 [00:00<?, ?it/s]\u001b[A\n",
      "\u001b[36m(RayTrainWorker pid=28099)\u001b[0m \n",
      "Validation DataLoader 0:  17%|█▋        | 1/6 [00:00<00:00,  5.62it/s]\u001b[A\n",
      "\u001b[36m(RayTrainWorker pid=28099)\u001b[0m \n",
      "Validation DataLoader 0:  33%|███▎      | 2/6 [00:00<00:00,  4.83it/s]\u001b[A\n",
      "\u001b[36m(RayTrainWorker pid=28099)\u001b[0m \n",
      "Validation DataLoader 0:  50%|█████     | 3/6 [00:00<00:00,  4.76it/s]\u001b[A\n",
      "\u001b[36m(RayTrainWorker pid=28099)\u001b[0m \n",
      "Validation DataLoader 0:  67%|██████▋   | 4/6 [00:00<00:00,  4.67it/s]\u001b[A\n",
      "\u001b[36m(RayTrainWorker pid=28099)\u001b[0m \n",
      "Validation DataLoader 0:  83%|████████▎ | 5/6 [00:01<00:00,  4.40it/s]\u001b[A\n",
      "Epoch 5:  76%|███████▌  | 22/29 [00:08<00:02,  2.56it/s, v_num=3.41e+7, train_loss_step=0.579, val_loss=0.640, train_loss_epoch=0.622]\u001b[32m [repeated 22x across cluster]\u001b[0m\n",
      "\u001b[36m(RayTrainWorker pid=28099)\u001b[0m \n",
      "Validation DataLoader 0: 100%|██████████| 6/6 [00:01<00:00,  4.46it/s]\u001b[A\n",
      "Epoch 5: 100%|██████████| 29/29 [00:11<00:00,  2.61it/s, v_num=3.41e+7, train_loss_step=0.513, val_loss=0.734, train_loss_epoch=0.622]\n",
      "Epoch 5: 100%|██████████| 29/29 [00:11<00:00,  2.56it/s, v_num=3.41e+7, train_loss_step=0.513, val_loss=0.734, train_loss_epoch=0.590]\n",
      "Epoch 6:   0%|          | 0/29 [00:00<?, ?it/s, v_num=3.41e+7, train_loss_step=0.513, val_loss=0.734, train_loss_epoch=0.590]         \n"
     ]
    },
    {
     "name": "stderr",
     "output_type": "stream",
     "text": [
      "\u001b[36m(RayTrainWorker pid=28099)\u001b[0m Checkpoint successfully created at: Checkpoint(filesystem=local, path=/ictstr01/home/aih/serra.korkmaz/projects/saturn/hopt/hpopt_5ht1b_chembl/ray_results/TorchTrainer_2025-03-11_22-04-38/2a0ae81e/checkpoint_000005)\u001b[32m [repeated 2x across cluster]\u001b[0m\n"
     ]
    },
    {
     "name": "stdout",
     "output_type": "stream",
     "text": [
      "\u001b[36m(RayTrainWorker pid=27866)\u001b[0m \n",
      "\u001b[36m(RayTrainWorker pid=27866)\u001b[0m \n",
      "\u001b[36m(RayTrainWorker pid=27866)\u001b[0m \n",
      "Epoch 5: 100%|██████████| 29/29 [00:10<00:00,  2.66it/s, v_num=3.41e+7, train_loss_step=0.420, val_loss=0.640, train_loss_epoch=0.622]\u001b[32m [repeated 3x across cluster]\u001b[0m\n",
      "\u001b[36m(RayTrainWorker pid=27866)\u001b[0m \n",
      "\u001b[36m(RayTrainWorker pid=27866)\u001b[0m \n",
      "Validation: |          | 0/? [00:00<?, ?it/s]\u001b[A\n",
      "Validation:   0%|          | 0/6 [00:00<?, ?it/s]\u001b[A\n",
      "Validation DataLoader 0:   0%|          | 0/6 [00:00<?, ?it/s]\u001b[A\n"
     ]
    },
    {
     "name": "stderr",
     "output_type": "stream",
     "text": [
      "2025-03-11 22:06:26,108\tWARNING experiment_state.py:206 -- Experiment state snapshotting has been triggered multiple times in the last 5.0 seconds and may become a bottleneck. A snapshot is forced if `CheckpointConfig(num_to_keep)` is set, and a trial has checkpointed >= `num_to_keep` times since the last snapshot.\n",
      "You may want to consider increasing the `CheckpointConfig(num_to_keep)` or decreasing the frequency of saving checkpoints.\n",
      "You can suppress this warning by setting the environment variable TUNE_WARN_EXCESSIVE_EXPERIMENT_CHECKPOINT_SYNC_THRESHOLD_S to a smaller value than the current threshold (5.0). Set it to 0 to completely suppress this warning.\n"
     ]
    },
    {
     "name": "stdout",
     "output_type": "stream",
     "text": [
      "\u001b[36m(RayTrainWorker pid=27866)\u001b[0m \n",
      "Validation DataLoader 0:  83%|████████▎ | 5/6 [00:01<00:00,  3.77it/s]\u001b[A\u001b[32m [repeated 5x across cluster]\u001b[0m\n",
      "Epoch 6:  48%|████▊     | 14/29 [00:04<00:05,  2.99it/s, v_num=3.41e+7, train_loss_step=0.570, val_loss=0.734, train_loss_epoch=0.590]\u001b[32m [repeated 19x across cluster]\u001b[0m\n",
      "Validation DataLoader 0: 100%|██████████| 6/6 [00:01<00:00,  3.99it/s]\u001b[A\n",
      "Epoch 5: 100%|██████████| 29/29 [00:12<00:00,  2.33it/s, v_num=3.41e+7, train_loss_step=0.420, val_loss=1.130, train_loss_epoch=0.622]\n",
      "Epoch 5: 100%|██████████| 29/29 [00:12<00:00,  2.29it/s, v_num=3.41e+7, train_loss_step=0.420, val_loss=1.130, train_loss_epoch=0.594]\n",
      "Epoch 6:   0%|          | 0/29 [00:00<?, ?it/s, v_num=3.41e+7, train_loss_step=0.420, val_loss=1.130, train_loss_epoch=0.594]         \n",
      "Epoch 6:  93%|█████████▎| 27/29 [00:09<00:00,  2.91it/s, v_num=3.41e+7, train_loss_step=0.491, val_loss=0.734, train_loss_epoch=0.590]\n",
      "Epoch 6:  97%|█████████▋| 28/29 [00:09<00:00,  2.90it/s, v_num=3.41e+7, train_loss_step=0.528, val_loss=0.734, train_loss_epoch=0.590]\n",
      "Epoch 6:  45%|████▍     | 13/29 [00:05<00:06,  2.37it/s, v_num=3.41e+7, train_loss_step=0.478, val_loss=1.130, train_loss_epoch=0.594]\u001b[32m [repeated 24x across cluster]\u001b[0m\n",
      "Epoch 6: 100%|██████████| 29/29 [00:09<00:00,  2.97it/s, v_num=3.41e+7, train_loss_step=0.452, val_loss=0.734, train_loss_epoch=0.590]\n",
      "Validation: |          | 0/? [00:00<?, ?it/s]\u001b[A\n",
      "Validation:   0%|          | 0/6 [00:00<?, ?it/s]\u001b[A\n",
      "Validation DataLoader 0:   0%|          | 0/6 [00:00<?, ?it/s]\u001b[A\n",
      "\u001b[36m(RayTrainWorker pid=28099)\u001b[0m \n",
      "Validation DataLoader 0:  17%|█▋        | 1/6 [00:00<00:00,  6.24it/s]\u001b[A\n",
      "\u001b[36m(RayTrainWorker pid=28099)\u001b[0m \n",
      "Validation DataLoader 0:  33%|███▎      | 2/6 [00:00<00:00,  5.11it/s]\u001b[A\n",
      "\u001b[36m(RayTrainWorker pid=28099)\u001b[0m \n",
      "Validation DataLoader 0:  50%|█████     | 3/6 [00:00<00:00,  4.76it/s]\u001b[A\n",
      "\u001b[36m(RayTrainWorker pid=28099)\u001b[0m \n",
      "Validation DataLoader 0:  67%|██████▋   | 4/6 [00:00<00:00,  4.51it/s]\u001b[A\n",
      "\u001b[36m(RayTrainWorker pid=28099)\u001b[0m \n",
      "Validation DataLoader 0:  83%|████████▎ | 5/6 [00:01<00:00,  4.30it/s]\u001b[A\n",
      "\u001b[36m(RayTrainWorker pid=28099)\u001b[0m \n",
      "Validation DataLoader 0: 100%|██████████| 6/6 [00:01<00:00,  4.57it/s]\u001b[A\n",
      "Epoch 6: 100%|██████████| 29/29 [00:11<00:00,  2.60it/s, v_num=3.41e+7, train_loss_step=0.452, val_loss=0.584, train_loss_epoch=0.590]\n"
     ]
    },
    {
     "name": "stderr",
     "output_type": "stream",
     "text": [
      "\u001b[36m(RayTrainWorker pid=28099)\u001b[0m Checkpoint successfully created at: Checkpoint(filesystem=local, path=/ictstr01/home/aih/serra.korkmaz/projects/saturn/hopt/hpopt_5ht1b_chembl/ray_results/TorchTrainer_2025-03-11_22-04-38/2a0ae81e/checkpoint_000006)\u001b[32m [repeated 2x across cluster]\u001b[0m\n"
     ]
    },
    {
     "name": "stdout",
     "output_type": "stream",
     "text": [
      "Epoch 6: 100%|██████████| 29/29 [00:11<00:00,  2.55it/s, v_num=3.41e+7, train_loss_step=0.452, val_loss=0.584, train_loss_epoch=0.550]\n",
      "Epoch 7:   0%|          | 0/29 [00:00<?, ?it/s, v_num=3.41e+7, train_loss_step=0.452, val_loss=0.584, train_loss_epoch=0.550]         \n",
      "Epoch 6:  93%|█████████▎| 27/29 [00:10<00:00,  2.50it/s, v_num=3.41e+7, train_loss_step=0.493, val_loss=1.130, train_loss_epoch=0.594]\n",
      "Epoch 7:  34%|███▍      | 10/29 [00:03<00:06,  3.11it/s, v_num=3.41e+7, train_loss_step=0.577, val_loss=0.584, train_loss_epoch=0.550]\u001b[32m [repeated 23x across cluster]\u001b[0m\n",
      "Epoch 6: 100%|██████████| 29/29 [00:11<00:00,  2.57it/s, v_num=3.41e+7, train_loss_step=0.457, val_loss=1.130, train_loss_epoch=0.594]\n",
      "Validation: |          | 0/? [00:00<?, ?it/s]\u001b[A\n",
      "\u001b[36m(RayTrainWorker pid=27866)\u001b[0m \n",
      "Validation:   0%|          | 0/6 [00:00<?, ?it/s]\u001b[A\n",
      "Validation DataLoader 0:   0%|          | 0/6 [00:00<?, ?it/s]\u001b[A\n",
      "\u001b[36m(RayTrainWorker pid=27866)\u001b[0m \n",
      "Validation DataLoader 0:  17%|█▋        | 1/6 [00:00<00:01,  3.49it/s]\u001b[A\n",
      "\u001b[36m(RayTrainWorker pid=27866)\u001b[0m \n",
      "Validation DataLoader 0:  33%|███▎      | 2/6 [00:00<00:01,  3.05it/s]\u001b[A\n",
      "\u001b[36m(RayTrainWorker pid=27866)\u001b[0m \n",
      "Validation DataLoader 0:  50%|█████     | 3/6 [00:01<00:01,  2.99it/s]\u001b[A\n",
      "\u001b[36m(RayTrainWorker pid=27866)\u001b[0m \n",
      "Validation DataLoader 0:  67%|██████▋   | 4/6 [00:01<00:00,  2.97it/s]\u001b[A\n",
      "\u001b[36m(RayTrainWorker pid=27866)\u001b[0m \n",
      "Validation DataLoader 0:  83%|████████▎ | 5/6 [00:01<00:00,  2.92it/s]\u001b[A\n",
      "\u001b[36m(RayTrainWorker pid=27866)\u001b[0m \n",
      "Validation DataLoader 0: 100%|██████████| 6/6 [00:01<00:00,  3.10it/s]\u001b[A\n",
      "Epoch 6: 100%|██████████| 29/29 [00:13<00:00,  2.19it/s, v_num=3.41e+7, train_loss_step=0.457, val_loss=0.652, train_loss_epoch=0.594]\n",
      "Epoch 6: 100%|██████████| 29/29 [00:13<00:00,  2.15it/s, v_num=3.41e+7, train_loss_step=0.457, val_loss=0.652, train_loss_epoch=0.546]\n",
      "Epoch 7:   0%|          | 0/29 [00:00<?, ?it/s, v_num=3.41e+7, train_loss_step=0.457, val_loss=0.652, train_loss_epoch=0.546]         \n"
     ]
    },
    {
     "name": "stderr",
     "output_type": "stream",
     "text": [
      "\u001b[36m(RayTrainWorker pid=27866)\u001b[0m Checkpoint successfully created at: Checkpoint(filesystem=local, path=/ictstr01/home/aih/serra.korkmaz/projects/saturn/hopt/hpopt_5ht1b_chembl/ray_results/TorchTrainer_2025-03-11_22-04-38/1951b44b/checkpoint_000006)\n"
     ]
    },
    {
     "name": "stdout",
     "output_type": "stream",
     "text": [
      "Epoch 7:  21%|██        | 6/29 [00:02<00:08,  2.57it/s, v_num=3.41e+7, train_loss_step=0.479, val_loss=0.652, train_loss_epoch=0.546]\u001b[32m [repeated 20x across cluster]\u001b[0m\n",
      "Epoch 7:  93%|█████████▎| 27/29 [00:09<00:00,  2.94it/s, v_num=3.41e+7, train_loss_step=0.563, val_loss=0.584, train_loss_epoch=0.550]\n",
      "Epoch 7:  97%|█████████▋| 28/29 [00:09<00:00,  2.93it/s, v_num=3.41e+7, train_loss_step=0.711, val_loss=0.584, train_loss_epoch=0.550]\n",
      "Epoch 7: 100%|██████████| 29/29 [00:09<00:00,  3.00it/s, v_num=3.41e+7, train_loss_step=0.496, val_loss=0.584, train_loss_epoch=0.550]\n",
      "Validation: |          | 0/? [00:00<?, ?it/s]\u001b[A\n",
      "\u001b[36m(RayTrainWorker pid=28099)\u001b[0m \n",
      "Validation:   0%|          | 0/6 [00:00<?, ?it/s]\u001b[A\n",
      "Validation DataLoader 0:   0%|          | 0/6 [00:00<?, ?it/s]\u001b[A\n",
      "\u001b[36m(RayTrainWorker pid=28099)\u001b[0m \n",
      "Validation DataLoader 0:  17%|█▋        | 1/6 [00:00<00:00,  5.14it/s]\u001b[A\n",
      "\u001b[36m(RayTrainWorker pid=28099)\u001b[0m \n",
      "Validation DataLoader 0:  33%|███▎      | 2/6 [00:00<00:00,  4.55it/s]\u001b[A\n",
      "\u001b[36m(RayTrainWorker pid=28099)\u001b[0m \n",
      "Validation DataLoader 0:  50%|█████     | 3/6 [00:00<00:00,  4.06it/s]\u001b[A\n",
      "\u001b[36m(RayTrainWorker pid=28099)\u001b[0m \n",
      "Validation DataLoader 0:  67%|██████▋   | 4/6 [00:00<00:00,  4.10it/s]\u001b[A\n",
      "\u001b[36m(RayTrainWorker pid=28099)\u001b[0m \n",
      "Validation DataLoader 0:  83%|████████▎ | 5/6 [00:01<00:00,  4.12it/s]\u001b[A\n",
      "\u001b[36m(RayTrainWorker pid=28099)\u001b[0m \n",
      "Validation DataLoader 0: 100%|██████████| 6/6 [00:01<00:00,  4.26it/s]\u001b[A\n",
      "Epoch 7: 100%|██████████| 29/29 [00:11<00:00,  2.60it/s, v_num=3.41e+7, train_loss_step=0.496, val_loss=0.708, train_loss_epoch=0.550]\n",
      "Epoch 7: 100%|██████████| 29/29 [00:11<00:00,  2.55it/s, v_num=3.41e+7, train_loss_step=0.496, val_loss=0.708, train_loss_epoch=0.544]\n",
      "Epoch 8:   0%|          | 0/29 [00:00<?, ?it/s, v_num=3.41e+7, train_loss_step=0.496, val_loss=0.708, train_loss_epoch=0.544]         \n"
     ]
    },
    {
     "name": "stderr",
     "output_type": "stream",
     "text": [
      "\u001b[36m(RayTrainWorker pid=28099)\u001b[0m Checkpoint successfully created at: Checkpoint(filesystem=local, path=/ictstr01/home/aih/serra.korkmaz/projects/saturn/hopt/hpopt_5ht1b_chembl/ray_results/TorchTrainer_2025-03-11_22-04-38/2a0ae81e/checkpoint_000007)\n"
     ]
    },
    {
     "name": "stdout",
     "output_type": "stream",
     "text": [
      "Epoch 7:  62%|██████▏   | 18/29 [00:07<00:04,  2.47it/s, v_num=3.41e+7, train_loss_step=0.619, val_loss=0.652, train_loss_epoch=0.546]\u001b[32m [repeated 19x across cluster]\u001b[0m\n",
      "Epoch 7:  93%|█████████▎| 27/29 [00:11<00:00,  2.41it/s, v_num=3.41e+7, train_loss_step=0.558, val_loss=0.652, train_loss_epoch=0.546]\n",
      "Epoch 7:  97%|█████████▋| 28/29 [00:11<00:00,  2.40it/s, v_num=3.41e+7, train_loss_step=0.684, val_loss=0.652, train_loss_epoch=0.546]\n",
      "Epoch 7: 100%|██████████| 29/29 [00:11<00:00,  2.47it/s, v_num=3.41e+7, train_loss_step=0.521, val_loss=0.652, train_loss_epoch=0.546]\n",
      "Validation: |          | 0/? [00:00<?, ?it/s]\u001b[A\n",
      "Validation:   0%|          | 0/6 [00:00<?, ?it/s]\u001b[A\n",
      "Validation DataLoader 0:   0%|          | 0/6 [00:00<?, ?it/s]\u001b[A\n",
      "\u001b[36m(RayTrainWorker pid=27866)\u001b[0m \n",
      "Validation DataLoader 0:  17%|█▋        | 1/6 [00:00<00:01,  3.98it/s]\u001b[A\n",
      "\u001b[36m(RayTrainWorker pid=27866)\u001b[0m \n",
      "Validation DataLoader 0:  33%|███▎      | 2/6 [00:00<00:01,  3.67it/s]\u001b[A\n",
      "\u001b[36m(RayTrainWorker pid=27866)\u001b[0m \n",
      "Validation DataLoader 0:  50%|█████     | 3/6 [00:00<00:00,  3.70it/s]\u001b[A\n",
      "Epoch 8:  66%|██████▌   | 19/29 [00:06<00:03,  2.82it/s, v_num=3.41e+7, train_loss_step=0.454, val_loss=0.708, train_loss_epoch=0.544]\u001b[32m [repeated 22x across cluster]\u001b[0m\n",
      "\u001b[36m(RayTrainWorker pid=27866)\u001b[0m \n",
      "Validation DataLoader 0:  67%|██████▋   | 4/6 [00:01<00:00,  3.74it/s]\u001b[A\n",
      "\u001b[36m(RayTrainWorker pid=27866)\u001b[0m \n",
      "Validation DataLoader 0:  83%|████████▎ | 5/6 [00:01<00:00,  3.70it/s]\u001b[A\n",
      "\u001b[36m(RayTrainWorker pid=27866)\u001b[0m \n",
      "Validation DataLoader 0: 100%|██████████| 6/6 [00:01<00:00,  3.88it/s]\u001b[A\n",
      "Epoch 7: 100%|██████████| 29/29 [00:13<00:00,  2.17it/s, v_num=3.41e+7, train_loss_step=0.521, val_loss=0.659, train_loss_epoch=0.546]\n",
      "Epoch 7: 100%|██████████| 29/29 [00:13<00:00,  2.14it/s, v_num=3.41e+7, train_loss_step=0.521, val_loss=0.659, train_loss_epoch=0.553]\n",
      "Epoch 8:   0%|          | 0/29 [00:00<?, ?it/s, v_num=3.41e+7, train_loss_step=0.521, val_loss=0.659, train_loss_epoch=0.553]         \n"
     ]
    },
    {
     "name": "stderr",
     "output_type": "stream",
     "text": [
      "\u001b[36m(RayTrainWorker pid=27866)\u001b[0m Checkpoint successfully created at: Checkpoint(filesystem=local, path=/ictstr01/home/aih/serra.korkmaz/projects/saturn/hopt/hpopt_5ht1b_chembl/ray_results/TorchTrainer_2025-03-11_22-04-38/1951b44b/checkpoint_000007)\n"
     ]
    },
    {
     "name": "stdout",
     "output_type": "stream",
     "text": [
      "\u001b[36m(RayTrainWorker pid=28099)\u001b[0m \n",
      "\u001b[36m(RayTrainWorker pid=28099)\u001b[0m \n",
      "\u001b[36m(RayTrainWorker pid=28099)\u001b[0m \n",
      "Epoch 8: 100%|██████████| 29/29 [00:09<00:00,  2.98it/s, v_num=3.41e+7, train_loss_step=0.909, val_loss=0.708, train_loss_epoch=0.544]\u001b[32m [repeated 3x across cluster]\u001b[0m\n",
      "\u001b[36m(RayTrainWorker pid=28099)\u001b[0m \n",
      "\u001b[36m(RayTrainWorker pid=28099)\u001b[0m \n"
     ]
    },
    {
     "name": "stderr",
     "output_type": "stream",
     "text": [
      "\u001b[36m(RayTrainWorker pid=28099)\u001b[0m Checkpoint successfully created at: Checkpoint(filesystem=local, path=/ictstr01/home/aih/serra.korkmaz/projects/saturn/hopt/hpopt_5ht1b_chembl/ray_results/TorchTrainer_2025-03-11_22-04-38/2a0ae81e/checkpoint_000008)\n",
      "2025-03-11 22:06:56,651\tWARNING experiment_state.py:206 -- Experiment state snapshotting has been triggered multiple times in the last 5.0 seconds and may become a bottleneck. A snapshot is forced if `CheckpointConfig(num_to_keep)` is set, and a trial has checkpointed >= `num_to_keep` times since the last snapshot.\n",
      "You may want to consider increasing the `CheckpointConfig(num_to_keep)` or decreasing the frequency of saving checkpoints.\n",
      "You can suppress this warning by setting the environment variable TUNE_WARN_EXCESSIVE_EXPERIMENT_CHECKPOINT_SYNC_THRESHOLD_S to a smaller value than the current threshold (5.0). Set it to 0 to completely suppress this warning.\n"
     ]
    },
    {
     "name": "stdout",
     "output_type": "stream",
     "text": [
      "\u001b[36m(RayTrainWorker pid=28099)\u001b[0m \n",
      "Validation: |          | 0/? [00:00<?, ?it/s]\u001b[A\n",
      "Validation:   0%|          | 0/6 [00:00<?, ?it/s]\u001b[A\n",
      "Validation DataLoader 0:   0%|          | 0/6 [00:00<?, ?it/s]\u001b[A\n",
      "Validation DataLoader 0:  83%|████████▎ | 5/6 [00:01<00:00,  4.55it/s]\u001b[A\u001b[32m [repeated 5x across cluster]\u001b[0m\n",
      "Epoch 8:  38%|███▊      | 11/29 [00:03<00:06,  2.75it/s, v_num=3.41e+7, train_loss_step=0.525, val_loss=0.659, train_loss_epoch=0.553]\u001b[32m [repeated 20x across cluster]\u001b[0m\n",
      "Validation DataLoader 0: 100%|██████████| 6/6 [00:01<00:00,  4.81it/s]\u001b[A\n",
      "Epoch 8: 100%|██████████| 29/29 [00:11<00:00,  2.63it/s, v_num=3.41e+7, train_loss_step=0.909, val_loss=0.571, train_loss_epoch=0.544]\n",
      "Epoch 8: 100%|██████████| 29/29 [00:11<00:00,  2.59it/s, v_num=3.41e+7, train_loss_step=0.909, val_loss=0.571, train_loss_epoch=0.528]\n",
      "Epoch 9:   0%|          | 0/29 [00:00<?, ?it/s, v_num=3.41e+7, train_loss_step=0.909, val_loss=0.571, train_loss_epoch=0.528]         \n",
      "Epoch 8:  86%|████████▌ | 25/29 [00:09<00:01,  2.71it/s, v_num=3.41e+7, train_loss_step=0.647, val_loss=0.659, train_loss_epoch=0.553]\u001b[32m [repeated 30x across cluster]\u001b[0m\n",
      "Epoch 8:  93%|█████████▎| 27/29 [00:10<00:00,  2.69it/s, v_num=3.41e+7, train_loss_step=0.491, val_loss=0.659, train_loss_epoch=0.553]\n",
      "Epoch 8:  97%|█████████▋| 28/29 [00:10<00:00,  2.68it/s, v_num=3.41e+7, train_loss_step=0.563, val_loss=0.659, train_loss_epoch=0.553]\n",
      "Epoch 8: 100%|██████████| 29/29 [00:10<00:00,  2.75it/s, v_num=3.41e+7, train_loss_step=0.975, val_loss=0.659, train_loss_epoch=0.553]\n",
      "Validation: |          | 0/? [00:00<?, ?it/s]\u001b[A\n",
      "\u001b[36m(RayTrainWorker pid=27866)\u001b[0m \n",
      "Validation:   0%|          | 0/6 [00:00<?, ?it/s]\u001b[A\n",
      "Validation DataLoader 0:   0%|          | 0/6 [00:00<?, ?it/s]\u001b[A\n",
      "\u001b[36m(RayTrainWorker pid=27866)\u001b[0m \n",
      "Validation DataLoader 0:  17%|█▋        | 1/6 [00:00<00:01,  4.75it/s]\u001b[A\n",
      "\u001b[36m(RayTrainWorker pid=27866)\u001b[0m \n",
      "Validation DataLoader 0:  33%|███▎      | 2/6 [00:00<00:00,  4.10it/s]\u001b[A\n",
      "\u001b[36m(RayTrainWorker pid=27866)\u001b[0m \n",
      "Validation DataLoader 0:  50%|█████     | 3/6 [00:00<00:00,  3.62it/s]\u001b[A\n",
      "\u001b[36m(RayTrainWorker pid=27866)\u001b[0m \n",
      "Validation DataLoader 0:  67%|██████▋   | 4/6 [00:01<00:00,  3.42it/s]\u001b[A\n",
      "\u001b[36m(RayTrainWorker pid=27866)\u001b[0m \n",
      "Validation DataLoader 0:  83%|████████▎ | 5/6 [00:01<00:00,  3.26it/s]\u001b[A\n",
      "\u001b[36m(RayTrainWorker pid=27866)\u001b[0m \n",
      "Validation DataLoader 0: 100%|██████████| 6/6 [00:01<00:00,  3.51it/s]\u001b[A\n",
      "Epoch 8: 100%|██████████| 29/29 [00:12<00:00,  2.36it/s, v_num=3.41e+7, train_loss_step=0.975, val_loss=0.554, train_loss_epoch=0.553]\n"
     ]
    },
    {
     "name": "stderr",
     "output_type": "stream",
     "text": [
      "\u001b[36m(RayTrainWorker pid=27866)\u001b[0m Checkpoint successfully created at: Checkpoint(filesystem=local, path=/ictstr01/home/aih/serra.korkmaz/projects/saturn/hopt/hpopt_5ht1b_chembl/ray_results/TorchTrainer_2025-03-11_22-04-38/1951b44b/checkpoint_000008)\n"
     ]
    },
    {
     "name": "stdout",
     "output_type": "stream",
     "text": [
      "Epoch 8: 100%|██████████| 29/29 [00:12<00:00,  2.32it/s, v_num=3.41e+7, train_loss_step=0.975, val_loss=0.554, train_loss_epoch=0.534]\n",
      "Epoch 9:   0%|          | 0/29 [00:00<?, ?it/s, v_num=3.41e+7, train_loss_step=0.975, val_loss=0.554, train_loss_epoch=0.534]         \n",
      "\u001b[36m(RayTrainWorker pid=28099)\u001b[0m \n",
      "\u001b[36m(RayTrainWorker pid=28099)\u001b[0m \n",
      "\u001b[36m(RayTrainWorker pid=28099)\u001b[0m \n",
      "\u001b[36m(RayTrainWorker pid=28099)\u001b[0m \n",
      "\u001b[36m(RayTrainWorker pid=28099)\u001b[0m \n",
      "\u001b[36m(RayTrainWorker pid=28099)\u001b[0m \n",
      "Epoch 9:  10%|█         | 3/29 [00:01<00:11,  2.29it/s, v_num=3.41e+7, train_loss_step=0.533, val_loss=0.554, train_loss_epoch=0.534]\u001b[32m [repeated 12x across cluster]\u001b[0m\n"
     ]
    },
    {
     "name": "stderr",
     "output_type": "stream",
     "text": [
      "2025-03-11 22:07:08,107\tWARNING experiment_state.py:206 -- Experiment state snapshotting has been triggered multiple times in the last 5.0 seconds and may become a bottleneck. A snapshot is forced if `CheckpointConfig(num_to_keep)` is set, and a trial has checkpointed >= `num_to_keep` times since the last snapshot.\n",
      "You may want to consider increasing the `CheckpointConfig(num_to_keep)` or decreasing the frequency of saving checkpoints.\n",
      "You can suppress this warning by setting the environment variable TUNE_WARN_EXCESSIVE_EXPERIMENT_CHECKPOINT_SYNC_THRESHOLD_S to a smaller value than the current threshold (5.0). Set it to 0 to completely suppress this warning.\n",
      "\u001b[36m(RayTrainWorker pid=28099)\u001b[0m Checkpoint successfully created at: Checkpoint(filesystem=local, path=/ictstr01/home/aih/serra.korkmaz/projects/saturn/hopt/hpopt_5ht1b_chembl/ray_results/TorchTrainer_2025-03-11_22-04-38/2a0ae81e/checkpoint_000009)\n"
     ]
    },
    {
     "name": "stdout",
     "output_type": "stream",
     "text": [
      "Epoch 9: 100%|██████████| 29/29 [00:09<00:00,  3.09it/s, v_num=3.41e+7, train_loss_step=0.535, val_loss=0.571, train_loss_epoch=0.528]\u001b[32m [repeated 3x across cluster]\u001b[0m\n",
      "Validation: |          | 0/? [00:00<?, ?it/s]\u001b[A\n",
      "Validation:   0%|          | 0/6 [00:00<?, ?it/s]\u001b[A\n",
      "Validation DataLoader 0:   0%|          | 0/6 [00:00<?, ?it/s]\u001b[A\n",
      "Validation DataLoader 0:  83%|████████▎ | 5/6 [00:01<00:00,  3.60it/s]\u001b[A\u001b[32m [repeated 5x across cluster]\u001b[0m\n",
      "Validation DataLoader 0: 100%|██████████| 6/6 [00:01<00:00,  3.79it/s]\u001b[A\n",
      "Epoch 9: 100%|██████████| 29/29 [00:11<00:00,  2.63it/s, v_num=3.41e+7, train_loss_step=0.535, val_loss=0.868, train_loss_epoch=0.528]\n",
      "Epoch 9: 100%|██████████| 29/29 [00:11<00:00,  2.55it/s, v_num=3.41e+7, train_loss_step=0.535, val_loss=0.868, train_loss_epoch=0.521]\n",
      "Epoch 10:   0%|          | 0/29 [00:00<?, ?it/s, v_num=3.41e+7, train_loss_step=0.535, val_loss=0.868, train_loss_epoch=0.521]        \n",
      "Epoch 10:  48%|████▊     | 14/29 [00:04<00:04,  3.02it/s, v_num=3.41e+7, train_loss_step=0.499, val_loss=0.868, train_loss_epoch=0.521]\u001b[32m [repeated 28x across cluster]\u001b[0m\n",
      "Epoch 9:  93%|█████████▎| 27/29 [00:10<00:00,  2.51it/s, v_num=3.41e+7, train_loss_step=0.556, val_loss=0.554, train_loss_epoch=0.534]\n",
      "Epoch 9:  97%|█████████▋| 28/29 [00:11<00:00,  2.50it/s, v_num=3.41e+7, train_loss_step=0.497, val_loss=0.554, train_loss_epoch=0.534]\n",
      "Epoch 9: 100%|██████████| 29/29 [00:11<00:00,  2.56it/s, v_num=3.41e+7, train_loss_step=0.463, val_loss=0.554, train_loss_epoch=0.534]\n",
      "Validation: |          | 0/? [00:00<?, ?it/s]\u001b[A\n",
      "\u001b[36m(RayTrainWorker pid=27866)\u001b[0m \n",
      "Validation:   0%|          | 0/6 [00:00<?, ?it/s]\u001b[A\n",
      "Validation DataLoader 0:   0%|          | 0/6 [00:00<?, ?it/s]\u001b[A\n",
      "\u001b[36m(RayTrainWorker pid=27866)\u001b[0m \n",
      "Validation DataLoader 0:  17%|█▋        | 1/6 [00:00<00:01,  3.62it/s]\u001b[A\n",
      "Epoch 10:  90%|████████▉ | 26/29 [00:08<00:01,  2.90it/s, v_num=3.41e+7, train_loss_step=0.490, val_loss=0.868, train_loss_epoch=0.521]\u001b[32m [repeated 21x across cluster]\u001b[0m\n",
      "\u001b[36m(RayTrainWorker pid=28099)\u001b[0m \n",
      "\u001b[36m(RayTrainWorker pid=27866)\u001b[0m \n",
      "Validation DataLoader 0:  33%|███▎      | 2/6 [00:00<00:01,  3.15it/s]\u001b[A\n",
      "\u001b[36m(RayTrainWorker pid=28099)\u001b[0m \n",
      "\u001b[36m(RayTrainWorker pid=27866)\u001b[0m \n",
      "\u001b[36m(RayTrainWorker pid=28099)\u001b[0m \n",
      "\u001b[36m(RayTrainWorker pid=27866)\u001b[0m \n",
      "\u001b[36m(RayTrainWorker pid=28099)\u001b[0m \n",
      "\u001b[36m(RayTrainWorker pid=27866)\u001b[0m \n",
      "\u001b[36m(RayTrainWorker pid=28099)\u001b[0m \n"
     ]
    },
    {
     "name": "stderr",
     "output_type": "stream",
     "text": [
      "\u001b[36m(RayTrainWorker pid=27866)\u001b[0m Checkpoint successfully created at: Checkpoint(filesystem=local, path=/ictstr01/home/aih/serra.korkmaz/projects/saturn/hopt/hpopt_5ht1b_chembl/ray_results/TorchTrainer_2025-03-11_22-04-38/1951b44b/checkpoint_000009)\n",
      "2025-03-11 22:07:19,685\tWARNING experiment_state.py:206 -- Experiment state snapshotting has been triggered multiple times in the last 5.0 seconds and may become a bottleneck. A snapshot is forced if `CheckpointConfig(num_to_keep)` is set, and a trial has checkpointed >= `num_to_keep` times since the last snapshot.\n",
      "You may want to consider increasing the `CheckpointConfig(num_to_keep)` or decreasing the frequency of saving checkpoints.\n",
      "You can suppress this warning by setting the environment variable TUNE_WARN_EXCESSIVE_EXPERIMENT_CHECKPOINT_SYNC_THRESHOLD_S to a smaller value than the current threshold (5.0). Set it to 0 to completely suppress this warning.\n"
     ]
    },
    {
     "name": "stdout",
     "output_type": "stream",
     "text": [
      "\u001b[36m(RayTrainWorker pid=27866)\u001b[0m \n",
      "Validation DataLoader 0: 100%|██████████| 6/6 [00:01<00:00,  3.20it/s]\u001b[A\n",
      "Epoch 9: 100%|██████████| 29/29 [00:13<00:00,  2.18it/s, v_num=3.41e+7, train_loss_step=0.463, val_loss=1.290, train_loss_epoch=0.534]\n",
      "\u001b[36m(RayTrainWorker pid=28099)\u001b[0m \n",
      "\u001b[36m(RayTrainWorker pid=28099)\u001b[0m \n",
      "Epoch 9: 100%|██████████| 29/29 [00:13<00:00,  2.15it/s, v_num=3.41e+7, train_loss_step=0.463, val_loss=1.290, train_loss_epoch=0.525]\n"
     ]
    },
    {
     "name": "stderr",
     "output_type": "stream",
     "text": [
      "\u001b[36m(RayTrainWorker pid=28099)\u001b[0m Checkpoint successfully created at: Checkpoint(filesystem=local, path=/ictstr01/home/aih/serra.korkmaz/projects/saturn/hopt/hpopt_5ht1b_chembl/ray_results/TorchTrainer_2025-03-11_22-04-38/2a0ae81e/checkpoint_000010)\n",
      "2025-03-11 22:07:19,907\tWARNING experiment_state.py:206 -- Experiment state snapshotting has been triggered multiple times in the last 5.0 seconds and may become a bottleneck. A snapshot is forced if `CheckpointConfig(num_to_keep)` is set, and a trial has checkpointed >= `num_to_keep` times since the last snapshot.\n",
      "You may want to consider increasing the `CheckpointConfig(num_to_keep)` or decreasing the frequency of saving checkpoints.\n",
      "You can suppress this warning by setting the environment variable TUNE_WARN_EXCESSIVE_EXPERIMENT_CHECKPOINT_SYNC_THRESHOLD_S to a smaller value than the current threshold (5.0). Set it to 0 to completely suppress this warning.\n"
     ]
    },
    {
     "name": "stdout",
     "output_type": "stream",
     "text": [
      "Epoch 10:   0%|          | 0/29 [00:00<?, ?it/s, v_num=3.41e+7, train_loss_step=0.463, val_loss=1.290, train_loss_epoch=0.525]        \n",
      "Epoch 10: 100%|██████████| 29/29 [00:09<00:00,  2.95it/s, v_num=3.41e+7, train_loss_step=0.705, val_loss=0.868, train_loss_epoch=0.521]\u001b[32m [repeated 3x across cluster]\u001b[0m\n",
      "Validation: |          | 0/? [00:00<?, ?it/s]\u001b[A\n",
      "Validation:   0%|          | 0/6 [00:00<?, ?it/s]\u001b[A\n",
      "Validation DataLoader 0:   0%|          | 0/6 [00:00<?, ?it/s]\u001b[A\n",
      "Validation DataLoader 0:  83%|████████▎ | 5/6 [00:01<00:00,  3.74it/s]\u001b[A\u001b[32m [repeated 8x across cluster]\u001b[0m\n",
      "Epoch 10:  28%|██▊       | 8/29 [00:03<00:08,  2.36it/s, v_num=3.41e+7, train_loss_step=0.468, val_loss=1.290, train_loss_epoch=0.525]\n",
      "Epoch 11:  28%|██▊       | 8/29 [00:02<00:07,  2.74it/s, v_num=3.41e+7, train_loss_step=0.447, val_loss=0.488, train_loss_epoch=0.497]\u001b[32m [repeated 15x across cluster]\u001b[0m\n",
      "Epoch 10:  28%|██▊       | 8/29 [00:03<00:08,  2.36it/s, v_num=3.41e+7, train_loss_step=0.568, val_loss=1.290, train_loss_epoch=0.525]\n",
      "Validation DataLoader 0: 100%|██████████| 6/6 [00:01<00:00,  3.93it/s]\u001b[A\n",
      "Epoch 10: 100%|██████████| 29/29 [00:11<00:00,  2.54it/s, v_num=3.41e+7, train_loss_step=0.705, val_loss=0.488, train_loss_epoch=0.521]\n",
      "Epoch 10: 100%|██████████| 29/29 [00:11<00:00,  2.50it/s, v_num=3.41e+7, train_loss_step=0.705, val_loss=0.488, train_loss_epoch=0.497]\n",
      "Epoch 11:   0%|          | 0/29 [00:00<?, ?it/s, v_num=3.41e+7, train_loss_step=0.705, val_loss=0.488, train_loss_epoch=0.497]         \n",
      "Epoch 10:  72%|███████▏  | 21/29 [00:08<00:03,  2.43it/s, v_num=3.41e+7, train_loss_step=0.483, val_loss=1.290, train_loss_epoch=0.525]\u001b[32m [repeated 28x across cluster]\u001b[0m\n",
      "Epoch 11:  93%|█████████▎| 27/29 [00:09<00:00,  2.84it/s, v_num=3.41e+7, train_loss_step=0.565, val_loss=0.488, train_loss_epoch=0.497]\n",
      "Epoch 11:  97%|█████████▋| 28/29 [00:09<00:00,  2.85it/s, v_num=3.41e+7, train_loss_step=0.567, val_loss=0.488, train_loss_epoch=0.497]\n",
      "Epoch 11: 100%|██████████| 29/29 [00:09<00:00,  2.92it/s, v_num=3.41e+7, train_loss_step=0.612, val_loss=0.488, train_loss_epoch=0.497]\n",
      "Validation: |          | 0/? [00:00<?, ?it/s]\u001b[A\n",
      "\u001b[36m(RayTrainWorker pid=28099)\u001b[0m \n",
      "Validation:   0%|          | 0/6 [00:00<?, ?it/s]\u001b[A\n",
      "Validation DataLoader 0:   0%|          | 0/6 [00:00<?, ?it/s]\u001b[A\n",
      "\u001b[36m(RayTrainWorker pid=28099)\u001b[0m \n",
      "Validation DataLoader 0:  17%|█▋        | 1/6 [00:00<00:01,  4.37it/s]\u001b[A\n",
      "\u001b[36m(RayTrainWorker pid=28099)\u001b[0m \n",
      "Validation DataLoader 0:  33%|███▎      | 2/6 [00:00<00:01,  3.82it/s]\u001b[A\n",
      "\u001b[36m(RayTrainWorker pid=28099)\u001b[0m \n",
      "Validation DataLoader 0:  50%|█████     | 3/6 [00:00<00:00,  3.70it/s]\u001b[A\n",
      "\u001b[36m(RayTrainWorker pid=28099)\u001b[0m \n",
      "Validation DataLoader 0:  67%|██████▋   | 4/6 [00:01<00:00,  3.66it/s]\u001b[A\n",
      "\u001b[36m(RayTrainWorker pid=28099)\u001b[0m \n",
      "Validation DataLoader 0:  83%|████████▎ | 5/6 [00:01<00:00,  3.58it/s]\u001b[A\n",
      "\u001b[36m(RayTrainWorker pid=27866)\u001b[0m \n"
     ]
    },
    {
     "name": "stderr",
     "output_type": "stream",
     "text": [
      "2025-03-11 22:07:31,836\tWARNING experiment_state.py:206 -- Experiment state snapshotting has been triggered multiple times in the last 5.0 seconds and may become a bottleneck. A snapshot is forced if `CheckpointConfig(num_to_keep)` is set, and a trial has checkpointed >= `num_to_keep` times since the last snapshot.\n",
      "You may want to consider increasing the `CheckpointConfig(num_to_keep)` or decreasing the frequency of saving checkpoints.\n",
      "You can suppress this warning by setting the environment variable TUNE_WARN_EXCESSIVE_EXPERIMENT_CHECKPOINT_SYNC_THRESHOLD_S to a smaller value than the current threshold (5.0). Set it to 0 to completely suppress this warning.\n"
     ]
    },
    {
     "name": "stdout",
     "output_type": "stream",
     "text": [
      "\u001b[36m(RayTrainWorker pid=28099)\u001b[0m \n",
      "Validation DataLoader 0: 100%|██████████| 6/6 [00:01<00:00,  3.79it/s]\u001b[A\n",
      "Epoch 11: 100%|██████████| 29/29 [00:11<00:00,  2.50it/s, v_num=3.41e+7, train_loss_step=0.612, val_loss=0.671, train_loss_epoch=0.497]\n",
      "\u001b[36m(RayTrainWorker pid=27866)\u001b[0m \n"
     ]
    },
    {
     "name": "stderr",
     "output_type": "stream",
     "text": [
      "\u001b[36m(RayTrainWorker pid=28099)\u001b[0m Checkpoint successfully created at: Checkpoint(filesystem=local, path=/ictstr01/home/aih/serra.korkmaz/projects/saturn/hopt/hpopt_5ht1b_chembl/ray_results/TorchTrainer_2025-03-11_22-04-38/2a0ae81e/checkpoint_000011)\n"
     ]
    },
    {
     "name": "stdout",
     "output_type": "stream",
     "text": [
      "Epoch 11: 100%|██████████| 29/29 [00:11<00:00,  2.45it/s, v_num=3.41e+7, train_loss_step=0.612, val_loss=0.671, train_loss_epoch=0.471]\n",
      "Epoch 12:   0%|          | 0/29 [00:00<?, ?it/s, v_num=3.41e+7, train_loss_step=0.612, val_loss=0.671, train_loss_epoch=0.471]         \n",
      "\u001b[36m(RayTrainWorker pid=27866)\u001b[0m \n",
      "\u001b[36m(RayTrainWorker pid=27866)\u001b[0m \n",
      "\u001b[36m(RayTrainWorker pid=27866)\u001b[0m \n",
      "\u001b[36m(RayTrainWorker pid=27866)\u001b[0m \n",
      "\u001b[36m(RayTrainWorker pid=27866)\u001b[0m \n"
     ]
    },
    {
     "name": "stderr",
     "output_type": "stream",
     "text": [
      "\u001b[36m(RayTrainWorker pid=27866)\u001b[0m Checkpoint successfully created at: Checkpoint(filesystem=local, path=/ictstr01/home/aih/serra.korkmaz/projects/saturn/hopt/hpopt_5ht1b_chembl/ray_results/TorchTrainer_2025-03-11_22-04-38/1951b44b/checkpoint_000010)\n",
      "2025-03-11 22:07:33,353\tWARNING experiment_state.py:206 -- Experiment state snapshotting has been triggered multiple times in the last 5.0 seconds and may become a bottleneck. A snapshot is forced if `CheckpointConfig(num_to_keep)` is set, and a trial has checkpointed >= `num_to_keep` times since the last snapshot.\n",
      "You may want to consider increasing the `CheckpointConfig(num_to_keep)` or decreasing the frequency of saving checkpoints.\n",
      "You can suppress this warning by setting the environment variable TUNE_WARN_EXCESSIVE_EXPERIMENT_CHECKPOINT_SYNC_THRESHOLD_S to a smaller value than the current threshold (5.0). Set it to 0 to completely suppress this warning.\n"
     ]
    },
    {
     "name": "stdout",
     "output_type": "stream",
     "text": [
      "Epoch 12:  14%|█▍        | 4/29 [00:01<00:07,  3.32it/s, v_num=3.41e+7, train_loss_step=0.318, val_loss=0.671, train_loss_epoch=0.471]\u001b[32m [repeated 12x across cluster]\u001b[0m\n",
      "Epoch 10: 100%|██████████| 29/29 [00:11<00:00,  2.49it/s, v_num=3.41e+7, train_loss_step=0.690, val_loss=1.290, train_loss_epoch=0.525]\u001b[32m [repeated 3x across cluster]\u001b[0m\n",
      "Validation: |          | 0/? [00:00<?, ?it/s]\u001b[A\n",
      "Validation:   0%|          | 0/6 [00:00<?, ?it/s]\u001b[A\n",
      "Validation DataLoader 0:   0%|          | 0/6 [00:00<?, ?it/s]\u001b[A\n",
      "Validation DataLoader 0:  83%|████████▎ | 5/6 [00:01<00:00,  3.53it/s]\u001b[A\u001b[32m [repeated 5x across cluster]\u001b[0m\n",
      "Validation DataLoader 0: 100%|██████████| 6/6 [00:01<00:00,  3.74it/s]\u001b[A\n",
      "Epoch 10: 100%|██████████| 29/29 [00:13<00:00,  2.18it/s, v_num=3.41e+7, train_loss_step=0.690, val_loss=0.492, train_loss_epoch=0.525]\n",
      "Epoch 10: 100%|██████████| 29/29 [00:13<00:00,  2.15it/s, v_num=3.41e+7, train_loss_step=0.690, val_loss=0.492, train_loss_epoch=0.505]\n",
      "Epoch 11:   0%|          | 0/29 [00:00<?, ?it/s, v_num=3.41e+7, train_loss_step=0.690, val_loss=0.492, train_loss_epoch=0.505]         \n",
      "Epoch 12:  62%|██████▏   | 18/29 [00:06<00:03,  2.84it/s, v_num=3.41e+7, train_loss_step=0.517, val_loss=0.671, train_loss_epoch=0.471]\n",
      "Epoch 12:  62%|██████▏   | 18/29 [00:06<00:03,  2.84it/s, v_num=3.41e+7, train_loss_step=0.618, val_loss=0.671, train_loss_epoch=0.471]\n",
      "Epoch 11:  41%|████▏     | 12/29 [00:05<00:07,  2.35it/s, v_num=3.41e+7, train_loss_step=0.433, val_loss=0.492, train_loss_epoch=0.505]\u001b[32m [repeated 25x across cluster]\u001b[0m\n",
      "Epoch 12:  93%|█████████▎| 27/29 [00:09<00:00,  2.88it/s, v_num=3.41e+7, train_loss_step=0.467, val_loss=0.671, train_loss_epoch=0.471]\n",
      "Epoch 12: 100%|██████████| 29/29 [00:09<00:00,  2.97it/s, v_num=3.41e+7, train_loss_step=0.606, val_loss=0.671, train_loss_epoch=0.471]\n",
      "Validation: |          | 0/? [00:00<?, ?it/s]\u001b[A\n",
      "\u001b[36m(RayTrainWorker pid=28099)\u001b[0m \n",
      "Validation:   0%|          | 0/6 [00:00<?, ?it/s]\u001b[A\n",
      "Validation DataLoader 0:   0%|          | 0/6 [00:00<?, ?it/s]\u001b[A\n",
      "\u001b[36m(RayTrainWorker pid=28099)\u001b[0m \n",
      "Validation DataLoader 0:  17%|█▋        | 1/6 [00:00<00:00,  5.90it/s]\u001b[A\n",
      "\u001b[36m(RayTrainWorker pid=28099)\u001b[0m \n",
      "Validation DataLoader 0:  33%|███▎      | 2/6 [00:00<00:00,  5.10it/s]\u001b[A\n",
      "\u001b[36m(RayTrainWorker pid=28099)\u001b[0m \n",
      "Validation DataLoader 0:  50%|█████     | 3/6 [00:00<00:00,  4.96it/s]\u001b[A\n",
      "\u001b[36m(RayTrainWorker pid=28099)\u001b[0m \n",
      "Validation DataLoader 0:  67%|██████▋   | 4/6 [00:00<00:00,  4.68it/s]\u001b[A\n",
      "\u001b[36m(RayTrainWorker pid=28099)\u001b[0m \n",
      "Validation DataLoader 0:  83%|████████▎ | 5/6 [00:01<00:00,  4.36it/s]\u001b[A\n",
      "\u001b[36m(RayTrainWorker pid=28099)\u001b[0m \n",
      "Validation DataLoader 0: 100%|██████████| 6/6 [00:01<00:00,  4.48it/s]\u001b[A\n",
      "Epoch 12: 100%|██████████| 29/29 [00:11<00:00,  2.60it/s, v_num=3.41e+7, train_loss_step=0.606, val_loss=0.451, train_loss_epoch=0.471]\n",
      "Epoch 12: 100%|██████████| 29/29 [00:11<00:00,  2.55it/s, v_num=3.41e+7, train_loss_step=0.606, val_loss=0.451, train_loss_epoch=0.475]\n",
      "Epoch 13:   0%|          | 0/29 [00:00<?, ?it/s, v_num=3.41e+7, train_loss_step=0.606, val_loss=0.451, train_loss_epoch=0.475]         \n"
     ]
    },
    {
     "name": "stderr",
     "output_type": "stream",
     "text": [
      "\u001b[36m(RayTrainWorker pid=28099)\u001b[0m Checkpoint successfully created at: Checkpoint(filesystem=local, path=/ictstr01/home/aih/serra.korkmaz/projects/saturn/hopt/hpopt_5ht1b_chembl/ray_results/TorchTrainer_2025-03-11_22-04-38/2a0ae81e/checkpoint_000012)\n"
     ]
    },
    {
     "name": "stdout",
     "output_type": "stream",
     "text": [
      "Epoch 11:  86%|████████▌ | 25/29 [00:10<00:01,  2.46it/s, v_num=3.41e+7, train_loss_step=0.538, val_loss=0.492, train_loss_epoch=0.505]\u001b[32m [repeated 21x across cluster]\u001b[0m\n",
      "\u001b[36m(RayTrainWorker pid=27866)\u001b[0m \n",
      "\u001b[36m(RayTrainWorker pid=27866)\u001b[0m \n",
      "\u001b[36m(RayTrainWorker pid=27866)\u001b[0m \n",
      "\u001b[36m(RayTrainWorker pid=27866)\u001b[0m \n",
      "\u001b[36m(RayTrainWorker pid=27866)\u001b[0m \n",
      "\u001b[36m(RayTrainWorker pid=27866)\u001b[0m \n",
      "Epoch 11: 100%|██████████| 29/29 [00:11<00:00,  2.51it/s, v_num=3.41e+7, train_loss_step=0.574, val_loss=0.492, train_loss_epoch=0.505]\u001b[32m [repeated 3x across cluster]\u001b[0m\n",
      "\u001b[36m(RayTrainWorker pid=27866)\u001b[0m \n"
     ]
    },
    {
     "name": "stderr",
     "output_type": "stream",
     "text": [
      "\u001b[36m(RayTrainWorker pid=27866)\u001b[0m Checkpoint successfully created at: Checkpoint(filesystem=local, path=/ictstr01/home/aih/serra.korkmaz/projects/saturn/hopt/hpopt_5ht1b_chembl/ray_results/TorchTrainer_2025-03-11_22-04-38/1951b44b/checkpoint_000011)\n",
      "2025-03-11 22:07:46,777\tWARNING experiment_state.py:206 -- Experiment state snapshotting has been triggered multiple times in the last 5.0 seconds and may become a bottleneck. A snapshot is forced if `CheckpointConfig(num_to_keep)` is set, and a trial has checkpointed >= `num_to_keep` times since the last snapshot.\n",
      "You may want to consider increasing the `CheckpointConfig(num_to_keep)` or decreasing the frequency of saving checkpoints.\n",
      "You can suppress this warning by setting the environment variable TUNE_WARN_EXCESSIVE_EXPERIMENT_CHECKPOINT_SYNC_THRESHOLD_S to a smaller value than the current threshold (5.0). Set it to 0 to completely suppress this warning.\n"
     ]
    },
    {
     "name": "stdout",
     "output_type": "stream",
     "text": [
      "Validation: |          | 0/? [00:00<?, ?it/s]\u001b[A\n",
      "Validation:   0%|          | 0/6 [00:00<?, ?it/s]\u001b[A\n",
      "Validation DataLoader 0:   0%|          | 0/6 [00:00<?, ?it/s]\u001b[A\n",
      "Validation DataLoader 0:  83%|████████▎ | 5/6 [00:01<00:00,  3.86it/s]\u001b[A\u001b[32m [repeated 5x across cluster]\u001b[0m\n",
      "Validation DataLoader 0: 100%|██████████| 6/6 [00:01<00:00,  4.06it/s]\u001b[A\n",
      "Epoch 11: 100%|██████████| 29/29 [00:13<00:00,  2.21it/s, v_num=3.41e+7, train_loss_step=0.574, val_loss=0.758, train_loss_epoch=0.505]\n",
      "Epoch 11: 100%|██████████| 29/29 [00:13<00:00,  2.18it/s, v_num=3.41e+7, train_loss_step=0.574, val_loss=0.758, train_loss_epoch=0.477]\n",
      "Epoch 12:   0%|          | 0/29 [00:00<?, ?it/s, v_num=3.41e+7, train_loss_step=0.574, val_loss=0.758, train_loss_epoch=0.477]         \n",
      "Epoch 13:  55%|█████▌    | 16/29 [00:05<00:04,  3.04it/s, v_num=3.41e+7, train_loss_step=0.494, val_loss=0.451, train_loss_epoch=0.475]\u001b[32m [repeated 21x across cluster]\u001b[0m\n",
      "Epoch 13:  93%|█████████▎| 27/29 [00:08<00:00,  3.02it/s, v_num=3.41e+7, train_loss_step=0.541, val_loss=0.451, train_loss_epoch=0.475]\n",
      "Epoch 13:  97%|█████████▋| 28/29 [00:09<00:00,  3.03it/s, v_num=3.41e+7, train_loss_step=0.310, val_loss=0.451, train_loss_epoch=0.475]\n",
      "Epoch 13: 100%|██████████| 29/29 [00:09<00:00,  3.11it/s, v_num=3.41e+7, train_loss_step=0.419, val_loss=0.451, train_loss_epoch=0.475]\n",
      "Validation: |          | 0/? [00:00<?, ?it/s]\u001b[A\n",
      "Validation:   0%|          | 0/6 [00:00<?, ?it/s]\u001b[A\n",
      "Validation DataLoader 0:   0%|          | 0/6 [00:00<?, ?it/s]\u001b[A\n",
      "\u001b[36m(RayTrainWorker pid=28099)\u001b[0m \n",
      "Validation DataLoader 0:  17%|█▋        | 1/6 [00:00<00:01,  4.34it/s]\u001b[A\n",
      "\u001b[36m(RayTrainWorker pid=28099)\u001b[0m \n",
      "Validation DataLoader 0:  33%|███▎      | 2/6 [00:00<00:01,  3.87it/s]\u001b[A\n",
      "\u001b[36m(RayTrainWorker pid=28099)\u001b[0m \n",
      "Validation DataLoader 0:  50%|█████     | 3/6 [00:00<00:00,  3.79it/s]\u001b[A\n",
      "Epoch 12:  62%|██████▏   | 18/29 [00:07<00:04,  2.56it/s, v_num=3.41e+7, train_loss_step=0.676, val_loss=0.758, train_loss_epoch=0.477]\u001b[32m [repeated 24x across cluster]\u001b[0m\n",
      "\u001b[36m(RayTrainWorker pid=28099)\u001b[0m \n",
      "Validation DataLoader 0:  67%|██████▋   | 4/6 [00:01<00:00,  3.74it/s]\u001b[A\n",
      "\u001b[36m(RayTrainWorker pid=28099)\u001b[0m \n",
      "Validation DataLoader 0:  83%|████████▎ | 5/6 [00:01<00:00,  3.63it/s]\u001b[A\n",
      "\u001b[36m(RayTrainWorker pid=28099)\u001b[0m \n",
      "Validation DataLoader 0: 100%|██████████| 6/6 [00:01<00:00,  3.83it/s]\u001b[A\n",
      "Epoch 13: 100%|██████████| 29/29 [00:10<00:00,  2.65it/s, v_num=3.41e+7, train_loss_step=0.419, val_loss=0.440, train_loss_epoch=0.475]\n",
      "Epoch 13: 100%|██████████| 29/29 [00:11<00:00,  2.59it/s, v_num=3.41e+7, train_loss_step=0.419, val_loss=0.440, train_loss_epoch=0.459]\n"
     ]
    },
    {
     "name": "stderr",
     "output_type": "stream",
     "text": [
      "\u001b[36m(RayTrainWorker pid=28099)\u001b[0m Checkpoint successfully created at: Checkpoint(filesystem=local, path=/ictstr01/home/aih/serra.korkmaz/projects/saturn/hopt/hpopt_5ht1b_chembl/ray_results/TorchTrainer_2025-03-11_22-04-38/2a0ae81e/checkpoint_000013)\n"
     ]
    },
    {
     "name": "stdout",
     "output_type": "stream",
     "text": [
      "Epoch 14:   0%|          | 0/29 [00:00<?, ?it/s, v_num=3.41e+7, train_loss_step=0.419, val_loss=0.440, train_loss_epoch=0.459]         \n",
      "Epoch 12:  93%|█████████▎| 27/29 [00:10<00:00,  2.55it/s, v_num=3.41e+7, train_loss_step=0.476, val_loss=0.758, train_loss_epoch=0.477]\n",
      "Epoch 12:  97%|█████████▋| 28/29 [00:10<00:00,  2.55it/s, v_num=3.41e+7, train_loss_step=0.569, val_loss=0.758, train_loss_epoch=0.477]\n",
      "Epoch 12: 100%|██████████| 29/29 [00:11<00:00,  2.62it/s, v_num=3.41e+7, train_loss_step=0.711, val_loss=0.758, train_loss_epoch=0.477]\n",
      "Validation: |          | 0/? [00:00<?, ?it/s]\u001b[A\n",
      "\u001b[36m(RayTrainWorker pid=27866)\u001b[0m \n",
      "Validation:   0%|          | 0/6 [00:00<?, ?it/s]\u001b[A\n",
      "Validation DataLoader 0:   0%|          | 0/6 [00:00<?, ?it/s]\u001b[A\n",
      "\u001b[36m(RayTrainWorker pid=27866)\u001b[0m \n",
      "Validation DataLoader 0:  17%|█▋        | 1/6 [00:00<00:01,  4.24it/s]\u001b[A\n",
      "\u001b[36m(RayTrainWorker pid=27866)\u001b[0m \n",
      "Validation DataLoader 0:  33%|███▎      | 2/6 [00:00<00:01,  3.76it/s]\u001b[A\n",
      "\u001b[36m(RayTrainWorker pid=27866)\u001b[0m \n",
      "Validation DataLoader 0:  50%|█████     | 3/6 [00:00<00:00,  3.81it/s]\u001b[A\n",
      "\u001b[36m(RayTrainWorker pid=27866)\u001b[0m \n",
      "Validation DataLoader 0:  67%|██████▋   | 4/6 [00:01<00:00,  3.71it/s]\u001b[A\n",
      "Epoch 14:  41%|████▏     | 12/29 [00:04<00:05,  2.97it/s, v_num=3.41e+7, train_loss_step=0.351, val_loss=0.440, train_loss_epoch=0.459]\u001b[32m [repeated 20x across cluster]\u001b[0m\n",
      "\u001b[36m(RayTrainWorker pid=27866)\u001b[0m \n",
      "Validation DataLoader 0:  83%|████████▎ | 5/6 [00:01<00:00,  3.70it/s]\u001b[A\n",
      "\u001b[36m(RayTrainWorker pid=27866)\u001b[0m \n",
      "Validation DataLoader 0: 100%|██████████| 6/6 [00:01<00:00,  3.89it/s]\u001b[A\n",
      "Epoch 12: 100%|██████████| 29/29 [00:12<00:00,  2.29it/s, v_num=3.41e+7, train_loss_step=0.711, val_loss=0.582, train_loss_epoch=0.477]\n",
      "Epoch 12: 100%|██████████| 29/29 [00:12<00:00,  2.25it/s, v_num=3.41e+7, train_loss_step=0.711, val_loss=0.582, train_loss_epoch=0.482]\n",
      "Epoch 13:   0%|          | 0/29 [00:00<?, ?it/s, v_num=3.41e+7, train_loss_step=0.711, val_loss=0.582, train_loss_epoch=0.482]         \n"
     ]
    },
    {
     "name": "stderr",
     "output_type": "stream",
     "text": [
      "\u001b[36m(RayTrainWorker pid=27866)\u001b[0m Checkpoint successfully created at: Checkpoint(filesystem=local, path=/ictstr01/home/aih/serra.korkmaz/projects/saturn/hopt/hpopt_5ht1b_chembl/ray_results/TorchTrainer_2025-03-11_22-04-38/1951b44b/checkpoint_000012)\n"
     ]
    },
    {
     "name": "stdout",
     "output_type": "stream",
     "text": [
      "Epoch 14:  93%|█████████▎| 27/29 [00:09<00:00,  2.99it/s, v_num=3.41e+7, train_loss_step=0.377, val_loss=0.440, train_loss_epoch=0.459]\n",
      "Epoch 14:  97%|█████████▋| 28/29 [00:09<00:00,  2.97it/s, v_num=3.41e+7, train_loss_step=0.361, val_loss=0.440, train_loss_epoch=0.459]\n",
      "Epoch 13:  34%|███▍      | 10/29 [00:03<00:07,  2.57it/s, v_num=3.41e+7, train_loss_step=0.415, val_loss=0.582, train_loss_epoch=0.482]\u001b[32m [repeated 24x across cluster]\u001b[0m\n",
      "Epoch 14: 100%|██████████| 29/29 [00:09<00:00,  3.04it/s, v_num=3.41e+7, train_loss_step=0.508, val_loss=0.440, train_loss_epoch=0.459]\n",
      "Validation: |          | 0/? [00:00<?, ?it/s]\u001b[A\n",
      "\u001b[36m(RayTrainWorker pid=28099)\u001b[0m \n",
      "Validation:   0%|          | 0/6 [00:00<?, ?it/s]\u001b[A\n",
      "Validation DataLoader 0:   0%|          | 0/6 [00:00<?, ?it/s]\u001b[A\n",
      "\u001b[36m(RayTrainWorker pid=28099)\u001b[0m \n",
      "Validation DataLoader 0:  17%|█▋        | 1/6 [00:00<00:01,  4.32it/s]\u001b[A\n",
      "\u001b[36m(RayTrainWorker pid=28099)\u001b[0m \n",
      "Validation DataLoader 0:  33%|███▎      | 2/6 [00:00<00:01,  3.86it/s]\u001b[A\n",
      "\u001b[36m(RayTrainWorker pid=28099)\u001b[0m \n",
      "Validation DataLoader 0:  50%|█████     | 3/6 [00:00<00:00,  3.72it/s]\u001b[A\n",
      "\u001b[36m(RayTrainWorker pid=28099)\u001b[0m \n",
      "Validation DataLoader 0:  67%|██████▋   | 4/6 [00:01<00:00,  3.69it/s]\u001b[A\n",
      "\u001b[36m(RayTrainWorker pid=28099)\u001b[0m \n",
      "Validation DataLoader 0:  83%|████████▎ | 5/6 [00:01<00:00,  3.73it/s]\u001b[A\n",
      "\u001b[36m(RayTrainWorker pid=28099)\u001b[0m \n",
      "Validation DataLoader 0: 100%|██████████| 6/6 [00:01<00:00,  4.02it/s]\u001b[A\n",
      "Epoch 14: 100%|██████████| 29/29 [00:11<00:00,  2.61it/s, v_num=3.41e+7, train_loss_step=0.508, val_loss=0.742, train_loss_epoch=0.459]\n",
      "Epoch 14: 100%|██████████| 29/29 [00:11<00:00,  2.56it/s, v_num=3.41e+7, train_loss_step=0.508, val_loss=0.742, train_loss_epoch=0.430]\n"
     ]
    },
    {
     "name": "stderr",
     "output_type": "stream",
     "text": [
      "\u001b[36m(RayTrainWorker pid=28099)\u001b[0m Checkpoint successfully created at: Checkpoint(filesystem=local, path=/ictstr01/home/aih/serra.korkmaz/projects/saturn/hopt/hpopt_5ht1b_chembl/ray_results/TorchTrainer_2025-03-11_22-04-38/2a0ae81e/checkpoint_000014)\n"
     ]
    },
    {
     "name": "stdout",
     "output_type": "stream",
     "text": [
      "Epoch 15:   0%|          | 0/29 [00:00<?, ?it/s, v_num=3.41e+7, train_loss_step=0.508, val_loss=0.742, train_loss_epoch=0.430]         \n",
      "Epoch 13:  83%|████████▎ | 24/29 [00:09<00:01,  2.51it/s, v_num=3.41e+7, train_loss_step=0.415, val_loss=0.582, train_loss_epoch=0.482]\u001b[32m [repeated 22x across cluster]\u001b[0m\n",
      "Epoch 13:  93%|█████████▎| 27/29 [00:10<00:00,  2.52it/s, v_num=3.41e+7, train_loss_step=0.567, val_loss=0.582, train_loss_epoch=0.482]\n",
      "Epoch 13: 100%|██████████| 29/29 [00:11<00:00,  2.60it/s, v_num=3.41e+7, train_loss_step=0.418, val_loss=0.582, train_loss_epoch=0.482]\n",
      "Validation: |          | 0/? [00:00<?, ?it/s]\u001b[A\n",
      "\u001b[36m(RayTrainWorker pid=27866)\u001b[0m \n",
      "Validation:   0%|          | 0/6 [00:00<?, ?it/s]\u001b[A\n",
      "Validation DataLoader 0:   0%|          | 0/6 [00:00<?, ?it/s]\u001b[A\n",
      "\u001b[36m(RayTrainWorker pid=27866)\u001b[0m \n",
      "Validation DataLoader 0:  17%|█▋        | 1/6 [00:00<00:01,  3.38it/s]\u001b[A\n",
      "\u001b[36m(RayTrainWorker pid=27866)\u001b[0m \n",
      "Validation DataLoader 0:  33%|███▎      | 2/6 [00:00<00:01,  3.05it/s]\u001b[A\n",
      "\u001b[36m(RayTrainWorker pid=27866)\u001b[0m \n",
      "Validation DataLoader 0:  50%|█████     | 3/6 [00:00<00:00,  3.03it/s]\u001b[A\n",
      "\u001b[36m(RayTrainWorker pid=27866)\u001b[0m \n",
      "Validation DataLoader 0:  67%|██████▋   | 4/6 [00:01<00:00,  3.15it/s]\u001b[A\n",
      "\u001b[36m(RayTrainWorker pid=27866)\u001b[0m \n",
      "Validation DataLoader 0:  83%|████████▎ | 5/6 [00:01<00:00,  3.16it/s]\u001b[A\n",
      "\u001b[36m(RayTrainWorker pid=27866)\u001b[0m \n",
      "Validation DataLoader 0: 100%|██████████| 6/6 [00:01<00:00,  3.32it/s]\u001b[A\n",
      "Epoch 13: 100%|██████████| 29/29 [00:13<00:00,  2.23it/s, v_num=3.41e+7, train_loss_step=0.418, val_loss=0.530, train_loss_epoch=0.482]\n",
      "Epoch 13: 100%|██████████| 29/29 [00:13<00:00,  2.19it/s, v_num=3.41e+7, train_loss_step=0.418, val_loss=0.530, train_loss_epoch=0.466]\n",
      "Epoch 14:   0%|          | 0/29 [00:00<?, ?it/s, v_num=3.41e+7, train_loss_step=0.418, val_loss=0.530, train_loss_epoch=0.466]         \n"
     ]
    },
    {
     "name": "stderr",
     "output_type": "stream",
     "text": [
      "\u001b[36m(RayTrainWorker pid=27866)\u001b[0m Checkpoint successfully created at: Checkpoint(filesystem=local, path=/ictstr01/home/aih/serra.korkmaz/projects/saturn/hopt/hpopt_5ht1b_chembl/ray_results/TorchTrainer_2025-03-11_22-04-38/1951b44b/checkpoint_000013)\n"
     ]
    },
    {
     "name": "stdout",
     "output_type": "stream",
     "text": [
      "Epoch 14:  10%|█         | 3/29 [00:01<00:11,  2.21it/s, v_num=3.41e+7, train_loss_step=0.504, val_loss=0.530, train_loss_epoch=0.466]\u001b[32m [repeated 20x across cluster]\u001b[0m\n",
      "Epoch 15:  93%|█████████▎| 27/29 [00:09<00:00,  2.80it/s, v_num=3.41e+7, train_loss_step=0.337, val_loss=0.742, train_loss_epoch=0.430]\n",
      "Epoch 15:  97%|█████████▋| 28/29 [00:09<00:00,  2.80it/s, v_num=3.41e+7, train_loss_step=0.484, val_loss=0.742, train_loss_epoch=0.430]\n",
      "Epoch 15: 100%|██████████| 29/29 [00:10<00:00,  2.87it/s, v_num=3.41e+7, train_loss_step=0.338, val_loss=0.742, train_loss_epoch=0.430]\n",
      "Validation: |          | 0/? [00:00<?, ?it/s]\u001b[A\n",
      "\u001b[36m(RayTrainWorker pid=28099)\u001b[0m \n",
      "Validation:   0%|          | 0/6 [00:00<?, ?it/s]\u001b[A\n",
      "Validation DataLoader 0:   0%|          | 0/6 [00:00<?, ?it/s]\u001b[A\n",
      "\u001b[36m(RayTrainWorker pid=28099)\u001b[0m \n",
      "Validation DataLoader 0:  17%|█▋        | 1/6 [00:00<00:01,  4.39it/s]\u001b[A\n",
      "\u001b[36m(RayTrainWorker pid=28099)\u001b[0m \n",
      "Validation DataLoader 0:  33%|███▎      | 2/6 [00:00<00:00,  4.22it/s]\u001b[A\n",
      "\u001b[36m(RayTrainWorker pid=28099)\u001b[0m \n",
      "Validation DataLoader 0:  50%|█████     | 3/6 [00:00<00:00,  4.19it/s]\u001b[A\n",
      "\u001b[36m(RayTrainWorker pid=28099)\u001b[0m \n",
      "Validation DataLoader 0:  67%|██████▋   | 4/6 [00:00<00:00,  4.27it/s]\u001b[A\n",
      "\u001b[36m(RayTrainWorker pid=28099)\u001b[0m \n",
      "Validation DataLoader 0:  83%|████████▎ | 5/6 [00:01<00:00,  4.27it/s]\u001b[A\n",
      "\u001b[36m(RayTrainWorker pid=28099)\u001b[0m \n"
     ]
    },
    {
     "name": "stderr",
     "output_type": "stream",
     "text": [
      "2025-03-11 22:08:18,116\tWARNING experiment_state.py:206 -- Experiment state snapshotting has been triggered multiple times in the last 5.0 seconds and may become a bottleneck. A snapshot is forced if `CheckpointConfig(num_to_keep)` is set, and a trial has checkpointed >= `num_to_keep` times since the last snapshot.\n",
      "You may want to consider increasing the `CheckpointConfig(num_to_keep)` or decreasing the frequency of saving checkpoints.\n",
      "You can suppress this warning by setting the environment variable TUNE_WARN_EXCESSIVE_EXPERIMENT_CHECKPOINT_SYNC_THRESHOLD_S to a smaller value than the current threshold (5.0). Set it to 0 to completely suppress this warning.\n"
     ]
    },
    {
     "name": "stdout",
     "output_type": "stream",
     "text": [
      "Validation DataLoader 0: 100%|██████████| 6/6 [00:01<00:00,  4.51it/s]\u001b[A\n",
      "Epoch 15: 100%|██████████| 29/29 [00:11<00:00,  2.52it/s, v_num=3.41e+7, train_loss_step=0.338, val_loss=0.413, train_loss_epoch=0.430]\n",
      "Epoch 15: 100%|██████████| 29/29 [00:11<00:00,  2.47it/s, v_num=3.41e+7, train_loss_step=0.338, val_loss=0.413, train_loss_epoch=0.436]\n",
      "Epoch 16:   0%|          | 0/29 [00:00<?, ?it/s, v_num=3.41e+7, train_loss_step=0.338, val_loss=0.413, train_loss_epoch=0.436]         \n",
      "Epoch 14:  55%|█████▌    | 16/29 [00:06<00:05,  2.49it/s, v_num=3.41e+7, train_loss_step=0.319, val_loss=0.530, train_loss_epoch=0.466]\u001b[32m [repeated 20x across cluster]\u001b[0m\n",
      "Epoch 14:  93%|█████████▎| 27/29 [00:10<00:00,  2.48it/s, v_num=3.41e+7, train_loss_step=0.373, val_loss=0.530, train_loss_epoch=0.466]\n",
      "Epoch 14:  97%|█████████▋| 28/29 [00:11<00:00,  2.47it/s, v_num=3.41e+7, train_loss_step=0.373, val_loss=0.530, train_loss_epoch=0.466]\n",
      "Epoch 14: 100%|██████████| 29/29 [00:11<00:00,  2.53it/s, v_num=3.41e+7, train_loss_step=0.846, val_loss=0.530, train_loss_epoch=0.466]\n",
      "Validation: |          | 0/? [00:00<?, ?it/s]\u001b[A\n",
      "Validation:   0%|          | 0/6 [00:00<?, ?it/s]\u001b[A\n",
      "Validation DataLoader 0:   0%|          | 0/6 [00:00<?, ?it/s]\u001b[A\n",
      "\u001b[36m(RayTrainWorker pid=27866)\u001b[0m \n",
      "Validation DataLoader 0:  17%|█▋        | 1/6 [00:00<00:01,  4.52it/s]\u001b[A\n",
      "Epoch 16:  66%|██████▌   | 19/29 [00:06<00:03,  2.90it/s, v_num=3.41e+7, train_loss_step=0.363, val_loss=0.413, train_loss_epoch=0.436]\u001b[32m [repeated 25x across cluster]\u001b[0m\n",
      "\u001b[36m(RayTrainWorker pid=27866)\u001b[0m \n",
      "Validation DataLoader 0:  33%|███▎      | 2/6 [00:00<00:01,  3.80it/s]\u001b[A\n",
      "\u001b[36m(RayTrainWorker pid=27866)\u001b[0m \n",
      "Validation DataLoader 0:  50%|█████     | 3/6 [00:00<00:00,  3.48it/s]\u001b[A\n",
      "\u001b[36m(RayTrainWorker pid=27866)\u001b[0m \n",
      "Validation DataLoader 0:  67%|██████▋   | 4/6 [00:01<00:00,  3.31it/s]\u001b[A\n",
      "\u001b[36m(RayTrainWorker pid=27866)\u001b[0m \n",
      "Validation DataLoader 0:  83%|████████▎ | 5/6 [00:01<00:00,  3.17it/s]\u001b[A\n",
      "\u001b[36m(RayTrainWorker pid=27866)\u001b[0m \n",
      "Validation DataLoader 0: 100%|██████████| 6/6 [00:01<00:00,  3.32it/s]\u001b[A\n",
      "Epoch 14: 100%|██████████| 29/29 [00:13<00:00,  2.18it/s, v_num=3.41e+7, train_loss_step=0.846, val_loss=0.469, train_loss_epoch=0.466]\n",
      "Epoch 14: 100%|██████████| 29/29 [00:13<00:00,  2.14it/s, v_num=3.41e+7, train_loss_step=0.846, val_loss=0.469, train_loss_epoch=0.433]\n",
      "Epoch 15:   0%|          | 0/29 [00:00<?, ?it/s, v_num=3.41e+7, train_loss_step=0.846, val_loss=0.469, train_loss_epoch=0.433]         \n"
     ]
    },
    {
     "name": "stderr",
     "output_type": "stream",
     "text": [
      "\u001b[36m(RayTrainWorker pid=27866)\u001b[0m Checkpoint successfully created at: Checkpoint(filesystem=local, path=/ictstr01/home/aih/serra.korkmaz/projects/saturn/hopt/hpopt_5ht1b_chembl/ray_results/TorchTrainer_2025-03-11_22-04-38/1951b44b/checkpoint_000014)\u001b[32m [repeated 2x across cluster]\u001b[0m\n"
     ]
    },
    {
     "name": "stdout",
     "output_type": "stream",
     "text": [
      "\u001b[36m(RayTrainWorker pid=28099)\u001b[0m \n",
      "\u001b[36m(RayTrainWorker pid=28099)\u001b[0m \n",
      "\u001b[36m(RayTrainWorker pid=28099)\u001b[0m \n",
      "\u001b[36m(RayTrainWorker pid=28099)\u001b[0m \n",
      "\u001b[36m(RayTrainWorker pid=28099)\u001b[0m \n",
      "Epoch 16: 100%|██████████| 29/29 [00:09<00:00,  2.92it/s, v_num=3.41e+7, train_loss_step=0.595, val_loss=0.413, train_loss_epoch=0.436]\u001b[32m [repeated 3x across cluster]\u001b[0m\n",
      "\u001b[36m(RayTrainWorker pid=28099)\u001b[0m \n",
      "\u001b[36m(RayTrainWorker pid=28099)\u001b[0m \n"
     ]
    },
    {
     "name": "stderr",
     "output_type": "stream",
     "text": [
      "2025-03-11 22:08:29,861\tWARNING experiment_state.py:206 -- Experiment state snapshotting has been triggered multiple times in the last 5.0 seconds and may become a bottleneck. A snapshot is forced if `CheckpointConfig(num_to_keep)` is set, and a trial has checkpointed >= `num_to_keep` times since the last snapshot.\n",
      "You may want to consider increasing the `CheckpointConfig(num_to_keep)` or decreasing the frequency of saving checkpoints.\n",
      "You can suppress this warning by setting the environment variable TUNE_WARN_EXCESSIVE_EXPERIMENT_CHECKPOINT_SYNC_THRESHOLD_S to a smaller value than the current threshold (5.0). Set it to 0 to completely suppress this warning.\n"
     ]
    },
    {
     "name": "stdout",
     "output_type": "stream",
     "text": [
      "Validation: |          | 0/? [00:00<?, ?it/s]\u001b[A\n",
      "Validation:   0%|          | 0/6 [00:00<?, ?it/s]\u001b[A\n",
      "Validation DataLoader 0:   0%|          | 0/6 [00:00<?, ?it/s]\u001b[A\n",
      "Validation DataLoader 0:  83%|████████▎ | 5/6 [00:01<00:00,  3.89it/s]\u001b[A\u001b[32m [repeated 5x across cluster]\u001b[0m\n",
      "Epoch 15:  28%|██▊       | 8/29 [00:03<00:08,  2.42it/s, v_num=3.41e+7, train_loss_step=0.598, val_loss=0.469, train_loss_epoch=0.433]\u001b[32m [repeated 15x across cluster]\u001b[0m\n",
      "Validation DataLoader 0: 100%|██████████| 6/6 [00:01<00:00,  4.19it/s]\u001b[A\n",
      "Epoch 16: 100%|██████████| 29/29 [00:11<00:00,  2.54it/s, v_num=3.41e+7, train_loss_step=0.595, val_loss=0.403, train_loss_epoch=0.436]\n",
      "Epoch 16: 100%|██████████| 29/29 [00:11<00:00,  2.50it/s, v_num=3.41e+7, train_loss_step=0.595, val_loss=0.403, train_loss_epoch=0.405]\n",
      "Epoch 17:   0%|          | 0/29 [00:00<?, ?it/s, v_num=3.41e+7, train_loss_step=0.595, val_loss=0.403, train_loss_epoch=0.405]         \n",
      "Epoch 17:  55%|█████▌    | 16/29 [00:05<00:04,  2.90it/s, v_num=3.41e+7, train_loss_step=0.361, val_loss=0.403, train_loss_epoch=0.405]\u001b[32m [repeated 28x across cluster]\u001b[0m\n",
      "Epoch 15:  93%|█████████▎| 27/29 [00:11<00:00,  2.41it/s, v_num=3.41e+7, train_loss_step=0.386, val_loss=0.469, train_loss_epoch=0.433]\n",
      "Epoch 15:  97%|█████████▋| 28/29 [00:11<00:00,  2.41it/s, v_num=3.41e+7, train_loss_step=0.473, val_loss=0.469, train_loss_epoch=0.433]\n",
      "Epoch 15: 100%|██████████| 29/29 [00:11<00:00,  2.47it/s, v_num=3.41e+7, train_loss_step=0.292, val_loss=0.469, train_loss_epoch=0.433]\n",
      "Validation: |          | 0/? [00:00<?, ?it/s]\u001b[A\n",
      "Validation:   0%|          | 0/6 [00:00<?, ?it/s]\u001b[A\n",
      "Validation DataLoader 0:   0%|          | 0/6 [00:00<?, ?it/s]\u001b[A\n",
      "\u001b[36m(RayTrainWorker pid=27866)\u001b[0m \n",
      "Validation DataLoader 0:  17%|█▋        | 1/6 [00:00<00:01,  4.31it/s]\u001b[A\n",
      "\u001b[36m(RayTrainWorker pid=27866)\u001b[0m \n",
      "Validation DataLoader 0:  33%|███▎      | 2/6 [00:00<00:00,  4.04it/s]\u001b[A\n",
      "\u001b[36m(RayTrainWorker pid=27866)\u001b[0m \n",
      "Validation DataLoader 0:  50%|█████     | 3/6 [00:00<00:00,  4.01it/s]\u001b[A\n",
      "\u001b[36m(RayTrainWorker pid=27866)\u001b[0m \n",
      "Validation DataLoader 0:  67%|██████▋   | 4/6 [00:01<00:00,  3.94it/s]\u001b[A\n",
      "\u001b[36m(RayTrainWorker pid=27866)\u001b[0m \n",
      "Validation DataLoader 0:  83%|████████▎ | 5/6 [00:01<00:00,  3.78it/s]\u001b[A\n",
      "\u001b[36m(RayTrainWorker pid=28099)\u001b[0m \n",
      "\u001b[36m(RayTrainWorker pid=27866)\u001b[0m \n",
      "Validation DataLoader 0: 100%|██████████| 6/6 [00:01<00:00,  4.01it/s]\u001b[A\n",
      "Epoch 15: 100%|██████████| 29/29 [00:13<00:00,  2.18it/s, v_num=3.41e+7, train_loss_step=0.292, val_loss=0.391, train_loss_epoch=0.433]\n"
     ]
    },
    {
     "name": "stderr",
     "output_type": "stream",
     "text": [
      "2025-03-11 22:08:40,554\tWARNING experiment_state.py:206 -- Experiment state snapshotting has been triggered multiple times in the last 5.0 seconds and may become a bottleneck. A snapshot is forced if `CheckpointConfig(num_to_keep)` is set, and a trial has checkpointed >= `num_to_keep` times since the last snapshot.\n",
      "You may want to consider increasing the `CheckpointConfig(num_to_keep)` or decreasing the frequency of saving checkpoints.\n",
      "You can suppress this warning by setting the environment variable TUNE_WARN_EXCESSIVE_EXPERIMENT_CHECKPOINT_SYNC_THRESHOLD_S to a smaller value than the current threshold (5.0). Set it to 0 to completely suppress this warning.\n"
     ]
    },
    {
     "name": "stdout",
     "output_type": "stream",
     "text": [
      "\u001b[36m(RayTrainWorker pid=28099)\u001b[0m \n",
      "Epoch 15: 100%|██████████| 29/29 [00:13<00:00,  2.14it/s, v_num=3.41e+7, train_loss_step=0.292, val_loss=0.391, train_loss_epoch=0.455]\n",
      "Epoch 17:  90%|████████▉ | 26/29 [00:09<00:01,  2.82it/s, v_num=3.41e+7, train_loss_step=0.389, val_loss=0.403, train_loss_epoch=0.405]\u001b[32m [repeated 16x across cluster]\u001b[0m\n"
     ]
    },
    {
     "name": "stderr",
     "output_type": "stream",
     "text": [
      "\u001b[36m(RayTrainWorker pid=27866)\u001b[0m Checkpoint successfully created at: Checkpoint(filesystem=local, path=/ictstr01/home/aih/serra.korkmaz/projects/saturn/hopt/hpopt_5ht1b_chembl/ray_results/TorchTrainer_2025-03-11_22-04-38/1951b44b/checkpoint_000015)\u001b[32m [repeated 2x across cluster]\u001b[0m\n"
     ]
    },
    {
     "name": "stdout",
     "output_type": "stream",
     "text": [
      "Epoch 16:   0%|          | 0/29 [00:00<?, ?it/s, v_num=3.41e+7, train_loss_step=0.292, val_loss=0.391, train_loss_epoch=0.455]         \n",
      "\u001b[36m(RayTrainWorker pid=28099)\u001b[0m \n",
      "\u001b[36m(RayTrainWorker pid=28099)\u001b[0m \n",
      "\u001b[36m(RayTrainWorker pid=28099)\u001b[0m \n",
      "\u001b[36m(RayTrainWorker pid=28099)\u001b[0m \n"
     ]
    },
    {
     "name": "stderr",
     "output_type": "stream",
     "text": [
      "2025-03-11 22:08:41,593\tWARNING experiment_state.py:206 -- Experiment state snapshotting has been triggered multiple times in the last 5.0 seconds and may become a bottleneck. A snapshot is forced if `CheckpointConfig(num_to_keep)` is set, and a trial has checkpointed >= `num_to_keep` times since the last snapshot.\n",
      "You may want to consider increasing the `CheckpointConfig(num_to_keep)` or decreasing the frequency of saving checkpoints.\n",
      "You can suppress this warning by setting the environment variable TUNE_WARN_EXCESSIVE_EXPERIMENT_CHECKPOINT_SYNC_THRESHOLD_S to a smaller value than the current threshold (5.0). Set it to 0 to completely suppress this warning.\n"
     ]
    },
    {
     "name": "stdout",
     "output_type": "stream",
     "text": [
      "Epoch 17: 100%|██████████| 29/29 [00:09<00:00,  2.92it/s, v_num=3.41e+7, train_loss_step=0.518, val_loss=0.403, train_loss_epoch=0.405]\u001b[32m [repeated 3x across cluster]\u001b[0m\n",
      "Validation: |          | 0/? [00:00<?, ?it/s]\u001b[A\n",
      "Validation:   0%|          | 0/6 [00:00<?, ?it/s]\u001b[A\n",
      "Validation DataLoader 0:   0%|          | 0/6 [00:00<?, ?it/s]\u001b[A\n",
      "Validation DataLoader 0:  83%|████████▎ | 5/6 [00:01<00:00,  4.21it/s]\u001b[A\u001b[32m [repeated 5x across cluster]\u001b[0m\n",
      "Validation DataLoader 0: 100%|██████████| 6/6 [00:01<00:00,  4.35it/s]\u001b[A\n",
      "Epoch 17: 100%|██████████| 29/29 [00:11<00:00,  2.55it/s, v_num=3.41e+7, train_loss_step=0.518, val_loss=0.417, train_loss_epoch=0.405]\n",
      "Epoch 17: 100%|██████████| 29/29 [00:11<00:00,  2.50it/s, v_num=3.41e+7, train_loss_step=0.518, val_loss=0.417, train_loss_epoch=0.390]\n",
      "Epoch 18:  38%|███▊      | 11/29 [00:03<00:06,  2.82it/s, v_num=3.41e+7, train_loss_step=0.330, val_loss=0.417, train_loss_epoch=0.390]\u001b[32m [repeated 22x across cluster]\u001b[0m\n",
      "Epoch 18:   0%|          | 0/29 [00:00<?, ?it/s, v_num=3.41e+7, train_loss_step=0.518, val_loss=0.417, train_loss_epoch=0.390]         \n",
      "Epoch 16:  86%|████████▌ | 25/29 [00:10<00:01,  2.46it/s, v_num=3.41e+7, train_loss_step=0.442, val_loss=0.391, train_loss_epoch=0.455]\u001b[32m [repeated 28x across cluster]\u001b[0m\n",
      "Epoch 18:  93%|█████████▎| 27/29 [00:09<00:00,  2.83it/s, v_num=3.41e+7, train_loss_step=0.460, val_loss=0.417, train_loss_epoch=0.390]\n",
      "Validation: |          | 0/? [00:00<?, ?it/s]\u001b[A\n",
      "Validation:   0%|          | 0/6 [00:00<?, ?it/s]\u001b[A\n",
      "Validation DataLoader 0:   0%|          | 0/6 [00:00<?, ?it/s]\u001b[A\n",
      "\u001b[36m(RayTrainWorker pid=28099)\u001b[0m \n",
      "Validation DataLoader 0:  17%|█▋        | 1/6 [00:00<00:01,  4.34it/s]\u001b[A\n",
      "\u001b[36m(RayTrainWorker pid=28099)\u001b[0m \n",
      "Validation DataLoader 0:  33%|███▎      | 2/6 [00:00<00:00,  4.46it/s]\u001b[A\n",
      "\u001b[36m(RayTrainWorker pid=27866)\u001b[0m \n",
      "\u001b[36m(RayTrainWorker pid=28099)\u001b[0m \n",
      "Validation DataLoader 0:  50%|█████     | 3/6 [00:00<00:00,  4.54it/s]\u001b[A\n",
      "\u001b[36m(RayTrainWorker pid=27866)\u001b[0m \n",
      "\u001b[36m(RayTrainWorker pid=28099)\u001b[0m \n",
      "\u001b[36m(RayTrainWorker pid=27866)\u001b[0m \n",
      "\u001b[36m(RayTrainWorker pid=28099)\u001b[0m \n"
     ]
    },
    {
     "name": "stderr",
     "output_type": "stream",
     "text": [
      "2025-03-11 22:08:53,341\tWARNING experiment_state.py:206 -- Experiment state snapshotting has been triggered multiple times in the last 5.0 seconds and may become a bottleneck. A snapshot is forced if `CheckpointConfig(num_to_keep)` is set, and a trial has checkpointed >= `num_to_keep` times since the last snapshot.\n",
      "You may want to consider increasing the `CheckpointConfig(num_to_keep)` or decreasing the frequency of saving checkpoints.\n",
      "You can suppress this warning by setting the environment variable TUNE_WARN_EXCESSIVE_EXPERIMENT_CHECKPOINT_SYNC_THRESHOLD_S to a smaller value than the current threshold (5.0). Set it to 0 to completely suppress this warning.\n"
     ]
    },
    {
     "name": "stdout",
     "output_type": "stream",
     "text": [
      "\u001b[36m(RayTrainWorker pid=27866)\u001b[0m \n",
      "\u001b[36m(RayTrainWorker pid=28099)\u001b[0m \n",
      "Validation DataLoader 0: 100%|██████████| 6/6 [00:01<00:00,  4.82it/s]\u001b[A\n",
      "Epoch 18: 100%|██████████| 29/29 [00:11<00:00,  2.56it/s, v_num=3.41e+7, train_loss_step=0.227, val_loss=0.363, train_loss_epoch=0.390]\n"
     ]
    },
    {
     "name": "stderr",
     "output_type": "stream",
     "text": [
      "\u001b[36m(RayTrainWorker pid=28099)\u001b[0m Checkpoint successfully created at: Checkpoint(filesystem=local, path=/ictstr01/home/aih/serra.korkmaz/projects/saturn/hopt/hpopt_5ht1b_chembl/ray_results/TorchTrainer_2025-03-11_22-04-38/2a0ae81e/checkpoint_000018)\u001b[32m [repeated 2x across cluster]\u001b[0m\n"
     ]
    },
    {
     "name": "stdout",
     "output_type": "stream",
     "text": [
      "Epoch 18: 100%|██████████| 29/29 [00:11<00:00,  2.51it/s, v_num=3.41e+7, train_loss_step=0.227, val_loss=0.363, train_loss_epoch=0.382]\n",
      "\u001b[36m(RayTrainWorker pid=27866)\u001b[0m \n",
      "Epoch 19:   0%|          | 0/29 [00:00<?, ?it/s, v_num=3.41e+7, train_loss_step=0.227, val_loss=0.363, train_loss_epoch=0.382]         \n",
      "\u001b[36m(RayTrainWorker pid=27866)\u001b[0m \n"
     ]
    },
    {
     "name": "stderr",
     "output_type": "stream",
     "text": [
      "2025-03-11 22:08:54,157\tWARNING experiment_state.py:206 -- Experiment state snapshotting has been triggered multiple times in the last 5.0 seconds and may become a bottleneck. A snapshot is forced if `CheckpointConfig(num_to_keep)` is set, and a trial has checkpointed >= `num_to_keep` times since the last snapshot.\n",
      "You may want to consider increasing the `CheckpointConfig(num_to_keep)` or decreasing the frequency of saving checkpoints.\n",
      "You can suppress this warning by setting the environment variable TUNE_WARN_EXCESSIVE_EXPERIMENT_CHECKPOINT_SYNC_THRESHOLD_S to a smaller value than the current threshold (5.0). Set it to 0 to completely suppress this warning.\n"
     ]
    },
    {
     "name": "stdout",
     "output_type": "stream",
     "text": [
      "\u001b[36m(RayTrainWorker pid=27866)\u001b[0m \n",
      "Epoch 19:  28%|██▊       | 8/29 [00:02<00:06,  3.13it/s, v_num=3.41e+7, train_loss_step=0.336, val_loss=0.363, train_loss_epoch=0.382]\u001b[32m [repeated 14x across cluster]\u001b[0m\n",
      "Epoch 16: 100%|██████████| 29/29 [00:11<00:00,  2.50it/s, v_num=3.41e+7, train_loss_step=0.576, val_loss=0.391, train_loss_epoch=0.455]\u001b[32m [repeated 5x across cluster]\u001b[0m\n",
      "Validation: |          | 0/? [00:00<?, ?it/s]\u001b[A\n",
      "Validation:   0%|          | 0/6 [00:00<?, ?it/s]\u001b[A\n",
      "Validation DataLoader 0:   0%|          | 0/6 [00:00<?, ?it/s]\u001b[A\n",
      "Validation DataLoader 0:  83%|████████▎ | 5/6 [00:01<00:00,  3.45it/s]\u001b[A\u001b[32m [repeated 7x across cluster]\u001b[0m\n",
      "Validation DataLoader 0: 100%|██████████| 6/6 [00:01<00:00,  3.65it/s]\u001b[A\n",
      "Epoch 16: 100%|██████████| 29/29 [00:13<00:00,  2.18it/s, v_num=3.41e+7, train_loss_step=0.576, val_loss=0.453, train_loss_epoch=0.455]\n",
      "Epoch 16: 100%|██████████| 29/29 [00:13<00:00,  2.15it/s, v_num=3.41e+7, train_loss_step=0.576, val_loss=0.453, train_loss_epoch=0.424]\n",
      "Epoch 17:   0%|          | 0/29 [00:00<?, ?it/s, v_num=3.41e+7, train_loss_step=0.576, val_loss=0.453, train_loss_epoch=0.424]         \n",
      "Epoch 19:  83%|████████▎ | 24/29 [00:07<00:01,  3.18it/s, v_num=3.41e+7, train_loss_step=0.306, val_loss=0.363, train_loss_epoch=0.382]\n",
      "Epoch 19:  83%|████████▎ | 24/29 [00:07<00:01,  3.18it/s, v_num=3.41e+7, train_loss_step=0.436, val_loss=0.363, train_loss_epoch=0.382]\n",
      "Epoch 17:  66%|██████▌   | 19/29 [00:06<00:03,  2.73it/s, v_num=3.41e+7, train_loss_step=0.463, val_loss=0.453, train_loss_epoch=0.424]\u001b[32m [repeated 30x across cluster]\u001b[0m\n",
      "Epoch 19:  93%|█████████▎| 27/29 [00:08<00:00,  3.19it/s, v_num=3.41e+7, train_loss_step=0.359, val_loss=0.363, train_loss_epoch=0.382]\n",
      "Epoch 19:  97%|█████████▋| 28/29 [00:08<00:00,  3.19it/s, v_num=3.41e+7, train_loss_step=0.465, val_loss=0.363, train_loss_epoch=0.382]\n",
      "Epoch 19: 100%|██████████| 29/29 [00:08<00:00,  3.27it/s, v_num=3.41e+7, train_loss_step=0.421, val_loss=0.363, train_loss_epoch=0.382]\n",
      "Validation: |          | 0/? [00:00<?, ?it/s]\u001b[A\n",
      "Validation:   0%|          | 0/6 [00:00<?, ?it/s]\u001b[A\n",
      "Validation DataLoader 0:   0%|          | 0/6 [00:00<?, ?it/s]\u001b[A\n",
      "\u001b[36m(RayTrainWorker pid=28099)\u001b[0m \n",
      "Validation DataLoader 0:  17%|█▋        | 1/6 [00:00<00:00,  5.58it/s]\u001b[A\n",
      "\u001b[36m(RayTrainWorker pid=28099)\u001b[0m \n",
      "Validation DataLoader 0:  33%|███▎      | 2/6 [00:00<00:00,  5.08it/s]\u001b[A\n",
      "\u001b[36m(RayTrainWorker pid=28099)\u001b[0m \n",
      "Validation DataLoader 0:  50%|█████     | 3/6 [00:00<00:00,  4.95it/s]\u001b[A\n",
      "\u001b[36m(RayTrainWorker pid=28099)\u001b[0m \n",
      "Validation DataLoader 0:  67%|██████▋   | 4/6 [00:00<00:00,  4.54it/s]\u001b[A\n",
      "\u001b[36m(RayTrainWorker pid=28099)\u001b[0m \n",
      "Validation DataLoader 0:  83%|████████▎ | 5/6 [00:01<00:00,  4.25it/s]\u001b[A\n",
      "\u001b[36m(RayTrainWorker pid=28099)\u001b[0m \n",
      "Validation DataLoader 0: 100%|██████████| 6/6 [00:01<00:00,  4.40it/s]\u001b[A\n",
      "Epoch 19: 100%|██████████| 29/29 [00:10<00:00,  2.82it/s, v_num=3.41e+7, train_loss_step=0.421, val_loss=0.321, train_loss_epoch=0.382]\n",
      "Epoch 19: 100%|██████████| 29/29 [00:10<00:00,  2.76it/s, v_num=3.41e+7, train_loss_step=0.421, val_loss=0.321, train_loss_epoch=0.359]\n"
     ]
    },
    {
     "name": "stderr",
     "output_type": "stream",
     "text": [
      "\u001b[36m(RayTrainWorker pid=28099)\u001b[0m Checkpoint successfully created at: Checkpoint(filesystem=local, path=/ictstr01/home/aih/serra.korkmaz/projects/saturn/hopt/hpopt_5ht1b_chembl/ray_results/TorchTrainer_2025-03-11_22-04-38/2a0ae81e/checkpoint_000019)\u001b[32m [repeated 2x across cluster]\u001b[0m\n"
     ]
    },
    {
     "name": "stdout",
     "output_type": "stream",
     "text": [
      "Epoch 19: 100%|██████████| 29/29 [00:10<00:00,  2.72it/s, v_num=3.41e+7, train_loss_step=0.421, val_loss=0.321, train_loss_epoch=0.359]\n"
     ]
    },
    {
     "name": "stderr",
     "output_type": "stream",
     "text": [
      "\u001b[36m(RayTrainWorker pid=28099)\u001b[0m `Trainer.fit` stopped: `max_epochs=20` reached.\n"
     ]
    },
    {
     "name": "stdout",
     "output_type": "stream",
     "text": [
      "\u001b[36m(RayTrainWorker pid=27866)\u001b[0m \n",
      "\u001b[36m(RayTrainWorker pid=27866)\u001b[0m \n",
      "\u001b[36m(RayTrainWorker pid=27866)\u001b[0m \n",
      "\u001b[36m(RayTrainWorker pid=27866)\u001b[0m \n",
      "\u001b[36m(RayTrainWorker pid=27866)\u001b[0m \n"
     ]
    },
    {
     "name": "stderr",
     "output_type": "stream",
     "text": [
      "2025-03-11 22:09:06,555\tWARNING experiment_state.py:206 -- Experiment state snapshotting has been triggered multiple times in the last 5.0 seconds and may become a bottleneck. A snapshot is forced if `CheckpointConfig(num_to_keep)` is set, and a trial has checkpointed >= `num_to_keep` times since the last snapshot.\n",
      "You may want to consider increasing the `CheckpointConfig(num_to_keep)` or decreasing the frequency of saving checkpoints.\n",
      "You can suppress this warning by setting the environment variable TUNE_WARN_EXCESSIVE_EXPERIMENT_CHECKPOINT_SYNC_THRESHOLD_S to a smaller value than the current threshold (5.0). Set it to 0 to completely suppress this warning.\n"
     ]
    },
    {
     "name": "stdout",
     "output_type": "stream",
     "text": [
      "\u001b[36m(RayTrainWorker pid=27866)\u001b[0m \n",
      "Epoch 17:  90%|████████▉ | 26/29 [00:09<00:01,  2.66it/s, v_num=3.41e+7, train_loss_step=0.398, val_loss=0.453, train_loss_epoch=0.424]\u001b[32m [repeated 9x across cluster]\u001b[0m\n",
      "Epoch 18:   0%|          | 0/29 [00:00<?, ?it/s, v_num=3.41e+7, train_loss_step=0.560, val_loss=0.635, train_loss_epoch=0.403]         \n",
      "Epoch 17: 100%|██████████| 29/29 [00:10<00:00,  2.76it/s, v_num=3.41e+7, train_loss_step=0.560, val_loss=0.453, train_loss_epoch=0.424]\u001b[32m [repeated 3x across cluster]\u001b[0m\n",
      "Validation: |          | 0/? [00:00<?, ?it/s]\u001b[A\n",
      "Validation:   0%|          | 0/6 [00:00<?, ?it/s]\u001b[A\n",
      "Validation DataLoader 0:   0%|          | 0/6 [00:00<?, ?it/s]\u001b[A\n",
      "Validation DataLoader 0:  83%|████████▎ | 5/6 [00:01<00:00,  3.89it/s]\u001b[A\u001b[32m [repeated 5x across cluster]\u001b[0m\n",
      "Validation DataLoader 0: 100%|██████████| 6/6 [00:01<00:00,  4.04it/s]\u001b[A\n",
      "Epoch 17: 100%|██████████| 29/29 [00:12<00:00,  2.41it/s, v_num=3.41e+7, train_loss_step=0.560, val_loss=0.635, train_loss_epoch=0.424]\n",
      "Epoch 17: 100%|██████████| 29/29 [00:12<00:00,  2.37it/s, v_num=3.41e+7, train_loss_step=0.560, val_loss=0.635, train_loss_epoch=0.403]\n",
      "Epoch 18:  55%|█████▌    | 16/29 [00:04<00:04,  3.21it/s, v_num=3.41e+7, train_loss_step=0.526, val_loss=0.635, train_loss_epoch=0.403]\u001b[32m [repeated 16x across cluster]\u001b[0m\n",
      "Epoch 18:  93%|█████████▎| 27/29 [00:08<00:00,  3.23it/s, v_num=3.41e+7, train_loss_step=0.452, val_loss=0.635, train_loss_epoch=0.403]\n",
      "Epoch 18:  97%|█████████▋| 28/29 [00:08<00:00,  3.23it/s, v_num=3.41e+7, train_loss_step=0.271, val_loss=0.635, train_loss_epoch=0.403]\n",
      "Epoch 18: 100%|██████████| 29/29 [00:08<00:00,  3.31it/s, v_num=3.41e+7, train_loss_step=0.287, val_loss=0.635, train_loss_epoch=0.403]\n",
      "Validation: |          | 0/? [00:00<?, ?it/s]\u001b[A\n",
      "\u001b[36m(RayTrainWorker pid=27866)\u001b[0m \n",
      "Validation:   0%|          | 0/6 [00:00<?, ?it/s]\u001b[A\n",
      "Validation DataLoader 0:   0%|          | 0/6 [00:00<?, ?it/s]\u001b[A\n",
      "\u001b[36m(RayTrainWorker pid=27866)\u001b[0m \n",
      "Validation DataLoader 0:  17%|█▋        | 1/6 [00:00<00:00,  5.35it/s]\u001b[A\n",
      "\u001b[36m(RayTrainWorker pid=27866)\u001b[0m \n",
      "Validation DataLoader 0:  33%|███▎      | 2/6 [00:00<00:00,  4.74it/s]\u001b[A\n",
      "\u001b[36m(RayTrainWorker pid=27866)\u001b[0m \n",
      "Validation DataLoader 0:  50%|█████     | 3/6 [00:00<00:00,  4.61it/s]\u001b[A\n",
      "\u001b[36m(RayTrainWorker pid=27866)\u001b[0m \n",
      "Validation DataLoader 0:  67%|██████▋   | 4/6 [00:00<00:00,  4.54it/s]\u001b[A\n",
      "\u001b[36m(RayTrainWorker pid=27866)\u001b[0m \n",
      "Validation DataLoader 0:  83%|████████▎ | 5/6 [00:01<00:00,  4.45it/s]\u001b[A\n",
      "\u001b[36m(RayTrainWorker pid=27866)\u001b[0m \n",
      "Validation DataLoader 0: 100%|██████████| 6/6 [00:01<00:00,  4.69it/s]\u001b[A\n",
      "Epoch 18: 100%|██████████| 29/29 [00:10<00:00,  2.88it/s, v_num=3.41e+7, train_loss_step=0.287, val_loss=0.465, train_loss_epoch=0.403]\n",
      "Epoch 18:  90%|████████▉ | 26/29 [00:08<00:00,  3.23it/s, v_num=3.41e+7, train_loss_step=0.358, val_loss=0.635, train_loss_epoch=0.403]\u001b[32m [repeated 10x across cluster]\u001b[0m\n"
     ]
    },
    {
     "name": "stderr",
     "output_type": "stream",
     "text": [
      "\u001b[36m(RayTrainWorker pid=27866)\u001b[0m Checkpoint successfully created at: Checkpoint(filesystem=local, path=/ictstr01/home/aih/serra.korkmaz/projects/saturn/hopt/hpopt_5ht1b_chembl/ray_results/TorchTrainer_2025-03-11_22-04-38/1951b44b/checkpoint_000018)\u001b[32m [repeated 2x across cluster]\u001b[0m\n",
      "2025-03-11 22:09:16,928\tWARNING experiment_state.py:206 -- Experiment state snapshotting has been triggered multiple times in the last 5.0 seconds and may become a bottleneck. A snapshot is forced if `CheckpointConfig(num_to_keep)` is set, and a trial has checkpointed >= `num_to_keep` times since the last snapshot.\n",
      "You may want to consider increasing the `CheckpointConfig(num_to_keep)` or decreasing the frequency of saving checkpoints.\n",
      "You can suppress this warning by setting the environment variable TUNE_WARN_EXCESSIVE_EXPERIMENT_CHECKPOINT_SYNC_THRESHOLD_S to a smaller value than the current threshold (5.0). Set it to 0 to completely suppress this warning.\n"
     ]
    },
    {
     "name": "stdout",
     "output_type": "stream",
     "text": [
      "Epoch 18: 100%|██████████| 29/29 [00:10<00:00,  2.83it/s, v_num=3.41e+7, train_loss_step=0.287, val_loss=0.465, train_loss_epoch=0.396]\n",
      "Epoch 19:   0%|          | 0/29 [00:00<?, ?it/s, v_num=3.41e+7, train_loss_step=0.287, val_loss=0.465, train_loss_epoch=0.396]         \n",
      "Epoch 19:  55%|█████▌    | 16/29 [00:04<00:04,  3.21it/s, v_num=3.41e+7, train_loss_step=0.312, val_loss=0.465, train_loss_epoch=0.396]\u001b[32m [repeated 16x across cluster]\u001b[0m\n",
      "Epoch 19:  93%|█████████▎| 27/29 [00:08<00:00,  3.23it/s, v_num=3.41e+7, train_loss_step=0.407, val_loss=0.465, train_loss_epoch=0.396]\n",
      "Epoch 19:  97%|█████████▋| 28/29 [00:08<00:00,  3.23it/s, v_num=3.41e+7, train_loss_step=0.490, val_loss=0.465, train_loss_epoch=0.396]\n",
      "Epoch 19: 100%|██████████| 29/29 [00:08<00:00,  3.31it/s, v_num=3.41e+7, train_loss_step=0.475, val_loss=0.465, train_loss_epoch=0.396]\n",
      "Validation: |          | 0/? [00:00<?, ?it/s]\u001b[A\n",
      "Validation:   0%|          | 0/6 [00:00<?, ?it/s]\u001b[A\n",
      "Validation DataLoader 0:   0%|          | 0/6 [00:00<?, ?it/s]\u001b[A\n",
      "\u001b[36m(RayTrainWorker pid=27866)\u001b[0m \n",
      "Validation DataLoader 0:  17%|█▋        | 1/6 [00:00<00:00,  5.32it/s]\u001b[A\n",
      "\u001b[36m(RayTrainWorker pid=27866)\u001b[0m \n",
      "Validation DataLoader 0:  33%|███▎      | 2/6 [00:00<00:00,  4.67it/s]\u001b[A\n",
      "\u001b[36m(RayTrainWorker pid=27866)\u001b[0m \n",
      "Validation DataLoader 0:  50%|█████     | 3/6 [00:00<00:00,  4.62it/s]\u001b[A\n",
      "\u001b[36m(RayTrainWorker pid=27866)\u001b[0m \n",
      "Validation DataLoader 0:  67%|██████▋   | 4/6 [00:00<00:00,  4.58it/s]\u001b[A\n",
      "\u001b[36m(RayTrainWorker pid=27866)\u001b[0m \n",
      "Validation DataLoader 0:  83%|████████▎ | 5/6 [00:01<00:00,  4.51it/s]\u001b[A\n"
     ]
    },
    {
     "name": "stderr",
     "output_type": "stream",
     "text": [
      "2025-03-11 22:09:27,295\tWARNING experiment_state.py:206 -- Experiment state snapshotting has been triggered multiple times in the last 5.0 seconds and may become a bottleneck. A snapshot is forced if `CheckpointConfig(num_to_keep)` is set, and a trial has checkpointed >= `num_to_keep` times since the last snapshot.\n",
      "You may want to consider increasing the `CheckpointConfig(num_to_keep)` or decreasing the frequency of saving checkpoints.\n",
      "You can suppress this warning by setting the environment variable TUNE_WARN_EXCESSIVE_EXPERIMENT_CHECKPOINT_SYNC_THRESHOLD_S to a smaller value than the current threshold (5.0). Set it to 0 to completely suppress this warning.\n"
     ]
    },
    {
     "name": "stdout",
     "output_type": "stream",
     "text": [
      "\u001b[36m(RayTrainWorker pid=27866)\u001b[0m \n",
      "Validation DataLoader 0: 100%|██████████| 6/6 [00:01<00:00,  4.74it/s]\u001b[A\n",
      "Epoch 19: 100%|██████████| 29/29 [00:10<00:00,  2.88it/s, v_num=3.41e+7, train_loss_step=0.475, val_loss=0.333, train_loss_epoch=0.396]\n",
      "Epoch 19:  90%|████████▉ | 26/29 [00:08<00:00,  3.22it/s, v_num=3.41e+7, train_loss_step=0.384, val_loss=0.465, train_loss_epoch=0.396]\u001b[32m [repeated 10x across cluster]\u001b[0m\n",
      "Epoch 19: 100%|██████████| 29/29 [00:10<00:00,  2.83it/s, v_num=3.41e+7, train_loss_step=0.475, val_loss=0.333, train_loss_epoch=0.378]\n"
     ]
    },
    {
     "name": "stderr",
     "output_type": "stream",
     "text": [
      "\u001b[36m(RayTrainWorker pid=27866)\u001b[0m Checkpoint successfully created at: Checkpoint(filesystem=local, path=/ictstr01/home/aih/serra.korkmaz/projects/saturn/hopt/hpopt_5ht1b_chembl/ray_results/TorchTrainer_2025-03-11_22-04-38/1951b44b/checkpoint_000019)\n",
      "\u001b[36m(RayTrainWorker pid=27866)\u001b[0m `Trainer.fit` stopped: `max_epochs=20` reached.\n"
     ]
    },
    {
     "name": "stdout",
     "output_type": "stream",
     "text": [
      "Epoch 19: 100%|██████████| 29/29 [00:10<00:00,  2.80it/s, v_num=3.41e+7, train_loss_step=0.475, val_loss=0.333, train_loss_epoch=0.378]\n"
     ]
    },
    {
     "name": "stderr",
     "output_type": "stream",
     "text": [
      "2025-03-11 22:09:28,595\tINFO tune.py:1009 -- Wrote the latest version of all result files and experiment state to '/ictstr01/home/aih/serra.korkmaz/projects/saturn/hopt/hpopt_5ht1b_chembl/ray_results/TorchTrainer_2025-03-11_22-04-38' in 0.0070s.\n",
      "2025-03-11 22:09:28,600\tINFO tune.py:1041 -- Total run time: 289.92 seconds (289.36 seconds for the tuning loop).\n"
     ]
    }
   ],
   "source": [
    "ray.init()\n",
    "\n",
    "scheduler = FIFOScheduler()\n",
    "\n",
    "# Scaling config controls the resources used by Ray\n",
    "scaling_config = ScalingConfig(\n",
    "    num_workers=1,\n",
    "    use_gpu=False, # change to True if you want to use GPU\n",
    ")\n",
    "\n",
    "# Checkpoint config controls the checkpointing behavior of Ray\n",
    "checkpoint_config = CheckpointConfig(\n",
    "    num_to_keep=1, # number of checkpoints to keep\n",
    "    checkpoint_score_attribute=\"val_loss\", # Save the checkpoint based on this metric\n",
    "    checkpoint_score_order=\"min\", # Save the checkpoint with the lowest metric value\n",
    ")\n",
    "\n",
    "run_config = RunConfig(\n",
    "    checkpoint_config=checkpoint_config,\n",
    "    storage_path=hpopt_save_dir / \"ray_results\", # directory to save the results\n",
    ")\n",
    "\n",
    "ray_trainer = TorchTrainer(\n",
    "    lambda config: train_model(\n",
    "        config, train_dset, val_dset, num_workers, scaler\n",
    "    ),\n",
    "    scaling_config=scaling_config,\n",
    "    run_config=run_config,\n",
    ")\n",
    "\n",
    "search_alg = HyperOptSearch(\n",
    "    n_initial_points=1, # number of random evaluations before tree parzen estimators\n",
    "    random_state_seed=42,\n",
    ")\n",
    "\n",
    "# OptunaSearch is another search algorithm that can be used\n",
    "# search_alg = OptunaSearch()\n",
    "\n",
    "tune_config = tune.TuneConfig(\n",
    "    metric=\"val_loss\",\n",
    "    mode=\"min\",\n",
    "    num_samples=2, # number of trials to run\n",
    "    scheduler=scheduler,\n",
    "    search_alg=search_alg,\n",
    "    trial_dirname_creator=lambda trial: str(trial.trial_id), # shorten filepaths\n",
    "\n",
    ")\n",
    "\n",
    "tuner = tune.Tuner(\n",
    "    ray_trainer,\n",
    "    param_space={\n",
    "        \"train_loop_config\": search_space,\n",
    "    },\n",
    "    tune_config=tune_config,\n",
    ")\n",
    "\n",
    "# Start the hyperparameter search\n",
    "results = tuner.fit()"
   ]
  },
  {
   "cell_type": "code",
   "execution_count": 10,
   "id": "58abd66a-7791-41d5-b392-53fce5167960",
   "metadata": {},
   "outputs": [
    {
     "data": {
      "text/plain": [
       "ResultGrid<[\n",
       "  Result(\n",
       "    metrics={'train_loss': 0.37753477692604065, 'train_loss_step': 0.47536128759384155, 'val/rmse': 0.5768219828605652, 'val/mae': 0.4369758665561676, 'val_loss': 0.33272358775138855, 'train_loss_epoch': 0.37753477692604065, 'epoch': 19, 'step': 580},\n",
       "    path='/ictstr01/home/aih/serra.korkmaz/projects/saturn/hopt/hpopt_5ht1b_chembl/ray_results/TorchTrainer_2025-03-11_22-04-38/1951b44b',\n",
       "    filesystem='local',\n",
       "    checkpoint=Checkpoint(filesystem=local, path=/ictstr01/home/aih/serra.korkmaz/projects/saturn/hopt/hpopt_5ht1b_chembl/ray_results/TorchTrainer_2025-03-11_22-04-38/1951b44b/checkpoint_000019)\n",
       "  ),\n",
       "  Result(\n",
       "    metrics={'train_loss': 0.35938483476638794, 'train_loss_step': 0.4209131598472595, 'val/rmse': 0.5664517879486084, 'val/mae': 0.4320515990257263, 'val_loss': 0.3208676278591156, 'train_loss_epoch': 0.35938483476638794, 'epoch': 19, 'step': 580},\n",
       "    path='/ictstr01/home/aih/serra.korkmaz/projects/saturn/hopt/hpopt_5ht1b_chembl/ray_results/TorchTrainer_2025-03-11_22-04-38/2a0ae81e',\n",
       "    filesystem='local',\n",
       "    checkpoint=Checkpoint(filesystem=local, path=/ictstr01/home/aih/serra.korkmaz/projects/saturn/hopt/hpopt_5ht1b_chembl/ray_results/TorchTrainer_2025-03-11_22-04-38/2a0ae81e/checkpoint_000019)\n",
       "  )\n",
       "]>"
      ]
     },
     "execution_count": 10,
     "metadata": {},
     "output_type": "execute_result"
    }
   ],
   "source": [
    "results"
   ]
  },
  {
   "cell_type": "code",
   "execution_count": 11,
   "id": "d3936aab-2566-49a1-88a7-0f0425665d3e",
   "metadata": {},
   "outputs": [
    {
     "data": {
      "text/html": [
       "<div>\n",
       "<style scoped>\n",
       "    .dataframe tbody tr th:only-of-type {\n",
       "        vertical-align: middle;\n",
       "    }\n",
       "\n",
       "    .dataframe tbody tr th {\n",
       "        vertical-align: top;\n",
       "    }\n",
       "\n",
       "    .dataframe thead th {\n",
       "        text-align: right;\n",
       "    }\n",
       "</style>\n",
       "<table border=\"1\" class=\"dataframe\">\n",
       "  <thead>\n",
       "    <tr style=\"text-align: right;\">\n",
       "      <th></th>\n",
       "      <th>train_loss</th>\n",
       "      <th>train_loss_step</th>\n",
       "      <th>val/rmse</th>\n",
       "      <th>val/mae</th>\n",
       "      <th>val_loss</th>\n",
       "      <th>train_loss_epoch</th>\n",
       "      <th>epoch</th>\n",
       "      <th>step</th>\n",
       "      <th>timestamp</th>\n",
       "      <th>checkpoint_dir_name</th>\n",
       "      <th>...</th>\n",
       "      <th>pid</th>\n",
       "      <th>hostname</th>\n",
       "      <th>node_ip</th>\n",
       "      <th>time_since_restore</th>\n",
       "      <th>iterations_since_restore</th>\n",
       "      <th>config/train_loop_config/depth</th>\n",
       "      <th>config/train_loop_config/ffn_hidden_dim</th>\n",
       "      <th>config/train_loop_config/ffn_num_layers</th>\n",
       "      <th>config/train_loop_config/message_hidden_dim</th>\n",
       "      <th>logdir</th>\n",
       "    </tr>\n",
       "  </thead>\n",
       "  <tbody>\n",
       "    <tr>\n",
       "      <th>0</th>\n",
       "      <td>0.377535</td>\n",
       "      <td>0.475361</td>\n",
       "      <td>0.576822</td>\n",
       "      <td>0.436976</td>\n",
       "      <td>0.332724</td>\n",
       "      <td>0.377535</td>\n",
       "      <td>19</td>\n",
       "      <td>580</td>\n",
       "      <td>1741727367</td>\n",
       "      <td>checkpoint_000019</td>\n",
       "      <td>...</td>\n",
       "      <td>27590</td>\n",
       "      <td>cpusrv27.scidom.de</td>\n",
       "      <td>10.233.0.37</td>\n",
       "      <td>276.938678</td>\n",
       "      <td>20</td>\n",
       "      <td>2</td>\n",
       "      <td>2000</td>\n",
       "      <td>2</td>\n",
       "      <td>500</td>\n",
       "      <td>1951b44b</td>\n",
       "    </tr>\n",
       "    <tr>\n",
       "      <th>1</th>\n",
       "      <td>0.359385</td>\n",
       "      <td>0.420913</td>\n",
       "      <td>0.566452</td>\n",
       "      <td>0.432052</td>\n",
       "      <td>0.320868</td>\n",
       "      <td>0.359385</td>\n",
       "      <td>19</td>\n",
       "      <td>580</td>\n",
       "      <td>1741727343</td>\n",
       "      <td>checkpoint_000019</td>\n",
       "      <td>...</td>\n",
       "      <td>27867</td>\n",
       "      <td>cpusrv27.scidom.de</td>\n",
       "      <td>10.233.0.37</td>\n",
       "      <td>243.204386</td>\n",
       "      <td>20</td>\n",
       "      <td>2</td>\n",
       "      <td>2200</td>\n",
       "      <td>2</td>\n",
       "      <td>400</td>\n",
       "      <td>2a0ae81e</td>\n",
       "    </tr>\n",
       "  </tbody>\n",
       "</table>\n",
       "<p>2 rows × 27 columns</p>\n",
       "</div>"
      ],
      "text/plain": [
       "   train_loss  train_loss_step  val/rmse   val/mae  val_loss  \\\n",
       "0    0.377535         0.475361  0.576822  0.436976  0.332724   \n",
       "1    0.359385         0.420913  0.566452  0.432052  0.320868   \n",
       "\n",
       "   train_loss_epoch  epoch  step   timestamp checkpoint_dir_name  ...    pid  \\\n",
       "0          0.377535     19   580  1741727367   checkpoint_000019  ...  27590   \n",
       "1          0.359385     19   580  1741727343   checkpoint_000019  ...  27867   \n",
       "\n",
       "             hostname      node_ip time_since_restore  \\\n",
       "0  cpusrv27.scidom.de  10.233.0.37         276.938678   \n",
       "1  cpusrv27.scidom.de  10.233.0.37         243.204386   \n",
       "\n",
       "  iterations_since_restore  config/train_loop_config/depth  \\\n",
       "0                       20                               2   \n",
       "1                       20                               2   \n",
       "\n",
       "   config/train_loop_config/ffn_hidden_dim  \\\n",
       "0                                     2000   \n",
       "1                                     2200   \n",
       "\n",
       "   config/train_loop_config/ffn_num_layers  \\\n",
       "0                                        2   \n",
       "1                                        2   \n",
       "\n",
       "  config/train_loop_config/message_hidden_dim    logdir  \n",
       "0                                         500  1951b44b  \n",
       "1                                         400  2a0ae81e  \n",
       "\n",
       "[2 rows x 27 columns]"
      ]
     },
     "execution_count": 11,
     "metadata": {},
     "output_type": "execute_result"
    }
   ],
   "source": [
    "result_df = results.get_dataframe()\n",
    "result_df"
   ]
  },
  {
   "cell_type": "code",
   "execution_count": 12,
   "id": "2e8dd786-358c-46cd-b69c-9e6b1f2343aa",
   "metadata": {},
   "outputs": [
    {
     "data": {
      "text/plain": [
       "{'depth': 2,\n",
       " 'ffn_hidden_dim': 2200,\n",
       " 'ffn_num_layers': 2,\n",
       " 'message_hidden_dim': 400}"
      ]
     },
     "execution_count": 12,
     "metadata": {},
     "output_type": "execute_result"
    }
   ],
   "source": [
    "# best configuration\n",
    "best_result = results.get_best_result()\n",
    "best_config = best_result.config\n",
    "best_config['train_loop_config']"
   ]
  },
  {
   "cell_type": "code",
   "execution_count": 13,
   "id": "ce9c0344-f3d8-463f-ab5e-6612385cf99e",
   "metadata": {},
   "outputs": [
    {
     "name": "stdout",
     "output_type": "stream",
     "text": [
      "Best model checkpoint path: /ictstr01/home/aih/serra.korkmaz/projects/saturn/hopt/hpopt_5ht1b_chembl/ray_results/TorchTrainer_2025-03-11_22-04-38/2a0ae81e/checkpoint_000019/checkpoint.ckpt\n"
     ]
    }
   ],
   "source": [
    "# best model checkpoint path\n",
    "best_result = results.get_best_result()\n",
    "best_checkpoint_path = Path(best_result.checkpoint.path) / \"checkpoint.ckpt\"\n",
    "print(f\"Best model checkpoint path: {best_checkpoint_path}\")"
   ]
  },
  {
   "cell_type": "code",
   "execution_count": 14,
   "id": "8c8d7370-2604-4965-93ad-ea8bdeb1eca4",
   "metadata": {},
   "outputs": [
    {
     "data": {
      "text/plain": [
       "MPNN(\n",
       "  (message_passing): BondMessagePassing(\n",
       "    (W_i): Linear(in_features=86, out_features=400, bias=False)\n",
       "    (W_h): Linear(in_features=400, out_features=400, bias=False)\n",
       "    (W_o): Linear(in_features=472, out_features=400, bias=True)\n",
       "    (dropout): Dropout(p=0.0, inplace=False)\n",
       "    (tau): ReLU()\n",
       "    (V_d_transform): Identity()\n",
       "    (graph_transform): Identity()\n",
       "  )\n",
       "  (agg): MeanAggregation()\n",
       "  (bn): BatchNorm1d(400, eps=1e-05, momentum=0.1, affine=True, track_running_stats=True)\n",
       "  (predictor): RegressionFFN(\n",
       "    (ffn): MLP(\n",
       "      (0): Sequential(\n",
       "        (0): Linear(in_features=400, out_features=2200, bias=True)\n",
       "      )\n",
       "      (1): Sequential(\n",
       "        (0): ReLU()\n",
       "        (1): Dropout(p=0.0, inplace=False)\n",
       "        (2): Linear(in_features=2200, out_features=2200, bias=True)\n",
       "      )\n",
       "      (2): Sequential(\n",
       "        (0): ReLU()\n",
       "        (1): Dropout(p=0.0, inplace=False)\n",
       "        (2): Linear(in_features=2200, out_features=1, bias=True)\n",
       "      )\n",
       "    )\n",
       "    (criterion): MSE(task_weights=[[1.0]])\n",
       "    (output_transform): UnscaleTransform()\n",
       "  )\n",
       "  (X_d_transform): Identity()\n",
       "  (metrics): ModuleList(\n",
       "    (0): RMSE(task_weights=[[1.0]])\n",
       "    (1): MAE(task_weights=[[1.0]])\n",
       "    (2): MSE(task_weights=[[1.0]])\n",
       "  )\n",
       ")"
      ]
     },
     "execution_count": 14,
     "metadata": {},
     "output_type": "execute_result"
    }
   ],
   "source": [
    "mpnn = models.MPNN.load_from_checkpoint(best_checkpoint_path)\n",
    "mpnn"
   ]
  },
  {
   "cell_type": "code",
   "execution_count": 15,
   "id": "4a8a34e4-ca47-44b9-8cf3-7f6ac5b152ea",
   "metadata": {},
   "outputs": [
    {
     "name": "stderr",
     "output_type": "stream",
     "text": [
      "GPU available: False, used: False\n",
      "TPU available: False, using: 0 TPU cores\n",
      "HPU available: False, using: 0 HPUs\n",
      "SLURM auto-requeueing enabled. Setting signal handlers.\n",
      "/home/aih/serra.korkmaz/miniconda3/envs/saturn/lib/python3.11/site-packages/lightning/pytorch/trainer/connectors/data_connector.py:425: The 'predict_dataloader' does not have many workers which may be a bottleneck. Consider increasing the value of the `num_workers` argument` to `num_workers=3` in the `DataLoader` to improve performance.\n"
     ]
    },
    {
     "name": "stdout",
     "output_type": "stream",
     "text": [
      "Predicting DataLoader 0: 100%|██████████| 4/4 [00:00<00:00,  7.02it/s]\n"
     ]
    }
   ],
   "source": [
    "import torch\n",
    "test_loader = data.build_dataloader(test_dset, shuffle=False)\n",
    "with torch.inference_mode():\n",
    "    trainer = pl.Trainer(\n",
    "        logger=None,\n",
    "        enable_progress_bar=True,\n",
    "        accelerator=\"cpu\",\n",
    "        devices=1\n",
    "    )\n",
    "    test_preds = trainer.predict(mpnn, test_loader)"
   ]
  },
  {
   "cell_type": "code",
   "execution_count": 16,
   "id": "69b84a2f-36df-415a-af1c-f7595b59b7d5",
   "metadata": {},
   "outputs": [
    {
     "data": {
      "text/html": [
       "<div>\n",
       "<style scoped>\n",
       "    .dataframe tbody tr th:only-of-type {\n",
       "        vertical-align: middle;\n",
       "    }\n",
       "\n",
       "    .dataframe tbody tr th {\n",
       "        vertical-align: top;\n",
       "    }\n",
       "\n",
       "    .dataframe thead th {\n",
       "        text-align: right;\n",
       "    }\n",
       "</style>\n",
       "<table border=\"1\" class=\"dataframe\">\n",
       "  <thead>\n",
       "    <tr style=\"text-align: right;\">\n",
       "      <th></th>\n",
       "      <th>smiles</th>\n",
       "      <th>value</th>\n",
       "      <th>preds</th>\n",
       "    </tr>\n",
       "  </thead>\n",
       "  <tbody>\n",
       "    <tr>\n",
       "      <th>0</th>\n",
       "      <td>O=C(Nc1ccc(F)cc1)C(c1ccccc1)N1CCN(c2ccncc2)CC1</td>\n",
       "      <td>9.6</td>\n",
       "      <td>7.054516</td>\n",
       "    </tr>\n",
       "    <tr>\n",
       "      <th>1</th>\n",
       "      <td>CN1CCN(c2ccc(N=c3c4c([nH]c5cc(Cl)ccc35)CCCC4)c...</td>\n",
       "      <td>10.2</td>\n",
       "      <td>8.862932</td>\n",
       "    </tr>\n",
       "    <tr>\n",
       "      <th>2</th>\n",
       "      <td>Cc1ccccc1C(CC(=O)O)NC(=O)c1cccc(-c2ccc(F)cc2)n1</td>\n",
       "      <td>6.8</td>\n",
       "      <td>9.257415</td>\n",
       "    </tr>\n",
       "    <tr>\n",
       "      <th>3</th>\n",
       "      <td>N=c1ncc(-c2nc(N3CCOCC3)nc3c2CCN3C2CCN(C=O)C2)c...</td>\n",
       "      <td>10.2</td>\n",
       "      <td>8.568460</td>\n",
       "    </tr>\n",
       "    <tr>\n",
       "      <th>4</th>\n",
       "      <td>CC1Cc2c([nH]c3ccc(F)cc23)C2(CCC(c3ccccc3)(N(C)...</td>\n",
       "      <td>9.8</td>\n",
       "      <td>8.220876</td>\n",
       "    </tr>\n",
       "    <tr>\n",
       "      <th>...</th>\n",
       "      <td>...</td>\n",
       "      <td>...</td>\n",
       "      <td>...</td>\n",
       "    </tr>\n",
       "    <tr>\n",
       "      <th>195</th>\n",
       "      <td>COC(=O)NC(C(=O)NC(Cc1ccccc1)C(O)CN(OC1CCCC1)S(...</td>\n",
       "      <td>5.5</td>\n",
       "      <td>5.068117</td>\n",
       "    </tr>\n",
       "    <tr>\n",
       "      <th>196</th>\n",
       "      <td>Cc1cc2c(cc1Cl)SC(C(=O)c1ccc(Br)cc1)=NS2(=O)=O</td>\n",
       "      <td>6.3</td>\n",
       "      <td>8.308681</td>\n",
       "    </tr>\n",
       "    <tr>\n",
       "      <th>197</th>\n",
       "      <td>COc1ccc(C(=O)OC(C=C(C)C)CC(C)C2CCC3(C)C4C(OC)C...</td>\n",
       "      <td>5.8</td>\n",
       "      <td>5.394099</td>\n",
       "    </tr>\n",
       "    <tr>\n",
       "      <th>198</th>\n",
       "      <td>Cc1nc2ccccc2nc1N1CC2CN(C(=O)c3ccccc3-c3nc[nH]n...</td>\n",
       "      <td>10.8</td>\n",
       "      <td>8.273340</td>\n",
       "    </tr>\n",
       "    <tr>\n",
       "      <th>199</th>\n",
       "      <td>CC1COc2ccccc2N1C(=O)c1cscn1</td>\n",
       "      <td>5.3</td>\n",
       "      <td>6.057926</td>\n",
       "    </tr>\n",
       "  </tbody>\n",
       "</table>\n",
       "<p>200 rows × 3 columns</p>\n",
       "</div>"
      ],
      "text/plain": [
       "                                                smiles  value     preds\n",
       "0       O=C(Nc1ccc(F)cc1)C(c1ccccc1)N1CCN(c2ccncc2)CC1    9.6  7.054516\n",
       "1    CN1CCN(c2ccc(N=c3c4c([nH]c5cc(Cl)ccc35)CCCC4)c...   10.2  8.862932\n",
       "2      Cc1ccccc1C(CC(=O)O)NC(=O)c1cccc(-c2ccc(F)cc2)n1    6.8  9.257415\n",
       "3    N=c1ncc(-c2nc(N3CCOCC3)nc3c2CCN3C2CCN(C=O)C2)c...   10.2  8.568460\n",
       "4    CC1Cc2c([nH]c3ccc(F)cc23)C2(CCC(c3ccccc3)(N(C)...    9.8  8.220876\n",
       "..                                                 ...    ...       ...\n",
       "195  COC(=O)NC(C(=O)NC(Cc1ccccc1)C(O)CN(OC1CCCC1)S(...    5.5  5.068117\n",
       "196      Cc1cc2c(cc1Cl)SC(C(=O)c1ccc(Br)cc1)=NS2(=O)=O    6.3  8.308681\n",
       "197  COc1ccc(C(=O)OC(C=C(C)C)CC(C)C2CCC3(C)C4C(OC)C...    5.8  5.394099\n",
       "198  Cc1nc2ccccc2nc1N1CC2CN(C(=O)c3ccccc3-c3nc[nH]n...   10.8  8.273340\n",
       "199                        CC1COc2ccccc2N1C(=O)c1cscn1    5.3  6.057926\n",
       "\n",
       "[200 rows x 3 columns]"
      ]
     },
     "execution_count": 16,
     "metadata": {},
     "output_type": "execute_result"
    }
   ],
   "source": [
    "import numpy as np\n",
    "test_preds = np.concatenate(test_preds, axis=0)\n",
    "df_test['preds'] = test_preds\n",
    "df_test"
   ]
  },
  {
   "cell_type": "code",
   "execution_count": null,
   "id": "3de73bcf-ab98-4b62-a767-33f347950575",
   "metadata": {},
   "outputs": [],
   "source": []
  }
 ],
 "metadata": {
  "kernelspec": {
   "display_name": "Python 3 (ipykernel)",
   "language": "python",
   "name": "python3"
  },
  "language_info": {
   "codemirror_mode": {
    "name": "ipython",
    "version": 3
   },
   "file_extension": ".py",
   "mimetype": "text/x-python",
   "name": "python",
   "nbconvert_exporter": "python",
   "pygments_lexer": "ipython3",
   "version": "3.11.8"
  }
 },
 "nbformat": 4,
 "nbformat_minor": 5
}
